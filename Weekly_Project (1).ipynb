{
  "cells": [
    {
      "cell_type": "markdown",
      "id": "5749a10a",
      "metadata": {
        "id": "5749a10a"
      },
      "source": [
        "# Weekly Project 2!"
      ]
    },
    {
      "cell_type": "markdown",
      "id": "92d44841",
      "metadata": {
        "id": "92d44841"
      },
      "source": [
        "## Introduction to Road Traffic Accidents (RTA) Dataset\n",
        "\n",
        "### Dataset Overview\n",
        "The RTA Dataset provides a detailed snapshot of road traffic accidents, capturing a range of data from accident conditions to casualty details. This dataset is essential for analyzing patterns and causes of accidents to improve road safety.\n",
        "\n",
        "### Data Characteristics\n",
        "- **Entries**: The dataset contains 12,316 entries.\n",
        "- **Features**: There are 32 features in the dataset, which include:\n",
        "  - `Time`: Time when the accident occurred.\n",
        "  - `Day_of_week`: Day of the week.\n",
        "  - `Age_band_of_driver`: Age group of the driver involved.\n",
        "  - `Sex_of_driver`: Gender of the driver.\n",
        "  - `Educational_level`: Educational level of the driver.\n",
        "  - `Type_of_vehicle`: Type of vehicle involved in the accident.\n",
        "  - `Cause_of_accident`: Reported cause of the accident.\n",
        "  - `Accident_severity`: Severity of the accident.\n",
        "- **Target Column**: `Accident_severity` is used as the target column for modeling. This feature classifies the severity of each accident.\n",
        "\n",
        "### Objective\n",
        "Students will use this dataset to apply various data visualization, modeling, and evaluation techniques learned in class. The primary goal is to build models that can accurately predict the severity of accidents and to identify the key factors that contribute to severe accidents."
      ]
    },
    {
      "cell_type": "markdown",
      "id": "177291c2",
      "metadata": {
        "id": "177291c2"
      },
      "source": [
        "## Import Libraries\n",
        "Import all the necessary libraries here. Include libraries for handling data (like pandas), visualization (like matplotlib and seaborn), and modeling (like scikit-learn)."
      ]
    },
    {
      "cell_type": "code",
      "execution_count": 254,
      "id": "2ad2bd0e",
      "metadata": {
        "id": "2ad2bd0e"
      },
      "outputs": [],
      "source": [
        "import pandas as pd\n",
        "import numpy as np\n",
        "import matplotlib.pyplot as plt\n",
        "import seaborn as sns\n",
        "import plotly.express as px\n",
        "from sklearn.pipeline import Pipeline\n",
        "from sklearn.compose import ColumnTransformer\n",
        "from sklearn.preprocessing import StandardScaler, OrdinalEncoder, label_binarize\n",
        "from sklearn.model_selection import train_test_split\n",
        "from sklearn.linear_model import LogisticRegression\n",
        "from sklearn.tree import DecisionTreeClassifier\n",
        "from sklearn.svm import SVC\n",
        "from sklearn.neighbors import KNeighborsClassifier\n",
        "from sklearn.metrics import confusion_matrix, accuracy_score, precision_score, recall_score, f1_score, roc_curve, auc"
      ]
    },
    {
      "cell_type": "markdown",
      "id": "5f236af2",
      "metadata": {
        "id": "5f236af2"
      },
      "source": [
        "## Load Data\n",
        "Load the dataset from the provided CSV file into a DataFrame."
      ]
    },
    {
      "cell_type": "code",
      "execution_count": 128,
      "id": "2d3f76e8",
      "metadata": {
        "id": "2d3f76e8"
      },
      "outputs": [],
      "source": [
        "rta_df = pd.read_csv('RTA_Dataset.csv')"
      ]
    },
    {
      "cell_type": "markdown",
      "id": "b9215c2f",
      "metadata": {
        "id": "b9215c2f"
      },
      "source": [
        "## Exploratory Data Analysis (EDA)\n",
        "Perform EDA to understand the data better. This involves several steps to summarize the main characteristics, uncover patterns, and establish relationships:\n",
        "* Find the dataset information and observe the datatypes.\n",
        "* Check the shape of the data to understand its structure.\n",
        "* View the the data with various functions to get an initial sense of the data.\n",
        "* Perform summary statistics on the dataset to grasp central tendencies and variability.\n",
        "* Check for duplicated data.\n",
        "* Check for null values.\n",
        "\n",
        "And apply more if needed!\n"
      ]
    },
    {
      "cell_type": "code",
      "execution_count": 4,
      "id": "b206f836",
      "metadata": {
        "colab": {
          "base_uri": "https://localhost:8080/"
        },
        "id": "b206f836",
        "outputId": "f9bd2f5f-95ad-4e8c-8f4f-a9ae5e900bca"
      },
      "outputs": [
        {
          "output_type": "stream",
          "name": "stdout",
          "text": [
            "<class 'pandas.core.frame.DataFrame'>\n",
            "RangeIndex: 12316 entries, 0 to 12315\n",
            "Data columns (total 32 columns):\n",
            " #   Column                       Non-Null Count  Dtype \n",
            "---  ------                       --------------  ----- \n",
            " 0   Time                         12316 non-null  object\n",
            " 1   Day_of_week                  12316 non-null  object\n",
            " 2   Age_band_of_driver           12316 non-null  object\n",
            " 3   Sex_of_driver                12316 non-null  object\n",
            " 4   Educational_level            11575 non-null  object\n",
            " 5   Vehicle_driver_relation      11737 non-null  object\n",
            " 6   Driving_experience           11487 non-null  object\n",
            " 7   Type_of_vehicle              11366 non-null  object\n",
            " 8   Owner_of_vehicle             11834 non-null  object\n",
            " 9   Service_year_of_vehicle      8388 non-null   object\n",
            " 10  Defect_of_vehicle            7889 non-null   object\n",
            " 11  Area_accident_occured        12077 non-null  object\n",
            " 12  Lanes_or_Medians             11931 non-null  object\n",
            " 13  Road_allignment              12174 non-null  object\n",
            " 14  Types_of_Junction            11429 non-null  object\n",
            " 15  Road_surface_type            12144 non-null  object\n",
            " 16  Road_surface_conditions      12316 non-null  object\n",
            " 17  Light_conditions             12316 non-null  object\n",
            " 18  Weather_conditions           12316 non-null  object\n",
            " 19  Type_of_collision            12161 non-null  object\n",
            " 20  Number_of_vehicles_involved  12316 non-null  int64 \n",
            " 21  Number_of_casualties         12316 non-null  int64 \n",
            " 22  Vehicle_movement             12008 non-null  object\n",
            " 23  Casualty_class               12316 non-null  object\n",
            " 24  Sex_of_casualty              12316 non-null  object\n",
            " 25  Age_band_of_casualty         12316 non-null  object\n",
            " 26  Casualty_severity            12316 non-null  object\n",
            " 27  Work_of_casuality            9118 non-null   object\n",
            " 28  Fitness_of_casuality         9681 non-null   object\n",
            " 29  Pedestrian_movement          12316 non-null  object\n",
            " 30  Cause_of_accident            12316 non-null  object\n",
            " 31  Accident_severity            12316 non-null  object\n",
            "dtypes: int64(2), object(30)\n",
            "memory usage: 3.0+ MB\n"
          ]
        }
      ],
      "source": [
        "rta_df.info()"
      ]
    },
    {
      "cell_type": "code",
      "source": [
        "rta_df.shape"
      ],
      "metadata": {
        "colab": {
          "base_uri": "https://localhost:8080/"
        },
        "id": "CVuKFPHFWs34",
        "outputId": "321b5731-3b4d-4ecc-9cff-abd5f4638518"
      },
      "id": "CVuKFPHFWs34",
      "execution_count": 6,
      "outputs": [
        {
          "output_type": "execute_result",
          "data": {
            "text/plain": [
              "(12316, 32)"
            ]
          },
          "metadata": {},
          "execution_count": 6
        }
      ]
    },
    {
      "cell_type": "code",
      "source": [
        "rta_df.sample(10)"
      ],
      "metadata": {
        "colab": {
          "base_uri": "https://localhost:8080/",
          "height": 516
        },
        "id": "j1FV18J3XDbY",
        "outputId": "6ad05505-00c6-4d22-bf98-b795bf832fd9"
      },
      "id": "j1FV18J3XDbY",
      "execution_count": 8,
      "outputs": [
        {
          "output_type": "execute_result",
          "data": {
            "text/plain": [
              "           Time Day_of_week Age_band_of_driver Sex_of_driver  \\\n",
              "7527   17:25:00   Wednesday            Unknown          Male   \n",
              "990    12:05:00      Friday              18-30          Male   \n",
              "4809   17:10:00     Tuesday              31-50          Male   \n",
              "11883   7:58:00      Monday              18-30          Male   \n",
              "9770   17:50:00    Saturday              18-30          Male   \n",
              "5242   18:20:00    Thursday              18-30          Male   \n",
              "10199  18:56:00      Monday           Under 18          Male   \n",
              "4613    7:15:00   Wednesday              18-30          Male   \n",
              "6686   16:10:00      Sunday              18-30          Male   \n",
              "11059   6:10:00      Friday              18-30          Male   \n",
              "\n",
              "        Educational_level Vehicle_driver_relation Driving_experience  \\\n",
              "7527    Elementary school                Employee              1-2yr   \n",
              "990    Junior high school                Employee         Above 10yr   \n",
              "4809    Elementary school                   Owner          Below 1yr   \n",
              "11883  Junior high school                Employee         Above 10yr   \n",
              "9770   Junior high school                Employee             5-10yr   \n",
              "5242   Junior high school                Employee              1-2yr   \n",
              "10199  Junior high school                Employee             5-10yr   \n",
              "4613   Junior high school                Employee              2-5yr   \n",
              "6686    Elementary school                Employee         Above 10yr   \n",
              "11059   Above high school                Employee         Above 10yr   \n",
              "\n",
              "            Type_of_vehicle Owner_of_vehicle Service_year_of_vehicle  ...  \\\n",
              "7527                  Other              NaN                     NaN  ...   \n",
              "990         Lorry (41?100Q)            Owner              Above 10yr  ...   \n",
              "4809             Motorcycle            Owner              Above 10yr  ...   \n",
              "11883      Pick up upto 10Q            Owner                     NaN  ...   \n",
              "9770       Pick up upto 10Q     Governmental                   1-2yr  ...   \n",
              "5242   Public (13?45 seats)            Owner                  2-5yrs  ...   \n",
              "10199       Lorry (41?100Q)     Governmental                 Unknown  ...   \n",
              "4613           Stationwagen            Owner                  2-5yrs  ...   \n",
              "6686        Lorry (41?100Q)     Organization                  2-5yrs  ...   \n",
              "11059   Public (> 45 seats)            Owner                 Unknown  ...   \n",
              "\n",
              "      Vehicle_movement   Casualty_class Sex_of_casualty Age_band_of_casualty  \\\n",
              "7527   Moving Backward               na              na                   na   \n",
              "990     Going straight               na              na                   na   \n",
              "4809    Going straight               na              na                   na   \n",
              "11883   Going straight        Passenger            Male                18-30   \n",
              "9770    Going straight               na              na                   na   \n",
              "5242    Going straight  Driver or rider            Male                    5   \n",
              "10199         Stopping  Driver or rider          Female                18-30   \n",
              "4613    Going straight  Driver or rider            Male                31-50   \n",
              "6686    Going straight       Pedestrian            Male                18-30   \n",
              "11059  Moving Backward               na              na                   na   \n",
              "\n",
              "      Casualty_severity Work_of_casuality Fitness_of_casuality  \\\n",
              "7527                 na             Other               Normal   \n",
              "990                  na             Other               Normal   \n",
              "4809                 na             Other               Normal   \n",
              "11883                 3     Self-employed               Normal   \n",
              "9770                 na               NaN                  NaN   \n",
              "5242                  3            Driver               Normal   \n",
              "10199                 3     Self-employed               Normal   \n",
              "4613                  3            Driver               Normal   \n",
              "6686                  2            Driver               Normal   \n",
              "11059                na     Self-employed               Normal   \n",
              "\n",
              "                                     Pedestrian_movement  \\\n",
              "7527                                    Not a Pedestrian   \n",
              "990                                     Not a Pedestrian   \n",
              "4809                                    Not a Pedestrian   \n",
              "11883                                   Not a Pedestrian   \n",
              "9770                                    Not a Pedestrian   \n",
              "5242                                    Not a Pedestrian   \n",
              "10199                                   Not a Pedestrian   \n",
              "4613                                    Not a Pedestrian   \n",
              "6686   Crossing from nearside - masked by parked or s...   \n",
              "11059                                   Not a Pedestrian   \n",
              "\n",
              "                        Cause_of_accident Accident_severity  \n",
              "7527                        No distancing     Slight Injury  \n",
              "990                    Driving carelessly     Slight Injury  \n",
              "4809            Changing lane to the left    Serious Injury  \n",
              "11883  Getting off the vehicle improperly     Slight Injury  \n",
              "9770                   Driving carelessly     Slight Injury  \n",
              "5242               No priority to vehicle     Slight Injury  \n",
              "10199                     Moving Backward     Slight Injury  \n",
              "4613                   Driving carelessly     Slight Injury  \n",
              "6686           Changing lane to the right     Slight Injury  \n",
              "11059          Changing lane to the right     Slight Injury  \n",
              "\n",
              "[10 rows x 32 columns]"
            ],
            "text/html": [
              "\n",
              "  <div id=\"df-36ff0a6b-7025-4423-a7ab-aa120181fe5c\" class=\"colab-df-container\">\n",
              "    <div>\n",
              "<style scoped>\n",
              "    .dataframe tbody tr th:only-of-type {\n",
              "        vertical-align: middle;\n",
              "    }\n",
              "\n",
              "    .dataframe tbody tr th {\n",
              "        vertical-align: top;\n",
              "    }\n",
              "\n",
              "    .dataframe thead th {\n",
              "        text-align: right;\n",
              "    }\n",
              "</style>\n",
              "<table border=\"1\" class=\"dataframe\">\n",
              "  <thead>\n",
              "    <tr style=\"text-align: right;\">\n",
              "      <th></th>\n",
              "      <th>Time</th>\n",
              "      <th>Day_of_week</th>\n",
              "      <th>Age_band_of_driver</th>\n",
              "      <th>Sex_of_driver</th>\n",
              "      <th>Educational_level</th>\n",
              "      <th>Vehicle_driver_relation</th>\n",
              "      <th>Driving_experience</th>\n",
              "      <th>Type_of_vehicle</th>\n",
              "      <th>Owner_of_vehicle</th>\n",
              "      <th>Service_year_of_vehicle</th>\n",
              "      <th>...</th>\n",
              "      <th>Vehicle_movement</th>\n",
              "      <th>Casualty_class</th>\n",
              "      <th>Sex_of_casualty</th>\n",
              "      <th>Age_band_of_casualty</th>\n",
              "      <th>Casualty_severity</th>\n",
              "      <th>Work_of_casuality</th>\n",
              "      <th>Fitness_of_casuality</th>\n",
              "      <th>Pedestrian_movement</th>\n",
              "      <th>Cause_of_accident</th>\n",
              "      <th>Accident_severity</th>\n",
              "    </tr>\n",
              "  </thead>\n",
              "  <tbody>\n",
              "    <tr>\n",
              "      <th>7527</th>\n",
              "      <td>17:25:00</td>\n",
              "      <td>Wednesday</td>\n",
              "      <td>Unknown</td>\n",
              "      <td>Male</td>\n",
              "      <td>Elementary school</td>\n",
              "      <td>Employee</td>\n",
              "      <td>1-2yr</td>\n",
              "      <td>Other</td>\n",
              "      <td>NaN</td>\n",
              "      <td>NaN</td>\n",
              "      <td>...</td>\n",
              "      <td>Moving Backward</td>\n",
              "      <td>na</td>\n",
              "      <td>na</td>\n",
              "      <td>na</td>\n",
              "      <td>na</td>\n",
              "      <td>Other</td>\n",
              "      <td>Normal</td>\n",
              "      <td>Not a Pedestrian</td>\n",
              "      <td>No distancing</td>\n",
              "      <td>Slight Injury</td>\n",
              "    </tr>\n",
              "    <tr>\n",
              "      <th>990</th>\n",
              "      <td>12:05:00</td>\n",
              "      <td>Friday</td>\n",
              "      <td>18-30</td>\n",
              "      <td>Male</td>\n",
              "      <td>Junior high school</td>\n",
              "      <td>Employee</td>\n",
              "      <td>Above 10yr</td>\n",
              "      <td>Lorry (41?100Q)</td>\n",
              "      <td>Owner</td>\n",
              "      <td>Above 10yr</td>\n",
              "      <td>...</td>\n",
              "      <td>Going straight</td>\n",
              "      <td>na</td>\n",
              "      <td>na</td>\n",
              "      <td>na</td>\n",
              "      <td>na</td>\n",
              "      <td>Other</td>\n",
              "      <td>Normal</td>\n",
              "      <td>Not a Pedestrian</td>\n",
              "      <td>Driving carelessly</td>\n",
              "      <td>Slight Injury</td>\n",
              "    </tr>\n",
              "    <tr>\n",
              "      <th>4809</th>\n",
              "      <td>17:10:00</td>\n",
              "      <td>Tuesday</td>\n",
              "      <td>31-50</td>\n",
              "      <td>Male</td>\n",
              "      <td>Elementary school</td>\n",
              "      <td>Owner</td>\n",
              "      <td>Below 1yr</td>\n",
              "      <td>Motorcycle</td>\n",
              "      <td>Owner</td>\n",
              "      <td>Above 10yr</td>\n",
              "      <td>...</td>\n",
              "      <td>Going straight</td>\n",
              "      <td>na</td>\n",
              "      <td>na</td>\n",
              "      <td>na</td>\n",
              "      <td>na</td>\n",
              "      <td>Other</td>\n",
              "      <td>Normal</td>\n",
              "      <td>Not a Pedestrian</td>\n",
              "      <td>Changing lane to the left</td>\n",
              "      <td>Serious Injury</td>\n",
              "    </tr>\n",
              "    <tr>\n",
              "      <th>11883</th>\n",
              "      <td>7:58:00</td>\n",
              "      <td>Monday</td>\n",
              "      <td>18-30</td>\n",
              "      <td>Male</td>\n",
              "      <td>Junior high school</td>\n",
              "      <td>Employee</td>\n",
              "      <td>Above 10yr</td>\n",
              "      <td>Pick up upto 10Q</td>\n",
              "      <td>Owner</td>\n",
              "      <td>NaN</td>\n",
              "      <td>...</td>\n",
              "      <td>Going straight</td>\n",
              "      <td>Passenger</td>\n",
              "      <td>Male</td>\n",
              "      <td>18-30</td>\n",
              "      <td>3</td>\n",
              "      <td>Self-employed</td>\n",
              "      <td>Normal</td>\n",
              "      <td>Not a Pedestrian</td>\n",
              "      <td>Getting off the vehicle improperly</td>\n",
              "      <td>Slight Injury</td>\n",
              "    </tr>\n",
              "    <tr>\n",
              "      <th>9770</th>\n",
              "      <td>17:50:00</td>\n",
              "      <td>Saturday</td>\n",
              "      <td>18-30</td>\n",
              "      <td>Male</td>\n",
              "      <td>Junior high school</td>\n",
              "      <td>Employee</td>\n",
              "      <td>5-10yr</td>\n",
              "      <td>Pick up upto 10Q</td>\n",
              "      <td>Governmental</td>\n",
              "      <td>1-2yr</td>\n",
              "      <td>...</td>\n",
              "      <td>Going straight</td>\n",
              "      <td>na</td>\n",
              "      <td>na</td>\n",
              "      <td>na</td>\n",
              "      <td>na</td>\n",
              "      <td>NaN</td>\n",
              "      <td>NaN</td>\n",
              "      <td>Not a Pedestrian</td>\n",
              "      <td>Driving carelessly</td>\n",
              "      <td>Slight Injury</td>\n",
              "    </tr>\n",
              "    <tr>\n",
              "      <th>5242</th>\n",
              "      <td>18:20:00</td>\n",
              "      <td>Thursday</td>\n",
              "      <td>18-30</td>\n",
              "      <td>Male</td>\n",
              "      <td>Junior high school</td>\n",
              "      <td>Employee</td>\n",
              "      <td>1-2yr</td>\n",
              "      <td>Public (13?45 seats)</td>\n",
              "      <td>Owner</td>\n",
              "      <td>2-5yrs</td>\n",
              "      <td>...</td>\n",
              "      <td>Going straight</td>\n",
              "      <td>Driver or rider</td>\n",
              "      <td>Male</td>\n",
              "      <td>5</td>\n",
              "      <td>3</td>\n",
              "      <td>Driver</td>\n",
              "      <td>Normal</td>\n",
              "      <td>Not a Pedestrian</td>\n",
              "      <td>No priority to vehicle</td>\n",
              "      <td>Slight Injury</td>\n",
              "    </tr>\n",
              "    <tr>\n",
              "      <th>10199</th>\n",
              "      <td>18:56:00</td>\n",
              "      <td>Monday</td>\n",
              "      <td>Under 18</td>\n",
              "      <td>Male</td>\n",
              "      <td>Junior high school</td>\n",
              "      <td>Employee</td>\n",
              "      <td>5-10yr</td>\n",
              "      <td>Lorry (41?100Q)</td>\n",
              "      <td>Governmental</td>\n",
              "      <td>Unknown</td>\n",
              "      <td>...</td>\n",
              "      <td>Stopping</td>\n",
              "      <td>Driver or rider</td>\n",
              "      <td>Female</td>\n",
              "      <td>18-30</td>\n",
              "      <td>3</td>\n",
              "      <td>Self-employed</td>\n",
              "      <td>Normal</td>\n",
              "      <td>Not a Pedestrian</td>\n",
              "      <td>Moving Backward</td>\n",
              "      <td>Slight Injury</td>\n",
              "    </tr>\n",
              "    <tr>\n",
              "      <th>4613</th>\n",
              "      <td>7:15:00</td>\n",
              "      <td>Wednesday</td>\n",
              "      <td>18-30</td>\n",
              "      <td>Male</td>\n",
              "      <td>Junior high school</td>\n",
              "      <td>Employee</td>\n",
              "      <td>2-5yr</td>\n",
              "      <td>Stationwagen</td>\n",
              "      <td>Owner</td>\n",
              "      <td>2-5yrs</td>\n",
              "      <td>...</td>\n",
              "      <td>Going straight</td>\n",
              "      <td>Driver or rider</td>\n",
              "      <td>Male</td>\n",
              "      <td>31-50</td>\n",
              "      <td>3</td>\n",
              "      <td>Driver</td>\n",
              "      <td>Normal</td>\n",
              "      <td>Not a Pedestrian</td>\n",
              "      <td>Driving carelessly</td>\n",
              "      <td>Slight Injury</td>\n",
              "    </tr>\n",
              "    <tr>\n",
              "      <th>6686</th>\n",
              "      <td>16:10:00</td>\n",
              "      <td>Sunday</td>\n",
              "      <td>18-30</td>\n",
              "      <td>Male</td>\n",
              "      <td>Elementary school</td>\n",
              "      <td>Employee</td>\n",
              "      <td>Above 10yr</td>\n",
              "      <td>Lorry (41?100Q)</td>\n",
              "      <td>Organization</td>\n",
              "      <td>2-5yrs</td>\n",
              "      <td>...</td>\n",
              "      <td>Going straight</td>\n",
              "      <td>Pedestrian</td>\n",
              "      <td>Male</td>\n",
              "      <td>18-30</td>\n",
              "      <td>2</td>\n",
              "      <td>Driver</td>\n",
              "      <td>Normal</td>\n",
              "      <td>Crossing from nearside - masked by parked or s...</td>\n",
              "      <td>Changing lane to the right</td>\n",
              "      <td>Slight Injury</td>\n",
              "    </tr>\n",
              "    <tr>\n",
              "      <th>11059</th>\n",
              "      <td>6:10:00</td>\n",
              "      <td>Friday</td>\n",
              "      <td>18-30</td>\n",
              "      <td>Male</td>\n",
              "      <td>Above high school</td>\n",
              "      <td>Employee</td>\n",
              "      <td>Above 10yr</td>\n",
              "      <td>Public (&gt; 45 seats)</td>\n",
              "      <td>Owner</td>\n",
              "      <td>Unknown</td>\n",
              "      <td>...</td>\n",
              "      <td>Moving Backward</td>\n",
              "      <td>na</td>\n",
              "      <td>na</td>\n",
              "      <td>na</td>\n",
              "      <td>na</td>\n",
              "      <td>Self-employed</td>\n",
              "      <td>Normal</td>\n",
              "      <td>Not a Pedestrian</td>\n",
              "      <td>Changing lane to the right</td>\n",
              "      <td>Slight Injury</td>\n",
              "    </tr>\n",
              "  </tbody>\n",
              "</table>\n",
              "<p>10 rows × 32 columns</p>\n",
              "</div>\n",
              "    <div class=\"colab-df-buttons\">\n",
              "\n",
              "  <div class=\"colab-df-container\">\n",
              "    <button class=\"colab-df-convert\" onclick=\"convertToInteractive('df-36ff0a6b-7025-4423-a7ab-aa120181fe5c')\"\n",
              "            title=\"Convert this dataframe to an interactive table.\"\n",
              "            style=\"display:none;\">\n",
              "\n",
              "  <svg xmlns=\"http://www.w3.org/2000/svg\" height=\"24px\" viewBox=\"0 -960 960 960\">\n",
              "    <path d=\"M120-120v-720h720v720H120Zm60-500h600v-160H180v160Zm220 220h160v-160H400v160Zm0 220h160v-160H400v160ZM180-400h160v-160H180v160Zm440 0h160v-160H620v160ZM180-180h160v-160H180v160Zm440 0h160v-160H620v160Z\"/>\n",
              "  </svg>\n",
              "    </button>\n",
              "\n",
              "  <style>\n",
              "    .colab-df-container {\n",
              "      display:flex;\n",
              "      gap: 12px;\n",
              "    }\n",
              "\n",
              "    .colab-df-convert {\n",
              "      background-color: #E8F0FE;\n",
              "      border: none;\n",
              "      border-radius: 50%;\n",
              "      cursor: pointer;\n",
              "      display: none;\n",
              "      fill: #1967D2;\n",
              "      height: 32px;\n",
              "      padding: 0 0 0 0;\n",
              "      width: 32px;\n",
              "    }\n",
              "\n",
              "    .colab-df-convert:hover {\n",
              "      background-color: #E2EBFA;\n",
              "      box-shadow: 0px 1px 2px rgba(60, 64, 67, 0.3), 0px 1px 3px 1px rgba(60, 64, 67, 0.15);\n",
              "      fill: #174EA6;\n",
              "    }\n",
              "\n",
              "    .colab-df-buttons div {\n",
              "      margin-bottom: 4px;\n",
              "    }\n",
              "\n",
              "    [theme=dark] .colab-df-convert {\n",
              "      background-color: #3B4455;\n",
              "      fill: #D2E3FC;\n",
              "    }\n",
              "\n",
              "    [theme=dark] .colab-df-convert:hover {\n",
              "      background-color: #434B5C;\n",
              "      box-shadow: 0px 1px 3px 1px rgba(0, 0, 0, 0.15);\n",
              "      filter: drop-shadow(0px 1px 2px rgba(0, 0, 0, 0.3));\n",
              "      fill: #FFFFFF;\n",
              "    }\n",
              "  </style>\n",
              "\n",
              "    <script>\n",
              "      const buttonEl =\n",
              "        document.querySelector('#df-36ff0a6b-7025-4423-a7ab-aa120181fe5c button.colab-df-convert');\n",
              "      buttonEl.style.display =\n",
              "        google.colab.kernel.accessAllowed ? 'block' : 'none';\n",
              "\n",
              "      async function convertToInteractive(key) {\n",
              "        const element = document.querySelector('#df-36ff0a6b-7025-4423-a7ab-aa120181fe5c');\n",
              "        const dataTable =\n",
              "          await google.colab.kernel.invokeFunction('convertToInteractive',\n",
              "                                                    [key], {});\n",
              "        if (!dataTable) return;\n",
              "\n",
              "        const docLinkHtml = 'Like what you see? Visit the ' +\n",
              "          '<a target=\"_blank\" href=https://colab.research.google.com/notebooks/data_table.ipynb>data table notebook</a>'\n",
              "          + ' to learn more about interactive tables.';\n",
              "        element.innerHTML = '';\n",
              "        dataTable['output_type'] = 'display_data';\n",
              "        await google.colab.output.renderOutput(dataTable, element);\n",
              "        const docLink = document.createElement('div');\n",
              "        docLink.innerHTML = docLinkHtml;\n",
              "        element.appendChild(docLink);\n",
              "      }\n",
              "    </script>\n",
              "  </div>\n",
              "\n",
              "\n",
              "<div id=\"df-86c81b41-c3b2-4e01-914f-4a0f2d3bb930\">\n",
              "  <button class=\"colab-df-quickchart\" onclick=\"quickchart('df-86c81b41-c3b2-4e01-914f-4a0f2d3bb930')\"\n",
              "            title=\"Suggest charts\"\n",
              "            style=\"display:none;\">\n",
              "\n",
              "<svg xmlns=\"http://www.w3.org/2000/svg\" height=\"24px\"viewBox=\"0 0 24 24\"\n",
              "     width=\"24px\">\n",
              "    <g>\n",
              "        <path d=\"M19 3H5c-1.1 0-2 .9-2 2v14c0 1.1.9 2 2 2h14c1.1 0 2-.9 2-2V5c0-1.1-.9-2-2-2zM9 17H7v-7h2v7zm4 0h-2V7h2v10zm4 0h-2v-4h2v4z\"/>\n",
              "    </g>\n",
              "</svg>\n",
              "  </button>\n",
              "\n",
              "<style>\n",
              "  .colab-df-quickchart {\n",
              "      --bg-color: #E8F0FE;\n",
              "      --fill-color: #1967D2;\n",
              "      --hover-bg-color: #E2EBFA;\n",
              "      --hover-fill-color: #174EA6;\n",
              "      --disabled-fill-color: #AAA;\n",
              "      --disabled-bg-color: #DDD;\n",
              "  }\n",
              "\n",
              "  [theme=dark] .colab-df-quickchart {\n",
              "      --bg-color: #3B4455;\n",
              "      --fill-color: #D2E3FC;\n",
              "      --hover-bg-color: #434B5C;\n",
              "      --hover-fill-color: #FFFFFF;\n",
              "      --disabled-bg-color: #3B4455;\n",
              "      --disabled-fill-color: #666;\n",
              "  }\n",
              "\n",
              "  .colab-df-quickchart {\n",
              "    background-color: var(--bg-color);\n",
              "    border: none;\n",
              "    border-radius: 50%;\n",
              "    cursor: pointer;\n",
              "    display: none;\n",
              "    fill: var(--fill-color);\n",
              "    height: 32px;\n",
              "    padding: 0;\n",
              "    width: 32px;\n",
              "  }\n",
              "\n",
              "  .colab-df-quickchart:hover {\n",
              "    background-color: var(--hover-bg-color);\n",
              "    box-shadow: 0 1px 2px rgba(60, 64, 67, 0.3), 0 1px 3px 1px rgba(60, 64, 67, 0.15);\n",
              "    fill: var(--button-hover-fill-color);\n",
              "  }\n",
              "\n",
              "  .colab-df-quickchart-complete:disabled,\n",
              "  .colab-df-quickchart-complete:disabled:hover {\n",
              "    background-color: var(--disabled-bg-color);\n",
              "    fill: var(--disabled-fill-color);\n",
              "    box-shadow: none;\n",
              "  }\n",
              "\n",
              "  .colab-df-spinner {\n",
              "    border: 2px solid var(--fill-color);\n",
              "    border-color: transparent;\n",
              "    border-bottom-color: var(--fill-color);\n",
              "    animation:\n",
              "      spin 1s steps(1) infinite;\n",
              "  }\n",
              "\n",
              "  @keyframes spin {\n",
              "    0% {\n",
              "      border-color: transparent;\n",
              "      border-bottom-color: var(--fill-color);\n",
              "      border-left-color: var(--fill-color);\n",
              "    }\n",
              "    20% {\n",
              "      border-color: transparent;\n",
              "      border-left-color: var(--fill-color);\n",
              "      border-top-color: var(--fill-color);\n",
              "    }\n",
              "    30% {\n",
              "      border-color: transparent;\n",
              "      border-left-color: var(--fill-color);\n",
              "      border-top-color: var(--fill-color);\n",
              "      border-right-color: var(--fill-color);\n",
              "    }\n",
              "    40% {\n",
              "      border-color: transparent;\n",
              "      border-right-color: var(--fill-color);\n",
              "      border-top-color: var(--fill-color);\n",
              "    }\n",
              "    60% {\n",
              "      border-color: transparent;\n",
              "      border-right-color: var(--fill-color);\n",
              "    }\n",
              "    80% {\n",
              "      border-color: transparent;\n",
              "      border-right-color: var(--fill-color);\n",
              "      border-bottom-color: var(--fill-color);\n",
              "    }\n",
              "    90% {\n",
              "      border-color: transparent;\n",
              "      border-bottom-color: var(--fill-color);\n",
              "    }\n",
              "  }\n",
              "</style>\n",
              "\n",
              "  <script>\n",
              "    async function quickchart(key) {\n",
              "      const quickchartButtonEl =\n",
              "        document.querySelector('#' + key + ' button');\n",
              "      quickchartButtonEl.disabled = true;  // To prevent multiple clicks.\n",
              "      quickchartButtonEl.classList.add('colab-df-spinner');\n",
              "      try {\n",
              "        const charts = await google.colab.kernel.invokeFunction(\n",
              "            'suggestCharts', [key], {});\n",
              "      } catch (error) {\n",
              "        console.error('Error during call to suggestCharts:', error);\n",
              "      }\n",
              "      quickchartButtonEl.classList.remove('colab-df-spinner');\n",
              "      quickchartButtonEl.classList.add('colab-df-quickchart-complete');\n",
              "    }\n",
              "    (() => {\n",
              "      let quickchartButtonEl =\n",
              "        document.querySelector('#df-86c81b41-c3b2-4e01-914f-4a0f2d3bb930 button');\n",
              "      quickchartButtonEl.style.display =\n",
              "        google.colab.kernel.accessAllowed ? 'block' : 'none';\n",
              "    })();\n",
              "  </script>\n",
              "</div>\n",
              "\n",
              "    </div>\n",
              "  </div>\n"
            ],
            "application/vnd.google.colaboratory.intrinsic+json": {
              "type": "dataframe"
            }
          },
          "metadata": {},
          "execution_count": 8
        }
      ]
    },
    {
      "cell_type": "code",
      "source": [
        "rta_df['Area_accident_occured'].unique()"
      ],
      "metadata": {
        "colab": {
          "base_uri": "https://localhost:8080/"
        },
        "id": "dxi4BIVyiNeS",
        "outputId": "8276eabd-c495-4e2b-d9fe-af683282942b"
      },
      "id": "dxi4BIVyiNeS",
      "execution_count": 58,
      "outputs": [
        {
          "output_type": "execute_result",
          "data": {
            "text/plain": [
              "array(['Office areas', 'Residential areas', ' Industrial areas', 'Other',\n",
              "       ' Church areas', '  Recreational areas', '  Market areas',\n",
              "       'Rural village areas', ' Outside rural areas', ' Hospital areas',\n",
              "       'School areas', 'Recreational areas', 'Unknown',\n",
              "       'Rural village areasOffice areas'], dtype=object)"
            ]
          },
          "metadata": {},
          "execution_count": 58
        }
      ]
    },
    {
      "cell_type": "code",
      "source": [
        "rta_df['Accident_severity'].unique()"
      ],
      "metadata": {
        "colab": {
          "base_uri": "https://localhost:8080/"
        },
        "id": "N0wT4YXlXkaR",
        "outputId": "6790c7e9-e03e-4c1b-f32a-d05461ebce18"
      },
      "id": "N0wT4YXlXkaR",
      "execution_count": 9,
      "outputs": [
        {
          "output_type": "execute_result",
          "data": {
            "text/plain": [
              "array(['Slight Injury', 'Serious Injury', 'Fatal injury'], dtype=object)"
            ]
          },
          "metadata": {},
          "execution_count": 9
        }
      ]
    },
    {
      "cell_type": "code",
      "source": [
        "rta_df['Educational_level'].unique()"
      ],
      "metadata": {
        "colab": {
          "base_uri": "https://localhost:8080/"
        },
        "id": "c9KQYzz_YTmX",
        "outputId": "bce20ce9-2896-4cf3-f7a4-756c741f8987"
      },
      "id": "c9KQYzz_YTmX",
      "execution_count": 17,
      "outputs": [
        {
          "output_type": "execute_result",
          "data": {
            "text/plain": [
              "array(['Above high school', 'Junior high school', nan,\n",
              "       'Elementary school', 'High school', 'Unknown', 'Illiterate',\n",
              "       'Writing & reading'], dtype=object)"
            ]
          },
          "metadata": {},
          "execution_count": 17
        }
      ]
    },
    {
      "cell_type": "code",
      "source": [
        "rta_df['Fitness_of_casuality'].unique()"
      ],
      "metadata": {
        "colab": {
          "base_uri": "https://localhost:8080/"
        },
        "id": "IH0BDMc9ZEld",
        "outputId": "c85d2bad-0b44-4373-a180-694cf14bdea0"
      },
      "id": "IH0BDMc9ZEld",
      "execution_count": 19,
      "outputs": [
        {
          "output_type": "execute_result",
          "data": {
            "text/plain": [
              "array([nan, 'Normal', 'Deaf', 'Other', 'Blind', 'NormalNormal'],\n",
              "      dtype=object)"
            ]
          },
          "metadata": {},
          "execution_count": 19
        }
      ]
    },
    {
      "cell_type": "code",
      "source": [
        "rta_df[rta_df['Fitness_of_casuality'] == 'NormalNormal'].index"
      ],
      "metadata": {
        "colab": {
          "base_uri": "https://localhost:8080/"
        },
        "id": "sdXrCm7zZMgT",
        "outputId": "47368ffc-0401-487a-e4d2-c138748c59d9"
      },
      "id": "sdXrCm7zZMgT",
      "execution_count": 22,
      "outputs": [
        {
          "output_type": "execute_result",
          "data": {
            "text/plain": [
              "Index([  606,   924,  1623,  1941,  3485,  3803,  4502,  5263,  5913,  6231,\n",
              "        6930,  7614,  7932,  8631,  9476,  9794, 10493, 11177, 11495],\n",
              "      dtype='int64')"
            ]
          },
          "metadata": {},
          "execution_count": 22
        }
      ]
    },
    {
      "cell_type": "code",
      "source": [
        "rta_df['Types_of_Junction'].unique()"
      ],
      "metadata": {
        "colab": {
          "base_uri": "https://localhost:8080/"
        },
        "id": "LYSY245abhky",
        "outputId": "5b242515-34f5-4d00-c75e-ceff1f561372"
      },
      "id": "LYSY245abhky",
      "execution_count": 30,
      "outputs": [
        {
          "output_type": "execute_result",
          "data": {
            "text/plain": [
              "array(['No junction', 'Y Shape', 'Crossing', 'O Shape', 'Other',\n",
              "       'Unknown', 'T Shape', 'X Shape', nan], dtype=object)"
            ]
          },
          "metadata": {},
          "execution_count": 30
        }
      ]
    },
    {
      "cell_type": "code",
      "source": [
        "rta_df['Defect_of_vehicle'].unique()"
      ],
      "metadata": {
        "colab": {
          "base_uri": "https://localhost:8080/"
        },
        "id": "CY_utV-Hbyv5",
        "outputId": "3864849b-0b4d-4ea9-a565-b7e46ec71c05"
      },
      "id": "CY_utV-Hbyv5",
      "execution_count": 32,
      "outputs": [
        {
          "output_type": "execute_result",
          "data": {
            "text/plain": [
              "array(['No defect', nan, '7', '5'], dtype=object)"
            ]
          },
          "metadata": {},
          "execution_count": 32
        }
      ]
    },
    {
      "cell_type": "code",
      "source": [
        "rta_df['Service_year_of_vehicle'].unique()"
      ],
      "metadata": {
        "colab": {
          "base_uri": "https://localhost:8080/"
        },
        "id": "X6IICJ6-cWzG",
        "outputId": "01c18b46-36fa-4166-c18b-6bd620b11036"
      },
      "id": "X6IICJ6-cWzG",
      "execution_count": 33,
      "outputs": [
        {
          "output_type": "execute_result",
          "data": {
            "text/plain": [
              "array(['Above 10yr', '5-10yrs', nan, '1-2yr', '2-5yrs', 'Unknown',\n",
              "       'Below 1yr'], dtype=object)"
            ]
          },
          "metadata": {},
          "execution_count": 33
        }
      ]
    },
    {
      "cell_type": "code",
      "source": [
        "rta_df['Accident_severity'].value_counts().sum()"
      ],
      "metadata": {
        "colab": {
          "base_uri": "https://localhost:8080/"
        },
        "id": "_BGUnWdUXrC0",
        "outputId": "f1b1b265-6b84-4e95-8c70-e300b3035cff"
      },
      "id": "_BGUnWdUXrC0",
      "execution_count": 11,
      "outputs": [
        {
          "output_type": "execute_result",
          "data": {
            "text/plain": [
              "12316"
            ]
          },
          "metadata": {},
          "execution_count": 11
        }
      ]
    },
    {
      "cell_type": "code",
      "source": [
        "rta_df.describe()"
      ],
      "metadata": {
        "colab": {
          "base_uri": "https://localhost:8080/",
          "height": 300
        },
        "id": "d6wKAwcZXx6a",
        "outputId": "6a72f5fe-0293-4533-bd15-38a5c346afc7"
      },
      "id": "d6wKAwcZXx6a",
      "execution_count": 12,
      "outputs": [
        {
          "output_type": "execute_result",
          "data": {
            "text/plain": [
              "       Number_of_vehicles_involved  Number_of_casualties\n",
              "count                 12316.000000          12316.000000\n",
              "mean                      2.040679              1.548149\n",
              "std                       0.688790              1.007179\n",
              "min                       1.000000              1.000000\n",
              "25%                       2.000000              1.000000\n",
              "50%                       2.000000              1.000000\n",
              "75%                       2.000000              2.000000\n",
              "max                       7.000000              8.000000"
            ],
            "text/html": [
              "\n",
              "  <div id=\"df-ed4af1a5-5ee7-48d1-a596-6f745a72dadf\" class=\"colab-df-container\">\n",
              "    <div>\n",
              "<style scoped>\n",
              "    .dataframe tbody tr th:only-of-type {\n",
              "        vertical-align: middle;\n",
              "    }\n",
              "\n",
              "    .dataframe tbody tr th {\n",
              "        vertical-align: top;\n",
              "    }\n",
              "\n",
              "    .dataframe thead th {\n",
              "        text-align: right;\n",
              "    }\n",
              "</style>\n",
              "<table border=\"1\" class=\"dataframe\">\n",
              "  <thead>\n",
              "    <tr style=\"text-align: right;\">\n",
              "      <th></th>\n",
              "      <th>Number_of_vehicles_involved</th>\n",
              "      <th>Number_of_casualties</th>\n",
              "    </tr>\n",
              "  </thead>\n",
              "  <tbody>\n",
              "    <tr>\n",
              "      <th>count</th>\n",
              "      <td>12316.000000</td>\n",
              "      <td>12316.000000</td>\n",
              "    </tr>\n",
              "    <tr>\n",
              "      <th>mean</th>\n",
              "      <td>2.040679</td>\n",
              "      <td>1.548149</td>\n",
              "    </tr>\n",
              "    <tr>\n",
              "      <th>std</th>\n",
              "      <td>0.688790</td>\n",
              "      <td>1.007179</td>\n",
              "    </tr>\n",
              "    <tr>\n",
              "      <th>min</th>\n",
              "      <td>1.000000</td>\n",
              "      <td>1.000000</td>\n",
              "    </tr>\n",
              "    <tr>\n",
              "      <th>25%</th>\n",
              "      <td>2.000000</td>\n",
              "      <td>1.000000</td>\n",
              "    </tr>\n",
              "    <tr>\n",
              "      <th>50%</th>\n",
              "      <td>2.000000</td>\n",
              "      <td>1.000000</td>\n",
              "    </tr>\n",
              "    <tr>\n",
              "      <th>75%</th>\n",
              "      <td>2.000000</td>\n",
              "      <td>2.000000</td>\n",
              "    </tr>\n",
              "    <tr>\n",
              "      <th>max</th>\n",
              "      <td>7.000000</td>\n",
              "      <td>8.000000</td>\n",
              "    </tr>\n",
              "  </tbody>\n",
              "</table>\n",
              "</div>\n",
              "    <div class=\"colab-df-buttons\">\n",
              "\n",
              "  <div class=\"colab-df-container\">\n",
              "    <button class=\"colab-df-convert\" onclick=\"convertToInteractive('df-ed4af1a5-5ee7-48d1-a596-6f745a72dadf')\"\n",
              "            title=\"Convert this dataframe to an interactive table.\"\n",
              "            style=\"display:none;\">\n",
              "\n",
              "  <svg xmlns=\"http://www.w3.org/2000/svg\" height=\"24px\" viewBox=\"0 -960 960 960\">\n",
              "    <path d=\"M120-120v-720h720v720H120Zm60-500h600v-160H180v160Zm220 220h160v-160H400v160Zm0 220h160v-160H400v160ZM180-400h160v-160H180v160Zm440 0h160v-160H620v160ZM180-180h160v-160H180v160Zm440 0h160v-160H620v160Z\"/>\n",
              "  </svg>\n",
              "    </button>\n",
              "\n",
              "  <style>\n",
              "    .colab-df-container {\n",
              "      display:flex;\n",
              "      gap: 12px;\n",
              "    }\n",
              "\n",
              "    .colab-df-convert {\n",
              "      background-color: #E8F0FE;\n",
              "      border: none;\n",
              "      border-radius: 50%;\n",
              "      cursor: pointer;\n",
              "      display: none;\n",
              "      fill: #1967D2;\n",
              "      height: 32px;\n",
              "      padding: 0 0 0 0;\n",
              "      width: 32px;\n",
              "    }\n",
              "\n",
              "    .colab-df-convert:hover {\n",
              "      background-color: #E2EBFA;\n",
              "      box-shadow: 0px 1px 2px rgba(60, 64, 67, 0.3), 0px 1px 3px 1px rgba(60, 64, 67, 0.15);\n",
              "      fill: #174EA6;\n",
              "    }\n",
              "\n",
              "    .colab-df-buttons div {\n",
              "      margin-bottom: 4px;\n",
              "    }\n",
              "\n",
              "    [theme=dark] .colab-df-convert {\n",
              "      background-color: #3B4455;\n",
              "      fill: #D2E3FC;\n",
              "    }\n",
              "\n",
              "    [theme=dark] .colab-df-convert:hover {\n",
              "      background-color: #434B5C;\n",
              "      box-shadow: 0px 1px 3px 1px rgba(0, 0, 0, 0.15);\n",
              "      filter: drop-shadow(0px 1px 2px rgba(0, 0, 0, 0.3));\n",
              "      fill: #FFFFFF;\n",
              "    }\n",
              "  </style>\n",
              "\n",
              "    <script>\n",
              "      const buttonEl =\n",
              "        document.querySelector('#df-ed4af1a5-5ee7-48d1-a596-6f745a72dadf button.colab-df-convert');\n",
              "      buttonEl.style.display =\n",
              "        google.colab.kernel.accessAllowed ? 'block' : 'none';\n",
              "\n",
              "      async function convertToInteractive(key) {\n",
              "        const element = document.querySelector('#df-ed4af1a5-5ee7-48d1-a596-6f745a72dadf');\n",
              "        const dataTable =\n",
              "          await google.colab.kernel.invokeFunction('convertToInteractive',\n",
              "                                                    [key], {});\n",
              "        if (!dataTable) return;\n",
              "\n",
              "        const docLinkHtml = 'Like what you see? Visit the ' +\n",
              "          '<a target=\"_blank\" href=https://colab.research.google.com/notebooks/data_table.ipynb>data table notebook</a>'\n",
              "          + ' to learn more about interactive tables.';\n",
              "        element.innerHTML = '';\n",
              "        dataTable['output_type'] = 'display_data';\n",
              "        await google.colab.output.renderOutput(dataTable, element);\n",
              "        const docLink = document.createElement('div');\n",
              "        docLink.innerHTML = docLinkHtml;\n",
              "        element.appendChild(docLink);\n",
              "      }\n",
              "    </script>\n",
              "  </div>\n",
              "\n",
              "\n",
              "<div id=\"df-31b87ca6-2897-4bfc-a768-ca6f6a780873\">\n",
              "  <button class=\"colab-df-quickchart\" onclick=\"quickchart('df-31b87ca6-2897-4bfc-a768-ca6f6a780873')\"\n",
              "            title=\"Suggest charts\"\n",
              "            style=\"display:none;\">\n",
              "\n",
              "<svg xmlns=\"http://www.w3.org/2000/svg\" height=\"24px\"viewBox=\"0 0 24 24\"\n",
              "     width=\"24px\">\n",
              "    <g>\n",
              "        <path d=\"M19 3H5c-1.1 0-2 .9-2 2v14c0 1.1.9 2 2 2h14c1.1 0 2-.9 2-2V5c0-1.1-.9-2-2-2zM9 17H7v-7h2v7zm4 0h-2V7h2v10zm4 0h-2v-4h2v4z\"/>\n",
              "    </g>\n",
              "</svg>\n",
              "  </button>\n",
              "\n",
              "<style>\n",
              "  .colab-df-quickchart {\n",
              "      --bg-color: #E8F0FE;\n",
              "      --fill-color: #1967D2;\n",
              "      --hover-bg-color: #E2EBFA;\n",
              "      --hover-fill-color: #174EA6;\n",
              "      --disabled-fill-color: #AAA;\n",
              "      --disabled-bg-color: #DDD;\n",
              "  }\n",
              "\n",
              "  [theme=dark] .colab-df-quickchart {\n",
              "      --bg-color: #3B4455;\n",
              "      --fill-color: #D2E3FC;\n",
              "      --hover-bg-color: #434B5C;\n",
              "      --hover-fill-color: #FFFFFF;\n",
              "      --disabled-bg-color: #3B4455;\n",
              "      --disabled-fill-color: #666;\n",
              "  }\n",
              "\n",
              "  .colab-df-quickchart {\n",
              "    background-color: var(--bg-color);\n",
              "    border: none;\n",
              "    border-radius: 50%;\n",
              "    cursor: pointer;\n",
              "    display: none;\n",
              "    fill: var(--fill-color);\n",
              "    height: 32px;\n",
              "    padding: 0;\n",
              "    width: 32px;\n",
              "  }\n",
              "\n",
              "  .colab-df-quickchart:hover {\n",
              "    background-color: var(--hover-bg-color);\n",
              "    box-shadow: 0 1px 2px rgba(60, 64, 67, 0.3), 0 1px 3px 1px rgba(60, 64, 67, 0.15);\n",
              "    fill: var(--button-hover-fill-color);\n",
              "  }\n",
              "\n",
              "  .colab-df-quickchart-complete:disabled,\n",
              "  .colab-df-quickchart-complete:disabled:hover {\n",
              "    background-color: var(--disabled-bg-color);\n",
              "    fill: var(--disabled-fill-color);\n",
              "    box-shadow: none;\n",
              "  }\n",
              "\n",
              "  .colab-df-spinner {\n",
              "    border: 2px solid var(--fill-color);\n",
              "    border-color: transparent;\n",
              "    border-bottom-color: var(--fill-color);\n",
              "    animation:\n",
              "      spin 1s steps(1) infinite;\n",
              "  }\n",
              "\n",
              "  @keyframes spin {\n",
              "    0% {\n",
              "      border-color: transparent;\n",
              "      border-bottom-color: var(--fill-color);\n",
              "      border-left-color: var(--fill-color);\n",
              "    }\n",
              "    20% {\n",
              "      border-color: transparent;\n",
              "      border-left-color: var(--fill-color);\n",
              "      border-top-color: var(--fill-color);\n",
              "    }\n",
              "    30% {\n",
              "      border-color: transparent;\n",
              "      border-left-color: var(--fill-color);\n",
              "      border-top-color: var(--fill-color);\n",
              "      border-right-color: var(--fill-color);\n",
              "    }\n",
              "    40% {\n",
              "      border-color: transparent;\n",
              "      border-right-color: var(--fill-color);\n",
              "      border-top-color: var(--fill-color);\n",
              "    }\n",
              "    60% {\n",
              "      border-color: transparent;\n",
              "      border-right-color: var(--fill-color);\n",
              "    }\n",
              "    80% {\n",
              "      border-color: transparent;\n",
              "      border-right-color: var(--fill-color);\n",
              "      border-bottom-color: var(--fill-color);\n",
              "    }\n",
              "    90% {\n",
              "      border-color: transparent;\n",
              "      border-bottom-color: var(--fill-color);\n",
              "    }\n",
              "  }\n",
              "</style>\n",
              "\n",
              "  <script>\n",
              "    async function quickchart(key) {\n",
              "      const quickchartButtonEl =\n",
              "        document.querySelector('#' + key + ' button');\n",
              "      quickchartButtonEl.disabled = true;  // To prevent multiple clicks.\n",
              "      quickchartButtonEl.classList.add('colab-df-spinner');\n",
              "      try {\n",
              "        const charts = await google.colab.kernel.invokeFunction(\n",
              "            'suggestCharts', [key], {});\n",
              "      } catch (error) {\n",
              "        console.error('Error during call to suggestCharts:', error);\n",
              "      }\n",
              "      quickchartButtonEl.classList.remove('colab-df-spinner');\n",
              "      quickchartButtonEl.classList.add('colab-df-quickchart-complete');\n",
              "    }\n",
              "    (() => {\n",
              "      let quickchartButtonEl =\n",
              "        document.querySelector('#df-31b87ca6-2897-4bfc-a768-ca6f6a780873 button');\n",
              "      quickchartButtonEl.style.display =\n",
              "        google.colab.kernel.accessAllowed ? 'block' : 'none';\n",
              "    })();\n",
              "  </script>\n",
              "</div>\n",
              "\n",
              "    </div>\n",
              "  </div>\n"
            ],
            "application/vnd.google.colaboratory.intrinsic+json": {
              "type": "dataframe",
              "summary": "{\n  \"name\": \"rta_df\",\n  \"rows\": 8,\n  \"fields\": [\n    {\n      \"column\": \"Number_of_vehicles_involved\",\n      \"properties\": {\n        \"dtype\": \"number\",\n        \"std\": 4353.519030149126,\n        \"min\": 0.6887896452620738,\n        \"max\": 12316.0,\n        \"num_unique_values\": 6,\n        \"samples\": [\n          12316.0,\n          2.0406787918155245,\n          7.0\n        ],\n        \"semantic_type\": \"\",\n        \"description\": \"\"\n      }\n    },\n    {\n      \"column\": \"Number_of_casualties\",\n      \"properties\": {\n        \"dtype\": \"number\",\n        \"std\": 4353.578549582754,\n        \"min\": 1.0,\n        \"max\": 12316.0,\n        \"num_unique_values\": 6,\n        \"samples\": [\n          12316.0,\n          1.548148749594024,\n          8.0\n        ],\n        \"semantic_type\": \"\",\n        \"description\": \"\"\n      }\n    }\n  ]\n}"
            }
          },
          "metadata": {},
          "execution_count": 12
        }
      ]
    },
    {
      "cell_type": "code",
      "source": [
        "rta_df.isnull().sum()"
      ],
      "metadata": {
        "colab": {
          "base_uri": "https://localhost:8080/",
          "height": 1000
        },
        "id": "n-MSlQy4X7Wn",
        "outputId": "bc02a55b-6c08-41be-b273-55e2a3676401"
      },
      "id": "n-MSlQy4X7Wn",
      "execution_count": 24,
      "outputs": [
        {
          "output_type": "execute_result",
          "data": {
            "text/plain": [
              "Time                              0\n",
              "Day_of_week                       0\n",
              "Age_band_of_driver                0\n",
              "Sex_of_driver                     0\n",
              "Educational_level               741\n",
              "Vehicle_driver_relation         579\n",
              "Driving_experience              829\n",
              "Type_of_vehicle                 950\n",
              "Owner_of_vehicle                482\n",
              "Service_year_of_vehicle        3928\n",
              "Defect_of_vehicle              4427\n",
              "Area_accident_occured           239\n",
              "Lanes_or_Medians                385\n",
              "Road_allignment                 142\n",
              "Types_of_Junction               887\n",
              "Road_surface_type               172\n",
              "Road_surface_conditions           0\n",
              "Light_conditions                  0\n",
              "Weather_conditions                0\n",
              "Type_of_collision               155\n",
              "Number_of_vehicles_involved       0\n",
              "Number_of_casualties              0\n",
              "Vehicle_movement                308\n",
              "Casualty_class                    0\n",
              "Sex_of_casualty                   0\n",
              "Age_band_of_casualty              0\n",
              "Casualty_severity                 0\n",
              "Work_of_casuality              3198\n",
              "Fitness_of_casuality           2635\n",
              "Pedestrian_movement               0\n",
              "Cause_of_accident                 0\n",
              "Accident_severity                 0\n",
              "dtype: int64"
            ],
            "text/html": [
              "<table border=\"1\" class=\"dataframe\">\n",
              "  <thead>\n",
              "    <tr style=\"text-align: right;\">\n",
              "      <th></th>\n",
              "      <th>0</th>\n",
              "    </tr>\n",
              "  </thead>\n",
              "  <tbody>\n",
              "    <tr>\n",
              "      <th>Time</th>\n",
              "      <td>0</td>\n",
              "    </tr>\n",
              "    <tr>\n",
              "      <th>Day_of_week</th>\n",
              "      <td>0</td>\n",
              "    </tr>\n",
              "    <tr>\n",
              "      <th>Age_band_of_driver</th>\n",
              "      <td>0</td>\n",
              "    </tr>\n",
              "    <tr>\n",
              "      <th>Sex_of_driver</th>\n",
              "      <td>0</td>\n",
              "    </tr>\n",
              "    <tr>\n",
              "      <th>Educational_level</th>\n",
              "      <td>741</td>\n",
              "    </tr>\n",
              "    <tr>\n",
              "      <th>Vehicle_driver_relation</th>\n",
              "      <td>579</td>\n",
              "    </tr>\n",
              "    <tr>\n",
              "      <th>Driving_experience</th>\n",
              "      <td>829</td>\n",
              "    </tr>\n",
              "    <tr>\n",
              "      <th>Type_of_vehicle</th>\n",
              "      <td>950</td>\n",
              "    </tr>\n",
              "    <tr>\n",
              "      <th>Owner_of_vehicle</th>\n",
              "      <td>482</td>\n",
              "    </tr>\n",
              "    <tr>\n",
              "      <th>Service_year_of_vehicle</th>\n",
              "      <td>3928</td>\n",
              "    </tr>\n",
              "    <tr>\n",
              "      <th>Defect_of_vehicle</th>\n",
              "      <td>4427</td>\n",
              "    </tr>\n",
              "    <tr>\n",
              "      <th>Area_accident_occured</th>\n",
              "      <td>239</td>\n",
              "    </tr>\n",
              "    <tr>\n",
              "      <th>Lanes_or_Medians</th>\n",
              "      <td>385</td>\n",
              "    </tr>\n",
              "    <tr>\n",
              "      <th>Road_allignment</th>\n",
              "      <td>142</td>\n",
              "    </tr>\n",
              "    <tr>\n",
              "      <th>Types_of_Junction</th>\n",
              "      <td>887</td>\n",
              "    </tr>\n",
              "    <tr>\n",
              "      <th>Road_surface_type</th>\n",
              "      <td>172</td>\n",
              "    </tr>\n",
              "    <tr>\n",
              "      <th>Road_surface_conditions</th>\n",
              "      <td>0</td>\n",
              "    </tr>\n",
              "    <tr>\n",
              "      <th>Light_conditions</th>\n",
              "      <td>0</td>\n",
              "    </tr>\n",
              "    <tr>\n",
              "      <th>Weather_conditions</th>\n",
              "      <td>0</td>\n",
              "    </tr>\n",
              "    <tr>\n",
              "      <th>Type_of_collision</th>\n",
              "      <td>155</td>\n",
              "    </tr>\n",
              "    <tr>\n",
              "      <th>Number_of_vehicles_involved</th>\n",
              "      <td>0</td>\n",
              "    </tr>\n",
              "    <tr>\n",
              "      <th>Number_of_casualties</th>\n",
              "      <td>0</td>\n",
              "    </tr>\n",
              "    <tr>\n",
              "      <th>Vehicle_movement</th>\n",
              "      <td>308</td>\n",
              "    </tr>\n",
              "    <tr>\n",
              "      <th>Casualty_class</th>\n",
              "      <td>0</td>\n",
              "    </tr>\n",
              "    <tr>\n",
              "      <th>Sex_of_casualty</th>\n",
              "      <td>0</td>\n",
              "    </tr>\n",
              "    <tr>\n",
              "      <th>Age_band_of_casualty</th>\n",
              "      <td>0</td>\n",
              "    </tr>\n",
              "    <tr>\n",
              "      <th>Casualty_severity</th>\n",
              "      <td>0</td>\n",
              "    </tr>\n",
              "    <tr>\n",
              "      <th>Work_of_casuality</th>\n",
              "      <td>3198</td>\n",
              "    </tr>\n",
              "    <tr>\n",
              "      <th>Fitness_of_casuality</th>\n",
              "      <td>2635</td>\n",
              "    </tr>\n",
              "    <tr>\n",
              "      <th>Pedestrian_movement</th>\n",
              "      <td>0</td>\n",
              "    </tr>\n",
              "    <tr>\n",
              "      <th>Cause_of_accident</th>\n",
              "      <td>0</td>\n",
              "    </tr>\n",
              "    <tr>\n",
              "      <th>Accident_severity</th>\n",
              "      <td>0</td>\n",
              "    </tr>\n",
              "  </tbody>\n",
              "</table><br><label><b>dtype:</b> int64</label>"
            ]
          },
          "metadata": {},
          "execution_count": 24
        }
      ]
    },
    {
      "cell_type": "code",
      "source": [
        "rta_df.duplicated().sum()"
      ],
      "metadata": {
        "colab": {
          "base_uri": "https://localhost:8080/"
        },
        "id": "hm3gvoNLYJvB",
        "outputId": "fc725eb1-8c6e-4ebb-d8cf-c8a937f2df5d"
      },
      "id": "hm3gvoNLYJvB",
      "execution_count": 15,
      "outputs": [
        {
          "output_type": "execute_result",
          "data": {
            "text/plain": [
              "0"
            ]
          },
          "metadata": {},
          "execution_count": 15
        }
      ]
    },
    {
      "cell_type": "markdown",
      "id": "bccfb706",
      "metadata": {
        "id": "bccfb706"
      },
      "source": [
        "## Data Preprocessing\n",
        "Data preprocessing is essential for transforming raw data into a format suitable for further analysis and modeling. Follow these steps to ensure your data is ready for predictive modeling or advanced analytics:\n",
        "- **Handling Missing Values**: Replace missing values with appropriate statistics (mean, median, mode) or use more complex imputation techniques.\n",
        "- **Normalization/Scaling**: Scale data to a small, specified range like 0 to 1, or transform it to have a mean of zero and a standard deviation of one.\n",
        "- **Label Encoding**: Convert categorical text data into model-understandable numbers where the labels are ordered.\n",
        "- **One-Hot Encoding**: Use for nominal categorical data where no ordinal relationship exists to transform the data into a binary column for each category. (Be careful not to increase the dimensionality significantly)\n",
        "- **Detection and Treatment of Outliers**: Use statistical tests, box plots, or scatter plots to identify outliers and then cap, trim, or use robust methods to reduce the effect of outliers, depending on the context.\n",
        "- **Feature Engineering**: Enhance your dataset by creating new features and transforming existing ones. This might involve combining data from different columns, applying transformations, or reducing dimensionality with techniques like PCA to improve model performance.\n",
        "\n",
        "Consider these steps as a foundation, and feel free to introduce additional preprocessing techniques as needed to address specific characteristics of your dataset."
      ]
    },
    {
      "cell_type": "code",
      "execution_count": 18,
      "id": "14c4a6fd",
      "metadata": {
        "colab": {
          "base_uri": "https://localhost:8080/",
          "height": 1000
        },
        "id": "14c4a6fd",
        "outputId": "ae255636-a5c1-47df-9058-28118913c7d1"
      },
      "outputs": [
        {
          "output_type": "execute_result",
          "data": {
            "text/plain": [
              "Time                              0\n",
              "Day_of_week                       0\n",
              "Age_band_of_driver                0\n",
              "Sex_of_driver                     0\n",
              "Educational_level               741\n",
              "Vehicle_driver_relation         579\n",
              "Driving_experience              829\n",
              "Type_of_vehicle                 950\n",
              "Owner_of_vehicle                482\n",
              "Service_year_of_vehicle        3928\n",
              "Defect_of_vehicle              4427\n",
              "Area_accident_occured           239\n",
              "Lanes_or_Medians                385\n",
              "Road_allignment                 142\n",
              "Types_of_Junction               887\n",
              "Road_surface_type               172\n",
              "Road_surface_conditions           0\n",
              "Light_conditions                  0\n",
              "Weather_conditions                0\n",
              "Type_of_collision               155\n",
              "Number_of_vehicles_involved       0\n",
              "Number_of_casualties              0\n",
              "Vehicle_movement                308\n",
              "Casualty_class                    0\n",
              "Sex_of_casualty                   0\n",
              "Age_band_of_casualty              0\n",
              "Casualty_severity                 0\n",
              "Work_of_casuality              3198\n",
              "Fitness_of_casuality           2635\n",
              "Pedestrian_movement               0\n",
              "Cause_of_accident                 0\n",
              "Accident_severity                 0\n",
              "dtype: int64"
            ],
            "text/html": [
              "<table border=\"1\" class=\"dataframe\">\n",
              "  <thead>\n",
              "    <tr style=\"text-align: right;\">\n",
              "      <th></th>\n",
              "      <th>0</th>\n",
              "    </tr>\n",
              "  </thead>\n",
              "  <tbody>\n",
              "    <tr>\n",
              "      <th>Time</th>\n",
              "      <td>0</td>\n",
              "    </tr>\n",
              "    <tr>\n",
              "      <th>Day_of_week</th>\n",
              "      <td>0</td>\n",
              "    </tr>\n",
              "    <tr>\n",
              "      <th>Age_band_of_driver</th>\n",
              "      <td>0</td>\n",
              "    </tr>\n",
              "    <tr>\n",
              "      <th>Sex_of_driver</th>\n",
              "      <td>0</td>\n",
              "    </tr>\n",
              "    <tr>\n",
              "      <th>Educational_level</th>\n",
              "      <td>741</td>\n",
              "    </tr>\n",
              "    <tr>\n",
              "      <th>Vehicle_driver_relation</th>\n",
              "      <td>579</td>\n",
              "    </tr>\n",
              "    <tr>\n",
              "      <th>Driving_experience</th>\n",
              "      <td>829</td>\n",
              "    </tr>\n",
              "    <tr>\n",
              "      <th>Type_of_vehicle</th>\n",
              "      <td>950</td>\n",
              "    </tr>\n",
              "    <tr>\n",
              "      <th>Owner_of_vehicle</th>\n",
              "      <td>482</td>\n",
              "    </tr>\n",
              "    <tr>\n",
              "      <th>Service_year_of_vehicle</th>\n",
              "      <td>3928</td>\n",
              "    </tr>\n",
              "    <tr>\n",
              "      <th>Defect_of_vehicle</th>\n",
              "      <td>4427</td>\n",
              "    </tr>\n",
              "    <tr>\n",
              "      <th>Area_accident_occured</th>\n",
              "      <td>239</td>\n",
              "    </tr>\n",
              "    <tr>\n",
              "      <th>Lanes_or_Medians</th>\n",
              "      <td>385</td>\n",
              "    </tr>\n",
              "    <tr>\n",
              "      <th>Road_allignment</th>\n",
              "      <td>142</td>\n",
              "    </tr>\n",
              "    <tr>\n",
              "      <th>Types_of_Junction</th>\n",
              "      <td>887</td>\n",
              "    </tr>\n",
              "    <tr>\n",
              "      <th>Road_surface_type</th>\n",
              "      <td>172</td>\n",
              "    </tr>\n",
              "    <tr>\n",
              "      <th>Road_surface_conditions</th>\n",
              "      <td>0</td>\n",
              "    </tr>\n",
              "    <tr>\n",
              "      <th>Light_conditions</th>\n",
              "      <td>0</td>\n",
              "    </tr>\n",
              "    <tr>\n",
              "      <th>Weather_conditions</th>\n",
              "      <td>0</td>\n",
              "    </tr>\n",
              "    <tr>\n",
              "      <th>Type_of_collision</th>\n",
              "      <td>155</td>\n",
              "    </tr>\n",
              "    <tr>\n",
              "      <th>Number_of_vehicles_involved</th>\n",
              "      <td>0</td>\n",
              "    </tr>\n",
              "    <tr>\n",
              "      <th>Number_of_casualties</th>\n",
              "      <td>0</td>\n",
              "    </tr>\n",
              "    <tr>\n",
              "      <th>Vehicle_movement</th>\n",
              "      <td>308</td>\n",
              "    </tr>\n",
              "    <tr>\n",
              "      <th>Casualty_class</th>\n",
              "      <td>0</td>\n",
              "    </tr>\n",
              "    <tr>\n",
              "      <th>Sex_of_casualty</th>\n",
              "      <td>0</td>\n",
              "    </tr>\n",
              "    <tr>\n",
              "      <th>Age_band_of_casualty</th>\n",
              "      <td>0</td>\n",
              "    </tr>\n",
              "    <tr>\n",
              "      <th>Casualty_severity</th>\n",
              "      <td>0</td>\n",
              "    </tr>\n",
              "    <tr>\n",
              "      <th>Work_of_casuality</th>\n",
              "      <td>3198</td>\n",
              "    </tr>\n",
              "    <tr>\n",
              "      <th>Fitness_of_casuality</th>\n",
              "      <td>2635</td>\n",
              "    </tr>\n",
              "    <tr>\n",
              "      <th>Pedestrian_movement</th>\n",
              "      <td>0</td>\n",
              "    </tr>\n",
              "    <tr>\n",
              "      <th>Cause_of_accident</th>\n",
              "      <td>0</td>\n",
              "    </tr>\n",
              "    <tr>\n",
              "      <th>Accident_severity</th>\n",
              "      <td>0</td>\n",
              "    </tr>\n",
              "  </tbody>\n",
              "</table><br><label><b>dtype:</b> int64</label>"
            ]
          },
          "metadata": {},
          "execution_count": 18
        }
      ],
      "source": [
        "rta_df.isnull().sum()"
      ]
    },
    {
      "cell_type": "code",
      "source": [
        "rta_df.drop(['Time', 'Day_of_week', 'Educational_level', 'Vehicle_driver_relation', 'Pedestrian_movement', 'Defect_of_vehicle', 'Sex_of_casualty', 'Owner_of_vehicle', 'Area_accident_occured', 'Fitness_of_casuality', 'Work_of_casuality'], axis=1, inplace=True)"
      ],
      "metadata": {
        "id": "pi5uqYlHdRL8"
      },
      "id": "pi5uqYlHdRL8",
      "execution_count": 129,
      "outputs": []
    },
    {
      "cell_type": "code",
      "source": [
        "rta_df['Service_year_of_vehicle'].fillna(\"Unknown\", inplace=True)"
      ],
      "metadata": {
        "id": "SeNAepHcbR2l"
      },
      "id": "SeNAepHcbR2l",
      "execution_count": 130,
      "outputs": []
    },
    {
      "cell_type": "code",
      "source": [
        "rta_df.info()"
      ],
      "metadata": {
        "colab": {
          "base_uri": "https://localhost:8080/"
        },
        "id": "lLDPPs-Demdc",
        "outputId": "bc2df499-e0ef-4153-a057-08fba44260d9"
      },
      "id": "lLDPPs-Demdc",
      "execution_count": 72,
      "outputs": [
        {
          "output_type": "stream",
          "name": "stdout",
          "text": [
            "<class 'pandas.core.frame.DataFrame'>\n",
            "Index: 10348 entries, 1 to 12315\n",
            "Data columns (total 23 columns):\n",
            " #   Column                       Non-Null Count  Dtype \n",
            "---  ------                       --------------  ----- \n",
            " 0   Age_band_of_driver           10348 non-null  object\n",
            " 1   Sex_of_driver                10348 non-null  object\n",
            " 2   Driving_experience           10348 non-null  object\n",
            " 3   Type_of_vehicle              10348 non-null  object\n",
            " 4   Service_year_of_vehicle      10348 non-null  object\n",
            " 5   Lanes_or_Medians             10348 non-null  object\n",
            " 6   Road_allignment              10348 non-null  object\n",
            " 7   Types_of_Junction            10348 non-null  object\n",
            " 8   Road_surface_type            10348 non-null  object\n",
            " 9   Road_surface_conditions      10348 non-null  object\n",
            " 10  Light_conditions             10348 non-null  object\n",
            " 11  Weather_conditions           10348 non-null  object\n",
            " 12  Type_of_collision            10348 non-null  object\n",
            " 13  Number_of_vehicles_involved  10348 non-null  int64 \n",
            " 14  Number_of_casualties         10348 non-null  int64 \n",
            " 15  Vehicle_movement             10348 non-null  object\n",
            " 16  Casualty_class               10348 non-null  object\n",
            " 17  Sex_of_casualty              10348 non-null  object\n",
            " 18  Age_band_of_casualty         10348 non-null  object\n",
            " 19  Casualty_severity            10348 non-null  object\n",
            " 20  Pedestrian_movement          10348 non-null  object\n",
            " 21  Cause_of_accident            10348 non-null  object\n",
            " 22  Accident_severity            10348 non-null  object\n",
            "dtypes: int64(2), object(21)\n",
            "memory usage: 2.1+ MB\n"
          ]
        }
      ]
    },
    {
      "cell_type": "code",
      "source": [
        "rta_df['Service_year_of_vehicle'].unique()"
      ],
      "metadata": {
        "colab": {
          "base_uri": "https://localhost:8080/"
        },
        "id": "1N3QzAr_evaV",
        "outputId": "dc5421d0-9321-47b0-dbaf-2f26249f90fc"
      },
      "id": "1N3QzAr_evaV",
      "execution_count": 36,
      "outputs": [
        {
          "output_type": "execute_result",
          "data": {
            "text/plain": [
              "array(['Above 10yr', '5-10yrs', nan, '1-2yr', '2-5yrs', 'Unknown',\n",
              "       'Below 1yr'], dtype=object)"
            ]
          },
          "metadata": {},
          "execution_count": 36
        }
      ]
    },
    {
      "cell_type": "code",
      "source": [
        "rta_df.isnull().sum()"
      ],
      "metadata": {
        "colab": {
          "base_uri": "https://localhost:8080/",
          "height": 868
        },
        "id": "nR-StF_dfhTp",
        "outputId": "ea2b68ff-d8a0-4dc5-df59-33f5072b316d"
      },
      "id": "nR-StF_dfhTp",
      "execution_count": 41,
      "outputs": [
        {
          "output_type": "execute_result",
          "data": {
            "text/plain": [
              "Age_band_of_driver               0\n",
              "Sex_of_driver                    0\n",
              "Driving_experience             829\n",
              "Type_of_vehicle                950\n",
              "Service_year_of_vehicle          0\n",
              "Defect_of_vehicle                0\n",
              "Area_accident_occured          239\n",
              "Lanes_or_Medians               385\n",
              "Road_allignment                142\n",
              "Types_of_Junction              887\n",
              "Road_surface_type              172\n",
              "Road_surface_conditions          0\n",
              "Light_conditions                 0\n",
              "Weather_conditions               0\n",
              "Type_of_collision              155\n",
              "Number_of_vehicles_involved      0\n",
              "Number_of_casualties             0\n",
              "Vehicle_movement               308\n",
              "Casualty_class                   0\n",
              "Sex_of_casualty                  0\n",
              "Age_band_of_casualty             0\n",
              "Casualty_severity                0\n",
              "Pedestrian_movement              0\n",
              "Cause_of_accident                0\n",
              "Accident_severity                0\n",
              "dtype: int64"
            ],
            "text/html": [
              "<table border=\"1\" class=\"dataframe\">\n",
              "  <thead>\n",
              "    <tr style=\"text-align: right;\">\n",
              "      <th></th>\n",
              "      <th>0</th>\n",
              "    </tr>\n",
              "  </thead>\n",
              "  <tbody>\n",
              "    <tr>\n",
              "      <th>Age_band_of_driver</th>\n",
              "      <td>0</td>\n",
              "    </tr>\n",
              "    <tr>\n",
              "      <th>Sex_of_driver</th>\n",
              "      <td>0</td>\n",
              "    </tr>\n",
              "    <tr>\n",
              "      <th>Driving_experience</th>\n",
              "      <td>829</td>\n",
              "    </tr>\n",
              "    <tr>\n",
              "      <th>Type_of_vehicle</th>\n",
              "      <td>950</td>\n",
              "    </tr>\n",
              "    <tr>\n",
              "      <th>Service_year_of_vehicle</th>\n",
              "      <td>0</td>\n",
              "    </tr>\n",
              "    <tr>\n",
              "      <th>Defect_of_vehicle</th>\n",
              "      <td>0</td>\n",
              "    </tr>\n",
              "    <tr>\n",
              "      <th>Area_accident_occured</th>\n",
              "      <td>239</td>\n",
              "    </tr>\n",
              "    <tr>\n",
              "      <th>Lanes_or_Medians</th>\n",
              "      <td>385</td>\n",
              "    </tr>\n",
              "    <tr>\n",
              "      <th>Road_allignment</th>\n",
              "      <td>142</td>\n",
              "    </tr>\n",
              "    <tr>\n",
              "      <th>Types_of_Junction</th>\n",
              "      <td>887</td>\n",
              "    </tr>\n",
              "    <tr>\n",
              "      <th>Road_surface_type</th>\n",
              "      <td>172</td>\n",
              "    </tr>\n",
              "    <tr>\n",
              "      <th>Road_surface_conditions</th>\n",
              "      <td>0</td>\n",
              "    </tr>\n",
              "    <tr>\n",
              "      <th>Light_conditions</th>\n",
              "      <td>0</td>\n",
              "    </tr>\n",
              "    <tr>\n",
              "      <th>Weather_conditions</th>\n",
              "      <td>0</td>\n",
              "    </tr>\n",
              "    <tr>\n",
              "      <th>Type_of_collision</th>\n",
              "      <td>155</td>\n",
              "    </tr>\n",
              "    <tr>\n",
              "      <th>Number_of_vehicles_involved</th>\n",
              "      <td>0</td>\n",
              "    </tr>\n",
              "    <tr>\n",
              "      <th>Number_of_casualties</th>\n",
              "      <td>0</td>\n",
              "    </tr>\n",
              "    <tr>\n",
              "      <th>Vehicle_movement</th>\n",
              "      <td>308</td>\n",
              "    </tr>\n",
              "    <tr>\n",
              "      <th>Casualty_class</th>\n",
              "      <td>0</td>\n",
              "    </tr>\n",
              "    <tr>\n",
              "      <th>Sex_of_casualty</th>\n",
              "      <td>0</td>\n",
              "    </tr>\n",
              "    <tr>\n",
              "      <th>Age_band_of_casualty</th>\n",
              "      <td>0</td>\n",
              "    </tr>\n",
              "    <tr>\n",
              "      <th>Casualty_severity</th>\n",
              "      <td>0</td>\n",
              "    </tr>\n",
              "    <tr>\n",
              "      <th>Pedestrian_movement</th>\n",
              "      <td>0</td>\n",
              "    </tr>\n",
              "    <tr>\n",
              "      <th>Cause_of_accident</th>\n",
              "      <td>0</td>\n",
              "    </tr>\n",
              "    <tr>\n",
              "      <th>Accident_severity</th>\n",
              "      <td>0</td>\n",
              "    </tr>\n",
              "  </tbody>\n",
              "</table><br><label><b>dtype:</b> int64</label>"
            ]
          },
          "metadata": {},
          "execution_count": 41
        }
      ]
    },
    {
      "cell_type": "code",
      "source": [
        "rta_df['Types_of_Junction'].fillna(\"Unknown\", inplace=True)"
      ],
      "metadata": {
        "id": "eyGSHUjFfvEf"
      },
      "id": "eyGSHUjFfvEf",
      "execution_count": 131,
      "outputs": []
    },
    {
      "cell_type": "code",
      "source": [
        "rta_df['Driving_experience'].fillna(\"unknown\", inplace=True)"
      ],
      "metadata": {
        "id": "CkieU6KPhdDY"
      },
      "id": "CkieU6KPhdDY",
      "execution_count": 132,
      "outputs": []
    },
    {
      "cell_type": "code",
      "source": [
        "rta_df.dropna(inplace=True)"
      ],
      "metadata": {
        "id": "b9dxBO6Lh9kE"
      },
      "id": "b9dxBO6Lh9kE",
      "execution_count": 133,
      "outputs": []
    },
    {
      "cell_type": "code",
      "source": [
        "rta_df.isnull().sum()"
      ],
      "metadata": {
        "colab": {
          "base_uri": "https://localhost:8080/",
          "height": 742
        },
        "id": "bbdDWussg-PF",
        "outputId": "60d14382-0420-4c03-b494-9632c7b4275b"
      },
      "id": "bbdDWussg-PF",
      "execution_count": 134,
      "outputs": [
        {
          "output_type": "execute_result",
          "data": {
            "text/plain": [
              "Age_band_of_driver             0\n",
              "Sex_of_driver                  0\n",
              "Driving_experience             0\n",
              "Type_of_vehicle                0\n",
              "Service_year_of_vehicle        0\n",
              "Lanes_or_Medians               0\n",
              "Road_allignment                0\n",
              "Types_of_Junction              0\n",
              "Road_surface_type              0\n",
              "Road_surface_conditions        0\n",
              "Light_conditions               0\n",
              "Weather_conditions             0\n",
              "Type_of_collision              0\n",
              "Number_of_vehicles_involved    0\n",
              "Number_of_casualties           0\n",
              "Vehicle_movement               0\n",
              "Casualty_class                 0\n",
              "Age_band_of_casualty           0\n",
              "Casualty_severity              0\n",
              "Cause_of_accident              0\n",
              "Accident_severity              0\n",
              "dtype: int64"
            ],
            "text/html": [
              "<table border=\"1\" class=\"dataframe\">\n",
              "  <thead>\n",
              "    <tr style=\"text-align: right;\">\n",
              "      <th></th>\n",
              "      <th>0</th>\n",
              "    </tr>\n",
              "  </thead>\n",
              "  <tbody>\n",
              "    <tr>\n",
              "      <th>Age_band_of_driver</th>\n",
              "      <td>0</td>\n",
              "    </tr>\n",
              "    <tr>\n",
              "      <th>Sex_of_driver</th>\n",
              "      <td>0</td>\n",
              "    </tr>\n",
              "    <tr>\n",
              "      <th>Driving_experience</th>\n",
              "      <td>0</td>\n",
              "    </tr>\n",
              "    <tr>\n",
              "      <th>Type_of_vehicle</th>\n",
              "      <td>0</td>\n",
              "    </tr>\n",
              "    <tr>\n",
              "      <th>Service_year_of_vehicle</th>\n",
              "      <td>0</td>\n",
              "    </tr>\n",
              "    <tr>\n",
              "      <th>Lanes_or_Medians</th>\n",
              "      <td>0</td>\n",
              "    </tr>\n",
              "    <tr>\n",
              "      <th>Road_allignment</th>\n",
              "      <td>0</td>\n",
              "    </tr>\n",
              "    <tr>\n",
              "      <th>Types_of_Junction</th>\n",
              "      <td>0</td>\n",
              "    </tr>\n",
              "    <tr>\n",
              "      <th>Road_surface_type</th>\n",
              "      <td>0</td>\n",
              "    </tr>\n",
              "    <tr>\n",
              "      <th>Road_surface_conditions</th>\n",
              "      <td>0</td>\n",
              "    </tr>\n",
              "    <tr>\n",
              "      <th>Light_conditions</th>\n",
              "      <td>0</td>\n",
              "    </tr>\n",
              "    <tr>\n",
              "      <th>Weather_conditions</th>\n",
              "      <td>0</td>\n",
              "    </tr>\n",
              "    <tr>\n",
              "      <th>Type_of_collision</th>\n",
              "      <td>0</td>\n",
              "    </tr>\n",
              "    <tr>\n",
              "      <th>Number_of_vehicles_involved</th>\n",
              "      <td>0</td>\n",
              "    </tr>\n",
              "    <tr>\n",
              "      <th>Number_of_casualties</th>\n",
              "      <td>0</td>\n",
              "    </tr>\n",
              "    <tr>\n",
              "      <th>Vehicle_movement</th>\n",
              "      <td>0</td>\n",
              "    </tr>\n",
              "    <tr>\n",
              "      <th>Casualty_class</th>\n",
              "      <td>0</td>\n",
              "    </tr>\n",
              "    <tr>\n",
              "      <th>Age_band_of_casualty</th>\n",
              "      <td>0</td>\n",
              "    </tr>\n",
              "    <tr>\n",
              "      <th>Casualty_severity</th>\n",
              "      <td>0</td>\n",
              "    </tr>\n",
              "    <tr>\n",
              "      <th>Cause_of_accident</th>\n",
              "      <td>0</td>\n",
              "    </tr>\n",
              "    <tr>\n",
              "      <th>Accident_severity</th>\n",
              "      <td>0</td>\n",
              "    </tr>\n",
              "  </tbody>\n",
              "</table><br><label><b>dtype:</b> int64</label>"
            ]
          },
          "metadata": {},
          "execution_count": 134
        }
      ]
    },
    {
      "cell_type": "code",
      "source": [
        "rta_df.info()"
      ],
      "metadata": {
        "colab": {
          "base_uri": "https://localhost:8080/"
        },
        "id": "m321P7DNiBDR",
        "outputId": "649eb926-483a-4e04-b771-f52a6db00514"
      },
      "id": "m321P7DNiBDR",
      "execution_count": 135,
      "outputs": [
        {
          "output_type": "stream",
          "name": "stdout",
          "text": [
            "<class 'pandas.core.frame.DataFrame'>\n",
            "Index: 10348 entries, 1 to 12315\n",
            "Data columns (total 21 columns):\n",
            " #   Column                       Non-Null Count  Dtype \n",
            "---  ------                       --------------  ----- \n",
            " 0   Age_band_of_driver           10348 non-null  object\n",
            " 1   Sex_of_driver                10348 non-null  object\n",
            " 2   Driving_experience           10348 non-null  object\n",
            " 3   Type_of_vehicle              10348 non-null  object\n",
            " 4   Service_year_of_vehicle      10348 non-null  object\n",
            " 5   Lanes_or_Medians             10348 non-null  object\n",
            " 6   Road_allignment              10348 non-null  object\n",
            " 7   Types_of_Junction            10348 non-null  object\n",
            " 8   Road_surface_type            10348 non-null  object\n",
            " 9   Road_surface_conditions      10348 non-null  object\n",
            " 10  Light_conditions             10348 non-null  object\n",
            " 11  Weather_conditions           10348 non-null  object\n",
            " 12  Type_of_collision            10348 non-null  object\n",
            " 13  Number_of_vehicles_involved  10348 non-null  int64 \n",
            " 14  Number_of_casualties         10348 non-null  int64 \n",
            " 15  Vehicle_movement             10348 non-null  object\n",
            " 16  Casualty_class               10348 non-null  object\n",
            " 17  Age_band_of_casualty         10348 non-null  object\n",
            " 18  Casualty_severity            10348 non-null  object\n",
            " 19  Cause_of_accident            10348 non-null  object\n",
            " 20  Accident_severity            10348 non-null  object\n",
            "dtypes: int64(2), object(19)\n",
            "memory usage: 1.7+ MB\n"
          ]
        }
      ]
    },
    {
      "cell_type": "code",
      "source": [
        "for col in rta_df.columns:\n",
        "    print(col)\n",
        "    print('\\n')\n",
        "    print(rta_df[col].unique())\n",
        "    print('\\n')"
      ],
      "metadata": {
        "colab": {
          "base_uri": "https://localhost:8080/"
        },
        "id": "8LY-6C2nil52",
        "outputId": "94ebc790-5b68-4098-c72b-019e83079044"
      },
      "id": "8LY-6C2nil52",
      "execution_count": 85,
      "outputs": [
        {
          "output_type": "stream",
          "name": "stdout",
          "text": [
            "Age_band_of_driver\n",
            "\n",
            "\n",
            "['31-50' '18-30' 'Under 18' 'Over 51']\n",
            "\n",
            "\n",
            "Sex_of_driver\n",
            "\n",
            "\n",
            "['Male' 'Female']\n",
            "\n",
            "\n",
            "Driving_experience\n",
            "\n",
            "\n",
            "['Above 10yr' '5-10yr' '2-5yr' '1-2yr' 'No Licence' 'Below 1yr' 'unknown']\n",
            "\n",
            "\n",
            "Type_of_vehicle\n",
            "\n",
            "\n",
            "['Public (> 45 seats)' 'Automobile' 'Lorry (41?100Q)'\n",
            " 'Public (13?45 seats)' 'Lorry (11?40Q)' 'Long lorry' 'Public (12 seats)'\n",
            " 'Taxi' 'Pick up upto 10Q' 'Stationwagen' 'Ridden horse' 'Other' 'Bajaj'\n",
            " 'Turbo' 'Motorcycle' 'Special vehicle' 'Bicycle']\n",
            "\n",
            "\n",
            "Service_year_of_vehicle\n",
            "\n",
            "\n",
            "['5-10yrs' 'Unknown' 'Above 10yr' '1-2yr' '2-5yrs' 'Below 1yr']\n",
            "\n",
            "\n",
            "Lanes_or_Medians\n",
            "\n",
            "\n",
            "['Undivided Two way' 'other' 'Double carriageway (median)' 'One way'\n",
            " 'Two-way (divided with solid lines road marking)'\n",
            " 'Two-way (divided with broken lines road marking)' 'Unknown']\n",
            "\n",
            "\n",
            "Road_allignment\n",
            "\n",
            "\n",
            "['Tangent road with flat terrain'\n",
            " 'Tangent road with mild grade and flat terrain' 'Escarpments'\n",
            " 'Tangent road with rolling terrain' 'Gentle horizontal curve'\n",
            " 'Tangent road with mountainous terrain and'\n",
            " 'Steep grade downward with mountainous terrain' 'Sharp reverse curve'\n",
            " 'Steep grade upward with mountainous terrain']\n",
            "\n",
            "\n",
            "Types_of_Junction\n",
            "\n",
            "\n",
            "['No junction' 'Y Shape' 'Crossing' 'O Shape' 'Other' 'Unknown' 'T Shape'\n",
            " 'X Shape']\n",
            "\n",
            "\n",
            "Road_surface_type\n",
            "\n",
            "\n",
            "['Asphalt roads' 'Earth roads' 'Gravel roads' 'Other'\n",
            " 'Asphalt roads with some distress']\n",
            "\n",
            "\n",
            "Road_surface_conditions\n",
            "\n",
            "\n",
            "['Dry' 'Wet or damp' 'Snow' 'Flood over 3cm. deep']\n",
            "\n",
            "\n",
            "Light_conditions\n",
            "\n",
            "\n",
            "['Daylight' 'Darkness - lights lit' 'Darkness - no lighting'\n",
            " 'Darkness - lights unlit']\n",
            "\n",
            "\n",
            "Weather_conditions\n",
            "\n",
            "\n",
            "['Normal' 'Raining' 'Raining and Windy' 'Cloudy' 'Other' 'Windy' 'Snow'\n",
            " 'Unknown' 'Fog or mist']\n",
            "\n",
            "\n",
            "Type_of_collision\n",
            "\n",
            "\n",
            "['Vehicle with vehicle collision'\n",
            " 'Collision with roadside-parked vehicles' 'Collision with animals'\n",
            " 'Other' 'Rollover' 'Fall from vehicles' 'Collision with pedestrians'\n",
            " 'Collision with roadside objects' 'Unknown' 'With Train']\n",
            "\n",
            "\n",
            "Number_of_vehicles_involved\n",
            "\n",
            "\n",
            "[2 1 3 6 4 7]\n",
            "\n",
            "\n",
            "Number_of_casualties\n",
            "\n",
            "\n",
            "[2 1 3 4 6 5 8 7]\n",
            "\n",
            "\n",
            "Vehicle_movement\n",
            "\n",
            "\n",
            "['Going straight' 'U-Turn' 'Turnover' 'Waiting to go' 'Moving Backward'\n",
            " 'Getting off' 'Reversing' 'Parked' 'Unknown' 'Stopping' 'Overtaking'\n",
            " 'Other' 'Entering a junction']\n",
            "\n",
            "\n",
            "Casualty_class\n",
            "\n",
            "\n",
            "['na' 'Pedestrian' 'Passenger' 'Driver or rider']\n",
            "\n",
            "\n",
            "Sex_of_casualty\n",
            "\n",
            "\n",
            "['na' 'Female' 'Male']\n",
            "\n",
            "\n",
            "Age_band_of_casualty\n",
            "\n",
            "\n",
            "['na' '18-30' 'Under 18' '31-50' 'Over 51' '5']\n",
            "\n",
            "\n",
            "Casualty_severity\n",
            "\n",
            "\n",
            "['na' '3' '2' '1']\n",
            "\n",
            "\n",
            "Cause_of_accident\n",
            "\n",
            "\n",
            "['Overtaking' 'Changing lane to the right' 'No priority to vehicle'\n",
            " 'Moving Backward' 'Changing lane to the left' 'No priority to pedestrian'\n",
            " 'No distancing' 'Getting off the vehicle improperly' 'Overloading'\n",
            " 'Other' 'Overspeed' 'Driving carelessly' 'Driving at high speed'\n",
            " 'Driving to the left' 'Unknown' 'Overturning' 'Turnover'\n",
            " 'Driving under the influence of drugs' 'Drunk driving' 'Improper parking']\n",
            "\n",
            "\n",
            "Accident_severity\n",
            "\n",
            "\n",
            "['Slight Injury' 'Serious Injury' 'Fatal injury']\n",
            "\n",
            "\n"
          ]
        }
      ]
    },
    {
      "cell_type": "code",
      "source": [
        "rta_df = rta_df[rta_df['Sex_of_driver'] != 'Unknown']"
      ],
      "metadata": {
        "id": "uvmriB8Al4CC"
      },
      "id": "uvmriB8Al4CC",
      "execution_count": 136,
      "outputs": []
    },
    {
      "cell_type": "code",
      "source": [
        "rta_df['Sex_of_driver'].unique()"
      ],
      "metadata": {
        "colab": {
          "base_uri": "https://localhost:8080/"
        },
        "id": "X3xUxtU7nS4o",
        "outputId": "10817771-afa4-4dbb-b498-bc50984e9fd5"
      },
      "id": "X3xUxtU7nS4o",
      "execution_count": 79,
      "outputs": [
        {
          "output_type": "execute_result",
          "data": {
            "text/plain": [
              "array(['Male', 'Female'], dtype=object)"
            ]
          },
          "metadata": {},
          "execution_count": 79
        }
      ]
    },
    {
      "cell_type": "code",
      "source": [
        "rta_df['Age_band_of_driver'].unique()"
      ],
      "metadata": {
        "colab": {
          "base_uri": "https://localhost:8080/"
        },
        "id": "LWR2NUZPny6i",
        "outputId": "591e156a-6ea3-45fb-d262-2c408cd60a4a"
      },
      "id": "LWR2NUZPny6i",
      "execution_count": 140,
      "outputs": [
        {
          "output_type": "execute_result",
          "data": {
            "text/plain": [
              "array(['31-50', '18-30', 'Under 18', 'Over 51', 'Unknown'], dtype=object)"
            ]
          },
          "metadata": {},
          "execution_count": 140
        }
      ]
    },
    {
      "cell_type": "code",
      "source": [
        "rta_df = rta_df[rta_df['Age_band_of_casualty'] != '5']"
      ],
      "metadata": {
        "id": "TI1mNkONpS4E"
      },
      "id": "TI1mNkONpS4E",
      "execution_count": 138,
      "outputs": []
    },
    {
      "cell_type": "code",
      "source": [
        "for col in rta_df.columns:\n",
        "    print(col)\n",
        "    print('\\n')\n",
        "    print(rta_df[col].unique())\n",
        "    print('\\n')"
      ],
      "metadata": {
        "colab": {
          "base_uri": "https://localhost:8080/"
        },
        "id": "R_RXx14TpZ2P",
        "outputId": "ad69ac1f-bb45-4da9-a326-e63d7258dbb3"
      },
      "id": "R_RXx14TpZ2P",
      "execution_count": 91,
      "outputs": [
        {
          "output_type": "stream",
          "name": "stdout",
          "text": [
            "Age_band_of_driver\n",
            "\n",
            "\n",
            "['18-30' '31-50' 'Over 51' 'Under 18']\n",
            "\n",
            "\n",
            "Sex_of_driver\n",
            "\n",
            "\n",
            "['Male' 'Female']\n",
            "\n",
            "\n",
            "Driving_experience\n",
            "\n",
            "\n",
            "['5-10yr' 'Above 10yr' '1-2yr' 'No Licence' 'Below 1yr' '2-5yr' 'unknown']\n",
            "\n",
            "\n",
            "Type_of_vehicle\n",
            "\n",
            "\n",
            "['Public (> 45 seats)' 'Lorry (41?100Q)' 'Automobile' 'Long lorry'\n",
            " 'Lorry (11?40Q)' 'Public (12 seats)' 'Taxi' 'Public (13?45 seats)'\n",
            " 'Ridden horse' 'Other' 'Pick up upto 10Q' 'Bajaj' 'Turbo' 'Stationwagen'\n",
            " 'Motorcycle' 'Special vehicle' 'Bicycle']\n",
            "\n",
            "\n",
            "Service_year_of_vehicle\n",
            "\n",
            "\n",
            "['Unknown' '1-2yr' '2-5yrs' '5-10yrs' 'Above 10yr' 'Below 1yr']\n",
            "\n",
            "\n",
            "Lanes_or_Medians\n",
            "\n",
            "\n",
            "['other' 'Undivided Two way' 'One way'\n",
            " 'Two-way (divided with broken lines road marking)'\n",
            " 'Double carriageway (median)'\n",
            " 'Two-way (divided with solid lines road marking)' 'Unknown']\n",
            "\n",
            "\n",
            "Road_allignment\n",
            "\n",
            "\n",
            "['Tangent road with mild grade and flat terrain'\n",
            " 'Tangent road with flat terrain' 'Escarpments'\n",
            " 'Tangent road with rolling terrain' 'Gentle horizontal curve'\n",
            " 'Tangent road with mountainous terrain and'\n",
            " 'Steep grade downward with mountainous terrain' 'Sharp reverse curve'\n",
            " 'Steep grade upward with mountainous terrain']\n",
            "\n",
            "\n",
            "Types_of_Junction\n",
            "\n",
            "\n",
            "['Y Shape' 'No junction' 'Crossing' 'O Shape' 'Other' 'Unknown' 'T Shape'\n",
            " 'X Shape']\n",
            "\n",
            "\n",
            "Road_surface_type\n",
            "\n",
            "\n",
            "['Earth roads' 'Asphalt roads' 'Gravel roads' 'Other'\n",
            " 'Asphalt roads with some distress']\n",
            "\n",
            "\n",
            "Road_surface_conditions\n",
            "\n",
            "\n",
            "['Dry' 'Wet or damp' 'Snow' 'Flood over 3cm. deep']\n",
            "\n",
            "\n",
            "Light_conditions\n",
            "\n",
            "\n",
            "['Darkness - lights lit' 'Daylight' 'Darkness - no lighting'\n",
            " 'Darkness - lights unlit']\n",
            "\n",
            "\n",
            "Weather_conditions\n",
            "\n",
            "\n",
            "['Normal' 'Raining' 'Raining and Windy' 'Other' 'Windy' 'Cloudy' 'Snow'\n",
            " 'Unknown' 'Fog or mist']\n",
            "\n",
            "\n",
            "Type_of_collision\n",
            "\n",
            "\n",
            "['Vehicle with vehicle collision'\n",
            " 'Collision with roadside-parked vehicles' 'Collision with animals'\n",
            " 'Other' 'Rollover' 'Fall from vehicles' 'Collision with pedestrians'\n",
            " 'Collision with roadside objects' 'Unknown' 'With Train']\n",
            "\n",
            "\n",
            "Number_of_vehicles_involved\n",
            "\n",
            "\n",
            "[2 1 3 6 4]\n",
            "\n",
            "\n",
            "Number_of_casualties\n",
            "\n",
            "\n",
            "[2 1 3 4 6 5 8 7]\n",
            "\n",
            "\n",
            "Vehicle_movement\n",
            "\n",
            "\n",
            "['Going straight' 'U-Turn' 'Moving Backward' 'Getting off' 'Reversing'\n",
            " 'Turnover' 'Unknown' 'Stopping' 'Overtaking' 'Other' 'Waiting to go'\n",
            " 'Parked' 'Entering a junction']\n",
            "\n",
            "\n",
            "Casualty_class\n",
            "\n",
            "\n",
            "['Pedestrian' 'Passenger' 'Driver or rider']\n",
            "\n",
            "\n",
            "Sex_of_casualty\n",
            "\n",
            "\n",
            "['Female' 'Male']\n",
            "\n",
            "\n",
            "Age_band_of_casualty\n",
            "\n",
            "\n",
            "['18-30' 'Under 18' '31-50' 'Over 51']\n",
            "\n",
            "\n",
            "Casualty_severity\n",
            "\n",
            "\n",
            "['3' '2' '1']\n",
            "\n",
            "\n",
            "Cause_of_accident\n",
            "\n",
            "\n",
            "['Changing lane to the right' 'Moving Backward'\n",
            " 'No priority to pedestrian' 'No distancing' 'Overtaking' 'Overloading'\n",
            " 'Other' 'Overspeed' 'No priority to vehicle' 'Changing lane to the left'\n",
            " 'Getting off the vehicle improperly' 'Driving carelessly' 'Unknown'\n",
            " 'Overturning' 'Driving to the left'\n",
            " 'Driving under the influence of drugs' 'Driving at high speed'\n",
            " 'Drunk driving' 'Turnover' 'Improper parking']\n",
            "\n",
            "\n",
            "Accident_severity\n",
            "\n",
            "\n",
            "['Slight Injury' 'Serious Injury' 'Fatal injury']\n",
            "\n",
            "\n"
          ]
        }
      ]
    },
    {
      "cell_type": "code",
      "source": [
        "rta_df.info()"
      ],
      "metadata": {
        "colab": {
          "base_uri": "https://localhost:8080/"
        },
        "id": "R1-2pk11pkte",
        "outputId": "fe47db63-4740-4ade-8e14-254fa0a82a33"
      },
      "id": "R1-2pk11pkte",
      "execution_count": 141,
      "outputs": [
        {
          "output_type": "stream",
          "name": "stdout",
          "text": [
            "<class 'pandas.core.frame.DataFrame'>\n",
            "Index: 10003 entries, 1 to 12314\n",
            "Data columns (total 21 columns):\n",
            " #   Column                       Non-Null Count  Dtype \n",
            "---  ------                       --------------  ----- \n",
            " 0   Age_band_of_driver           10003 non-null  object\n",
            " 1   Sex_of_driver                10003 non-null  object\n",
            " 2   Driving_experience           10003 non-null  object\n",
            " 3   Type_of_vehicle              10003 non-null  object\n",
            " 4   Service_year_of_vehicle      10003 non-null  object\n",
            " 5   Lanes_or_Medians             10003 non-null  object\n",
            " 6   Road_allignment              10003 non-null  object\n",
            " 7   Types_of_Junction            10003 non-null  object\n",
            " 8   Road_surface_type            10003 non-null  object\n",
            " 9   Road_surface_conditions      10003 non-null  object\n",
            " 10  Light_conditions             10003 non-null  object\n",
            " 11  Weather_conditions           10003 non-null  object\n",
            " 12  Type_of_collision            10003 non-null  object\n",
            " 13  Number_of_vehicles_involved  10003 non-null  int64 \n",
            " 14  Number_of_casualties         10003 non-null  int64 \n",
            " 15  Vehicle_movement             10003 non-null  object\n",
            " 16  Casualty_class               10003 non-null  object\n",
            " 17  Age_band_of_casualty         10003 non-null  object\n",
            " 18  Casualty_severity            10003 non-null  object\n",
            " 19  Cause_of_accident            10003 non-null  object\n",
            " 20  Accident_severity            10003 non-null  object\n",
            "dtypes: int64(2), object(19)\n",
            "memory usage: 1.7+ MB\n"
          ]
        }
      ]
    },
    {
      "cell_type": "markdown",
      "id": "292ab9c9",
      "metadata": {
        "id": "292ab9c9"
      },
      "source": [
        "## Data Visualization\n",
        "Create various plots to visualize the relationships in the data. Consider using the following to show different aspects of the data:\n",
        "\n",
        "* Heatmap of Correlation Matrix.\n",
        "* Line plots.\n",
        "* Scatter plots.\n",
        "* Histograms.\n",
        "* Boxplots.\n",
        "\n",
        "Use more if needed!"
      ]
    },
    {
      "cell_type": "code",
      "source": [
        "px.histogram(rta_df, x='Type_of_vehicle', color='Age_band_of_driver')"
      ],
      "metadata": {
        "colab": {
          "base_uri": "https://localhost:8080/",
          "height": 542
        },
        "id": "pY9esynoDV4e",
        "outputId": "29971d3a-f2e4-4ee7-e9da-2b128232b4df"
      },
      "id": "pY9esynoDV4e",
      "execution_count": 259,
      "outputs": [
        {
          "output_type": "display_data",
          "data": {
            "text/html": [
              "<html>\n",
              "<head><meta charset=\"utf-8\" /></head>\n",
              "<body>\n",
              "    <div>            <script src=\"https://cdnjs.cloudflare.com/ajax/libs/mathjax/2.7.5/MathJax.js?config=TeX-AMS-MML_SVG\"></script><script type=\"text/javascript\">if (window.MathJax && window.MathJax.Hub && window.MathJax.Hub.Config) {window.MathJax.Hub.Config({SVG: {font: \"STIX-Web\"}});}</script>                <script type=\"text/javascript\">window.PlotlyConfig = {MathJaxConfig: 'local'};</script>\n",
              "        <script charset=\"utf-8\" src=\"https://cdn.plot.ly/plotly-2.24.1.min.js\"></script>                <div id=\"ba0e9075-a56a-4a15-8910-087dfc779db9\" class=\"plotly-graph-div\" style=\"height:525px; width:100%;\"></div>            <script type=\"text/javascript\">                                    window.PLOTLYENV=window.PLOTLYENV || {};                                    if (document.getElementById(\"ba0e9075-a56a-4a15-8910-087dfc779db9\")) {                    Plotly.newPlot(                        \"ba0e9075-a56a-4a15-8910-087dfc779db9\",                        [{\"alignmentgroup\":\"True\",\"bingroup\":\"x\",\"hovertemplate\":\"Age_band_of_driver=31-50\\u003cbr\\u003eType_of_vehicle=%{x}\\u003cbr\\u003ecount=%{y}\\u003cextra\\u003e\\u003c\\u002fextra\\u003e\",\"legendgroup\":\"31-50\",\"marker\":{\"color\":\"#636efa\",\"pattern\":{\"shape\":\"\"}},\"name\":\"31-50\",\"offsetgroup\":\"31-50\",\"orientation\":\"v\",\"showlegend\":true,\"x\":[\"Public (\\u003e 45 seats)\",\"Automobile\",\"Lorry (41?100Q)\",\"Automobile\",\"Public (12 seats)\",\"Pick up upto 10Q\",\"Lorry (11?40Q)\",\"Stationwagen\",\"Ridden horse\",\"Other\",\"Automobile\",\"Stationwagen\",\"Public (\\u003e 45 seats)\",\"Public (12 seats)\",\"Automobile\",\"Public (12 seats)\",\"Automobile\",\"Automobile\",\"Automobile\",\"Bajaj\",\"Public (12 seats)\",\"Lorry (11?40Q)\",\"Lorry (41?100Q)\",\"Other\",\"Automobile\",\"Lorry (41?100Q)\",\"Long lorry\",\"Lorry (11?40Q)\",\"Other\",\"Automobile\",\"Public (12 seats)\",\"Lorry (41?100Q)\",\"Stationwagen\",\"Lorry (41?100Q)\",\"Stationwagen\",\"Public (12 seats)\",\"Automobile\",\"Lorry (11?40Q)\",\"Bajaj\",\"Automobile\",\"Public (12 seats)\",\"Automobile\",\"Pick up upto 10Q\",\"Automobile\",\"Lorry (41?100Q)\",\"Other\",\"Pick up upto 10Q\",\"Stationwagen\",\"Lorry (41?100Q)\",\"Public (13?45 seats)\",\"Automobile\",\"Lorry (11?40Q)\",\"Other\",\"Pick up upto 10Q\",\"Automobile\",\"Pick up upto 10Q\",\"Lorry (41?100Q)\",\"Lorry (41?100Q)\",\"Other\",\"Pick up upto 10Q\",\"Automobile\",\"Lorry (41?100Q)\",\"Pick up upto 10Q\",\"Lorry (41?100Q)\",\"Lorry (41?100Q)\",\"Automobile\",\"Pick up upto 10Q\",\"Automobile\",\"Automobile\",\"Public (13?45 seats)\",\"Public (12 seats)\",\"Lorry (41?100Q)\",\"Lorry (41?100Q)\",\"Automobile\",\"Lorry (41?100Q)\",\"Lorry (41?100Q)\",\"Public (13?45 seats)\",\"Automobile\",\"Other\",\"Other\",\"Lorry (41?100Q)\",\"Public (12 seats)\",\"Public (\\u003e 45 seats)\",\"Lorry (41?100Q)\",\"Pick up upto 10Q\",\"Automobile\",\"Stationwagen\",\"Other\",\"Lorry (41?100Q)\",\"Stationwagen\",\"Lorry (41?100Q)\",\"Automobile\",\"Automobile\",\"Pick up upto 10Q\",\"Taxi\",\"Public (12 seats)\",\"Other\",\"Public (\\u003e 45 seats)\",\"Other\",\"Automobile\",\"Automobile\",\"Turbo\",\"Other\",\"Automobile\",\"Automobile\",\"Pick up upto 10Q\",\"Pick up upto 10Q\",\"Stationwagen\",\"Automobile\",\"Stationwagen\",\"Lorry (41?100Q)\",\"Lorry (41?100Q)\",\"Automobile\",\"Automobile\",\"Automobile\",\"Stationwagen\",\"Other\",\"Other\",\"Public (13?45 seats)\",\"Lorry (41?100Q)\",\"Public (\\u003e 45 seats)\",\"Lorry (41?100Q)\",\"Stationwagen\",\"Stationwagen\",\"Stationwagen\",\"Lorry (41?100Q)\",\"Stationwagen\",\"Lorry (41?100Q)\",\"Public (13?45 seats)\",\"Lorry (41?100Q)\",\"Motorcycle\",\"Lorry (41?100Q)\",\"Ridden horse\",\"Automobile\",\"Lorry (41?100Q)\",\"Public (12 seats)\",\"Automobile\",\"Automobile\",\"Lorry (41?100Q)\",\"Automobile\",\"Public (12 seats)\",\"Stationwagen\",\"Automobile\",\"Automobile\",\"Automobile\",\"Automobile\",\"Other\",\"Public (12 seats)\",\"Automobile\",\"Long lorry\",\"Lorry (41?100Q)\",\"Lorry (41?100Q)\",\"Lorry (11?40Q)\",\"Taxi\",\"Other\",\"Automobile\",\"Lorry (41?100Q)\",\"Stationwagen\",\"Pick up upto 10Q\",\"Motorcycle\",\"Automobile\",\"Pick up upto 10Q\",\"Automobile\",\"Long lorry\",\"Turbo\",\"Long lorry\",\"Public (13?45 seats)\",\"Automobile\",\"Pick up upto 10Q\",\"Lorry (11?40Q)\",\"Pick up upto 10Q\",\"Automobile\",\"Stationwagen\",\"Other\",\"Lorry (41?100Q)\",\"Public (\\u003e 45 seats)\",\"Automobile\",\"Lorry (41?100Q)\",\"Public (12 seats)\",\"Public (12 seats)\",\"Automobile\",\"Pick up upto 10Q\",\"Lorry (41?100Q)\",\"Automobile\",\"Public (\\u003e 45 seats)\",\"Automobile\",\"Public (12 seats)\",\"Automobile\",\"Automobile\",\"Public (12 seats)\",\"Automobile\",\"Automobile\",\"Automobile\",\"Stationwagen\",\"Lorry (41?100Q)\",\"Other\",\"Public (12 seats)\",\"Stationwagen\",\"Lorry (41?100Q)\",\"Public (\\u003e 45 seats)\",\"Automobile\",\"Automobile\",\"Other\",\"Other\",\"Lorry (41?100Q)\",\"Lorry (41?100Q)\",\"Other\",\"Other\",\"Automobile\",\"Lorry (41?100Q)\",\"Other\",\"Lorry (41?100Q)\",\"Pick up upto 10Q\",\"Lorry (41?100Q)\",\"Public (13?45 seats)\",\"Pick up upto 10Q\",\"Pick up upto 10Q\",\"Public (13?45 seats)\",\"Lorry (41?100Q)\",\"Lorry (41?100Q)\",\"Long lorry\",\"Public (13?45 seats)\",\"Automobile\",\"Automobile\",\"Public (\\u003e 45 seats)\",\"Lorry (11?40Q)\",\"Lorry (11?40Q)\",\"Lorry (41?100Q)\",\"Other\",\"Automobile\",\"Lorry (41?100Q)\",\"Taxi\",\"Lorry (41?100Q)\",\"Lorry (41?100Q)\",\"Lorry (41?100Q)\",\"Lorry (41?100Q)\",\"Other\",\"Automobile\",\"Lorry (11?40Q)\",\"Automobile\",\"Long lorry\",\"Lorry (41?100Q)\",\"Lorry (11?40Q)\",\"Taxi\",\"Other\",\"Automobile\",\"Automobile\",\"Lorry (11?40Q)\",\"Motorcycle\",\"Automobile\",\"Lorry (41?100Q)\",\"Automobile\",\"Other\",\"Automobile\",\"Lorry (11?40Q)\",\"Long lorry\",\"Automobile\",\"Automobile\",\"Long lorry\",\"Public (13?45 seats)\",\"Automobile\",\"Other\",\"Special vehicle\",\"Automobile\",\"Automobile\",\"Stationwagen\",\"Public (\\u003e 45 seats)\",\"Public (\\u003e 45 seats)\",\"Bicycle\",\"Automobile\",\"Special vehicle\",\"Public (13?45 seats)\",\"Public (12 seats)\",\"Pick up upto 10Q\",\"Other\",\"Stationwagen\",\"Lorry (41?100Q)\",\"Lorry (41?100Q)\",\"Automobile\",\"Other\",\"Automobile\",\"Automobile\",\"Public (\\u003e 45 seats)\",\"Public (13?45 seats)\",\"Automobile\",\"Lorry (11?40Q)\",\"Public (12 seats)\",\"Automobile\",\"Lorry (41?100Q)\",\"Automobile\",\"Automobile\",\"Taxi\",\"Automobile\",\"Automobile\",\"Stationwagen\",\"Automobile\",\"Stationwagen\",\"Public (12 seats)\",\"Automobile\",\"Lorry (41?100Q)\",\"Automobile\",\"Automobile\",\"Automobile\",\"Pick up upto 10Q\",\"Lorry (11?40Q)\",\"Stationwagen\",\"Other\",\"Automobile\",\"Lorry (41?100Q)\",\"Pick up upto 10Q\",\"Public (13?45 seats)\",\"Long lorry\",\"Automobile\",\"Public (12 seats)\",\"Other\",\"Public (12 seats)\",\"Pick up upto 10Q\",\"Automobile\",\"Automobile\",\"Public (12 seats)\",\"Other\",\"Lorry (41?100Q)\",\"Pick up upto 10Q\",\"Other\",\"Ridden horse\",\"Stationwagen\",\"Lorry (41?100Q)\",\"Automobile\",\"Public (13?45 seats)\",\"Public (12 seats)\",\"Other\",\"Public (13?45 seats)\",\"Public (13?45 seats)\",\"Automobile\",\"Other\",\"Automobile\",\"Automobile\",\"Stationwagen\",\"Automobile\",\"Automobile\",\"Pick up upto 10Q\",\"Lorry (41?100Q)\",\"Lorry (41?100Q)\",\"Public (13?45 seats)\",\"Automobile\",\"Lorry (11?40Q)\",\"Lorry (11?40Q)\",\"Pick up upto 10Q\",\"Lorry (11?40Q)\",\"Other\",\"Automobile\",\"Automobile\",\"Lorry (41?100Q)\",\"Long lorry\",\"Automobile\",\"Other\",\"Lorry (41?100Q)\",\"Pick up upto 10Q\",\"Pick up upto 10Q\",\"Automobile\",\"Public (12 seats)\",\"Automobile\",\"Public (12 seats)\",\"Lorry (41?100Q)\",\"Lorry (41?100Q)\",\"Public (12 seats)\",\"Stationwagen\",\"Lorry (41?100Q)\",\"Public (13?45 seats)\",\"Lorry (41?100Q)\",\"Lorry (41?100Q)\",\"Lorry (41?100Q)\",\"Stationwagen\",\"Automobile\",\"Public (13?45 seats)\",\"Public (13?45 seats)\",\"Automobile\",\"Lorry (41?100Q)\",\"Other\",\"Public (13?45 seats)\",\"Automobile\",\"Pick up upto 10Q\",\"Lorry (41?100Q)\",\"Lorry (41?100Q)\",\"Lorry (41?100Q)\",\"Other\",\"Automobile\",\"Lorry (41?100Q)\",\"Lorry (41?100Q)\",\"Public (\\u003e 45 seats)\",\"Automobile\",\"Pick up upto 10Q\",\"Automobile\",\"Lorry (41?100Q)\",\"Lorry (41?100Q)\",\"Lorry (41?100Q)\",\"Stationwagen\",\"Lorry (41?100Q)\",\"Automobile\",\"Automobile\",\"Public (12 seats)\",\"Pick up upto 10Q\",\"Automobile\",\"Lorry (41?100Q)\",\"Automobile\",\"Automobile\",\"Stationwagen\",\"Turbo\",\"Pick up upto 10Q\",\"Stationwagen\",\"Lorry (41?100Q)\",\"Stationwagen\",\"Public (\\u003e 45 seats)\",\"Automobile\",\"Automobile\",\"Lorry (41?100Q)\",\"Automobile\",\"Stationwagen\",\"Public (12 seats)\",\"Automobile\",\"Lorry (41?100Q)\",\"Automobile\",\"Stationwagen\",\"Automobile\",\"Automobile\",\"Other\",\"Lorry (41?100Q)\",\"Lorry (41?100Q)\",\"Lorry (41?100Q)\",\"Lorry (41?100Q)\",\"Other\",\"Lorry (41?100Q)\",\"Automobile\",\"Lorry (41?100Q)\",\"Lorry (41?100Q)\",\"Public (\\u003e 45 seats)\",\"Public (12 seats)\",\"Automobile\",\"Public (13?45 seats)\",\"Public (\\u003e 45 seats)\",\"Lorry (41?100Q)\",\"Automobile\",\"Automobile\",\"Automobile\",\"Public (12 seats)\",\"Lorry (41?100Q)\",\"Lorry (41?100Q)\",\"Public (13?45 seats)\",\"Motorcycle\",\"Pick up upto 10Q\",\"Public (\\u003e 45 seats)\",\"Automobile\",\"Automobile\",\"Public (12 seats)\",\"Taxi\",\"Automobile\",\"Public (12 seats)\",\"Stationwagen\",\"Automobile\",\"Lorry (41?100Q)\",\"Public (12 seats)\",\"Automobile\",\"Automobile\",\"Automobile\",\"Public (\\u003e 45 seats)\",\"Lorry (41?100Q)\",\"Automobile\",\"Public (13?45 seats)\",\"Lorry (41?100Q)\",\"Lorry (41?100Q)\",\"Lorry (11?40Q)\",\"Motorcycle\",\"Lorry (41?100Q)\",\"Other\",\"Lorry (41?100Q)\",\"Lorry (41?100Q)\",\"Automobile\",\"Other\",\"Automobile\",\"Public (\\u003e 45 seats)\",\"Lorry (11?40Q)\",\"Lorry (41?100Q)\",\"Automobile\",\"Pick up upto 10Q\",\"Automobile\",\"Lorry (11?40Q)\",\"Pick up upto 10Q\",\"Lorry (41?100Q)\",\"Automobile\",\"Taxi\",\"Lorry (11?40Q)\",\"Pick up upto 10Q\",\"Automobile\",\"Long lorry\",\"Automobile\",\"Automobile\",\"Special vehicle\",\"Lorry (41?100Q)\",\"Stationwagen\",\"Public (\\u003e 45 seats)\",\"Automobile\",\"Automobile\",\"Public (13?45 seats)\",\"Lorry (41?100Q)\",\"Lorry (41?100Q)\",\"Public (12 seats)\",\"Automobile\",\"Pick up upto 10Q\",\"Automobile\",\"Lorry (41?100Q)\",\"Automobile\",\"Lorry (41?100Q)\",\"Lorry (41?100Q)\",\"Pick up upto 10Q\",\"Automobile\",\"Automobile\",\"Motorcycle\",\"Automobile\",\"Automobile\",\"Long lorry\",\"Automobile\",\"Public (12 seats)\",\"Lorry (41?100Q)\",\"Pick up upto 10Q\",\"Automobile\",\"Automobile\",\"Stationwagen\",\"Other\",\"Other\",\"Other\",\"Lorry (41?100Q)\",\"Public (12 seats)\",\"Stationwagen\",\"Lorry (41?100Q)\",\"Public (12 seats)\",\"Other\",\"Public (12 seats)\",\"Other\",\"Stationwagen\",\"Special vehicle\",\"Lorry (41?100Q)\",\"Lorry (41?100Q)\",\"Lorry (11?40Q)\",\"Other\",\"Automobile\",\"Lorry (41?100Q)\",\"Lorry (41?100Q)\",\"Other\",\"Automobile\",\"Ridden horse\",\"Pick up upto 10Q\",\"Pick up upto 10Q\",\"Other\",\"Public (13?45 seats)\",\"Pick up upto 10Q\",\"Stationwagen\",\"Other\",\"Public (13?45 seats)\",\"Lorry (41?100Q)\",\"Public (\\u003e 45 seats)\",\"Lorry (11?40Q)\",\"Pick up upto 10Q\",\"Automobile\",\"Lorry (41?100Q)\",\"Stationwagen\",\"Lorry (41?100Q)\",\"Other\",\"Automobile\",\"Taxi\",\"Other\",\"Public (\\u003e 45 seats)\",\"Lorry (41?100Q)\",\"Other\",\"Other\",\"Automobile\",\"Motorcycle\",\"Lorry (41?100Q)\",\"Other\",\"Other\",\"Public (\\u003e 45 seats)\",\"Lorry (11?40Q)\",\"Lorry (41?100Q)\",\"Stationwagen\",\"Lorry (41?100Q)\",\"Long lorry\",\"Long lorry\",\"Stationwagen\",\"Automobile\",\"Public (13?45 seats)\",\"Lorry (11?40Q)\",\"Lorry (11?40Q)\",\"Automobile\",\"Lorry (11?40Q)\",\"Automobile\",\"Automobile\",\"Public (\\u003e 45 seats)\",\"Stationwagen\",\"Lorry (41?100Q)\",\"Public (12 seats)\",\"Public (12 seats)\",\"Public (\\u003e 45 seats)\",\"Pick up upto 10Q\",\"Stationwagen\",\"Pick up upto 10Q\",\"Lorry (41?100Q)\",\"Lorry (41?100Q)\",\"Pick up upto 10Q\",\"Pick up upto 10Q\",\"Automobile\",\"Public (\\u003e 45 seats)\",\"Public (\\u003e 45 seats)\",\"Lorry (41?100Q)\",\"Automobile\",\"Automobile\",\"Lorry (41?100Q)\",\"Public (13?45 seats)\",\"Public (13?45 seats)\",\"Long lorry\",\"Lorry (11?40Q)\",\"Automobile\",\"Public (13?45 seats)\",\"Ridden horse\",\"Automobile\",\"Automobile\",\"Other\",\"Taxi\",\"Stationwagen\",\"Lorry (41?100Q)\",\"Public (12 seats)\",\"Public (13?45 seats)\",\"Automobile\",\"Public (13?45 seats)\",\"Long lorry\",\"Lorry (41?100Q)\",\"Lorry (11?40Q)\",\"Lorry (41?100Q)\",\"Automobile\",\"Taxi\",\"Public (12 seats)\",\"Automobile\",\"Automobile\",\"Public (\\u003e 45 seats)\",\"Lorry (41?100Q)\",\"Automobile\",\"Lorry (11?40Q)\",\"Public (13?45 seats)\",\"Long lorry\",\"Lorry (11?40Q)\",\"Automobile\",\"Automobile\",\"Lorry (11?40Q)\",\"Stationwagen\",\"Ridden horse\",\"Automobile\",\"Automobile\",\"Automobile\",\"Automobile\",\"Automobile\",\"Automobile\",\"Automobile\",\"Automobile\",\"Public (13?45 seats)\",\"Lorry (41?100Q)\",\"Public (12 seats)\",\"Automobile\",\"Automobile\",\"Pick up upto 10Q\",\"Lorry (11?40Q)\",\"Ridden horse\",\"Automobile\",\"Other\",\"Automobile\",\"Automobile\",\"Lorry (41?100Q)\",\"Automobile\",\"Automobile\",\"Bajaj\",\"Automobile\",\"Public (\\u003e 45 seats)\",\"Automobile\",\"Lorry (41?100Q)\",\"Automobile\",\"Lorry (41?100Q)\",\"Lorry (41?100Q)\",\"Taxi\",\"Automobile\",\"Lorry (41?100Q)\",\"Automobile\",\"Lorry (41?100Q)\",\"Automobile\",\"Automobile\",\"Automobile\",\"Pick up upto 10Q\",\"Automobile\",\"Public (12 seats)\",\"Public (\\u003e 45 seats)\",\"Lorry (41?100Q)\",\"Public (13?45 seats)\",\"Public (13?45 seats)\",\"Public (12 seats)\",\"Lorry (41?100Q)\",\"Automobile\",\"Taxi\",\"Automobile\",\"Public (13?45 seats)\",\"Taxi\",\"Automobile\",\"Stationwagen\",\"Automobile\",\"Automobile\",\"Lorry (11?40Q)\",\"Automobile\",\"Lorry (11?40Q)\",\"Lorry (41?100Q)\",\"Pick up upto 10Q\",\"Other\",\"Other\",\"Pick up upto 10Q\",\"Lorry (41?100Q)\",\"Automobile\",\"Public (12 seats)\",\"Other\",\"Other\",\"Other\",\"Other\",\"Lorry (11?40Q)\",\"Other\",\"Other\",\"Pick up upto 10Q\",\"Automobile\",\"Automobile\",\"Long lorry\",\"Stationwagen\",\"Automobile\",\"Automobile\",\"Lorry (41?100Q)\",\"Lorry (41?100Q)\",\"Pick up upto 10Q\",\"Lorry (41?100Q)\",\"Automobile\",\"Automobile\",\"Pick up upto 10Q\",\"Other\",\"Pick up upto 10Q\",\"Stationwagen\",\"Automobile\",\"Pick up upto 10Q\",\"Lorry (41?100Q)\",\"Lorry (41?100Q)\",\"Automobile\",\"Automobile\",\"Pick up upto 10Q\",\"Motorcycle\",\"Automobile\",\"Lorry (11?40Q)\",\"Lorry (41?100Q)\",\"Pick up upto 10Q\",\"Public (13?45 seats)\",\"Lorry (41?100Q)\",\"Long lorry\",\"Pick up upto 10Q\",\"Automobile\",\"Automobile\",\"Public (12 seats)\",\"Other\",\"Public (12 seats)\",\"Automobile\",\"Stationwagen\",\"Automobile\",\"Public (13?45 seats)\",\"Motorcycle\",\"Lorry (41?100Q)\",\"Automobile\",\"Other\",\"Public (13?45 seats)\",\"Public (13?45 seats)\",\"Public (12 seats)\",\"Public (12 seats)\",\"Lorry (41?100Q)\",\"Other\",\"Automobile\",\"Automobile\",\"Other\",\"Public (13?45 seats)\",\"Other\",\"Lorry (41?100Q)\",\"Lorry (41?100Q)\",\"Automobile\",\"Pick up upto 10Q\",\"Automobile\",\"Automobile\",\"Lorry (41?100Q)\",\"Lorry (41?100Q)\",\"Automobile\",\"Pick up upto 10Q\",\"Automobile\",\"Public (12 seats)\",\"Lorry (41?100Q)\",\"Public (\\u003e 45 seats)\",\"Public (\\u003e 45 seats)\",\"Public (12 seats)\",\"Stationwagen\",\"Pick up upto 10Q\",\"Other\",\"Stationwagen\",\"Pick up upto 10Q\",\"Lorry (41?100Q)\",\"Lorry (41?100Q)\",\"Automobile\",\"Pick up upto 10Q\",\"Pick up upto 10Q\",\"Lorry (41?100Q)\",\"Public (12 seats)\",\"Public (\\u003e 45 seats)\",\"Automobile\",\"Automobile\",\"Lorry (41?100Q)\",\"Stationwagen\",\"Public (12 seats)\",\"Automobile\",\"Public (12 seats)\",\"Lorry (41?100Q)\",\"Automobile\",\"Other\",\"Automobile\",\"Lorry (41?100Q)\",\"Other\",\"Automobile\",\"Lorry (41?100Q)\",\"Public (\\u003e 45 seats)\",\"Lorry (41?100Q)\",\"Lorry (41?100Q)\",\"Public (12 seats)\",\"Automobile\",\"Lorry (41?100Q)\",\"Lorry (41?100Q)\",\"Other\",\"Public (\\u003e 45 seats)\",\"Other\",\"Lorry (41?100Q)\",\"Lorry (41?100Q)\",\"Lorry (41?100Q)\",\"Lorry (41?100Q)\",\"Motorcycle\",\"Lorry (41?100Q)\",\"Public (\\u003e 45 seats)\",\"Stationwagen\",\"Automobile\",\"Automobile\",\"Automobile\",\"Automobile\",\"Lorry (41?100Q)\",\"Automobile\",\"Automobile\",\"Stationwagen\",\"Automobile\",\"Lorry (41?100Q)\",\"Automobile\",\"Motorcycle\",\"Public (\\u003e 45 seats)\",\"Automobile\",\"Motorcycle\",\"Lorry (41?100Q)\",\"Other\",\"Other\",\"Long lorry\",\"Long lorry\",\"Lorry (41?100Q)\",\"Lorry (41?100Q)\",\"Stationwagen\",\"Other\",\"Pick up upto 10Q\",\"Motorcycle\",\"Automobile\",\"Lorry (41?100Q)\",\"Other\",\"Automobile\",\"Long lorry\",\"Lorry (11?40Q)\",\"Lorry (11?40Q)\",\"Long lorry\",\"Long lorry\",\"Public (13?45 seats)\",\"Automobile\",\"Automobile\",\"Pick up upto 10Q\",\"Automobile\",\"Automobile\",\"Long lorry\",\"Lorry (11?40Q)\",\"Automobile\",\"Stationwagen\",\"Lorry (41?100Q)\",\"Lorry (41?100Q)\",\"Motorcycle\",\"Automobile\",\"Public (\\u003e 45 seats)\",\"Automobile\",\"Automobile\",\"Automobile\",\"Public (13?45 seats)\",\"Public (12 seats)\",\"Automobile\",\"Pick up upto 10Q\",\"Other\",\"Automobile\",\"Lorry (41?100Q)\",\"Lorry (41?100Q)\",\"Pick up upto 10Q\",\"Pick up upto 10Q\",\"Automobile\",\"Motorcycle\",\"Automobile\",\"Automobile\",\"Pick up upto 10Q\",\"Automobile\",\"Public (13?45 seats)\",\"Public (12 seats)\",\"Automobile\",\"Public (12 seats)\",\"Automobile\",\"Other\",\"Other\",\"Public (12 seats)\",\"Automobile\",\"Lorry (41?100Q)\",\"Public (12 seats)\",\"Public (12 seats)\",\"Lorry (41?100Q)\",\"Public (\\u003e 45 seats)\",\"Automobile\",\"Automobile\",\"Public (\\u003e 45 seats)\",\"Lorry (11?40Q)\",\"Other\",\"Public (13?45 seats)\",\"Lorry (41?100Q)\",\"Public (13?45 seats)\",\"Automobile\",\"Public (\\u003e 45 seats)\",\"Lorry (41?100Q)\",\"Automobile\",\"Public (13?45 seats)\",\"Long lorry\",\"Public (12 seats)\",\"Taxi\",\"Automobile\",\"Public (12 seats)\",\"Stationwagen\",\"Stationwagen\",\"Lorry (41?100Q)\",\"Automobile\",\"Lorry (41?100Q)\",\"Automobile\",\"Lorry (11?40Q)\",\"Lorry (41?100Q)\",\"Lorry (11?40Q)\",\"Lorry (41?100Q)\",\"Pick up upto 10Q\",\"Automobile\",\"Public (12 seats)\",\"Other\",\"Public (12 seats)\",\"Lorry (41?100Q)\",\"Other\",\"Automobile\",\"Other\",\"Public (13?45 seats)\",\"Automobile\",\"Lorry (41?100Q)\",\"Other\",\"Lorry (41?100Q)\",\"Ridden horse\",\"Automobile\",\"Other\",\"Automobile\",\"Lorry (41?100Q)\",\"Automobile\",\"Bajaj\",\"Lorry (41?100Q)\",\"Public (13?45 seats)\",\"Automobile\",\"Other\",\"Automobile\",\"Other\",\"Automobile\",\"Turbo\",\"Lorry (41?100Q)\",\"Lorry (41?100Q)\",\"Lorry (41?100Q)\",\"Lorry (41?100Q)\",\"Automobile\",\"Automobile\",\"Public (13?45 seats)\",\"Automobile\",\"Public (13?45 seats)\",\"Other\",\"Other\",\"Other\",\"Taxi\",\"Automobile\",\"Pick up upto 10Q\",\"Pick up upto 10Q\",\"Automobile\",\"Long lorry\",\"Automobile\",\"Public (13?45 seats)\",\"Public (13?45 seats)\",\"Other\",\"Lorry (41?100Q)\",\"Long lorry\",\"Other\",\"Automobile\",\"Stationwagen\",\"Automobile\",\"Lorry (41?100Q)\",\"Public (12 seats)\",\"Automobile\",\"Lorry (41?100Q)\",\"Other\",\"Lorry (41?100Q)\",\"Lorry (41?100Q)\",\"Public (12 seats)\",\"Lorry (41?100Q)\",\"Automobile\",\"Lorry (41?100Q)\",\"Stationwagen\",\"Pick up upto 10Q\",\"Automobile\",\"Automobile\",\"Automobile\",\"Public (12 seats)\",\"Automobile\",\"Lorry (41?100Q)\",\"Other\",\"Automobile\",\"Public (\\u003e 45 seats)\",\"Pick up upto 10Q\",\"Lorry (41?100Q)\",\"Public (13?45 seats)\",\"Other\",\"Automobile\",\"Other\",\"Lorry (41?100Q)\",\"Lorry (41?100Q)\",\"Public (12 seats)\",\"Lorry (41?100Q)\",\"Other\",\"Automobile\",\"Other\",\"Stationwagen\",\"Ridden horse\",\"Stationwagen\",\"Long lorry\",\"Other\",\"Lorry (41?100Q)\",\"Pick up upto 10Q\",\"Lorry (41?100Q)\",\"Automobile\",\"Automobile\",\"Other\",\"Stationwagen\",\"Lorry (41?100Q)\",\"Pick up upto 10Q\",\"Lorry (41?100Q)\",\"Automobile\",\"Stationwagen\",\"Lorry (41?100Q)\",\"Automobile\",\"Lorry (41?100Q)\",\"Lorry (41?100Q)\",\"Automobile\",\"Stationwagen\",\"Other\",\"Lorry (41?100Q)\",\"Automobile\",\"Public (13?45 seats)\",\"Lorry (41?100Q)\",\"Other\",\"Lorry (41?100Q)\",\"Public (\\u003e 45 seats)\",\"Lorry (41?100Q)\",\"Lorry (41?100Q)\",\"Public (12 seats)\",\"Lorry (41?100Q)\",\"Automobile\",\"Public (\\u003e 45 seats)\",\"Public (\\u003e 45 seats)\",\"Other\",\"Lorry (41?100Q)\",\"Automobile\",\"Public (12 seats)\",\"Lorry (41?100Q)\",\"Pick up upto 10Q\",\"Public (\\u003e 45 seats)\",\"Automobile\",\"Automobile\",\"Automobile\",\"Stationwagen\",\"Automobile\",\"Public (12 seats)\",\"Automobile\",\"Automobile\",\"Automobile\",\"Motorcycle\",\"Automobile\",\"Public (\\u003e 45 seats)\",\"Automobile\",\"Public (13?45 seats)\",\"Other\",\"Automobile\",\"Automobile\",\"Public (\\u003e 45 seats)\",\"Lorry (41?100Q)\",\"Lorry (41?100Q)\",\"Automobile\",\"Stationwagen\",\"Taxi\",\"Long lorry\",\"Lorry (41?100Q)\",\"Other\",\"Automobile\",\"Long lorry\",\"Taxi\",\"Long lorry\",\"Long lorry\",\"Turbo\",\"Long lorry\",\"Automobile\",\"Long lorry\",\"Public (13?45 seats)\",\"Lorry (41?100Q)\",\"Pick up upto 10Q\",\"Automobile\",\"Automobile\",\"Automobile\",\"Lorry (41?100Q)\",\"Automobile\",\"Stationwagen\",\"Lorry (41?100Q)\",\"Other\",\"Automobile\",\"Automobile\",\"Long lorry\",\"Automobile\",\"Public (\\u003e 45 seats)\",\"Pick up upto 10Q\",\"Lorry (41?100Q)\",\"Public (\\u003e 45 seats)\",\"Public (12 seats)\",\"Automobile\",\"Automobile\",\"Stationwagen\",\"Lorry (41?100Q)\",\"Public (12 seats)\",\"Public (12 seats)\",\"Lorry (41?100Q)\",\"Pick up upto 10Q\",\"Lorry (11?40Q)\",\"Lorry (41?100Q)\",\"Other\",\"Automobile\",\"Taxi\",\"Automobile\",\"Public (\\u003e 45 seats)\",\"Stationwagen\",\"Lorry (41?100Q)\",\"Other\",\"Lorry (41?100Q)\",\"Automobile\",\"Pick up upto 10Q\",\"Lorry (41?100Q)\",\"Long lorry\",\"Other\",\"Lorry (41?100Q)\",\"Public (\\u003e 45 seats)\",\"Lorry (11?40Q)\",\"Lorry (11?40Q)\",\"Automobile\",\"Lorry (41?100Q)\",\"Taxi\",\"Lorry (41?100Q)\",\"Stationwagen\",\"Other\",\"Public (13?45 seats)\",\"Other\",\"Lorry (41?100Q)\",\"Automobile\",\"Lorry (41?100Q)\",\"Stationwagen\",\"Other\",\"Taxi\",\"Lorry (41?100Q)\",\"Automobile\",\"Automobile\",\"Pick up upto 10Q\",\"Automobile\",\"Lorry (41?100Q)\",\"Taxi\",\"Automobile\",\"Long lorry\",\"Automobile\",\"Long lorry\",\"Lorry (11?40Q)\",\"Turbo\",\"Long lorry\",\"Public (13?45 seats)\",\"Lorry (41?100Q)\",\"Public (\\u003e 45 seats)\",\"Public (\\u003e 45 seats)\",\"Public (13?45 seats)\",\"Public (12 seats)\",\"Stationwagen\",\"Stationwagen\",\"Pick up upto 10Q\",\"Lorry (41?100Q)\",\"Motorcycle\",\"Lorry (11?40Q)\",\"Automobile\",\"Pick up upto 10Q\",\"Automobile\",\"Stationwagen\",\"Automobile\",\"Automobile\",\"Stationwagen\",\"Public (12 seats)\",\"Automobile\",\"Automobile\",\"Lorry (41?100Q)\",\"Public (12 seats)\",\"Automobile\",\"Lorry (11?40Q)\",\"Lorry (11?40Q)\",\"Automobile\",\"Public (13?45 seats)\",\"Lorry (11?40Q)\",\"Lorry (41?100Q)\",\"Automobile\",\"Automobile\",\"Automobile\",\"Automobile\",\"Other\",\"Taxi\",\"Automobile\",\"Lorry (41?100Q)\",\"Automobile\",\"Lorry (11?40Q)\",\"Stationwagen\",\"Automobile\",\"Automobile\",\"Long lorry\",\"Long lorry\",\"Other\",\"Public (12 seats)\",\"Lorry (41?100Q)\",\"Other\",\"Automobile\",\"Stationwagen\",\"Public (12 seats)\",\"Lorry (41?100Q)\",\"Automobile\",\"Lorry (11?40Q)\",\"Automobile\",\"Public (13?45 seats)\",\"Lorry (41?100Q)\",\"Lorry (41?100Q)\",\"Automobile\",\"Pick up upto 10Q\",\"Automobile\",\"Public (13?45 seats)\",\"Automobile\",\"Lorry (11?40Q)\",\"Other\",\"Automobile\",\"Taxi\",\"Taxi\",\"Lorry (11?40Q)\",\"Automobile\",\"Other\",\"Automobile\",\"Automobile\",\"Automobile\",\"Lorry (41?100Q)\",\"Pick up upto 10Q\",\"Pick up upto 10Q\",\"Lorry (41?100Q)\",\"Other\",\"Public (12 seats)\",\"Automobile\",\"Lorry (41?100Q)\",\"Automobile\",\"Lorry (41?100Q)\",\"Other\",\"Pick up upto 10Q\",\"Lorry (41?100Q)\",\"Lorry (41?100Q)\",\"Stationwagen\",\"Automobile\",\"Automobile\",\"Automobile\",\"Pick up upto 10Q\",\"Automobile\",\"Automobile\",\"Lorry (41?100Q)\",\"Pick up upto 10Q\",\"Public (13?45 seats)\",\"Automobile\",\"Lorry (41?100Q)\",\"Lorry (41?100Q)\",\"Public (13?45 seats)\",\"Automobile\",\"Other\",\"Public (12 seats)\",\"Other\",\"Lorry (41?100Q)\",\"Taxi\",\"Automobile\",\"Public (12 seats)\",\"Pick up upto 10Q\",\"Other\",\"Pick up upto 10Q\",\"Pick up upto 10Q\",\"Lorry (41?100Q)\",\"Lorry (41?100Q)\",\"Automobile\",\"Stationwagen\",\"Lorry (41?100Q)\",\"Stationwagen\",\"Other\",\"Automobile\",\"Lorry (41?100Q)\",\"Lorry (41?100Q)\",\"Lorry (41?100Q)\",\"Automobile\",\"Public (13?45 seats)\",\"Public (12 seats)\",\"Lorry (41?100Q)\",\"Motorcycle\",\"Automobile\",\"Stationwagen\",\"Automobile\",\"Lorry (41?100Q)\",\"Lorry (41?100Q)\",\"Automobile\",\"Pick up upto 10Q\",\"Lorry (41?100Q)\",\"Stationwagen\",\"Automobile\",\"Public (12 seats)\",\"Taxi\",\"Automobile\",\"Automobile\",\"Automobile\",\"Stationwagen\",\"Other\",\"Lorry (41?100Q)\",\"Lorry (41?100Q)\",\"Automobile\",\"Pick up upto 10Q\",\"Automobile\",\"Motorcycle\",\"Stationwagen\",\"Automobile\",\"Lorry (41?100Q)\",\"Other\",\"Automobile\",\"Long lorry\",\"Long lorry\",\"Automobile\",\"Automobile\",\"Long lorry\",\"Other\",\"Automobile\",\"Bicycle\",\"Public (12 seats)\",\"Lorry (41?100Q)\",\"Stationwagen\",\"Other\",\"Automobile\",\"Stationwagen\",\"Lorry (41?100Q)\",\"Automobile\",\"Automobile\",\"Public (12 seats)\",\"Automobile\",\"Pick up upto 10Q\",\"Public (13?45 seats)\",\"Lorry (41?100Q)\",\"Public (\\u003e 45 seats)\",\"Automobile\",\"Lorry (41?100Q)\",\"Automobile\",\"Automobile\",\"Automobile\",\"Public (\\u003e 45 seats)\",\"Special vehicle\",\"Lorry (41?100Q)\",\"Lorry (41?100Q)\",\"Lorry (41?100Q)\",\"Other\",\"Automobile\",\"Lorry (41?100Q)\",\"Other\",\"Automobile\",\"Other\",\"Lorry (41?100Q)\",\"Other\",\"Lorry (41?100Q)\",\"Pick up upto 10Q\",\"Long lorry\",\"Other\",\"Lorry (41?100Q)\",\"Public (\\u003e 45 seats)\",\"Automobile\",\"Public (\\u003e 45 seats)\",\"Pick up upto 10Q\",\"Pick up upto 10Q\",\"Lorry (41?100Q)\",\"Lorry (41?100Q)\",\"Lorry (41?100Q)\",\"Other\",\"Stationwagen\",\"Stationwagen\",\"Taxi\",\"Lorry (41?100Q)\",\"Public (\\u003e 45 seats)\",\"Automobile\",\"Other\",\"Pick up upto 10Q\",\"Motorcycle\",\"Other\",\"Other\",\"Lorry (41?100Q)\",\"Lorry (41?100Q)\",\"Lorry (11?40Q)\",\"Other\",\"Automobile\",\"Motorcycle\",\"Long lorry\",\"Automobile\",\"Taxi\",\"Lorry (11?40Q)\",\"Automobile\",\"Pick up upto 10Q\",\"Automobile\",\"Lorry (11?40Q)\",\"Lorry (11?40Q)\",\"Automobile\",\"Stationwagen\",\"Lorry (11?40Q)\",\"Motorcycle\",\"Automobile\",\"Stationwagen\",\"Public (\\u003e 45 seats)\",\"Automobile\",\"Automobile\",\"Public (13?45 seats)\",\"Special vehicle\",\"Public (13?45 seats)\",\"Stationwagen\",\"Stationwagen\",\"Automobile\",\"Automobile\",\"Lorry (41?100Q)\",\"Lorry (41?100Q)\",\"Lorry (11?40Q)\",\"Public (13?45 seats)\",\"Public (13?45 seats)\",\"Automobile\",\"Automobile\",\"Public (12 seats)\",\"Public (13?45 seats)\",\"Automobile\",\"Automobile\",\"Other\",\"Automobile\",\"Automobile\",\"Automobile\",\"Automobile\",\"Automobile\",\"Automobile\",\"Pick up upto 10Q\",\"Stationwagen\",\"Other\",\"Lorry (41?100Q)\",\"Other\",\"Long lorry\",\"Public (13?45 seats)\",\"Public (12 seats)\",\"Lorry (41?100Q)\",\"Lorry (41?100Q)\",\"Stationwagen\",\"Public (12 seats)\",\"Public (12 seats)\",\"Other\",\"Automobile\",\"Public (13?45 seats)\",\"Automobile\",\"Lorry (41?100Q)\",\"Pick up upto 10Q\",\"Automobile\",\"Automobile\",\"Automobile\",\"Automobile\",\"Lorry (41?100Q)\",\"Automobile\",\"Automobile\",\"Public (13?45 seats)\",\"Lorry (11?40Q)\",\"Automobile\",\"Other\",\"Other\",\"Lorry (11?40Q)\",\"Lorry (41?100Q)\",\"Pick up upto 10Q\",\"Pick up upto 10Q\",\"Other\",\"Automobile\",\"Public (12 seats)\",\"Stationwagen\",\"Lorry (41?100Q)\",\"Lorry (41?100Q)\",\"Automobile\",\"Lorry (41?100Q)\",\"Stationwagen\",\"Pick up upto 10Q\",\"Automobile\",\"Other\",\"Automobile\",\"Automobile\",\"Other\",\"Lorry (41?100Q)\",\"Pick up upto 10Q\",\"Public (13?45 seats)\",\"Lorry (41?100Q)\",\"Other\",\"Automobile\",\"Other\",\"Lorry (41?100Q)\",\"Lorry (41?100Q)\",\"Pick up upto 10Q\",\"Other\",\"Stationwagen\",\"Stationwagen\",\"Automobile\",\"Taxi\",\"Pick up upto 10Q\",\"Lorry (41?100Q)\",\"Automobile\",\"Automobile\",\"Public (12 seats)\",\"Lorry (41?100Q)\",\"Public (\\u003e 45 seats)\",\"Automobile\",\"Lorry (41?100Q)\",\"Stationwagen\",\"Public (12 seats)\",\"Public (12 seats)\",\"Automobile\",\"Stationwagen\",\"Automobile\",\"Other\",\"Automobile\",\"Automobile\",\"Public (\\u003e 45 seats)\",\"Public (\\u003e 45 seats)\",\"Lorry (41?100Q)\",\"Lorry (41?100Q)\",\"Lorry (41?100Q)\",\"Public (12 seats)\",\"Stationwagen\",\"Pick up upto 10Q\",\"Automobile\",\"Lorry (41?100Q)\",\"Stationwagen\",\"Lorry (41?100Q)\",\"Other\",\"Stationwagen\",\"Public (\\u003e 45 seats)\",\"Lorry (41?100Q)\",\"Public (12 seats)\",\"Lorry (41?100Q)\",\"Automobile\",\"Automobile\",\"Automobile\",\"Automobile\",\"Public (12 seats)\",\"Automobile\",\"Automobile\",\"Automobile\",\"Lorry (41?100Q)\",\"Taxi\",\"Public (12 seats)\",\"Lorry (41?100Q)\",\"Lorry (11?40Q)\",\"Other\",\"Other\",\"Taxi\",\"Long lorry\",\"Automobile\",\"Taxi\",\"Other\",\"Public (\\u003e 45 seats)\",\"Lorry (11?40Q)\",\"Other\",\"Automobile\",\"Lorry (41?100Q)\",\"Automobile\",\"Long lorry\",\"Long lorry\",\"Turbo\",\"Long lorry\",\"Public (13?45 seats)\",\"Public (13?45 seats)\",\"Automobile\",\"Long lorry\",\"Automobile\",\"Stationwagen\",\"Lorry (41?100Q)\",\"Motorcycle\",\"Automobile\",\"Automobile\",\"Special vehicle\",\"Automobile\",\"Public (13?45 seats)\",\"Lorry (41?100Q)\",\"Public (12 seats)\",\"Lorry (41?100Q)\",\"Public (12 seats)\",\"Public (\\u003e 45 seats)\",\"Automobile\",\"Pick up upto 10Q\",\"Lorry (41?100Q)\",\"Lorry (41?100Q)\",\"Other\",\"Automobile\",\"Long lorry\",\"Pick up upto 10Q\",\"Lorry (41?100Q)\",\"Automobile\",\"Automobile\",\"Public (\\u003e 45 seats)\",\"Pick up upto 10Q\",\"Automobile\",\"Automobile\",\"Lorry (41?100Q)\",\"Lorry (41?100Q)\",\"Lorry (41?100Q)\",\"Automobile\",\"Automobile\",\"Special vehicle\",\"Lorry (11?40Q)\",\"Lorry (41?100Q)\",\"Automobile\",\"Automobile\",\"Taxi\",\"Lorry (41?100Q)\",\"Other\",\"Public (13?45 seats)\",\"Ridden horse\",\"Pick up upto 10Q\",\"Stationwagen\",\"Other\",\"Lorry (41?100Q)\",\"Public (13?45 seats)\",\"Lorry (41?100Q)\",\"Public (\\u003e 45 seats)\",\"Lorry (11?40Q)\",\"Automobile\",\"Taxi\",\"Lorry (41?100Q)\",\"Stationwagen\",\"Other\",\"Taxi\",\"Public (13?45 seats)\",\"Other\",\"Lorry (11?40Q)\",\"Lorry (41?100Q)\",\"Stationwagen\",\"Long lorry\",\"Lorry (11?40Q)\",\"Automobile\",\"Automobile\",\"Public (\\u003e 45 seats)\",\"Lorry (41?100Q)\",\"Stationwagen\",\"Lorry (11?40Q)\",\"Lorry (11?40Q)\",\"Turbo\",\"Pick up upto 10Q\",\"Stationwagen\",\"Automobile\",\"Long lorry\",\"Public (13?45 seats)\",\"Lorry (11?40Q)\",\"Pick up upto 10Q\",\"Automobile\",\"Automobile\",\"Other\",\"Lorry (41?100Q)\",\"Motorcycle\",\"Automobile\",\"Automobile\",\"Public (13?45 seats)\",\"Special vehicle\",\"Lorry (41?100Q)\",\"Lorry (41?100Q)\",\"Public (12 seats)\",\"Public (12 seats)\",\"Pick up upto 10Q\",\"Other\",\"Pick up upto 10Q\",\"Lorry (41?100Q)\",\"Automobile\",\"Automobile\",\"Public (\\u003e 45 seats)\",\"Lorry (11?40Q)\",\"Lorry (41?100Q)\",\"Automobile\",\"Taxi\",\"Lorry (11?40Q)\",\"Public (12 seats)\",\"Automobile\",\"Automobile\",\"Lorry (11?40Q)\",\"Lorry (41?100Q)\",\"Pick up upto 10Q\",\"Stationwagen\",\"Other\",\"Automobile\",\"Lorry (41?100Q)\",\"Public (12 seats)\",\"Other\",\"Other\",\"Public (12 seats)\",\"Other\",\"Lorry (41?100Q)\",\"Ridden horse\",\"Automobile\",\"Public (12 seats)\",\"Lorry (41?100Q)\",\"Lorry (41?100Q)\",\"Lorry (41?100Q)\",\"Automobile\",\"Lorry (11?40Q)\",\"Public (12 seats)\",\"Public (13?45 seats)\",\"Public (13?45 seats)\",\"Automobile\",\"Other\",\"Automobile\",\"Automobile\",\"Automobile\",\"Lorry (41?100Q)\",\"Lorry (11?40Q)\",\"Lorry (11?40Q)\",\"Automobile\",\"Automobile\",\"Lorry (11?40Q)\",\"Automobile\",\"Public (13?45 seats)\",\"Public (13?45 seats)\",\"Pick up upto 10Q\",\"Pick up upto 10Q\",\"Lorry (41?100Q)\",\"Pick up upto 10Q\",\"Lorry (41?100Q)\",\"Automobile\",\"Lorry (41?100Q)\",\"Public (13?45 seats)\",\"Lorry (41?100Q)\",\"Automobile\",\"Lorry (41?100Q)\",\"Automobile\",\"Other\",\"Other\",\"Automobile\",\"Lorry (41?100Q)\",\"Public (13?45 seats)\",\"Other\",\"Other\",\"Automobile\",\"Public (12 seats)\",\"Lorry (41?100Q)\",\"Pick up upto 10Q\",\"Pick up upto 10Q\",\"Long lorry\",\"Public (\\u003e 45 seats)\",\"Automobile\",\"Automobile\",\"Pick up upto 10Q\",\"Other\",\"Pick up upto 10Q\",\"Public (12 seats)\",\"Other\",\"Lorry (41?100Q)\",\"Lorry (41?100Q)\",\"Automobile\",\"Stationwagen\",\"Automobile\",\"Other\",\"Automobile\",\"Lorry (41?100Q)\",\"Lorry (41?100Q)\",\"Automobile\",\"Lorry (41?100Q)\",\"Stationwagen\",\"Other\",\"Automobile\",\"Public (\\u003e 45 seats)\",\"Automobile\",\"Public (12 seats)\",\"Lorry (41?100Q)\",\"Lorry (41?100Q)\",\"Lorry (41?100Q)\",\"Motorcycle\",\"Automobile\",\"Lorry (41?100Q)\",\"Public (12 seats)\",\"Automobile\",\"Motorcycle\",\"Automobile\",\"Stationwagen\",\"Lorry (41?100Q)\",\"Taxi\",\"Lorry (41?100Q)\",\"Motorcycle\",\"Automobile\",\"Lorry (11?40Q)\",\"Lorry (41?100Q)\",\"Lorry (41?100Q)\",\"Stationwagen\",\"Automobile\",\"Pick up upto 10Q\",\"Motorcycle\",\"Stationwagen\",\"Lorry (41?100Q)\",\"Automobile\",\"Long lorry\",\"Long lorry\",\"Automobile\",\"Lorry (11?40Q)\",\"Automobile\",\"Pick up upto 10Q\",\"Automobile\",\"Long lorry\",\"Special vehicle\",\"Lorry (41?100Q)\",\"Lorry (11?40Q)\",\"Motorcycle\",\"Automobile\",\"Lorry (41?100Q)\",\"Public (\\u003e 45 seats)\",\"Automobile\",\"Pick up upto 10Q\",\"Automobile\",\"Pick up upto 10Q\",\"Lorry (41?100Q)\",\"Lorry (41?100Q)\",\"Lorry (41?100Q)\",\"Pick up upto 10Q\",\"Automobile\",\"Automobile\",\"Motorcycle\",\"Automobile\",\"Public (13?45 seats)\",\"Pick up upto 10Q\",\"Automobile\",\"Stationwagen\",\"Other\",\"Lorry (41?100Q)\",\"Automobile\",\"Other\",\"Stationwagen\",\"Lorry (41?100Q)\",\"Lorry (41?100Q)\",\"Automobile\",\"Public (\\u003e 45 seats)\",\"Lorry (11?40Q)\",\"Automobile\",\"Other\",\"Lorry (41?100Q)\",\"Stationwagen\",\"Stationwagen\",\"Lorry (41?100Q)\",\"Taxi\",\"Other\",\"Stationwagen\",\"Other\",\"Other\",\"Other\",\"Lorry (41?100Q)\",\"Automobile\",\"Automobile\",\"Long lorry\",\"Public (\\u003e 45 seats)\",\"Automobile\",\"Lorry (41?100Q)\",\"Public (13?45 seats)\",\"Automobile\",\"Long lorry\",\"Lorry (41?100Q)\",\"Lorry (11?40Q)\",\"Lorry (41?100Q)\",\"Automobile\",\"Automobile\",\"Public (13?45 seats)\",\"Public (12 seats)\",\"Automobile\",\"Automobile\",\"Public (12 seats)\",\"Lorry (11?40Q)\",\"Pick up upto 10Q\",\"Lorry (11?40Q)\",\"Other\",\"Lorry (11?40Q)\",\"Automobile\",\"Lorry (41?100Q)\",\"Other\",\"Automobile\",\"Automobile\",\"Other\",\"Other\",\"Lorry (41?100Q)\",\"Public (12 seats)\",\"Automobile\",\"Lorry (11?40Q)\",\"Bajaj\",\"Public (13?45 seats)\",\"Lorry (41?100Q)\",\"Lorry (41?100Q)\",\"Other\",\"Lorry (41?100Q)\",\"Lorry (41?100Q)\",\"Public (13?45 seats)\",\"Automobile\",\"Automobile\",\"Lorry (41?100Q)\",\"Lorry (11?40Q)\",\"Taxi\",\"Lorry (11?40Q)\",\"Other\",\"Automobile\",\"Public (13?45 seats)\",\"Other\",\"Lorry (41?100Q)\",\"Long lorry\",\"Pick up upto 10Q\",\"Lorry (41?100Q)\",\"Lorry (41?100Q)\",\"Public (12 seats)\",\"Automobile\",\"Other\",\"Lorry (41?100Q)\",\"Stationwagen\",\"Pick up upto 10Q\",\"Lorry (41?100Q)\",\"Motorcycle\",\"Automobile\",\"Lorry (41?100Q)\",\"Automobile\",\"Automobile\",\"Automobile\",\"Lorry (41?100Q)\",\"Automobile\",\"Lorry (41?100Q)\",\"Automobile\",\"Other\",\"Other\",\"Other\",\"Ridden horse\",\"Lorry (41?100Q)\",\"Taxi\",\"Other\",\"Lorry (41?100Q)\",\"Long lorry\",\"Automobile\",\"Pick up upto 10Q\",\"Lorry (41?100Q)\",\"Stationwagen\",\"Automobile\",\"Automobile\",\"Automobile\",\"Lorry (41?100Q)\",\"Lorry (41?100Q)\",\"Automobile\",\"Stationwagen\",\"Public (12 seats)\",\"Automobile\",\"Lorry (41?100Q)\",\"Automobile\",\"Automobile\",\"Other\",\"Automobile\",\"Public (13?45 seats)\",\"Lorry (41?100Q)\",\"Lorry (41?100Q)\",\"Public (12 seats)\",\"Automobile\",\"Lorry (41?100Q)\",\"Lorry (41?100Q)\",\"Stationwagen\",\"Automobile\",\"Public (\\u003e 45 seats)\",\"Other\",\"Lorry (41?100Q)\",\"Automobile\",\"Lorry (41?100Q)\",\"Stationwagen\",\"Stationwagen\",\"Lorry (41?100Q)\",\"Public (12 seats)\",\"Automobile\",\"Other\",\"Lorry (41?100Q)\",\"Taxi\",\"Public (12 seats)\",\"Public (13?45 seats)\",\"Lorry (11?40Q)\",\"Automobile\",\"Taxi\",\"Long lorry\",\"Lorry (41?100Q)\",\"Taxi\",\"Automobile\",\"Automobile\",\"Lorry (41?100Q)\",\"Automobile\",\"Motorcycle\",\"Lorry (11?40Q)\",\"Long lorry\",\"Taxi\",\"Long lorry\",\"Long lorry\",\"Automobile\",\"Pick up upto 10Q\",\"Automobile\",\"Public (13?45 seats)\",\"Public (13?45 seats)\",\"Automobile\",\"Long lorry\",\"Automobile\",\"Other\",\"Special vehicle\",\"Pick up upto 10Q\",\"Lorry (41?100Q)\",\"Automobile\",\"Automobile\",\"Automobile\",\"Lorry (41?100Q)\",\"Public (\\u003e 45 seats)\",\"Pick up upto 10Q\",\"Lorry (41?100Q)\",\"Automobile\",\"Automobile\",\"Public (\\u003e 45 seats)\",\"Lorry (41?100Q)\",\"Automobile\",\"Public (13?45 seats)\",\"Other\",\"Public (12 seats)\",\"Automobile\",\"Automobile\",\"Stationwagen\",\"Lorry (41?100Q)\",\"Lorry (41?100Q)\",\"Public (12 seats)\",\"Special vehicle\",\"Lorry (41?100Q)\",\"Automobile\",\"Pick up upto 10Q\",\"Lorry (11?40Q)\",\"Pick up upto 10Q\",\"Other\",\"Automobile\",\"Lorry (41?100Q)\",\"Stationwagen\",\"Stationwagen\",\"Other\",\"Taxi\",\"Lorry (41?100Q)\",\"Lorry (41?100Q)\",\"Pick up upto 10Q\",\"Lorry (11?40Q)\",\"Automobile\",\"Automobile\",\"Other\",\"Lorry (41?100Q)\",\"Other\",\"Pick up upto 10Q\",\"Lorry (41?100Q)\",\"Pick up upto 10Q\",\"Special vehicle\",\"Automobile\",\"Lorry (11?40Q)\",\"Lorry (11?40Q)\",\"Pick up upto 10Q\",\"Lorry (41?100Q)\",\"Lorry (41?100Q)\",\"Other\",\"Stationwagen\",\"Other\",\"Stationwagen\",\"Other\",\"Other\",\"Lorry (41?100Q)\",\"Automobile\",\"Stationwagen\",\"Other\",\"Taxi\",\"Lorry (41?100Q)\",\"Lorry (11?40Q)\",\"Lorry (11?40Q)\",\"Lorry (41?100Q)\",\"Lorry (41?100Q)\",\"Other\",\"Automobile\",\"Motorcycle\",\"Lorry (41?100Q)\",\"Automobile\",\"Long lorry\",\"Public (12 seats)\",\"Lorry (11?40Q)\",\"Pick up upto 10Q\",\"Lorry (41?100Q)\",\"Automobile\",\"Automobile\",\"Long lorry\",\"Lorry (11?40Q)\",\"Automobile\",\"Public (13?45 seats)\",\"Pick up upto 10Q\",\"Long lorry\",\"Special vehicle\",\"Stationwagen\",\"Automobile\",\"Public (13?45 seats)\",\"Automobile\",\"Public (13?45 seats)\",\"Lorry (41?100Q)\",\"Lorry (41?100Q)\",\"Automobile\",\"Stationwagen\",\"Automobile\",\"Lorry (41?100Q)\",\"Lorry (41?100Q)\",\"Pick up upto 10Q\",\"Automobile\",\"Automobile\",\"Public (\\u003e 45 seats)\",\"Public (13?45 seats)\",\"Lorry (11?40Q)\",\"Public (12 seats)\",\"Lorry (41?100Q)\",\"Lorry (41?100Q)\",\"Pick up upto 10Q\",\"Automobile\",\"Automobile\",\"Public (12 seats)\",\"Lorry (41?100Q)\",\"Automobile\",\"Lorry (41?100Q)\",\"Public (12 seats)\",\"Pick up upto 10Q\",\"Other\",\"Lorry (41?100Q)\",\"Public (13?45 seats)\",\"Long lorry\",\"Automobile\",\"Automobile\",\"Public (12 seats)\",\"Lorry (41?100Q)\",\"Other\",\"Other\",\"Other\",\"Automobile\",\"Other\",\"Automobile\",\"Other\",\"Ridden horse\",\"Automobile\",\"Lorry (41?100Q)\",\"Long lorry\",\"Public (12 seats)\",\"Other\",\"Lorry (41?100Q)\",\"Automobile\",\"Automobile\",\"Pick up upto 10Q\",\"Automobile\",\"Automobile\",\"Other\",\"Automobile\",\"Lorry (41?100Q)\",\"Automobile\",\"Lorry (41?100Q)\",\"Lorry (41?100Q)\",\"Automobile\",\"Automobile\",\"Public (13?45 seats)\",\"Automobile\",\"Lorry (41?100Q)\",\"Other\",\"Lorry (11?40Q)\",\"Other\",\"Automobile\",\"Automobile\",\"Automobile\",\"Pick up upto 10Q\",\"Pick up upto 10Q\",\"Long lorry\",\"Public (13?45 seats)\",\"Lorry (41?100Q)\",\"Lorry (41?100Q)\",\"Long lorry\",\"Pick up upto 10Q\",\"Pick up upto 10Q\",\"Lorry (41?100Q)\",\"Lorry (41?100Q)\",\"Other\",\"Pick up upto 10Q\",\"Other\",\"Public (12 seats)\",\"Stationwagen\",\"Lorry (41?100Q)\",\"Public (12 seats)\",\"Automobile\",\"Lorry (41?100Q)\",\"Other\",\"Public (13?45 seats)\",\"Automobile\",\"Motorcycle\",\"Public (12 seats)\",\"Public (13?45 seats)\",\"Public (12 seats)\",\"Automobile\",\"Other\",\"Automobile\",\"Other\",\"Lorry (41?100Q)\",\"Pick up upto 10Q\",\"Pick up upto 10Q\",\"Lorry (41?100Q)\",\"Lorry (41?100Q)\",\"Public (13?45 seats)\",\"Public (12 seats)\",\"Other\",\"Lorry (41?100Q)\",\"Pick up upto 10Q\",\"Automobile\",\"Automobile\",\"Lorry (41?100Q)\",\"Automobile\",\"Public (13?45 seats)\",\"Public (\\u003e 45 seats)\",\"Public (13?45 seats)\",\"Taxi\",\"Automobile\",\"Automobile\",\"Pick up upto 10Q\",\"Stationwagen\",\"Automobile\",\"Lorry (41?100Q)\",\"Public (\\u003e 45 seats)\",\"Automobile\",\"Automobile\",\"Lorry (41?100Q)\",\"Public (\\u003e 45 seats)\",\"Lorry (41?100Q)\",\"Lorry (41?100Q)\",\"Public (12 seats)\",\"Automobile\",\"Lorry (41?100Q)\",\"Automobile\",\"Taxi\",\"Automobile\",\"Stationwagen\",\"Ridden horse\",\"Other\",\"Public (12 seats)\",\"Public (12 seats)\",\"Lorry (11?40Q)\",\"Automobile\",\"Bajaj\",\"Automobile\",\"Lorry (41?100Q)\",\"Lorry (11?40Q)\",\"Stationwagen\",\"Other\",\"Other\",\"Lorry (41?100Q)\",\"Automobile\",\"Automobile\",\"Other\",\"Other\",\"Other\",\"Public (12 seats)\",\"Lorry (41?100Q)\",\"Pick up upto 10Q\",\"Lorry (41?100Q)\",\"Long lorry\",\"Lorry (41?100Q)\",\"Lorry (11?40Q)\",\"Bajaj\",\"Automobile\",\"Lorry (41?100Q)\",\"Other\",\"Public (13?45 seats)\",\"Public (13?45 seats)\",\"Other\",\"Automobile\",\"Automobile\",\"Other\",\"Lorry (41?100Q)\",\"Automobile\",\"Pick up upto 10Q\",\"Lorry (41?100Q)\",\"Automobile\",\"Lorry (41?100Q)\",\"Automobile\",\"Automobile\",\"Automobile\",\"Automobile\",\"Lorry (11?40Q)\",\"Motorcycle\",\"Pick up upto 10Q\",\"Lorry (11?40Q)\",\"Other\",\"Automobile\",\"Taxi\",\"Automobile\",\"Automobile\",\"Other\",\"Pick up upto 10Q\",\"Lorry (41?100Q)\",\"Lorry (41?100Q)\",\"Automobile\",\"Stationwagen\",\"Lorry (41?100Q)\",\"Lorry (41?100Q)\",\"Automobile\",\"Automobile\",\"Motorcycle\",\"Lorry (41?100Q)\",\"Public (13?45 seats)\",\"Automobile\",\"Pick up upto 10Q\",\"Automobile\",\"Other\",\"Pick up upto 10Q\",\"Pick up upto 10Q\",\"Automobile\",\"Lorry (41?100Q)\",\"Lorry (41?100Q)\",\"Other\",\"Public (12 seats)\",\"Other\",\"Other\",\"Lorry (41?100Q)\",\"Stationwagen\",\"Pick up upto 10Q\",\"Automobile\",\"Automobile\",\"Automobile\",\"Automobile\",\"Automobile\",\"Automobile\",\"Pick up upto 10Q\",\"Pick up upto 10Q\",\"Lorry (41?100Q)\",\"Pick up upto 10Q\",\"Pick up upto 10Q\",\"Lorry (41?100Q)\",\"Automobile\",\"Automobile\",\"Public (12 seats)\",\"Public (12 seats)\",\"Automobile\",\"Lorry (41?100Q)\",\"Other\",\"Automobile\",\"Lorry (41?100Q)\",\"Lorry (41?100Q)\",\"Automobile\",\"Public (13?45 seats)\",\"Lorry (41?100Q)\",\"Other\",\"Motorcycle\",\"Lorry (41?100Q)\",\"Lorry (41?100Q)\",\"Automobile\",\"Stationwagen\",\"Public (\\u003e 45 seats)\",\"Other\",\"Public (12 seats)\",\"Lorry (41?100Q)\",\"Lorry (41?100Q)\",\"Public (13?45 seats)\",\"Lorry (41?100Q)\",\"Motorcycle\",\"Lorry (41?100Q)\",\"Automobile\",\"Automobile\",\"Automobile\",\"Taxi\",\"Automobile\",\"Public (12 seats)\",\"Public (\\u003e 45 seats)\",\"Other\",\"Lorry (41?100Q)\",\"Automobile\",\"Other\",\"Taxi\",\"Lorry (41?100Q)\",\"Taxi\",\"Other\",\"Automobile\",\"Automobile\",\"Taxi\",\"Lorry (11?40Q)\",\"Long lorry\",\"Long lorry\",\"Long lorry\",\"Public (13?45 seats)\",\"Lorry (11?40Q)\",\"Automobile\",\"Automobile\",\"Automobile\",\"Automobile\",\"Automobile\",\"Stationwagen\",\"Public (\\u003e 45 seats)\",\"Stationwagen\",\"Bicycle\",\"Automobile\",\"Lorry (41?100Q)\",\"Public (13?45 seats)\",\"Special vehicle\",\"Public (13?45 seats)\",\"Lorry (41?100Q)\",\"Lorry (41?100Q)\",\"Lorry (41?100Q)\",\"Pick up upto 10Q\",\"Automobile\",\"Long lorry\",\"Public (\\u003e 45 seats)\",\"Pick up upto 10Q\",\"Public (\\u003e 45 seats)\",\"Other\",\"Lorry (41?100Q)\",\"Lorry (41?100Q)\",\"Lorry (41?100Q)\",\"Public (\\u003e 45 seats)\",\"Automobile\",\"Public (\\u003e 45 seats)\",\"Lorry (11?40Q)\",\"Other\",\"Other\",\"Automobile\",\"Stationwagen\",\"Lorry (41?100Q)\",\"Automobile\",\"Public (13?45 seats)\",\"Lorry (41?100Q)\",\"Lorry (11?40Q)\",\"Automobile\",\"Pick up upto 10Q\",\"Pick up upto 10Q\",\"Lorry (41?100Q)\",\"Long lorry\",\"Lorry (41?100Q)\",\"Public (\\u003e 45 seats)\",\"Automobile\",\"Lorry (11?40Q)\",\"Lorry (11?40Q)\",\"Other\",\"Other\",\"Automobile\",\"Public (13?45 seats)\",\"Lorry (41?100Q)\",\"Lorry (41?100Q)\",\"Stationwagen\",\"Other\",\"Other\",\"Public (13?45 seats)\",\"Other\",\"Lorry (11?40Q)\",\"Lorry (11?40Q)\",\"Long lorry\",\"Lorry (41?100Q)\",\"Taxi\",\"Public (\\u003e 45 seats)\",\"Lorry (11?40Q)\",\"Lorry (41?100Q)\",\"Lorry (41?100Q)\",\"Stationwagen\",\"Other\",\"Automobile\",\"Pick up upto 10Q\",\"Lorry (41?100Q)\",\"Automobile\",\"Long lorry\",\"Automobile\",\"Public (12 seats)\",\"Pick up upto 10Q\",\"Automobile\",\"Long lorry\",\"Taxi\",\"Taxi\",\"Lorry (11?40Q)\",\"Turbo\",\"Pick up upto 10Q\",\"Public (13?45 seats)\",\"Lorry (11?40Q)\",\"Lorry (11?40Q)\",\"Stationwagen\",\"Special vehicle\",\"Lorry (41?100Q)\",\"Automobile\",\"Stationwagen\",\"Automobile\",\"Automobile\",\"Special vehicle\",\"Automobile\",\"Public (12 seats)\",\"Stationwagen\",\"Motorcycle\",\"Public (12 seats)\",\"Public (\\u003e 45 seats)\",\"Automobile\",\"Automobile\",\"Lorry (41?100Q)\",\"Automobile\",\"Lorry (11?40Q)\",\"Public (12 seats)\",\"Taxi\",\"Automobile\",\"Automobile\",\"Taxi\",\"Automobile\",\"Automobile\",\"Public (12 seats)\",\"Automobile\",\"Automobile\",\"Automobile\",\"Public (12 seats)\",\"Automobile\",\"Other\",\"Lorry (11?40Q)\",\"Long lorry\",\"Other\",\"Other\",\"Other\",\"Other\",\"Lorry (41?100Q)\",\"Public (13?45 seats)\",\"Public (12 seats)\",\"Lorry (41?100Q)\",\"Pick up upto 10Q\",\"Ridden horse\",\"Other\",\"Lorry (41?100Q)\",\"Lorry (41?100Q)\",\"Stationwagen\",\"Public (12 seats)\",\"Lorry (41?100Q)\",\"Lorry (41?100Q)\",\"Lorry (41?100Q)\",\"Pick up upto 10Q\",\"Other\",\"Automobile\",\"Bajaj\",\"Public (13?45 seats)\",\"Automobile\",\"Automobile\",\"Automobile\",\"Other\",\"Lorry (41?100Q)\",\"Stationwagen\",\"Lorry (41?100Q)\",\"Automobile\",\"Lorry (41?100Q)\",\"Automobile\",\"Public (13?45 seats)\",\"Automobile\",\"Lorry (11?40Q)\",\"Automobile\",\"Automobile\",\"Other\",\"Other\",\"Taxi\",\"Automobile\",\"Automobile\",\"Automobile\",\"Automobile\",\"Public (13?45 seats)\",\"Pick up upto 10Q\",\"Pick up upto 10Q\",\"Lorry (41?100Q)\",\"Lorry (41?100Q)\",\"Automobile\",\"Pick up upto 10Q\",\"Other\",\"Public (12 seats)\",\"Lorry (41?100Q)\",\"Public (12 seats)\",\"Lorry (41?100Q)\",\"Stationwagen\",\"Other\",\"Lorry (41?100Q)\",\"Automobile\",\"Pick up upto 10Q\",\"Public (\\u003e 45 seats)\",\"Automobile\",\"Pick up upto 10Q\",\"Automobile\",\"Automobile\",\"Other\",\"Other\",\"Automobile\",\"Lorry (41?100Q)\",\"Stationwagen\",\"Lorry (41?100Q)\",\"Automobile\",\"Automobile\",\"Taxi\",\"Pick up upto 10Q\",\"Public (\\u003e 45 seats)\",\"Automobile\",\"Automobile\",\"Public (12 seats)\",\"Stationwagen\",\"Automobile\",\"Pick up upto 10Q\",\"Other\",\"Pick up upto 10Q\",\"Automobile\",\"Automobile\",\"Public (12 seats)\",\"Other\",\"Stationwagen\",\"Public (\\u003e 45 seats)\",\"Automobile\",\"Automobile\",\"Lorry (41?100Q)\",\"Lorry (41?100Q)\",\"Automobile\",\"Stationwagen\",\"Public (12 seats)\",\"Lorry (41?100Q)\",\"Automobile\",\"Stationwagen\",\"Automobile\",\"Lorry (41?100Q)\",\"Automobile\",\"Public (12 seats)\",\"Lorry (41?100Q)\",\"Automobile\",\"Automobile\",\"Lorry (41?100Q)\",\"Automobile\",\"Public (\\u003e 45 seats)\",\"Lorry (41?100Q)\",\"Public (12 seats)\",\"Stationwagen\",\"Stationwagen\",\"Lorry (41?100Q)\",\"Stationwagen\",\"Other\",\"Public (\\u003e 45 seats)\",\"Automobile\",\"Public (\\u003e 45 seats)\",\"Lorry (41?100Q)\",\"Lorry (41?100Q)\",\"Lorry (41?100Q)\",\"Lorry (41?100Q)\",\"Public (\\u003e 45 seats)\",\"Taxi\",\"Stationwagen\",\"Public (12 seats)\",\"Automobile\",\"Public (\\u003e 45 seats)\",\"Stationwagen\",\"Stationwagen\",\"Automobile\",\"Other\",\"Taxi\",\"Automobile\",\"Long lorry\",\"Long lorry\",\"Lorry (41?100Q)\",\"Other\",\"Automobile\",\"Automobile\",\"Automobile\",\"Lorry (11?40Q)\",\"Pick up upto 10Q\",\"Motorcycle\",\"Pick up upto 10Q\",\"Automobile\",\"Automobile\",\"Taxi\",\"Long lorry\",\"Long lorry\",\"Public (13?45 seats)\",\"Public (13?45 seats)\",\"Lorry (11?40Q)\",\"Automobile\",\"Automobile\",\"Long lorry\",\"Special vehicle\",\"Pick up upto 10Q\",\"Lorry (11?40Q)\",\"Lorry (41?100Q)\",\"Motorcycle\",\"Automobile\",\"Stationwagen\",\"Public (\\u003e 45 seats)\",\"Automobile\",\"Stationwagen\",\"Other\",\"Automobile\",\"Lorry (41?100Q)\",\"Pick up upto 10Q\",\"Automobile\",\"Motorcycle\",\"Automobile\",\"Public (12 seats)\",\"Automobile\",\"Pick up upto 10Q\",\"Automobile\",\"Other\",\"Automobile\",\"Public (12 seats)\",\"Public (12 seats)\",\"Lorry (41?100Q)\",\"Automobile\",\"Lorry (11?40Q)\",\"Lorry (11?40Q)\",\"Automobile\",\"Public (13?45 seats)\",\"Lorry (41?100Q)\",\"Lorry (41?100Q)\",\"Lorry (41?100Q)\",\"Lorry (41?100Q)\",\"Other\",\"Stationwagen\",\"Automobile\",\"Stationwagen\",\"Other\",\"Ridden horse\",\"Lorry (41?100Q)\",\"Pick up upto 10Q\",\"Pick up upto 10Q\",\"Automobile\",\"Other\",\"Lorry (41?100Q)\",\"Pick up upto 10Q\",\"Other\",\"Special vehicle\",\"Automobile\",\"Lorry (11?40Q)\",\"Special vehicle\",\"Lorry (41?100Q)\",\"Automobile\",\"Lorry (41?100Q)\",\"Lorry (41?100Q)\",\"Other\",\"Taxi\",\"Public (\\u003e 45 seats)\",\"Stationwagen\",\"Lorry (41?100Q)\",\"Public (13?45 seats)\",\"Ridden horse\",\"Lorry (41?100Q)\",\"Pick up upto 10Q\",\"Lorry (41?100Q)\",\"Stationwagen\",\"Taxi\",\"Automobile\",\"Long lorry\",\"Lorry (41?100Q)\",\"Lorry (11?40Q)\",\"Taxi\",\"Automobile\",\"Public (\\u003e 45 seats)\",\"Lorry (41?100Q)\",\"Other\",\"Automobile\",\"Pick up upto 10Q\",\"Motorcycle\",\"Stationwagen\",\"Lorry (41?100Q)\",\"Automobile\",\"Lorry (11?40Q)\",\"Automobile\",\"Lorry (11?40Q)\",\"Long lorry\",\"Turbo\",\"Automobile\",\"Long lorry\",\"Public (13?45 seats)\",\"Lorry (11?40Q)\",\"Pick up upto 10Q\",\"Automobile\",\"Automobile\",\"Long lorry\",\"Stationwagen\",\"Motorcycle\",\"Stationwagen\",\"Public (\\u003e 45 seats)\",\"Stationwagen\",\"Automobile\",\"Public (13?45 seats)\",\"Special vehicle\",\"Automobile\",\"Public (\\u003e 45 seats)\",\"Automobile\",\"Automobile\",\"Lorry (41?100Q)\",\"Lorry (41?100Q)\",\"Automobile\",\"Lorry (41?100Q)\",\"Automobile\",\"Public (13?45 seats)\",\"Automobile\",\"Lorry (41?100Q)\",\"Lorry (11?40Q)\",\"Taxi\",\"Lorry (41?100Q)\",\"Ridden horse\",\"Automobile\",\"Public (\\u003e 45 seats)\",\"Public (12 seats)\",\"Automobile\",\"Bajaj\",\"Pick up upto 10Q\",\"Lorry (11?40Q)\",\"Lorry (41?100Q)\",\"Lorry (41?100Q)\",\"Automobile\",\"Pick up upto 10Q\",\"Automobile\",\"Public (12 seats)\",\"Other\",\"Other\",\"Other\",\"Other\",\"Pick up upto 10Q\",\"Lorry (41?100Q)\",\"Public (13?45 seats)\",\"Other\",\"Lorry (41?100Q)\",\"Other\",\"Other\",\"Automobile\",\"Lorry (41?100Q)\",\"Pick up upto 10Q\",\"Automobile\",\"Lorry (11?40Q)\",\"Public (13?45 seats)\",\"Public (12 seats)\",\"Automobile\",\"Public (13?45 seats)\",\"Automobile\",\"Automobile\",\"Automobile\",\"Lorry (41?100Q)\",\"Automobile\",\"Lorry (41?100Q)\",\"Other\",\"Pick up upto 10Q\",\"Other\",\"Pick up upto 10Q\",\"Stationwagen\",\"Lorry (41?100Q)\",\"Automobile\",\"Stationwagen\",\"Lorry (41?100Q)\",\"Automobile\",\"Automobile\",\"Automobile\",\"Automobile\",\"Pick up upto 10Q\",\"Lorry (11?40Q)\",\"Lorry (11?40Q)\",\"Automobile\",\"Automobile\",\"Other\",\"Other\",\"Lorry (11?40Q)\",\"Other\",\"Pick up upto 10Q\",\"Automobile\",\"Long lorry\",\"Public (13?45 seats)\",\"Pick up upto 10Q\",\"Lorry (41?100Q)\",\"Other\",\"Automobile\",\"Pick up upto 10Q\",\"Lorry (41?100Q)\",\"Automobile\",\"Lorry (41?100Q)\",\"Automobile\",\"Lorry (41?100Q)\",\"Public (13?45 seats)\",\"Public (12 seats)\",\"Lorry (41?100Q)\",\"Public (\\u003e 45 seats)\",\"Automobile\",\"Other\",\"Lorry (41?100Q)\",\"Pick up upto 10Q\",\"Public (13?45 seats)\",\"Automobile\",\"Lorry (41?100Q)\",\"Lorry (41?100Q)\",\"Lorry (41?100Q)\",\"Automobile\",\"Other\",\"Other\",\"Lorry (41?100Q)\",\"Public (12 seats)\",\"Other\",\"Automobile\",\"Automobile\",\"Other\",\"Lorry (41?100Q)\",\"Lorry (41?100Q)\",\"Other\",\"Lorry (41?100Q)\",\"Automobile\",\"Pick up upto 10Q\",\"Lorry (41?100Q)\",\"Public (\\u003e 45 seats)\",\"Automobile\",\"Public (12 seats)\",\"Stationwagen\",\"Automobile\",\"Automobile\",\"Pick up upto 10Q\",\"Lorry (41?100Q)\",\"Lorry (41?100Q)\",\"Automobile\",\"Lorry (41?100Q)\",\"Automobile\",\"Public (12 seats)\",\"Public (12 seats)\",\"Stationwagen\",\"Automobile\",\"Other\",\"Automobile\",\"Lorry (41?100Q)\",\"Public (13?45 seats)\",\"Motorcycle\",\"Automobile\",\"Lorry (41?100Q)\",\"Stationwagen\",\"Lorry (41?100Q)\",\"Automobile\",\"Stationwagen\",\"Lorry (41?100Q)\",\"Other\",\"Pick up upto 10Q\",\"Lorry (41?100Q)\",\"Automobile\",\"Public (12 seats)\",\"Automobile\",\"Lorry (41?100Q)\",\"Automobile\",\"Automobile\",\"Public (12 seats)\",\"Automobile\",\"Lorry (41?100Q)\",\"Automobile\",\"Public (\\u003e 45 seats)\",\"Automobile\",\"Other\",\"Public (12 seats)\",\"Stationwagen\",\"Other\",\"Long lorry\",\"Lorry (41?100Q)\",\"Other\",\"Lorry (11?40Q)\",\"Lorry (41?100Q)\",\"Lorry (41?100Q)\",\"Automobile\",\"Pick up upto 10Q\",\"Pick up upto 10Q\",\"Pick up upto 10Q\",\"Automobile\",\"Long lorry\",\"Lorry (11?40Q)\",\"Long lorry\",\"Long lorry\",\"Public (13?45 seats)\",\"Automobile\",\"Automobile\",\"Long lorry\",\"Public (13?45 seats)\",\"Automobile\",\"Automobile\",\"Stationwagen\",\"Special vehicle\",\"Lorry (41?100Q)\",\"Lorry (11?40Q)\",\"Motorcycle\",\"Automobile\",\"Public (\\u003e 45 seats)\",\"Stationwagen\",\"Automobile\",\"Lorry (41?100Q)\",\"Automobile\",\"Public (13?45 seats)\",\"Lorry (41?100Q)\",\"Lorry (41?100Q)\",\"Public (\\u003e 45 seats)\",\"Other\",\"Lorry (41?100Q)\",\"Lorry (41?100Q)\",\"Pick up upto 10Q\",\"Automobile\",\"Pick up upto 10Q\",\"Lorry (41?100Q)\",\"Public (13?45 seats)\",\"Automobile\",\"Lorry (41?100Q)\",\"Pick up upto 10Q\",\"Public (12 seats)\",\"Other\",\"Other\",\"Automobile\",\"Stationwagen\",\"Lorry (41?100Q)\",\"Public (12 seats)\",\"Other\",\"Public (12 seats)\",\"Lorry (11?40Q)\",\"Pick up upto 10Q\",\"Lorry (11?40Q)\",\"Other\",\"Other\",\"Automobile\",\"Lorry (41?100Q)\",\"Lorry (41?100Q)\",\"Lorry (41?100Q)\",\"Other\",\"Automobile\",\"Public (\\u003e 45 seats)\",\"Other\",\"Public (13?45 seats)\",\"Lorry (41?100Q)\",\"Pick up upto 10Q\",\"Lorry (11?40Q)\",\"Automobile\",\"Other\",\"Lorry (41?100Q)\",\"Pick up upto 10Q\",\"Lorry (11?40Q)\",\"Pick up upto 10Q\",\"Other\",\"Public (13?45 seats)\",\"Lorry (41?100Q)\",\"Lorry (41?100Q)\",\"Lorry (41?100Q)\",\"Automobile\",\"Taxi\",\"Lorry (41?100Q)\",\"Other\",\"Automobile\",\"Other\",\"Lorry (41?100Q)\",\"Pick up upto 10Q\",\"Lorry (11?40Q)\",\"Motorcycle\",\"Long lorry\",\"Taxi\",\"Other\",\"Lorry (41?100Q)\",\"Stationwagen\",\"Taxi\",\"Automobile\",\"Public (12 seats)\",\"Pick up upto 10Q\",\"Automobile\",\"Long lorry\",\"Taxi\",\"Lorry (11?40Q)\",\"Turbo\",\"Long lorry\",\"Public (13?45 seats)\",\"Public (13?45 seats)\",\"Lorry (11?40Q)\",\"Lorry (11?40Q)\",\"Pick up upto 10Q\",\"Automobile\",\"Automobile\",\"Long lorry\",\"Special vehicle\",\"Lorry (41?100Q)\",\"Stationwagen\",\"Stationwagen\",\"Bicycle\",\"Lorry (41?100Q)\",\"Public (13?45 seats)\",\"Public (12 seats)\",\"Public (\\u003e 45 seats)\",\"Automobile\",\"Pick up upto 10Q\",\"Stationwagen\",\"Stationwagen\",\"Lorry (41?100Q)\",\"Other\",\"Automobile\",\"Motorcycle\",\"Automobile\",\"Public (\\u003e 45 seats)\",\"Automobile\",\"Automobile\",\"Public (\\u003e 45 seats)\",\"Lorry (41?100Q)\",\"Automobile\",\"Public (12 seats)\",\"Automobile\",\"Automobile\",\"Public (12 seats)\",\"Automobile\",\"Automobile\",\"Automobile\",\"Automobile\",\"Public (12 seats)\",\"Automobile\",\"Other\",\"Lorry (41?100Q)\",\"Other\",\"Public (13?45 seats)\",\"Long lorry\",\"Automobile\",\"Other\",\"Other\",\"Other\",\"Automobile\",\"Other\",\"Other\",\"Lorry (41?100Q)\",\"Lorry (41?100Q)\",\"Long lorry\",\"Public (12 seats)\",\"Automobile\",\"Public (12 seats)\",\"Lorry (41?100Q)\",\"Other\",\"Automobile\",\"Bajaj\",\"Automobile\",\"Lorry (41?100Q)\",\"Lorry (11?40Q)\",\"Automobile\",\"Automobile\",\"Lorry (41?100Q)\",\"Other\",\"Stationwagen\",\"Other\",\"Stationwagen\",\"Automobile\",\"Automobile\",\"Lorry (41?100Q)\",\"Automobile\",\"Public (13?45 seats)\",\"Lorry (11?40Q)\",\"Lorry (11?40Q)\",\"Other\",\"Lorry (11?40Q)\",\"Automobile\",\"Automobile\",\"Automobile\",\"Automobile\",\"Pick up upto 10Q\",\"Automobile\",\"Lorry (41?100Q)\",\"Lorry (41?100Q)\",\"Automobile\",\"Stationwagen\",\"Automobile\",\"Lorry (41?100Q)\",\"Public (12 seats)\",\"Stationwagen\",\"Automobile\",\"Lorry (41?100Q)\",\"Other\",\"Automobile\",\"Other\",\"Public (13?45 seats)\",\"Lorry (41?100Q)\",\"Automobile\",\"Pick up upto 10Q\",\"Automobile\",\"Automobile\",\"Other\",\"Public (13?45 seats)\",\"Lorry (41?100Q)\",\"Automobile\",\"Other\",\"Other\",\"Lorry (41?100Q)\",\"Public (12 seats)\",\"Lorry (41?100Q)\",\"Other\",\"Other\",\"Lorry (41?100Q)\",\"Lorry (41?100Q)\",\"Lorry (41?100Q)\",\"Automobile\",\"Pick up upto 10Q\",\"Long lorry\",\"Pick up upto 10Q\",\"Lorry (41?100Q)\",\"Public (\\u003e 45 seats)\",\"Automobile\",\"Public (12 seats)\",\"Automobile\",\"Automobile\",\"Pick up upto 10Q\",\"Other\",\"Pick up upto 10Q\",\"Automobile\",\"Automobile\",\"Pick up upto 10Q\",\"Pick up upto 10Q\",\"Stationwagen\",\"Automobile\",\"Lorry (41?100Q)\",\"Lorry (41?100Q)\",\"Lorry (41?100Q)\",\"Automobile\",\"Lorry (41?100Q)\",\"Lorry (41?100Q)\",\"Automobile\",\"Public (13?45 seats)\",\"Public (13?45 seats)\",\"Other\",\"Automobile\",\"Other\",\"Public (\\u003e 45 seats)\",\"Lorry (41?100Q)\",\"Lorry (41?100Q)\",\"Public (12 seats)\",\"Stationwagen\",\"Lorry (41?100Q)\",\"Other\",\"Lorry (41?100Q)\",\"Automobile\",\"Pick up upto 10Q\",\"Lorry (41?100Q)\",\"Lorry (41?100Q)\",\"Lorry (41?100Q)\",\"Public (12 seats)\",\"Automobile\",\"Automobile\",\"Public (12 seats)\",\"Automobile\",\"Lorry (41?100Q)\",\"Automobile\",\"Lorry (41?100Q)\",\"Automobile\",\"Automobile\",\"Public (\\u003e 45 seats)\",\"Automobile\",\"Other\",\"Long lorry\",\"Automobile\",\"Automobile\",\"Other\",\"Automobile\",\"Pick up upto 10Q\",\"Lorry (11?40Q)\",\"Long lorry\",\"Taxi\",\"Taxi\",\"Long lorry\",\"Turbo\",\"Automobile\",\"Stationwagen\",\"Automobile\",\"Public (13?45 seats)\",\"Automobile\",\"Pick up upto 10Q\",\"Lorry (41?100Q)\",\"Public (13?45 seats)\",\"Automobile\",\"Public (13?45 seats)\",\"Lorry (41?100Q)\",\"Public (\\u003e 45 seats)\",\"Automobile\",\"Automobile\",\"Pick up upto 10Q\",\"Automobile\",\"Other\",\"Public (12 seats)\",\"Long lorry\",\"Automobile\",\"Automobile\",\"Public (\\u003e 45 seats)\",\"Lorry (41?100Q)\",\"Automobile\",\"Public (13?45 seats)\",\"Automobile\",\"Automobile\",\"Pick up upto 10Q\",\"Other\",\"Automobile\",\"Stationwagen\",\"Lorry (41?100Q)\",\"Public (12 seats)\",\"Stationwagen\",\"Lorry (41?100Q)\",\"Lorry (41?100Q)\",\"Public (\\u003e 45 seats)\",\"Automobile\",\"Automobile\",\"Pick up upto 10Q\",\"Pick up upto 10Q\",\"Lorry (11?40Q)\"],\"xaxis\":\"x\",\"yaxis\":\"y\",\"type\":\"histogram\"},{\"alignmentgroup\":\"True\",\"bingroup\":\"x\",\"hovertemplate\":\"Age_band_of_driver=18-30\\u003cbr\\u003eType_of_vehicle=%{x}\\u003cbr\\u003ecount=%{y}\\u003cextra\\u003e\\u003c\\u002fextra\\u003e\",\"legendgroup\":\"18-30\",\"marker\":{\"color\":\"#EF553B\",\"pattern\":{\"shape\":\"\"}},\"name\":\"18-30\",\"offsetgroup\":\"18-30\",\"orientation\":\"v\",\"showlegend\":true,\"x\":[\"Public (\\u003e 45 seats)\",\"Automobile\",\"Lorry (41?100Q)\",\"Automobile\",\"Public (13?45 seats)\",\"Public (\\u003e 45 seats)\",\"Lorry (11?40Q)\",\"Public (13?45 seats)\",\"Public (13?45 seats)\",\"Long lorry\",\"Lorry (11?40Q)\",\"Lorry (41?100Q)\",\"Taxi\",\"Automobile\",\"Lorry (41?100Q)\",\"Automobile\",\"Automobile\",\"Lorry (41?100Q)\",\"Automobile\",\"Taxi\",\"Automobile\",\"Public (12 seats)\",\"Public (13?45 seats)\",\"Stationwagen\",\"Automobile\",\"Automobile\",\"Public (12 seats)\",\"Lorry (41?100Q)\",\"Other\",\"Lorry (41?100Q)\",\"Lorry (41?100Q)\",\"Public (13?45 seats)\",\"Other\",\"Long lorry\",\"Public (12 seats)\",\"Pick up upto 10Q\",\"Lorry (41?100Q)\",\"Pick up upto 10Q\",\"Lorry (41?100Q)\",\"Other\",\"Lorry (41?100Q)\",\"Ridden horse\",\"Automobile\",\"Automobile\",\"Lorry (41?100Q)\",\"Lorry (41?100Q)\",\"Lorry (41?100Q)\",\"Other\",\"Automobile\",\"Lorry (41?100Q)\",\"Public (13?45 seats)\",\"Public (13?45 seats)\",\"Other\",\"Automobile\",\"Automobile\",\"Automobile\",\"Other\",\"Pick up upto 10Q\",\"Automobile\",\"Automobile\",\"Turbo\",\"Stationwagen\",\"Automobile\",\"Automobile\",\"Lorry (41?100Q)\",\"Lorry (41?100Q)\",\"Lorry (41?100Q)\",\"Automobile\",\"Automobile\",\"Automobile\",\"Automobile\",\"Motorcycle\",\"Pick up upto 10Q\",\"Lorry (11?40Q)\",\"Lorry (11?40Q)\",\"Automobile\",\"Lorry (11?40Q)\",\"Other\",\"Automobile\",\"Lorry (41?100Q)\",\"Other\",\"Automobile\",\"Public (13?45 seats)\",\"Lorry (41?100Q)\",\"Pick up upto 10Q\",\"Pick up upto 10Q\",\"Other\",\"Automobile\",\"Other\",\"Public (12 seats)\",\"Lorry (41?100Q)\",\"Lorry (41?100Q)\",\"Stationwagen\",\"Automobile\",\"Automobile\",\"Public (12 seats)\",\"Motorcycle\",\"Public (12 seats)\",\"Lorry (41?100Q)\",\"Lorry (41?100Q)\",\"Stationwagen\",\"Other\",\"Automobile\",\"Public (13?45 seats)\",\"Public (12 seats)\",\"Motorcycle\",\"Automobile\",\"Public (13?45 seats)\",\"Lorry (41?100Q)\",\"Lorry (41?100Q)\",\"Automobile\",\"Public (12 seats)\",\"Lorry (41?100Q)\",\"Other\",\"Lorry (41?100Q)\",\"Lorry (41?100Q)\",\"Automobile\",\"Automobile\",\"Lorry (41?100Q)\",\"Automobile\",\"Lorry (41?100Q)\",\"Automobile\",\"Pick up upto 10Q\",\"Lorry (41?100Q)\",\"Public (\\u003e 45 seats)\",\"Automobile\",\"Automobile\",\"Automobile\",\"Public (12 seats)\",\"Stationwagen\",\"Automobile\",\"Pick up upto 10Q\",\"Lorry (41?100Q)\",\"Lorry (41?100Q)\",\"Public (12 seats)\",\"Other\",\"Automobile\",\"Automobile\",\"Automobile\",\"Automobile\",\"Public (12 seats)\",\"Public (12 seats)\",\"Automobile\",\"Lorry (41?100Q)\",\"Lorry (41?100Q)\",\"Lorry (41?100Q)\",\"Lorry (41?100Q)\",\"Lorry (41?100Q)\",\"Public (12 seats)\",\"Automobile\",\"Automobile\",\"Lorry (41?100Q)\",\"Public (\\u003e 45 seats)\",\"Public (12 seats)\",\"Lorry (41?100Q)\",\"Automobile\",\"Public (13?45 seats)\",\"Public (\\u003e 45 seats)\",\"Other\",\"Lorry (41?100Q)\",\"Automobile\",\"Pick up upto 10Q\",\"Lorry (41?100Q)\",\"Lorry (41?100Q)\",\"Pick up upto 10Q\",\"Public (\\u003e 45 seats)\",\"Automobile\",\"Automobile\",\"Stationwagen\",\"Public (12 seats)\",\"Automobile\",\"Public (13?45 seats)\",\"Lorry (41?100Q)\",\"Automobile\",\"Other\",\"Other\",\"Long lorry\",\"Automobile\",\"Automobile\",\"Public (\\u003e 45 seats)\",\"Lorry (11?40Q)\",\"Automobile\",\"Public (12 seats)\",\"Lorry (11?40Q)\",\"Pick up upto 10Q\",\"Lorry (41?100Q)\",\"Other\",\"Automobile\",\"Lorry (11?40Q)\",\"Taxi\",\"Taxi\",\"Long lorry\",\"Long lorry\",\"Automobile\",\"Long lorry\",\"Public (13?45 seats)\",\"Automobile\",\"Automobile\",\"Automobile\",\"Lorry (11?40Q)\",\"Automobile\",\"Stationwagen\",\"Public (\\u003e 45 seats)\",\"Stationwagen\",\"Automobile\",\"Bicycle\",\"Lorry (41?100Q)\",\"Automobile\",\"Public (13?45 seats)\",\"Stationwagen\",\"Other\",\"Automobile\",\"Automobile\",\"Automobile\",\"Motorcycle\",\"Automobile\",\"Public (12 seats)\",\"Long lorry\",\"Automobile\",\"Public (\\u003e 45 seats)\",\"Other\",\"Public (13?45 seats)\",\"Automobile\",\"Automobile\",\"Lorry (41?100Q)\",\"Lorry (41?100Q)\",\"Pick up upto 10Q\",\"Pick up upto 10Q\",\"Lorry (11?40Q)\",\"Other\",\"Automobile\",\"Automobile\",\"Public (13?45 seats)\",\"Lorry (41?100Q)\",\"Lorry (41?100Q)\",\"Lorry (41?100Q)\",\"Other\",\"Automobile\",\"Lorry (41?100Q)\",\"Public (13?45 seats)\",\"Other\",\"Ridden horse\",\"Lorry (11?40Q)\",\"Automobile\",\"Automobile\",\"Automobile\",\"Other\",\"Pick up upto 10Q\",\"Special vehicle\",\"Lorry (41?100Q)\",\"Pick up upto 10Q\",\"Other\",\"Public (13?45 seats)\",\"Other\",\"Lorry (41?100Q)\",\"Other\",\"Automobile\",\"Stationwagen\",\"Taxi\",\"Automobile\",\"Automobile\",\"Public (\\u003e 45 seats)\",\"Automobile\",\"Pick up upto 10Q\",\"Motorcycle\",\"Public (12 seats)\",\"Pick up upto 10Q\",\"Taxi\",\"Lorry (11?40Q)\",\"Lorry (11?40Q)\",\"Turbo\",\"Long lorry\",\"Automobile\",\"Pick up upto 10Q\",\"Automobile\",\"Public (13?45 seats)\",\"Lorry (11?40Q)\",\"Lorry (11?40Q)\",\"Pick up upto 10Q\",\"Long lorry\",\"Automobile\",\"Stationwagen\",\"Lorry (41?100Q)\",\"Lorry (11?40Q)\",\"Lorry (41?100Q)\",\"Motorcycle\",\"Stationwagen\",\"Automobile\",\"Automobile\",\"Lorry (41?100Q)\",\"Lorry (41?100Q)\",\"Public (12 seats)\",\"Stationwagen\",\"Automobile\",\"Pick up upto 10Q\",\"Automobile\",\"Motorcycle\",\"Public (12 seats)\",\"Public (\\u003e 45 seats)\",\"Automobile\",\"Lorry (41?100Q)\",\"Automobile\",\"Lorry (41?100Q)\",\"Lorry (41?100Q)\",\"Lorry (11?40Q)\",\"Lorry (41?100Q)\",\"Automobile\",\"Pick up upto 10Q\",\"Lorry (11?40Q)\",\"Stationwagen\",\"Ridden horse\",\"Taxi\",\"Automobile\",\"Public (\\u003e 45 seats)\",\"Public (12 seats)\",\"Automobile\",\"Automobile\",\"Public (12 seats)\",\"Lorry (11?40Q)\",\"Other\",\"Lorry (11?40Q)\",\"Other\",\"Lorry (41?100Q)\",\"Other\",\"Long lorry\",\"Lorry (41?100Q)\",\"Lorry (11?40Q)\",\"Other\",\"Lorry (41?100Q)\",\"Lorry (41?100Q)\",\"Lorry (41?100Q)\",\"Automobile\",\"Automobile\",\"Other\",\"Lorry (41?100Q)\",\"Stationwagen\",\"Public (12 seats)\",\"Automobile\",\"Lorry (41?100Q)\",\"Lorry (11?40Q)\",\"Bajaj\",\"Automobile\",\"Pick up upto 10Q\",\"Lorry (41?100Q)\",\"Automobile\",\"Lorry (41?100Q)\",\"Automobile\",\"Automobile\",\"Automobile\",\"Lorry (41?100Q)\",\"Other\",\"Pick up upto 10Q\",\"Other\",\"Pick up upto 10Q\",\"Lorry (41?100Q)\",\"Automobile\",\"Lorry (41?100Q)\",\"Lorry (41?100Q)\",\"Lorry (41?100Q)\",\"Automobile\",\"Automobile\",\"Public (13?45 seats)\",\"Automobile\",\"Other\",\"Pick up upto 10Q\",\"Automobile\",\"Automobile\",\"Other\",\"Other\",\"Taxi\",\"Automobile\",\"Automobile\",\"Other\",\"Pick up upto 10Q\",\"Automobile\",\"Public (13?45 seats)\",\"Lorry (41?100Q)\",\"Pick up upto 10Q\",\"Automobile\",\"Other\",\"Other\",\"Automobile\",\"Lorry (41?100Q)\",\"Automobile\",\"Automobile\",\"Public (12 seats)\",\"Other\",\"Public (12 seats)\",\"Lorry (41?100Q)\",\"Automobile\",\"Pick up upto 10Q\",\"Pick up upto 10Q\",\"Stationwagen\",\"Automobile\",\"Public (\\u003e 45 seats)\",\"Automobile\",\"Other\",\"Other\",\"Other\",\"Lorry (41?100Q)\",\"Public (12 seats)\",\"Lorry (41?100Q)\",\"Lorry (41?100Q)\",\"Other\",\"Other\",\"Automobile\",\"Other\",\"Automobile\",\"Pick up upto 10Q\",\"Taxi\",\"Other\",\"Lorry (41?100Q)\",\"Lorry (41?100Q)\",\"Public (\\u003e 45 seats)\",\"Public (\\u003e 45 seats)\",\"Other\",\"Public (12 seats)\",\"Automobile\",\"Automobile\",\"Pick up upto 10Q\",\"Lorry (41?100Q)\",\"Automobile\",\"Other\",\"Stationwagen\",\"Public (12 seats)\",\"Lorry (41?100Q)\",\"Stationwagen\",\"Automobile\",\"Public (13?45 seats)\",\"Public (13?45 seats)\",\"Motorcycle\",\"Automobile\",\"Lorry (41?100Q)\",\"Lorry (41?100Q)\",\"Public (12 seats)\",\"Stationwagen\",\"Lorry (41?100Q)\",\"Stationwagen\",\"Stationwagen\",\"Other\",\"Public (\\u003e 45 seats)\",\"Lorry (41?100Q)\",\"Lorry (41?100Q)\",\"Lorry (41?100Q)\",\"Ridden horse\",\"Automobile\",\"Automobile\",\"Lorry (41?100Q)\",\"Automobile\",\"Automobile\",\"Lorry (41?100Q)\",\"Automobile\",\"Other\",\"Stationwagen\",\"Automobile\",\"Automobile\",\"Long lorry\",\"Lorry (11?40Q)\",\"Taxi\",\"Automobile\",\"Lorry (41?100Q)\",\"Stationwagen\",\"Automobile\",\"Pick up upto 10Q\",\"Motorcycle\",\"Lorry (41?100Q)\",\"Taxi\",\"Long lorry\",\"Turbo\",\"Long lorry\",\"Long lorry\",\"Public (13?45 seats)\",\"Automobile\",\"Stationwagen\",\"Automobile\",\"Lorry (11?40Q)\",\"Long lorry\",\"Automobile\",\"Other\",\"Lorry (41?100Q)\",\"Automobile\",\"Bicycle\",\"Lorry (41?100Q)\",\"Special vehicle\",\"Automobile\",\"Public (13?45 seats)\",\"Lorry (41?100Q)\",\"Lorry (41?100Q)\",\"Other\",\"Stationwagen\",\"Pick up upto 10Q\",\"Pick up upto 10Q\",\"Other\",\"Public (12 seats)\",\"Automobile\",\"Public (\\u003e 45 seats)\",\"Pick up upto 10Q\",\"Public (13?45 seats)\",\"Automobile\",\"Public (\\u003e 45 seats)\",\"Public (12 seats)\",\"Automobile\",\"Lorry (41?100Q)\",\"Public (\\u003e 45 seats)\",\"Lorry (41?100Q)\",\"Public (\\u003e 45 seats)\",\"Automobile\",\"Automobile\",\"Public (\\u003e 45 seats)\",\"Pick up upto 10Q\",\"Special vehicle\",\"Lorry (41?100Q)\",\"Automobile\",\"Lorry (41?100Q)\",\"Other\",\"Stationwagen\",\"Lorry (41?100Q)\",\"Lorry (41?100Q)\",\"Automobile\",\"Public (\\u003e 45 seats)\",\"Automobile\",\"Public (13?45 seats)\",\"Other\",\"Lorry (41?100Q)\",\"Lorry (11?40Q)\",\"Automobile\",\"Lorry (41?100Q)\",\"Other\",\"Pick up upto 10Q\",\"Lorry (41?100Q)\",\"Pick up upto 10Q\",\"Lorry (41?100Q)\",\"Pick up upto 10Q\",\"Long lorry\",\"Automobile\",\"Automobile\",\"Public (\\u003e 45 seats)\",\"Pick up upto 10Q\",\"Special vehicle\",\"Lorry (41?100Q)\",\"Other\",\"Automobile\",\"Public (13?45 seats)\",\"Lorry (41?100Q)\",\"Taxi\",\"Automobile\",\"Stationwagen\",\"Public (13?45 seats)\",\"Other\",\"Ridden horse\",\"Lorry (41?100Q)\",\"Pick up upto 10Q\",\"Lorry (11?40Q)\",\"Automobile\",\"Stationwagen\",\"Taxi\",\"Long lorry\",\"Long lorry\",\"Lorry (41?100Q)\",\"Lorry (41?100Q)\",\"Lorry (11?40Q)\",\"Automobile\",\"Other\",\"Automobile\",\"Automobile\",\"Automobile\",\"Automobile\",\"Pick up upto 10Q\",\"Motorcycle\",\"Automobile\",\"Pick up upto 10Q\",\"Other\",\"Automobile\",\"Long lorry\",\"Taxi\",\"Taxi\",\"Lorry (11?40Q)\",\"Turbo\",\"Automobile\",\"Public (13?45 seats)\",\"Long lorry\",\"Other\",\"Motorcycle\",\"Automobile\",\"Automobile\",\"Special vehicle\",\"Public (13?45 seats)\",\"Stationwagen\",\"Other\",\"Automobile\",\"Public (13?45 seats)\",\"Public (\\u003e 45 seats)\",\"Lorry (41?100Q)\",\"Public (12 seats)\",\"Automobile\",\"Lorry (41?100Q)\",\"Automobile\",\"Automobile\",\"Taxi\",\"Automobile\",\"Public (12 seats)\",\"Automobile\",\"Automobile\",\"Lorry (41?100Q)\",\"Lorry (41?100Q)\",\"Automobile\",\"Lorry (41?100Q)\",\"Automobile\",\"Pick up upto 10Q\",\"Public (13?45 seats)\",\"Taxi\",\"Stationwagen\",\"Public (12 seats)\",\"Lorry (41?100Q)\",\"Automobile\",\"Automobile\",\"Public (\\u003e 45 seats)\",\"Lorry (41?100Q)\",\"Public (13?45 seats)\",\"Lorry (41?100Q)\",\"Automobile\",\"Automobile\",\"Taxi\",\"Public (12 seats)\",\"Other\",\"Taxi\",\"Lorry (41?100Q)\",\"Public (12 seats)\",\"Public (12 seats)\",\"Public (\\u003e 45 seats)\",\"Lorry (41?100Q)\",\"Lorry (41?100Q)\",\"Automobile\",\"Public (\\u003e 45 seats)\",\"Lorry (41?100Q)\",\"Automobile\",\"Lorry (11?40Q)\",\"Taxi\",\"Automobile\",\"Automobile\",\"Automobile\",\"Automobile\",\"Automobile\",\"Public (12 seats)\",\"Automobile\",\"Taxi\",\"Automobile\",\"Automobile\",\"Lorry (41?100Q)\",\"Public (12 seats)\",\"Public (12 seats)\",\"Automobile\",\"Public (13?45 seats)\",\"Automobile\",\"Public (13?45 seats)\",\"Long lorry\",\"Public (12 seats)\",\"Automobile\",\"Public (13?45 seats)\",\"Lorry (11?40Q)\",\"Automobile\",\"Automobile\",\"Lorry (41?100Q)\",\"Automobile\",\"Public (13?45 seats)\",\"Automobile\",\"Lorry (41?100Q)\",\"Taxi\",\"Automobile\",\"Automobile\",\"Automobile\",\"Automobile\",\"Automobile\",\"Public (12 seats)\",\"Ridden horse\",\"Automobile\",\"Public (12 seats)\",\"Automobile\",\"Public (\\u003e 45 seats)\",\"Lorry (41?100Q)\",\"Bajaj\",\"Public (12 seats)\",\"Lorry (11?40Q)\",\"Other\",\"Lorry (41?100Q)\",\"Long lorry\",\"Automobile\",\"Other\",\"Long lorry\",\"Other\",\"Automobile\",\"Lorry (41?100Q)\",\"Lorry (41?100Q)\",\"Other\",\"Lorry (41?100Q)\",\"Public (12 seats)\",\"Lorry (11?40Q)\",\"Lorry (11?40Q)\",\"Other\",\"Automobile\",\"Lorry (41?100Q)\",\"Other\",\"Lorry (41?100Q)\",\"Stationwagen\",\"Automobile\",\"Automobile\",\"Automobile\",\"Automobile\",\"Public (13?45 seats)\",\"Automobile\",\"Lorry (41?100Q)\",\"Other\",\"Lorry (11?40Q)\",\"Automobile\",\"Other\",\"Taxi\",\"Other\",\"Taxi\",\"Long lorry\",\"Lorry (41?100Q)\",\"Public (13?45 seats)\",\"Lorry (41?100Q)\",\"Other\",\"Pick up upto 10Q\",\"Automobile\",\"Automobile\",\"Public (12 seats)\",\"Automobile\",\"Lorry (41?100Q)\",\"Other\",\"Automobile\",\"Automobile\",\"Public (12 seats)\",\"Automobile\",\"Stationwagen\",\"Pick up upto 10Q\",\"Automobile\",\"Automobile\",\"Pick up upto 10Q\",\"Pick up upto 10Q\",\"Automobile\",\"Stationwagen\",\"Public (\\u003e 45 seats)\",\"Public (13?45 seats)\",\"Automobile\",\"Pick up upto 10Q\",\"Automobile\",\"Lorry (41?100Q)\",\"Lorry (41?100Q)\",\"Lorry (41?100Q)\",\"Lorry (41?100Q)\",\"Automobile\",\"Public (12 seats)\",\"Lorry (41?100Q)\",\"Other\",\"Lorry (41?100Q)\",\"Public (\\u003e 45 seats)\",\"Lorry (41?100Q)\",\"Other\",\"Other\",\"Other\",\"Other\",\"Lorry (41?100Q)\",\"Automobile\",\"Other\",\"Pick up upto 10Q\",\"Lorry (41?100Q)\",\"Other\",\"Automobile\",\"Pick up upto 10Q\",\"Automobile\",\"Other\",\"Automobile\",\"Lorry (41?100Q)\",\"Automobile\",\"Automobile\",\"Public (12 seats)\",\"Lorry (41?100Q)\",\"Automobile\",\"Automobile\",\"Stationwagen\",\"Lorry (41?100Q)\",\"Automobile\",\"Public (13?45 seats)\",\"Public (13?45 seats)\",\"Lorry (41?100Q)\",\"Automobile\",\"Lorry (41?100Q)\",\"Public (\\u003e 45 seats)\",\"Automobile\",\"Public (13?45 seats)\",\"Stationwagen\",\"Stationwagen\",\"Public (12 seats)\",\"Stationwagen\",\"Automobile\",\"Pick up upto 10Q\",\"Public (12 seats)\",\"Lorry (41?100Q)\",\"Lorry (41?100Q)\",\"Ridden horse\",\"Automobile\",\"Automobile\",\"Public (12 seats)\",\"Stationwagen\",\"Automobile\",\"Public (12 seats)\",\"Automobile\",\"Automobile\",\"Lorry (41?100Q)\",\"Automobile\",\"Automobile\",\"Other\",\"Stationwagen\",\"Lorry (41?100Q)\",\"Automobile\",\"Automobile\",\"Public (13?45 seats)\",\"Lorry (41?100Q)\",\"Lorry (41?100Q)\",\"Stationwagen\",\"Taxi\",\"Automobile\",\"Other\",\"Automobile\",\"Automobile\",\"Pick up upto 10Q\",\"Stationwagen\",\"Taxi\",\"Automobile\",\"Lorry (11?40Q)\",\"Long lorry\",\"Automobile\",\"Taxi\",\"Taxi\",\"Long lorry\",\"Turbo\",\"Stationwagen\",\"Public (13?45 seats)\",\"Lorry (11?40Q)\",\"Pick up upto 10Q\",\"Automobile\",\"Long lorry\",\"Long lorry\",\"Other\",\"Automobile\",\"Stationwagen\",\"Public (\\u003e 45 seats)\",\"Lorry (41?100Q)\",\"Lorry (41?100Q)\",\"Public (\\u003e 45 seats)\",\"Stationwagen\",\"Lorry (41?100Q)\",\"Automobile\",\"Lorry (41?100Q)\",\"Pick up upto 10Q\",\"Automobile\",\"Public (13?45 seats)\",\"Stationwagen\",\"Public (\\u003e 45 seats)\",\"Automobile\",\"Lorry (41?100Q)\",\"Automobile\",\"Pick up upto 10Q\",\"Lorry (11?40Q)\",\"Lorry (41?100Q)\",\"Other\",\"Automobile\",\"Automobile\",\"Public (\\u003e 45 seats)\",\"Public (\\u003e 45 seats)\",\"Automobile\",\"Automobile\",\"Lorry (41?100Q)\",\"Lorry (11?40Q)\",\"Automobile\",\"Lorry (41?100Q)\",\"Automobile\",\"Automobile\",\"Ridden horse\",\"Automobile\",\"Automobile\",\"Other\",\"Public (12 seats)\",\"Public (\\u003e 45 seats)\",\"Public (12 seats)\",\"Lorry (11?40Q)\",\"Automobile\",\"Bajaj\",\"Stationwagen\",\"Other\",\"Lorry (11?40Q)\",\"Automobile\",\"Lorry (41?100Q)\",\"Public (12 seats)\",\"Other\",\"Public (12 seats)\",\"Lorry (11?40Q)\",\"Other\",\"Lorry (41?100Q)\",\"Lorry (41?100Q)\",\"Public (12 seats)\",\"Public (12 seats)\",\"Automobile\",\"Lorry (41?100Q)\",\"Other\",\"Automobile\",\"Lorry (11?40Q)\",\"Lorry (11?40Q)\",\"Automobile\",\"Public (12 seats)\",\"Automobile\",\"Automobile\",\"Automobile\",\"Lorry (41?100Q)\",\"Other\",\"Pick up upto 10Q\",\"Stationwagen\",\"Pick up upto 10Q\",\"Automobile\",\"Automobile\",\"Lorry (41?100Q)\",\"Automobile\",\"Public (13?45 seats)\",\"Automobile\",\"Lorry (11?40Q)\",\"Automobile\",\"Pick up upto 10Q\",\"Lorry (11?40Q)\",\"Motorcycle\",\"Lorry (11?40Q)\",\"Automobile\",\"Automobile\",\"Taxi\",\"Automobile\",\"Lorry (41?100Q)\",\"Lorry (41?100Q)\",\"Other\",\"Automobile\",\"Pick up upto 10Q\",\"Automobile\",\"Public (12 seats)\",\"Public (12 seats)\",\"Lorry (41?100Q)\",\"Automobile\",\"Public (12 seats)\",\"Motorcycle\",\"Public (12 seats)\",\"Pick up upto 10Q\",\"Automobile\",\"Stationwagen\",\"Automobile\",\"Public (13?45 seats)\",\"Automobile\",\"Automobile\",\"Lorry (41?100Q)\",\"Lorry (41?100Q)\",\"Automobile\",\"Other\",\"Lorry (41?100Q)\",\"Other\",\"Lorry (41?100Q)\",\"Automobile\",\"Other\",\"Other\",\"Automobile\",\"Automobile\",\"Pick up upto 10Q\",\"Automobile\",\"Long lorry\",\"Stationwagen\",\"Automobile\",\"Pick up upto 10Q\",\"Pick up upto 10Q\",\"Automobile\",\"Automobile\",\"Stationwagen\",\"Lorry (41?100Q)\",\"Automobile\",\"Public (12 seats)\",\"Lorry (41?100Q)\",\"Automobile\",\"Lorry (41?100Q)\",\"Automobile\",\"Other\",\"Motorcycle\",\"Pick up upto 10Q\",\"Automobile\",\"Public (12 seats)\",\"Other\",\"Automobile\",\"Automobile\",\"Lorry (41?100Q)\",\"Public (13?45 seats)\",\"Lorry (41?100Q)\",\"Lorry (41?100Q)\",\"Lorry (41?100Q)\",\"Automobile\",\"Automobile\",\"Other\",\"Other\",\"Lorry (41?100Q)\",\"Lorry (11?40Q)\",\"Lorry (41?100Q)\",\"Automobile\",\"Other\",\"Taxi\",\"Automobile\",\"Long lorry\",\"Lorry (11?40Q)\",\"Stationwagen\",\"Other\",\"Automobile\",\"Motorcycle\",\"Motorcycle\",\"Lorry (41?100Q)\",\"Pick up upto 10Q\",\"Lorry (11?40Q)\",\"Taxi\",\"Lorry (11?40Q)\",\"Lorry (11?40Q)\",\"Long lorry\",\"Pick up upto 10Q\",\"Stationwagen\",\"Public (13?45 seats)\",\"Lorry (11?40Q)\",\"Lorry (11?40Q)\",\"Pick up upto 10Q\",\"Automobile\",\"Stationwagen\",\"Lorry (41?100Q)\",\"Motorcycle\",\"Automobile\",\"Public (\\u003e 45 seats)\",\"Lorry (41?100Q)\",\"Public (13?45 seats)\",\"Special vehicle\",\"Lorry (41?100Q)\",\"Lorry (41?100Q)\",\"Automobile\",\"Pick up upto 10Q\",\"Stationwagen\",\"Automobile\",\"Lorry (41?100Q)\",\"Lorry (41?100Q)\",\"Motorcycle\",\"Public (13?45 seats)\",\"Public (12 seats)\",\"Automobile\",\"Lorry (41?100Q)\",\"Stationwagen\",\"Lorry (41?100Q)\",\"Automobile\",\"Lorry (41?100Q)\",\"Lorry (41?100Q)\",\"Automobile\",\"Other\",\"Automobile\",\"Lorry (41?100Q)\",\"Taxi\",\"Lorry (41?100Q)\",\"Other\",\"Stationwagen\",\"Stationwagen\",\"Lorry (41?100Q)\",\"Other\",\"Automobile\",\"Automobile\",\"Other\",\"Public (13?45 seats)\",\"Public (12 seats)\",\"Pick up upto 10Q\",\"Special vehicle\",\"Special vehicle\",\"Other\",\"Other\",\"Other\",\"Lorry (41?100Q)\",\"Lorry (41?100Q)\",\"Automobile\",\"Lorry (41?100Q)\",\"Pick up upto 10Q\",\"Lorry (11?40Q)\",\"Long lorry\",\"Lorry (41?100Q)\",\"Lorry (41?100Q)\",\"Stationwagen\",\"Lorry (41?100Q)\",\"Lorry (11?40Q)\",\"Automobile\",\"Taxi\",\"Lorry (11?40Q)\",\"Long lorry\",\"Pick up upto 10Q\",\"Stationwagen\",\"Automobile\",\"Public (13?45 seats)\",\"Pick up upto 10Q\",\"Automobile\",\"Long lorry\",\"Long lorry\",\"Pick up upto 10Q\",\"Lorry (41?100Q)\",\"Motorcycle\",\"Automobile\",\"Stationwagen\",\"Stationwagen\",\"Bicycle\",\"Lorry (41?100Q)\",\"Automobile\",\"Public (12 seats)\",\"Other\",\"Pick up upto 10Q\",\"Automobile\",\"Public (\\u003e 45 seats)\",\"Lorry (41?100Q)\",\"Public (\\u003e 45 seats)\",\"Lorry (11?40Q)\",\"Public (13?45 seats)\",\"Long lorry\",\"Lorry (41?100Q)\",\"Taxi\",\"Automobile\",\"Automobile\",\"Automobile\",\"Automobile\",\"Lorry (41?100Q)\",\"Public (\\u003e 45 seats)\",\"Public (12 seats)\",\"Lorry (11?40Q)\",\"Automobile\",\"Automobile\",\"Lorry (11?40Q)\",\"Lorry (41?100Q)\",\"Pick up upto 10Q\",\"Other\",\"Public (\\u003e 45 seats)\",\"Lorry (41?100Q)\",\"Automobile\",\"Public (13?45 seats)\",\"Long lorry\",\"Lorry (41?100Q)\",\"Lorry (41?100Q)\",\"Public (12 seats)\",\"Taxi\",\"Automobile\",\"Automobile\",\"Public (12 seats)\",\"Stationwagen\",\"Ridden horse\",\"Public (12 seats)\",\"Automobile\",\"Public (12 seats)\",\"Public (12 seats)\",\"Automobile\",\"Other\",\"Lorry (41?100Q)\",\"Pick up upto 10Q\",\"Lorry (41?100Q)\",\"Other\",\"Public (12 seats)\",\"Other\",\"Other\",\"Lorry (11?40Q)\",\"Other\",\"Other\",\"Other\",\"Automobile\",\"Other\",\"Lorry (41?100Q)\",\"Other\",\"Automobile\",\"Long lorry\",\"Automobile\",\"Other\",\"Automobile\",\"Public (13?45 seats)\",\"Public (12 seats)\",\"Automobile\",\"Automobile\",\"Pick up upto 10Q\",\"Automobile\",\"Other\",\"Pick up upto 10Q\",\"Stationwagen\",\"Lorry (41?100Q)\",\"Automobile\",\"Automobile\",\"Automobile\",\"Lorry (41?100Q)\",\"Other\",\"Motorcycle\",\"Pick up upto 10Q\",\"Lorry (11?40Q)\",\"Automobile\",\"Automobile\",\"Other\",\"Pick up upto 10Q\",\"Pick up upto 10Q\",\"Public (13?45 seats)\",\"Lorry (41?100Q)\",\"Other\",\"Public (12 seats)\",\"Lorry (41?100Q)\",\"Lorry (41?100Q)\",\"Pick up upto 10Q\",\"Other\",\"Public (12 seats)\",\"Lorry (41?100Q)\",\"Stationwagen\",\"Other\",\"Public (\\u003e 45 seats)\",\"Other\",\"Automobile\",\"Automobile\",\"Other\",\"Other\",\"Other\",\"Public (12 seats)\",\"Lorry (41?100Q)\",\"Pick up upto 10Q\",\"Lorry (41?100Q)\",\"Automobile\",\"Automobile\",\"Lorry (41?100Q)\",\"Automobile\",\"Long lorry\",\"Automobile\",\"Automobile\",\"Stationwagen\",\"Pick up upto 10Q\",\"Other\",\"Stationwagen\",\"Pick up upto 10Q\",\"Lorry (41?100Q)\",\"Pick up upto 10Q\",\"Lorry (41?100Q)\",\"Public (12 seats)\",\"Lorry (41?100Q)\",\"Public (\\u003e 45 seats)\",\"Public (12 seats)\",\"Public (12 seats)\",\"Lorry (41?100Q)\",\"Other\",\"Automobile\",\"Lorry (41?100Q)\",\"Automobile\",\"Automobile\",\"Lorry (41?100Q)\",\"Public (\\u003e 45 seats)\",\"Lorry (41?100Q)\",\"Stationwagen\",\"Lorry (41?100Q)\",\"Automobile\",\"Public (\\u003e 45 seats)\",\"Automobile\",\"Public (13?45 seats)\",\"Lorry (41?100Q)\",\"Lorry (41?100Q)\",\"Motorcycle\",\"Ridden horse\",\"Pick up upto 10Q\",\"Public (\\u003e 45 seats)\",\"Automobile\",\"Automobile\",\"Automobile\",\"Lorry (41?100Q)\",\"Automobile\",\"Automobile\",\"Lorry (41?100Q)\",\"Automobile\",\"Public (\\u003e 45 seats)\",\"Automobile\",\"Public (13?45 seats)\",\"Lorry (41?100Q)\",\"Lorry (41?100Q)\",\"Motorcycle\",\"Lorry (41?100Q)\",\"Taxi\",\"Taxi\",\"Other\",\"Automobile\",\"Automobile\",\"Lorry (41?100Q)\",\"Stationwagen\",\"Motorcycle\",\"Pick up upto 10Q\",\"Taxi\",\"Long lorry\",\"Taxi\",\"Taxi\",\"Long lorry\",\"Lorry (11?40Q)\",\"Turbo\",\"Long lorry\",\"Long lorry\",\"Public (13?45 seats)\",\"Public (13?45 seats)\",\"Long lorry\",\"Automobile\",\"Lorry (41?100Q)\",\"Pick up upto 10Q\",\"Lorry (11?40Q)\",\"Motorcycle\",\"Automobile\",\"Stationwagen\",\"Public (\\u003e 45 seats)\",\"Automobile\",\"Automobile\",\"Public (13?45 seats)\",\"Public (12 seats)\",\"Automobile\",\"Pick up upto 10Q\",\"Lorry (41?100Q)\",\"Automobile\",\"Long lorry\",\"Lorry (41?100Q)\",\"Automobile\",\"Public (13?45 seats)\",\"Automobile\",\"Public (12 seats)\",\"Stationwagen\",\"Public (12 seats)\",\"Public (12 seats)\",\"Public (\\u003e 45 seats)\",\"Pick up upto 10Q\",\"Other\",\"Public (13?45 seats)\",\"Automobile\",\"Lorry (41?100Q)\",\"Stationwagen\",\"Taxi\",\"Stationwagen\",\"Public (13?45 seats)\",\"Other\",\"Lorry (41?100Q)\",\"Lorry (41?100Q)\",\"Pick up upto 10Q\",\"Lorry (11?40Q)\",\"Pick up upto 10Q\",\"Pick up upto 10Q\",\"Public (13?45 seats)\",\"Automobile\",\"Lorry (11?40Q)\",\"Other\",\"Automobile\",\"Lorry (41?100Q)\",\"Lorry (41?100Q)\",\"Automobile\",\"Stationwagen\",\"Lorry (41?100Q)\",\"Other\",\"Public (13?45 seats)\",\"Lorry (41?100Q)\",\"Lorry (41?100Q)\",\"Automobile\",\"Taxi\",\"Other\",\"Automobile\",\"Lorry (41?100Q)\",\"Stationwagen\",\"Motorcycle\",\"Automobile\",\"Automobile\",\"Lorry (11?40Q)\",\"Long lorry\",\"Lorry (11?40Q)\",\"Long lorry\",\"Long lorry\",\"Long lorry\",\"Long lorry\",\"Pick up upto 10Q\",\"Lorry (41?100Q)\",\"Automobile\",\"Lorry (41?100Q)\",\"Automobile\",\"Lorry (41?100Q)\",\"Lorry (41?100Q)\",\"Public (12 seats)\",\"Public (\\u003e 45 seats)\",\"Automobile\",\"Lorry (41?100Q)\",\"Automobile\",\"Lorry (41?100Q)\",\"Pick up upto 10Q\",\"Automobile\",\"Motorcycle\",\"Automobile\",\"Long lorry\",\"Lorry (41?100Q)\",\"Lorry (11?40Q)\",\"Public (12 seats)\",\"Lorry (41?100Q)\",\"Automobile\",\"Taxi\",\"Pick up upto 10Q\",\"Automobile\",\"Lorry (11?40Q)\",\"Taxi\",\"Stationwagen\",\"Public (12 seats)\",\"Automobile\",\"Automobile\",\"Lorry (41?100Q)\",\"Lorry (11?40Q)\",\"Bajaj\",\"Public (12 seats)\",\"Lorry (11?40Q)\",\"Automobile\",\"Lorry (11?40Q)\",\"Lorry (11?40Q)\",\"Automobile\",\"Other\",\"Lorry (41?100Q)\",\"Automobile\",\"Pick up upto 10Q\",\"Other\",\"Lorry (41?100Q)\",\"Other\",\"Automobile\",\"Other\",\"Lorry (41?100Q)\",\"Lorry (41?100Q)\",\"Lorry (41?100Q)\",\"Pick up upto 10Q\",\"Stationwagen\",\"Other\",\"Lorry (41?100Q)\",\"Long lorry\",\"Public (12 seats)\",\"Lorry (41?100Q)\",\"Automobile\",\"Automobile\",\"Lorry (11?40Q)\",\"Automobile\",\"Public (13?45 seats)\",\"Automobile\",\"Lorry (41?100Q)\",\"Stationwagen\",\"Turbo\",\"Automobile\",\"Lorry (41?100Q)\",\"Lorry (41?100Q)\",\"Lorry (41?100Q)\",\"Lorry (41?100Q)\",\"Public (13?45 seats)\",\"Automobile\",\"Automobile\",\"Lorry (41?100Q)\",\"Motorcycle\",\"Lorry (11?40Q)\",\"Taxi\",\"Other\",\"Taxi\",\"Automobile\",\"Other\",\"Automobile\",\"Long lorry\",\"Public (13?45 seats)\",\"Lorry (41?100Q)\",\"Public (13?45 seats)\",\"Other\",\"Other\",\"Other\",\"Public (12 seats)\",\"Stationwagen\",\"Lorry (41?100Q)\",\"Lorry (41?100Q)\",\"Other\",\"Pick up upto 10Q\",\"Automobile\",\"Public (12 seats)\",\"Automobile\",\"Lorry (41?100Q)\",\"Automobile\",\"Motorcycle\",\"Other\",\"Automobile\",\"Lorry (41?100Q)\",\"Other\",\"Other\",\"Lorry (41?100Q)\",\"Lorry (41?100Q)\",\"Public (\\u003e 45 seats)\",\"Automobile\",\"Other\",\"Automobile\",\"Long lorry\",\"Other\",\"Lorry (41?100Q)\",\"Automobile\",\"Public (12 seats)\",\"Automobile\",\"Pick up upto 10Q\",\"Pick up upto 10Q\",\"Lorry (41?100Q)\",\"Other\",\"Automobile\",\"Public (12 seats)\",\"Public (12 seats)\",\"Lorry (41?100Q)\",\"Stationwagen\",\"Other\",\"Other\",\"Automobile\",\"Lorry (41?100Q)\",\"Automobile\",\"Public (13?45 seats)\",\"Lorry (41?100Q)\",\"Public (12 seats)\",\"Other\",\"Automobile\",\"Automobile\",\"Public (\\u003e 45 seats)\",\"Stationwagen\",\"Lorry (41?100Q)\",\"Automobile\",\"Public (\\u003e 45 seats)\",\"Automobile\",\"Lorry (41?100Q)\",\"Ridden horse\",\"Lorry (41?100Q)\",\"Stationwagen\",\"Public (12 seats)\",\"Automobile\",\"Taxi\",\"Automobile\",\"Stationwagen\",\"Automobile\",\"Automobile\",\"Automobile\",\"Lorry (41?100Q)\",\"Motorcycle\",\"Stationwagen\",\"Long lorry\",\"Lorry (41?100Q)\",\"Lorry (11?40Q)\",\"Automobile\",\"Automobile\",\"Lorry (41?100Q)\",\"Taxi\",\"Public (12 seats)\",\"Long lorry\",\"Public (13?45 seats)\",\"Automobile\",\"Pick up upto 10Q\",\"Stationwagen\",\"Long lorry\",\"Lorry (11?40Q)\",\"Lorry (11?40Q)\",\"Other\",\"Special vehicle\",\"Stationwagen\",\"Public (\\u003e 45 seats)\",\"Automobile\",\"Public (13?45 seats)\",\"Lorry (41?100Q)\",\"Automobile\",\"Lorry (41?100Q)\",\"Automobile\",\"Lorry (41?100Q)\",\"Automobile\",\"Automobile\",\"Automobile\",\"Public (12 seats)\",\"Lorry (41?100Q)\",\"Automobile\",\"Other\",\"Other\",\"Automobile\",\"Stationwagen\",\"Public (\\u003e 45 seats)\",\"Public (12 seats)\",\"Other\",\"Public (12 seats)\",\"Other\",\"Special vehicle\",\"Public (\\u003e 45 seats)\",\"Lorry (11?40Q)\",\"Pick up upto 10Q\",\"Lorry (11?40Q)\",\"Pick up upto 10Q\",\"Lorry (41?100Q)\",\"Lorry (41?100Q)\",\"Lorry (41?100Q)\",\"Other\",\"Automobile\",\"Stationwagen\",\"Automobile\",\"Other\",\"Lorry (41?100Q)\",\"Public (13?45 seats)\",\"Pick up upto 10Q\",\"Pick up upto 10Q\",\"Automobile\",\"Automobile\",\"Automobile\",\"Public (\\u003e 45 seats)\",\"Lorry (11?40Q)\",\"Other\",\"Other\",\"Other\",\"Lorry (41?100Q)\",\"Lorry (41?100Q)\",\"Lorry (41?100Q)\",\"Automobile\",\"Lorry (41?100Q)\",\"Lorry (41?100Q)\",\"Other\",\"Lorry (11?40Q)\",\"Automobile\",\"Lorry (41?100Q)\",\"Taxi\",\"Other\",\"Automobile\",\"Automobile\",\"Stationwagen\",\"Automobile\",\"Long lorry\",\"Public (12 seats)\",\"Other\",\"Long lorry\",\"Automobile\",\"Long lorry\",\"Long lorry\",\"Automobile\",\"Automobile\",\"Automobile\",\"Pick up upto 10Q\",\"Public (\\u003e 45 seats)\",\"Automobile\",\"Automobile\",\"Lorry (41?100Q)\",\"Automobile\",\"Public (\\u003e 45 seats)\",\"Automobile\",\"Automobile\",\"Other\",\"Automobile\",\"Lorry (41?100Q)\",\"Automobile\",\"Automobile\",\"Automobile\",\"Ridden horse\",\"Other\",\"Taxi\",\"Stationwagen\",\"Public (12 seats)\",\"Lorry (41?100Q)\",\"Public (12 seats)\",\"Automobile\",\"Lorry (41?100Q)\",\"Automobile\",\"Bajaj\",\"Automobile\",\"Other\",\"Other\",\"Lorry (41?100Q)\",\"Automobile\",\"Pick up upto 10Q\",\"Lorry (41?100Q)\",\"Public (13?45 seats)\",\"Automobile\",\"Public (12 seats)\",\"Automobile\",\"Other\",\"Stationwagen\",\"Lorry (41?100Q)\",\"Stationwagen\",\"Automobile\",\"Pick up upto 10Q\",\"Automobile\",\"Bajaj\",\"Lorry (11?40Q)\",\"Automobile\",\"Automobile\",\"Automobile\",\"Lorry (41?100Q)\",\"Lorry (41?100Q)\",\"Other\",\"Automobile\",\"Automobile\",\"Stationwagen\",\"Other\",\"Pick up upto 10Q\",\"Stationwagen\",\"Automobile\",\"Lorry (41?100Q)\",\"Automobile\",\"Automobile\",\"Public (13?45 seats)\",\"Automobile\",\"Lorry (41?100Q)\",\"Other\",\"Pick up upto 10Q\",\"Motorcycle\",\"Other\",\"Other\",\"Other\",\"Taxi\",\"Automobile\",\"Lorry (41?100Q)\",\"Other\",\"Lorry (41?100Q)\",\"Lorry (41?100Q)\",\"Other\",\"Stationwagen\",\"Automobile\",\"Automobile\",\"Public (12 seats)\",\"Automobile\",\"Automobile\",\"Lorry (41?100Q)\",\"Pick up upto 10Q\",\"Lorry (41?100Q)\",\"Automobile\",\"Other\",\"Lorry (41?100Q)\",\"Other\",\"Other\",\"Lorry (41?100Q)\",\"Pick up upto 10Q\",\"Automobile\",\"Other\",\"Stationwagen\",\"Other\",\"Stationwagen\",\"Automobile\",\"Automobile\",\"Long lorry\",\"Pick up upto 10Q\",\"Other\",\"Automobile\",\"Lorry (41?100Q)\",\"Pick up upto 10Q\",\"Turbo\",\"Pick up upto 10Q\",\"Lorry (41?100Q)\",\"Automobile\",\"Pick up upto 10Q\",\"Automobile\",\"Automobile\",\"Lorry (41?100Q)\",\"Stationwagen\",\"Automobile\",\"Public (12 seats)\",\"Public (12 seats)\",\"Lorry (41?100Q)\",\"Lorry (41?100Q)\",\"Lorry (41?100Q)\",\"Automobile\",\"Automobile\",\"Lorry (41?100Q)\",\"Public (12 seats)\",\"Motorcycle\",\"Automobile\",\"Automobile\",\"Lorry (41?100Q)\",\"Public (13?45 seats)\",\"Stationwagen\",\"Lorry (41?100Q)\",\"Lorry (41?100Q)\",\"Automobile\",\"Lorry (41?100Q)\",\"Lorry (41?100Q)\",\"Lorry (41?100Q)\",\"Public (13?45 seats)\",\"Lorry (41?100Q)\",\"Ridden horse\",\"Pick up upto 10Q\",\"Automobile\",\"Automobile\",\"Public (12 seats)\",\"Stationwagen\",\"Lorry (41?100Q)\",\"Automobile\",\"Automobile\",\"Lorry (41?100Q)\",\"Public (\\u003e 45 seats)\",\"Other\",\"Automobile\",\"Automobile\",\"Public (13?45 seats)\",\"Lorry (41?100Q)\",\"Lorry (11?40Q)\",\"Other\",\"Automobile\",\"Long lorry\",\"Long lorry\",\"Lorry (41?100Q)\",\"Lorry (41?100Q)\",\"Lorry (11?40Q)\",\"Automobile\",\"Automobile\",\"Public (\\u003e 45 seats)\",\"Pick up upto 10Q\",\"Motorcycle\",\"Lorry (41?100Q)\",\"Other\",\"Automobile\",\"Lorry (11?40Q)\",\"Taxi\",\"Long lorry\",\"Turbo\",\"Long lorry\",\"Automobile\",\"Stationwagen\",\"Automobile\",\"Automobile\",\"Long lorry\",\"Public (13?45 seats)\",\"Public (13?45 seats)\",\"Lorry (11?40Q)\",\"Automobile\",\"Lorry (41?100Q)\",\"Automobile\",\"Stationwagen\",\"Public (\\u003e 45 seats)\",\"Automobile\",\"Bicycle\",\"Automobile\",\"Special vehicle\",\"Automobile\",\"Public (13?45 seats)\",\"Other\",\"Stationwagen\",\"Automobile\",\"Public (12 seats)\",\"Public (\\u003e 45 seats)\",\"Public (12 seats)\",\"Automobile\",\"Public (12 seats)\",\"Automobile\",\"Automobile\",\"Other\",\"Public (13?45 seats)\",\"Automobile\",\"Stationwagen\",\"Lorry (41?100Q)\",\"Public (\\u003e 45 seats)\",\"Public (12 seats)\",\"Public (12 seats)\",\"Lorry (11?40Q)\",\"Pick up upto 10Q\",\"Lorry (11?40Q)\",\"Lorry (41?100Q)\",\"Other\",\"Automobile\",\"Public (13?45 seats)\",\"Lorry (41?100Q)\",\"Lorry (41?100Q)\",\"Lorry (41?100Q)\",\"Taxi\",\"Other\",\"Public (\\u003e 45 seats)\",\"Automobile\",\"Pick up upto 10Q\",\"Lorry (11?40Q)\",\"Automobile\",\"Other\",\"Public (13?45 seats)\",\"Pick up upto 10Q\",\"Other\",\"Pick up upto 10Q\",\"Public (13?45 seats)\",\"Public (12 seats)\",\"Lorry (41?100Q)\",\"Pick up upto 10Q\",\"Lorry (41?100Q)\",\"Pick up upto 10Q\",\"Lorry (41?100Q)\",\"Automobile\",\"Automobile\",\"Lorry (41?100Q)\",\"Taxi\",\"Automobile\",\"Automobile\",\"Lorry (11?40Q)\",\"Stationwagen\",\"Automobile\",\"Other\",\"Taxi\",\"Stationwagen\",\"Lorry (41?100Q)\",\"Public (\\u003e 45 seats)\",\"Lorry (11?40Q)\",\"Automobile\",\"Lorry (41?100Q)\",\"Long lorry\",\"Long lorry\",\"Public (12 seats)\",\"Public (12 seats)\",\"Other\",\"Automobile\",\"Pick up upto 10Q\",\"Public (12 seats)\",\"Lorry (41?100Q)\",\"Other\",\"Ridden horse\",\"Automobile\",\"Automobile\",\"Stationwagen\",\"Other\",\"Lorry (41?100Q)\",\"Long lorry\",\"Automobile\",\"Automobile\",\"Lorry (41?100Q)\",\"Lorry (11?40Q)\",\"Public (13?45 seats)\",\"Other\",\"Automobile\",\"Automobile\",\"Automobile\",\"Automobile\",\"Lorry (41?100Q)\",\"Stationwagen\",\"Other\",\"Automobile\",\"Automobile\",\"Automobile\",\"Automobile\",\"Public (13?45 seats)\",\"Lorry (11?40Q)\",\"Motorcycle\",\"Lorry (11?40Q)\",\"Automobile\",\"Other\",\"Automobile\",\"Other\",\"Automobile\",\"Automobile\",\"Automobile\",\"Automobile\",\"Pick up upto 10Q\",\"Pick up upto 10Q\",\"Long lorry\",\"Automobile\",\"Other\",\"Public (12 seats)\",\"Stationwagen\",\"Public (13?45 seats)\",\"Lorry (41?100Q)\",\"Public (12 seats)\",\"Stationwagen\",\"Pick up upto 10Q\",\"Automobile\",\"Automobile\",\"Public (13?45 seats)\",\"Automobile\",\"Automobile\",\"Other\",\"Other\",\"Public (13?45 seats)\",\"Automobile\",\"Pick up upto 10Q\",\"Lorry (41?100Q)\",\"Public (12 seats)\",\"Public (12 seats)\",\"Lorry (41?100Q)\",\"Other\",\"Pick up upto 10Q\",\"Other\",\"Stationwagen\",\"Lorry (41?100Q)\",\"Lorry (41?100Q)\",\"Stationwagen\",\"Pick up upto 10Q\",\"Public (\\u003e 45 seats)\",\"Automobile\",\"Other\",\"Automobile\",\"Lorry (41?100Q)\",\"Stationwagen\",\"Lorry (41?100Q)\",\"Public (12 seats)\",\"Automobile\",\"Stationwagen\",\"Automobile\",\"Lorry (41?100Q)\",\"Public (12 seats)\",\"Other\",\"Automobile\",\"Automobile\",\"Lorry (41?100Q)\",\"Lorry (41?100Q)\",\"Public (\\u003e 45 seats)\",\"Public (12 seats)\",\"Stationwagen\",\"Stationwagen\",\"Other\",\"Automobile\",\"Public (\\u003e 45 seats)\",\"Pick up upto 10Q\",\"Lorry (41?100Q)\",\"Pick up upto 10Q\",\"Automobile\",\"Public (12 seats)\",\"Taxi\",\"Automobile\",\"Automobile\",\"Automobile\",\"Automobile\",\"Automobile\",\"Public (\\u003e 45 seats)\",\"Automobile\",\"Stationwagen\",\"Automobile\",\"Automobile\",\"Lorry (41?100Q)\",\"Lorry (41?100Q)\",\"Lorry (41?100Q)\",\"Stationwagen\",\"Other\",\"Automobile\",\"Long lorry\",\"Automobile\",\"Automobile\",\"Lorry (41?100Q)\",\"Automobile\",\"Motorcycle\",\"Lorry (41?100Q)\",\"Automobile\",\"Lorry (11?40Q)\",\"Pick up upto 10Q\",\"Other\",\"Automobile\",\"Long lorry\",\"Lorry (11?40Q)\",\"Lorry (11?40Q)\",\"Pick up upto 10Q\",\"Automobile\",\"Motorcycle\",\"Automobile\",\"Bicycle\",\"Special vehicle\",\"Lorry (41?100Q)\",\"Lorry (41?100Q)\",\"Stationwagen\",\"Lorry (41?100Q)\",\"Automobile\",\"Pick up upto 10Q\",\"Other\",\"Automobile\",\"Public (12 seats)\",\"Automobile\",\"Public (12 seats)\",\"Automobile\",\"Automobile\",\"Automobile\",\"Stationwagen\",\"Other\",\"Lorry (41?100Q)\",\"Lorry (41?100Q)\",\"Public (\\u003e 45 seats)\",\"Public (\\u003e 45 seats)\",\"Automobile\",\"Lorry (11?40Q)\",\"Lorry (41?100Q)\",\"Taxi\",\"Lorry (41?100Q)\",\"Other\",\"Public (\\u003e 45 seats)\",\"Stationwagen\",\"Automobile\",\"Lorry (41?100Q)\",\"Ridden horse\",\"Lorry (41?100Q)\",\"Automobile\",\"Pick up upto 10Q\",\"Pick up upto 10Q\",\"Stationwagen\",\"Public (13?45 seats)\",\"Lorry (41?100Q)\",\"Other\",\"Public (13?45 seats)\",\"Lorry (41?100Q)\",\"Public (\\u003e 45 seats)\",\"Pick up upto 10Q\",\"Automobile\",\"Stationwagen\",\"Automobile\",\"Public (\\u003e 45 seats)\",\"Automobile\",\"Lorry (41?100Q)\",\"Public (13?45 seats)\",\"Lorry (41?100Q)\",\"Automobile\",\"Automobile\",\"Long lorry\",\"Lorry (41?100Q)\",\"Automobile\",\"Automobile\",\"Automobile\",\"Stationwagen\",\"Pick up upto 10Q\",\"Automobile\",\"Pick up upto 10Q\",\"Motorcycle\",\"Stationwagen\",\"Taxi\",\"Automobile\",\"Long lorry\",\"Lorry (11?40Q)\",\"Long lorry\",\"Lorry (11?40Q)\",\"Turbo\",\"Long lorry\",\"Public (13?45 seats)\",\"Automobile\",\"Pick up upto 10Q\",\"Stationwagen\",\"Automobile\",\"Long lorry\",\"Lorry (11?40Q)\",\"Automobile\",\"Automobile\",\"Stationwagen\",\"Lorry (41?100Q)\",\"Pick up upto 10Q\",\"Lorry (11?40Q)\",\"Stationwagen\",\"Public (\\u003e 45 seats)\",\"Public (\\u003e 45 seats)\",\"Automobile\",\"Special vehicle\",\"Lorry (41?100Q)\",\"Public (12 seats)\",\"Public (\\u003e 45 seats)\",\"Pick up upto 10Q\",\"Lorry (41?100Q)\",\"Lorry (41?100Q)\",\"Pick up upto 10Q\",\"Automobile\",\"Other\",\"Motorcycle\",\"Public (12 seats)\",\"Lorry (41?100Q)\",\"Public (\\u003e 45 seats)\",\"Automobile\",\"Automobile\",\"Lorry (41?100Q)\",\"Automobile\",\"Public (\\u003e 45 seats)\",\"Lorry (41?100Q)\",\"Automobile\",\"Public (13?45 seats)\",\"Long lorry\",\"Lorry (41?100Q)\",\"Automobile\",\"Automobile\",\"Automobile\",\"Automobile\",\"Taxi\",\"Stationwagen\",\"Stationwagen\",\"Automobile\",\"Automobile\",\"Stationwagen\",\"Automobile\",\"Public (\\u003e 45 seats)\",\"Public (12 seats)\",\"Automobile\",\"Automobile\",\"Public (12 seats)\",\"Lorry (11?40Q)\",\"Automobile\",\"Lorry (11?40Q)\",\"Lorry (41?100Q)\",\"Stationwagen\",\"Other\",\"Lorry (11?40Q)\",\"Automobile\",\"Lorry (41?100Q)\",\"Pick up upto 10Q\",\"Other\",\"Long lorry\",\"Public (12 seats)\",\"Other\",\"Other\",\"Other\",\"Public (12 seats)\",\"Lorry (11?40Q)\",\"Pick up upto 10Q\",\"Lorry (41?100Q)\",\"Public (13?45 seats)\",\"Lorry (41?100Q)\",\"Public (12 seats)\",\"Lorry (41?100Q)\",\"Other\",\"Lorry (41?100Q)\",\"Automobile\",\"Stationwagen\",\"Public (12 seats)\",\"Automobile\",\"Lorry (41?100Q)\",\"Automobile\",\"Automobile\",\"Lorry (11?40Q)\",\"Bajaj\",\"Public (12 seats)\",\"Other\",\"Public (13?45 seats)\",\"Lorry (41?100Q)\",\"Lorry (41?100Q)\",\"Other\",\"Automobile\",\"Pick up upto 10Q\",\"Stationwagen\",\"Lorry (41?100Q)\",\"Automobile\",\"Stationwagen\",\"Automobile\",\"Automobile\",\"Public (13?45 seats)\",\"Automobile\",\"Lorry (11?40Q)\",\"Automobile\",\"Pick up upto 10Q\",\"Lorry (11?40Q)\",\"Motorcycle\",\"Pick up upto 10Q\",\"Automobile\",\"Automobile\",\"Other\",\"Automobile\",\"Automobile\",\"Lorry (41?100Q)\",\"Other\",\"Automobile\",\"Automobile\",\"Other\",\"Automobile\",\"Lorry (41?100Q)\",\"Automobile\",\"Pick up upto 10Q\",\"Lorry (41?100Q)\",\"Lorry (41?100Q)\",\"Pick up upto 10Q\",\"Automobile\",\"Automobile\",\"Automobile\",\"Pick up upto 10Q\",\"Lorry (41?100Q)\",\"Stationwagen\",\"Automobile\",\"Automobile\",\"Automobile\",\"Public (13?45 seats)\",\"Automobile\",\"Lorry (41?100Q)\",\"Other\",\"Other\",\"Lorry (41?100Q)\",\"Public (\\u003e 45 seats)\",\"Lorry (41?100Q)\",\"Automobile\",\"Other\",\"Automobile\",\"Stationwagen\",\"Ridden horse\",\"Other\",\"Lorry (41?100Q)\",\"Stationwagen\",\"Lorry (41?100Q)\",\"Automobile\",\"Automobile\",\"Taxi\",\"Automobile\",\"Public (\\u003e 45 seats)\",\"Lorry (41?100Q)\",\"Public (\\u003e 45 seats)\",\"Automobile\",\"Lorry (41?100Q)\",\"Lorry (11?40Q)\",\"Public (12 seats)\",\"Lorry (41?100Q)\",\"Automobile\",\"Public (12 seats)\",\"Public (13?45 seats)\",\"Lorry (11?40Q)\",\"Stationwagen\",\"Ridden horse\",\"Other\",\"Automobile\",\"Automobile\",\"Automobile\",\"Automobile\",\"Public (13?45 seats)\",\"Lorry (41?100Q)\",\"Lorry (11?40Q)\",\"Taxi\",\"Automobile\",\"Automobile\",\"Automobile\",\"Automobile\",\"Pick up upto 10Q\",\"Taxi\",\"Stationwagen\",\"Lorry (41?100Q)\",\"Public (\\u003e 45 seats)\",\"Public (12 seats)\",\"Automobile\",\"Lorry (41?100Q)\",\"Automobile\",\"Public (12 seats)\",\"Lorry (11?40Q)\",\"Lorry (11?40Q)\",\"Lorry (41?100Q)\",\"Automobile\",\"Pick up upto 10Q\",\"Long lorry\",\"Long lorry\",\"Public (12 seats)\",\"Other\",\"Other\",\"Other\",\"Other\",\"Other\",\"Pick up upto 10Q\",\"Automobile\",\"Other\",\"Lorry (41?100Q)\",\"Public (13?45 seats)\",\"Automobile\",\"Other\",\"Lorry (41?100Q)\",\"Stationwagen\",\"Public (12 seats)\",\"Automobile\",\"Lorry (41?100Q)\",\"Pick up upto 10Q\",\"Other\",\"Automobile\",\"Automobile\",\"Automobile\",\"Automobile\",\"Public (12 seats)\",\"Automobile\",\"Automobile\",\"Automobile\",\"Other\",\"Pick up upto 10Q\",\"Lorry (41?100Q)\",\"Automobile\",\"Automobile\",\"Automobile\",\"Automobile\",\"Lorry (41?100Q)\",\"Automobile\",\"Automobile\",\"Automobile\",\"Automobile\",\"Lorry (41?100Q)\",\"Lorry (41?100Q)\",\"Automobile\",\"Public (13?45 seats)\",\"Other\",\"Lorry (11?40Q)\",\"Automobile\",\"Taxi\",\"Lorry (11?40Q)\",\"Other\",\"Automobile\",\"Automobile\",\"Lorry (41?100Q)\",\"Public (13?45 seats)\",\"Other\",\"Lorry (41?100Q)\",\"Pick up upto 10Q\",\"Automobile\",\"Other\",\"Other\",\"Pick up upto 10Q\",\"Automobile\",\"Other\",\"Public (12 seats)\",\"Lorry (41?100Q)\",\"Lorry (41?100Q)\",\"Public (13?45 seats)\",\"Automobile\",\"Public (12 seats)\",\"Stationwagen\",\"Automobile\",\"Automobile\",\"Other\",\"Public (13?45 seats)\",\"Public (12 seats)\",\"Lorry (41?100Q)\",\"Automobile\",\"Pick up upto 10Q\",\"Automobile\",\"Other\",\"Automobile\",\"Automobile\",\"Lorry (41?100Q)\",\"Public (13?45 seats)\",\"Automobile\",\"Other\",\"Automobile\",\"Public (12 seats)\",\"Public (\\u003e 45 seats)\",\"Lorry (41?100Q)\",\"Pick up upto 10Q\",\"Automobile\",\"Stationwagen\",\"Ridden horse\",\"Lorry (41?100Q)\",\"Automobile\",\"Automobile\",\"Long lorry\",\"Public (12 seats)\",\"Pick up upto 10Q\",\"Other\",\"Pick up upto 10Q\",\"Lorry (41?100Q)\",\"Lorry (41?100Q)\",\"Public (\\u003e 45 seats)\",\"Automobile\",\"Stationwagen\",\"Automobile\",\"Automobile\",\"Pick up upto 10Q\",\"Turbo\",\"Public (12 seats)\",\"Other\",\"Stationwagen\",\"Automobile\",\"Automobile\",\"Lorry (41?100Q)\",\"Stationwagen\",\"Lorry (41?100Q)\",\"Public (\\u003e 45 seats)\",\"Lorry (41?100Q)\",\"Lorry (41?100Q)\",\"Stationwagen\",\"Stationwagen\",\"Lorry (41?100Q)\",\"Automobile\",\"Public (\\u003e 45 seats)\",\"Lorry (41?100Q)\",\"Lorry (41?100Q)\",\"Public (12 seats)\",\"Lorry (41?100Q)\",\"Automobile\",\"Lorry (41?100Q)\",\"Public (12 seats)\",\"Other\",\"Stationwagen\",\"Automobile\",\"Public (\\u003e 45 seats)\",\"Lorry (41?100Q)\",\"Lorry (41?100Q)\",\"Lorry (41?100Q)\",\"Automobile\",\"Public (12 seats)\",\"Automobile\",\"Automobile\",\"Lorry (41?100Q)\",\"Public (12 seats)\",\"Automobile\",\"Stationwagen\",\"Stationwagen\",\"Automobile\",\"Automobile\",\"Automobile\",\"Other\",\"Stationwagen\",\"Public (12 seats)\",\"Automobile\",\"Public (13?45 seats)\",\"Other\",\"Automobile\",\"Lorry (41?100Q)\",\"Automobile\",\"Public (\\u003e 45 seats)\",\"Lorry (41?100Q)\",\"Stationwagen\",\"Other\",\"Motorcycle\",\"Automobile\",\"Motorcycle\",\"Stationwagen\",\"Taxi\",\"Automobile\",\"Automobile\",\"Other\",\"Long lorry\",\"Long lorry\",\"Turbo\",\"Public (13?45 seats)\",\"Automobile\",\"Lorry (11?40Q)\",\"Pick up upto 10Q\",\"Long lorry\",\"Long lorry\",\"Other\",\"Special vehicle\",\"Pick up upto 10Q\",\"Lorry (11?40Q)\",\"Automobile\",\"Public (\\u003e 45 seats)\",\"Automobile\",\"Automobile\",\"Lorry (41?100Q)\",\"Public (\\u003e 45 seats)\",\"Automobile\",\"Pick up upto 10Q\",\"Stationwagen\",\"Automobile\",\"Other\",\"Automobile\",\"Public (12 seats)\",\"Automobile\",\"Automobile\",\"Lorry (41?100Q)\",\"Automobile\",\"Automobile\",\"Other\",\"Other\",\"Lorry (41?100Q)\",\"Public (12 seats)\",\"Other\",\"Other\",\"Public (12 seats)\",\"Stationwagen\",\"Automobile\",\"Special vehicle\",\"Automobile\",\"Automobile\",\"Lorry (11?40Q)\",\"Pick up upto 10Q\",\"Pick up upto 10Q\",\"Special vehicle\",\"Automobile\",\"Automobile\",\"Lorry (41?100Q)\",\"Lorry (41?100Q)\",\"Lorry (41?100Q)\",\"Lorry (41?100Q)\",\"Other\",\"Public (\\u003e 45 seats)\",\"Other\",\"Other\",\"Ridden horse\",\"Stationwagen\",\"Lorry (41?100Q)\",\"Other\",\"Public (13?45 seats)\",\"Special vehicle\",\"Lorry (41?100Q)\",\"Public (\\u003e 45 seats)\",\"Pick up upto 10Q\",\"Lorry (11?40Q)\",\"Special vehicle\",\"Lorry (41?100Q)\",\"Automobile\",\"Automobile\",\"Other\",\"Stationwagen\",\"Lorry (41?100Q)\",\"Automobile\",\"Automobile\",\"Lorry (41?100Q)\",\"Ridden horse\",\"Lorry (41?100Q)\",\"Lorry (41?100Q)\",\"Automobile\",\"Other\",\"Lorry (41?100Q)\",\"Automobile\",\"Automobile\",\"Automobile\",\"Automobile\",\"Motorcycle\",\"Motorcycle\",\"Stationwagen\",\"Lorry (41?100Q)\",\"Long lorry\",\"Long lorry\",\"Lorry (11?40Q)\",\"Long lorry\",\"Public (13?45 seats)\",\"Automobile\",\"Stationwagen\",\"Automobile\",\"Long lorry\",\"Automobile\",\"Automobile\",\"Long lorry\",\"Automobile\",\"Other\",\"Lorry (11?40Q)\",\"Motorcycle\",\"Automobile\",\"Public (\\u003e 45 seats)\",\"Bicycle\",\"Lorry (41?100Q)\",\"Automobile\",\"Public (13?45 seats)\",\"Lorry (41?100Q)\",\"Lorry (41?100Q)\",\"Public (12 seats)\",\"Public (\\u003e 45 seats)\",\"Automobile\",\"Other\",\"Lorry (41?100Q)\",\"Lorry (41?100Q)\",\"Lorry (41?100Q)\",\"Other\",\"Automobile\",\"Lorry (41?100Q)\",\"Automobile\",\"Public (13?45 seats)\",\"Lorry (41?100Q)\",\"Automobile\",\"Public (12 seats)\",\"Public (13?45 seats)\",\"Lorry (11?40Q)\",\"Stationwagen\",\"Ridden horse\",\"Public (\\u003e 45 seats)\",\"Public (12 seats)\",\"Automobile\",\"Bajaj\",\"Lorry (11?40Q)\",\"Lorry (41?100Q)\",\"Lorry (11?40Q)\",\"Stationwagen\",\"Other\",\"Automobile\",\"Lorry (41?100Q)\",\"Other\",\"Lorry (41?100Q)\",\"Automobile\",\"Lorry (41?100Q)\",\"Public (13?45 seats)\",\"Automobile\",\"Automobile\",\"Other\",\"Public (12 seats)\",\"Public (12 seats)\",\"Other\",\"Other\",\"Other\",\"Pick up upto 10Q\",\"Automobile\",\"Automobile\",\"Pick up upto 10Q\",\"Other\",\"Lorry (41?100Q)\",\"Automobile\",\"Stationwagen\",\"Automobile\",\"Public (12 seats)\",\"Automobile\",\"Public (12 seats)\",\"Other\",\"Public (13?45 seats)\",\"Public (13?45 seats)\",\"Pick up upto 10Q\",\"Lorry (41?100Q)\",\"Automobile\",\"Automobile\",\"Automobile\",\"Automobile\",\"Automobile\",\"Automobile\",\"Stationwagen\",\"Automobile\",\"Automobile\",\"Pick up upto 10Q\",\"Lorry (41?100Q)\",\"Automobile\",\"Lorry (41?100Q)\",\"Automobile\",\"Automobile\",\"Public (13?45 seats)\",\"Pick up upto 10Q\",\"Lorry (11?40Q)\",\"Motorcycle\",\"Pick up upto 10Q\",\"Lorry (11?40Q)\",\"Automobile\",\"Other\",\"Automobile\",\"Lorry (41?100Q)\",\"Other\",\"Pick up upto 10Q\",\"Lorry (41?100Q)\",\"Lorry (41?100Q)\",\"Long lorry\",\"Other\",\"Other\",\"Automobile\",\"Automobile\",\"Lorry (41?100Q)\",\"Automobile\",\"Stationwagen\",\"Automobile\",\"Lorry (41?100Q)\",\"Other\",\"Pick up upto 10Q\",\"Motorcycle\",\"Automobile\",\"Automobile\",\"Automobile\",\"Automobile\",\"Automobile\",\"Public (12 seats)\",\"Public (12 seats)\",\"Pick up upto 10Q\",\"Lorry (41?100Q)\",\"Automobile\",\"Stationwagen\",\"Motorcycle\",\"Automobile\",\"Other\",\"Lorry (41?100Q)\",\"Pick up upto 10Q\",\"Public (13?45 seats)\",\"Automobile\",\"Lorry (41?100Q)\",\"Automobile\",\"Lorry (41?100Q)\",\"Public (13?45 seats)\",\"Public (12 seats)\",\"Lorry (41?100Q)\",\"Other\",\"Lorry (41?100Q)\",\"Public (\\u003e 45 seats)\",\"Lorry (41?100Q)\",\"Other\",\"Other\",\"Stationwagen\",\"Lorry (41?100Q)\",\"Pick up upto 10Q\",\"Other\",\"Lorry (41?100Q)\",\"Lorry (41?100Q)\",\"Automobile\",\"Automobile\",\"Automobile\",\"Pick up upto 10Q\",\"Turbo\",\"Stationwagen\",\"Lorry (41?100Q)\",\"Pick up upto 10Q\",\"Pick up upto 10Q\",\"Lorry (41?100Q)\",\"Lorry (41?100Q)\",\"Stationwagen\",\"Lorry (41?100Q)\",\"Public (12 seats)\",\"Public (12 seats)\",\"Automobile\",\"Lorry (41?100Q)\",\"Stationwagen\",\"Automobile\",\"Automobile\",\"Other\",\"Other\",\"Lorry (41?100Q)\",\"Lorry (41?100Q)\",\"Automobile\",\"Other\",\"Other\",\"Motorcycle\",\"Lorry (41?100Q)\",\"Lorry (41?100Q)\",\"Lorry (41?100Q)\",\"Public (12 seats)\",\"Automobile\",\"Public (13?45 seats)\",\"Lorry (41?100Q)\",\"Lorry (41?100Q)\",\"Automobile\",\"Other\",\"Lorry (41?100Q)\",\"Lorry (41?100Q)\",\"Motorcycle\",\"Pick up upto 10Q\",\"Lorry (41?100Q)\",\"Automobile\",\"Automobile\",\"Public (12 seats)\",\"Lorry (41?100Q)\",\"Automobile\",\"Automobile\",\"Motorcycle\",\"Public (12 seats)\",\"Public (13?45 seats)\",\"Lorry (41?100Q)\",\"Lorry (41?100Q)\",\"Lorry (41?100Q)\",\"Other\",\"Lorry (41?100Q)\",\"Lorry (11?40Q)\",\"Automobile\",\"Automobile\",\"Public (\\u003e 45 seats)\",\"Automobile\",\"Motorcycle\",\"Other\",\"Lorry (11?40Q)\",\"Long lorry\",\"Turbo\",\"Automobile\",\"Pick up upto 10Q\",\"Stationwagen\",\"Automobile\",\"Long lorry\",\"Automobile\",\"Stationwagen\",\"Public (\\u003e 45 seats)\",\"Public (\\u003e 45 seats)\",\"Automobile\",\"Bicycle\",\"Automobile\",\"Lorry (41?100Q)\",\"Automobile\",\"Public (13?45 seats)\",\"Special vehicle\",\"Automobile\",\"Lorry (41?100Q)\",\"Lorry (41?100Q)\",\"Pick up upto 10Q\",\"Stationwagen\",\"Lorry (41?100Q)\",\"Other\",\"Automobile\",\"Pick up upto 10Q\",\"Lorry (41?100Q)\",\"Automobile\",\"Automobile\",\"Public (12 seats)\",\"Automobile\",\"Public (13?45 seats)\",\"Lorry (41?100Q)\",\"Public (12 seats)\",\"Public (12 seats)\",\"Other\",\"Lorry (41?100Q)\",\"Lorry (41?100Q)\",\"Lorry (11?40Q)\",\"Pick up upto 10Q\",\"Special vehicle\",\"Lorry (41?100Q)\",\"Automobile\",\"Taxi\",\"Lorry (41?100Q)\",\"Automobile\",\"Other\",\"Public (\\u003e 45 seats)\",\"Automobile\",\"Automobile\",\"Stationwagen\",\"Pick up upto 10Q\",\"Public (12 seats)\",\"Pick up upto 10Q\",\"Long lorry\",\"Public (13?45 seats)\",\"Public (\\u003e 45 seats)\",\"Automobile\",\"Automobile\",\"Public (\\u003e 45 seats)\",\"Pick up upto 10Q\",\"Lorry (11?40Q)\",\"Other\",\"Automobile\",\"Automobile\",\"Lorry (41?100Q)\",\"Taxi\",\"Stationwagen\",\"Stationwagen\",\"Lorry (41?100Q)\",\"Other\",\"Automobile\",\"Other\",\"Lorry (11?40Q)\",\"Automobile\",\"Automobile\",\"Automobile\",\"Stationwagen\",\"Automobile\",\"Taxi\",\"Long lorry\",\"Automobile\",\"Long lorry\",\"Stationwagen\",\"Public (13?45 seats)\",\"Lorry (11?40Q)\",\"Long lorry\",\"Automobile\",\"Lorry (41?100Q)\",\"Lorry (11?40Q)\",\"Public (\\u003e 45 seats)\",\"Automobile\",\"Automobile\",\"Lorry (41?100Q)\",\"Lorry (41?100Q)\",\"Public (12 seats)\",\"Lorry (41?100Q)\",\"Public (12 seats)\",\"Pick up upto 10Q\",\"Stationwagen\",\"Lorry (41?100Q)\",\"Pick up upto 10Q\",\"Automobile\",\"Automobile\",\"Public (\\u003e 45 seats)\",\"Lorry (41?100Q)\",\"Automobile\",\"Public (13?45 seats)\",\"Automobile\",\"Automobile\",\"Public (12 seats)\",\"Public (13?45 seats)\",\"Lorry (11?40Q)\",\"Stationwagen\",\"Automobile\",\"Other\",\"Stationwagen\",\"Automobile\",\"Lorry (41?100Q)\",\"Public (12 seats)\",\"Public (12 seats)\",\"Automobile\",\"Lorry (41?100Q)\",\"Lorry (11?40Q)\",\"Automobile\",\"Automobile\",\"Automobile\",\"Lorry (41?100Q)\",\"Stationwagen\",\"Other\",\"Automobile\",\"Long lorry\",\"Automobile\",\"Other\",\"Long lorry\",\"Public (12 seats)\",\"Other\",\"Public (12 seats)\",\"Pick up upto 10Q\",\"Lorry (41?100Q)\",\"Automobile\",\"Public (12 seats)\",\"Lorry (41?100Q)\",\"Lorry (11?40Q)\",\"Automobile\",\"Lorry (41?100Q)\",\"Automobile\",\"Automobile\",\"Other\",\"Public (13?45 seats)\",\"Other\",\"Pick up upto 10Q\",\"Lorry (41?100Q)\",\"Automobile\",\"Automobile\",\"Automobile\",\"Automobile\",\"Lorry (41?100Q)\",\"Lorry (41?100Q)\",\"Lorry (41?100Q)\",\"Automobile\",\"Public (13?45 seats)\",\"Public (13?45 seats)\",\"Other\",\"Motorcycle\",\"Pick up upto 10Q\",\"Other\",\"Automobile\",\"Taxi\",\"Taxi\",\"Automobile\",\"Automobile\",\"Automobile\",\"Lorry (41?100Q)\",\"Automobile\",\"Lorry (41?100Q)\",\"Lorry (41?100Q)\",\"Long lorry\",\"Pick up upto 10Q\",\"Lorry (41?100Q)\",\"Other\",\"Lorry (41?100Q)\",\"Lorry (41?100Q)\",\"Lorry (41?100Q)\",\"Other\",\"Pick up upto 10Q\",\"Public (13?45 seats)\",\"Motorcycle\",\"Automobile\",\"Automobile\",\"Automobile\",\"Pick up upto 10Q\",\"Lorry (41?100Q)\",\"Motorcycle\",\"Other\",\"Automobile\",\"Pick up upto 10Q\",\"Automobile\",\"Lorry (41?100Q)\",\"Public (13?45 seats)\",\"Other\",\"Public (12 seats)\",\"Lorry (41?100Q)\",\"Other\",\"Stationwagen\",\"Lorry (41?100Q)\",\"Taxi\",\"Automobile\",\"Long lorry\",\"Automobile\",\"Automobile\",\"Other\",\"Pick up upto 10Q\",\"Lorry (41?100Q)\",\"Automobile\",\"Automobile\",\"Pick up upto 10Q\",\"Pick up upto 10Q\",\"Lorry (41?100Q)\",\"Public (12 seats)\",\"Other\",\"Stationwagen\",\"Automobile\",\"Lorry (41?100Q)\",\"Stationwagen\",\"Automobile\",\"Lorry (41?100Q)\",\"Stationwagen\",\"Automobile\",\"Lorry (41?100Q)\",\"Automobile\",\"Stationwagen\",\"Automobile\",\"Public (13?45 seats)\",\"Lorry (41?100Q)\",\"Other\",\"Automobile\",\"Automobile\",\"Lorry (41?100Q)\",\"Public (\\u003e 45 seats)\",\"Lorry (41?100Q)\",\"Lorry (41?100Q)\",\"Public (12 seats)\",\"Public (12 seats)\",\"Lorry (41?100Q)\",\"Stationwagen\",\"Automobile\",\"Automobile\",\"Public (12 seats)\",\"Lorry (41?100Q)\",\"Public (13?45 seats)\",\"Lorry (41?100Q)\",\"Public (\\u003e 45 seats)\",\"Automobile\",\"Automobile\",\"Stationwagen\",\"Automobile\",\"Public (12 seats)\",\"Automobile\",\"Automobile\",\"Lorry (41?100Q)\",\"Lorry (41?100Q)\",\"Lorry (11?40Q)\",\"Lorry (41?100Q)\",\"Automobile\",\"Taxi\",\"Automobile\",\"Long lorry\",\"Lorry (41?100Q)\",\"Taxi\",\"Automobile\",\"Public (\\u003e 45 seats)\",\"Stationwagen\",\"Other\",\"Motorcycle\",\"Motorcycle\",\"Stationwagen\",\"Automobile\",\"Lorry (41?100Q)\",\"Lorry (11?40Q)\",\"Long lorry\",\"Automobile\",\"Taxi\",\"Long lorry\",\"Stationwagen\",\"Automobile\",\"Public (13?45 seats)\",\"Lorry (11?40Q)\",\"Automobile\",\"Automobile\",\"Stationwagen\",\"Bicycle\",\"Special vehicle\",\"Automobile\",\"Automobile\",\"Public (12 seats)\",\"Public (\\u003e 45 seats)\",\"Automobile\",\"Automobile\",\"Automobile\",\"Automobile\",\"Stationwagen\",\"Other\",\"Lorry (41?100Q)\",\"Lorry (41?100Q)\",\"Public (12 seats)\",\"Lorry (41?100Q)\",\"Special vehicle\",\"Public (\\u003e 45 seats)\",\"Automobile\",\"Automobile\",\"Public (\\u003e 45 seats)\",\"Lorry (11?40Q)\",\"Pick up upto 10Q\",\"Lorry (41?100Q)\",\"Automobile\",\"Taxi\",\"Other\",\"Stationwagen\",\"Taxi\",\"Lorry (41?100Q)\",\"Other\",\"Automobile\",\"Automobile\",\"Lorry (41?100Q)\",\"Pick up upto 10Q\",\"Automobile\",\"Other\",\"Lorry (41?100Q)\",\"Public (13?45 seats)\",\"Pick up upto 10Q\",\"Lorry (41?100Q)\",\"Pick up upto 10Q\",\"Long lorry\",\"Public (13?45 seats)\",\"Special vehicle\",\"Public (\\u003e 45 seats)\",\"Automobile\",\"Public (\\u003e 45 seats)\",\"Lorry (11?40Q)\",\"Special vehicle\",\"Lorry (11?40Q)\",\"Lorry (41?100Q)\",\"Other\",\"Automobile\",\"Other\",\"Automobile\",\"Lorry (41?100Q)\",\"Lorry (41?100Q)\",\"Taxi\",\"Other\",\"Stationwagen\",\"Lorry (41?100Q)\",\"Other\",\"Stationwagen\",\"Lorry (41?100Q)\",\"Other\",\"Public (13?45 seats)\",\"Other\",\"Ridden horse\",\"Lorry (41?100Q)\",\"Automobile\",\"Automobile\",\"Lorry (11?40Q)\",\"Lorry (41?100Q)\",\"Other\",\"Lorry (11?40Q)\",\"Automobile\",\"Other\",\"Automobile\",\"Pick up upto 10Q\",\"Lorry (11?40Q)\",\"Lorry (41?100Q)\",\"Other\",\"Lorry (11?40Q)\",\"Long lorry\",\"Automobile\",\"Long lorry\",\"Long lorry\",\"Long lorry\",\"Public (13?45 seats)\",\"Automobile\",\"Automobile\",\"Long lorry\",\"Long lorry\",\"Automobile\",\"Stationwagen\",\"Lorry (11?40Q)\",\"Motorcycle\",\"Automobile\",\"Public (\\u003e 45 seats)\",\"Public (\\u003e 45 seats)\",\"Automobile\",\"Automobile\",\"Lorry (41?100Q)\",\"Lorry (41?100Q)\",\"Lorry (41?100Q)\",\"Other\",\"Automobile\",\"Lorry (41?100Q)\",\"Pick up upto 10Q\",\"Pick up upto 10Q\",\"Automobile\",\"Automobile\",\"Public (12 seats)\",\"Lorry (41?100Q)\",\"Lorry (41?100Q)\",\"Public (13?45 seats)\",\"Public (12 seats)\",\"Taxi\",\"Automobile\",\"Lorry (41?100Q)\",\"Automobile\",\"Automobile\",\"Public (13?45 seats)\",\"Ridden horse\",\"Stationwagen\",\"Automobile\",\"Automobile\",\"Automobile\",\"Lorry (11?40Q)\",\"Bajaj\",\"Lorry (11?40Q)\",\"Lorry (41?100Q)\",\"Pick up upto 10Q\",\"Lorry (11?40Q)\",\"Automobile\",\"Lorry (41?100Q)\",\"Other\",\"Other\",\"Public (12 seats)\",\"Public (13?45 seats)\",\"Automobile\",\"Lorry (41?100Q)\",\"Pick up upto 10Q\",\"Other\",\"Lorry (41?100Q)\",\"Ridden horse\",\"Stationwagen\",\"Lorry (41?100Q)\",\"Automobile\",\"Lorry (41?100Q)\",\"Pick up upto 10Q\",\"Public (12 seats)\",\"Automobile\",\"Public (13?45 seats)\",\"Public (13?45 seats)\",\"Automobile\",\"Other\",\"Pick up upto 10Q\",\"Lorry (41?100Q)\",\"Automobile\",\"Lorry (41?100Q)\",\"Other\",\"Automobile\",\"Pick up upto 10Q\",\"Pick up upto 10Q\",\"Lorry (41?100Q)\",\"Turbo\",\"Lorry (41?100Q)\",\"Public (13?45 seats)\",\"Automobile\",\"Automobile\",\"Pick up upto 10Q\",\"Motorcycle\",\"Pick up upto 10Q\",\"Lorry (11?40Q)\",\"Automobile\",\"Automobile\",\"Taxi\",\"Other\",\"Taxi\",\"Other\",\"Pick up upto 10Q\",\"Lorry (41?100Q)\",\"Public (13?45 seats)\",\"Lorry (41?100Q)\",\"Automobile\",\"Other\",\"Other\",\"Automobile\",\"Pick up upto 10Q\",\"Lorry (41?100Q)\",\"Lorry (41?100Q)\",\"Automobile\",\"Public (13?45 seats)\",\"Public (12 seats)\",\"Motorcycle\",\"Lorry (41?100Q)\",\"Lorry (41?100Q)\",\"Public (12 seats)\",\"Stationwagen\",\"Automobile\",\"Automobile\",\"Lorry (41?100Q)\",\"Pick up upto 10Q\",\"Automobile\",\"Automobile\",\"Lorry (41?100Q)\",\"Lorry (41?100Q)\",\"Public (13?45 seats)\",\"Other\",\"Automobile\",\"Public (12 seats)\",\"Lorry (41?100Q)\",\"Other\",\"Lorry (41?100Q)\",\"Other\",\"Automobile\",\"Pick up upto 10Q\",\"Automobile\",\"Other\",\"Ridden horse\",\"Automobile\",\"Public (12 seats)\",\"Other\",\"Lorry (41?100Q)\",\"Automobile\",\"Turbo\",\"Lorry (41?100Q)\",\"Lorry (41?100Q)\",\"Automobile\",\"Lorry (41?100Q)\",\"Public (12 seats)\",\"Automobile\",\"Other\",\"Lorry (41?100Q)\",\"Automobile\",\"Public (12 seats)\",\"Lorry (41?100Q)\",\"Automobile\",\"Lorry (41?100Q)\",\"Automobile\",\"Lorry (41?100Q)\",\"Automobile\",\"Automobile\",\"Lorry (41?100Q)\",\"Public (12 seats)\",\"Lorry (41?100Q)\",\"Other\",\"Stationwagen\",\"Public (\\u003e 45 seats)\",\"Automobile\",\"Public (\\u003e 45 seats)\",\"Motorcycle\",\"Automobile\",\"Automobile\",\"Automobile\",\"Lorry (41?100Q)\",\"Stationwagen\",\"Stationwagen\",\"Automobile\",\"Public (12 seats)\",\"Automobile\",\"Automobile\",\"Other\",\"Lorry (11?40Q)\",\"Motorcycle\",\"Lorry (41?100Q)\",\"Stationwagen\",\"Taxi\",\"Automobile\",\"Lorry (41?100Q)\",\"Automobile\",\"Taxi\",\"Other\",\"Automobile\",\"Public (\\u003e 45 seats)\",\"Lorry (11?40Q)\",\"Lorry (41?100Q)\",\"Stationwagen\",\"Automobile\",\"Pick up upto 10Q\",\"Motorcycle\",\"Lorry (41?100Q)\",\"Taxi\",\"Automobile\",\"Long lorry\",\"Automobile\",\"Pick up upto 10Q\",\"Lorry (41?100Q)\",\"Long lorry\",\"Lorry (11?40Q)\",\"Long lorry\",\"Long lorry\",\"Long lorry\",\"Public (13?45 seats)\",\"Automobile\",\"Pick up upto 10Q\",\"Automobile\",\"Long lorry\",\"Public (13?45 seats)\",\"Lorry (11?40Q)\",\"Automobile\",\"Special vehicle\",\"Lorry (11?40Q)\",\"Public (\\u003e 45 seats)\",\"Automobile\",\"Lorry (41?100Q)\",\"Automobile\",\"Public (12 seats)\",\"Lorry (41?100Q)\",\"Public (12 seats)\",\"Pick up upto 10Q\",\"Stationwagen\",\"Pick up upto 10Q\",\"Motorcycle\",\"Automobile\",\"Automobile\",\"Automobile\",\"Public (\\u003e 45 seats)\",\"Public (12 seats)\",\"Public (12 seats)\",\"Automobile\",\"Automobile\",\"Automobile\",\"Other\",\"Public (13?45 seats)\",\"Lorry (41?100Q)\",\"Public (12 seats)\",\"Automobile\",\"Lorry (41?100Q)\",\"Public (12 seats)\",\"Lorry (41?100Q)\",\"Special vehicle\",\"Automobile\",\"Public (\\u003e 45 seats)\",\"Lorry (11?40Q)\",\"Lorry (11?40Q)\",\"Special vehicle\",\"Lorry (41?100Q)\"],\"xaxis\":\"x\",\"yaxis\":\"y\",\"type\":\"histogram\"},{\"alignmentgroup\":\"True\",\"bingroup\":\"x\",\"hovertemplate\":\"Age_band_of_driver=Under 18\\u003cbr\\u003eType_of_vehicle=%{x}\\u003cbr\\u003ecount=%{y}\\u003cextra\\u003e\\u003c\\u002fextra\\u003e\",\"legendgroup\":\"Under 18\",\"marker\":{\"color\":\"#00cc96\",\"pattern\":{\"shape\":\"\"}},\"name\":\"Under 18\",\"offsetgroup\":\"Under 18\",\"orientation\":\"v\",\"showlegend\":true,\"x\":[\"Lorry (41?100Q)\",\"Automobile\",\"Other\",\"Public (12 seats)\",\"Lorry (41?100Q)\",\"Other\",\"Other\",\"Public (12 seats)\",\"Lorry (41?100Q)\",\"Automobile\",\"Automobile\",\"Public (13?45 seats)\",\"Taxi\",\"Automobile\",\"Other\",\"Public (13?45 seats)\",\"Automobile\",\"Public (12 seats)\",\"Automobile\",\"Automobile\",\"Public (13?45 seats)\",\"Lorry (41?100Q)\",\"Automobile\",\"Public (12 seats)\",\"Taxi\",\"Automobile\",\"Public (12 seats)\",\"Lorry (41?100Q)\",\"Automobile\",\"Lorry (41?100Q)\",\"Automobile\",\"Automobile\",\"Stationwagen\",\"Lorry (41?100Q)\",\"Lorry (41?100Q)\",\"Other\",\"Motorcycle\",\"Stationwagen\",\"Lorry (11?40Q)\",\"Automobile\",\"Public (\\u003e 45 seats)\",\"Pick up upto 10Q\",\"Automobile\",\"Lorry (41?100Q)\",\"Pick up upto 10Q\",\"Public (13?45 seats)\",\"Other\",\"Lorry (41?100Q)\",\"Special vehicle\",\"Special vehicle\",\"Lorry (41?100Q)\",\"Lorry (11?40Q)\",\"Stationwagen\",\"Stationwagen\",\"Automobile\",\"Long lorry\",\"Lorry (41?100Q)\",\"Long lorry\",\"Taxi\",\"Automobile\",\"Public (13?45 seats)\",\"Public (13?45 seats)\",\"Long lorry\",\"Automobile\",\"Automobile\",\"Public (13?45 seats)\",\"Public (12 seats)\",\"Long lorry\",\"Other\",\"Automobile\",\"Automobile\",\"Automobile\",\"Turbo\",\"Automobile\",\"Lorry (11?40Q)\",\"Pick up upto 10Q\",\"Lorry (41?100Q)\",\"Public (12 seats)\",\"Automobile\",\"Automobile\",\"Pick up upto 10Q\",\"Public (12 seats)\",\"Public (12 seats)\",\"Public (12 seats)\",\"Automobile\",\"Other\",\"Long lorry\",\"Stationwagen\",\"Lorry (41?100Q)\",\"Lorry (41?100Q)\",\"Automobile\",\"Public (12 seats)\",\"Special vehicle\",\"Lorry (41?100Q)\",\"Lorry (41?100Q)\",\"Public (12 seats)\",\"Lorry (11?40Q)\",\"Pick up upto 10Q\",\"Automobile\",\"Automobile\",\"Lorry (41?100Q)\",\"Lorry (41?100Q)\",\"Automobile\",\"Automobile\",\"Automobile\",\"Taxi\",\"Lorry (41?100Q)\",\"Public (\\u003e 45 seats)\",\"Stationwagen\",\"Automobile\",\"Stationwagen\",\"Lorry (41?100Q)\",\"Public (12 seats)\",\"Lorry (41?100Q)\",\"Public (12 seats)\",\"Automobile\",\"Lorry (41?100Q)\",\"Other\",\"Automobile\",\"Lorry (11?40Q)\",\"Automobile\",\"Automobile\",\"Lorry (41?100Q)\",\"Automobile\",\"Lorry (41?100Q)\",\"Automobile\",\"Special vehicle\",\"Stationwagen\",\"Public (12 seats)\",\"Pick up upto 10Q\",\"Lorry (41?100Q)\",\"Lorry (11?40Q)\",\"Lorry (41?100Q)\",\"Lorry (41?100Q)\",\"Automobile\",\"Automobile\",\"Automobile\",\"Special vehicle\",\"Lorry (11?40Q)\",\"Public (13?45 seats)\",\"Public (12 seats)\",\"Other\",\"Other\",\"Public (12 seats)\",\"Public (\\u003e 45 seats)\",\"Automobile\",\"Other\",\"Public (13?45 seats)\",\"Automobile\",\"Lorry (11?40Q)\",\"Lorry (41?100Q)\",\"Other\",\"Automobile\",\"Automobile\",\"Public (\\u003e 45 seats)\",\"Other\",\"Motorcycle\",\"Public (12 seats)\",\"Long lorry\",\"Lorry (11?40Q)\",\"Special vehicle\",\"Public (13?45 seats)\",\"Automobile\",\"Lorry (41?100Q)\",\"Lorry (41?100Q)\",\"Public (12 seats)\",\"Lorry (41?100Q)\",\"Stationwagen\",\"Bajaj\",\"Automobile\",\"Lorry (11?40Q)\",\"Public (13?45 seats)\",\"Public (\\u003e 45 seats)\",\"Automobile\",\"Lorry (11?40Q)\",\"Other\",\"Public (12 seats)\",\"Lorry (41?100Q)\",\"Automobile\",\"Lorry (41?100Q)\",\"Automobile\",\"Lorry (41?100Q)\",\"Other\",\"Stationwagen\",\"Automobile\",\"Lorry (41?100Q)\",\"Lorry (41?100Q)\",\"Lorry (11?40Q)\",\"Automobile\",\"Automobile\",\"Other\",\"Pick up upto 10Q\",\"Lorry (41?100Q)\",\"Public (13?45 seats)\",\"Automobile\",\"Other\",\"Public (\\u003e 45 seats)\",\"Pick up upto 10Q\",\"Public (\\u003e 45 seats)\",\"Automobile\",\"Stationwagen\",\"Public (\\u003e 45 seats)\",\"Automobile\",\"Stationwagen\",\"Automobile\",\"Public (12 seats)\",\"Public (12 seats)\",\"Lorry (11?40Q)\",\"Lorry (11?40Q)\",\"Automobile\",\"Pick up upto 10Q\",\"Automobile\",\"Lorry (11?40Q)\",\"Stationwagen\",\"Automobile\",\"Lorry (41?100Q)\",\"Pick up upto 10Q\",\"Pick up upto 10Q\",\"Pick up upto 10Q\",\"Automobile\",\"Automobile\",\"Lorry (11?40Q)\",\"Lorry (41?100Q)\",\"Public (13?45 seats)\",\"Lorry (41?100Q)\",\"Special vehicle\",\"Lorry (11?40Q)\",\"Automobile\",\"Taxi\",\"Public (\\u003e 45 seats)\",\"Lorry (41?100Q)\",\"Long lorry\",\"Bicycle\",\"Other\",\"Bajaj\",\"Lorry (41?100Q)\",\"Automobile\",\"Pick up upto 10Q\",\"Automobile\",\"Automobile\",\"Automobile\",\"Automobile\",\"Other\",\"Other\",\"Lorry (41?100Q)\",\"Automobile\",\"Long lorry\",\"Stationwagen\",\"Turbo\",\"Pick up upto 10Q\",\"Lorry (41?100Q)\",\"Lorry (41?100Q)\",\"Lorry (41?100Q)\",\"Lorry (41?100Q)\",\"Public (13?45 seats)\",\"Public (\\u003e 45 seats)\",\"Automobile\",\"Other\",\"Automobile\",\"Automobile\",\"Automobile\",\"Stationwagen\",\"Motorcycle\",\"Lorry (41?100Q)\",\"Other\",\"Automobile\",\"Long lorry\",\"Lorry (11?40Q)\",\"Automobile\",\"Automobile\",\"Automobile\",\"Pick up upto 10Q\",\"Public (12 seats)\",\"Automobile\",\"Stationwagen\",\"Automobile\",\"Automobile\",\"Other\",\"Lorry (41?100Q)\",\"Lorry (41?100Q)\",\"Automobile\",\"Automobile\",\"Automobile\",\"Other\",\"Public (13?45 seats)\",\"Lorry (41?100Q)\",\"Pick up upto 10Q\",\"Automobile\",\"Stationwagen\",\"Ridden horse\",\"Lorry (41?100Q)\",\"Automobile\",\"Pick up upto 10Q\",\"Automobile\",\"Long lorry\",\"Lorry (11?40Q)\",\"Stationwagen\",\"Public (13?45 seats)\",\"Stationwagen\",\"Automobile\",\"Lorry (11?40Q)\",\"Taxi\",\"Stationwagen\",\"Automobile\",\"Automobile\",\"Automobile\",\"Long lorry\",\"Other\",\"Lorry (11?40Q)\",\"Other\",\"Pick up upto 10Q\",\"Pick up upto 10Q\",\"Public (12 seats)\",\"Automobile\",\"Automobile\",\"Lorry (41?100Q)\",\"Automobile\",\"Lorry (41?100Q)\",\"Public (13?45 seats)\",\"Public (13?45 seats)\",\"Automobile\",\"Automobile\",\"Taxi\",\"Automobile\",\"Automobile\",\"Long lorry\",\"Lorry (41?100Q)\",\"Other\",\"Other\",\"Pick up upto 10Q\",\"Pick up upto 10Q\",\"Lorry (41?100Q)\",\"Lorry (41?100Q)\",\"Other\",\"Taxi\",\"Lorry (41?100Q)\",\"Public (\\u003e 45 seats)\",\"Automobile\",\"Public (12 seats)\",\"Lorry (41?100Q)\",\"Pick up upto 10Q\",\"Automobile\",\"Public (\\u003e 45 seats)\",\"Stationwagen\",\"Public (12 seats)\",\"Public (\\u003e 45 seats)\",\"Taxi\",\"Automobile\",\"Long lorry\",\"Public (\\u003e 45 seats)\",\"Lorry (41?100Q)\",\"Public (12 seats)\",\"Pick up upto 10Q\",\"Automobile\",\"Public (\\u003e 45 seats)\",\"Pick up upto 10Q\",\"Lorry (41?100Q)\",\"Automobile\",\"Other\",\"Automobile\",\"Other\",\"Lorry (41?100Q)\",\"Pick up upto 10Q\",\"Lorry (41?100Q)\",\"Lorry (41?100Q)\",\"Automobile\",\"Pick up upto 10Q\",\"Other\",\"Lorry (11?40Q)\",\"Lorry (41?100Q)\",\"Lorry (41?100Q)\",\"Public (13?45 seats)\",\"Automobile\",\"Other\",\"Pick up upto 10Q\",\"Automobile\",\"Automobile\",\"Pick up upto 10Q\",\"Lorry (11?40Q)\",\"Other\",\"Automobile\",\"Lorry (41?100Q)\",\"Lorry (41?100Q)\",\"Automobile\",\"Public (12 seats)\",\"Pick up upto 10Q\",\"Pick up upto 10Q\",\"Automobile\",\"Automobile\",\"Lorry (41?100Q)\",\"Automobile\",\"Pick up upto 10Q\",\"Lorry (41?100Q)\",\"Automobile\",\"Automobile\",\"Automobile\",\"Pick up upto 10Q\",\"Lorry (41?100Q)\",\"Public (12 seats)\",\"Other\",\"Automobile\",\"Public (\\u003e 45 seats)\",\"Automobile\",\"Automobile\",\"Public (12 seats)\",\"Other\",\"Pick up upto 10Q\",\"Automobile\",\"Taxi\",\"Automobile\",\"Long lorry\",\"Stationwagen\",\"Public (12 seats)\",\"Automobile\",\"Public (12 seats)\",\"Other\",\"Public (12 seats)\",\"Public (13?45 seats)\",\"Lorry (41?100Q)\",\"Other\",\"Other\",\"Automobile\",\"Lorry (41?100Q)\",\"Motorcycle\",\"Other\",\"Long lorry\",\"Public (13?45 seats)\",\"Lorry (41?100Q)\",\"Automobile\",\"Other\",\"Taxi\",\"Lorry (11?40Q)\",\"Automobile\",\"Lorry (11?40Q)\",\"Other\",\"Automobile\",\"Other\",\"Automobile\",\"Other\",\"Taxi\",\"Other\",\"Automobile\",\"Lorry (41?100Q)\",\"Other\",\"Pick up upto 10Q\",\"Automobile\",\"Automobile\",\"Automobile\",\"Public (13?45 seats)\",\"Lorry (11?40Q)\",\"Automobile\",\"Automobile\",\"Automobile\",\"Other\",\"Automobile\",\"Lorry (41?100Q)\",\"Pick up upto 10Q\",\"Other\",\"Lorry (41?100Q)\",\"Lorry (11?40Q)\",\"Pick up upto 10Q\",\"Stationwagen\",\"Pick up upto 10Q\",\"Public (12 seats)\",\"Pick up upto 10Q\",\"Lorry (41?100Q)\",\"Public (13?45 seats)\",\"Automobile\",\"Automobile\",\"Lorry (41?100Q)\",\"Lorry (41?100Q)\",\"Lorry (41?100Q)\",\"Lorry (41?100Q)\",\"Other\",\"Stationwagen\",\"Lorry (41?100Q)\",\"Automobile\",\"Automobile\",\"Public (13?45 seats)\",\"Automobile\",\"Automobile\",\"Lorry (41?100Q)\",\"Public (12 seats)\",\"Lorry (41?100Q)\",\"Ridden horse\",\"Automobile\",\"Public (\\u003e 45 seats)\",\"Lorry (41?100Q)\",\"Automobile\",\"Automobile\",\"Stationwagen\",\"Automobile\",\"Pick up upto 10Q\",\"Lorry (11?40Q)\",\"Pick up upto 10Q\",\"Pick up upto 10Q\",\"Automobile\",\"Automobile\",\"Lorry (41?100Q)\",\"Pick up upto 10Q\",\"Public (12 seats)\",\"Automobile\",\"Automobile\",\"Other\",\"Other\",\"Automobile\",\"Other\",\"Other\",\"Pick up upto 10Q\",\"Automobile\",\"Pick up upto 10Q\",\"Lorry (41?100Q)\",\"Taxi\",\"Lorry (41?100Q)\",\"Other\",\"Automobile\",\"Long lorry\",\"Automobile\",\"Stationwagen\",\"Pick up upto 10Q\",\"Pick up upto 10Q\",\"Automobile\",\"Lorry (41?100Q)\",\"Automobile\",\"Taxi\",\"Automobile\",\"Stationwagen\",\"Automobile\",\"Other\",\"Pick up upto 10Q\",\"Stationwagen\",\"Other\",\"Lorry (41?100Q)\",\"Public (13?45 seats)\",\"Other\",\"Lorry (11?40Q)\",\"Lorry (11?40Q)\",\"Automobile\",\"Other\",\"Public (12 seats)\",\"Automobile\",\"Other\",\"Lorry (41?100Q)\",\"Pick up upto 10Q\",\"Stationwagen\",\"Lorry (41?100Q)\",\"Automobile\",\"Automobile\",\"Automobile\",\"Lorry (41?100Q)\",\"Stationwagen\",\"Other\",\"Automobile\",\"Stationwagen\",\"Lorry (41?100Q)\",\"Taxi\",\"Automobile\",\"Pick up upto 10Q\",\"Long lorry\",\"Lorry (11?40Q)\",\"Other\",\"Lorry (41?100Q)\",\"Automobile\",\"Automobile\",\"Lorry (41?100Q)\",\"Lorry (41?100Q)\",\"Public (\\u003e 45 seats)\",\"Other\",\"Stationwagen\",\"Special vehicle\",\"Automobile\",\"Lorry (41?100Q)\",\"Lorry (11?40Q)\",\"Public (13?45 seats)\",\"Lorry (41?100Q)\",\"Lorry (11?40Q)\",\"Other\",\"Motorcycle\",\"Other\",\"Automobile\",\"Automobile\",\"Other\",\"Public (13?45 seats)\",\"Lorry (41?100Q)\",\"Stationwagen\",\"Lorry (41?100Q)\",\"Automobile\",\"Other\",\"Public (13?45 seats)\",\"Public (12 seats)\",\"Other\",\"Public (12 seats)\",\"Stationwagen\",\"Lorry (41?100Q)\",\"Public (12 seats)\",\"Lorry (41?100Q)\",\"Automobile\",\"Automobile\",\"Lorry (41?100Q)\",\"Lorry (41?100Q)\",\"Public (\\u003e 45 seats)\",\"Lorry (41?100Q)\",\"Automobile\",\"Automobile\",\"Lorry (41?100Q)\",\"Automobile\",\"Automobile\",\"Turbo\",\"Pick up upto 10Q\",\"Public (\\u003e 45 seats)\",\"Public (12 seats)\",\"Automobile\",\"Public (13?45 seats)\",\"Lorry (41?100Q)\",\"Other\",\"Automobile\",\"Public (12 seats)\",\"Automobile\",\"Other\",\"Motorcycle\",\"Other\",\"Automobile\",\"Long lorry\",\"Public (13?45 seats)\",\"Stationwagen\",\"Long lorry\",\"Automobile\",\"Automobile\",\"Automobile\",\"Other\",\"Lorry (41?100Q)\",\"Automobile\",\"Public (\\u003e 45 seats)\",\"Motorcycle\",\"Public (\\u003e 45 seats)\",\"Long lorry\",\"Lorry (41?100Q)\",\"Lorry (11?40Q)\",\"Pick up upto 10Q\",\"Lorry (11?40Q)\",\"Lorry (41?100Q)\",\"Automobile\",\"Pick up upto 10Q\",\"Automobile\",\"Long lorry\",\"Public (12 seats)\",\"Public (12 seats)\",\"Lorry (41?100Q)\",\"Other\",\"Lorry (41?100Q)\",\"Stationwagen\",\"Automobile\",\"Lorry (11?40Q)\",\"Automobile\",\"Automobile\",\"Automobile\",\"Other\",\"Automobile\",\"Lorry (41?100Q)\",\"Automobile\",\"Public (13?45 seats)\",\"Long lorry\",\"Lorry (41?100Q)\",\"Lorry (41?100Q)\",\"Automobile\",\"Other\",\"Lorry (41?100Q)\",\"Public (\\u003e 45 seats)\",\"Other\",\"Other\",\"Automobile\",\"Motorcycle\",\"Stationwagen\",\"Automobile\",\"Public (12 seats)\",\"Lorry (41?100Q)\",\"Lorry (41?100Q)\",\"Stationwagen\",\"Automobile\",\"Lorry (11?40Q)\",\"Bicycle\"],\"xaxis\":\"x\",\"yaxis\":\"y\",\"type\":\"histogram\"},{\"alignmentgroup\":\"True\",\"bingroup\":\"x\",\"hovertemplate\":\"Age_band_of_driver=Over 51\\u003cbr\\u003eType_of_vehicle=%{x}\\u003cbr\\u003ecount=%{y}\\u003cextra\\u003e\\u003c\\u002fextra\\u003e\",\"legendgroup\":\"Over 51\",\"marker\":{\"color\":\"#ab63fa\",\"pattern\":{\"shape\":\"\"}},\"name\":\"Over 51\",\"offsetgroup\":\"Over 51\",\"orientation\":\"v\",\"showlegend\":true,\"x\":[\"Automobile\",\"Automobile\",\"Taxi\",\"Lorry (41?100Q)\",\"Lorry (11?40Q)\",\"Pick up upto 10Q\",\"Lorry (11?40Q)\",\"Other\",\"Automobile\",\"Pick up upto 10Q\",\"Automobile\",\"Public (12 seats)\",\"Other\",\"Other\",\"Automobile\",\"Automobile\",\"Automobile\",\"Other\",\"Automobile\",\"Lorry (41?100Q)\",\"Public (13?45 seats)\",\"Lorry (11?40Q)\",\"Automobile\",\"Pick up upto 10Q\",\"Long lorry\",\"Public (12 seats)\",\"Public (12 seats)\",\"Automobile\",\"Automobile\",\"Pick up upto 10Q\",\"Automobile\",\"Stationwagen\",\"Public (\\u003e 45 seats)\",\"Other\",\"Automobile\",\"Other\",\"Lorry (41?100Q)\",\"Other\",\"Other\",\"Pick up upto 10Q\",\"Long lorry\",\"Automobile\",\"Stationwagen\",\"Public (\\u003e 45 seats)\",\"Automobile\",\"Stationwagen\",\"Lorry (41?100Q)\",\"Other\",\"Lorry (41?100Q)\",\"Automobile\",\"Other\",\"Motorcycle\",\"Automobile\",\"Lorry (41?100Q)\",\"Lorry (41?100Q)\",\"Lorry (41?100Q)\",\"Other\",\"Automobile\",\"Automobile\",\"Public (\\u003e 45 seats)\",\"Automobile\",\"Lorry (41?100Q)\",\"Lorry (11?40Q)\",\"Motorcycle\",\"Taxi\",\"Automobile\",\"Lorry (41?100Q)\",\"Long lorry\",\"Lorry (11?40Q)\",\"Long lorry\",\"Special vehicle\",\"Lorry (41?100Q)\",\"Motorcycle\",\"Automobile\",\"Automobile\",\"Automobile\",\"Public (13?45 seats)\",\"Lorry (41?100Q)\",\"Stationwagen\",\"Lorry (41?100Q)\",\"Lorry (41?100Q)\",\"Pick up upto 10Q\",\"Automobile\",\"Lorry (41?100Q)\",\"Stationwagen\",\"Public (\\u003e 45 seats)\",\"Public (12 seats)\",\"Other\",\"Public (12 seats)\",\"Lorry (41?100Q)\",\"Automobile\",\"Public (\\u003e 45 seats)\",\"Lorry (11?40Q)\",\"Taxi\",\"Stationwagen\",\"Automobile\",\"Lorry (41?100Q)\",\"Pick up upto 10Q\",\"Other\",\"Public (12 seats)\",\"Lorry (41?100Q)\",\"Public (\\u003e 45 seats)\",\"Automobile\",\"Special vehicle\",\"Other\",\"Automobile\",\"Automobile\",\"Automobile\",\"Lorry (41?100Q)\",\"Automobile\",\"Public (\\u003e 45 seats)\",\"Public (13?45 seats)\",\"Ridden horse\",\"Lorry (41?100Q)\",\"Lorry (41?100Q)\",\"Lorry (11?40Q)\",\"Motorcycle\",\"Automobile\",\"Lorry (11?40Q)\",\"Lorry (41?100Q)\",\"Long lorry\",\"Long lorry\",\"Public (13?45 seats)\",\"Automobile\",\"Automobile\",\"Long lorry\",\"Automobile\",\"Lorry (41?100Q)\",\"Public (13?45 seats)\",\"Automobile\",\"Automobile\",\"Pick up upto 10Q\",\"Lorry (41?100Q)\",\"Pick up upto 10Q\",\"Automobile\",\"Lorry (41?100Q)\",\"Taxi\",\"Automobile\",\"Public (12 seats)\",\"Lorry (41?100Q)\",\"Lorry (11?40Q)\",\"Automobile\",\"Public (12 seats)\",\"Other\",\"Other\",\"Other\",\"Public (12 seats)\",\"Automobile\",\"Lorry (41?100Q)\",\"Lorry (41?100Q)\",\"Pick up upto 10Q\",\"Lorry (41?100Q)\",\"Lorry (11?40Q)\",\"Automobile\",\"Automobile\",\"Stationwagen\",\"Lorry (41?100Q)\",\"Public (13?45 seats)\",\"Lorry (41?100Q)\",\"Motorcycle\",\"Automobile\",\"Taxi\",\"Lorry (11?40Q)\",\"Other\",\"Automobile\",\"Automobile\",\"Stationwagen\",\"Automobile\",\"Automobile\",\"Public (12 seats)\",\"Motorcycle\",\"Automobile\",\"Pick up upto 10Q\",\"Automobile\",\"Public (12 seats)\",\"Automobile\",\"Motorcycle\",\"Automobile\",\"Other\",\"Pick up upto 10Q\",\"Public (13?45 seats)\",\"Automobile\",\"Lorry (41?100Q)\",\"Stationwagen\",\"Other\",\"Pick up upto 10Q\",\"Long lorry\",\"Automobile\",\"Other\",\"Pick up upto 10Q\",\"Lorry (41?100Q)\",\"Automobile\",\"Pick up upto 10Q\",\"Automobile\",\"Lorry (41?100Q)\",\"Public (12 seats)\",\"Automobile\",\"Automobile\",\"Other\",\"Automobile\",\"Stationwagen\",\"Lorry (41?100Q)\",\"Lorry (41?100Q)\",\"Lorry (41?100Q)\",\"Automobile\",\"Automobile\",\"Taxi\",\"Public (12 seats)\",\"Long lorry\",\"Public (12 seats)\",\"Lorry (11?40Q)\",\"Long lorry\",\"Lorry (11?40Q)\",\"Automobile\",\"Stationwagen\",\"Automobile\",\"Public (\\u003e 45 seats)\",\"Automobile\",\"Stationwagen\",\"Automobile\",\"Lorry (41?100Q)\",\"Automobile\",\"Pick up upto 10Q\",\"Lorry (11?40Q)\",\"Other\",\"Public (13?45 seats)\",\"Lorry (41?100Q)\",\"Taxi\",\"Lorry (41?100Q)\",\"Automobile\",\"Public (13?45 seats)\",\"Lorry (11?40Q)\",\"Lorry (41?100Q)\",\"Automobile\",\"Long lorry\",\"Public (13?45 seats)\",\"Automobile\",\"Automobile\",\"Automobile\",\"Lorry (41?100Q)\",\"Automobile\",\"Lorry (41?100Q)\",\"Stationwagen\",\"Lorry (11?40Q)\",\"Automobile\",\"Automobile\",\"Public (12 seats)\",\"Pick up upto 10Q\",\"Public (\\u003e 45 seats)\",\"Automobile\",\"Public (13?45 seats)\",\"Lorry (41?100Q)\",\"Automobile\",\"Stationwagen\",\"Automobile\",\"Public (\\u003e 45 seats)\",\"Public (13?45 seats)\",\"Automobile\",\"Public (\\u003e 45 seats)\",\"Automobile\",\"Other\",\"Automobile\",\"Automobile\",\"Pick up upto 10Q\",\"Public (12 seats)\",\"Automobile\",\"Automobile\",\"Lorry (11?40Q)\",\"Bajaj\",\"Public (13?45 seats)\",\"Public (13?45 seats)\",\"Automobile\",\"Stationwagen\",\"Turbo\",\"Lorry (41?100Q)\",\"Public (13?45 seats)\",\"Lorry (11?40Q)\",\"Pick up upto 10Q\",\"Automobile\",\"Other\",\"Public (12 seats)\",\"Motorcycle\",\"Automobile\",\"Pick up upto 10Q\",\"Automobile\",\"Stationwagen\",\"Long lorry\",\"Automobile\",\"Automobile\",\"Stationwagen\",\"Automobile\",\"Lorry (41?100Q)\",\"Public (12 seats)\",\"Automobile\",\"Public (13?45 seats)\",\"Taxi\",\"Automobile\",\"Pick up upto 10Q\",\"Lorry (11?40Q)\",\"Stationwagen\",\"Bicycle\",\"Lorry (41?100Q)\",\"Automobile\",\"Public (13?45 seats)\",\"Lorry (41?100Q)\",\"Public (12 seats)\",\"Lorry (41?100Q)\",\"Automobile\",\"Other\",\"Long lorry\",\"Automobile\",\"Other\",\"Public (13?45 seats)\",\"Taxi\",\"Automobile\",\"Taxi\",\"Automobile\",\"Automobile\",\"Public (12 seats)\",\"Pick up upto 10Q\",\"Other\",\"Other\",\"Public (13?45 seats)\",\"Automobile\",\"Lorry (41?100Q)\",\"Pick up upto 10Q\",\"Automobile\",\"Stationwagen\",\"Automobile\",\"Automobile\",\"Automobile\",\"Lorry (41?100Q)\",\"Other\",\"Pick up upto 10Q\",\"Lorry (41?100Q)\",\"Public (13?45 seats)\",\"Automobile\",\"Other\",\"Lorry (41?100Q)\",\"Lorry (41?100Q)\",\"Lorry (41?100Q)\",\"Automobile\",\"Public (12 seats)\",\"Public (\\u003e 45 seats)\",\"Automobile\",\"Stationwagen\",\"Public (12 seats)\",\"Public (12 seats)\",\"Public (12 seats)\",\"Automobile\",\"Automobile\",\"Pick up upto 10Q\",\"Automobile\",\"Stationwagen\",\"Lorry (41?100Q)\",\"Public (12 seats)\",\"Stationwagen\",\"Lorry (41?100Q)\",\"Stationwagen\",\"Lorry (41?100Q)\",\"Automobile\",\"Public (12 seats)\",\"Lorry (11?40Q)\",\"Long lorry\",\"Automobile\",\"Automobile\",\"Automobile\",\"Automobile\",\"Long lorry\",\"Automobile\",\"Bicycle\",\"Automobile\",\"Public (12 seats)\",\"Lorry (41?100Q)\",\"Pick up upto 10Q\",\"Pick up upto 10Q\",\"Automobile\",\"Automobile\",\"Stationwagen\",\"Special vehicle\",\"Special vehicle\",\"Lorry (11?40Q)\",\"Lorry (41?100Q)\",\"Lorry (41?100Q)\",\"Other\",\"Pick up upto 10Q\",\"Public (13?45 seats)\",\"Automobile\",\"Taxi\",\"Stationwagen\",\"Lorry (41?100Q)\",\"Automobile\",\"Automobile\",\"Long lorry\",\"Automobile\",\"Lorry (11?40Q)\",\"Automobile\",\"Automobile\",\"Stationwagen\",\"Special vehicle\",\"Automobile\",\"Automobile\",\"Public (12 seats)\",\"Automobile\",\"Lorry (11?40Q)\",\"Ridden horse\",\"Automobile\",\"Automobile\",\"Other\",\"Public (\\u003e 45 seats)\",\"Lorry (41?100Q)\",\"Public (\\u003e 45 seats)\",\"Automobile\",\"Automobile\",\"Taxi\",\"Stationwagen\",\"Stationwagen\",\"Automobile\",\"Automobile\",\"Lorry (11?40Q)\",\"Public (13?45 seats)\",\"Automobile\",\"Public (12 seats)\",\"Automobile\",\"Pick up upto 10Q\",\"Lorry (41?100Q)\",\"Lorry (41?100Q)\",\"Public (12 seats)\",\"Automobile\",\"Lorry (11?40Q)\",\"Lorry (11?40Q)\",\"Other\",\"Automobile\",\"Public (13?45 seats)\",\"Pick up upto 10Q\",\"Other\",\"Automobile\",\"Automobile\",\"Long lorry\",\"Automobile\",\"Public (12 seats)\",\"Automobile\",\"Public (13?45 seats)\",\"Public (12 seats)\",\"Pick up upto 10Q\",\"Automobile\",\"Automobile\",\"Pick up upto 10Q\",\"Lorry (41?100Q)\",\"Lorry (41?100Q)\",\"Lorry (41?100Q)\",\"Other\",\"Automobile\",\"Lorry (41?100Q)\",\"Automobile\",\"Automobile\",\"Stationwagen\",\"Public (\\u003e 45 seats)\",\"Lorry (41?100Q)\",\"Lorry (41?100Q)\",\"Automobile\",\"Other\",\"Long lorry\",\"Automobile\",\"Automobile\",\"Public (\\u003e 45 seats)\",\"Lorry (11?40Q)\",\"Automobile\",\"Stationwagen\",\"Public (\\u003e 45 seats)\",\"Public (\\u003e 45 seats)\",\"Pick up upto 10Q\",\"Other\",\"Motorcycle\",\"Public (12 seats)\",\"Lorry (41?100Q)\",\"Special vehicle\",\"Pick up upto 10Q\",\"Public (13?45 seats)\",\"Stationwagen\",\"Pick up upto 10Q\",\"Taxi\",\"Other\",\"Long lorry\",\"Lorry (41?100Q)\",\"Taxi\",\"Long lorry\",\"Public (12 seats)\",\"Pick up upto 10Q\",\"Public (13?45 seats)\",\"Automobile\",\"Pick up upto 10Q\",\"Other\",\"Automobile\",\"Lorry (41?100Q)\",\"Automobile\",\"Lorry (41?100Q)\",\"Public (\\u003e 45 seats)\",\"Public (12 seats)\",\"Public (12 seats)\",\"Lorry (41?100Q)\",\"Public (13?45 seats)\",\"Automobile\",\"Lorry (41?100Q)\",\"Pick up upto 10Q\",\"Other\",\"Automobile\",\"Lorry (11?40Q)\",\"Automobile\",\"Automobile\",\"Stationwagen\",\"Lorry (11?40Q)\",\"Pick up upto 10Q\",\"Automobile\",\"Other\",\"Long lorry\",\"Pick up upto 10Q\",\"Lorry (41?100Q)\",\"Pick up upto 10Q\",\"Automobile\",\"Automobile\",\"Public (13?45 seats)\",\"Public (13?45 seats)\",\"Lorry (41?100Q)\",\"Automobile\",\"Lorry (41?100Q)\",\"Public (12 seats)\",\"Other\",\"Public (\\u003e 45 seats)\",\"Public (\\u003e 45 seats)\",\"Automobile\",\"Other\",\"Lorry (41?100Q)\",\"Automobile\",\"Stationwagen\",\"Automobile\",\"Lorry (41?100Q)\",\"Automobile\",\"Automobile\",\"Lorry (41?100Q)\",\"Automobile\",\"Motorcycle\",\"Lorry (41?100Q)\",\"Public (12 seats)\",\"Pick up upto 10Q\",\"Motorcycle\",\"Pick up upto 10Q\",\"Public (12 seats)\",\"Public (12 seats)\",\"Public (\\u003e 45 seats)\",\"Automobile\",\"Lorry (41?100Q)\",\"Lorry (41?100Q)\",\"Pick up upto 10Q\",\"Motorcycle\",\"Stationwagen\",\"Lorry (11?40Q)\",\"Pick up upto 10Q\",\"Taxi\",\"Lorry (11?40Q)\",\"Lorry (41?100Q)\",\"Pick up upto 10Q\",\"Automobile\",\"Bicycle\",\"Automobile\",\"Lorry (41?100Q)\",\"Stationwagen\",\"Pick up upto 10Q\",\"Pick up upto 10Q\",\"Automobile\",\"Public (\\u003e 45 seats)\",\"Stationwagen\",\"Other\",\"Public (13?45 seats)\",\"Lorry (41?100Q)\",\"Public (12 seats)\",\"Lorry (41?100Q)\",\"Lorry (41?100Q)\",\"Other\",\"Public (13?45 seats)\",\"Other\",\"Lorry (41?100Q)\",\"Automobile\",\"Motorcycle\",\"Other\",\"Other\",\"Long lorry\",\"Lorry (41?100Q)\",\"Automobile\",\"Motorcycle\",\"Automobile\",\"Taxi\",\"Public (13?45 seats)\",\"Automobile\",\"Long lorry\",\"Long lorry\",\"Stationwagen\",\"Special vehicle\",\"Bicycle\",\"Lorry (41?100Q)\",\"Lorry (41?100Q)\",\"Public (13?45 seats)\",\"Lorry (41?100Q)\",\"Automobile\",\"Automobile\",\"Public (\\u003e 45 seats)\",\"Public (12 seats)\",\"Lorry (11?40Q)\",\"Lorry (11?40Q)\",\"Other\",\"Lorry (41?100Q)\",\"Lorry (41?100Q)\",\"Long lorry\",\"Other\",\"Automobile\",\"Turbo\",\"Pick up upto 10Q\",\"Other\",\"Pick up upto 10Q\",\"Automobile\",\"Stationwagen\",\"Automobile\",\"Automobile\",\"Other\",\"Automobile\",\"Lorry (41?100Q)\",\"Automobile\",\"Other\",\"Lorry (41?100Q)\",\"Lorry (41?100Q)\",\"Public (12 seats)\",\"Public (\\u003e 45 seats)\",\"Other\",\"Lorry (41?100Q)\",\"Public (12 seats)\",\"Lorry (41?100Q)\",\"Stationwagen\",\"Lorry (41?100Q)\",\"Public (12 seats)\",\"Automobile\",\"Lorry (41?100Q)\",\"Public (\\u003e 45 seats)\",\"Lorry (41?100Q)\",\"Automobile\",\"Lorry (41?100Q)\",\"Stationwagen\",\"Other\",\"Automobile\",\"Automobile\",\"Long lorry\",\"Automobile\",\"Stationwagen\",\"Other\",\"Stationwagen\",\"Lorry (41?100Q)\",\"Automobile\",\"Long lorry\",\"Public (12 seats)\",\"Automobile\",\"Lorry (41?100Q)\",\"Automobile\",\"Public (\\u003e 45 seats)\",\"Automobile\",\"Lorry (11?40Q)\",\"Public (13?45 seats)\",\"Stationwagen\",\"Automobile\",\"Automobile\",\"Pick up upto 10Q\",\"Lorry (41?100Q)\",\"Public (13?45 seats)\",\"Lorry (41?100Q)\",\"Other\",\"Automobile\",\"Other\",\"Lorry (41?100Q)\",\"Pick up upto 10Q\",\"Stationwagen\",\"Public (12 seats)\",\"Lorry (41?100Q)\",\"Automobile\",\"Automobile\",\"Pick up upto 10Q\",\"Lorry (41?100Q)\",\"Automobile\",\"Pick up upto 10Q\",\"Automobile\",\"Automobile\",\"Automobile\",\"Automobile\",\"Lorry (41?100Q)\",\"Other\",\"Other\",\"Other\",\"Lorry (41?100Q)\",\"Automobile\",\"Public (12 seats)\",\"Turbo\",\"Pick up upto 10Q\",\"Automobile\",\"Public (12 seats)\",\"Lorry (41?100Q)\",\"Automobile\",\"Automobile\",\"Lorry (41?100Q)\",\"Automobile\",\"Public (12 seats)\",\"Lorry (41?100Q)\",\"Lorry (41?100Q)\",\"Public (\\u003e 45 seats)\",\"Automobile\",\"Automobile\",\"Other\",\"Motorcycle\",\"Lorry (41?100Q)\",\"Lorry (11?40Q)\",\"Lorry (11?40Q)\",\"Pick up upto 10Q\",\"Stationwagen\",\"Automobile\",\"Long lorry\",\"Stationwagen\",\"Public (13?45 seats)\",\"Automobile\",\"Public (13?45 seats)\",\"Lorry (41?100Q)\",\"Public (12 seats)\",\"Lorry (41?100Q)\",\"Motorcycle\",\"Public (12 seats)\",\"Automobile\",\"Automobile\",\"Pick up upto 10Q\",\"Other\",\"Other\",\"Automobile\",\"Other\",\"Public (13?45 seats)\",\"Other\",\"Long lorry\",\"Lorry (41?100Q)\",\"Taxi\",\"Pick up upto 10Q\",\"Lorry (11?40Q)\",\"Automobile\",\"Other\",\"Public (\\u003e 45 seats)\",\"Automobile\",\"Motorcycle\",\"Automobile\",\"Automobile\",\"Automobile\",\"Bicycle\",\"Automobile\",\"Automobile\",\"Automobile\",\"Lorry (11?40Q)\",\"Public (13?45 seats)\",\"Lorry (41?100Q)\",\"Taxi\",\"Automobile\",\"Automobile\",\"Public (12 seats)\",\"Lorry (11?40Q)\",\"Automobile\",\"Lorry (41?100Q)\",\"Pick up upto 10Q\",\"Pick up upto 10Q\",\"Stationwagen\",\"Lorry (41?100Q)\",\"Lorry (41?100Q)\",\"Automobile\",\"Public (13?45 seats)\",\"Automobile\",\"Pick up upto 10Q\",\"Automobile\",\"Automobile\",\"Lorry (41?100Q)\",\"Lorry (11?40Q)\",\"Taxi\",\"Lorry (11?40Q)\",\"Automobile\",\"Public (12 seats)\",\"Automobile\",\"Lorry (41?100Q)\",\"Stationwagen\",\"Automobile\",\"Public (12 seats)\",\"Automobile\",\"Public (12 seats)\",\"Lorry (41?100Q)\",\"Motorcycle\",\"Other\",\"Automobile\",\"Public (12 seats)\",\"Other\",\"Lorry (41?100Q)\",\"Lorry (11?40Q)\",\"Public (13?45 seats)\",\"Long lorry\",\"Lorry (41?100Q)\",\"Automobile\",\"Public (12 seats)\",\"Lorry (41?100Q)\",\"Public (12 seats)\",\"Automobile\",\"Automobile\",\"Public (12 seats)\",\"Pick up upto 10Q\",\"Public (13?45 seats)\",\"Public (12 seats)\",\"Lorry (41?100Q)\",\"Ridden horse\",\"Automobile\",\"Automobile\",\"Stationwagen\",\"Public (12 seats)\",\"Automobile\",\"Lorry (11?40Q)\",\"Public (13?45 seats)\",\"Stationwagen\",\"Other\",\"Stationwagen\",\"Public (13?45 seats)\",\"Public (13?45 seats)\",\"Automobile\",\"Pick up upto 10Q\",\"Lorry (11?40Q)\",\"Automobile\",\"Lorry (41?100Q)\",\"Long lorry\",\"Automobile\",\"Lorry (41?100Q)\",\"Other\",\"Automobile\",\"Automobile\",\"Public (12 seats)\",\"Motorcycle\",\"Public (\\u003e 45 seats)\",\"Lorry (41?100Q)\",\"Other\",\"Automobile\",\"Lorry (41?100Q)\",\"Taxi\",\"Other\",\"Public (12 seats)\",\"Other\",\"Lorry (41?100Q)\",\"Automobile\",\"Stationwagen\",\"Public (12 seats)\",\"Public (12 seats)\",\"Automobile\",\"Other\",\"Lorry (41?100Q)\",\"Public (12 seats)\",\"Other\",\"Automobile\",\"Lorry (41?100Q)\",\"Pick up upto 10Q\",\"Public (12 seats)\",\"Automobile\",\"Automobile\",\"Motorcycle\",\"Automobile\",\"Automobile\",\"Long lorry\",\"Long lorry\",\"Automobile\",\"Lorry (41?100Q)\",\"Long lorry\",\"Lorry (11?40Q)\",\"Taxi\",\"Stationwagen\",\"Public (13?45 seats)\",\"Stationwagen\",\"Lorry (41?100Q)\",\"Motorcycle\",\"Automobile\",\"Automobile\",\"Lorry (41?100Q)\",\"Lorry (41?100Q)\",\"Lorry (41?100Q)\",\"Other\",\"Pick up upto 10Q\",\"Automobile\",\"Automobile\",\"Lorry (41?100Q)\",\"Public (13?45 seats)\",\"Automobile\",\"Public (13?45 seats)\",\"Automobile\",\"Lorry (41?100Q)\",\"Lorry (11?40Q)\",\"Lorry (41?100Q)\",\"Taxi\",\"Lorry (41?100Q)\",\"Lorry (41?100Q)\",\"Other\",\"Automobile\",\"Lorry (41?100Q)\",\"Other\",\"Pick up upto 10Q\",\"Pick up upto 10Q\",\"Pick up upto 10Q\",\"Automobile\",\"Lorry (41?100Q)\",\"Taxi\",\"Lorry (41?100Q)\",\"Taxi\",\"Automobile\",\"Other\",\"Automobile\",\"Pick up upto 10Q\",\"Automobile\",\"Long lorry\",\"Automobile\",\"Public (13?45 seats)\",\"Pick up upto 10Q\",\"Automobile\",\"Stationwagen\",\"Public (13?45 seats)\",\"Lorry (41?100Q)\",\"Lorry (41?100Q)\",\"Lorry (41?100Q)\",\"Public (13?45 seats)\",\"Automobile\",\"Public (\\u003e 45 seats)\",\"Automobile\",\"Automobile\",\"Pick up upto 10Q\",\"Automobile\",\"Other\",\"Automobile\",\"Lorry (41?100Q)\",\"Lorry (41?100Q)\",\"Public (12 seats)\",\"Lorry (11?40Q)\",\"Long lorry\",\"Public (12 seats)\",\"Other\",\"Other\",\"Automobile\",\"Lorry (11?40Q)\",\"Lorry (11?40Q)\",\"Automobile\",\"Automobile\",\"Automobile\",\"Other\",\"Lorry (41?100Q)\",\"Automobile\",\"Pick up upto 10Q\",\"Lorry (41?100Q)\",\"Automobile\",\"Pick up upto 10Q\",\"Automobile\",\"Public (13?45 seats)\",\"Other\",\"Automobile\",\"Lorry (41?100Q)\",\"Automobile\",\"Public (13?45 seats)\",\"Lorry (41?100Q)\",\"Lorry (41?100Q)\",\"Automobile\",\"Lorry (41?100Q)\",\"Automobile\",\"Long lorry\",\"Public (12 seats)\",\"Automobile\",\"Other\",\"Public (12 seats)\",\"Public (13?45 seats)\",\"Public (13?45 seats)\",\"Lorry (41?100Q)\",\"Automobile\",\"Automobile\",\"Automobile\",\"Pick up upto 10Q\",\"Public (12 seats)\",\"Lorry (41?100Q)\",\"Automobile\",\"Public (12 seats)\",\"Automobile\",\"Automobile\",\"Automobile\",\"Public (12 seats)\",\"Automobile\",\"Lorry (41?100Q)\",\"Automobile\",\"Automobile\",\"Other\",\"Lorry (41?100Q)\",\"Taxi\",\"Lorry (41?100Q)\",\"Long lorry\",\"Automobile\",\"Long lorry\",\"Public (13?45 seats)\",\"Automobile\",\"Stationwagen\",\"Public (13?45 seats)\",\"Lorry (41?100Q)\",\"Pick up upto 10Q\",\"Automobile\",\"Long lorry\",\"Automobile\",\"Public (\\u003e 45 seats)\",\"Public (13?45 seats)\",\"Automobile\",\"Public (\\u003e 45 seats)\",\"Other\",\"Other\",\"Automobile\",\"Public (\\u003e 45 seats)\",\"Automobile\",\"Public (\\u003e 45 seats)\",\"Other\",\"Lorry (41?100Q)\",\"Other\",\"Public (13?45 seats)\",\"Automobile\",\"Lorry (41?100Q)\",\"Public (13?45 seats)\",\"Other\",\"Lorry (41?100Q)\",\"Other\",\"Public (13?45 seats)\",\"Lorry (41?100Q)\",\"Lorry (41?100Q)\",\"Lorry (41?100Q)\",\"Automobile\",\"Automobile\",\"Other\",\"Lorry (11?40Q)\",\"Motorcycle\",\"Lorry (41?100Q)\",\"Automobile\",\"Other\",\"Lorry (11?40Q)\",\"Long lorry\",\"Public (12 seats)\",\"Pick up upto 10Q\",\"Long lorry\",\"Taxi\",\"Taxi\",\"Long lorry\",\"Long lorry\",\"Public (13?45 seats)\",\"Pick up upto 10Q\",\"Automobile\",\"Automobile\",\"Bicycle\",\"Lorry (41?100Q)\",\"Pick up upto 10Q\",\"Automobile\",\"Public (\\u003e 45 seats)\",\"Taxi\",\"Taxi\",\"Public (12 seats)\",\"Other\",\"Lorry (11?40Q)\",\"Lorry (41?100Q)\",\"Other\",\"Other\",\"Automobile\",\"Pick up upto 10Q\",\"Lorry (41?100Q)\",\"Ridden horse\",\"Automobile\",\"Automobile\",\"Stationwagen\",\"Lorry (41?100Q)\",\"Other\",\"Automobile\",\"Turbo\",\"Lorry (41?100Q)\",\"Public (13?45 seats)\",\"Automobile\",\"Lorry (11?40Q)\",\"Lorry (11?40Q)\",\"Automobile\",\"Automobile\",\"Other\",\"Public (12 seats)\",\"Automobile\",\"Stationwagen\",\"Automobile\",\"Stationwagen\",\"Other\",\"Automobile\",\"Automobile\",\"Automobile\",\"Stationwagen\",\"Ridden horse\",\"Automobile\",\"Pick up upto 10Q\",\"Public (12 seats)\",\"Pick up upto 10Q\",\"Other\",\"Automobile\",\"Other\",\"Lorry (41?100Q)\",\"Lorry (41?100Q)\",\"Automobile\",\"Lorry (41?100Q)\",\"Public (12 seats)\",\"Lorry (41?100Q)\",\"Automobile\",\"Public (12 seats)\",\"Public (\\u003e 45 seats)\",\"Lorry (41?100Q)\",\"Public (\\u003e 45 seats)\",\"Lorry (41?100Q)\",\"Motorcycle\",\"Automobile\",\"Taxi\",\"Motorcycle\",\"Automobile\",\"Automobile\",\"Automobile\",\"Lorry (41?100Q)\",\"Automobile\",\"Automobile\",\"Lorry (41?100Q)\",\"Taxi\",\"Automobile\",\"Other\",\"Taxi\",\"Turbo\",\"Long lorry\",\"Automobile\",\"Pick up upto 10Q\",\"Lorry (11?40Q)\",\"Pick up upto 10Q\",\"Automobile\",\"Other\",\"Pick up upto 10Q\",\"Lorry (41?100Q)\",\"Automobile\",\"Public (\\u003e 45 seats)\",\"Automobile\",\"Lorry (41?100Q)\",\"Automobile\",\"Pick up upto 10Q\",\"Automobile\",\"Other\",\"Motorcycle\",\"Public (\\u003e 45 seats)\",\"Public (12 seats)\",\"Public (\\u003e 45 seats)\",\"Other\",\"Automobile\",\"Lorry (41?100Q)\",\"Lorry (41?100Q)\",\"Lorry (41?100Q)\",\"Other\",\"Automobile\",\"Pick up upto 10Q\",\"Lorry (41?100Q)\",\"Automobile\",\"Stationwagen\",\"Lorry (41?100Q)\",\"Stationwagen\",\"Automobile\",\"Lorry (41?100Q)\",\"Lorry (41?100Q)\",\"Automobile\",\"Lorry (11?40Q)\",\"Lorry (41?100Q)\",\"Stationwagen\",\"Lorry (41?100Q)\",\"Long lorry\",\"Automobile\",\"Other\",\"Automobile\",\"Public (13?45 seats)\",\"Special vehicle\",\"Automobile\",\"Public (12 seats)\",\"Lorry (41?100Q)\",\"Automobile\",\"Public (13?45 seats)\",\"Automobile\",\"Public (13?45 seats)\",\"Automobile\",\"Lorry (41?100Q)\",\"Automobile\",\"Automobile\",\"Taxi\",\"Stationwagen\",\"Other\",\"Taxi\",\"Stationwagen\",\"Lorry (41?100Q)\",\"Lorry (11?40Q)\",\"Other\",\"Lorry (11?40Q)\",\"Other\",\"Automobile\",\"Automobile\",\"Automobile\",\"Automobile\",\"Stationwagen\",\"Lorry (41?100Q)\",\"Lorry (41?100Q)\",\"Automobile\",\"Automobile\",\"Public (13?45 seats)\",\"Automobile\",\"Lorry (11?40Q)\",\"Automobile\",\"Other\",\"Other\",\"Long lorry\",\"Other\",\"Lorry (41?100Q)\",\"Pick up upto 10Q\",\"Automobile\",\"Public (12 seats)\",\"Pick up upto 10Q\",\"Stationwagen\",\"Automobile\",\"Automobile\",\"Public (12 seats)\",\"Pick up upto 10Q\",\"Lorry (41?100Q)\",\"Motorcycle\",\"Pick up upto 10Q\",\"Lorry (41?100Q)\",\"Lorry (41?100Q)\",\"Public (\\u003e 45 seats)\",\"Automobile\",\"Automobile\",\"Taxi\",\"Automobile\",\"Pick up upto 10Q\",\"Lorry (41?100Q)\",\"Other\",\"Stationwagen\",\"Automobile\",\"Stationwagen\",\"Public (12 seats)\",\"Lorry (41?100Q)\",\"Stationwagen\",\"Public (\\u003e 45 seats)\",\"Automobile\",\"Automobile\",\"Stationwagen\",\"Public (12 seats)\",\"Automobile\",\"Public (12 seats)\",\"Public (12 seats)\",\"Automobile\",\"Lorry (41?100Q)\",\"Lorry (41?100Q)\",\"Pick up upto 10Q\",\"Public (13?45 seats)\",\"Public (13?45 seats)\",\"Ridden horse\",\"Public (\\u003e 45 seats)\",\"Stationwagen\",\"Automobile\",\"Automobile\",\"Motorcycle\",\"Automobile\",\"Other\",\"Long lorry\",\"Lorry (41?100Q)\",\"Motorcycle\",\"Other\",\"Automobile\",\"Stationwagen\",\"Lorry (41?100Q)\",\"Motorcycle\",\"Automobile\",\"Automobile\",\"Stationwagen\",\"Public (\\u003e 45 seats)\",\"Special vehicle\",\"Lorry (41?100Q)\",\"Stationwagen\",\"Other\",\"Public (\\u003e 45 seats)\",\"Public (12 seats)\",\"Other\",\"Bajaj\"],\"xaxis\":\"x\",\"yaxis\":\"y\",\"type\":\"histogram\"},{\"alignmentgroup\":\"True\",\"bingroup\":\"x\",\"hovertemplate\":\"Age_band_of_driver=Unknown\\u003cbr\\u003eType_of_vehicle=%{x}\\u003cbr\\u003ecount=%{y}\\u003cextra\\u003e\\u003c\\u002fextra\\u003e\",\"legendgroup\":\"Unknown\",\"marker\":{\"color\":\"#FFA15A\",\"pattern\":{\"shape\":\"\"}},\"name\":\"Unknown\",\"offsetgroup\":\"Unknown\",\"orientation\":\"v\",\"showlegend\":true,\"x\":[\"Public (12 seats)\",\"Automobile\",\"Lorry (11?40Q)\",\"Stationwagen\",\"Pick up upto 10Q\",\"Lorry (41?100Q)\",\"Public (13?45 seats)\",\"Other\",\"Other\",\"Automobile\",\"Taxi\",\"Other\",\"Automobile\",\"Automobile\",\"Automobile\",\"Automobile\",\"Pick up upto 10Q\",\"Other\",\"Lorry (41?100Q)\",\"Automobile\",\"Lorry (41?100Q)\",\"Public (\\u003e 45 seats)\",\"Automobile\",\"Public (\\u003e 45 seats)\",\"Public (12 seats)\",\"Lorry (41?100Q)\",\"Other\",\"Taxi\",\"Taxi\",\"Lorry (11?40Q)\",\"Automobile\",\"Pick up upto 10Q\",\"Lorry (41?100Q)\",\"Other\",\"Public (12 seats)\",\"Lorry (11?40Q)\",\"Lorry (41?100Q)\",\"Lorry (41?100Q)\",\"Other\",\"Other\",\"Stationwagen\",\"Pick up upto 10Q\",\"Lorry (41?100Q)\",\"Lorry (41?100Q)\",\"Public (\\u003e 45 seats)\",\"Public (12 seats)\",\"Lorry (41?100Q)\",\"Automobile\",\"Lorry (41?100Q)\",\"Pick up upto 10Q\",\"Automobile\",\"Automobile\",\"Lorry (41?100Q)\",\"Other\",\"Automobile\",\"Lorry (41?100Q)\",\"Lorry (41?100Q)\",\"Automobile\",\"Public (12 seats)\",\"Automobile\",\"Other\",\"Lorry (41?100Q)\",\"Automobile\",\"Public (12 seats)\",\"Public (\\u003e 45 seats)\",\"Lorry (41?100Q)\",\"Pick up upto 10Q\",\"Automobile\",\"Other\",\"Public (\\u003e 45 seats)\",\"Pick up upto 10Q\",\"Lorry (41?100Q)\",\"Automobile\",\"Stationwagen\",\"Motorcycle\",\"Automobile\",\"Other\",\"Stationwagen\",\"Other\",\"Taxi\",\"Automobile\",\"Motorcycle\",\"Public (13?45 seats)\",\"Public (13?45 seats)\",\"Lorry (11?40Q)\",\"Pick up upto 10Q\",\"Automobile\",\"Long lorry\",\"Lorry (11?40Q)\",\"Motorcycle\",\"Automobile\",\"Public (12 seats)\",\"Lorry (41?100Q)\",\"Automobile\",\"Automobile\",\"Public (13?45 seats)\",\"Automobile\",\"Lorry (11?40Q)\",\"Automobile\",\"Other\",\"Taxi\",\"Lorry (41?100Q)\",\"Stationwagen\",\"Other\",\"Lorry (41?100Q)\",\"Automobile\",\"Lorry (11?40Q)\",\"Other\",\"Other\",\"Lorry (41?100Q)\",\"Automobile\",\"Lorry (41?100Q)\",\"Other\",\"Automobile\",\"Lorry (41?100Q)\",\"Lorry (11?40Q)\",\"Automobile\",\"Taxi\",\"Lorry (41?100Q)\",\"Motorcycle\",\"Lorry (41?100Q)\",\"Lorry (11?40Q)\",\"Long lorry\",\"Stationwagen\",\"Public (\\u003e 45 seats)\",\"Bicycle\",\"Lorry (41?100Q)\",\"Automobile\",\"Public (13?45 seats)\",\"Automobile\",\"Lorry (41?100Q)\",\"Lorry (41?100Q)\",\"Automobile\",\"Taxi\",\"Automobile\",\"Lorry (41?100Q)\",\"Lorry (11?40Q)\",\"Stationwagen\",\"Automobile\",\"Automobile\",\"Public (12 seats)\",\"Automobile\",\"Lorry (41?100Q)\",\"Public (\\u003e 45 seats)\",\"Automobile\",\"Public (12 seats)\",\"Automobile\",\"Automobile\",\"Ridden horse\",\"Automobile\",\"Other\",\"Automobile\",\"Automobile\",\"Public (13?45 seats)\",\"Lorry (41?100Q)\",\"Taxi\",\"Automobile\",\"Public (13?45 seats)\",\"Public (12 seats)\",\"Public (\\u003e 45 seats)\",\"Public (13?45 seats)\",\"Long lorry\",\"Lorry (41?100Q)\",\"Lorry (11?40Q)\",\"Lorry (41?100Q)\",\"Taxi\",\"Public (12 seats)\",\"Public (\\u003e 45 seats)\",\"Lorry (11?40Q)\",\"Lorry (41?100Q)\",\"Lorry (11?40Q)\",\"Lorry (11?40Q)\",\"Taxi\",\"Automobile\",\"Public (\\u003e 45 seats)\",\"Long lorry\",\"Lorry (11?40Q)\",\"Lorry (41?100Q)\",\"Automobile\",\"Pick up upto 10Q\",\"Lorry (11?40Q)\",\"Public (12 seats)\",\"Lorry (11?40Q)\",\"Automobile\",\"Automobile\",\"Public (13?45 seats)\",\"Public (12 seats)\",\"Public (12 seats)\",\"Lorry (41?100Q)\",\"Public (12 seats)\",\"Other\",\"Other\",\"Public (13?45 seats)\",\"Other\",\"Lorry (41?100Q)\",\"Other\",\"Automobile\",\"Automobile\",\"Public (13?45 seats)\",\"Other\",\"Lorry (41?100Q)\",\"Automobile\",\"Automobile\",\"Automobile\",\"Automobile\",\"Pick up upto 10Q\",\"Automobile\",\"Lorry (41?100Q)\",\"Public (13?45 seats)\",\"Automobile\",\"Lorry (11?40Q)\",\"Other\",\"Automobile\",\"Other\",\"Pick up upto 10Q\",\"Stationwagen\",\"Lorry (41?100Q)\",\"Lorry (41?100Q)\",\"Lorry (41?100Q)\",\"Pick up upto 10Q\",\"Lorry (41?100Q)\",\"Automobile\",\"Lorry (41?100Q)\",\"Automobile\",\"Other\",\"Other\",\"Other\",\"Other\",\"Public (12 seats)\",\"Other\",\"Stationwagen\",\"Taxi\",\"Long lorry\",\"Turbo\",\"Stationwagen\",\"Lorry (41?100Q)\",\"Public (12 seats)\",\"Other\",\"Lorry (41?100Q)\",\"Automobile\",\"Other\",\"Automobile\",\"Motorcycle\",\"Lorry (41?100Q)\",\"Lorry (41?100Q)\",\"Public (\\u003e 45 seats)\",\"Lorry (41?100Q)\",\"Automobile\",\"Public (\\u003e 45 seats)\",\"Lorry (41?100Q)\",\"Pick up upto 10Q\",\"Public (12 seats)\",\"Public (12 seats)\",\"Taxi\",\"Other\",\"Public (12 seats)\",\"Lorry (11?40Q)\",\"Lorry (41?100Q)\",\"Lorry (11?40Q)\",\"Taxi\",\"Automobile\",\"Automobile\",\"Lorry (11?40Q)\",\"Lorry (41?100Q)\",\"Public (12 seats)\",\"Pick up upto 10Q\",\"Long lorry\",\"Automobile\",\"Pick up upto 10Q\",\"Lorry (41?100Q)\",\"Automobile\",\"Public (\\u003e 45 seats)\",\"Automobile\",\"Lorry (41?100Q)\",\"Stationwagen\",\"Other\",\"Lorry (41?100Q)\",\"Automobile\",\"Other\",\"Special vehicle\",\"Lorry (41?100Q)\",\"Lorry (11?40Q)\",\"Lorry (41?100Q)\",\"Automobile\",\"Automobile\",\"Pick up upto 10Q\",\"Public (13?45 seats)\",\"Automobile\",\"Automobile\",\"Automobile\",\"Other\",\"Long lorry\",\"Other\",\"Other\",\"Other\",\"Other\",\"Lorry (41?100Q)\",\"Public (12 seats)\",\"Pick up upto 10Q\",\"Stationwagen\",\"Lorry (41?100Q)\",\"Pick up upto 10Q\",\"Lorry (11?40Q)\",\"Automobile\",\"Other\",\"Automobile\",\"Public (13?45 seats)\",\"Public (13?45 seats)\",\"Automobile\",\"Automobile\",\"Stationwagen\",\"Lorry (41?100Q)\",\"Stationwagen\",\"Pick up upto 10Q\",\"Automobile\",\"Lorry (41?100Q)\",\"Pick up upto 10Q\",\"Lorry (11?40Q)\",\"Automobile\",\"Other\",\"Automobile\",\"Automobile\",\"Lorry (41?100Q)\",\"Other\",\"Automobile\",\"Lorry (41?100Q)\",\"Automobile\",\"Stationwagen\",\"Pick up upto 10Q\",\"Automobile\",\"Public (13?45 seats)\",\"Public (13?45 seats)\",\"Lorry (41?100Q)\",\"Pick up upto 10Q\",\"Pick up upto 10Q\",\"Automobile\",\"Lorry (41?100Q)\",\"Public (12 seats)\",\"Other\",\"Public (\\u003e 45 seats)\",\"Pick up upto 10Q\",\"Lorry (41?100Q)\",\"Public (\\u003e 45 seats)\",\"Public (\\u003e 45 seats)\",\"Automobile\",\"Pick up upto 10Q\",\"Lorry (41?100Q)\",\"Pick up upto 10Q\",\"Public (12 seats)\",\"Other\",\"Automobile\",\"Automobile\",\"Stationwagen\",\"Automobile\",\"Other\",\"Lorry (41?100Q)\",\"Public (13?45 seats)\",\"Public (12 seats)\",\"Automobile\",\"Lorry (41?100Q)\",\"Automobile\",\"Public (\\u003e 45 seats)\",\"Lorry (41?100Q)\",\"Stationwagen\",\"Stationwagen\",\"Public (\\u003e 45 seats)\",\"Lorry (41?100Q)\",\"Lorry (41?100Q)\",\"Motorcycle\",\"Lorry (41?100Q)\",\"Ridden horse\",\"Public (12 seats)\",\"Automobile\",\"Automobile\",\"Automobile\",\"Public (12 seats)\",\"Automobile\",\"Lorry (41?100Q)\",\"Automobile\",\"Public (12 seats)\",\"Automobile\",\"Lorry (41?100Q)\",\"Motorcycle\",\"Lorry (41?100Q)\",\"Automobile\",\"Pick up upto 10Q\",\"Automobile\",\"Automobile\",\"Public (13?45 seats)\",\"Automobile\",\"Automobile\",\"Stationwagen\",\"Public (\\u003e 45 seats)\",\"Automobile\",\"Public (\\u003e 45 seats)\",\"Automobile\",\"Automobile\",\"Public (12 seats)\",\"Automobile\",\"Automobile\",\"Automobile\",\"Pick up upto 10Q\",\"Public (13?45 seats)\",\"Automobile\",\"Lorry (41?100Q)\",\"Other\",\"Automobile\",\"Automobile\",\"Public (\\u003e 45 seats)\",\"Lorry (11?40Q)\",\"Pick up upto 10Q\",\"Lorry (41?100Q)\",\"Lorry (41?100Q)\",\"Other\",\"Public (13?45 seats)\",\"Other\",\"Ridden horse\",\"Lorry (41?100Q)\",\"Lorry (11?40Q)\",\"Pick up upto 10Q\",\"Public (13?45 seats)\",\"Lorry (41?100Q)\",\"Lorry (41?100Q)\",\"Automobile\",\"Automobile\",\"Public (\\u003e 45 seats)\",\"Pick up upto 10Q\",\"Pick up upto 10Q\",\"Public (13?45 seats)\",\"Lorry (41?100Q)\",\"Other\",\"Stationwagen\",\"Other\",\"Automobile\",\"Automobile\",\"Public (\\u003e 45 seats)\",\"Other\",\"Lorry (11?40Q)\",\"Motorcycle\",\"Other\",\"Automobile\",\"Automobile\",\"Lorry (11?40Q)\",\"Pick up upto 10Q\",\"Motorcycle\",\"Lorry (11?40Q)\",\"Other\",\"Automobile\",\"Long lorry\",\"Automobile\",\"Public (13?45 seats)\",\"Other\",\"Automobile\",\"Lorry (41?100Q)\",\"Pick up upto 10Q\",\"Automobile\",\"Lorry (41?100Q)\",\"Pick up upto 10Q\",\"Automobile\",\"Other\",\"Automobile\",\"Automobile\",\"Automobile\",\"Automobile\",\"Public (13?45 seats)\",\"Lorry (41?100Q)\",\"Lorry (41?100Q)\",\"Automobile\",\"Automobile\",\"Automobile\",\"Other\",\"Taxi\",\"Lorry (11?40Q)\",\"Stationwagen\",\"Public (13?45 seats)\",\"Automobile\",\"Automobile\",\"Automobile\",\"Public (12 seats)\",\"Lorry (41?100Q)\",\"Automobile\",\"Automobile\",\"Bajaj\",\"Public (12 seats)\",\"Lorry (11?40Q)\",\"Lorry (41?100Q)\",\"Public (12 seats)\",\"Other\",\"Pick up upto 10Q\",\"Public (13?45 seats)\",\"Pick up upto 10Q\",\"Stationwagen\",\"Other\",\"Lorry (41?100Q)\",\"Lorry (41?100Q)\",\"Lorry (41?100Q)\",\"Pick up upto 10Q\",\"Bajaj\",\"Automobile\",\"Other\",\"Public (13?45 seats)\",\"Automobile\",\"Automobile\",\"Turbo\",\"Automobile\",\"Lorry (41?100Q)\",\"Lorry (41?100Q)\",\"Lorry (41?100Q)\",\"Automobile\",\"Automobile\",\"Lorry (11?40Q)\",\"Other\",\"Public (13?45 seats)\",\"Lorry (41?100Q)\",\"Automobile\",\"Automobile\",\"Automobile\",\"Other\",\"Stationwagen\",\"Lorry (41?100Q)\",\"Stationwagen\",\"Automobile\",\"Automobile\",\"Automobile\",\"Automobile\",\"Lorry (41?100Q)\",\"Motorcycle\",\"Other\",\"Lorry (41?100Q)\",\"Lorry (41?100Q)\",\"Lorry (41?100Q)\",\"Other\",\"Automobile\",\"Ridden horse\",\"Other\",\"Stationwagen\",\"Long lorry\",\"Pick up upto 10Q\",\"Other\",\"Lorry (41?100Q)\",\"Automobile\",\"Public (12 seats)\",\"Turbo\",\"Lorry (41?100Q)\",\"Automobile\",\"Other\",\"Stationwagen\",\"Automobile\",\"Automobile\",\"Lorry (41?100Q)\",\"Public (12 seats)\",\"Public (12 seats)\",\"Automobile\",\"Automobile\",\"Automobile\",\"Public (13?45 seats)\",\"Lorry (41?100Q)\",\"Other\",\"Lorry (41?100Q)\",\"Lorry (41?100Q)\",\"Public (12 seats)\",\"Public (12 seats)\",\"Automobile\",\"Public (\\u003e 45 seats)\",\"Stationwagen\",\"Lorry (41?100Q)\",\"Other\",\"Stationwagen\",\"Other\",\"Public (12 seats)\",\"Lorry (41?100Q)\",\"Lorry (41?100Q)\",\"Automobile\",\"Automobile\",\"Lorry (41?100Q)\",\"Automobile\",\"Motorcycle\",\"Other\",\"Lorry (41?100Q)\",\"Taxi\",\"Automobile\",\"Stationwagen\",\"Long lorry\",\"Automobile\",\"Lorry (41?100Q)\",\"Other\",\"Lorry (41?100Q)\",\"Automobile\",\"Public (12 seats)\",\"Lorry (11?40Q)\",\"Long lorry\",\"Automobile\",\"Long lorry\",\"Stationwagen\",\"Automobile\",\"Automobile\",\"Special vehicle\",\"Automobile\",\"Lorry (41?100Q)\",\"Public (13?45 seats)\",\"Lorry (41?100Q)\",\"Automobile\",\"Lorry (41?100Q)\",\"Automobile\",\"Automobile\",\"Automobile\",\"Automobile\",\"Other\",\"Other\",\"Lorry (41?100Q)\",\"Lorry (41?100Q)\",\"Other\",\"Public (12 seats)\",\"Lorry (41?100Q)\",\"Lorry (11?40Q)\",\"Lorry (11?40Q)\",\"Automobile\",\"Other\",\"Automobile\",\"Lorry (41?100Q)\",\"Taxi\",\"Lorry (41?100Q)\",\"Other\",\"Stationwagen\",\"Automobile\",\"Lorry (41?100Q)\",\"Automobile\",\"Other\",\"Ridden horse\",\"Automobile\",\"Automobile\",\"Public (12 seats)\",\"Lorry (41?100Q)\",\"Automobile\",\"Lorry (11?40Q)\",\"Other\",\"Lorry (41?100Q)\",\"Other\",\"Automobile\",\"Automobile\",\"Automobile\",\"Automobile\",\"Automobile\",\"Pick up upto 10Q\",\"Lorry (11?40Q)\",\"Lorry (41?100Q)\",\"Other\",\"Automobile\",\"Taxi\",\"Long lorry\",\"Public (13?45 seats)\",\"Automobile\",\"Public (13?45 seats)\",\"Pick up upto 10Q\",\"Automobile\",\"Automobile\",\"Long lorry\",\"Automobile\",\"Other\",\"Special vehicle\",\"Lorry (41?100Q)\",\"Stationwagen\",\"Lorry (41?100Q)\",\"Public (12 seats)\",\"Automobile\",\"Other\",\"Pick up upto 10Q\",\"Lorry (41?100Q)\",\"Lorry (41?100Q)\",\"Automobile\",\"Public (\\u003e 45 seats)\",\"Automobile\",\"Automobile\",\"Lorry (41?100Q)\",\"Automobile\",\"Automobile\",\"Ridden horse\",\"Stationwagen\",\"Public (12 seats)\",\"Public (12 seats)\",\"Public (12 seats)\",\"Other\",\"Public (12 seats)\",\"Other\",\"Lorry (11?40Q)\",\"Pick up upto 10Q\",\"Other\",\"Other\",\"Ridden horse\",\"Automobile\",\"Automobile\",\"Automobile\",\"Lorry (41?100Q)\",\"Lorry (11?40Q)\",\"Automobile\",\"Other\",\"Pick up upto 10Q\",\"Automobile\",\"Automobile\",\"Lorry (41?100Q)\",\"Automobile\",\"Pick up upto 10Q\",\"Automobile\",\"Public (13?45 seats)\",\"Automobile\",\"Lorry (11?40Q)\",\"Automobile\",\"Automobile\",\"Automobile\",\"Lorry (41?100Q)\",\"Lorry (41?100Q)\",\"Automobile\",\"Lorry (41?100Q)\",\"Automobile\",\"Automobile\",\"Automobile\",\"Automobile\",\"Public (12 seats)\",\"Pick up upto 10Q\",\"Pick up upto 10Q\",\"Stationwagen\",\"Public (\\u003e 45 seats)\",\"Automobile\",\"Pick up upto 10Q\",\"Automobile\",\"Public (13?45 seats)\",\"Public (12 seats)\",\"Other\",\"Automobile\",\"Lorry (41?100Q)\",\"Lorry (41?100Q)\",\"Pick up upto 10Q\",\"Automobile\",\"Pick up upto 10Q\",\"Lorry (41?100Q)\",\"Automobile\",\"Other\",\"Lorry (41?100Q)\",\"Automobile\",\"Pick up upto 10Q\",\"Stationwagen\",\"Lorry (41?100Q)\",\"Automobile\",\"Automobile\",\"Lorry (41?100Q)\",\"Automobile\",\"Public (13?45 seats)\",\"Lorry (41?100Q)\",\"Lorry (41?100Q)\",\"Lorry (41?100Q)\",\"Automobile\",\"Other\",\"Lorry (41?100Q)\",\"Lorry (41?100Q)\",\"Automobile\",\"Lorry (41?100Q)\",\"Motorcycle\",\"Stationwagen\",\"Other\",\"Public (13?45 seats)\",\"Automobile\",\"Lorry (41?100Q)\",\"Automobile\",\"Pick up upto 10Q\",\"Automobile\",\"Long lorry\",\"Automobile\",\"Long lorry\",\"Automobile\",\"Pick up upto 10Q\",\"Automobile\",\"Long lorry\",\"Public (\\u003e 45 seats)\",\"Automobile\",\"Lorry (41?100Q)\",\"Other\",\"Stationwagen\",\"Motorcycle\",\"Public (13?45 seats)\",\"Public (12 seats)\",\"Automobile\",\"Public (\\u003e 45 seats)\",\"Automobile\",\"Other\",\"Automobile\",\"Other\",\"Other\",\"Lorry (11?40Q)\",\"Lorry (41?100Q)\",\"Pick up upto 10Q\",\"Pick up upto 10Q\",\"Lorry (41?100Q)\",\"Long lorry\",\"Other\",\"Special vehicle\",\"Pick up upto 10Q\",\"Special vehicle\",\"Lorry (41?100Q)\",\"Automobile\",\"Automobile\",\"Lorry (41?100Q)\",\"Other\",\"Lorry (41?100Q)\",\"Lorry (41?100Q)\",\"Public (\\u003e 45 seats)\",\"Pick up upto 10Q\",\"Automobile\",\"Taxi\",\"Lorry (41?100Q)\",\"Other\",\"Motorcycle\",\"Lorry (41?100Q)\",\"Automobile\",\"Pick up upto 10Q\",\"Lorry (41?100Q)\",\"Long lorry\",\"Lorry (11?40Q)\",\"Lorry (41?100Q)\",\"Automobile\",\"Stationwagen\",\"Public (\\u003e 45 seats)\",\"Automobile\",\"Lorry (41?100Q)\",\"Automobile\",\"Automobile\",\"Public (\\u003e 45 seats)\",\"Lorry (41?100Q)\",\"Public (\\u003e 45 seats)\",\"Lorry (41?100Q)\",\"Lorry (41?100Q)\",\"Public (13?45 seats)\",\"Automobile\",\"Automobile\",\"Pick up upto 10Q\",\"Public (12 seats)\",\"Public (13?45 seats)\",\"Stationwagen\",\"Automobile\",\"Automobile\",\"Public (12 seats)\",\"Lorry (11?40Q)\",\"Lorry (11?40Q)\",\"Long lorry\",\"Automobile\",\"Public (12 seats)\",\"Automobile\",\"Lorry (41?100Q)\",\"Pick up upto 10Q\",\"Automobile\",\"Other\",\"Other\",\"Automobile\",\"Lorry (41?100Q)\",\"Automobile\",\"Public (13?45 seats)\",\"Automobile\",\"Lorry (41?100Q)\",\"Pick up upto 10Q\",\"Lorry (41?100Q)\",\"Stationwagen\",\"Lorry (41?100Q)\",\"Automobile\",\"Automobile\",\"Lorry (11?40Q)\",\"Lorry (11?40Q)\",\"Pick up upto 10Q\",\"Other\",\"Automobile\",\"Automobile\",\"Pick up upto 10Q\",\"Automobile\",\"Long lorry\",\"Lorry (41?100Q)\",\"Automobile\",\"Public (12 seats)\",\"Public (12 seats)\",\"Lorry (41?100Q)\",\"Lorry (41?100Q)\",\"Lorry (41?100Q)\",\"Lorry (41?100Q)\",\"Stationwagen\",\"Pick up upto 10Q\",\"Public (13?45 seats)\",\"Public (12 seats)\",\"Public (12 seats)\",\"Lorry (41?100Q)\",\"Public (\\u003e 45 seats)\",\"Public (13?45 seats)\",\"Automobile\",\"Other\",\"Lorry (41?100Q)\",\"Automobile\",\"Ridden horse\",\"Automobile\",\"Public (\\u003e 45 seats)\",\"Automobile\",\"Other\",\"Public (12 seats)\",\"Automobile\",\"Stationwagen\",\"Lorry (41?100Q)\",\"Automobile\",\"Stationwagen\",\"Stationwagen\",\"Automobile\",\"Automobile\",\"Stationwagen\",\"Public (13?45 seats)\",\"Public (13?45 seats)\",\"Other\",\"Other\",\"Public (\\u003e 45 seats)\",\"Lorry (41?100Q)\",\"Public (\\u003e 45 seats)\",\"Public (12 seats)\",\"Public (12 seats)\",\"Lorry (41?100Q)\",\"Stationwagen\",\"Other\",\"Pick up upto 10Q\",\"Automobile\",\"Stationwagen\",\"Automobile\",\"Automobile\",\"Taxi\",\"Stationwagen\",\"Automobile\",\"Automobile\",\"Automobile\",\"Other\",\"Public (12 seats)\",\"Automobile\",\"Taxi\",\"Other\",\"Automobile\",\"Other\",\"Automobile\",\"Taxi\",\"Public (12 seats)\",\"Pick up upto 10Q\",\"Long lorry\",\"Long lorry\",\"Public (13?45 seats)\",\"Pick up upto 10Q\",\"Pick up upto 10Q\",\"Automobile\",\"Public (13?45 seats)\",\"Lorry (41?100Q)\",\"Public (12 seats)\",\"Lorry (41?100Q)\",\"Automobile\",\"Lorry (41?100Q)\",\"Other\",\"Automobile\",\"Lorry (41?100Q)\",\"Pick up upto 10Q\",\"Special vehicle\",\"Lorry (41?100Q)\",\"Lorry (41?100Q)\",\"Lorry (41?100Q)\",\"Lorry (41?100Q)\",\"Stationwagen\",\"Automobile\",\"Public (13?45 seats)\",\"Public (12 seats)\",\"Taxi\",\"Automobile\",\"Automobile\",\"Ridden horse\",\"Automobile\",\"Automobile\",\"Automobile\",\"Public (12 seats)\",\"Lorry (41?100Q)\",\"Automobile\",\"Automobile\",\"Public (12 seats)\",\"Lorry (11?40Q)\",\"Automobile\",\"Lorry (41?100Q)\",\"Stationwagen\",\"Other\",\"Other\",\"Public (12 seats)\",\"Public (13?45 seats)\",\"Lorry (41?100Q)\",\"Other\",\"Automobile\",\"Automobile\",\"Public (12 seats)\",\"Automobile\",\"Stationwagen\",\"Automobile\",\"Lorry (41?100Q)\",\"Other\",\"Taxi\",\"Lorry (41?100Q)\",\"Automobile\",\"Public (13?45 seats)\",\"Lorry (41?100Q)\",\"Pick up upto 10Q\",\"Automobile\",\"Pick up upto 10Q\",\"Automobile\",\"Lorry (41?100Q)\",\"Public (12 seats)\",\"Automobile\",\"Public (12 seats)\",\"Lorry (41?100Q)\",\"Lorry (41?100Q)\",\"Public (12 seats)\",\"Pick up upto 10Q\",\"Stationwagen\",\"Motorcycle\",\"Lorry (41?100Q)\",\"Public (13?45 seats)\",\"Automobile\",\"Automobile\",\"Lorry (41?100Q)\",\"Public (\\u003e 45 seats)\",\"Lorry (41?100Q)\",\"Other\",\"Other\",\"Automobile\",\"Lorry (41?100Q)\",\"Automobile\",\"Long lorry\",\"Public (\\u003e 45 seats)\",\"Public (12 seats)\",\"Automobile\",\"Stationwagen\",\"Pick up upto 10Q\",\"Other\",\"Lorry (41?100Q)\",\"Lorry (41?100Q)\",\"Stationwagen\",\"Automobile\",\"Other\",\"Automobile\",\"Lorry (41?100Q)\",\"Lorry (41?100Q)\",\"Lorry (41?100Q)\",\"Other\",\"Motorcycle\",\"Lorry (41?100Q)\",\"Public (12 seats)\",\"Lorry (41?100Q)\",\"Stationwagen\",\"Automobile\",\"Automobile\",\"Public (12 seats)\",\"Automobile\",\"Automobile\",\"Public (\\u003e 45 seats)\",\"Public (12 seats)\",\"Lorry (11?40Q)\",\"Turbo\",\"Public (13?45 seats)\",\"Automobile\",\"Long lorry\",\"Automobile\",\"Public (\\u003e 45 seats)\",\"Public (\\u003e 45 seats)\",\"Automobile\",\"Automobile\",\"Lorry (41?100Q)\",\"Pick up upto 10Q\",\"Automobile\",\"Long lorry\",\"Pick up upto 10Q\",\"Public (\\u003e 45 seats)\",\"Lorry (41?100Q)\",\"Public (13?45 seats)\",\"Stationwagen\",\"Special vehicle\",\"Automobile\",\"Other\",\"Lorry (41?100Q)\",\"Lorry (41?100Q)\",\"Lorry (41?100Q)\",\"Lorry (41?100Q)\",\"Automobile\",\"Other\",\"Pick up upto 10Q\",\"Public (12 seats)\",\"Automobile\",\"Special vehicle\",\"Lorry (11?40Q)\",\"Other\",\"Automobile\",\"Public (13?45 seats)\",\"Lorry (41?100Q)\",\"Automobile\",\"Ridden horse\",\"Other\",\"Long lorry\",\"Automobile\",\"Automobile\",\"Long lorry\",\"Automobile\",\"Automobile\",\"Public (13?45 seats)\",\"Turbo\",\"Pick up upto 10Q\",\"Automobile\",\"Automobile\",\"Other\",\"Other\",\"Automobile\",\"Lorry (41?100Q)\",\"Lorry (41?100Q)\",\"Automobile\",\"Automobile\",\"Taxi\",\"Public (12 seats)\",\"Lorry (41?100Q)\",\"Pick up upto 10Q\",\"Turbo\",\"Lorry (41?100Q)\",\"Other\",\"Other\",\"Automobile\",\"Automobile\",\"Stationwagen\",\"Stationwagen\",\"Other\",\"Lorry (41?100Q)\",\"Automobile\",\"Lorry (41?100Q)\",\"Automobile\",\"Automobile\",\"Stationwagen\",\"Lorry (41?100Q)\",\"Automobile\",\"Automobile\",\"Pick up upto 10Q\",\"Automobile\",\"Lorry (11?40Q)\",\"Pick up upto 10Q\",\"Automobile\",\"Public (\\u003e 45 seats)\",\"Public (12 seats)\",\"Public (12 seats)\",\"Automobile\",\"Lorry (41?100Q)\",\"Automobile\",\"Lorry (41?100Q)\",\"Public (13?45 seats)\",\"Public (13?45 seats)\",\"Public (12 seats)\",\"Other\",\"Other\",\"Motorcycle\",\"Lorry (41?100Q)\",\"Other\",\"Public (\\u003e 45 seats)\",\"Pick up upto 10Q\",\"Lorry (41?100Q)\",\"Public (12 seats)\",\"Long lorry\",\"Turbo\",\"Taxi\",\"Stationwagen\",\"Lorry (41?100Q)\",\"Public (13?45 seats)\",\"Automobile\",\"Lorry (41?100Q)\",\"Public (13?45 seats)\",\"Ridden horse\",\"Lorry (41?100Q)\",\"Automobile\",\"Lorry (41?100Q)\",\"Automobile\",\"Automobile\",\"Lorry (41?100Q)\",\"Public (13?45 seats)\",\"Stationwagen\",\"Automobile\",\"Lorry (11?40Q)\",\"Motorcycle\",\"Lorry (11?40Q)\",\"Lorry (11?40Q)\",\"Taxi\",\"Lorry (41?100Q)\",\"Automobile\",\"Other\",\"Lorry (41?100Q)\",\"Pick up upto 10Q\",\"Lorry (41?100Q)\",\"Automobile\",\"Lorry (41?100Q)\",\"Lorry (11?40Q)\",\"Special vehicle\",\"Automobile\",\"Other\",\"Lorry (41?100Q)\",\"Automobile\",\"Pick up upto 10Q\",\"Automobile\",\"Long lorry\",\"Stationwagen\",\"Automobile\",\"Other\",\"Automobile\",\"Automobile\",\"Lorry (41?100Q)\",\"Pick up upto 10Q\",\"Stationwagen\",\"Automobile\",\"Automobile\",\"Pick up upto 10Q\",\"Other\",\"Stationwagen\",\"Lorry (41?100Q)\",\"Ridden horse\",\"Stationwagen\",\"Lorry (41?100Q)\",\"Public (13?45 seats)\",\"Lorry (11?40Q)\",\"Automobile\",\"Automobile\",\"Automobile\",\"Automobile\",\"Public (13?45 seats)\",\"Automobile\",\"Special vehicle\",\"Other\",\"Stationwagen\",\"Other\",\"Pick up upto 10Q\",\"Public (13?45 seats)\",\"Public (12 seats)\",\"Automobile\",\"Taxi\",\"Automobile\",\"Pick up upto 10Q\",\"Lorry (11?40Q)\",\"Automobile\",\"Automobile\",\"Public (12 seats)\",\"Public (12 seats)\",\"Lorry (41?100Q)\",\"Public (12 seats)\",\"Other\",\"Pick up upto 10Q\",\"Public (13?45 seats)\",\"Automobile\",\"Automobile\",\"Other\",\"Public (12 seats)\",\"Automobile\",\"Lorry (41?100Q)\",\"Public (13?45 seats)\",\"Automobile\",\"Automobile\",\"Pick up upto 10Q\",\"Automobile\",\"Stationwagen\",\"Automobile\",\"Public (12 seats)\",\"Automobile\",\"Public (12 seats)\",\"Automobile\",\"Public (13?45 seats)\",\"Lorry (41?100Q)\",\"Other\",\"Lorry (11?40Q)\",\"Automobile\",\"Stationwagen\",\"Automobile\",\"Lorry (41?100Q)\",\"Automobile\",\"Automobile\"],\"xaxis\":\"x\",\"yaxis\":\"y\",\"type\":\"histogram\"}],                        {\"template\":{\"data\":{\"histogram2dcontour\":[{\"type\":\"histogram2dcontour\",\"colorbar\":{\"outlinewidth\":0,\"ticks\":\"\"},\"colorscale\":[[0.0,\"#0d0887\"],[0.1111111111111111,\"#46039f\"],[0.2222222222222222,\"#7201a8\"],[0.3333333333333333,\"#9c179e\"],[0.4444444444444444,\"#bd3786\"],[0.5555555555555556,\"#d8576b\"],[0.6666666666666666,\"#ed7953\"],[0.7777777777777778,\"#fb9f3a\"],[0.8888888888888888,\"#fdca26\"],[1.0,\"#f0f921\"]]}],\"choropleth\":[{\"type\":\"choropleth\",\"colorbar\":{\"outlinewidth\":0,\"ticks\":\"\"}}],\"histogram2d\":[{\"type\":\"histogram2d\",\"colorbar\":{\"outlinewidth\":0,\"ticks\":\"\"},\"colorscale\":[[0.0,\"#0d0887\"],[0.1111111111111111,\"#46039f\"],[0.2222222222222222,\"#7201a8\"],[0.3333333333333333,\"#9c179e\"],[0.4444444444444444,\"#bd3786\"],[0.5555555555555556,\"#d8576b\"],[0.6666666666666666,\"#ed7953\"],[0.7777777777777778,\"#fb9f3a\"],[0.8888888888888888,\"#fdca26\"],[1.0,\"#f0f921\"]]}],\"heatmap\":[{\"type\":\"heatmap\",\"colorbar\":{\"outlinewidth\":0,\"ticks\":\"\"},\"colorscale\":[[0.0,\"#0d0887\"],[0.1111111111111111,\"#46039f\"],[0.2222222222222222,\"#7201a8\"],[0.3333333333333333,\"#9c179e\"],[0.4444444444444444,\"#bd3786\"],[0.5555555555555556,\"#d8576b\"],[0.6666666666666666,\"#ed7953\"],[0.7777777777777778,\"#fb9f3a\"],[0.8888888888888888,\"#fdca26\"],[1.0,\"#f0f921\"]]}],\"heatmapgl\":[{\"type\":\"heatmapgl\",\"colorbar\":{\"outlinewidth\":0,\"ticks\":\"\"},\"colorscale\":[[0.0,\"#0d0887\"],[0.1111111111111111,\"#46039f\"],[0.2222222222222222,\"#7201a8\"],[0.3333333333333333,\"#9c179e\"],[0.4444444444444444,\"#bd3786\"],[0.5555555555555556,\"#d8576b\"],[0.6666666666666666,\"#ed7953\"],[0.7777777777777778,\"#fb9f3a\"],[0.8888888888888888,\"#fdca26\"],[1.0,\"#f0f921\"]]}],\"contourcarpet\":[{\"type\":\"contourcarpet\",\"colorbar\":{\"outlinewidth\":0,\"ticks\":\"\"}}],\"contour\":[{\"type\":\"contour\",\"colorbar\":{\"outlinewidth\":0,\"ticks\":\"\"},\"colorscale\":[[0.0,\"#0d0887\"],[0.1111111111111111,\"#46039f\"],[0.2222222222222222,\"#7201a8\"],[0.3333333333333333,\"#9c179e\"],[0.4444444444444444,\"#bd3786\"],[0.5555555555555556,\"#d8576b\"],[0.6666666666666666,\"#ed7953\"],[0.7777777777777778,\"#fb9f3a\"],[0.8888888888888888,\"#fdca26\"],[1.0,\"#f0f921\"]]}],\"surface\":[{\"type\":\"surface\",\"colorbar\":{\"outlinewidth\":0,\"ticks\":\"\"},\"colorscale\":[[0.0,\"#0d0887\"],[0.1111111111111111,\"#46039f\"],[0.2222222222222222,\"#7201a8\"],[0.3333333333333333,\"#9c179e\"],[0.4444444444444444,\"#bd3786\"],[0.5555555555555556,\"#d8576b\"],[0.6666666666666666,\"#ed7953\"],[0.7777777777777778,\"#fb9f3a\"],[0.8888888888888888,\"#fdca26\"],[1.0,\"#f0f921\"]]}],\"mesh3d\":[{\"type\":\"mesh3d\",\"colorbar\":{\"outlinewidth\":0,\"ticks\":\"\"}}],\"scatter\":[{\"fillpattern\":{\"fillmode\":\"overlay\",\"size\":10,\"solidity\":0.2},\"type\":\"scatter\"}],\"parcoords\":[{\"type\":\"parcoords\",\"line\":{\"colorbar\":{\"outlinewidth\":0,\"ticks\":\"\"}}}],\"scatterpolargl\":[{\"type\":\"scatterpolargl\",\"marker\":{\"colorbar\":{\"outlinewidth\":0,\"ticks\":\"\"}}}],\"bar\":[{\"error_x\":{\"color\":\"#2a3f5f\"},\"error_y\":{\"color\":\"#2a3f5f\"},\"marker\":{\"line\":{\"color\":\"#E5ECF6\",\"width\":0.5},\"pattern\":{\"fillmode\":\"overlay\",\"size\":10,\"solidity\":0.2}},\"type\":\"bar\"}],\"scattergeo\":[{\"type\":\"scattergeo\",\"marker\":{\"colorbar\":{\"outlinewidth\":0,\"ticks\":\"\"}}}],\"scatterpolar\":[{\"type\":\"scatterpolar\",\"marker\":{\"colorbar\":{\"outlinewidth\":0,\"ticks\":\"\"}}}],\"histogram\":[{\"marker\":{\"pattern\":{\"fillmode\":\"overlay\",\"size\":10,\"solidity\":0.2}},\"type\":\"histogram\"}],\"scattergl\":[{\"type\":\"scattergl\",\"marker\":{\"colorbar\":{\"outlinewidth\":0,\"ticks\":\"\"}}}],\"scatter3d\":[{\"type\":\"scatter3d\",\"line\":{\"colorbar\":{\"outlinewidth\":0,\"ticks\":\"\"}},\"marker\":{\"colorbar\":{\"outlinewidth\":0,\"ticks\":\"\"}}}],\"scattermapbox\":[{\"type\":\"scattermapbox\",\"marker\":{\"colorbar\":{\"outlinewidth\":0,\"ticks\":\"\"}}}],\"scatterternary\":[{\"type\":\"scatterternary\",\"marker\":{\"colorbar\":{\"outlinewidth\":0,\"ticks\":\"\"}}}],\"scattercarpet\":[{\"type\":\"scattercarpet\",\"marker\":{\"colorbar\":{\"outlinewidth\":0,\"ticks\":\"\"}}}],\"carpet\":[{\"aaxis\":{\"endlinecolor\":\"#2a3f5f\",\"gridcolor\":\"white\",\"linecolor\":\"white\",\"minorgridcolor\":\"white\",\"startlinecolor\":\"#2a3f5f\"},\"baxis\":{\"endlinecolor\":\"#2a3f5f\",\"gridcolor\":\"white\",\"linecolor\":\"white\",\"minorgridcolor\":\"white\",\"startlinecolor\":\"#2a3f5f\"},\"type\":\"carpet\"}],\"table\":[{\"cells\":{\"fill\":{\"color\":\"#EBF0F8\"},\"line\":{\"color\":\"white\"}},\"header\":{\"fill\":{\"color\":\"#C8D4E3\"},\"line\":{\"color\":\"white\"}},\"type\":\"table\"}],\"barpolar\":[{\"marker\":{\"line\":{\"color\":\"#E5ECF6\",\"width\":0.5},\"pattern\":{\"fillmode\":\"overlay\",\"size\":10,\"solidity\":0.2}},\"type\":\"barpolar\"}],\"pie\":[{\"automargin\":true,\"type\":\"pie\"}]},\"layout\":{\"autotypenumbers\":\"strict\",\"colorway\":[\"#636efa\",\"#EF553B\",\"#00cc96\",\"#ab63fa\",\"#FFA15A\",\"#19d3f3\",\"#FF6692\",\"#B6E880\",\"#FF97FF\",\"#FECB52\"],\"font\":{\"color\":\"#2a3f5f\"},\"hovermode\":\"closest\",\"hoverlabel\":{\"align\":\"left\"},\"paper_bgcolor\":\"white\",\"plot_bgcolor\":\"#E5ECF6\",\"polar\":{\"bgcolor\":\"#E5ECF6\",\"angularaxis\":{\"gridcolor\":\"white\",\"linecolor\":\"white\",\"ticks\":\"\"},\"radialaxis\":{\"gridcolor\":\"white\",\"linecolor\":\"white\",\"ticks\":\"\"}},\"ternary\":{\"bgcolor\":\"#E5ECF6\",\"aaxis\":{\"gridcolor\":\"white\",\"linecolor\":\"white\",\"ticks\":\"\"},\"baxis\":{\"gridcolor\":\"white\",\"linecolor\":\"white\",\"ticks\":\"\"},\"caxis\":{\"gridcolor\":\"white\",\"linecolor\":\"white\",\"ticks\":\"\"}},\"coloraxis\":{\"colorbar\":{\"outlinewidth\":0,\"ticks\":\"\"}},\"colorscale\":{\"sequential\":[[0.0,\"#0d0887\"],[0.1111111111111111,\"#46039f\"],[0.2222222222222222,\"#7201a8\"],[0.3333333333333333,\"#9c179e\"],[0.4444444444444444,\"#bd3786\"],[0.5555555555555556,\"#d8576b\"],[0.6666666666666666,\"#ed7953\"],[0.7777777777777778,\"#fb9f3a\"],[0.8888888888888888,\"#fdca26\"],[1.0,\"#f0f921\"]],\"sequentialminus\":[[0.0,\"#0d0887\"],[0.1111111111111111,\"#46039f\"],[0.2222222222222222,\"#7201a8\"],[0.3333333333333333,\"#9c179e\"],[0.4444444444444444,\"#bd3786\"],[0.5555555555555556,\"#d8576b\"],[0.6666666666666666,\"#ed7953\"],[0.7777777777777778,\"#fb9f3a\"],[0.8888888888888888,\"#fdca26\"],[1.0,\"#f0f921\"]],\"diverging\":[[0,\"#8e0152\"],[0.1,\"#c51b7d\"],[0.2,\"#de77ae\"],[0.3,\"#f1b6da\"],[0.4,\"#fde0ef\"],[0.5,\"#f7f7f7\"],[0.6,\"#e6f5d0\"],[0.7,\"#b8e186\"],[0.8,\"#7fbc41\"],[0.9,\"#4d9221\"],[1,\"#276419\"]]},\"xaxis\":{\"gridcolor\":\"white\",\"linecolor\":\"white\",\"ticks\":\"\",\"title\":{\"standoff\":15},\"zerolinecolor\":\"white\",\"automargin\":true,\"zerolinewidth\":2},\"yaxis\":{\"gridcolor\":\"white\",\"linecolor\":\"white\",\"ticks\":\"\",\"title\":{\"standoff\":15},\"zerolinecolor\":\"white\",\"automargin\":true,\"zerolinewidth\":2},\"scene\":{\"xaxis\":{\"backgroundcolor\":\"#E5ECF6\",\"gridcolor\":\"white\",\"linecolor\":\"white\",\"showbackground\":true,\"ticks\":\"\",\"zerolinecolor\":\"white\",\"gridwidth\":2},\"yaxis\":{\"backgroundcolor\":\"#E5ECF6\",\"gridcolor\":\"white\",\"linecolor\":\"white\",\"showbackground\":true,\"ticks\":\"\",\"zerolinecolor\":\"white\",\"gridwidth\":2},\"zaxis\":{\"backgroundcolor\":\"#E5ECF6\",\"gridcolor\":\"white\",\"linecolor\":\"white\",\"showbackground\":true,\"ticks\":\"\",\"zerolinecolor\":\"white\",\"gridwidth\":2}},\"shapedefaults\":{\"line\":{\"color\":\"#2a3f5f\"}},\"annotationdefaults\":{\"arrowcolor\":\"#2a3f5f\",\"arrowhead\":0,\"arrowwidth\":1},\"geo\":{\"bgcolor\":\"white\",\"landcolor\":\"#E5ECF6\",\"subunitcolor\":\"white\",\"showland\":true,\"showlakes\":true,\"lakecolor\":\"white\"},\"title\":{\"x\":0.05},\"mapbox\":{\"style\":\"light\"}}},\"xaxis\":{\"anchor\":\"y\",\"domain\":[0.0,1.0],\"title\":{\"text\":\"Type_of_vehicle\"}},\"yaxis\":{\"anchor\":\"x\",\"domain\":[0.0,1.0],\"title\":{\"text\":\"count\"}},\"legend\":{\"title\":{\"text\":\"Age_band_of_driver\"},\"tracegroupgap\":0},\"margin\":{\"t\":60},\"barmode\":\"relative\"},                        {\"responsive\": true}                    ).then(function(){\n",
              "                            \n",
              "var gd = document.getElementById('ba0e9075-a56a-4a15-8910-087dfc779db9');\n",
              "var x = new MutationObserver(function (mutations, observer) {{\n",
              "        var display = window.getComputedStyle(gd).display;\n",
              "        if (!display || display === 'none') {{\n",
              "            console.log([gd, 'removed!']);\n",
              "            Plotly.purge(gd);\n",
              "            observer.disconnect();\n",
              "        }}\n",
              "}});\n",
              "\n",
              "// Listen for the removal of the full notebook cells\n",
              "var notebookContainer = gd.closest('#notebook-container');\n",
              "if (notebookContainer) {{\n",
              "    x.observe(notebookContainer, {childList: true});\n",
              "}}\n",
              "\n",
              "// Listen for the clearing of the current output cell\n",
              "var outputEl = gd.closest('.output');\n",
              "if (outputEl) {{\n",
              "    x.observe(outputEl, {childList: true});\n",
              "}}\n",
              "\n",
              "                        })                };                            </script>        </div>\n",
              "</body>\n",
              "</html>"
            ]
          },
          "metadata": {}
        }
      ]
    },
    {
      "cell_type": "code",
      "source": [
        "px.pie(rta_df, names='Cause_of_accident', title='Accident type ratios')"
      ],
      "metadata": {
        "colab": {
          "base_uri": "https://localhost:8080/",
          "height": 542
        },
        "id": "jASr7jifs3mG",
        "outputId": "429aef24-c18a-48d7-b0be-bc3fff9048cf"
      },
      "id": "jASr7jifs3mG",
      "execution_count": 154,
      "outputs": [
        {
          "output_type": "display_data",
          "data": {
            "text/html": [
              "<html>\n",
              "<head><meta charset=\"utf-8\" /></head>\n",
              "<body>\n",
              "    <div>            <script src=\"https://cdnjs.cloudflare.com/ajax/libs/mathjax/2.7.5/MathJax.js?config=TeX-AMS-MML_SVG\"></script><script type=\"text/javascript\">if (window.MathJax && window.MathJax.Hub && window.MathJax.Hub.Config) {window.MathJax.Hub.Config({SVG: {font: \"STIX-Web\"}});}</script>                <script type=\"text/javascript\">window.PlotlyConfig = {MathJaxConfig: 'local'};</script>\n",
              "        <script charset=\"utf-8\" src=\"https://cdn.plot.ly/plotly-2.24.1.min.js\"></script>                <div id=\"40c0a789-0c97-4f0f-a505-ae1dde2b9264\" class=\"plotly-graph-div\" style=\"height:525px; width:100%;\"></div>            <script type=\"text/javascript\">                                    window.PLOTLYENV=window.PLOTLYENV || {};                                    if (document.getElementById(\"40c0a789-0c97-4f0f-a505-ae1dde2b9264\")) {                    Plotly.newPlot(                        \"40c0a789-0c97-4f0f-a505-ae1dde2b9264\",                        [{\"domain\":{\"x\":[0.0,1.0],\"y\":[0.0,1.0]},\"hovertemplate\":\"Cause_of_accident=%{label}\\u003cextra\\u003e\\u003c\\u002fextra\\u003e\",\"labels\":[\"Overtaking\",\"Changing lane to the right\",\"No priority to vehicle\",\"Changing lane to the right\",\"Moving Backward\",\"Changing lane to the left\",\"No priority to pedestrian\",\"No distancing\",\"No priority to vehicle\",\"No distancing\",\"No distancing\",\"Moving Backward\",\"Changing lane to the right\",\"Moving Backward\",\"Getting off the vehicle improperly\",\"Overtaking\",\"Overloading\",\"Changing lane to the right\",\"Other\",\"Changing lane to the right\",\"Overspeed\",\"Changing lane to the left\",\"No priority to vehicle\",\"Changing lane to the right\",\"No priority to pedestrian\",\"No distancing\",\"No priority to vehicle\",\"Changing lane to the left\",\"Driving carelessly\",\"No priority to vehicle\",\"No distancing\",\"Changing lane to the right\",\"Changing lane to the right\",\"Driving at high speed\",\"No distancing\",\"Changing lane to the right\",\"Changing lane to the left\",\"Getting off the vehicle improperly\",\"Other\",\"Other\",\"No distancing\",\"No priority to vehicle\",\"No priority to pedestrian\",\"Driving carelessly\",\"Overtaking\",\"Driving to the left\",\"Driving at high speed\",\"Unknown\",\"Other\",\"No priority to vehicle\",\"No priority to pedestrian\",\"Overtaking\",\"Driving carelessly\",\"No priority to vehicle\",\"No priority to pedestrian\",\"Changing lane to the right\",\"Changing lane to the right\",\"Changing lane to the left\",\"Overturning\",\"Driving carelessly\",\"No distancing\",\"Changing lane to the left\",\"No priority to vehicle\",\"Moving Backward\",\"Moving Backward\",\"No distancing\",\"No distancing\",\"No distancing\",\"No priority to pedestrian\",\"Driving carelessly\",\"Changing lane to the right\",\"Changing lane to the left\",\"Driving carelessly\",\"No distancing\",\"Changing lane to the right\",\"Changing lane to the right\",\"Driving at high speed\",\"No priority to vehicle\",\"No priority to pedestrian\",\"No priority to vehicle\",\"Other\",\"Moving Backward\",\"Moving Backward\",\"Driving carelessly\",\"No distancing\",\"Changing lane to the right\",\"Driving carelessly\",\"No distancing\",\"No priority to vehicle\",\"Changing lane to the right\",\"No priority to pedestrian\",\"No priority to vehicle\",\"Turnover\",\"Driving to the left\",\"Driving carelessly\",\"Driving to the left\",\"Driving carelessly\",\"No priority to pedestrian\",\"Driving carelessly\",\"Changing lane to the right\",\"Moving Backward\",\"Changing lane to the right\",\"Driving carelessly\",\"Driving carelessly\",\"Driving carelessly\",\"Changing lane to the right\",\"Driving carelessly\",\"Overtaking\",\"No distancing\",\"Other\",\"Changing lane to the right\",\"Changing lane to the right\",\"Overtaking\",\"Driving to the left\",\"Overtaking\",\"Moving Backward\",\"No priority to vehicle\",\"No priority to pedestrian\",\"Changing lane to the right\",\"Changing lane to the right\",\"Changing lane to the right\",\"Changing lane to the left\",\"Moving Backward\",\"Driving at high speed\",\"Moving Backward\",\"No distancing\",\"No priority to vehicle\",\"Changing lane to the right\",\"Driving carelessly\",\"No distancing\",\"Moving Backward\",\"No distancing\",\"Moving Backward\",\"No priority to pedestrian\",\"Changing lane to the left\",\"No distancing\",\"Other\",\"No distancing\",\"No priority to pedestrian\",\"Moving Backward\",\"No priority to pedestrian\",\"Driving carelessly\",\"Getting off the vehicle improperly\",\"Driving carelessly\",\"No priority to vehicle\",\"Changing lane to the right\",\"Changing lane to the right\",\"No distancing\",\"No distancing\",\"Changing lane to the left\",\"Changing lane to the right\",\"Changing lane to the left\",\"No priority to vehicle\",\"Moving Backward\",\"No distancing\",\"No distancing\",\"Changing lane to the left\",\"No priority to vehicle\",\"Driving at high speed\",\"Overtaking\",\"Other\",\"Changing lane to the left\",\"No priority to pedestrian\",\"No distancing\",\"Moving Backward\",\"Changing lane to the left\",\"Other\",\"No distancing\",\"Moving Backward\",\"No distancing\",\"Changing lane to the left\",\"Changing lane to the left\",\"No priority to pedestrian\",\"Changing lane to the left\",\"Driving carelessly\",\"Driving carelessly\",\"No priority to pedestrian\",\"Getting off the vehicle improperly\",\"No distancing\",\"No priority to vehicle\",\"No distancing\",\"No priority to pedestrian\",\"No priority to vehicle\",\"Driving carelessly\",\"Changing lane to the right\",\"Changing lane to the left\",\"Moving Backward\",\"Driving carelessly\",\"Driving to the left\",\"Driving to the left\",\"No priority to pedestrian\",\"Changing lane to the left\",\"No distancing\",\"Getting off the vehicle improperly\",\"Changing lane to the right\",\"Driving carelessly\",\"Driving carelessly\",\"Moving Backward\",\"Changing lane to the left\",\"Overturning\",\"No distancing\",\"Driving carelessly\",\"No distancing\",\"Changing lane to the left\",\"No priority to pedestrian\",\"No distancing\",\"No distancing\",\"No distancing\",\"Changing lane to the left\",\"Changing lane to the right\",\"Moving Backward\",\"Changing lane to the right\",\"No distancing\",\"Overtaking\",\"Other\",\"Changing lane to the right\",\"No priority to pedestrian\",\"No priority to vehicle\",\"Changing lane to the left\",\"Changing lane to the left\",\"Overtaking\",\"No distancing\",\"No priority to vehicle\",\"Changing lane to the right\",\"Changing lane to the left\",\"No distancing\",\"Driving carelessly\",\"No priority to pedestrian\",\"Driving carelessly\",\"No distancing\",\"No distancing\",\"No distancing\",\"Changing lane to the left\",\"Moving Backward\",\"Changing lane to the right\",\"No priority to vehicle\",\"Moving Backward\",\"Driving carelessly\",\"Driving under the influence of drugs\",\"No priority to pedestrian\",\"No priority to vehicle\",\"Driving carelessly\",\"No priority to vehicle\",\"Changing lane to the right\",\"No priority to vehicle\",\"Moving Backward\",\"No distancing\",\"Changing lane to the left\",\"Changing lane to the left\",\"Changing lane to the left\",\"Driving carelessly\",\"Changing lane to the left\",\"No distancing\",\"Changing lane to the right\",\"Driving to the left\",\"No distancing\",\"Overtaking\",\"Driving under the influence of drugs\",\"No priority to pedestrian\",\"Moving Backward\",\"Changing lane to the right\",\"Changing lane to the left\",\"Changing lane to the right\",\"Driving under the influence of drugs\",\"No priority to vehicle\",\"Changing lane to the left\",\"Changing lane to the right\",\"Changing lane to the right\",\"Changing lane to the left\",\"Changing lane to the left\",\"Overtaking\",\"Changing lane to the left\",\"Driving carelessly\",\"Moving Backward\",\"No distancing\",\"No priority to vehicle\",\"Overturning\",\"Moving Backward\",\"No priority to vehicle\",\"No priority to vehicle\",\"Changing lane to the right\",\"Changing lane to the left\",\"Moving Backward\",\"Moving Backward\",\"Changing lane to the right\",\"No priority to vehicle\",\"Driving at high speed\",\"Driving under the influence of drugs\",\"Driving carelessly\",\"No distancing\",\"No distancing\",\"Overtaking\",\"Driving carelessly\",\"Driving under the influence of drugs\",\"Moving Backward\",\"Overturning\",\"Changing lane to the right\",\"Changing lane to the left\",\"No distancing\",\"No distancing\",\"No priority to vehicle\",\"Moving Backward\",\"Moving Backward\",\"Getting off the vehicle improperly\",\"Changing lane to the left\",\"Changing lane to the left\",\"No priority to vehicle\",\"Changing lane to the right\",\"Changing lane to the right\",\"Driving under the influence of drugs\",\"Driving carelessly\",\"No distancing\",\"No priority to vehicle\",\"No priority to vehicle\",\"Moving Backward\",\"Driving carelessly\",\"Driving under the influence of drugs\",\"Changing lane to the right\",\"No priority to vehicle\",\"Changing lane to the right\",\"Driving to the left\",\"Moving Backward\",\"No priority to vehicle\",\"No distancing\",\"Changing lane to the left\",\"No priority to vehicle\",\"No priority to vehicle\",\"No distancing\",\"Driving to the left\",\"Driving carelessly\",\"Changing lane to the right\",\"Driving carelessly\",\"Changing lane to the left\",\"Driving carelessly\",\"Driving under the influence of drugs\",\"Driving carelessly\",\"Driving carelessly\",\"Driving to the left\",\"Overtaking\",\"No distancing\",\"No priority to vehicle\",\"No priority to vehicle\",\"No distancing\",\"Moving Backward\",\"Changing lane to the left\",\"Changing lane to the left\",\"No priority to pedestrian\",\"Moving Backward\",\"Changing lane to the left\",\"No distancing\",\"No priority to vehicle\",\"Changing lane to the right\",\"No distancing\",\"No distancing\",\"Getting off the vehicle improperly\",\"No priority to pedestrian\",\"Changing lane to the left\",\"No distancing\",\"Driving carelessly\",\"No distancing\",\"Changing lane to the right\",\"Overtaking\",\"Driving carelessly\",\"Moving Backward\",\"No distancing\",\"Overtaking\",\"Driving carelessly\",\"Driving carelessly\",\"Moving Backward\",\"Driving carelessly\",\"Driving to the left\",\"Changing lane to the left\",\"No distancing\",\"Changing lane to the right\",\"Driving under the influence of drugs\",\"Changing lane to the right\",\"Moving Backward\",\"No distancing\",\"Changing lane to the right\",\"Moving Backward\",\"Driving to the left\",\"Driving to the left\",\"Moving Backward\",\"Moving Backward\",\"Overtaking\",\"Driving carelessly\",\"Changing lane to the left\",\"Driving under the influence of drugs\",\"No distancing\",\"Moving Backward\",\"Changing lane to the left\",\"Changing lane to the right\",\"No distancing\",\"Changing lane to the right\",\"No priority to vehicle\",\"No distancing\",\"Turnover\",\"No distancing\",\"Changing lane to the right\",\"No distancing\",\"Changing lane to the left\",\"Driving carelessly\",\"Changing lane to the right\",\"No priority to vehicle\",\"No distancing\",\"No priority to pedestrian\",\"No priority to pedestrian\",\"No priority to vehicle\",\"Changing lane to the left\",\"No distancing\",\"No priority to vehicle\",\"No distancing\",\"No distancing\",\"Changing lane to the right\",\"Changing lane to the left\",\"No distancing\",\"Overturning\",\"No priority to vehicle\",\"Moving Backward\",\"Driving under the influence of drugs\",\"Moving Backward\",\"Changing lane to the right\",\"Overspeed\",\"Driving under the influence of drugs\",\"Driving carelessly\",\"No distancing\",\"No priority to vehicle\",\"Overspeed\",\"Changing lane to the right\",\"Changing lane to the right\",\"Moving Backward\",\"Overspeed\",\"No distancing\",\"No distancing\",\"No distancing\",\"No distancing\",\"Changing lane to the right\",\"No distancing\",\"No priority to vehicle\",\"Changing lane to the left\",\"Moving Backward\",\"Driving carelessly\",\"Changing lane to the left\",\"No priority to pedestrian\",\"No distancing\",\"No distancing\",\"Overturning\",\"No distancing\",\"No priority to pedestrian\",\"Changing lane to the left\",\"Changing lane to the left\",\"Getting off the vehicle improperly\",\"No distancing\",\"Changing lane to the right\",\"Changing lane to the right\",\"Moving Backward\",\"Driving at high speed\",\"Changing lane to the left\",\"No distancing\",\"Changing lane to the right\",\"No distancing\",\"Changing lane to the right\",\"Driving carelessly\",\"Driving carelessly\",\"Changing lane to the right\",\"Overturning\",\"Changing lane to the right\",\"Moving Backward\",\"No distancing\",\"Driving carelessly\",\"Changing lane to the right\",\"Driving at high speed\",\"Changing lane to the left\",\"Driving carelessly\",\"No distancing\",\"Moving Backward\",\"No priority to pedestrian\",\"Moving Backward\",\"No distancing\",\"Drunk driving\",\"Changing lane to the right\",\"Driving carelessly\",\"Driving to the left\",\"Changing lane to the right\",\"Changing lane to the right\",\"Changing lane to the left\",\"No priority to vehicle\",\"Changing lane to the right\",\"Driving carelessly\",\"Driving under the influence of drugs\",\"No distancing\",\"Changing lane to the left\",\"No priority to vehicle\",\"Moving Backward\",\"Moving Backward\",\"No distancing\",\"Changing lane to the right\",\"Changing lane to the right\",\"Moving Backward\",\"Driving carelessly\",\"No priority to vehicle\",\"Driving to the left\",\"No priority to vehicle\",\"No priority to vehicle\",\"No distancing\",\"Moving Backward\",\"Changing lane to the right\",\"Driving carelessly\",\"Changing lane to the left\",\"No distancing\",\"Driving under the influence of drugs\",\"No distancing\",\"Overturning\",\"Changing lane to the right\",\"No priority to vehicle\",\"Changing lane to the right\",\"No distancing\",\"No priority to pedestrian\",\"Driving carelessly\",\"No distancing\",\"Driving carelessly\",\"Driving carelessly\",\"Moving Backward\",\"No priority to vehicle\",\"No priority to vehicle\",\"Changing lane to the left\",\"No priority to vehicle\",\"No distancing\",\"Moving Backward\",\"Changing lane to the right\",\"No distancing\",\"Overtaking\",\"Changing lane to the left\",\"Driving under the influence of drugs\",\"Changing lane to the right\",\"Changing lane to the left\",\"Moving Backward\",\"No distancing\",\"Driving carelessly\",\"Moving Backward\",\"No distancing\",\"Changing lane to the right\",\"Driving carelessly\",\"Changing lane to the right\",\"Driving carelessly\",\"Changing lane to the right\",\"No priority to vehicle\",\"Changing lane to the right\",\"No priority to vehicle\",\"Driving at high speed\",\"No distancing\",\"No distancing\",\"Driving carelessly\",\"Driving carelessly\",\"Changing lane to the right\",\"Overtaking\",\"No distancing\",\"Overtaking\",\"Moving Backward\",\"No distancing\",\"No priority to vehicle\",\"No priority to vehicle\",\"Changing lane to the left\",\"No distancing\",\"Driving under the influence of drugs\",\"Changing lane to the left\",\"Changing lane to the right\",\"Driving to the left\",\"Driving at high speed\",\"Overtaking\",\"Changing lane to the right\",\"Changing lane to the right\",\"Moving Backward\",\"Changing lane to the left\",\"Moving Backward\",\"No distancing\",\"Moving Backward\",\"Changing lane to the right\",\"Changing lane to the left\",\"No priority to vehicle\",\"No distancing\",\"No priority to vehicle\",\"Driving under the influence of drugs\",\"Changing lane to the right\",\"No distancing\",\"No distancing\",\"Changing lane to the right\",\"Changing lane to the right\",\"Driving under the influence of drugs\",\"Moving Backward\",\"Changing lane to the left\",\"No priority to pedestrian\",\"No distancing\",\"No distancing\",\"Changing lane to the left\",\"Driving carelessly\",\"No distancing\",\"Changing lane to the left\",\"Moving Backward\",\"No distancing\",\"No priority to pedestrian\",\"Changing lane to the left\",\"No distancing\",\"Driving carelessly\",\"No priority to vehicle\",\"Changing lane to the right\",\"Moving Backward\",\"No priority to vehicle\",\"No priority to pedestrian\",\"Changing lane to the left\",\"Moving Backward\",\"Changing lane to the right\",\"Changing lane to the right\",\"No distancing\",\"Moving Backward\",\"No distancing\",\"Driving carelessly\",\"No priority to pedestrian\",\"No distancing\",\"Changing lane to the left\",\"No priority to vehicle\",\"No distancing\",\"Changing lane to the left\",\"No priority to vehicle\",\"Driving carelessly\",\"No distancing\",\"Changing lane to the right\",\"No distancing\",\"Driving under the influence of drugs\",\"Getting off the vehicle improperly\",\"Overloading\",\"Driving carelessly\",\"No distancing\",\"Overturning\",\"Driving carelessly\",\"No priority to pedestrian\",\"No distancing\",\"No priority to vehicle\",\"Getting off the vehicle improperly\",\"No priority to pedestrian\",\"Changing lane to the right\",\"Moving Backward\",\"Changing lane to the left\",\"No distancing\",\"Driving carelessly\",\"Driving under the influence of drugs\",\"Driving carelessly\",\"Driving carelessly\",\"No distancing\",\"Driving carelessly\",\"No priority to pedestrian\",\"No distancing\",\"Moving Backward\",\"No priority to vehicle\",\"No distancing\",\"Moving Backward\",\"Driving carelessly\",\"Changing lane to the right\",\"No distancing\",\"Moving Backward\",\"Driving carelessly\",\"No distancing\",\"No priority to vehicle\",\"Changing lane to the right\",\"Moving Backward\",\"Driving under the influence of drugs\",\"Changing lane to the right\",\"No priority to vehicle\",\"Driving carelessly\",\"No priority to pedestrian\",\"Drunk driving\",\"Changing lane to the left\",\"Changing lane to the left\",\"Driving to the left\",\"Changing lane to the left\",\"Driving under the influence of drugs\",\"No priority to pedestrian\",\"Changing lane to the left\",\"No distancing\",\"No priority to vehicle\",\"Overtaking\",\"Changing lane to the left\",\"Changing lane to the right\",\"Overtaking\",\"No priority to vehicle\",\"Changing lane to the right\",\"Moving Backward\",\"Changing lane to the left\",\"No priority to pedestrian\",\"No distancing\",\"No distancing\",\"Moving Backward\",\"Changing lane to the right\",\"No priority to pedestrian\",\"Moving Backward\",\"Getting off the vehicle improperly\",\"Overtaking\",\"Overloading\",\"Changing lane to the right\",\"Other\",\"Changing lane to the left\",\"Changing lane to the right\",\"Overspeed\",\"Changing lane to the left\",\"No priority to vehicle\",\"Changing lane to the right\",\"No distancing\",\"No distancing\",\"No priority to vehicle\",\"Other\",\"Changing lane to the left\",\"Driving carelessly\",\"Changing lane to the left\",\"No priority to vehicle\",\"Changing lane to the right\",\"Changing lane to the right\",\"Driving at high speed\",\"No distancing\",\"Changing lane to the right\",\"Getting off the vehicle improperly\",\"Other\",\"Other\",\"No distancing\",\"No priority to vehicle\",\"No priority to pedestrian\",\"No distancing\",\"Driving carelessly\",\"Changing lane to the right\",\"Overtaking\",\"Other\",\"Driving to the left\",\"Driving at high speed\",\"Changing lane to the right\",\"Changing lane to the left\",\"No priority to pedestrian\",\"Overtaking\",\"Driving carelessly\",\"No priority to vehicle\",\"No priority to pedestrian\",\"Changing lane to the right\",\"Changing lane to the right\",\"Changing lane to the right\",\"Overturning\",\"Driving carelessly\",\"No distancing\",\"Driving carelessly\",\"Changing lane to the left\",\"No priority to vehicle\",\"Changing lane to the right\",\"No distancing\",\"Moving Backward\",\"Moving Backward\",\"No distancing\",\"No distancing\",\"No distancing\",\"Changing lane to the left\",\"Driving carelessly\",\"Driving carelessly\",\"No distancing\",\"Other\",\"Changing lane to the right\",\"Changing lane to the right\",\"No distancing\",\"No distancing\",\"Overturning\",\"Driving at high speed\",\"No priority to vehicle\",\"No priority to pedestrian\",\"No priority to vehicle\",\"Other\",\"Moving Backward\",\"No distancing\",\"Moving Backward\",\"Driving carelessly\",\"No distancing\",\"Other\",\"Changing lane to the right\",\"No distancing\",\"Driving carelessly\",\"No distancing\",\"Changing lane to the right\",\"No priority to pedestrian\",\"No priority to vehicle\",\"Changing lane to the left\",\"Turnover\",\"Driving to the left\",\"Driving carelessly\",\"Driving to the left\",\"Driving carelessly\",\"No priority to pedestrian\",\"Driving carelessly\",\"Changing lane to the right\",\"Driving carelessly\",\"Changing lane to the right\",\"Driving carelessly\",\"Driving carelessly\",\"Driving carelessly\",\"Changing lane to the right\",\"Driving carelessly\",\"Overtaking\",\"Changing lane to the right\",\"No distancing\",\"Changing lane to the right\",\"Changing lane to the right\",\"Overtaking\",\"Other\",\"Driving to the left\",\"No priority to vehicle\",\"Other\",\"No priority to vehicle\",\"No priority to pedestrian\",\"Changing lane to the right\",\"Changing lane to the right\",\"Driving to the left\",\"Changing lane to the left\",\"Moving Backward\",\"Driving at high speed\",\"Moving Backward\",\"Other\",\"Changing lane to the right\",\"No distancing\",\"Moving Backward\",\"No distancing\",\"Moving Backward\",\"No priority to pedestrian\",\"Changing lane to the left\",\"No distancing\",\"Other\",\"No distancing\",\"No priority to pedestrian\",\"Moving Backward\",\"No distancing\",\"No priority to pedestrian\",\"Moving Backward\",\"Overtaking\",\"Changing lane to the left\",\"Overtaking\",\"Other\",\"Changing lane to the right\",\"Moving Backward\",\"Changing lane to the left\",\"No priority to pedestrian\",\"No distancing\",\"No priority to vehicle\",\"No distancing\",\"No distancing\",\"No priority to pedestrian\",\"Moving Backward\",\"Overtaking\",\"Overloading\",\"Changing lane to the right\",\"Improper parking\",\"Other\",\"Changing lane to the left\",\"Changing lane to the right\",\"No priority to pedestrian\",\"Overspeed\",\"No priority to vehicle\",\"Changing lane to the right\",\"No distancing\",\"No distancing\",\"Other\",\"Driving carelessly\",\"Driving carelessly\",\"No priority to vehicle\",\"No distancing\",\"Changing lane to the right\",\"No distancing\",\"Changing lane to the right\",\"Getting off the vehicle improperly\",\"Other\",\"Other\",\"No priority to vehicle\",\"Overtaking\",\"Changing lane to the right\",\"Driving carelessly\",\"Overtaking\",\"Other\",\"Driving to the left\",\"Driving at high speed\",\"Unknown\",\"Changing lane to the right\",\"Other\",\"No priority to vehicle\",\"Changing lane to the left\",\"No priority to pedestrian\",\"Driving carelessly\",\"No priority to vehicle\",\"No priority to pedestrian\",\"Changing lane to the right\",\"Moving Backward\",\"Overtaking\",\"Changing lane to the left\",\"Overtaking\",\"Overloading\",\"Changing lane to the right\",\"Changing lane to the left\",\"No priority to pedestrian\",\"No distancing\",\"No priority to vehicle\",\"No distancing\",\"No distancing\",\"Changing lane to the right\",\"Moving Backward\",\"Getting off the vehicle improperly\",\"Overtaking\",\"Overloading\",\"Improper parking\",\"Changing lane to the left\",\"Changing lane to the right\",\"No priority to pedestrian\",\"Overspeed\",\"Changing lane to the left\",\"No priority to vehicle\",\"Changing lane to the right\",\"No distancing\",\"No priority to pedestrian\",\"No distancing\",\"No priority to vehicle\",\"Other\",\"Driving carelessly\",\"Changing lane to the left\",\"Driving carelessly\",\"Changing lane to the left\",\"No priority to vehicle\",\"No distancing\",\"Changing lane to the right\",\"Changing lane to the right\",\"Driving at high speed\",\"No distancing\",\"Changing lane to the right\",\"Changing lane to the left\",\"Getting off the vehicle improperly\",\"Other\",\"Other\",\"No distancing\",\"No priority to vehicle\",\"No priority to pedestrian\",\"No distancing\",\"Driving carelessly\",\"Overtaking\",\"Other\",\"Driving to the left\",\"Driving at high speed\",\"Unknown\",\"No distancing\",\"Other\",\"No priority to vehicle\",\"No priority to pedestrian\",\"Overtaking\",\"Driving carelessly\",\"No priority to vehicle\",\"No priority to pedestrian\",\"Driving carelessly\",\"Changing lane to the right\",\"Changing lane to the right\",\"Changing lane to the left\",\"Overturning\",\"Driving carelessly\",\"No distancing\",\"Driving carelessly\",\"Changing lane to the left\",\"No priority to vehicle\",\"Changing lane to the right\",\"Moving Backward\",\"Moving Backward\",\"No distancing\",\"No distancing\",\"No priority to pedestrian\",\"Changing lane to the right\",\"Changing lane to the left\",\"Driving carelessly\",\"Driving carelessly\",\"No distancing\",\"Other\",\"Changing lane to the right\",\"No distancing\",\"No distancing\",\"Overturning\",\"Driving at high speed\",\"No priority to vehicle\",\"No priority to pedestrian\",\"Other\",\"Other\",\"Moving Backward\",\"No distancing\",\"Moving Backward\",\"No priority to vehicle\",\"Driving carelessly\",\"No distancing\",\"Other\",\"Changing lane to the right\",\"No distancing\",\"Driving carelessly\",\"No distancing\",\"No priority to vehicle\",\"Changing lane to the right\",\"No priority to pedestrian\",\"No priority to vehicle\",\"Changing lane to the left\",\"Turnover\",\"Driving to the left\",\"Driving carelessly\",\"Driving to the left\",\"Driving carelessly\",\"No priority to pedestrian\",\"Driving carelessly\",\"Changing lane to the right\",\"Moving Backward\",\"Driving carelessly\",\"Changing lane to the right\",\"Driving carelessly\",\"Driving carelessly\",\"Driving carelessly\",\"Changing lane to the right\",\"Changing lane to the right\",\"Driving carelessly\",\"Overtaking\",\"Changing lane to the right\",\"No distancing\",\"Other\",\"Changing lane to the right\",\"Overtaking\",\"Other\",\"Overtaking\",\"No priority to vehicle\",\"No priority to vehicle\",\"No priority to pedestrian\",\"Changing lane to the right\",\"Driving to the left\",\"Changing lane to the left\",\"Moving Backward\",\"Driving at high speed\",\"Moving Backward\",\"No distancing\",\"Other\",\"No priority to vehicle\",\"No distancing\",\"Driving carelessly\",\"Moving Backward\",\"No distancing\",\"Moving Backward\",\"No priority to pedestrian\",\"Changing lane to the left\",\"Other\",\"No priority to pedestrian\",\"Moving Backward\",\"No priority to pedestrian\",\"No distancing\",\"No priority to pedestrian\",\"Driving carelessly\",\"Getting off the vehicle improperly\",\"Driving carelessly\",\"Changing lane to the left\",\"No priority to vehicle\",\"Changing lane to the right\",\"Changing lane to the right\",\"No distancing\",\"No distancing\",\"Changing lane to the left\",\"No priority to vehicle\",\"Changing lane to the left\",\"No priority to vehicle\",\"Moving Backward\",\"Turnover\",\"No distancing\",\"No distancing\",\"No distancing\",\"Changing lane to the left\",\"No priority to vehicle\",\"Driving at high speed\",\"Overtaking\",\"Other\",\"Changing lane to the left\",\"No priority to pedestrian\",\"Moving Backward\",\"Changing lane to the left\",\"No distancing\",\"No distancing\",\"Changing lane to the left\",\"Changing lane to the left\",\"No priority to pedestrian\",\"Changing lane to the left\",\"Driving carelessly\",\"Driving carelessly\",\"No priority to pedestrian\",\"Getting off the vehicle improperly\",\"No distancing\",\"No priority to vehicle\",\"No distancing\",\"No priority to pedestrian\",\"No priority to pedestrian\",\"No priority to vehicle\",\"Driving carelessly\",\"Changing lane to the right\",\"Changing lane to the left\",\"Moving Backward\",\"Driving carelessly\",\"Driving to the left\",\"Driving to the left\",\"No priority to pedestrian\",\"Changing lane to the left\",\"Changing lane to the right\",\"Driving carelessly\",\"No distancing\",\"Driving under the influence of drugs\",\"Changing lane to the right\",\"Driving carelessly\",\"Moving Backward\",\"Turnover\",\"Changing lane to the right\",\"Driving carelessly\",\"No priority to vehicle\",\"Changing lane to the left\",\"Overturning\",\"No distancing\",\"Driving carelessly\",\"No distancing\",\"Changing lane to the left\",\"No distancing\",\"Changing lane to the left\",\"No distancing\",\"No distancing\",\"No distancing\",\"Changing lane to the left\",\"Changing lane to the right\",\"Changing lane to the right\",\"Other\",\"Other\",\"No priority to pedestrian\",\"No priority to vehicle\",\"Changing lane to the left\",\"Changing lane to the left\",\"Overtaking\",\"No distancing\",\"No priority to vehicle\",\"Changing lane to the right\",\"Changing lane to the left\",\"No distancing\",\"Driving carelessly\",\"No priority to pedestrian\",\"Driving carelessly\",\"Moving Backward\",\"No distancing\",\"No distancing\",\"No distancing\",\"Changing lane to the left\",\"Changing lane to the left\",\"No priority to vehicle\",\"Moving Backward\",\"Driving carelessly\",\"Driving carelessly\",\"Driving under the influence of drugs\",\"No priority to pedestrian\",\"No priority to vehicle\",\"Driving carelessly\",\"Moving Backward\",\"Driving carelessly\",\"No priority to vehicle\",\"Changing lane to the right\",\"Changing lane to the left\",\"No priority to vehicle\",\"Driving carelessly\",\"Moving Backward\",\"No distancing\",\"Changing lane to the left\",\"Changing lane to the left\",\"No distancing\",\"Changing lane to the left\",\"Driving carelessly\",\"Changing lane to the left\",\"No distancing\",\"Changing lane to the right\",\"Driving to the left\",\"No distancing\",\"Overtaking\",\"Driving under the influence of drugs\",\"No priority to pedestrian\",\"Moving Backward\",\"Changing lane to the right\",\"Changing lane to the left\",\"Changing lane to the right\",\"Driving under the influence of drugs\",\"No priority to vehicle\",\"No priority to vehicle\",\"Changing lane to the right\",\"Changing lane to the right\",\"Getting off the vehicle improperly\",\"Overtaking\",\"Changing lane to the left\",\"Driving under the influence of drugs\",\"Driving carelessly\",\"Moving Backward\",\"No distancing\",\"No priority to vehicle\",\"Overturning\",\"Changing lane to the left\",\"No distancing\",\"Moving Backward\",\"No priority to vehicle\",\"No priority to vehicle\",\"No distancing\",\"No distancing\",\"Overtaking\",\"Driving under the influence of drugs\",\"Changing lane to the right\",\"Changing lane to the left\",\"Driving carelessly\",\"Moving Backward\",\"Moving Backward\",\"Changing lane to the right\",\"No priority to vehicle\",\"Driving at high speed\",\"Driving under the influence of drugs\",\"Changing lane to the right\",\"Driving carelessly\",\"No distancing\",\"Changing lane to the left\",\"No distancing\",\"No distancing\",\"Getting off the vehicle improperly\",\"Overtaking\",\"Driving carelessly\",\"Driving under the influence of drugs\",\"Moving Backward\",\"Overturning\",\"Driving under the influence of drugs\",\"Changing lane to the right\",\"No distancing\",\"No distancing\",\"No priority to vehicle\",\"Moving Backward\",\"Getting off the vehicle improperly\",\"Changing lane to the left\",\"Changing lane to the left\",\"No priority to vehicle\",\"Changing lane to the right\",\"Changing lane to the right\",\"Driving carelessly\",\"Changing lane to the left\",\"Driving under the influence of drugs\",\"Driving carelessly\",\"No distancing\",\"No priority to vehicle\",\"No priority to vehicle\",\"No priority to vehicle\",\"Changing lane to the left\",\"Moving Backward\",\"Driving carelessly\",\"Driving under the influence of drugs\",\"Changing lane to the right\",\"No priority to vehicle\",\"Changing lane to the right\",\"Driving to the left\",\"Moving Backward\",\"No priority to vehicle\",\"Driving carelessly\",\"Changing lane to the left\",\"No priority to vehicle\",\"No priority to vehicle\",\"No distancing\",\"Driving to the left\",\"Driving carelessly\",\"Driving carelessly\",\"Changing lane to the right\",\"Driving carelessly\",\"Changing lane to the left\",\"Driving carelessly\",\"Driving carelessly\",\"Driving under the influence of drugs\",\"Driving carelessly\",\"No distancing\",\"Driving carelessly\",\"Driving to the left\",\"Overtaking\",\"Driving carelessly\",\"No priority to vehicle\",\"No priority to vehicle\",\"No priority to vehicle\",\"Moving Backward\",\"No distancing\",\"Changing lane to the left\",\"No priority to pedestrian\",\"Moving Backward\",\"Changing lane to the left\",\"No distancing\",\"No priority to vehicle\",\"Changing lane to the right\",\"No distancing\",\"No distancing\",\"Getting off the vehicle improperly\",\"No priority to pedestrian\",\"Changing lane to the left\",\"No distancing\",\"Driving carelessly\",\"No distancing\",\"Changing lane to the right\",\"Overtaking\",\"Driving carelessly\",\"Moving Backward\",\"No distancing\",\"Overtaking\",\"Driving carelessly\",\"Driving carelessly\",\"Moving Backward\",\"Driving carelessly\",\"Driving to the left\",\"Changing lane to the left\",\"No distancing\",\"No distancing\",\"Changing lane to the right\",\"Changing lane to the right\",\"Changing lane to the left\",\"Moving Backward\",\"No distancing\",\"Changing lane to the right\",\"Moving Backward\",\"No distancing\",\"Driving to the left\",\"Moving Backward\",\"Moving Backward\",\"Overtaking\",\"Driving carelessly\",\"Changing lane to the left\",\"Driving under the influence of drugs\",\"Moving Backward\",\"Driving at high speed\",\"Changing lane to the right\",\"No priority to vehicle\",\"No distancing\",\"Turnover\",\"No distancing\",\"Changing lane to the right\",\"Changing lane to the left\",\"Driving carelessly\",\"No priority to vehicle\",\"No distancing\",\"No priority to pedestrian\",\"No priority to pedestrian\",\"No priority to vehicle\",\"Changing lane to the left\",\"Changing lane to the left\",\"No distancing\",\"No priority to vehicle\",\"No distancing\",\"No distancing\",\"Changing lane to the right\",\"Changing lane to the left\",\"Overturning\",\"Moving Backward\",\"Driving under the influence of drugs\",\"Moving Backward\",\"Changing lane to the right\",\"Overspeed\",\"Driving under the influence of drugs\",\"Driving carelessly\",\"No distancing\",\"No priority to vehicle\",\"Overspeed\",\"Driving under the influence of drugs\",\"Changing lane to the right\",\"Changing lane to the right\",\"Changing lane to the right\",\"Changing lane to the right\",\"No distancing\",\"Overspeed\",\"No distancing\",\"No distancing\",\"No distancing\",\"No distancing\",\"Changing lane to the right\",\"No distancing\",\"No priority to vehicle\",\"Changing lane to the left\",\"Driving carelessly\",\"Changing lane to the left\",\"No priority to pedestrian\",\"No distancing\",\"No distancing\",\"Overturning\",\"No distancing\",\"Drunk driving\",\"Moving Backward\",\"No priority to pedestrian\",\"Changing lane to the left\",\"Changing lane to the left\",\"No distancing\",\"Changing lane to the right\",\"Changing lane to the right\",\"Moving Backward\",\"Driving at high speed\",\"Changing lane to the left\",\"No distancing\",\"Changing lane to the right\",\"Changing lane to the right\",\"No distancing\",\"Driving carelessly\",\"Driving carelessly\",\"Changing lane to the right\",\"Overturning\",\"Changing lane to the right\",\"No distancing\",\"Overturning\",\"Driving carelessly\",\"Changing lane to the right\",\"Driving at high speed\",\"Changing lane to the left\",\"Driving carelessly\",\"Moving Backward\",\"No priority to pedestrian\",\"Moving Backward\",\"Changing lane to the right\",\"No distancing\",\"Drunk driving\",\"Driving carelessly\",\"Driving to the left\",\"Changing lane to the right\",\"Changing lane to the right\",\"Driving carelessly\",\"Changing lane to the left\",\"No priority to vehicle\",\"Driving carelessly\",\"Changing lane to the right\",\"Driving carelessly\",\"Driving under the influence of drugs\",\"No distancing\",\"Changing lane to the left\",\"No priority to vehicle\",\"Moving Backward\",\"Moving Backward\",\"No distancing\",\"Changing lane to the right\",\"Changing lane to the right\",\"Moving Backward\",\"Driving carelessly\",\"Driving under the influence of drugs\",\"No distancing\",\"No distancing\",\"No priority to vehicle\",\"Driving to the left\",\"No priority to vehicle\",\"No priority to vehicle\",\"No priority to vehicle\",\"No distancing\",\"Moving Backward\",\"Changing lane to the right\",\"Driving carelessly\",\"Changing lane to the left\",\"No distancing\",\"Driving under the influence of drugs\",\"Overturning\",\"No distancing\",\"Changing lane to the right\",\"No priority to vehicle\",\"Changing lane to the right\",\"Changing lane to the left\",\"No distancing\",\"No priority to pedestrian\",\"Driving carelessly\",\"No distancing\",\"Driving carelessly\",\"Driving carelessly\",\"Moving Backward\",\"Overtaking\",\"No priority to vehicle\",\"No priority to vehicle\",\"No distancing\",\"Moving Backward\",\"Changing lane to the right\",\"No distancing\",\"Overtaking\",\"No distancing\",\"Changing lane to the left\",\"No distancing\",\"Changing lane to the right\",\"Moving Backward\",\"No distancing\",\"No distancing\",\"Driving carelessly\",\"Moving Backward\",\"Changing lane to the right\",\"Driving carelessly\",\"Driving to the left\",\"Changing lane to the right\",\"Driving carelessly\",\"No priority to vehicle\",\"Changing lane to the right\",\"No priority to vehicle\",\"Driving at high speed\",\"No distancing\",\"No distancing\",\"Driving carelessly\",\"Moving Backward\",\"No distancing\",\"Changing lane to the right\",\"Overtaking\",\"No distancing\",\"Overtaking\",\"Moving Backward\",\"No distancing\",\"No distancing\",\"No priority to vehicle\",\"No priority to vehicle\",\"Changing lane to the left\",\"No distancing\",\"Driving under the influence of drugs\",\"Changing lane to the left\",\"Changing lane to the right\",\"Driving to the left\",\"Driving at high speed\",\"Overtaking\",\"Changing lane to the right\",\"Changing lane to the right\",\"Moving Backward\",\"Moving Backward\",\"Changing lane to the left\",\"Moving Backward\",\"No distancing\",\"Changing lane to the right\",\"No priority to vehicle\",\"No distancing\",\"No priority to vehicle\",\"Driving under the influence of drugs\",\"Changing lane to the right\",\"No distancing\",\"No distancing\",\"Changing lane to the left\",\"Changing lane to the right\",\"Changing lane to the right\",\"Driving under the influence of drugs\",\"Moving Backward\",\"Changing lane to the left\",\"No priority to pedestrian\",\"No distancing\",\"Changing lane to the right\",\"Driving carelessly\",\"No distancing\",\"Changing lane to the left\",\"Moving Backward\",\"No distancing\",\"No priority to pedestrian\",\"Changing lane to the left\",\"Driving carelessly\",\"Changing lane to the right\",\"No priority to vehicle\",\"No priority to pedestrian\",\"Changing lane to the left\",\"Changing lane to the left\",\"Driving under the influence of drugs\",\"Changing lane to the right\",\"Changing lane to the right\",\"No distancing\",\"Moving Backward\",\"No distancing\",\"No priority to pedestrian\",\"Moving Backward\",\"Changing lane to the right\",\"No distancing\",\"Driving carelessly\",\"Changing lane to the left\",\"Moving Backward\",\"No distancing\",\"Changing lane to the right\",\"No priority to vehicle\",\"Getting off the vehicle improperly\",\"No distancing\",\"No distancing\",\"Changing lane to the left\",\"No priority to vehicle\",\"Driving carelessly\",\"Changing lane to the right\",\"No distancing\",\"Changing lane to the right\",\"No distancing\",\"Driving under the influence of drugs\",\"Changing lane to the left\",\"Getting off the vehicle improperly\",\"Overloading\",\"Driving carelessly\",\"Overtaking\",\"Overturning\",\"Driving carelessly\",\"No priority to pedestrian\",\"No distancing\",\"No priority to vehicle\",\"Getting off the vehicle improperly\",\"No priority to pedestrian\",\"Changing lane to the right\",\"Changing lane to the left\",\"No distancing\",\"Driving carelessly\",\"Driving under the influence of drugs\",\"Driving carelessly\",\"Driving carelessly\",\"Changing lane to the right\",\"No distancing\",\"No priority to pedestrian\",\"Moving Backward\",\"Moving Backward\",\"No priority to vehicle\",\"No distancing\",\"Changing lane to the right\",\"Changing lane to the right\",\"No distancing\",\"Driving carelessly\",\"No distancing\",\"No priority to vehicle\",\"Changing lane to the right\",\"Driving under the influence of drugs\",\"Changing lane to the right\",\"Changing lane to the left\",\"Driving carelessly\",\"No priority to pedestrian\",\"No priority to pedestrian\",\"Changing lane to the right\",\"Drunk driving\",\"Changing lane to the left\",\"Driving to the left\",\"Changing lane to the left\",\"Driving under the influence of drugs\",\"No priority to pedestrian\",\"No distancing\",\"No priority to vehicle\",\"Moving Backward\",\"Overtaking\",\"Changing lane to the left\",\"Changing lane to the right\",\"Overtaking\",\"Overloading\",\"Other\",\"No priority to vehicle\",\"Changing lane to the right\",\"Moving Backward\",\"No priority to pedestrian\",\"No distancing\",\"No distancing\",\"Changing lane to the right\",\"Moving Backward\",\"Getting off the vehicle improperly\",\"Overtaking\",\"Overloading\",\"Changing lane to the right\",\"Improper parking\",\"Other\",\"Changing lane to the right\",\"No priority to pedestrian\",\"Overspeed\",\"Changing lane to the left\",\"No priority to vehicle\",\"No distancing\",\"No priority to pedestrian\",\"No distancing\",\"No priority to vehicle\",\"Driving carelessly\",\"Driving carelessly\",\"No priority to vehicle\",\"No distancing\",\"Changing lane to the right\",\"Driving at high speed\",\"Changing lane to the right\",\"Changing lane to the left\",\"Getting off the vehicle improperly\",\"Other\",\"No distancing\",\"No priority to vehicle\",\"Overtaking\",\"No priority to pedestrian\",\"Changing lane to the right\",\"Driving carelessly\",\"Changing lane to the right\",\"Overtaking\",\"Other\",\"Driving to the left\",\"Changing lane to the right\",\"Other\",\"Changing lane to the left\",\"No priority to vehicle\",\"No priority to pedestrian\",\"Changing lane to the right\",\"Driving carelessly\",\"Changing lane to the right\",\"Changing lane to the right\",\"Changing lane to the left\",\"Overturning\",\"No distancing\",\"Driving carelessly\",\"No priority to vehicle\",\"Changing lane to the right\",\"No distancing\",\"Moving Backward\",\"Moving Backward\",\"No distancing\",\"No priority to pedestrian\",\"Changing lane to the right\",\"Changing lane to the left\",\"Driving carelessly\",\"Driving carelessly\",\"Other\",\"Changing lane to the right\",\"Changing lane to the right\",\"Overturning\",\"No priority to pedestrian\",\"Other\",\"Other\",\"Moving Backward\",\"No distancing\",\"Moving Backward\",\"No priority to vehicle\",\"Driving carelessly\",\"No distancing\",\"Other\",\"Changing lane to the right\",\"No distancing\",\"Driving carelessly\",\"No distancing\",\"No priority to pedestrian\",\"Driving to the left\",\"Driving carelessly\",\"Driving carelessly\",\"Changing lane to the right\",\"Driving carelessly\",\"Driving carelessly\",\"Driving carelessly\",\"Changing lane to the right\",\"Changing lane to the right\",\"Driving carelessly\",\"Overtaking\",\"Changing lane to the right\",\"No distancing\",\"Other\",\"Overtaking\",\"Other\",\"Driving to the left\",\"Overtaking\",\"No priority to vehicle\",\"Other\",\"No priority to pedestrian\",\"Changing lane to the right\",\"Changing lane to the right\",\"Driving to the left\",\"Changing lane to the left\",\"Moving Backward\",\"Driving at high speed\",\"Moving Backward\",\"No distancing\",\"Other\",\"No distancing\",\"Moving Backward\",\"No priority to pedestrian\",\"No distancing\",\"No distancing\",\"No priority to pedestrian\",\"Moving Backward\",\"No priority to pedestrian\",\"No priority to pedestrian\",\"Getting off the vehicle improperly\",\"Driving carelessly\",\"Changing lane to the left\",\"No priority to vehicle\",\"Changing lane to the right\",\"Changing lane to the right\",\"Changing lane to the left\",\"Changing lane to the right\",\"No priority to vehicle\",\"Changing lane to the left\",\"No priority to vehicle\",\"Moving Backward\",\"Turnover\",\"No distancing\",\"No distancing\",\"No distancing\",\"Changing lane to the left\",\"No priority to vehicle\",\"Overtaking\",\"Other\",\"Changing lane to the left\",\"No priority to pedestrian\",\"Changing lane to the left\",\"Moving Backward\",\"Changing lane to the left\",\"No priority to pedestrian\",\"Changing lane to the left\",\"Driving carelessly\",\"Driving carelessly\",\"No distancing\",\"Changing lane to the left\",\"No priority to pedestrian\",\"No priority to pedestrian\",\"No priority to vehicle\",\"Driving carelessly\",\"Changing lane to the right\",\"Moving Backward\",\"Driving carelessly\",\"Driving to the left\",\"Driving to the left\",\"No priority to pedestrian\",\"Changing lane to the left\",\"Changing lane to the right\",\"Driving carelessly\",\"Getting off the vehicle improperly\",\"Driving under the influence of drugs\",\"Driving carelessly\",\"Turnover\",\"Changing lane to the right\",\"Driving carelessly\",\"No priority to vehicle\",\"Moving Backward\",\"Changing lane to the left\",\"Overturning\",\"Changing lane to the left\",\"No priority to pedestrian\",\"No distancing\",\"No distancing\",\"Changing lane to the left\",\"No distancing\",\"Changing lane to the left\",\"No distancing\",\"No distancing\",\"No distancing\",\"Changing lane to the left\",\"Moving Backward\",\"Changing lane to the right\",\"No distancing\",\"Overtaking\",\"Other\",\"Changing lane to the right\",\"No priority to vehicle\",\"Changing lane to the left\",\"Overtaking\",\"No distancing\",\"No priority to vehicle\",\"Changing lane to the right\",\"Changing lane to the left\",\"No distancing\",\"Driving carelessly\",\"Moving Backward\",\"No distancing\",\"No distancing\",\"Changing lane to the left\",\"Moving Backward\",\"No priority to vehicle\",\"Driving carelessly\",\"Driving carelessly\",\"Driving under the influence of drugs\",\"No priority to pedestrian\",\"No priority to vehicle\",\"Driving carelessly\",\"Moving Backward\",\"Driving carelessly\",\"Changing lane to the right\",\"Changing lane to the left\",\"Driving carelessly\",\"Changing lane to the left\",\"Driving carelessly\",\"Changing lane to the left\",\"Changing lane to the right\",\"No distancing\",\"Driving to the left\",\"No distancing\",\"Overtaking\",\"Driving under the influence of drugs\",\"No priority to pedestrian\",\"Changing lane to the left\",\"No priority to vehicle\",\"No priority to vehicle\",\"Changing lane to the left\",\"Changing lane to the right\",\"Changing lane to the right\",\"Changing lane to the left\",\"Changing lane to the left\",\"Getting off the vehicle improperly\",\"Overtaking\",\"Changing lane to the left\",\"Driving under the influence of drugs\",\"Driving carelessly\",\"No distancing\",\"No priority to vehicle\",\"Overturning\",\"Changing lane to the left\",\"No distancing\",\"No priority to vehicle\",\"No distancing\",\"Overtaking\",\"Driving under the influence of drugs\",\"Changing lane to the right\",\"Changing lane to the left\",\"Driving carelessly\",\"Moving Backward\",\"Moving Backward\",\"Changing lane to the right\",\"Driving under the influence of drugs\",\"Changing lane to the right\",\"No distancing\",\"Changing lane to the left\",\"No distancing\",\"No distancing\",\"Overtaking\",\"Driving carelessly\",\"Driving under the influence of drugs\",\"Moving Backward\",\"Changing lane to the right\",\"Changing lane to the left\",\"No distancing\",\"No distancing\",\"No priority to vehicle\",\"Moving Backward\",\"Moving Backward\",\"Changing lane to the left\",\"No priority to vehicle\",\"Changing lane to the right\",\"Driving carelessly\",\"Changing lane to the left\",\"Changing lane to the right\",\"Driving under the influence of drugs\",\"Driving carelessly\",\"No priority to vehicle\",\"No priority to vehicle\",\"Moving Backward\",\"Driving carelessly\",\"Driving under the influence of drugs\",\"No priority to vehicle\",\"Changing lane to the right\",\"Driving to the left\",\"Moving Backward\",\"Driving carelessly\",\"Changing lane to the left\",\"No priority to vehicle\",\"No distancing\",\"Driving to the left\",\"Driving carelessly\",\"Driving carelessly\",\"Changing lane to the right\",\"Changing lane to the left\",\"Driving carelessly\",\"Driving under the influence of drugs\",\"Driving carelessly\",\"No distancing\",\"Driving carelessly\",\"Driving to the left\",\"No distancing\",\"No priority to vehicle\",\"No distancing\",\"Moving Backward\",\"Changing lane to the left\",\"No distancing\",\"No priority to vehicle\",\"Changing lane to the right\",\"No distancing\",\"No distancing\",\"Changing lane to the left\",\"No distancing\",\"Driving carelessly\",\"No distancing\",\"Changing lane to the right\",\"Driving carelessly\",\"Moving Backward\",\"No distancing\",\"Driving carelessly\",\"Driving carelessly\",\"Moving Backward\",\"Driving carelessly\",\"Driving to the left\",\"Changing lane to the left\",\"No distancing\",\"No distancing\",\"Changing lane to the right\",\"Driving under the influence of drugs\",\"Changing lane to the right\",\"Changing lane to the left\",\"No distancing\",\"Changing lane to the right\",\"Moving Backward\",\"No distancing\",\"Driving to the left\",\"Driving to the left\",\"Moving Backward\",\"Moving Backward\",\"Overtaking\",\"Driving carelessly\",\"Changing lane to the left\",\"Driving under the influence of drugs\",\"No distancing\",\"Moving Backward\",\"Changing lane to the left\",\"Changing lane to the right\",\"No distancing\",\"Driving at high speed\",\"Changing lane to the right\",\"No priority to vehicle\",\"Turnover\",\"Changing lane to the right\",\"No distancing\",\"No priority to vehicle\",\"No priority to pedestrian\",\"No priority to pedestrian\",\"Changing lane to the left\",\"Changing lane to the left\",\"No distancing\",\"No priority to vehicle\",\"No distancing\",\"No distancing\",\"Changing lane to the right\",\"Changing lane to the left\",\"No distancing\",\"Overturning\",\"No priority to vehicle\",\"Moving Backward\",\"Driving under the influence of drugs\",\"Moving Backward\",\"Changing lane to the right\",\"Overspeed\",\"Driving under the influence of drugs\",\"Driving carelessly\",\"No priority to vehicle\",\"Overspeed\",\"Driving under the influence of drugs\",\"Changing lane to the right\",\"Changing lane to the right\",\"Changing lane to the right\",\"Moving Backward\",\"No distancing\",\"Overspeed\",\"No distancing\",\"Driving carelessly\",\"No distancing\",\"No distancing\",\"No distancing\",\"Changing lane to the right\",\"No distancing\",\"No priority to vehicle\",\"Changing lane to the left\",\"Moving Backward\",\"Changing lane to the left\",\"No priority to pedestrian\",\"No distancing\",\"No distancing\",\"Overturning\",\"No distancing\",\"Drunk driving\",\"Moving Backward\",\"No priority to pedestrian\",\"Changing lane to the left\",\"Changing lane to the left\",\"Getting off the vehicle improperly\",\"No distancing\",\"Changing lane to the right\",\"Driving at high speed\",\"Changing lane to the left\",\"No distancing\",\"Changing lane to the right\",\"Changing lane to the right\",\"No distancing\",\"Changing lane to the right\",\"Driving carelessly\",\"Driving carelessly\",\"Changing lane to the right\",\"Changing lane to the right\",\"No distancing\",\"Overturning\",\"Changing lane to the right\",\"Driving at high speed\",\"Changing lane to the left\",\"Driving carelessly\",\"No distancing\",\"Moving Backward\",\"No priority to pedestrian\",\"Moving Backward\",\"Changing lane to the right\",\"No distancing\",\"Drunk driving\",\"Changing lane to the right\",\"Driving carelessly\",\"Driving to the left\",\"Changing lane to the right\",\"Changing lane to the right\",\"Driving carelessly\",\"Changing lane to the left\",\"No priority to vehicle\",\"Driving carelessly\",\"Changing lane to the right\",\"Driving carelessly\",\"Driving under the influence of drugs\",\"No distancing\",\"Changing lane to the left\",\"Moving Backward\",\"No distancing\",\"Changing lane to the right\",\"Moving Backward\",\"Driving under the influence of drugs\",\"No priority to vehicle\",\"No priority to vehicle\",\"No priority to vehicle\",\"No priority to vehicle\",\"No distancing\",\"Changing lane to the right\",\"Driving carelessly\",\"Changing lane to the left\",\"No distancing\",\"Changing lane to the right\",\"Driving under the influence of drugs\",\"No distancing\",\"Overturning\",\"Changing lane to the right\",\"No priority to vehicle\",\"Changing lane to the right\",\"Changing lane to the left\",\"No distancing\",\"No priority to pedestrian\",\"Driving carelessly\",\"No distancing\",\"Driving carelessly\",\"Driving carelessly\",\"Moving Backward\",\"Overtaking\",\"No priority to vehicle\",\"No priority to vehicle\",\"No priority to vehicle\",\"No distancing\",\"Moving Backward\",\"Changing lane to the right\",\"Overtaking\",\"No distancing\",\"Driving under the influence of drugs\",\"No distancing\",\"No distancing\",\"Changing lane to the right\",\"Moving Backward\",\"No distancing\",\"No distancing\",\"Driving carelessly\",\"Moving Backward\",\"Changing lane to the right\",\"Driving carelessly\",\"Driving to the left\",\"Changing lane to the right\",\"Changing lane to the right\",\"No priority to vehicle\",\"Changing lane to the right\",\"Turnover\",\"Driving at high speed\",\"No distancing\",\"No distancing\",\"Driving carelessly\",\"Driving carelessly\",\"Moving Backward\",\"No distancing\",\"Changing lane to the right\",\"Overtaking\",\"No distancing\",\"Moving Backward\",\"No distancing\",\"No distancing\",\"No priority to vehicle\",\"Changing lane to the left\",\"No distancing\",\"Driving under the influence of drugs\",\"Changing lane to the left\",\"Driving to the left\",\"Driving at high speed\",\"Overtaking\",\"Changing lane to the right\",\"Changing lane to the right\",\"Moving Backward\",\"Changing lane to the left\",\"Moving Backward\",\"No distancing\",\"Moving Backward\",\"Changing lane to the right\",\"Changing lane to the left\",\"No priority to vehicle\",\"No distancing\",\"No priority to vehicle\",\"Driving under the influence of drugs\",\"Changing lane to the right\",\"No distancing\",\"No distancing\",\"Changing lane to the left\",\"Changing lane to the right\",\"Changing lane to the right\",\"Driving under the influence of drugs\",\"Changing lane to the left\",\"No priority to pedestrian\",\"No distancing\",\"No distancing\",\"Changing lane to the left\",\"Driving carelessly\",\"No distancing\",\"Moving Backward\",\"No distancing\",\"No priority to pedestrian\",\"Changing lane to the left\",\"Changing lane to the right\",\"Moving Backward\",\"No priority to vehicle\",\"No priority to pedestrian\",\"Changing lane to the left\",\"Driving under the influence of drugs\",\"Moving Backward\",\"Changing lane to the right\",\"Changing lane to the right\",\"Moving Backward\",\"Driving carelessly\",\"No priority to pedestrian\",\"Changing lane to the right\",\"Changing lane to the left\",\"Moving Backward\",\"No distancing\",\"Moving Backward\",\"Overtaking\",\"Changing lane to the left\",\"Changing lane to the right\",\"Overtaking\",\"Overloading\",\"Other\",\"No priority to vehicle\",\"Moving Backward\",\"No distancing\",\"No distancing\",\"Moving Backward\",\"Changing lane to the right\",\"No priority to pedestrian\",\"Moving Backward\",\"Getting off the vehicle improperly\",\"Overtaking\",\"Overloading\",\"Changing lane to the right\",\"Improper parking\",\"Other\",\"Changing lane to the left\",\"Changing lane to the right\",\"No priority to pedestrian\",\"Overspeed\",\"Changing lane to the left\",\"No priority to vehicle\",\"Changing lane to the right\",\"No distancing\",\"No priority to pedestrian\",\"No distancing\",\"No priority to vehicle\",\"Other\",\"Driving carelessly\",\"Changing lane to the left\",\"Changing lane to the left\",\"No priority to vehicle\",\"No distancing\",\"Changing lane to the right\",\"Changing lane to the right\",\"Driving at high speed\",\"No distancing\",\"Changing lane to the right\",\"Changing lane to the left\",\"Getting off the vehicle improperly\",\"Other\",\"Other\",\"No priority to vehicle\",\"Changing lane to the right\",\"Driving carelessly\",\"Overtaking\",\"Other\",\"Driving to the left\",\"Driving at high speed\",\"Unknown\",\"Changing lane to the right\",\"No distancing\",\"Other\",\"No priority to vehicle\",\"Changing lane to the left\",\"Overtaking\",\"Driving carelessly\",\"No priority to vehicle\",\"No priority to pedestrian\",\"Changing lane to the right\",\"Driving carelessly\",\"Changing lane to the right\",\"Changing lane to the right\",\"Changing lane to the left\",\"Overturning\",\"No distancing\",\"Driving carelessly\",\"Changing lane to the left\",\"No priority to vehicle\",\"Changing lane to the right\",\"No distancing\",\"Moving Backward\",\"No distancing\",\"No distancing\",\"Driving carelessly\",\"Changing lane to the right\",\"Changing lane to the left\",\"Driving carelessly\",\"No distancing\",\"Other\",\"Changing lane to the right\",\"Changing lane to the right\",\"No distancing\",\"No distancing\",\"Overturning\",\"Driving at high speed\",\"No priority to vehicle\",\"No priority to pedestrian\",\"No priority to vehicle\",\"Other\",\"Other\",\"No distancing\",\"Moving Backward\",\"No priority to vehicle\",\"Driving carelessly\",\"No distancing\",\"Other\",\"Changing lane to the right\",\"No distancing\",\"Driving carelessly\",\"No distancing\",\"No priority to vehicle\",\"Changing lane to the right\",\"No priority to pedestrian\",\"No priority to vehicle\",\"Changing lane to the left\",\"Turnover\",\"Driving to the left\",\"Driving carelessly\",\"Driving to the left\",\"Driving carelessly\",\"No priority to pedestrian\",\"Driving carelessly\",\"Changing lane to the right\",\"Moving Backward\",\"Driving carelessly\",\"Changing lane to the right\",\"Driving carelessly\",\"Driving carelessly\",\"Driving carelessly\",\"Changing lane to the right\",\"Changing lane to the right\",\"Driving carelessly\",\"Overtaking\",\"Changing lane to the right\",\"No distancing\",\"Other\",\"Changing lane to the right\",\"Changing lane to the right\",\"Overtaking\",\"Other\",\"Overtaking\",\"No priority to vehicle\",\"Moving Backward\",\"Other\",\"No priority to pedestrian\",\"Changing lane to the right\",\"Changing lane to the right\",\"Driving to the left\",\"Changing lane to the left\",\"Moving Backward\",\"Driving at high speed\",\"Moving Backward\",\"No distancing\",\"Other\",\"No priority to vehicle\",\"Changing lane to the right\",\"Other\",\"No distancing\",\"Driving carelessly\",\"No distancing\",\"Moving Backward\",\"No distancing\",\"Moving Backward\",\"No priority to pedestrian\",\"Changing lane to the left\",\"No distancing\",\"Other\",\"No distancing\",\"No priority to pedestrian\",\"Moving Backward\",\"No distancing\",\"No priority to pedestrian\",\"Driving carelessly\",\"Getting off the vehicle improperly\",\"Driving carelessly\",\"Changing lane to the right\",\"Changing lane to the right\",\"No distancing\",\"No distancing\",\"Changing lane to the left\",\"Changing lane to the right\",\"No priority to vehicle\",\"Changing lane to the left\",\"Moving Backward\",\"No distancing\",\"No distancing\",\"Changing lane to the left\",\"Moving Backward\",\"Overtaking\",\"Changing lane to the left\",\"Changing lane to the right\",\"Overtaking\",\"Overloading\",\"Other\",\"No priority to vehicle\",\"Moving Backward\",\"Changing lane to the left\",\"No priority to pedestrian\",\"No distancing\",\"No priority to vehicle\",\"No distancing\",\"No distancing\",\"Moving Backward\",\"Changing lane to the right\",\"No priority to pedestrian\",\"Moving Backward\",\"Getting off the vehicle improperly\",\"Overtaking\",\"Overloading\",\"Changing lane to the right\",\"Other\",\"Changing lane to the right\",\"No priority to pedestrian\",\"Overspeed\",\"Changing lane to the left\",\"Changing lane to the right\",\"No distancing\",\"No priority to pedestrian\",\"No distancing\",\"Other\",\"Driving carelessly\",\"Changing lane to the left\",\"Driving carelessly\",\"Changing lane to the left\",\"No distancing\",\"Changing lane to the right\",\"Driving at high speed\",\"No distancing\",\"Changing lane to the right\",\"Changing lane to the left\",\"Getting off the vehicle improperly\",\"Other\",\"No distancing\",\"Overtaking\",\"No priority to pedestrian\",\"No distancing\",\"Changing lane to the right\",\"Driving carelessly\",\"Changing lane to the right\",\"Overtaking\",\"Other\",\"Driving to the left\",\"Driving at high speed\",\"Unknown\",\"Changing lane to the right\",\"Other\",\"No priority to vehicle\",\"Changing lane to the left\",\"No priority to pedestrian\",\"Overtaking\",\"Driving carelessly\",\"No priority to vehicle\",\"No priority to pedestrian\",\"Changing lane to the right\",\"Driving carelessly\",\"Changing lane to the right\",\"Changing lane to the left\",\"Driving carelessly\",\"No distancing\",\"Driving carelessly\",\"No priority to vehicle\",\"Changing lane to the right\",\"No distancing\",\"Moving Backward\",\"Moving Backward\",\"No distancing\",\"No distancing\",\"No priority to pedestrian\",\"Driving carelessly\",\"Changing lane to the right\",\"Changing lane to the left\",\"Driving carelessly\",\"Other\",\"Changing lane to the right\",\"No distancing\",\"No distancing\",\"Overturning\",\"Driving at high speed\",\"No priority to vehicle\",\"No priority to pedestrian\",\"No priority to vehicle\",\"Other\",\"Other\",\"Moving Backward\",\"No distancing\",\"Moving Backward\",\"Driving carelessly\",\"No distancing\",\"Other\",\"Changing lane to the right\",\"No distancing\",\"Driving carelessly\",\"No distancing\",\"No priority to vehicle\",\"Changing lane to the right\",\"No priority to pedestrian\",\"No priority to vehicle\",\"Changing lane to the left\",\"Driving carelessly\",\"Driving to the left\",\"Driving carelessly\",\"Changing lane to the right\",\"Moving Backward\",\"Driving carelessly\",\"Changing lane to the right\",\"Driving carelessly\",\"Driving carelessly\",\"Changing lane to the right\",\"Changing lane to the right\",\"Driving carelessly\",\"Overtaking\",\"Changing lane to the right\",\"Changing lane to the right\",\"Changing lane to the right\",\"Other\",\"No priority to vehicle\",\"Moving Backward\",\"Other\",\"No priority to pedestrian\",\"Changing lane to the right\",\"Changing lane to the right\",\"Changing lane to the right\",\"Driving to the left\",\"Changing lane to the left\",\"Driving at high speed\",\"No priority to vehicle\",\"Changing lane to the right\",\"Other\",\"No distancing\",\"Driving carelessly\",\"No distancing\",\"Moving Backward\",\"No distancing\",\"Moving Backward\",\"No priority to pedestrian\",\"Changing lane to the left\",\"Other\",\"No distancing\",\"No priority to pedestrian\",\"Moving Backward\",\"No priority to pedestrian\",\"No priority to pedestrian\",\"Getting off the vehicle improperly\",\"No priority to vehicle\",\"Changing lane to the right\",\"Changing lane to the right\",\"No distancing\",\"Changing lane to the left\",\"Changing lane to the right\",\"No priority to vehicle\",\"Moving Backward\",\"No distancing\",\"No distancing\",\"No distancing\",\"No priority to vehicle\",\"Driving at high speed\",\"Other\",\"Changing lane to the left\",\"No priority to pedestrian\",\"Changing lane to the left\",\"No distancing\",\"Moving Backward\",\"Other\",\"Moving Backward\",\"No distancing\",\"Changing lane to the left\",\"Changing lane to the left\",\"Driving carelessly\",\"Getting off the vehicle improperly\",\"No distancing\",\"Changing lane to the left\",\"No priority to vehicle\",\"No distancing\",\"No priority to pedestrian\",\"No priority to pedestrian\",\"No priority to vehicle\",\"Driving carelessly\",\"Changing lane to the right\",\"Driving carelessly\",\"Driving to the left\",\"No priority to pedestrian\",\"Changing lane to the left\",\"Changing lane to the right\",\"Driving carelessly\",\"No distancing\",\"Getting off the vehicle improperly\",\"Changing lane to the right\",\"Driving carelessly\",\"Moving Backward\",\"Driving carelessly\",\"No priority to vehicle\",\"Moving Backward\",\"Moving Backward\",\"Overtaking\",\"Changing lane to the left\",\"Overtaking\",\"Overloading\",\"Other\",\"Changing lane to the right\",\"Moving Backward\",\"Changing lane to the left\",\"No priority to pedestrian\",\"No distancing\",\"No priority to vehicle\",\"No distancing\",\"No distancing\",\"Moving Backward\",\"Changing lane to the right\",\"No priority to pedestrian\",\"Getting off the vehicle improperly\",\"Overtaking\",\"Overloading\",\"Changing lane to the right\",\"Improper parking\",\"Other\",\"Changing lane to the left\",\"Changing lane to the right\",\"No priority to pedestrian\",\"Overspeed\",\"Changing lane to the left\",\"No priority to vehicle\",\"Changing lane to the right\",\"No distancing\",\"No priority to pedestrian\",\"No distancing\",\"No priority to vehicle\",\"Other\",\"Driving carelessly\",\"Changing lane to the left\",\"Changing lane to the left\",\"No priority to vehicle\",\"No distancing\",\"Changing lane to the right\",\"Changing lane to the right\",\"Driving at high speed\",\"No distancing\",\"Changing lane to the right\",\"Changing lane to the left\",\"Getting off the vehicle improperly\",\"Other\",\"Other\",\"No distancing\",\"No priority to vehicle\",\"Overtaking\",\"No priority to pedestrian\",\"No distancing\",\"Changing lane to the right\",\"Driving carelessly\",\"Other\",\"Driving to the left\",\"Driving at high speed\",\"Unknown\",\"Changing lane to the right\",\"No distancing\",\"Other\",\"No priority to vehicle\",\"Changing lane to the left\",\"No priority to pedestrian\",\"Overtaking\",\"Driving carelessly\",\"No priority to vehicle\",\"Changing lane to the right\",\"Changing lane to the left\",\"Overturning\",\"Driving carelessly\",\"No distancing\",\"Driving carelessly\",\"Changing lane to the left\",\"No priority to vehicle\",\"Changing lane to the right\",\"No distancing\",\"Moving Backward\",\"Moving Backward\",\"No distancing\",\"No distancing\",\"No priority to pedestrian\",\"Changing lane to the right\",\"Changing lane to the left\",\"Driving carelessly\",\"Driving carelessly\",\"No distancing\",\"Other\",\"Changing lane to the right\",\"Changing lane to the right\",\"No distancing\",\"No distancing\",\"Overturning\",\"Driving at high speed\",\"No priority to vehicle\",\"No priority to pedestrian\",\"No priority to vehicle\",\"Other\",\"Other\",\"Moving Backward\",\"No distancing\",\"Moving Backward\",\"No priority to vehicle\",\"Driving carelessly\",\"No distancing\",\"Other\",\"Changing lane to the right\",\"No distancing\",\"Driving carelessly\",\"No distancing\",\"No priority to vehicle\",\"Changing lane to the right\",\"No priority to pedestrian\",\"No priority to vehicle\",\"Changing lane to the left\",\"Turnover\",\"Driving to the left\",\"Driving carelessly\",\"Driving to the left\",\"Driving carelessly\",\"No priority to pedestrian\",\"Changing lane to the right\",\"Moving Backward\",\"Driving carelessly\",\"Changing lane to the right\",\"Driving carelessly\",\"Driving carelessly\",\"Driving carelessly\",\"Changing lane to the right\",\"Changing lane to the right\",\"Driving carelessly\",\"Overtaking\",\"Changing lane to the right\",\"No distancing\",\"Other\",\"Changing lane to the right\",\"Changing lane to the right\",\"Overtaking\",\"Other\",\"Driving to the left\",\"No priority to vehicle\",\"No priority to vehicle\",\"No priority to pedestrian\",\"Changing lane to the right\",\"Changing lane to the right\",\"Driving to the left\",\"Changing lane to the left\",\"Moving Backward\",\"Driving at high speed\",\"No distancing\",\"Other\",\"No priority to vehicle\",\"Changing lane to the right\",\"Other\",\"No distancing\",\"Driving carelessly\",\"Moving Backward\",\"No distancing\",\"Moving Backward\",\"No priority to pedestrian\",\"Changing lane to the left\",\"No distancing\",\"Other\",\"No priority to pedestrian\",\"Moving Backward\",\"No priority to pedestrian\",\"No distancing\",\"No priority to pedestrian\",\"Driving carelessly\",\"Getting off the vehicle improperly\",\"Driving carelessly\",\"Changing lane to the left\",\"No priority to vehicle\",\"Changing lane to the right\",\"Changing lane to the right\",\"No distancing\",\"No distancing\",\"Changing lane to the left\",\"No priority to vehicle\",\"Changing lane to the left\",\"No priority to vehicle\",\"Moving Backward\",\"Turnover\",\"No distancing\",\"No distancing\",\"No distancing\",\"Changing lane to the left\",\"No priority to vehicle\",\"Driving at high speed\",\"Overtaking\",\"Other\",\"Changing lane to the left\",\"No distancing\",\"Moving Backward\",\"Changing lane to the left\",\"No distancing\",\"Changing lane to the left\",\"Driving carelessly\",\"Driving carelessly\",\"No priority to pedestrian\",\"Getting off the vehicle improperly\",\"No distancing\",\"Changing lane to the left\",\"No priority to vehicle\",\"No distancing\",\"No priority to pedestrian\",\"No priority to pedestrian\",\"No priority to vehicle\",\"Driving carelessly\",\"Changing lane to the left\",\"Moving Backward\",\"Driving carelessly\",\"Driving to the left\",\"Driving to the left\",\"No priority to pedestrian\",\"Changing lane to the left\",\"Changing lane to the right\",\"Driving carelessly\",\"No distancing\",\"Driving under the influence of drugs\",\"Changing lane to the right\",\"Driving carelessly\",\"Moving Backward\",\"Turnover\",\"Changing lane to the right\",\"Driving carelessly\",\"No priority to vehicle\",\"Changing lane to the left\",\"No distancing\",\"Driving carelessly\",\"Changing lane to the left\",\"No distancing\",\"No distancing\",\"No distancing\",\"Changing lane to the left\",\"No distancing\",\"No distancing\",\"No distancing\",\"Changing lane to the left\",\"Overtaking\",\"No priority to pedestrian\",\"No priority to vehicle\",\"Changing lane to the left\",\"Changing lane to the left\",\"Overtaking\",\"No distancing\",\"No priority to vehicle\",\"Changing lane to the right\",\"Changing lane to the left\",\"No distancing\",\"Driving carelessly\",\"No priority to pedestrian\",\"Moving Backward\",\"No distancing\",\"No distancing\",\"Changing lane to the left\",\"No priority to vehicle\",\"Driving carelessly\",\"Driving carelessly\",\"Driving under the influence of drugs\",\"No priority to pedestrian\",\"No priority to vehicle\",\"Driving carelessly\",\"Moving Backward\",\"Driving carelessly\",\"No priority to vehicle\",\"Changing lane to the right\",\"Changing lane to the left\",\"No priority to vehicle\",\"Driving carelessly\",\"Moving Backward\",\"No distancing\",\"Changing lane to the left\",\"Changing lane to the left\",\"No distancing\",\"Changing lane to the left\",\"Driving carelessly\",\"Changing lane to the left\",\"No distancing\",\"Changing lane to the right\",\"Driving to the left\",\"No distancing\",\"Overtaking\",\"Driving under the influence of drugs\",\"No priority to pedestrian\",\"Moving Backward\",\"Changing lane to the right\",\"Changing lane to the left\",\"Changing lane to the right\",\"Driving under the influence of drugs\",\"No priority to vehicle\",\"No priority to vehicle\",\"Changing lane to the right\",\"Getting off the vehicle improperly\",\"Overtaking\",\"Changing lane to the left\",\"Driving under the influence of drugs\",\"Driving carelessly\",\"No distancing\",\"No priority to vehicle\",\"Changing lane to the left\",\"Moving Backward\",\"No priority to vehicle\",\"No distancing\",\"No distancing\",\"Overtaking\",\"Driving under the influence of drugs\",\"Changing lane to the right\",\"Changing lane to the left\",\"Driving carelessly\",\"Moving Backward\",\"Moving Backward\",\"Changing lane to the right\",\"No priority to vehicle\",\"Driving at high speed\",\"Driving under the influence of drugs\",\"Changing lane to the right\",\"Driving carelessly\",\"No distancing\",\"Changing lane to the left\",\"No distancing\",\"Getting off the vehicle improperly\",\"Overtaking\",\"Driving carelessly\",\"Driving under the influence of drugs\",\"Moving Backward\",\"Driving under the influence of drugs\",\"No distancing\",\"Moving Backward\",\"Getting off the vehicle improperly\",\"Changing lane to the left\",\"No priority to vehicle\",\"Changing lane to the right\",\"Changing lane to the right\",\"Driving carelessly\",\"Changing lane to the left\",\"Driving under the influence of drugs\",\"Driving carelessly\",\"No distancing\",\"No priority to vehicle\",\"No priority to vehicle\",\"No priority to vehicle\",\"Changing lane to the left\",\"Moving Backward\",\"Driving carelessly\",\"Driving under the influence of drugs\",\"Changing lane to the right\",\"No priority to vehicle\",\"Changing lane to the right\",\"Driving to the left\",\"Moving Backward\",\"No priority to vehicle\",\"No distancing\",\"Driving carelessly\",\"Changing lane to the left\",\"No priority to vehicle\",\"No priority to vehicle\",\"No distancing\",\"Driving to the left\",\"Driving carelessly\",\"Driving carelessly\",\"Changing lane to the right\",\"Changing lane to the left\",\"Driving carelessly\",\"Driving under the influence of drugs\",\"Driving carelessly\",\"No distancing\",\"Driving carelessly\",\"Driving to the left\",\"Overtaking\",\"No distancing\",\"Driving carelessly\",\"No priority to vehicle\",\"No priority to vehicle\",\"No priority to vehicle\",\"No distancing\",\"Moving Backward\",\"No distancing\",\"Changing lane to the left\",\"No priority to pedestrian\",\"Moving Backward\",\"Changing lane to the left\",\"No distancing\",\"Changing lane to the right\",\"No distancing\",\"No distancing\",\"Getting off the vehicle improperly\",\"No priority to pedestrian\",\"Changing lane to the left\",\"No distancing\",\"Driving carelessly\",\"No distancing\",\"Changing lane to the right\",\"Overtaking\",\"Driving carelessly\",\"Moving Backward\",\"Overtaking\",\"Driving carelessly\",\"Driving carelessly\",\"Driving carelessly\",\"Driving to the left\",\"Changing lane to the left\",\"No distancing\",\"Changing lane to the right\",\"Driving under the influence of drugs\",\"Changing lane to the right\",\"Changing lane to the left\",\"Moving Backward\",\"No distancing\",\"Moving Backward\",\"No distancing\",\"Driving to the left\",\"Driving to the left\",\"Moving Backward\",\"Moving Backward\",\"Overtaking\",\"Driving carelessly\",\"Driving under the influence of drugs\",\"No distancing\",\"Moving Backward\",\"Changing lane to the left\",\"Changing lane to the right\",\"No distancing\",\"Driving at high speed\",\"Changing lane to the right\",\"No priority to vehicle\",\"No distancing\",\"Turnover\",\"No distancing\",\"Changing lane to the right\",\"No distancing\",\"Changing lane to the left\",\"Driving carelessly\",\"Changing lane to the right\",\"No priority to vehicle\",\"No distancing\",\"No priority to pedestrian\",\"No priority to pedestrian\",\"No priority to vehicle\",\"Changing lane to the left\",\"Changing lane to the left\",\"No distancing\",\"No priority to vehicle\",\"No distancing\",\"No distancing\",\"Changing lane to the right\",\"Changing lane to the left\",\"Overturning\",\"Moving Backward\",\"Driving under the influence of drugs\",\"Moving Backward\",\"Changing lane to the right\",\"Overspeed\",\"Driving under the influence of drugs\",\"Driving carelessly\",\"No distancing\",\"No priority to vehicle\",\"Overspeed\",\"Driving under the influence of drugs\",\"Changing lane to the right\",\"Changing lane to the right\",\"Changing lane to the right\",\"Overspeed\",\"No distancing\",\"Driving carelessly\",\"No distancing\",\"No distancing\",\"No distancing\",\"No distancing\",\"No priority to vehicle\",\"Changing lane to the left\",\"Driving carelessly\",\"Changing lane to the left\",\"No distancing\",\"No distancing\",\"Overturning\",\"No distancing\",\"Drunk driving\",\"Moving Backward\",\"No priority to pedestrian\",\"Changing lane to the left\",\"Changing lane to the left\",\"No distancing\",\"Changing lane to the right\",\"Changing lane to the right\",\"Moving Backward\",\"Driving at high speed\",\"Changing lane to the left\",\"Changing lane to the right\",\"No distancing\",\"Changing lane to the right\",\"Changing lane to the right\",\"Driving carelessly\",\"Driving carelessly\",\"Changing lane to the right\",\"No distancing\",\"Overturning\",\"Driving carelessly\",\"Changing lane to the right\",\"Driving at high speed\",\"Changing lane to the left\",\"Driving carelessly\",\"Moving Backward\",\"No priority to pedestrian\",\"Moving Backward\",\"Changing lane to the right\",\"No distancing\",\"Drunk driving\",\"Driving carelessly\",\"Driving to the left\",\"Changing lane to the right\",\"Changing lane to the right\",\"Driving carelessly\",\"Changing lane to the left\",\"No priority to vehicle\",\"Driving carelessly\",\"Changing lane to the right\",\"Driving carelessly\",\"No distancing\",\"Changing lane to the left\",\"No priority to vehicle\",\"Moving Backward\",\"Moving Backward\",\"No distancing\",\"Changing lane to the right\",\"Changing lane to the right\",\"Driving carelessly\",\"Driving under the influence of drugs\",\"No distancing\",\"No distancing\",\"No priority to vehicle\",\"Driving to the left\",\"No priority to vehicle\",\"No priority to vehicle\",\"No priority to vehicle\",\"No distancing\",\"Changing lane to the right\",\"Changing lane to the left\",\"No distancing\",\"Driving under the influence of drugs\",\"No distancing\",\"Overturning\",\"No distancing\",\"Changing lane to the right\",\"No priority to vehicle\",\"Changing lane to the right\",\"Changing lane to the left\",\"No distancing\",\"No priority to pedestrian\",\"Driving carelessly\",\"No distancing\",\"Driving carelessly\",\"Driving carelessly\",\"Moving Backward\",\"Overtaking\",\"No priority to vehicle\",\"No priority to vehicle\",\"No distancing\",\"Moving Backward\",\"Changing lane to the right\",\"No distancing\",\"Overtaking\",\"No distancing\",\"Changing lane to the left\",\"No distancing\",\"Changing lane to the right\",\"Moving Backward\",\"No distancing\",\"No distancing\",\"Driving carelessly\",\"Moving Backward\",\"No distancing\",\"Changing lane to the right\",\"Driving to the left\",\"Changing lane to the right\",\"Driving carelessly\",\"No priority to vehicle\",\"Changing lane to the right\",\"Turnover\",\"No priority to vehicle\",\"Driving at high speed\",\"No distancing\",\"No distancing\",\"Driving carelessly\",\"Driving carelessly\",\"Moving Backward\",\"No distancing\",\"Changing lane to the right\",\"Overtaking\",\"No distancing\",\"Overtaking\",\"No distancing\",\"No distancing\",\"No priority to vehicle\",\"Changing lane to the left\",\"No distancing\",\"Changing lane to the left\",\"Overtaking\",\"Changing lane to the right\",\"Changing lane to the right\",\"Moving Backward\",\"Moving Backward\",\"Changing lane to the left\",\"Moving Backward\",\"No distancing\",\"Changing lane to the right\",\"No priority to vehicle\",\"No distancing\",\"No priority to vehicle\",\"Driving under the influence of drugs\",\"Changing lane to the right\",\"No distancing\",\"Changing lane to the left\",\"Changing lane to the right\",\"Changing lane to the right\",\"Driving under the influence of drugs\",\"Moving Backward\",\"Changing lane to the left\",\"No priority to pedestrian\",\"No distancing\",\"Driving carelessly\",\"No distancing\",\"Changing lane to the left\",\"Moving Backward\",\"No distancing\",\"No priority to pedestrian\",\"Changing lane to the left\",\"No priority to vehicle\",\"No priority to pedestrian\",\"Changing lane to the left\",\"Driving under the influence of drugs\",\"Moving Backward\",\"Changing lane to the right\",\"Changing lane to the right\",\"Moving Backward\",\"No distancing\",\"No priority to pedestrian\",\"No priority to vehicle\",\"Moving Backward\",\"Changing lane to the right\",\"No distancing\",\"Driving carelessly\",\"Changing lane to the left\",\"Moving Backward\",\"Changing lane to the right\",\"No priority to vehicle\",\"Getting off the vehicle improperly\",\"No distancing\",\"Changing lane to the left\",\"No priority to vehicle\",\"Driving carelessly\",\"Changing lane to the right\",\"No distancing\",\"Changing lane to the right\",\"No distancing\",\"Driving under the influence of drugs\",\"Changing lane to the left\",\"Overloading\",\"Driving carelessly\",\"Overtaking\",\"No distancing\",\"Driving carelessly\",\"No priority to pedestrian\",\"No distancing\",\"Getting off the vehicle improperly\",\"Changing lane to the right\",\"Moving Backward\",\"Changing lane to the left\",\"No distancing\",\"Driving carelessly\",\"Driving under the influence of drugs\",\"Driving carelessly\",\"Driving carelessly\",\"Changing lane to the right\",\"Driving carelessly\",\"No priority to pedestrian\",\"No distancing\",\"Moving Backward\",\"Moving Backward\",\"No priority to vehicle\",\"No distancing\",\"Moving Backward\",\"Changing lane to the right\",\"Moving Backward\",\"Changing lane to the right\",\"Driving carelessly\",\"Changing lane to the right\",\"No distancing\",\"Moving Backward\",\"No distancing\",\"No priority to vehicle\",\"Changing lane to the right\",\"Moving Backward\",\"Driving under the influence of drugs\",\"Changing lane to the right\",\"No priority to vehicle\",\"Changing lane to the left\",\"No priority to pedestrian\",\"No priority to pedestrian\",\"Changing lane to the right\",\"Drunk driving\",\"Changing lane to the left\",\"Changing lane to the left\",\"Driving to the left\",\"Changing lane to the left\",\"Driving under the influence of drugs\",\"No priority to pedestrian\",\"Changing lane to the left\",\"No distancing\",\"Moving Backward\",\"Changing lane to the left\",\"Changing lane to the right\",\"Overtaking\",\"Overloading\",\"Other\",\"No priority to vehicle\",\"Changing lane to the right\",\"Changing lane to the left\",\"No priority to pedestrian\",\"No distancing\",\"No priority to vehicle\",\"No distancing\",\"Moving Backward\",\"Changing lane to the right\",\"No priority to pedestrian\",\"Getting off the vehicle improperly\",\"Overtaking\",\"Overloading\",\"Improper parking\",\"Other\",\"Changing lane to the right\",\"No priority to pedestrian\",\"Overspeed\",\"Changing lane to the left\",\"No priority to vehicle\",\"No distancing\",\"No priority to pedestrian\",\"No distancing\",\"No priority to vehicle\",\"Driving carelessly\",\"No priority to vehicle\",\"No distancing\",\"Changing lane to the right\",\"No distancing\",\"Changing lane to the right\",\"Changing lane to the left\",\"Getting off the vehicle improperly\",\"Other\",\"No distancing\",\"No priority to vehicle\",\"Changing lane to the right\",\"Changing lane to the right\",\"Overtaking\",\"Other\",\"Driving to the left\",\"Driving at high speed\",\"Changing lane to the right\",\"No distancing\",\"Other\",\"No priority to vehicle\",\"Changing lane to the left\",\"No priority to pedestrian\",\"Overtaking\",\"Driving carelessly\",\"No priority to vehicle\",\"Driving carelessly\",\"Changing lane to the right\",\"Changing lane to the right\",\"Changing lane to the left\",\"Overturning\",\"Driving carelessly\",\"No priority to vehicle\",\"Changing lane to the right\",\"Moving Backward\",\"No distancing\",\"No distancing\",\"No distancing\",\"No priority to pedestrian\",\"Changing lane to the right\",\"Driving carelessly\",\"No distancing\",\"Other\",\"Changing lane to the right\",\"Changing lane to the right\",\"No distancing\",\"Overturning\",\"No priority to vehicle\",\"Other\",\"Moving Backward\",\"No priority to vehicle\",\"Driving carelessly\",\"No distancing\",\"Other\",\"Changing lane to the right\",\"No distancing\",\"Driving carelessly\",\"No distancing\",\"No priority to vehicle\",\"Changing lane to the right\",\"No priority to pedestrian\",\"No priority to vehicle\",\"Turnover\",\"Driving to the left\",\"Driving to the left\",\"Changing lane to the right\",\"Driving carelessly\",\"Changing lane to the right\",\"Driving carelessly\",\"Driving carelessly\",\"Driving carelessly\",\"Changing lane to the right\",\"Changing lane to the right\",\"Driving carelessly\",\"Overtaking\",\"Changing lane to the right\",\"Changing lane to the right\",\"Changing lane to the right\",\"Overtaking\",\"Other\",\"Driving to the left\",\"Overtaking\",\"No priority to vehicle\",\"Moving Backward\",\"Other\",\"No priority to pedestrian\",\"Changing lane to the right\",\"Changing lane to the right\",\"Changing lane to the left\",\"Moving Backward\",\"Driving at high speed\",\"No distancing\",\"Other\",\"No priority to vehicle\",\"Other\",\"No distancing\",\"Driving carelessly\",\"No distancing\",\"No distancing\",\"Moving Backward\",\"No priority to pedestrian\",\"Changing lane to the left\",\"No distancing\",\"No distancing\",\"Moving Backward\",\"No priority to pedestrian\",\"Driving carelessly\",\"Getting off the vehicle improperly\",\"Driving carelessly\",\"Changing lane to the left\",\"No priority to vehicle\",\"Changing lane to the right\",\"No distancing\",\"No priority to vehicle\",\"Changing lane to the left\",\"No priority to vehicle\",\"Turnover\",\"No distancing\",\"No distancing\",\"No distancing\",\"Changing lane to the left\",\"No priority to vehicle\",\"Driving at high speed\",\"Overtaking\",\"Other\",\"Changing lane to the left\",\"No priority to pedestrian\",\"No distancing\",\"Moving Backward\",\"Other\",\"Moving Backward\",\"No distancing\",\"Changing lane to the left\",\"No priority to pedestrian\",\"Changing lane to the left\",\"Driving carelessly\",\"Driving carelessly\",\"No priority to pedestrian\",\"Getting off the vehicle improperly\",\"No distancing\",\"Changing lane to the left\",\"No priority to vehicle\",\"No distancing\",\"No priority to vehicle\",\"Driving carelessly\",\"Driving carelessly\",\"Driving to the left\",\"No priority to pedestrian\",\"Changing lane to the right\",\"Driving carelessly\",\"No distancing\",\"Getting off the vehicle improperly\",\"Driving under the influence of drugs\",\"Changing lane to the right\",\"Driving carelessly\",\"Moving Backward\",\"Turnover\",\"Driving carelessly\",\"No priority to vehicle\",\"Changing lane to the left\",\"Overturning\",\"No distancing\",\"Driving carelessly\",\"No distancing\",\"Changing lane to the left\",\"No priority to pedestrian\",\"No distancing\",\"No distancing\",\"Changing lane to the left\",\"No distancing\",\"Changing lane to the left\",\"No distancing\",\"No distancing\",\"No distancing\",\"Changing lane to the left\",\"Changing lane to the right\",\"Moving Backward\",\"Changing lane to the right\",\"No distancing\",\"Overtaking\",\"Other\",\"Other\",\"Changing lane to the right\",\"No priority to pedestrian\",\"No priority to vehicle\",\"Changing lane to the left\",\"Overtaking\",\"No priority to vehicle\",\"Changing lane to the right\",\"Changing lane to the left\",\"No distancing\",\"Driving carelessly\",\"No priority to pedestrian\",\"Driving carelessly\",\"Moving Backward\",\"No distancing\",\"No distancing\",\"No distancing\",\"Changing lane to the left\",\"Changing lane to the left\",\"Moving Backward\",\"Changing lane to the right\",\"No priority to vehicle\",\"Moving Backward\",\"Driving carelessly\",\"Driving carelessly\",\"Driving under the influence of drugs\",\"No priority to pedestrian\",\"No priority to vehicle\",\"Driving carelessly\",\"Moving Backward\",\"Driving carelessly\",\"No priority to vehicle\",\"Changing lane to the left\",\"No priority to vehicle\",\"Driving carelessly\",\"Moving Backward\",\"No distancing\",\"Changing lane to the left\",\"Changing lane to the left\",\"No distancing\",\"Changing lane to the left\",\"Changing lane to the left\",\"No distancing\",\"Changing lane to the right\",\"No distancing\",\"Driving to the left\",\"Overtaking\",\"No priority to pedestrian\",\"Moving Backward\",\"Changing lane to the right\",\"Driving under the influence of drugs\",\"No priority to vehicle\",\"No priority to vehicle\",\"Changing lane to the left\",\"Changing lane to the right\",\"Changing lane to the right\",\"Changing lane to the left\",\"Getting off the vehicle improperly\",\"Overtaking\",\"Changing lane to the left\",\"No distancing\",\"No priority to vehicle\",\"Changing lane to the left\",\"Moving Backward\",\"No priority to vehicle\",\"No priority to vehicle\",\"No distancing\",\"No distancing\",\"Overtaking\",\"Changing lane to the right\",\"Changing lane to the left\",\"Driving carelessly\",\"Moving Backward\",\"Changing lane to the right\",\"No priority to vehicle\",\"Driving at high speed\",\"Driving under the influence of drugs\",\"Changing lane to the right\",\"Driving carelessly\",\"No distancing\",\"Changing lane to the left\",\"No distancing\",\"No distancing\",\"Getting off the vehicle improperly\",\"Overtaking\",\"Driving carelessly\",\"Driving under the influence of drugs\",\"Moving Backward\",\"Overturning\",\"Driving under the influence of drugs\",\"Changing lane to the right\",\"Changing lane to the left\",\"No distancing\",\"No distancing\",\"No priority to vehicle\",\"Moving Backward\",\"Moving Backward\",\"Getting off the vehicle improperly\",\"Changing lane to the left\",\"No priority to vehicle\",\"Changing lane to the right\",\"Changing lane to the right\",\"Driving carelessly\",\"Changing lane to the right\",\"Driving under the influence of drugs\",\"Driving carelessly\",\"No distancing\",\"No priority to vehicle\",\"No priority to vehicle\",\"No priority to vehicle\",\"Changing lane to the left\",\"Moving Backward\",\"Driving carelessly\",\"Changing lane to the right\",\"No priority to vehicle\",\"Changing lane to the right\",\"Moving Backward\",\"No priority to vehicle\",\"No distancing\",\"Driving carelessly\",\"Changing lane to the left\",\"No priority to vehicle\",\"No priority to vehicle\",\"No distancing\",\"Driving to the left\",\"Driving carelessly\",\"Driving carelessly\",\"Changing lane to the right\",\"Driving carelessly\",\"Changing lane to the left\",\"Driving carelessly\",\"Driving under the influence of drugs\",\"Driving carelessly\",\"No distancing\",\"Driving carelessly\",\"Driving to the left\",\"Overtaking\",\"No priority to vehicle\",\"No priority to vehicle\",\"No priority to vehicle\",\"Changing lane to the left\",\"Changing lane to the left\",\"No priority to pedestrian\",\"Moving Backward\",\"Changing lane to the left\",\"No distancing\",\"No priority to vehicle\",\"No distancing\",\"No distancing\",\"Getting off the vehicle improperly\",\"No priority to pedestrian\",\"No distancing\",\"Driving carelessly\",\"No distancing\",\"Changing lane to the right\",\"Overtaking\",\"Driving carelessly\",\"Moving Backward\",\"No distancing\",\"Overtaking\",\"Driving carelessly\",\"Moving Backward\",\"Driving carelessly\",\"Driving to the left\",\"No distancing\",\"No distancing\",\"Changing lane to the right\",\"Driving under the influence of drugs\",\"Changing lane to the right\",\"Changing lane to the left\",\"Moving Backward\",\"No distancing\",\"Changing lane to the right\",\"Moving Backward\",\"No distancing\",\"Driving to the left\",\"Moving Backward\",\"Moving Backward\",\"Overtaking\",\"Driving carelessly\",\"Changing lane to the left\",\"Driving under the influence of drugs\",\"No distancing\",\"Moving Backward\",\"Changing lane to the left\",\"Changing lane to the right\",\"No distancing\",\"Driving at high speed\",\"Changing lane to the right\",\"No priority to vehicle\",\"No distancing\",\"Turnover\",\"No distancing\",\"No distancing\",\"Changing lane to the right\",\"No distancing\",\"No priority to pedestrian\",\"No priority to pedestrian\",\"Changing lane to the left\",\"Changing lane to the left\",\"No priority to vehicle\",\"No distancing\",\"Changing lane to the left\",\"No distancing\",\"Moving Backward\",\"Driving under the influence of drugs\",\"Moving Backward\",\"Changing lane to the right\",\"Overspeed\",\"Driving under the influence of drugs\",\"No distancing\",\"Overspeed\",\"Driving under the influence of drugs\",\"Changing lane to the right\",\"Changing lane to the right\",\"Changing lane to the right\",\"Moving Backward\",\"No distancing\",\"Overspeed\",\"No distancing\",\"Driving carelessly\",\"No distancing\",\"No distancing\",\"Changing lane to the right\",\"No distancing\",\"No priority to vehicle\",\"Changing lane to the left\",\"Driving carelessly\",\"No distancing\",\"Drunk driving\",\"Moving Backward\",\"No priority to pedestrian\",\"Changing lane to the left\",\"Changing lane to the left\",\"Getting off the vehicle improperly\",\"No distancing\",\"Changing lane to the right\",\"Changing lane to the right\",\"Moving Backward\",\"Driving at high speed\",\"Changing lane to the left\",\"Changing lane to the right\",\"No distancing\",\"Changing lane to the right\",\"Changing lane to the right\",\"No distancing\",\"Changing lane to the right\",\"Driving carelessly\",\"Driving carelessly\",\"Changing lane to the right\",\"Changing lane to the right\",\"Moving Backward\",\"Overturning\",\"Driving carelessly\",\"Changing lane to the right\",\"Driving at high speed\",\"Changing lane to the left\",\"Driving carelessly\",\"No distancing\",\"Moving Backward\",\"No priority to pedestrian\",\"Moving Backward\",\"No distancing\",\"Driving carelessly\",\"Changing lane to the right\",\"Driving carelessly\",\"Changing lane to the left\",\"No priority to vehicle\",\"Driving carelessly\",\"Changing lane to the right\",\"Driving carelessly\",\"Driving under the influence of drugs\",\"No distancing\",\"Changing lane to the left\",\"No priority to vehicle\",\"Moving Backward\",\"Moving Backward\",\"No distancing\",\"Changing lane to the right\",\"Changing lane to the right\",\"Driving carelessly\",\"Driving under the influence of drugs\",\"No distancing\",\"No distancing\",\"No priority to vehicle\",\"No priority to vehicle\",\"No priority to vehicle\",\"No priority to vehicle\",\"No distancing\",\"Moving Backward\",\"Changing lane to the right\",\"Changing lane to the left\",\"No distancing\",\"Changing lane to the right\",\"Driving under the influence of drugs\",\"No distancing\",\"Overturning\",\"Changing lane to the right\",\"Changing lane to the right\",\"Changing lane to the left\",\"No priority to pedestrian\",\"Driving carelessly\",\"No distancing\",\"Driving carelessly\",\"Moving Backward\",\"Overtaking\",\"No priority to vehicle\",\"No priority to vehicle\",\"Changing lane to the left\",\"No priority to vehicle\",\"No distancing\",\"Moving Backward\",\"No distancing\",\"Overtaking\",\"No distancing\",\"Changing lane to the left\",\"Driving under the influence of drugs\",\"No distancing\",\"No distancing\",\"Changing lane to the right\",\"Changing lane to the left\",\"Moving Backward\",\"No distancing\",\"No distancing\",\"Driving carelessly\",\"No distancing\",\"Changing lane to the right\",\"Driving carelessly\",\"Driving to the left\",\"Driving carelessly\",\"Changing lane to the right\",\"No priority to vehicle\",\"Changing lane to the right\",\"Turnover\",\"No priority to vehicle\",\"Driving at high speed\",\"No distancing\",\"No distancing\",\"Moving Backward\",\"Changing lane to the right\",\"Overtaking\",\"No distancing\",\"Overtaking\",\"Moving Backward\",\"No distancing\",\"No distancing\",\"No priority to vehicle\",\"Changing lane to the left\",\"No distancing\",\"Driving under the influence of drugs\",\"Changing lane to the left\",\"Driving to the left\",\"Driving at high speed\",\"Overtaking\",\"Changing lane to the right\",\"Changing lane to the right\",\"Moving Backward\",\"Changing lane to the left\",\"Moving Backward\",\"Moving Backward\",\"Changing lane to the right\",\"Changing lane to the left\",\"No priority to vehicle\",\"No distancing\",\"No priority to vehicle\",\"Driving under the influence of drugs\",\"No distancing\",\"No distancing\",\"Changing lane to the left\",\"Changing lane to the right\",\"Driving under the influence of drugs\",\"Moving Backward\",\"Changing lane to the left\",\"No distancing\",\"No distancing\",\"Changing lane to the left\",\"Changing lane to the right\",\"Driving carelessly\",\"No distancing\",\"Changing lane to the left\",\"Moving Backward\",\"No priority to pedestrian\",\"Changing lane to the left\",\"No distancing\",\"Driving carelessly\",\"No priority to vehicle\",\"Changing lane to the right\",\"Moving Backward\",\"No priority to vehicle\",\"No priority to pedestrian\",\"Changing lane to the left\",\"Changing lane to the left\",\"Driving under the influence of drugs\",\"Moving Backward\",\"Changing lane to the right\",\"Changing lane to the right\",\"No distancing\",\"Moving Backward\",\"No distancing\",\"No priority to pedestrian\",\"No priority to vehicle\",\"Moving Backward\",\"Changing lane to the right\",\"No distancing\",\"Driving carelessly\",\"Changing lane to the left\",\"Moving Backward\",\"No distancing\",\"Changing lane to the right\",\"No priority to vehicle\",\"Getting off the vehicle improperly\",\"No distancing\",\"No distancing\",\"Changing lane to the left\",\"No priority to vehicle\",\"Changing lane to the right\",\"No distancing\",\"Changing lane to the right\",\"Driving under the influence of drugs\",\"Getting off the vehicle improperly\",\"Overloading\",\"Driving carelessly\",\"Overtaking\",\"No distancing\",\"Driving carelessly\",\"No distancing\",\"No priority to vehicle\",\"Getting off the vehicle improperly\",\"No priority to pedestrian\",\"Changing lane to the right\",\"Moving Backward\",\"Changing lane to the left\",\"Driving carelessly\",\"Driving under the influence of drugs\",\"Driving carelessly\",\"Driving carelessly\",\"Changing lane to the right\",\"Driving carelessly\",\"No priority to pedestrian\",\"No distancing\",\"Moving Backward\",\"Moving Backward\",\"No distancing\",\"Moving Backward\",\"Changing lane to the right\",\"Moving Backward\",\"Changing lane to the right\",\"Driving carelessly\",\"Changing lane to the right\",\"Moving Backward\",\"No distancing\",\"No priority to vehicle\",\"Moving Backward\",\"Changing lane to the right\",\"No priority to vehicle\",\"Driving carelessly\",\"No priority to pedestrian\",\"No priority to pedestrian\",\"Changing lane to the right\",\"Drunk driving\",\"Changing lane to the left\",\"Driving to the left\",\"Changing lane to the left\",\"Driving under the influence of drugs\",\"No priority to pedestrian\",\"Changing lane to the left\",\"No distancing\",\"Changing lane to the right\",\"No priority to vehicle\",\"Moving Backward\",\"Overtaking\",\"Changing lane to the left\",\"Changing lane to the right\",\"Overloading\",\"Other\",\"No priority to vehicle\",\"Changing lane to the right\",\"Changing lane to the left\",\"No distancing\",\"No distancing\",\"No distancing\",\"Moving Backward\",\"Changing lane to the right\",\"No priority to pedestrian\",\"Getting off the vehicle improperly\",\"Overtaking\",\"Changing lane to the right\",\"Improper parking\",\"Other\",\"Changing lane to the right\",\"No priority to vehicle\",\"Changing lane to the right\",\"No distancing\",\"No priority to pedestrian\",\"No distancing\",\"No priority to vehicle\",\"Other\",\"Driving carelessly\",\"Changing lane to the left\",\"Changing lane to the left\",\"No priority to vehicle\",\"No distancing\",\"Changing lane to the right\",\"Changing lane to the right\",\"No distancing\",\"Changing lane to the left\",\"Getting off the vehicle improperly\",\"Other\",\"Other\",\"No distancing\",\"No priority to vehicle\",\"Overtaking\",\"No priority to pedestrian\",\"No distancing\",\"Changing lane to the right\",\"Driving carelessly\",\"Changing lane to the right\",\"Overtaking\",\"Other\",\"Driving to the left\",\"Driving at high speed\",\"No distancing\",\"No priority to vehicle\",\"Changing lane to the left\",\"No priority to pedestrian\",\"Overtaking\",\"Driving carelessly\",\"No priority to vehicle\",\"Changing lane to the right\",\"Changing lane to the right\",\"Overturning\",\"Driving carelessly\",\"No distancing\",\"Driving carelessly\",\"Changing lane to the left\",\"No priority to vehicle\",\"Changing lane to the right\",\"No distancing\",\"Moving Backward\",\"No distancing\",\"No distancing\",\"No priority to pedestrian\",\"Driving carelessly\",\"Changing lane to the left\",\"Driving carelessly\",\"Driving carelessly\",\"No distancing\",\"Other\",\"Changing lane to the right\",\"Changing lane to the right\",\"No distancing\",\"No distancing\",\"Overturning\",\"Driving at high speed\",\"No priority to vehicle\",\"No priority to pedestrian\",\"No priority to vehicle\",\"Other\",\"Other\",\"Moving Backward\",\"No distancing\",\"Moving Backward\",\"Driving carelessly\",\"No distancing\",\"Other\",\"Changing lane to the right\",\"No distancing\",\"Driving carelessly\",\"No distancing\",\"No priority to vehicle\",\"Changing lane to the right\",\"No priority to pedestrian\",\"Changing lane to the left\",\"Driving to the left\",\"Driving to the left\",\"Driving carelessly\",\"No priority to pedestrian\",\"Driving carelessly\",\"Changing lane to the right\",\"Moving Backward\",\"Driving carelessly\",\"Changing lane to the right\",\"Driving carelessly\",\"Driving carelessly\",\"Driving carelessly\",\"Changing lane to the right\",\"Changing lane to the right\",\"Changing lane to the right\",\"No distancing\",\"Other\",\"Changing lane to the right\",\"Driving to the left\",\"No priority to vehicle\",\"Other\",\"Changing lane to the right\",\"Changing lane to the right\",\"Driving to the left\",\"Changing lane to the left\",\"Moving Backward\",\"Driving at high speed\",\"Moving Backward\",\"No distancing\",\"Changing lane to the right\",\"Other\",\"Driving carelessly\",\"No distancing\",\"Moving Backward\",\"No distancing\",\"Moving Backward\",\"No priority to pedestrian\",\"Changing lane to the left\",\"No distancing\",\"Other\",\"No priority to pedestrian\",\"Moving Backward\",\"No priority to pedestrian\",\"No priority to pedestrian\",\"Driving carelessly\",\"Driving carelessly\",\"Changing lane to the right\",\"No distancing\",\"No distancing\",\"Changing lane to the right\",\"Changing lane to the left\",\"No priority to vehicle\",\"Moving Backward\",\"Turnover\",\"No distancing\",\"No distancing\",\"No distancing\",\"Changing lane to the left\",\"No priority to vehicle\",\"Driving at high speed\",\"Overtaking\",\"Changing lane to the left\",\"No priority to pedestrian\",\"Changing lane to the left\",\"No distancing\",\"Moving Backward\",\"Changing lane to the left\",\"Other\",\"No distancing\",\"No distancing\",\"Changing lane to the left\",\"No priority to pedestrian\",\"Driving carelessly\",\"Driving carelessly\",\"No priority to pedestrian\",\"Getting off the vehicle improperly\",\"No distancing\",\"Changing lane to the left\",\"No priority to vehicle\",\"No distancing\",\"No priority to pedestrian\",\"No priority to pedestrian\",\"No priority to vehicle\",\"Driving carelessly\",\"Changing lane to the right\",\"Changing lane to the left\",\"Moving Backward\",\"Driving carelessly\",\"Driving to the left\",\"Driving to the left\",\"Changing lane to the left\",\"Changing lane to the right\",\"Driving carelessly\",\"No distancing\",\"Driving under the influence of drugs\",\"Turnover\",\"Changing lane to the right\",\"Driving carelessly\",\"No priority to vehicle\",\"Moving Backward\",\"Changing lane to the left\",\"Overturning\",\"No distancing\",\"Driving carelessly\",\"No distancing\",\"Changing lane to the left\",\"No priority to pedestrian\",\"No distancing\",\"No distancing\",\"Changing lane to the left\",\"Changing lane to the left\",\"No distancing\",\"No distancing\",\"No distancing\",\"Changing lane to the left\",\"Changing lane to the right\",\"Moving Backward\",\"Changing lane to the right\",\"No distancing\",\"Other\",\"No priority to pedestrian\",\"No priority to vehicle\",\"Changing lane to the left\",\"Changing lane to the left\",\"Overtaking\",\"No distancing\",\"No priority to vehicle\",\"Changing lane to the right\",\"Changing lane to the left\",\"No distancing\",\"Driving carelessly\",\"Driving carelessly\",\"Moving Backward\",\"No distancing\",\"No distancing\",\"Changing lane to the left\",\"Changing lane to the left\",\"Moving Backward\",\"No priority to vehicle\",\"Moving Backward\",\"Changing lane to the left\",\"Changing lane to the right\",\"Overtaking\",\"Overloading\",\"Other\",\"Changing lane to the right\",\"Moving Backward\",\"Changing lane to the left\",\"No priority to pedestrian\",\"No distancing\",\"No priority to vehicle\",\"No distancing\",\"Moving Backward\",\"Changing lane to the right\",\"No priority to pedestrian\",\"Changing lane to the right\",\"No priority to pedestrian\",\"Overspeed\",\"Changing lane to the left\",\"Changing lane to the right\",\"No distancing\",\"No distancing\",\"No priority to vehicle\",\"Other\",\"Driving carelessly\",\"Driving carelessly\",\"Changing lane to the left\",\"No priority to vehicle\",\"No distancing\",\"Changing lane to the right\",\"Changing lane to the right\",\"Getting off the vehicle improperly\",\"Other\",\"Other\",\"No distancing\",\"No priority to vehicle\",\"Overtaking\",\"No priority to pedestrian\",\"No distancing\",\"Changing lane to the right\",\"Overtaking\",\"Driving to the left\",\"Driving at high speed\",\"Unknown\",\"Changing lane to the right\",\"Other\",\"No priority to vehicle\",\"Changing lane to the left\",\"No priority to pedestrian\",\"Overtaking\",\"Driving carelessly\",\"No priority to vehicle\",\"No priority to pedestrian\",\"Changing lane to the right\",\"Driving carelessly\",\"Changing lane to the right\",\"Changing lane to the left\",\"Driving carelessly\",\"Driving carelessly\",\"Changing lane to the left\",\"No priority to vehicle\",\"No distancing\",\"Moving Backward\",\"Moving Backward\",\"No distancing\",\"No distancing\",\"No distancing\",\"No priority to pedestrian\",\"Driving carelessly\",\"Changing lane to the right\",\"Changing lane to the left\",\"No distancing\",\"Other\",\"Changing lane to the right\",\"No distancing\",\"Driving at high speed\",\"No priority to vehicle\",\"No priority to vehicle\",\"Other\",\"Other\",\"Moving Backward\",\"No distancing\",\"Moving Backward\",\"No priority to vehicle\",\"Driving carelessly\",\"Changing lane to the right\",\"No distancing\",\"No distancing\",\"No priority to vehicle\",\"Changing lane to the right\",\"Changing lane to the left\",\"Driving to the left\",\"Driving carelessly\",\"Driving to the left\",\"Driving carelessly\",\"No priority to pedestrian\",\"Driving carelessly\",\"Moving Backward\",\"Changing lane to the right\",\"Driving carelessly\",\"Driving carelessly\",\"Driving carelessly\",\"Changing lane to the right\",\"Driving carelessly\",\"Overtaking\",\"Changing lane to the right\",\"No distancing\",\"Other\",\"Changing lane to the right\",\"Changing lane to the right\",\"Overtaking\",\"Other\",\"Driving to the left\",\"Overtaking\",\"No priority to vehicle\",\"Moving Backward\",\"Other\",\"No priority to vehicle\",\"No priority to pedestrian\",\"Changing lane to the right\",\"Changing lane to the right\",\"Changing lane to the right\",\"Driving to the left\",\"Changing lane to the left\",\"Moving Backward\",\"Driving at high speed\",\"Moving Backward\",\"No distancing\",\"Other\",\"No priority to vehicle\",\"Changing lane to the right\",\"Other\",\"No distancing\",\"No distancing\",\"Moving Backward\",\"No distancing\",\"Changing lane to the left\",\"No distancing\",\"Other\",\"No distancing\",\"No priority to pedestrian\",\"No distancing\",\"No priority to pedestrian\",\"Driving carelessly\",\"Getting off the vehicle improperly\",\"Driving carelessly\",\"Changing lane to the left\",\"No priority to vehicle\",\"No distancing\",\"No distancing\",\"Changing lane to the left\",\"Changing lane to the right\",\"No priority to vehicle\",\"No priority to vehicle\",\"No distancing\",\"No distancing\",\"Changing lane to the left\",\"Driving at high speed\",\"Overtaking\",\"Other\",\"No priority to pedestrian\",\"Changing lane to the left\",\"No distancing\",\"Moving Backward\",\"Changing lane to the left\",\"Other\",\"No distancing\",\"Moving Backward\",\"No distancing\",\"Changing lane to the left\",\"No priority to pedestrian\",\"Driving carelessly\",\"Driving carelessly\",\"No priority to pedestrian\",\"Getting off the vehicle improperly\",\"No distancing\",\"Changing lane to the left\",\"No priority to vehicle\",\"No distancing\",\"No priority to pedestrian\",\"No priority to pedestrian\",\"Driving carelessly\",\"Changing lane to the right\",\"Changing lane to the left\",\"Moving Backward\",\"Driving carelessly\",\"Driving to the left\",\"Driving to the left\",\"No priority to pedestrian\",\"Changing lane to the left\",\"Changing lane to the right\",\"Driving carelessly\",\"No distancing\",\"Getting off the vehicle improperly\",\"Driving under the influence of drugs\",\"Changing lane to the right\",\"Driving carelessly\",\"Moving Backward\",\"Turnover\",\"Changing lane to the right\",\"Driving carelessly\",\"No priority to vehicle\",\"Moving Backward\",\"Changing lane to the left\",\"Overturning\",\"No distancing\",\"No distancing\",\"Changing lane to the left\",\"No priority to pedestrian\",\"No distancing\",\"No distancing\",\"Changing lane to the left\",\"No distancing\",\"Changing lane to the left\",\"No distancing\",\"No distancing\",\"Changing lane to the left\",\"Changing lane to the right\",\"Overtaking\",\"Other\",\"Other\",\"Changing lane to the right\",\"No priority to pedestrian\",\"No priority to vehicle\",\"Changing lane to the left\",\"Changing lane to the left\",\"Overtaking\",\"No distancing\",\"No distancing\",\"Driving carelessly\",\"Moving Backward\",\"No distancing\",\"No distancing\",\"No distancing\",\"Changing lane to the left\",\"Changing lane to the right\",\"Moving Backward\",\"Driving carelessly\",\"No priority to vehicle\",\"Driving carelessly\",\"Moving Backward\",\"Driving carelessly\",\"No priority to vehicle\",\"Changing lane to the right\",\"Changing lane to the left\",\"Driving carelessly\",\"Moving Backward\",\"Overtaking\",\"Changing lane to the left\",\"Changing lane to the right\",\"Overtaking\",\"Overloading\",\"Other\",\"No priority to vehicle\",\"Changing lane to the right\",\"Moving Backward\",\"Changing lane to the left\",\"No priority to pedestrian\",\"No distancing\",\"No priority to vehicle\",\"No distancing\",\"Changing lane to the right\",\"Moving Backward\",\"Getting off the vehicle improperly\",\"Overloading\",\"Changing lane to the right\",\"Improper parking\",\"Other\",\"Changing lane to the left\",\"Changing lane to the right\",\"No priority to pedestrian\",\"Overspeed\",\"Changing lane to the left\",\"No priority to vehicle\",\"No distancing\",\"No priority to pedestrian\",\"No distancing\",\"No priority to vehicle\",\"Other\",\"Driving carelessly\",\"Changing lane to the left\",\"Driving carelessly\",\"Changing lane to the left\",\"No priority to vehicle\",\"No distancing\",\"Changing lane to the right\",\"Changing lane to the right\",\"Driving at high speed\",\"No distancing\",\"Changing lane to the right\",\"Getting off the vehicle improperly\",\"Other\",\"No distancing\",\"Overtaking\",\"No priority to pedestrian\",\"No distancing\",\"Driving carelessly\",\"Changing lane to the right\",\"Overtaking\",\"Other\",\"Changing lane to the right\",\"No priority to vehicle\",\"Changing lane to the left\",\"No priority to pedestrian\",\"Overtaking\",\"Driving carelessly\",\"No priority to vehicle\",\"No priority to pedestrian\",\"Driving carelessly\",\"Changing lane to the right\",\"Overturning\",\"No distancing\",\"Driving carelessly\",\"Changing lane to the left\",\"No priority to vehicle\",\"Changing lane to the right\",\"No distancing\",\"Moving Backward\",\"Overtaking\",\"Changing lane to the left\",\"Changing lane to the right\",\"Overtaking\",\"Overloading\",\"Other\",\"No priority to vehicle\",\"Changing lane to the right\",\"Moving Backward\",\"No priority to pedestrian\",\"No distancing\",\"Moving Backward\",\"Changing lane to the right\",\"No priority to pedestrian\",\"Getting off the vehicle improperly\",\"Overtaking\",\"Overloading\",\"Changing lane to the right\",\"Improper parking\",\"Changing lane to the left\",\"Changing lane to the right\",\"No priority to pedestrian\",\"Overspeed\",\"Changing lane to the left\",\"No priority to vehicle\",\"Changing lane to the right\",\"No distancing\",\"No priority to pedestrian\",\"No distancing\",\"No priority to vehicle\",\"Other\",\"Driving carelessly\",\"Changing lane to the left\",\"Changing lane to the left\",\"No priority to vehicle\",\"No distancing\",\"Changing lane to the right\",\"Changing lane to the right\",\"Driving at high speed\",\"No distancing\",\"Changing lane to the right\",\"Changing lane to the left\",\"Getting off the vehicle improperly\",\"Other\",\"No priority to vehicle\",\"Overtaking\",\"Changing lane to the right\",\"Driving carelessly\",\"Changing lane to the right\",\"Overtaking\",\"Other\",\"Driving to the left\",\"Driving at high speed\",\"Unknown\",\"Changing lane to the right\",\"No distancing\",\"Other\",\"No priority to vehicle\",\"Changing lane to the left\",\"No priority to pedestrian\",\"Overtaking\",\"Driving carelessly\",\"No priority to vehicle\",\"No priority to pedestrian\",\"Changing lane to the right\",\"Driving carelessly\",\"Changing lane to the right\",\"Changing lane to the right\",\"Changing lane to the left\",\"Overturning\",\"Driving carelessly\",\"No distancing\",\"Driving carelessly\",\"Changing lane to the left\",\"No priority to vehicle\",\"Changing lane to the right\",\"No distancing\",\"Moving Backward\",\"Moving Backward\",\"No distancing\",\"No distancing\",\"No distancing\",\"No priority to pedestrian\",\"Driving carelessly\",\"Changing lane to the left\",\"Driving carelessly\",\"No distancing\",\"Other\",\"Changing lane to the right\",\"No distancing\",\"No distancing\",\"Overturning\",\"Driving at high speed\",\"No priority to vehicle\",\"No priority to pedestrian\",\"No priority to vehicle\",\"Other\",\"Other\",\"No distancing\",\"Moving Backward\",\"No priority to vehicle\",\"Driving carelessly\",\"No distancing\",\"Other\",\"Changing lane to the right\",\"No distancing\",\"Driving carelessly\",\"No distancing\",\"No priority to vehicle\",\"Changing lane to the right\",\"No priority to pedestrian\",\"No priority to vehicle\",\"Changing lane to the left\",\"Turnover\",\"Driving to the left\",\"Driving to the left\",\"Driving carelessly\",\"No priority to pedestrian\",\"Driving carelessly\",\"Changing lane to the right\",\"Moving Backward\",\"Driving carelessly\",\"Changing lane to the right\",\"Driving carelessly\",\"Driving carelessly\",\"Driving carelessly\",\"Changing lane to the right\",\"Driving carelessly\",\"Changing lane to the right\",\"No distancing\",\"Other\",\"Changing lane to the right\",\"Other\",\"Overtaking\",\"No priority to vehicle\",\"Other\",\"No priority to pedestrian\",\"Changing lane to the right\",\"Changing lane to the right\",\"Changing lane to the right\",\"Driving to the left\",\"Changing lane to the left\",\"Moving Backward\",\"Driving at high speed\",\"Moving Backward\",\"Other\",\"No priority to vehicle\",\"Changing lane to the right\",\"Other\",\"No distancing\",\"Driving carelessly\",\"No distancing\",\"Moving Backward\",\"No distancing\",\"Moving Backward\",\"No priority to pedestrian\",\"Changing lane to the left\",\"No distancing\",\"Other\",\"No distancing\",\"No priority to pedestrian\",\"Moving Backward\",\"No priority to pedestrian\",\"No distancing\",\"No priority to pedestrian\",\"Driving carelessly\",\"Getting off the vehicle improperly\",\"Changing lane to the left\",\"No priority to vehicle\",\"Changing lane to the right\",\"Changing lane to the right\",\"No distancing\",\"No distancing\",\"Changing lane to the left\",\"Changing lane to the right\",\"No priority to vehicle\",\"Changing lane to the left\",\"No priority to vehicle\",\"Moving Backward\",\"Turnover\",\"No distancing\",\"No distancing\",\"No distancing\",\"Changing lane to the left\",\"No priority to vehicle\",\"Driving at high speed\",\"Overtaking\",\"Other\",\"Changing lane to the left\",\"No priority to pedestrian\",\"Changing lane to the left\",\"No distancing\",\"Moving Backward\",\"Other\",\"No distancing\",\"No distancing\",\"Changing lane to the left\",\"Changing lane to the left\",\"No priority to pedestrian\",\"Changing lane to the left\",\"Driving carelessly\",\"Driving carelessly\",\"No priority to pedestrian\",\"Getting off the vehicle improperly\",\"No distancing\",\"Changing lane to the left\",\"No priority to vehicle\",\"No priority to pedestrian\",\"No priority to vehicle\",\"Driving carelessly\",\"Changing lane to the right\",\"Changing lane to the left\",\"Moving Backward\",\"Driving carelessly\",\"Driving to the left\",\"Driving to the left\",\"No priority to pedestrian\",\"Changing lane to the left\",\"Changing lane to the right\",\"Driving carelessly\",\"No distancing\",\"Getting off the vehicle improperly\",\"Driving under the influence of drugs\",\"Driving carelessly\",\"Moving Backward\",\"Turnover\",\"Changing lane to the right\",\"No priority to vehicle\",\"Moving Backward\",\"Changing lane to the left\",\"Overturning\",\"No distancing\",\"Driving carelessly\",\"Changing lane to the left\",\"No priority to pedestrian\",\"No distancing\",\"Changing lane to the left\",\"No distancing\",\"Changing lane to the left\",\"No distancing\",\"No distancing\",\"No distancing\",\"Changing lane to the left\",\"Changing lane to the right\",\"Changing lane to the right\",\"No distancing\",\"Overtaking\",\"Other\",\"Other\",\"Changing lane to the right\",\"No priority to pedestrian\",\"No priority to vehicle\",\"Changing lane to the left\",\"Changing lane to the left\",\"Overtaking\",\"No priority to vehicle\",\"Changing lane to the right\",\"Changing lane to the left\",\"No distancing\",\"Driving carelessly\",\"Driving carelessly\",\"Moving Backward\",\"No distancing\",\"No distancing\",\"No distancing\",\"Changing lane to the left\",\"Changing lane to the left\",\"Changing lane to the right\",\"No priority to vehicle\",\"Moving Backward\",\"Driving carelessly\",\"Driving carelessly\",\"Driving under the influence of drugs\",\"No priority to vehicle\",\"Driving carelessly\",\"Moving Backward\",\"Driving carelessly\",\"No priority to vehicle\",\"Changing lane to the right\",\"Changing lane to the left\",\"No priority to vehicle\",\"Driving carelessly\",\"No distancing\",\"Changing lane to the left\",\"Changing lane to the left\",\"No distancing\",\"Changing lane to the left\",\"Driving carelessly\",\"Changing lane to the left\",\"No distancing\",\"Changing lane to the right\",\"No distancing\",\"Driving to the left\",\"No distancing\",\"Overtaking\",\"Driving under the influence of drugs\",\"No priority to pedestrian\",\"Moving Backward\",\"Changing lane to the right\",\"Changing lane to the left\",\"Changing lane to the right\",\"Driving under the influence of drugs\",\"No priority to vehicle\",\"No priority to vehicle\",\"Changing lane to the left\",\"Changing lane to the right\",\"Changing lane to the right\",\"Changing lane to the left\",\"Getting off the vehicle improperly\",\"Changing lane to the left\",\"Driving under the influence of drugs\",\"Driving carelessly\",\"Moving Backward\",\"No distancing\",\"No priority to vehicle\",\"Overturning\",\"Changing lane to the left\",\"No distancing\",\"Moving Backward\",\"No priority to vehicle\",\"No priority to vehicle\",\"No distancing\",\"No distancing\",\"Changing lane to the right\",\"Changing lane to the left\",\"Driving carelessly\",\"Moving Backward\",\"Moving Backward\",\"Changing lane to the right\",\"Changing lane to the right\",\"No distancing\",\"No distancing\",\"Getting off the vehicle improperly\",\"Overturning\",\"Driving under the influence of drugs\",\"Changing lane to the right\",\"Changing lane to the left\",\"No distancing\",\"Moving Backward\",\"Moving Backward\",\"Changing lane to the left\",\"Changing lane to the left\",\"No priority to vehicle\",\"Changing lane to the right\",\"Changing lane to the right\",\"Driving carelessly\",\"Changing lane to the left\",\"Changing lane to the right\",\"Driving carelessly\",\"No distancing\",\"No priority to vehicle\",\"No priority to vehicle\",\"No priority to vehicle\",\"Moving Backward\",\"Driving carelessly\",\"Driving under the influence of drugs\",\"Changing lane to the right\",\"No priority to vehicle\",\"Changing lane to the right\",\"Driving to the left\",\"Moving Backward\",\"No priority to vehicle\",\"Driving carelessly\",\"Changing lane to the left\",\"No priority to vehicle\",\"No priority to vehicle\",\"No distancing\",\"Driving carelessly\",\"Changing lane to the right\",\"Driving carelessly\",\"Changing lane to the left\",\"Driving carelessly\",\"Driving carelessly\",\"Driving under the influence of drugs\",\"Driving carelessly\",\"No distancing\",\"Driving carelessly\",\"Driving to the left\",\"Overtaking\",\"Driving carelessly\",\"No priority to vehicle\",\"No priority to vehicle\",\"No distancing\",\"Moving Backward\",\"No distancing\",\"Changing lane to the left\",\"Changing lane to the left\",\"No priority to pedestrian\",\"Moving Backward\",\"Changing lane to the left\",\"No priority to vehicle\",\"No distancing\",\"Getting off the vehicle improperly\",\"No priority to pedestrian\",\"Changing lane to the left\",\"No distancing\",\"Driving carelessly\",\"No distancing\",\"Overtaking\",\"Driving carelessly\",\"Moving Backward\",\"No distancing\",\"Driving carelessly\",\"Driving carelessly\",\"Driving carelessly\",\"Driving to the left\",\"Changing lane to the left\",\"No distancing\",\"Changing lane to the right\",\"Driving under the influence of drugs\",\"Changing lane to the right\",\"Changing lane to the left\",\"Moving Backward\",\"No distancing\",\"Changing lane to the right\",\"Moving Backward\",\"No distancing\",\"Driving to the left\",\"Driving to the left\",\"Moving Backward\",\"Moving Backward\",\"Overtaking\",\"Driving carelessly\",\"Driving under the influence of drugs\",\"No distancing\",\"Moving Backward\",\"Changing lane to the left\",\"Changing lane to the right\",\"No distancing\",\"Driving at high speed\",\"Changing lane to the right\",\"No priority to vehicle\",\"No distancing\",\"Turnover\",\"No distancing\",\"Changing lane to the right\",\"No distancing\",\"Changing lane to the left\",\"Driving carelessly\",\"Changing lane to the right\",\"No distancing\",\"No priority to pedestrian\",\"No priority to pedestrian\",\"No priority to vehicle\",\"Changing lane to the left\",\"Changing lane to the left\",\"No distancing\",\"No priority to vehicle\",\"No distancing\",\"Changing lane to the right\",\"Changing lane to the left\",\"Overturning\",\"No priority to vehicle\",\"Moving Backward\",\"Driving under the influence of drugs\",\"Moving Backward\",\"Changing lane to the right\",\"Overspeed\",\"Driving under the influence of drugs\",\"Driving carelessly\",\"No distancing\",\"Driving under the influence of drugs\",\"Changing lane to the right\",\"Changing lane to the right\",\"Changing lane to the right\",\"Moving Backward\",\"No distancing\",\"Overspeed\",\"No distancing\",\"Driving carelessly\",\"No distancing\",\"No distancing\",\"No distancing\",\"Changing lane to the right\",\"No priority to vehicle\",\"Moving Backward\",\"Driving carelessly\",\"Changing lane to the left\",\"No distancing\",\"No distancing\",\"Overturning\",\"No distancing\",\"Drunk driving\",\"Moving Backward\",\"Changing lane to the left\",\"Changing lane to the left\",\"Getting off the vehicle improperly\",\"No distancing\",\"Changing lane to the right\",\"Moving Backward\",\"Driving at high speed\",\"Changing lane to the left\",\"No distancing\",\"Changing lane to the right\",\"Changing lane to the right\",\"No distancing\",\"Changing lane to the right\",\"Driving carelessly\",\"Changing lane to the right\",\"Overturning\",\"Changing lane to the right\",\"Moving Backward\",\"No distancing\",\"Overturning\",\"Driving carelessly\",\"Changing lane to the right\",\"Driving at high speed\",\"Changing lane to the left\",\"Driving carelessly\",\"No distancing\",\"No priority to pedestrian\",\"Moving Backward\",\"Moving Backward\",\"Overtaking\",\"Changing lane to the left\",\"Changing lane to the right\",\"Overtaking\",\"Overloading\",\"Other\",\"Changing lane to the right\",\"No priority to pedestrian\",\"No distancing\",\"No priority to vehicle\",\"No distancing\",\"Changing lane to the right\",\"Overtaking\",\"Overloading\",\"Improper parking\",\"Other\",\"Changing lane to the left\",\"Changing lane to the right\",\"No priority to pedestrian\",\"No priority to vehicle\",\"No distancing\",\"No priority to vehicle\",\"Other\",\"Driving carelessly\",\"Changing lane to the left\",\"Driving carelessly\",\"Changing lane to the left\",\"No priority to vehicle\",\"Changing lane to the right\",\"Driving at high speed\",\"No distancing\",\"Getting off the vehicle improperly\",\"Other\",\"Overtaking\",\"No priority to pedestrian\",\"No distancing\",\"Changing lane to the right\",\"Driving carelessly\",\"Changing lane to the right\",\"Overtaking\",\"Driving at high speed\",\"Unknown\",\"Other\",\"No priority to vehicle\",\"Changing lane to the left\",\"No priority to pedestrian\",\"Overtaking\",\"Driving carelessly\",\"No priority to vehicle\",\"No priority to pedestrian\",\"Changing lane to the right\",\"Driving carelessly\",\"Changing lane to the right\",\"Changing lane to the right\",\"Changing lane to the left\",\"Overturning\",\"No distancing\",\"Driving carelessly\",\"No priority to vehicle\",\"No distancing\",\"Moving Backward\",\"Moving Backward\",\"No distancing\",\"No distancing\",\"No priority to pedestrian\",\"Driving carelessly\",\"Changing lane to the right\",\"Changing lane to the left\",\"Driving carelessly\",\"Driving carelessly\",\"No distancing\",\"Other\",\"No distancing\",\"No distancing\",\"Overturning\",\"Driving at high speed\",\"No priority to vehicle\",\"No priority to pedestrian\",\"No priority to vehicle\",\"Other\",\"Other\",\"No distancing\",\"Moving Backward\",\"No priority to vehicle\",\"Driving carelessly\",\"No distancing\",\"Other\",\"Changing lane to the right\",\"No distancing\",\"Driving carelessly\",\"No distancing\",\"No priority to vehicle\",\"Changing lane to the right\",\"No priority to vehicle\",\"Changing lane to the left\",\"Turnover\",\"Driving to the left\",\"Driving carelessly\",\"Driving to the left\",\"Driving carelessly\",\"Changing lane to the right\",\"Driving carelessly\",\"Driving carelessly\",\"Driving carelessly\",\"Driving carelessly\",\"Changing lane to the right\",\"Driving carelessly\",\"Changing lane to the right\",\"No distancing\",\"Overtaking\",\"Other\",\"Driving to the left\",\"Overtaking\",\"No priority to vehicle\",\"Moving Backward\",\"Other\",\"No priority to vehicle\",\"No priority to pedestrian\",\"Changing lane to the right\",\"Changing lane to the right\",\"Changing lane to the right\",\"Driving to the left\",\"Changing lane to the left\",\"Moving Backward\",\"Driving at high speed\",\"Moving Backward\",\"Other\",\"No priority to vehicle\",\"Changing lane to the right\",\"Other\",\"No distancing\",\"Driving carelessly\",\"No distancing\",\"Moving Backward\",\"No distancing\",\"Moving Backward\",\"No priority to pedestrian\",\"No distancing\",\"No distancing\",\"No priority to pedestrian\",\"Moving Backward\",\"No priority to pedestrian\",\"No priority to pedestrian\",\"Driving carelessly\",\"Getting off the vehicle improperly\",\"Driving carelessly\",\"Changing lane to the right\",\"Changing lane to the right\",\"No distancing\",\"No distancing\",\"Changing lane to the right\",\"No priority to vehicle\",\"Changing lane to the left\",\"No priority to vehicle\",\"Turnover\",\"No distancing\",\"No distancing\",\"No distancing\",\"Changing lane to the left\",\"No priority to vehicle\",\"Driving at high speed\",\"Overtaking\",\"Other\",\"No priority to pedestrian\",\"Changing lane to the left\",\"No distancing\",\"Changing lane to the left\",\"Other\",\"No distancing\",\"Moving Backward\",\"No distancing\",\"Changing lane to the left\",\"Changing lane to the left\",\"No priority to pedestrian\",\"Changing lane to the left\",\"Driving carelessly\",\"No priority to pedestrian\",\"Getting off the vehicle improperly\",\"No distancing\",\"Changing lane to the left\",\"No priority to vehicle\",\"No distancing\",\"No priority to pedestrian\",\"No priority to pedestrian\",\"No priority to vehicle\",\"Driving carelessly\",\"Changing lane to the right\",\"Changing lane to the left\",\"Moving Backward\",\"Driving carelessly\",\"Driving to the left\",\"Driving to the left\",\"No priority to pedestrian\",\"Changing lane to the left\",\"Changing lane to the right\",\"Driving carelessly\",\"No distancing\",\"Getting off the vehicle improperly\",\"Driving under the influence of drugs\",\"Changing lane to the right\",\"Driving carelessly\",\"Moving Backward\",\"Turnover\",\"Changing lane to the right\",\"Driving carelessly\",\"No priority to vehicle\",\"Moving Backward\",\"Changing lane to the left\",\"Overturning\",\"No distancing\",\"Driving carelessly\",\"No distancing\",\"Changing lane to the left\",\"No priority to pedestrian\",\"No distancing\",\"No distancing\",\"Changing lane to the left\",\"No distancing\",\"Changing lane to the left\",\"No distancing\",\"No distancing\",\"No distancing\",\"Changing lane to the left\",\"Changing lane to the right\",\"Moving Backward\",\"Changing lane to the right\",\"No distancing\",\"Overtaking\",\"Other\",\"Changing lane to the left\",\"Changing lane to the left\",\"Overtaking\",\"No distancing\",\"No priority to vehicle\",\"Changing lane to the right\",\"Changing lane to the left\",\"No distancing\",\"Driving carelessly\",\"No priority to pedestrian\",\"Driving carelessly\",\"Moving Backward\",\"Changing lane to the left\",\"Changing lane to the left\",\"Changing lane to the right\",\"No priority to vehicle\",\"Driving carelessly\",\"Driving carelessly\",\"Driving under the influence of drugs\",\"No priority to pedestrian\",\"No priority to vehicle\",\"Driving carelessly\",\"No priority to vehicle\",\"Changing lane to the right\",\"Changing lane to the left\",\"No priority to vehicle\",\"Driving carelessly\",\"Moving Backward\",\"No distancing\",\"Changing lane to the left\",\"No distancing\",\"Changing lane to the left\",\"Changing lane to the left\",\"No distancing\",\"Changing lane to the right\",\"No distancing\",\"Driving to the left\",\"No distancing\",\"Driving under the influence of drugs\",\"Changing lane to the right\",\"Driving under the influence of drugs\",\"Changing lane to the left\",\"Changing lane to the right\",\"Changing lane to the left\",\"Changing lane to the left\",\"Getting off the vehicle improperly\",\"Changing lane to the left\",\"Driving under the influence of drugs\",\"Driving carelessly\",\"No distancing\",\"No priority to vehicle\",\"Overturning\",\"Changing lane to the left\",\"No distancing\",\"Moving Backward\",\"No priority to vehicle\",\"No distancing\",\"No distancing\",\"Overtaking\",\"Driving under the influence of drugs\",\"Changing lane to the right\",\"Changing lane to the left\",\"Driving carelessly\",\"Moving Backward\",\"Moving Backward\",\"Changing lane to the right\",\"No priority to vehicle\",\"Driving under the influence of drugs\",\"Driving carelessly\",\"No distancing\",\"No distancing\",\"No distancing\",\"Getting off the vehicle improperly\",\"Driving carelessly\",\"Driving under the influence of drugs\",\"Moving Backward\",\"Overturning\",\"Changing lane to the right\",\"No distancing\",\"No distancing\",\"No priority to vehicle\",\"Moving Backward\",\"Changing lane to the left\",\"Changing lane to the left\",\"No priority to vehicle\",\"Changing lane to the right\",\"Driving carelessly\",\"Changing lane to the right\",\"Driving under the influence of drugs\",\"Driving carelessly\",\"No priority to vehicle\",\"No priority to vehicle\",\"Changing lane to the left\",\"Moving Backward\",\"Driving carelessly\",\"Driving under the influence of drugs\",\"Changing lane to the right\",\"No priority to vehicle\",\"Driving to the left\",\"No priority to vehicle\",\"No distancing\",\"Changing lane to the left\",\"No priority to vehicle\",\"No priority to vehicle\",\"No distancing\",\"Driving carelessly\",\"Changing lane to the right\",\"Driving carelessly\",\"Changing lane to the left\",\"Driving carelessly\",\"Driving carelessly\",\"Driving under the influence of drugs\",\"Driving carelessly\",\"No distancing\",\"Driving carelessly\",\"Driving to the left\",\"Overtaking\",\"No distancing\",\"Driving carelessly\",\"No priority to vehicle\",\"No priority to vehicle\",\"No priority to vehicle\",\"No priority to vehicle\",\"No distancing\",\"Moving Backward\",\"No distancing\",\"Changing lane to the left\",\"Changing lane to the left\",\"No priority to pedestrian\",\"No priority to vehicle\",\"No distancing\",\"No distancing\",\"Getting off the vehicle improperly\",\"No priority to pedestrian\",\"Changing lane to the left\",\"No distancing\",\"Driving carelessly\",\"Changing lane to the right\",\"Driving carelessly\",\"Moving Backward\",\"Driving carelessly\",\"Driving carelessly\",\"Moving Backward\",\"Driving to the left\",\"Changing lane to the left\",\"No distancing\",\"No distancing\",\"Driving under the influence of drugs\",\"Changing lane to the right\",\"Changing lane to the left\",\"Moving Backward\",\"No distancing\",\"Changing lane to the right\",\"Moving Backward\",\"No distancing\",\"Driving to the left\",\"Driving to the left\",\"Moving Backward\",\"Moving Backward\",\"Overtaking\",\"Driving carelessly\",\"Changing lane to the left\",\"Driving under the influence of drugs\",\"No distancing\",\"Moving Backward\",\"Changing lane to the left\",\"Changing lane to the right\",\"No distancing\",\"Driving at high speed\",\"Changing lane to the right\",\"No priority to vehicle\",\"No distancing\",\"Changing lane to the right\",\"No distancing\",\"Changing lane to the left\",\"Driving carelessly\",\"Changing lane to the right\",\"No distancing\",\"No priority to pedestrian\",\"No priority to pedestrian\",\"No priority to vehicle\",\"Changing lane to the left\",\"Changing lane to the left\",\"No distancing\",\"No priority to vehicle\",\"No distancing\",\"No distancing\",\"Changing lane to the right\",\"Changing lane to the left\",\"No distancing\",\"No priority to vehicle\",\"Moving Backward\",\"Driving under the influence of drugs\",\"Moving Backward\",\"Changing lane to the right\",\"Overspeed\",\"Driving under the influence of drugs\",\"Driving carelessly\",\"No distancing\",\"No priority to vehicle\",\"Overspeed\",\"Driving under the influence of drugs\",\"Changing lane to the right\",\"Changing lane to the right\",\"Changing lane to the right\",\"Changing lane to the right\",\"Moving Backward\",\"No distancing\",\"No distancing\",\"Driving carelessly\",\"No distancing\",\"No distancing\",\"Changing lane to the right\",\"No distancing\",\"No priority to vehicle\",\"Changing lane to the left\",\"Driving carelessly\",\"Changing lane to the left\",\"No priority to pedestrian\",\"No distancing\",\"No distancing\",\"Overturning\",\"No distancing\",\"Drunk driving\",\"Moving Backward\",\"No priority to pedestrian\",\"Changing lane to the left\",\"No distancing\",\"Changing lane to the right\",\"Driving at high speed\",\"Changing lane to the right\",\"No distancing\",\"Changing lane to the right\",\"Changing lane to the right\",\"No distancing\",\"Changing lane to the right\",\"Driving carelessly\",\"Driving carelessly\",\"Changing lane to the right\",\"Overturning\",\"Changing lane to the right\",\"Moving Backward\",\"No distancing\",\"Overturning\",\"Driving carelessly\",\"Changing lane to the right\",\"Driving at high speed\",\"Changing lane to the left\",\"Driving carelessly\",\"No distancing\",\"Moving Backward\",\"No priority to pedestrian\",\"Moving Backward\",\"Changing lane to the right\",\"No distancing\",\"Drunk driving\",\"Changing lane to the right\",\"Driving carelessly\",\"Driving to the left\",\"Changing lane to the right\",\"Changing lane to the right\",\"Driving carelessly\",\"Changing lane to the left\",\"No priority to vehicle\",\"Driving carelessly\",\"Changing lane to the right\",\"Driving carelessly\",\"Driving under the influence of drugs\",\"No distancing\",\"Changing lane to the left\",\"No priority to vehicle\",\"Moving Backward\",\"Moving Backward\",\"No distancing\",\"Changing lane to the right\",\"Changing lane to the right\",\"Moving Backward\",\"Driving carelessly\",\"Driving under the influence of drugs\",\"No distancing\",\"No distancing\",\"Driving to the left\",\"No priority to vehicle\",\"No priority to vehicle\",\"No priority to vehicle\",\"No distancing\",\"Moving Backward\",\"Changing lane to the right\",\"Driving carelessly\",\"Changing lane to the left\",\"Changing lane to the right\",\"Driving under the influence of drugs\",\"Overturning\",\"No distancing\",\"Changing lane to the right\",\"No priority to vehicle\",\"Changing lane to the right\",\"Changing lane to the left\",\"No distancing\",\"No priority to pedestrian\",\"No distancing\",\"Driving carelessly\",\"Moving Backward\",\"Overtaking\",\"No priority to vehicle\",\"No priority to vehicle\",\"No priority to vehicle\",\"No distancing\",\"Moving Backward\",\"Changing lane to the right\",\"No distancing\",\"Overtaking\",\"No distancing\",\"Changing lane to the left\",\"Driving under the influence of drugs\",\"No distancing\",\"Changing lane to the right\",\"Changing lane to the left\",\"Moving Backward\",\"No distancing\",\"No distancing\",\"Driving carelessly\",\"Moving Backward\",\"Changing lane to the right\",\"Driving carelessly\",\"Changing lane to the right\",\"Driving carelessly\",\"Changing lane to the right\",\"No priority to vehicle\",\"Changing lane to the right\",\"Turnover\",\"Driving at high speed\",\"No distancing\",\"No distancing\",\"Driving carelessly\",\"Driving carelessly\",\"No distancing\",\"Changing lane to the right\",\"Overtaking\",\"No distancing\",\"Overtaking\",\"Moving Backward\",\"No distancing\",\"No distancing\",\"No priority to vehicle\",\"Changing lane to the left\",\"Driving under the influence of drugs\",\"Changing lane to the left\",\"Changing lane to the right\",\"Driving to the left\",\"Changing lane to the right\",\"Changing lane to the right\",\"Moving Backward\",\"Moving Backward\",\"Changing lane to the left\",\"Moving Backward\",\"Changing lane to the right\",\"Changing lane to the left\",\"No priority to vehicle\",\"No distancing\",\"No priority to vehicle\",\"Driving under the influence of drugs\",\"No distancing\",\"No distancing\",\"Changing lane to the left\",\"Changing lane to the right\",\"Changing lane to the right\",\"Driving under the influence of drugs\",\"Moving Backward\",\"Changing lane to the left\",\"No priority to pedestrian\",\"No distancing\",\"No distancing\",\"Changing lane to the left\",\"Changing lane to the right\",\"Driving carelessly\",\"No distancing\",\"Changing lane to the left\",\"Moving Backward\",\"No distancing\",\"No priority to pedestrian\",\"Changing lane to the left\",\"No distancing\",\"Driving carelessly\",\"No priority to vehicle\",\"Moving Backward\",\"No priority to vehicle\",\"No priority to pedestrian\",\"Driving under the influence of drugs\",\"Moving Backward\",\"Changing lane to the right\",\"Changing lane to the right\",\"No distancing\",\"Moving Backward\",\"No distancing\",\"Driving carelessly\",\"No priority to pedestrian\",\"No priority to vehicle\",\"Changing lane to the right\",\"No distancing\",\"Changing lane to the left\",\"Moving Backward\",\"Changing lane to the right\",\"No priority to vehicle\",\"Getting off the vehicle improperly\",\"No distancing\",\"No distancing\",\"Changing lane to the left\",\"No priority to vehicle\",\"No distancing\",\"Changing lane to the right\",\"Driving under the influence of drugs\",\"Changing lane to the left\",\"Getting off the vehicle improperly\",\"Overloading\",\"Driving carelessly\",\"No distancing\",\"Driving carelessly\",\"No distancing\",\"No priority to vehicle\",\"Getting off the vehicle improperly\",\"No priority to pedestrian\",\"Changing lane to the right\",\"Moving Backward\",\"Changing lane to the left\",\"No distancing\",\"Driving carelessly\",\"Driving under the influence of drugs\",\"Changing lane to the right\",\"No distancing\",\"Driving carelessly\",\"No priority to pedestrian\",\"No distancing\",\"Moving Backward\",\"Moving Backward\",\"No priority to vehicle\",\"No distancing\",\"Changing lane to the right\",\"Moving Backward\",\"Driving carelessly\",\"Changing lane to the right\",\"No distancing\",\"Moving Backward\",\"Driving carelessly\",\"No distancing\",\"No priority to vehicle\",\"Changing lane to the right\",\"Moving Backward\",\"Driving under the influence of drugs\",\"Changing lane to the right\",\"No priority to vehicle\",\"Changing lane to the left\",\"Driving carelessly\",\"No priority to pedestrian\",\"No priority to pedestrian\",\"Changing lane to the right\",\"Drunk driving\",\"Changing lane to the left\",\"Changing lane to the left\",\"Driving to the left\",\"Changing lane to the left\",\"Changing lane to the left\",\"Moving Backward\",\"No priority to vehicle\",\"Moving Backward\",\"Overtaking\",\"Changing lane to the left\",\"Changing lane to the right\",\"Overtaking\",\"Overloading\",\"Other\",\"No priority to vehicle\",\"Changing lane to the right\",\"Moving Backward\",\"Changing lane to the left\",\"No distancing\",\"No priority to vehicle\",\"No distancing\",\"No distancing\",\"Moving Backward\",\"No priority to pedestrian\",\"Getting off the vehicle improperly\",\"Overloading\",\"Changing lane to the right\",\"Improper parking\",\"Other\",\"Changing lane to the left\",\"Changing lane to the right\",\"No priority to pedestrian\",\"Overspeed\",\"Changing lane to the right\",\"No distancing\",\"No distancing\",\"Other\",\"Driving carelessly\",\"Changing lane to the left\",\"Driving carelessly\",\"Changing lane to the left\",\"No priority to vehicle\",\"No distancing\",\"Changing lane to the right\",\"Changing lane to the right\",\"Driving at high speed\",\"No distancing\",\"Changing lane to the right\",\"Changing lane to the left\",\"Other\",\"Other\",\"No priority to vehicle\",\"No distancing\",\"Changing lane to the right\",\"Changing lane to the right\",\"Overtaking\",\"Other\",\"Driving to the left\",\"Driving at high speed\",\"Unknown\",\"Changing lane to the right\",\"Other\",\"No priority to vehicle\",\"Overtaking\",\"Driving carelessly\",\"No priority to vehicle\",\"No priority to pedestrian\",\"Changing lane to the right\",\"Driving carelessly\",\"Changing lane to the right\",\"Changing lane to the right\",\"Changing lane to the left\",\"Driving carelessly\",\"No distancing\",\"Driving carelessly\",\"Changing lane to the left\",\"No priority to vehicle\",\"Changing lane to the right\",\"No distancing\",\"Moving Backward\",\"Moving Backward\",\"No distancing\",\"No distancing\",\"No distancing\",\"Driving carelessly\",\"Changing lane to the right\",\"Changing lane to the left\",\"Driving carelessly\",\"Driving carelessly\",\"No distancing\",\"Changing lane to the right\",\"No distancing\",\"No distancing\",\"Overturning\",\"No priority to pedestrian\",\"Other\",\"Other\",\"Moving Backward\",\"No distancing\",\"Moving Backward\",\"No priority to vehicle\",\"Driving carelessly\",\"No distancing\",\"Changing lane to the right\",\"No distancing\",\"Driving carelessly\",\"No distancing\",\"No priority to vehicle\",\"Changing lane to the right\",\"No priority to pedestrian\",\"No priority to vehicle\",\"Changing lane to the left\",\"Turnover\",\"Driving to the left\",\"Driving carelessly\",\"Driving to the left\",\"Driving carelessly\",\"No priority to pedestrian\",\"Driving carelessly\",\"Changing lane to the right\",\"Moving Backward\",\"Changing lane to the right\",\"Driving carelessly\",\"Driving carelessly\",\"Changing lane to the right\",\"Changing lane to the right\",\"Driving carelessly\",\"Changing lane to the right\",\"Other\",\"Changing lane to the right\",\"Overtaking\",\"Other\",\"Driving to the left\",\"Overtaking\",\"No priority to vehicle\",\"Moving Backward\",\"Other\",\"No priority to vehicle\",\"No priority to pedestrian\",\"Changing lane to the right\",\"Changing lane to the right\",\"Changing lane to the right\",\"Driving to the left\",\"Changing lane to the left\",\"Moving Backward\",\"Moving Backward\",\"No distancing\",\"Other\",\"No priority to vehicle\",\"Other\",\"No distancing\",\"Moving Backward\",\"Moving Backward\",\"No priority to pedestrian\",\"Changing lane to the left\",\"Other\",\"No distancing\",\"Driving carelessly\",\"Getting off the vehicle improperly\",\"Changing lane to the left\",\"No priority to vehicle\",\"Changing lane to the right\",\"No distancing\",\"Changing lane to the left\",\"Changing lane to the left\",\"No priority to vehicle\",\"Turnover\",\"No distancing\",\"No distancing\",\"No distancing\",\"Changing lane to the left\",\"No priority to vehicle\",\"Driving at high speed\",\"Overtaking\",\"Other\",\"Changing lane to the left\",\"No priority to pedestrian\",\"Changing lane to the left\",\"No distancing\",\"Moving Backward\",\"No distancing\",\"Moving Backward\",\"No distancing\",\"Changing lane to the left\",\"Changing lane to the left\",\"No priority to pedestrian\",\"Changing lane to the left\",\"Driving carelessly\",\"Driving carelessly\",\"No priority to pedestrian\",\"Getting off the vehicle improperly\",\"No distancing\",\"Changing lane to the left\",\"No priority to vehicle\",\"No distancing\",\"No priority to pedestrian\",\"No priority to pedestrian\",\"No priority to vehicle\",\"Driving carelessly\",\"Changing lane to the left\",\"Moving Backward\",\"Driving carelessly\",\"Driving to the left\",\"Driving to the left\",\"No priority to pedestrian\",\"Changing lane to the left\",\"Changing lane to the right\",\"Driving carelessly\",\"No distancing\",\"Getting off the vehicle improperly\",\"Changing lane to the right\",\"Driving carelessly\",\"Moving Backward\",\"Turnover\",\"Changing lane to the right\",\"Driving carelessly\",\"No priority to vehicle\",\"Moving Backward\",\"Changing lane to the left\",\"Overturning\",\"No distancing\",\"Driving carelessly\",\"No distancing\",\"Changing lane to the left\",\"No distancing\",\"No distancing\",\"Changing lane to the left\",\"No distancing\",\"Changing lane to the left\",\"No distancing\",\"No distancing\",\"Changing lane to the left\",\"Moving Backward\",\"Changing lane to the right\",\"No distancing\",\"Overtaking\",\"Other\",\"Other\",\"Changing lane to the right\",\"No priority to pedestrian\",\"No priority to vehicle\",\"Changing lane to the left\",\"Changing lane to the left\",\"Overtaking\",\"No distancing\",\"Changing lane to the left\",\"Driving carelessly\",\"No priority to pedestrian\",\"Driving carelessly\",\"Moving Backward\",\"No distancing\",\"Changing lane to the left\",\"Changing lane to the left\",\"Moving Backward\",\"Changing lane to the right\",\"No priority to vehicle\",\"Driving carelessly\",\"Driving under the influence of drugs\",\"Driving carelessly\",\"Moving Backward\",\"Driving carelessly\",\"Changing lane to the right\",\"Changing lane to the left\",\"No priority to vehicle\",\"Driving carelessly\",\"Moving Backward\",\"No distancing\",\"Changing lane to the left\",\"Changing lane to the left\",\"Changing lane to the left\",\"Driving carelessly\",\"Changing lane to the left\",\"No distancing\",\"Changing lane to the right\",\"No distancing\",\"Driving to the left\",\"No distancing\",\"Overtaking\",\"Driving under the influence of drugs\",\"No priority to pedestrian\",\"Changing lane to the right\",\"Changing lane to the left\",\"Changing lane to the right\",\"Driving under the influence of drugs\",\"No priority to vehicle\",\"Changing lane to the left\",\"Changing lane to the right\",\"Changing lane to the right\",\"Changing lane to the left\",\"Getting off the vehicle improperly\",\"Overtaking\",\"Driving under the influence of drugs\",\"Moving Backward\",\"No distancing\",\"Overturning\",\"Moving Backward\",\"No priority to vehicle\",\"No priority to vehicle\",\"No distancing\",\"No distancing\",\"Overtaking\",\"Driving under the influence of drugs\",\"Changing lane to the right\",\"Changing lane to the left\",\"Moving Backward\",\"Changing lane to the right\",\"No priority to vehicle\",\"Changing lane to the right\",\"Driving carelessly\",\"No distancing\",\"Changing lane to the left\",\"No distancing\",\"No distancing\",\"Getting off the vehicle improperly\",\"Overtaking\",\"Driving carelessly\",\"Driving under the influence of drugs\",\"Moving Backward\",\"Overturning\",\"Driving under the influence of drugs\",\"Changing lane to the right\",\"Changing lane to the left\",\"No distancing\",\"No distancing\",\"Moving Backward\",\"Changing lane to the left\",\"Changing lane to the left\",\"No priority to vehicle\",\"Changing lane to the right\",\"Driving carelessly\",\"Changing lane to the left\",\"Changing lane to the right\",\"Driving carelessly\",\"No distancing\",\"No priority to vehicle\",\"No priority to vehicle\",\"Changing lane to the left\",\"Moving Backward\",\"Driving carelessly\",\"Driving under the influence of drugs\",\"Changing lane to the right\",\"No priority to vehicle\",\"Changing lane to the right\",\"Driving to the left\",\"Moving Backward\",\"No priority to vehicle\",\"No distancing\",\"Changing lane to the left\",\"No priority to vehicle\",\"No priority to vehicle\",\"No distancing\",\"Driving to the left\",\"Driving carelessly\",\"Changing lane to the right\",\"Driving carelessly\",\"Changing lane to the left\",\"Driving carelessly\",\"Driving carelessly\",\"Driving carelessly\",\"No distancing\",\"Overtaking\",\"No distancing\",\"Driving carelessly\",\"No priority to vehicle\",\"No priority to vehicle\",\"No priority to vehicle\",\"No priority to vehicle\",\"No distancing\",\"No distancing\",\"Changing lane to the left\",\"Changing lane to the left\",\"Moving Backward\",\"Changing lane to the left\",\"No distancing\",\"No priority to vehicle\",\"Changing lane to the right\",\"No distancing\",\"No distancing\",\"Getting off the vehicle improperly\",\"No priority to pedestrian\",\"Changing lane to the left\",\"No distancing\",\"Driving carelessly\",\"Changing lane to the right\",\"Overtaking\",\"Driving carelessly\",\"Moving Backward\",\"No distancing\",\"Overtaking\",\"Driving carelessly\",\"Driving carelessly\",\"Changing lane to the left\",\"Changing lane to the right\",\"Changing lane to the right\",\"Changing lane to the left\",\"Moving Backward\",\"No distancing\",\"Changing lane to the right\",\"Moving Backward\",\"No distancing\",\"Driving to the left\",\"Driving to the left\",\"Moving Backward\",\"Moving Backward\",\"Overtaking\",\"Driving carelessly\",\"No distancing\",\"Moving Backward\",\"Changing lane to the left\",\"No distancing\",\"No priority to vehicle\",\"Changing lane to the right\",\"No distancing\",\"Changing lane to the left\",\"Driving carelessly\",\"Changing lane to the right\",\"No priority to vehicle\",\"No distancing\",\"No priority to pedestrian\",\"No priority to pedestrian\",\"No priority to vehicle\",\"Changing lane to the left\",\"Changing lane to the left\",\"No priority to vehicle\",\"No distancing\",\"No distancing\",\"Changing lane to the right\",\"Changing lane to the left\",\"No distancing\",\"Overturning\",\"No priority to vehicle\",\"Moving Backward\",\"Driving under the influence of drugs\",\"Moving Backward\",\"Changing lane to the right\",\"Driving under the influence of drugs\",\"Overspeed\",\"Driving under the influence of drugs\",\"Changing lane to the right\",\"Changing lane to the right\",\"Changing lane to the right\",\"Moving Backward\",\"No distancing\",\"Overspeed\",\"No distancing\",\"Driving carelessly\",\"No distancing\",\"No distancing\",\"No distancing\",\"Changing lane to the right\",\"No distancing\",\"No priority to vehicle\",\"Changing lane to the left\",\"Moving Backward\",\"Driving carelessly\",\"Changing lane to the left\",\"No priority to pedestrian\",\"No distancing\",\"Overturning\",\"No distancing\",\"Drunk driving\",\"Moving Backward\",\"No priority to pedestrian\",\"Changing lane to the left\",\"Changing lane to the left\",\"Getting off the vehicle improperly\",\"No distancing\",\"Changing lane to the right\",\"Changing lane to the right\",\"Moving Backward\",\"Driving at high speed\",\"Changing lane to the left\",\"Changing lane to the right\",\"No distancing\",\"Changing lane to the right\",\"Changing lane to the right\",\"Driving carelessly\",\"Driving carelessly\",\"Changing lane to the right\",\"Overturning\",\"Changing lane to the right\",\"Moving Backward\",\"No distancing\",\"Overturning\",\"Changing lane to the right\",\"Changing lane to the left\",\"Driving carelessly\",\"No distancing\",\"Moving Backward\",\"Moving Backward\",\"Changing lane to the right\",\"No distancing\",\"Drunk driving\",\"Changing lane to the right\",\"Driving carelessly\",\"Driving to the left\",\"Changing lane to the right\",\"Changing lane to the right\",\"Driving carelessly\",\"Changing lane to the left\",\"No priority to vehicle\",\"Driving carelessly\",\"Driving carelessly\",\"Driving under the influence of drugs\",\"No distancing\",\"Changing lane to the left\",\"No priority to vehicle\",\"Moving Backward\",\"Changing lane to the right\",\"Changing lane to the right\",\"Moving Backward\",\"Driving carelessly\",\"Driving under the influence of drugs\",\"No distancing\",\"No priority to vehicle\",\"Driving to the left\",\"No priority to vehicle\",\"No priority to vehicle\",\"No distancing\",\"Moving Backward\",\"Changing lane to the left\",\"No distancing\",\"Driving under the influence of drugs\",\"Overturning\",\"No distancing\",\"Changing lane to the right\",\"No priority to vehicle\",\"Changing lane to the right\",\"Changing lane to the left\",\"No priority to pedestrian\",\"Driving carelessly\",\"Driving carelessly\",\"Driving carelessly\",\"Moving Backward\",\"Overtaking\",\"No priority to vehicle\",\"No priority to vehicle\",\"Changing lane to the left\",\"No priority to vehicle\",\"No distancing\",\"No distancing\",\"Overtaking\",\"No distancing\",\"Changing lane to the left\",\"Driving under the influence of drugs\",\"No distancing\",\"Changing lane to the right\",\"No distancing\",\"Driving carelessly\",\"No distancing\",\"Changing lane to the right\",\"Driving to the left\",\"Changing lane to the right\",\"Driving carelessly\",\"Changing lane to the right\",\"No priority to vehicle\",\"Changing lane to the right\",\"Turnover\",\"Driving at high speed\",\"No distancing\",\"No distancing\",\"Driving carelessly\",\"Driving carelessly\",\"Moving Backward\",\"Changing lane to the right\",\"Overtaking\",\"No distancing\",\"Overtaking\",\"Moving Backward\",\"No distancing\",\"No distancing\",\"No priority to vehicle\",\"No priority to vehicle\",\"Changing lane to the left\",\"No distancing\",\"Driving under the influence of drugs\",\"Changing lane to the left\",\"Changing lane to the right\",\"Driving to the left\",\"Driving at high speed\",\"Overtaking\",\"Changing lane to the right\",\"Changing lane to the right\",\"Moving Backward\",\"Moving Backward\",\"Changing lane to the left\",\"Moving Backward\",\"No distancing\",\"Moving Backward\",\"Changing lane to the right\",\"Changing lane to the left\",\"No priority to vehicle\",\"No distancing\",\"No priority to vehicle\",\"Driving under the influence of drugs\",\"Changing lane to the right\",\"No distancing\",\"No distancing\",\"Changing lane to the right\",\"Changing lane to the right\",\"Changing lane to the left\",\"No priority to pedestrian\",\"No distancing\",\"Changing lane to the right\",\"Driving carelessly\",\"Changing lane to the left\",\"Moving Backward\",\"No distancing\",\"No priority to pedestrian\",\"Changing lane to the left\",\"Moving Backward\",\"No priority to pedestrian\",\"Changing lane to the left\",\"Driving under the influence of drugs\",\"Moving Backward\",\"Changing lane to the right\",\"Moving Backward\",\"Driving carelessly\",\"No priority to pedestrian\",\"No priority to vehicle\",\"Moving Backward\",\"Changing lane to the right\",\"No distancing\",\"Driving carelessly\",\"Changing lane to the left\",\"Moving Backward\",\"No distancing\",\"Changing lane to the right\",\"Getting off the vehicle improperly\",\"No distancing\",\"No distancing\",\"Changing lane to the left\",\"No priority to vehicle\",\"Driving carelessly\",\"Changing lane to the right\",\"No distancing\",\"Changing lane to the right\",\"No distancing\",\"Driving under the influence of drugs\",\"Changing lane to the left\",\"Getting off the vehicle improperly\",\"Overloading\",\"Driving carelessly\",\"Overtaking\",\"No distancing\",\"Overturning\",\"Driving carelessly\",\"No priority to pedestrian\",\"No distancing\",\"No priority to vehicle\",\"Getting off the vehicle improperly\",\"Changing lane to the right\",\"Moving Backward\",\"Changing lane to the left\",\"No distancing\",\"Driving carelessly\",\"Driving under the influence of drugs\",\"Driving carelessly\",\"Driving carelessly\",\"Changing lane to the right\",\"No distancing\",\"Driving carelessly\",\"No distancing\",\"Moving Backward\",\"No priority to vehicle\",\"No distancing\",\"Changing lane to the right\",\"Changing lane to the right\",\"Driving carelessly\",\"No distancing\",\"Moving Backward\",\"Driving carelessly\",\"No distancing\",\"No priority to vehicle\",\"Changing lane to the right\",\"Changing lane to the right\",\"No priority to vehicle\",\"Changing lane to the left\",\"Driving carelessly\",\"No priority to pedestrian\",\"No priority to pedestrian\",\"Changing lane to the right\",\"Drunk driving\",\"Changing lane to the left\",\"Changing lane to the left\",\"Changing lane to the left\",\"Moving Backward\",\"Overtaking\",\"Changing lane to the left\",\"Changing lane to the right\",\"Overtaking\",\"Other\",\"Changing lane to the right\",\"No distancing\",\"No priority to vehicle\",\"No distancing\",\"No distancing\",\"Moving Backward\",\"Changing lane to the right\",\"No priority to pedestrian\",\"Moving Backward\",\"Overtaking\",\"Changing lane to the left\",\"Changing lane to the right\",\"Overtaking\",\"Overloading\",\"Other\",\"No priority to vehicle\",\"Changing lane to the right\",\"Changing lane to the left\",\"No distancing\",\"No priority to vehicle\",\"No distancing\",\"Moving Backward\",\"Overtaking\",\"Changing lane to the left\",\"Changing lane to the right\",\"Overtaking\",\"Overloading\",\"Other\",\"No priority to vehicle\",\"Changing lane to the right\",\"Changing lane to the left\",\"No priority to pedestrian\",\"No distancing\",\"No priority to vehicle\",\"No distancing\",\"No distancing\",\"Moving Backward\",\"Changing lane to the right\",\"No priority to pedestrian\",\"Moving Backward\",\"Getting off the vehicle improperly\",\"Overtaking\",\"Overloading\",\"Changing lane to the right\",\"Improper parking\",\"Other\",\"Changing lane to the left\",\"Changing lane to the right\",\"No priority to pedestrian\",\"Overspeed\",\"Changing lane to the left\",\"No priority to vehicle\",\"Changing lane to the right\",\"No distancing\",\"No priority to pedestrian\",\"No distancing\",\"No priority to vehicle\",\"Other\",\"Driving carelessly\",\"Changing lane to the left\",\"Driving carelessly\",\"Changing lane to the left\",\"No priority to vehicle\",\"Changing lane to the right\",\"Driving at high speed\",\"No distancing\",\"Changing lane to the right\",\"Changing lane to the left\",\"Getting off the vehicle improperly\",\"Other\",\"Other\",\"No distancing\",\"No priority to vehicle\",\"Overtaking\",\"No distancing\",\"Driving carelessly\",\"Changing lane to the right\",\"Overtaking\",\"Other\",\"Driving to the left\",\"Driving at high speed\",\"Moving Backward\",\"Overtaking\",\"Changing lane to the left\",\"Changing lane to the right\",\"Overloading\",\"No priority to vehicle\",\"Changing lane to the left\",\"No priority to pedestrian\",\"No distancing\",\"No priority to vehicle\",\"No distancing\",\"No distancing\",\"Moving Backward\",\"Changing lane to the right\",\"No priority to pedestrian\",\"Moving Backward\",\"Overtaking\",\"Overloading\",\"Changing lane to the right\",\"Improper parking\",\"Other\",\"Changing lane to the left\",\"Overspeed\",\"Changing lane to the left\",\"No priority to vehicle\",\"Changing lane to the right\",\"No distancing\",\"No priority to vehicle\",\"Other\",\"Driving carelessly\",\"Driving carelessly\",\"Driving at high speed\",\"No distancing\",\"Changing lane to the right\",\"Changing lane to the left\",\"Getting off the vehicle improperly\",\"Other\",\"No distancing\",\"No priority to vehicle\",\"Overtaking\",\"No priority to pedestrian\",\"No distancing\",\"Changing lane to the right\",\"Changing lane to the right\",\"Overtaking\",\"Other\",\"Driving to the left\",\"Driving at high speed\",\"Unknown\",\"Changing lane to the right\",\"No distancing\",\"Other\",\"No priority to pedestrian\",\"Overtaking\",\"Driving carelessly\",\"No priority to vehicle\",\"No priority to pedestrian\",\"Changing lane to the right\",\"Driving carelessly\",\"Changing lane to the right\",\"Changing lane to the right\",\"Changing lane to the left\",\"Overturning\",\"Driving carelessly\",\"Driving carelessly\",\"Changing lane to the left\",\"No priority to vehicle\",\"Changing lane to the right\",\"No distancing\",\"Moving Backward\",\"No distancing\",\"No priority to pedestrian\",\"Driving carelessly\",\"Changing lane to the right\",\"Changing lane to the left\",\"Driving carelessly\",\"Driving carelessly\",\"No distancing\",\"Other\",\"No distancing\",\"No distancing\",\"No priority to vehicle\",\"No priority to vehicle\",\"Other\",\"Moving Backward\",\"No distancing\",\"Moving Backward\",\"No priority to vehicle\",\"Driving carelessly\",\"No distancing\",\"Other\",\"Changing lane to the right\",\"No distancing\",\"No distancing\",\"No priority to vehicle\",\"No priority to pedestrian\",\"Turnover\",\"Driving to the left\",\"Driving to the left\",\"Driving carelessly\",\"No priority to pedestrian\",\"Driving carelessly\",\"Changing lane to the right\",\"Moving Backward\",\"Driving carelessly\",\"Driving carelessly\",\"Driving carelessly\",\"Changing lane to the right\",\"Driving carelessly\",\"Overtaking\",\"Changing lane to the right\",\"No distancing\",\"Other\",\"Changing lane to the right\",\"Changing lane to the right\",\"Overtaking\",\"Driving to the left\",\"Overtaking\",\"No priority to vehicle\",\"Moving Backward\",\"Other\",\"No priority to vehicle\",\"No priority to pedestrian\",\"Changing lane to the right\",\"Changing lane to the right\",\"Changing lane to the right\",\"Driving to the left\",\"Changing lane to the left\",\"Driving at high speed\",\"Moving Backward\",\"No distancing\",\"Other\",\"Changing lane to the right\",\"No distancing\",\"Driving carelessly\",\"No distancing\",\"Moving Backward\",\"No distancing\",\"Moving Backward\",\"Changing lane to the left\",\"No distancing\",\"Other\",\"No distancing\",\"No priority to pedestrian\",\"Moving Backward\",\"No priority to pedestrian\",\"No distancing\",\"No priority to pedestrian\",\"Driving carelessly\",\"Getting off the vehicle improperly\",\"Driving carelessly\",\"Changing lane to the left\",\"Moving Backward\",\"Overtaking\",\"Changing lane to the left\",\"Changing lane to the right\",\"Overtaking\",\"Overloading\",\"No priority to vehicle\",\"Changing lane to the right\",\"Moving Backward\",\"Changing lane to the left\",\"No priority to pedestrian\",\"No distancing\",\"No priority to vehicle\",\"No distancing\",\"No distancing\",\"Moving Backward\",\"Moving Backward\",\"Getting off the vehicle improperly\",\"Overtaking\",\"Overloading\",\"Changing lane to the right\",\"Other\",\"No priority to pedestrian\",\"Changing lane to the left\",\"No priority to vehicle\",\"Changing lane to the right\",\"No distancing\",\"No distancing\",\"No priority to vehicle\",\"Other\",\"Driving carelessly\",\"Changing lane to the left\",\"Driving carelessly\",\"Changing lane to the left\",\"No priority to vehicle\",\"No distancing\",\"Changing lane to the right\",\"Driving at high speed\",\"No distancing\",\"Changing lane to the right\",\"No distancing\",\"Overtaking\",\"No priority to pedestrian\",\"No distancing\",\"Changing lane to the right\",\"Driving carelessly\",\"Other\",\"Driving to the left\",\"Unknown\",\"Changing lane to the right\",\"No distancing\",\"Other\",\"No priority to vehicle\",\"No priority to pedestrian\",\"Overtaking\",\"No priority to vehicle\",\"No priority to pedestrian\",\"Changing lane to the right\",\"Driving carelessly\",\"Changing lane to the right\",\"Changing lane to the right\",\"Changing lane to the left\",\"Overturning\",\"No distancing\",\"Driving carelessly\",\"Changing lane to the left\",\"No priority to vehicle\",\"Changing lane to the right\",\"No distancing\",\"Moving Backward\",\"Moving Backward\",\"No distancing\",\"No distancing\",\"No distancing\",\"No priority to pedestrian\",\"Driving carelessly\",\"Changing lane to the right\",\"Changing lane to the left\",\"Driving carelessly\",\"No distancing\",\"Other\",\"Changing lane to the right\",\"Changing lane to the right\",\"No distancing\",\"No distancing\",\"Overturning\",\"Driving at high speed\",\"No priority to vehicle\",\"No priority to pedestrian\",\"No priority to vehicle\",\"Other\",\"Other\",\"Moving Backward\",\"No distancing\",\"Moving Backward\",\"Driving carelessly\",\"Changing lane to the right\",\"No distancing\",\"Driving carelessly\",\"No distancing\",\"No priority to vehicle\",\"Changing lane to the right\",\"No priority to pedestrian\",\"No priority to vehicle\",\"Changing lane to the left\",\"Turnover\",\"Driving carelessly\",\"Driving to the left\",\"Driving carelessly\",\"No priority to pedestrian\",\"Driving carelessly\",\"Changing lane to the right\",\"Moving Backward\",\"Driving carelessly\",\"Changing lane to the right\",\"Driving carelessly\",\"Driving carelessly\",\"Changing lane to the right\",\"Changing lane to the right\",\"Overtaking\",\"Changing lane to the right\",\"No distancing\",\"Other\",\"Changing lane to the right\",\"Changing lane to the right\",\"Overtaking\",\"No priority to vehicle\",\"Moving Backward\",\"Other\",\"No priority to vehicle\",\"No priority to pedestrian\",\"Changing lane to the right\",\"Changing lane to the right\",\"Driving to the left\",\"Moving Backward\",\"Driving at high speed\",\"Moving Backward\",\"No priority to vehicle\",\"Other\",\"No distancing\",\"Driving carelessly\",\"No distancing\",\"Moving Backward\",\"No distancing\",\"Moving Backward\",\"Changing lane to the left\",\"No distancing\",\"Other\",\"No distancing\",\"Moving Backward\",\"No priority to pedestrian\",\"No distancing\",\"Getting off the vehicle improperly\",\"Driving carelessly\",\"Changing lane to the left\",\"No priority to vehicle\",\"Changing lane to the right\",\"Changing lane to the right\",\"No distancing\",\"No distancing\",\"Changing lane to the left\",\"Changing lane to the right\",\"No priority to vehicle\",\"Moving Backward\",\"Turnover\",\"No distancing\",\"No distancing\",\"Changing lane to the left\",\"No priority to vehicle\",\"Driving at high speed\",\"Overtaking\",\"Changing lane to the left\",\"Changing lane to the left\",\"No distancing\",\"Moving Backward\",\"Changing lane to the left\",\"No distancing\",\"Moving Backward\",\"Changing lane to the left\",\"Changing lane to the left\",\"Changing lane to the left\",\"Driving carelessly\",\"No priority to pedestrian\",\"Getting off the vehicle improperly\",\"No distancing\",\"Changing lane to the left\",\"No distancing\",\"No priority to pedestrian\",\"No priority to vehicle\",\"Driving carelessly\",\"Changing lane to the right\",\"Changing lane to the left\",\"Moving Backward\",\"Driving carelessly\",\"Driving to the left\",\"Driving to the left\",\"No priority to pedestrian\",\"Changing lane to the left\",\"Changing lane to the right\",\"Driving carelessly\",\"No distancing\",\"Changing lane to the right\",\"Driving carelessly\",\"Moving Backward\",\"Turnover\",\"Changing lane to the right\",\"Driving carelessly\",\"No priority to vehicle\",\"Moving Backward\",\"Changing lane to the left\",\"Overturning\",\"No distancing\",\"Driving carelessly\",\"Changing lane to the left\",\"No priority to pedestrian\",\"No distancing\",\"No distancing\",\"Changing lane to the left\",\"Changing lane to the left\",\"No distancing\",\"Changing lane to the left\",\"Changing lane to the right\",\"Moving Backward\",\"Overtaking\",\"Other\",\"Changing lane to the left\",\"Overtaking\",\"No distancing\",\"No priority to vehicle\",\"Changing lane to the right\",\"Changing lane to the left\",\"No distancing\",\"Driving carelessly\",\"No priority to pedestrian\",\"Driving carelessly\",\"Moving Backward\",\"No distancing\",\"No distancing\",\"Changing lane to the left\",\"Changing lane to the left\",\"No priority to vehicle\",\"Moving Backward\",\"Driving under the influence of drugs\",\"No priority to pedestrian\",\"No priority to vehicle\",\"Driving carelessly\",\"Moving Backward\",\"Driving carelessly\",\"No priority to vehicle\",\"Changing lane to the right\",\"Changing lane to the left\",\"Moving Backward\",\"Changing lane to the left\",\"No distancing\",\"Changing lane to the left\",\"Driving carelessly\",\"No distancing\",\"No distancing\",\"No distancing\",\"Overtaking\",\"Driving under the influence of drugs\",\"No priority to pedestrian\",\"Moving Backward\",\"Changing lane to the right\",\"Changing lane to the left\",\"Changing lane to the right\",\"Changing lane to the left\",\"Changing lane to the right\",\"Changing lane to the left\",\"Getting off the vehicle improperly\",\"Overtaking\",\"Changing lane to the left\",\"Moving Backward\",\"No distancing\",\"No priority to vehicle\",\"Overturning\",\"Changing lane to the left\",\"No distancing\",\"Moving Backward\",\"No priority to vehicle\",\"No distancing\",\"Overtaking\",\"Changing lane to the right\",\"Changing lane to the left\",\"Moving Backward\",\"Changing lane to the right\",\"No priority to vehicle\",\"Driving at high speed\",\"Driving under the influence of drugs\",\"Changing lane to the right\",\"Driving carelessly\",\"No distancing\",\"Changing lane to the left\",\"Overtaking\",\"Driving carelessly\",\"Driving under the influence of drugs\",\"Moving Backward\",\"Overturning\",\"Driving under the influence of drugs\",\"Changing lane to the right\",\"Changing lane to the left\",\"No distancing\",\"No priority to vehicle\",\"Moving Backward\",\"Moving Backward\",\"Getting off the vehicle improperly\",\"Changing lane to the left\",\"Changing lane to the left\",\"No priority to vehicle\",\"Changing lane to the right\",\"Changing lane to the right\",\"Driving carelessly\",\"Changing lane to the left\",\"Changing lane to the right\",\"Driving carelessly\",\"No distancing\",\"No priority to vehicle\",\"No priority to vehicle\",\"No priority to vehicle\",\"Changing lane to the left\",\"Moving Backward\",\"No priority to vehicle\",\"Driving to the left\",\"Moving Backward\",\"No priority to vehicle\",\"No distancing\",\"Driving carelessly\",\"Changing lane to the left\",\"No priority to vehicle\",\"No priority to vehicle\",\"No distancing\",\"Driving to the left\",\"Driving carelessly\",\"Changing lane to the right\",\"Driving carelessly\",\"Changing lane to the left\",\"Driving carelessly\",\"Driving carelessly\",\"Driving under the influence of drugs\",\"Driving carelessly\",\"No distancing\",\"Driving carelessly\",\"Overtaking\",\"No distancing\",\"Driving carelessly\",\"No priority to vehicle\",\"No priority to vehicle\",\"No priority to vehicle\",\"No priority to vehicle\",\"No distancing\",\"Moving Backward\",\"No distancing\",\"Changing lane to the left\",\"Changing lane to the left\",\"No priority to pedestrian\",\"Moving Backward\",\"Changing lane to the left\",\"No distancing\",\"No priority to vehicle\",\"Changing lane to the right\",\"No distancing\",\"No distancing\",\"Getting off the vehicle improperly\",\"No priority to pedestrian\",\"No distancing\",\"Driving carelessly\",\"No distancing\",\"Changing lane to the right\",\"Overtaking\",\"Driving carelessly\",\"Moving Backward\",\"No distancing\",\"Overtaking\",\"Driving carelessly\",\"Driving carelessly\",\"Moving Backward\",\"Driving carelessly\",\"Driving to the left\",\"Changing lane to the left\",\"No distancing\",\"Changing lane to the right\",\"Driving under the influence of drugs\",\"Changing lane to the right\",\"Changing lane to the left\",\"Moving Backward\",\"No distancing\",\"Changing lane to the right\",\"Moving Backward\",\"No distancing\",\"Driving to the left\",\"Driving to the left\",\"Moving Backward\",\"Moving Backward\",\"Changing lane to the left\",\"Driving under the influence of drugs\",\"Moving Backward\",\"Changing lane to the left\",\"Changing lane to the right\",\"No distancing\",\"Driving at high speed\",\"No priority to vehicle\",\"No distancing\",\"Turnover\",\"No distancing\",\"Changing lane to the right\",\"No distancing\",\"Changing lane to the left\",\"Driving carelessly\",\"Changing lane to the right\",\"No priority to vehicle\",\"No distancing\",\"No priority to pedestrian\",\"No priority to pedestrian\",\"No priority to vehicle\",\"Changing lane to the left\",\"Changing lane to the left\",\"No priority to vehicle\",\"No distancing\",\"No distancing\",\"Changing lane to the right\",\"Changing lane to the left\",\"No distancing\",\"Overturning\",\"No priority to vehicle\",\"Moving Backward\",\"Driving under the influence of drugs\",\"Moving Backward\",\"Changing lane to the right\",\"Overspeed\",\"Driving under the influence of drugs\",\"Driving carelessly\",\"No distancing\",\"No priority to vehicle\",\"Overspeed\",\"Changing lane to the right\",\"Changing lane to the right\",\"Changing lane to the right\",\"Changing lane to the right\",\"Moving Backward\",\"No distancing\",\"No distancing\",\"Changing lane to the left\",\"Changing lane to the right\",\"Overtaking\",\"Overloading\",\"No priority to vehicle\",\"Changing lane to the right\",\"Moving Backward\",\"Changing lane to the left\",\"No priority to pedestrian\",\"No distancing\",\"No priority to vehicle\",\"No distancing\",\"Moving Backward\",\"Changing lane to the right\",\"No priority to pedestrian\",\"Getting off the vehicle improperly\",\"Overtaking\",\"Overloading\",\"Changing lane to the right\",\"Improper parking\",\"Other\",\"Changing lane to the left\",\"Changing lane to the right\",\"Changing lane to the left\",\"No priority to vehicle\",\"Changing lane to the right\",\"No distancing\",\"No priority to pedestrian\",\"No distancing\",\"No priority to vehicle\",\"Driving carelessly\",\"Driving carelessly\",\"Changing lane to the left\",\"No priority to vehicle\",\"No distancing\",\"Changing lane to the right\",\"No distancing\",\"Changing lane to the right\",\"Changing lane to the left\",\"Other\",\"Other\",\"No priority to vehicle\",\"Overtaking\",\"No priority to pedestrian\",\"No distancing\",\"Changing lane to the right\",\"Driving carelessly\",\"Changing lane to the right\",\"Overtaking\",\"Other\",\"Driving to the left\",\"Driving at high speed\",\"Changing lane to the right\",\"No distancing\",\"Other\",\"Changing lane to the left\",\"No priority to pedestrian\",\"No priority to vehicle\",\"No priority to pedestrian\",\"Driving carelessly\",\"Changing lane to the right\",\"Changing lane to the right\",\"Changing lane to the left\",\"Overturning\",\"Driving carelessly\",\"No distancing\",\"Driving carelessly\",\"Changing lane to the left\",\"No priority to vehicle\",\"Changing lane to the right\",\"No distancing\",\"Moving Backward\",\"Moving Backward\",\"No distancing\",\"No distancing\",\"No distancing\",\"No priority to pedestrian\",\"Driving carelessly\",\"Changing lane to the left\",\"Driving carelessly\",\"Driving carelessly\",\"No distancing\",\"Other\",\"Changing lane to the right\",\"Changing lane to the right\",\"No distancing\",\"Overturning\",\"No priority to pedestrian\",\"Other\",\"Other\",\"No distancing\",\"Moving Backward\",\"No priority to vehicle\",\"Driving carelessly\",\"Other\",\"No distancing\",\"Driving carelessly\",\"No distancing\",\"Changing lane to the right\",\"No priority to pedestrian\",\"No priority to vehicle\",\"Changing lane to the left\",\"Turnover\",\"Driving to the left\",\"Driving to the left\",\"No priority to pedestrian\",\"Driving carelessly\",\"Changing lane to the right\",\"Driving carelessly\",\"Changing lane to the right\",\"Driving carelessly\",\"Driving carelessly\",\"Driving carelessly\",\"Changing lane to the right\",\"Driving carelessly\",\"Changing lane to the right\",\"No distancing\",\"Other\",\"Changing lane to the right\",\"Changing lane to the right\",\"Overtaking\",\"Other\",\"Driving to the left\",\"Overtaking\",\"No priority to vehicle\",\"No priority to vehicle\",\"No priority to pedestrian\",\"Changing lane to the right\",\"Changing lane to the right\",\"Changing lane to the right\",\"Driving to the left\",\"Changing lane to the left\",\"Moving Backward\",\"Driving at high speed\",\"Moving Backward\",\"No distancing\",\"Other\",\"No priority to vehicle\",\"Changing lane to the right\",\"Other\",\"No distancing\",\"Driving carelessly\",\"No distancing\",\"Moving Backward\",\"No distancing\",\"Moving Backward\",\"No priority to pedestrian\",\"Other\",\"No priority to pedestrian\",\"Moving Backward\",\"No priority to pedestrian\",\"No distancing\",\"No priority to pedestrian\",\"Driving carelessly\",\"Getting off the vehicle improperly\",\"Driving carelessly\",\"Changing lane to the left\",\"No priority to vehicle\",\"Changing lane to the right\",\"Changing lane to the right\",\"Changing lane to the left\",\"Changing lane to the left\",\"No priority to vehicle\",\"Moving Backward\",\"Turnover\",\"No distancing\",\"No distancing\",\"No distancing\",\"Changing lane to the left\",\"No priority to vehicle\",\"Driving at high speed\",\"Overtaking\",\"Other\",\"Changing lane to the left\",\"No priority to pedestrian\",\"No distancing\",\"Moving Backward\",\"Changing lane to the left\",\"Other\",\"No distancing\",\"Moving Backward\",\"No distancing\",\"Changing lane to the left\",\"Changing lane to the left\",\"No priority to pedestrian\",\"Changing lane to the left\",\"Driving carelessly\",\"No priority to pedestrian\",\"Getting off the vehicle improperly\",\"No distancing\",\"Changing lane to the left\",\"No priority to vehicle\",\"No distancing\",\"No priority to pedestrian\",\"No priority to pedestrian\",\"Driving carelessly\",\"Driving to the left\",\"Driving to the left\",\"No priority to pedestrian\",\"Changing lane to the left\",\"Changing lane to the right\",\"Driving carelessly\",\"No distancing\",\"Getting off the vehicle improperly\",\"Driving under the influence of drugs\",\"Changing lane to the right\",\"Driving carelessly\",\"Moving Backward\",\"Turnover\",\"Driving carelessly\",\"No priority to vehicle\",\"Moving Backward\",\"Changing lane to the left\",\"Overturning\",\"No distancing\",\"Driving carelessly\",\"No distancing\",\"Changing lane to the left\",\"No priority to pedestrian\",\"No distancing\",\"No distancing\",\"Changing lane to the left\",\"No distancing\",\"Changing lane to the left\",\"No distancing\",\"No distancing\",\"Changing lane to the left\",\"Changing lane to the right\",\"Moving Backward\",\"Changing lane to the right\",\"No distancing\",\"Overtaking\",\"Other\",\"Other\",\"Changing lane to the right\",\"No priority to pedestrian\",\"No priority to vehicle\",\"Changing lane to the left\",\"Changing lane to the left\",\"Overtaking\",\"No priority to vehicle\",\"Changing lane to the right\",\"Changing lane to the left\",\"No distancing\",\"Driving carelessly\",\"No priority to pedestrian\",\"Driving carelessly\",\"No distancing\",\"No distancing\",\"No distancing\",\"Changing lane to the left\",\"Moving Backward\",\"Changing lane to the right\",\"No priority to vehicle\",\"Moving Backward\",\"Driving under the influence of drugs\",\"No priority to pedestrian\",\"Driving carelessly\",\"Moving Backward\",\"No priority to vehicle\",\"Driving carelessly\",\"Moving Backward\",\"No distancing\",\"Changing lane to the left\",\"Changing lane to the left\",\"No distancing\",\"Changing lane to the left\",\"Driving carelessly\",\"Changing lane to the left\",\"No distancing\",\"No distancing\",\"Driving to the left\",\"No distancing\",\"Overtaking\",\"Driving under the influence of drugs\",\"No priority to pedestrian\",\"Changing lane to the right\",\"Changing lane to the left\",\"Driving under the influence of drugs\",\"No priority to vehicle\",\"No priority to vehicle\",\"Changing lane to the left\",\"Changing lane to the right\",\"Changing lane to the right\",\"Changing lane to the left\",\"Changing lane to the left\",\"Getting off the vehicle improperly\",\"Overtaking\",\"Changing lane to the left\",\"Driving under the influence of drugs\",\"Driving carelessly\",\"No distancing\",\"Overturning\",\"Changing lane to the left\",\"Moving Backward\",\"No priority to vehicle\",\"No distancing\",\"No distancing\",\"Overtaking\",\"Driving under the influence of drugs\",\"Changing lane to the right\",\"Moving Backward\",\"Moving Backward\",\"Changing lane to the right\",\"No priority to vehicle\",\"Driving at high speed\",\"Driving under the influence of drugs\",\"Changing lane to the right\",\"No distancing\",\"No distancing\",\"Getting off the vehicle improperly\",\"Overtaking\",\"Driving carelessly\",\"Driving under the influence of drugs\",\"Moving Backward\",\"Overturning\",\"Driving under the influence of drugs\",\"Changing lane to the right\",\"Changing lane to the left\",\"No distancing\",\"No distancing\",\"No priority to vehicle\",\"Moving Backward\",\"Moving Backward\",\"Getting off the vehicle improperly\",\"Changing lane to the left\",\"No priority to vehicle\",\"Changing lane to the right\",\"Changing lane to the right\",\"Driving carelessly\",\"Changing lane to the left\",\"Changing lane to the right\",\"Driving under the influence of drugs\",\"Driving carelessly\",\"No distancing\",\"No priority to vehicle\",\"No priority to vehicle\",\"Changing lane to the left\",\"Moving Backward\",\"Driving carelessly\",\"Driving under the influence of drugs\",\"Changing lane to the right\",\"No priority to vehicle\",\"Changing lane to the right\",\"Driving to the left\",\"Moving Backward\",\"No priority to vehicle\",\"No distancing\",\"Changing lane to the left\",\"No priority to vehicle\",\"No distancing\",\"Driving to the left\",\"Driving carelessly\",\"Changing lane to the right\",\"Driving carelessly\",\"Changing lane to the left\",\"Driving carelessly\",\"Driving under the influence of drugs\",\"Driving carelessly\",\"Driving carelessly\",\"No priority to vehicle\",\"No priority to vehicle\",\"No priority to vehicle\",\"No priority to vehicle\",\"No distancing\",\"No distancing\",\"Changing lane to the left\",\"No priority to pedestrian\",\"Moving Backward\",\"Changing lane to the left\",\"No priority to vehicle\",\"Changing lane to the right\",\"No distancing\",\"No distancing\",\"Getting off the vehicle improperly\",\"No priority to pedestrian\",\"Changing lane to the left\",\"No distancing\",\"No distancing\",\"Changing lane to the right\",\"Overtaking\",\"Driving carelessly\",\"Moving Backward\",\"No distancing\",\"Overtaking\",\"Driving carelessly\",\"Moving Backward\",\"Driving carelessly\",\"Driving to the left\",\"Changing lane to the left\",\"No distancing\",\"No distancing\",\"Driving under the influence of drugs\",\"No distancing\",\"Changing lane to the right\",\"Moving Backward\",\"No distancing\",\"Driving to the left\",\"Driving to the left\",\"Moving Backward\",\"Moving Backward\",\"Overtaking\",\"Driving carelessly\",\"Changing lane to the left\",\"Driving under the influence of drugs\",\"No distancing\",\"Moving Backward\",\"Changing lane to the left\",\"Changing lane to the right\",\"No distancing\",\"Driving at high speed\",\"Changing lane to the right\",\"No priority to vehicle\",\"No distancing\",\"Turnover\",\"No distancing\",\"Changing lane to the right\",\"Driving carelessly\",\"Changing lane to the right\",\"No priority to vehicle\",\"No distancing\",\"No priority to pedestrian\",\"No priority to pedestrian\",\"Changing lane to the left\",\"No distancing\",\"Changing lane to the right\",\"Changing lane to the left\",\"No distancing\",\"Overturning\",\"No priority to vehicle\",\"Moving Backward\",\"Moving Backward\",\"Changing lane to the right\",\"Overspeed\",\"Driving under the influence of drugs\",\"No priority to vehicle\",\"Overspeed\",\"Driving under the influence of drugs\",\"Changing lane to the right\",\"Changing lane to the right\",\"Changing lane to the right\",\"Moving Backward\",\"No distancing\",\"Overspeed\",\"No distancing\",\"Driving carelessly\",\"No distancing\",\"No distancing\",\"No distancing\",\"Changing lane to the right\",\"No distancing\",\"No priority to vehicle\",\"Changing lane to the left\",\"Moving Backward\",\"Driving carelessly\",\"Changing lane to the left\",\"No priority to pedestrian\",\"No distancing\",\"No distancing\",\"Overturning\",\"No distancing\",\"Drunk driving\",\"Moving Backward\",\"No priority to pedestrian\",\"Changing lane to the left\",\"Changing lane to the left\",\"Getting off the vehicle improperly\",\"No distancing\",\"Changing lane to the right\",\"Driving at high speed\",\"Changing lane to the left\",\"Moving Backward\",\"Overtaking\",\"Changing lane to the left\",\"Changing lane to the right\",\"Overtaking\",\"Overloading\",\"Other\",\"No priority to vehicle\",\"Changing lane to the right\",\"Moving Backward\",\"Changing lane to the left\",\"No priority to pedestrian\",\"No distancing\",\"No distancing\",\"Moving Backward\",\"Changing lane to the right\",\"No priority to pedestrian\",\"Moving Backward\",\"Getting off the vehicle improperly\",\"Overtaking\",\"Overloading\",\"Improper parking\",\"Changing lane to the left\",\"No priority to pedestrian\",\"Overspeed\",\"Changing lane to the left\",\"No priority to vehicle\",\"Changing lane to the right\",\"No distancing\",\"No priority to pedestrian\",\"No priority to vehicle\",\"Other\",\"Driving carelessly\",\"Driving carelessly\",\"Changing lane to the left\",\"No priority to vehicle\",\"No distancing\",\"No distancing\",\"Changing lane to the right\",\"Changing lane to the left\",\"Getting off the vehicle improperly\",\"Other\",\"Other\",\"No distancing\",\"No priority to vehicle\",\"No priority to pedestrian\",\"Changing lane to the right\",\"Driving carelessly\",\"Changing lane to the right\",\"Overtaking\",\"Driving at high speed\",\"Changing lane to the right\",\"No distancing\",\"No priority to vehicle\",\"Changing lane to the left\",\"No priority to pedestrian\",\"Driving carelessly\",\"No priority to vehicle\",\"No priority to pedestrian\",\"Changing lane to the right\",\"Driving carelessly\",\"Changing lane to the right\",\"Changing lane to the right\",\"Changing lane to the left\",\"Overturning\",\"Driving carelessly\",\"No distancing\",\"Driving carelessly\",\"Changing lane to the left\",\"No priority to vehicle\",\"Changing lane to the right\",\"No distancing\",\"Moving Backward\",\"Moving Backward\",\"No distancing\",\"No distancing\",\"No distancing\",\"Driving carelessly\",\"Changing lane to the right\",\"Changing lane to the left\",\"Driving carelessly\",\"No distancing\",\"Other\",\"Changing lane to the right\",\"Changing lane to the right\",\"No distancing\",\"Overturning\",\"Driving at high speed\",\"No priority to vehicle\",\"No priority to pedestrian\",\"No priority to vehicle\",\"Other\",\"Other\",\"Moving Backward\",\"No distancing\",\"No priority to vehicle\",\"Driving carelessly\",\"No distancing\",\"Changing lane to the right\",\"Driving carelessly\",\"No priority to vehicle\",\"Changing lane to the right\",\"No priority to pedestrian\",\"No priority to vehicle\",\"Changing lane to the left\",\"Turnover\",\"Driving to the left\",\"Driving carelessly\",\"Driving to the left\",\"Driving carelessly\",\"No priority to pedestrian\",\"Driving carelessly\",\"Changing lane to the right\",\"Moving Backward\",\"Driving carelessly\",\"Driving carelessly\",\"Driving carelessly\",\"Driving carelessly\",\"Changing lane to the right\",\"Overtaking\",\"Changing lane to the right\",\"Other\",\"Changing lane to the right\",\"Overtaking\",\"Other\",\"Driving to the left\",\"Overtaking\",\"No priority to vehicle\",\"Moving Backward\",\"Other\",\"No priority to vehicle\",\"No priority to pedestrian\",\"Changing lane to the right\",\"Changing lane to the right\",\"Changing lane to the right\",\"Changing lane to the left\",\"Moving Backward\",\"Driving at high speed\",\"Moving Backward\",\"No distancing\",\"Other\",\"No priority to vehicle\",\"Changing lane to the right\",\"Other\",\"No distancing\",\"Driving carelessly\",\"Moving Backward\",\"No distancing\",\"No priority to pedestrian\",\"No distancing\",\"No priority to pedestrian\",\"Moving Backward\",\"No priority to pedestrian\",\"No priority to pedestrian\",\"Getting off the vehicle improperly\",\"Driving carelessly\",\"No priority to vehicle\",\"Changing lane to the right\",\"No distancing\",\"Changing lane to the left\",\"Changing lane to the left\",\"No priority to vehicle\",\"Moving Backward\",\"Turnover\",\"No distancing\",\"No distancing\",\"No distancing\",\"Changing lane to the left\",\"No priority to vehicle\",\"Other\",\"Changing lane to the left\",\"No distancing\",\"Moving Backward\",\"Changing lane to the left\",\"No distancing\",\"No distancing\",\"Changing lane to the left\",\"Driving carelessly\",\"Driving carelessly\",\"No priority to pedestrian\",\"Getting off the vehicle improperly\",\"No distancing\",\"No distancing\",\"No priority to pedestrian\",\"No priority to vehicle\",\"Driving carelessly\",\"Changing lane to the right\",\"Changing lane to the left\",\"Moving Backward\",\"Driving carelessly\",\"No priority to pedestrian\",\"Changing lane to the left\",\"Changing lane to the right\",\"Driving carelessly\",\"No distancing\",\"Getting off the vehicle improperly\",\"Driving under the influence of drugs\",\"Driving carelessly\",\"Moving Backward\",\"Changing lane to the right\",\"No priority to vehicle\",\"Moving Backward\",\"No distancing\",\"Driving carelessly\",\"No distancing\",\"Changing lane to the left\",\"No priority to pedestrian\",\"No distancing\",\"No distancing\",\"Changing lane to the left\",\"No distancing\",\"No distancing\",\"Changing lane to the left\",\"Changing lane to the right\",\"Changing lane to the right\",\"No distancing\",\"Overtaking\",\"Other\",\"Other\",\"No priority to pedestrian\",\"No priority to vehicle\",\"Changing lane to the left\",\"Changing lane to the left\",\"Overtaking\",\"No priority to vehicle\",\"Changing lane to the right\",\"Changing lane to the left\",\"No distancing\",\"Driving carelessly\",\"No priority to pedestrian\",\"Moving Backward\",\"No distancing\",\"No distancing\",\"No distancing\",\"Changing lane to the left\",\"Changing lane to the left\",\"Moving Backward\",\"Driving carelessly\",\"Driving under the influence of drugs\",\"No priority to pedestrian\",\"No priority to vehicle\",\"Driving carelessly\",\"Moving Backward\",\"Driving carelessly\",\"No priority to vehicle\",\"Changing lane to the right\",\"Changing lane to the left\",\"No priority to vehicle\",\"Moving Backward\",\"No distancing\",\"Changing lane to the left\",\"Changing lane to the left\",\"No distancing\",\"Changing lane to the left\",\"Driving carelessly\",\"Changing lane to the left\",\"No distancing\",\"Changing lane to the right\",\"No distancing\",\"Driving to the left\",\"No distancing\",\"Overtaking\",\"Driving under the influence of drugs\",\"No priority to pedestrian\",\"Moving Backward\",\"Changing lane to the right\",\"Changing lane to the left\",\"Changing lane to the right\",\"Driving under the influence of drugs\",\"No priority to vehicle\",\"No priority to vehicle\",\"Changing lane to the left\",\"Changing lane to the right\",\"Changing lane to the left\",\"Changing lane to the left\",\"Getting off the vehicle improperly\",\"Driving under the influence of drugs\",\"Driving carelessly\",\"No distancing\",\"No priority to vehicle\",\"Overturning\",\"Changing lane to the left\",\"No distancing\",\"Moving Backward\",\"No priority to vehicle\",\"No priority to vehicle\",\"No distancing\",\"No distancing\",\"Overtaking\",\"Driving under the influence of drugs\",\"Changing lane to the right\",\"Changing lane to the left\",\"Driving carelessly\",\"Moving Backward\",\"Changing lane to the right\",\"No priority to vehicle\",\"Driving at high speed\",\"Driving under the influence of drugs\",\"Changing lane to the right\",\"Driving carelessly\",\"No distancing\",\"Changing lane to the left\",\"No distancing\",\"No distancing\",\"Getting off the vehicle improperly\",\"Overtaking\",\"Driving carelessly\",\"Overturning\",\"Driving under the influence of drugs\",\"Changing lane to the left\",\"No distancing\",\"No distancing\",\"No priority to vehicle\",\"Moving Backward\",\"Getting off the vehicle improperly\",\"Changing lane to the left\",\"Changing lane to the left\",\"No priority to vehicle\",\"Changing lane to the right\",\"Changing lane to the right\",\"Changing lane to the left\",\"Changing lane to the right\",\"Driving under the influence of drugs\",\"Driving carelessly\",\"No distancing\",\"No priority to vehicle\",\"No priority to vehicle\",\"No priority to vehicle\",\"Changing lane to the left\",\"Driving carelessly\",\"Driving under the influence of drugs\",\"Changing lane to the right\",\"No priority to vehicle\",\"Changing lane to the right\",\"Driving to the left\",\"Moving Backward\",\"No priority to vehicle\",\"No distancing\",\"Driving carelessly\",\"Changing lane to the left\",\"No priority to vehicle\",\"No priority to vehicle\",\"No distancing\",\"Driving to the left\",\"Driving carelessly\",\"Driving carelessly\",\"Changing lane to the right\",\"Driving carelessly\",\"Changing lane to the left\",\"Driving carelessly\",\"Driving carelessly\",\"Driving under the influence of drugs\",\"Driving carelessly\",\"No distancing\",\"Driving carelessly\",\"Driving to the left\",\"No distancing\",\"Driving carelessly\",\"No priority to vehicle\",\"No priority to vehicle\",\"No priority to vehicle\",\"No priority to vehicle\",\"Moving Backward\",\"No distancing\",\"Changing lane to the left\",\"Changing lane to the left\",\"No priority to pedestrian\",\"Moving Backward\",\"Changing lane to the left\",\"No priority to vehicle\",\"Changing lane to the right\",\"No distancing\",\"No distancing\",\"No priority to pedestrian\",\"Changing lane to the left\",\"No distancing\",\"Driving carelessly\",\"No distancing\",\"Changing lane to the right\",\"Overtaking\",\"Driving carelessly\",\"Overtaking\",\"Driving carelessly\",\"Driving carelessly\",\"Moving Backward\",\"Driving carelessly\",\"Driving to the left\",\"Changing lane to the left\",\"No distancing\",\"Driving under the influence of drugs\",\"Changing lane to the right\",\"Changing lane to the left\",\"Moving Backward\",\"No distancing\",\"No distancing\",\"Driving to the left\",\"Driving to the left\",\"Moving Backward\",\"Overtaking\",\"Changing lane to the left\",\"Driving under the influence of drugs\",\"No distancing\",\"Moving Backward\",\"Changing lane to the left\",\"Changing lane to the right\",\"No distancing\",\"Driving at high speed\",\"Changing lane to the right\",\"No priority to vehicle\",\"No distancing\",\"Turnover\",\"No distancing\",\"Changing lane to the right\",\"No distancing\",\"Changing lane to the right\",\"No priority to pedestrian\",\"No priority to pedestrian\",\"Changing lane to the left\",\"Changing lane to the left\",\"No distancing\",\"No priority to vehicle\",\"No distancing\",\"No distancing\",\"Changing lane to the right\",\"Changing lane to the left\",\"No distancing\",\"Overturning\",\"No priority to vehicle\",\"Moving Backward\",\"Driving under the influence of drugs\",\"Moving Backward\",\"Changing lane to the right\",\"Overspeed\",\"Driving under the influence of drugs\",\"Driving carelessly\",\"No distancing\",\"Overspeed\",\"Changing lane to the right\",\"Changing lane to the right\",\"Changing lane to the right\",\"Changing lane to the right\",\"Moving Backward\",\"Overspeed\",\"No distancing\",\"Changing lane to the left\",\"Moving Backward\",\"Driving carelessly\",\"Changing lane to the left\",\"No distancing\",\"No distancing\",\"Drunk driving\",\"No priority to pedestrian\",\"Changing lane to the left\",\"Changing lane to the left\",\"Getting off the vehicle improperly\",\"No distancing\",\"Changing lane to the right\",\"Moving Backward\",\"Changing lane to the left\",\"Changing lane to the right\",\"No distancing\",\"Changing lane to the right\",\"No distancing\",\"Changing lane to the right\",\"Driving carelessly\",\"Driving carelessly\",\"Changing lane to the right\",\"Changing lane to the right\",\"No distancing\",\"Overturning\",\"Driving carelessly\",\"Changing lane to the right\",\"Driving at high speed\",\"Changing lane to the left\",\"Driving carelessly\",\"No distancing\",\"Moving Backward\",\"No priority to pedestrian\",\"No distancing\",\"Drunk driving\",\"Changing lane to the right\",\"Driving carelessly\",\"Driving to the left\",\"Changing lane to the right\",\"Changing lane to the right\",\"Driving carelessly\",\"Changing lane to the left\",\"No priority to vehicle\",\"Driving carelessly\",\"Changing lane to the right\",\"Driving carelessly\",\"Driving under the influence of drugs\",\"No distancing\",\"Changing lane to the left\",\"No priority to vehicle\",\"Moving Backward\",\"Moving Backward\",\"No distancing\",\"Changing lane to the right\",\"Changing lane to the right\",\"Driving carelessly\",\"Driving under the influence of drugs\",\"No distancing\",\"No priority to vehicle\",\"Driving to the left\",\"No priority to vehicle\",\"No priority to vehicle\",\"No priority to vehicle\",\"No distancing\",\"Moving Backward\",\"Changing lane to the right\",\"Driving carelessly\",\"Changing lane to the left\",\"No distancing\",\"No distancing\",\"Changing lane to the right\",\"No priority to vehicle\",\"Changing lane to the right\",\"Changing lane to the left\",\"No distancing\",\"No priority to pedestrian\",\"Driving carelessly\",\"No distancing\",\"Driving carelessly\",\"Driving carelessly\",\"Moving Backward\",\"Overtaking\",\"No priority to vehicle\",\"No priority to vehicle\",\"No priority to vehicle\",\"No distancing\",\"Moving Backward\",\"Changing lane to the right\",\"No distancing\",\"Overtaking\",\"No distancing\",\"Changing lane to the left\",\"Driving under the influence of drugs\",\"No distancing\",\"No distancing\",\"Changing lane to the right\",\"Moving Backward\",\"No distancing\",\"No distancing\",\"Driving carelessly\",\"Moving Backward\",\"No distancing\",\"Changing lane to the right\",\"Driving carelessly\",\"Changing lane to the right\",\"Driving carelessly\",\"No priority to vehicle\",\"Turnover\",\"No priority to vehicle\",\"Driving at high speed\",\"No distancing\",\"Driving carelessly\",\"Driving carelessly\",\"Moving Backward\",\"No distancing\",\"Changing lane to the right\",\"Overtaking\",\"No distancing\",\"Overtaking\",\"No distancing\",\"No distancing\",\"No priority to vehicle\",\"No priority to vehicle\",\"Changing lane to the left\",\"No distancing\",\"Driving under the influence of drugs\",\"Changing lane to the left\",\"Changing lane to the right\",\"Driving to the left\",\"Driving at high speed\",\"Changing lane to the right\",\"Moving Backward\",\"Moving Backward\",\"Moving Backward\",\"No distancing\",\"Moving Backward\",\"Changing lane to the right\",\"Changing lane to the left\",\"No priority to vehicle\",\"No distancing\",\"No priority to vehicle\",\"Driving under the influence of drugs\",\"Changing lane to the right\",\"No distancing\",\"No distancing\",\"Changing lane to the left\",\"Changing lane to the right\",\"Changing lane to the right\",\"Driving under the influence of drugs\",\"Moving Backward\",\"Changing lane to the left\",\"No distancing\",\"No distancing\",\"Changing lane to the left\",\"Changing lane to the right\",\"No distancing\",\"Changing lane to the left\",\"Moving Backward\",\"No distancing\",\"Changing lane to the left\",\"Driving carelessly\",\"No priority to vehicle\",\"Changing lane to the right\",\"No priority to pedestrian\",\"Changing lane to the left\",\"Driving under the influence of drugs\",\"Moving Backward\",\"Changing lane to the right\",\"Changing lane to the right\",\"No distancing\",\"Moving Backward\",\"No distancing\",\"Driving carelessly\",\"No priority to pedestrian\",\"No priority to vehicle\",\"Moving Backward\",\"Changing lane to the right\",\"No distancing\",\"Driving carelessly\",\"Changing lane to the left\",\"Moving Backward\",\"No distancing\",\"Changing lane to the right\",\"No priority to vehicle\",\"Getting off the vehicle improperly\",\"No distancing\",\"No distancing\",\"Changing lane to the left\",\"No priority to vehicle\",\"Driving carelessly\",\"Changing lane to the right\",\"Changing lane to the right\",\"No distancing\",\"Driving under the influence of drugs\",\"Changing lane to the left\",\"Getting off the vehicle improperly\",\"Overloading\",\"Driving carelessly\",\"Overtaking\",\"No distancing\",\"Overturning\",\"Driving carelessly\",\"No priority to pedestrian\",\"No distancing\",\"Getting off the vehicle improperly\",\"Changing lane to the right\",\"Moving Backward\",\"Changing lane to the left\",\"No distancing\",\"Driving carelessly\",\"Driving under the influence of drugs\",\"Driving carelessly\",\"Driving carelessly\",\"Changing lane to the right\",\"No distancing\",\"Driving carelessly\",\"No priority to pedestrian\",\"Moving Backward\",\"Moving Backward\",\"No priority to vehicle\",\"Moving Backward\",\"Changing lane to the right\",\"Moving Backward\",\"Driving carelessly\",\"No distancing\",\"Driving carelessly\",\"No priority to vehicle\",\"Changing lane to the right\",\"Moving Backward\",\"Driving under the influence of drugs\",\"Changing lane to the right\",\"Changing lane to the left\",\"Driving carelessly\",\"No priority to pedestrian\",\"No priority to pedestrian\",\"Changing lane to the right\",\"Drunk driving\",\"Changing lane to the left\",\"Driving to the left\",\"Changing lane to the left\",\"Driving under the influence of drugs\",\"No priority to pedestrian\",\"Changing lane to the left\",\"Moving Backward\",\"No distancing\",\"Changing lane to the right\",\"No priority to vehicle\",\"Moving Backward\",\"Overtaking\",\"Changing lane to the right\",\"Overtaking\",\"Overloading\",\"Other\",\"No priority to vehicle\",\"Changing lane to the right\",\"Moving Backward\",\"Changing lane to the left\",\"No priority to pedestrian\",\"No distancing\",\"No priority to vehicle\",\"No distancing\",\"Moving Backward\",\"Changing lane to the right\",\"Moving Backward\",\"Getting off the vehicle improperly\",\"Overloading\",\"Changing lane to the right\",\"Improper parking\",\"Other\",\"Changing lane to the left\",\"No priority to pedestrian\",\"Overspeed\",\"No priority to vehicle\",\"No distancing\",\"No priority to vehicle\",\"Other\",\"Driving carelessly\",\"Changing lane to the left\",\"Driving carelessly\",\"No priority to vehicle\",\"No distancing\",\"Changing lane to the right\",\"Changing lane to the right\",\"Driving at high speed\",\"No distancing\",\"Changing lane to the left\",\"Getting off the vehicle improperly\",\"Other\",\"Other\",\"No distancing\",\"No priority to vehicle\",\"Overtaking\",\"No priority to pedestrian\",\"Changing lane to the right\",\"Driving carelessly\",\"Changing lane to the right\",\"Overtaking\",\"Other\",\"Driving to the left\",\"Unknown\",\"No distancing\",\"Other\",\"No priority to vehicle\",\"Changing lane to the left\",\"No priority to pedestrian\",\"Moving Backward\",\"Changing lane to the left\",\"No priority to vehicle\",\"Changing lane to the right\",\"Moving Backward\",\"Changing lane to the left\",\"No priority to pedestrian\",\"No distancing\",\"No priority to vehicle\",\"No distancing\",\"No distancing\",\"Moving Backward\",\"Changing lane to the right\",\"No priority to pedestrian\",\"Moving Backward\",\"Getting off the vehicle improperly\",\"Overtaking\",\"Overloading\",\"Changing lane to the right\",\"Improper parking\",\"Changing lane to the left\",\"Changing lane to the right\",\"No priority to pedestrian\",\"Overspeed\",\"Changing lane to the right\",\"No distancing\",\"No distancing\",\"Other\",\"Driving carelessly\",\"Changing lane to the left\",\"No distancing\",\"Changing lane to the right\",\"Driving at high speed\",\"No distancing\",\"Changing lane to the right\",\"Changing lane to the left\",\"Getting off the vehicle improperly\",\"Other\",\"No distancing\",\"No priority to vehicle\",\"Overtaking\",\"Driving carelessly\",\"Changing lane to the right\",\"Overtaking\",\"Other\",\"Driving to the left\",\"Driving at high speed\",\"Unknown\",\"Changing lane to the right\",\"Other\",\"No priority to vehicle\",\"Changing lane to the left\",\"No priority to pedestrian\",\"Overtaking\",\"Driving carelessly\",\"No priority to vehicle\",\"No priority to pedestrian\",\"Changing lane to the right\",\"Driving carelessly\",\"Changing lane to the right\",\"Changing lane to the right\",\"Changing lane to the left\",\"Overturning\",\"Driving carelessly\",\"No distancing\",\"Driving carelessly\",\"Changing lane to the left\",\"No priority to vehicle\",\"Changing lane to the right\",\"No distancing\",\"Moving Backward\",\"Moving Backward\",\"No distancing\",\"No distancing\",\"Driving carelessly\",\"Changing lane to the right\",\"Changing lane to the left\",\"Driving carelessly\",\"Driving carelessly\",\"No distancing\",\"Other\",\"Changing lane to the right\",\"Changing lane to the right\",\"No distancing\",\"No distancing\",\"Overturning\",\"No priority to vehicle\",\"No priority to pedestrian\",\"Other\",\"Moving Backward\",\"No distancing\",\"Moving Backward\",\"Driving carelessly\",\"No distancing\",\"Other\",\"No distancing\",\"No distancing\",\"Changing lane to the right\",\"No priority to pedestrian\",\"No priority to vehicle\",\"Changing lane to the left\",\"Turnover\",\"Driving to the left\",\"Driving carelessly\",\"Driving to the left\",\"Driving carelessly\",\"No priority to pedestrian\",\"Driving carelessly\",\"Moving Backward\",\"Driving carelessly\",\"Driving carelessly\",\"Driving carelessly\",\"Changing lane to the right\",\"Changing lane to the right\",\"Driving carelessly\",\"Overtaking\",\"Changing lane to the right\",\"Other\",\"Changing lane to the right\",\"Overtaking\",\"Other\",\"Driving to the left\",\"No priority to vehicle\",\"Moving Backward\",\"Other\",\"No priority to vehicle\",\"Changing lane to the right\",\"Changing lane to the right\",\"Driving to the left\",\"Moving Backward\",\"Driving at high speed\",\"Moving Backward\",\"No distancing\",\"Other\",\"No priority to vehicle\",\"Changing lane to the right\",\"Other\",\"No distancing\",\"Driving carelessly\",\"No distancing\",\"Moving Backward\",\"No distancing\",\"Moving Backward\",\"No priority to pedestrian\",\"Changing lane to the left\",\"No distancing\",\"Other\",\"No distancing\",\"No priority to pedestrian\",\"Moving Backward\",\"No distancing\",\"No priority to pedestrian\",\"Driving carelessly\",\"Getting off the vehicle improperly\",\"Changing lane to the left\",\"No priority to vehicle\",\"Changing lane to the right\",\"Changing lane to the right\",\"No distancing\",\"Changing lane to the left\",\"Changing lane to the right\",\"No priority to vehicle\",\"Changing lane to the left\",\"No priority to vehicle\",\"Moving Backward\",\"Turnover\",\"No distancing\",\"No distancing\",\"Changing lane to the left\",\"No priority to vehicle\",\"Driving at high speed\",\"Overtaking\",\"Other\",\"Changing lane to the left\",\"No priority to pedestrian\",\"No distancing\",\"Changing lane to the left\",\"No distancing\",\"Moving Backward\",\"No distancing\",\"Changing lane to the left\",\"Changing lane to the left\",\"No priority to pedestrian\",\"Changing lane to the left\",\"Driving carelessly\",\"Driving carelessly\",\"No priority to pedestrian\",\"Getting off the vehicle improperly\",\"No distancing\",\"Changing lane to the left\",\"No priority to vehicle\",\"No distancing\",\"No priority to pedestrian\",\"No priority to vehicle\",\"Driving carelessly\",\"Changing lane to the left\",\"Driving carelessly\",\"Driving to the left\",\"No priority to pedestrian\",\"Changing lane to the left\",\"Driving carelessly\",\"No distancing\",\"Getting off the vehicle improperly\",\"Driving under the influence of drugs\",\"Changing lane to the right\",\"Driving carelessly\",\"Moving Backward\",\"Turnover\",\"Changing lane to the right\",\"Driving carelessly\",\"No priority to vehicle\",\"Moving Backward\",\"Overturning\",\"No distancing\",\"Driving carelessly\",\"No distancing\",\"Changing lane to the left\",\"No priority to pedestrian\",\"No distancing\",\"No distancing\",\"Changing lane to the left\",\"No distancing\",\"Changing lane to the left\",\"No distancing\",\"No distancing\",\"Changing lane to the right\",\"Overtaking\",\"Other\",\"Other\",\"Changing lane to the right\",\"No priority to pedestrian\",\"Changing lane to the left\",\"No priority to vehicle\",\"Changing lane to the right\",\"Driving carelessly\",\"No priority to pedestrian\",\"Driving carelessly\",\"Moving Backward\",\"No distancing\",\"No distancing\",\"No distancing\",\"Changing lane to the left\",\"Changing lane to the left\",\"No priority to vehicle\",\"Driving carelessly\",\"Driving under the influence of drugs\",\"No priority to pedestrian\",\"Moving Backward\",\"Changing lane to the left\",\"Driving carelessly\",\"Changing lane to the left\",\"No distancing\",\"Changing lane to the left\",\"No distancing\",\"No distancing\",\"Driving to the left\",\"No distancing\",\"Overtaking\",\"Driving under the influence of drugs\",\"No priority to pedestrian\",\"Changing lane to the left\",\"Changing lane to the right\",\"Driving under the influence of drugs\",\"No priority to vehicle\",\"No priority to vehicle\",\"Changing lane to the left\",\"Changing lane to the left\",\"Overtaking\",\"Driving under the influence of drugs\",\"Driving carelessly\",\"No priority to vehicle\",\"Overturning\",\"Changing lane to the left\",\"No distancing\",\"Moving Backward\",\"No priority to vehicle\",\"No priority to vehicle\",\"No distancing\",\"No distancing\",\"Changing lane to the left\",\"Moving Backward\",\"Moving Backward\",\"Changing lane to the right\",\"No priority to vehicle\",\"Driving at high speed\",\"Driving under the influence of drugs\",\"Changing lane to the right\",\"No distancing\",\"Changing lane to the left\",\"No distancing\",\"No distancing\",\"Getting off the vehicle improperly\",\"Overtaking\",\"Driving carelessly\",\"Driving under the influence of drugs\",\"Moving Backward\",\"Overturning\",\"Driving under the influence of drugs\",\"Changing lane to the right\",\"No distancing\",\"No distancing\",\"No priority to vehicle\",\"Moving Backward\",\"Getting off the vehicle improperly\",\"Changing lane to the right\",\"Changing lane to the left\",\"Changing lane to the right\",\"Driving under the influence of drugs\",\"Driving carelessly\",\"No distancing\",\"No priority to vehicle\",\"No priority to vehicle\",\"No priority to vehicle\",\"Changing lane to the left\",\"Moving Backward\",\"Driving under the influence of drugs\",\"Changing lane to the right\",\"No priority to vehicle\",\"Changing lane to the right\",\"Driving to the left\",\"Moving Backward\",\"No priority to vehicle\",\"No distancing\",\"Driving carelessly\",\"Changing lane to the left\",\"No priority to vehicle\",\"No priority to vehicle\",\"No distancing\",\"Driving to the left\",\"Driving carelessly\",\"Driving carelessly\",\"Changing lane to the right\",\"Driving carelessly\",\"Changing lane to the left\",\"Driving carelessly\",\"Driving under the influence of drugs\",\"Driving carelessly\",\"No distancing\",\"Driving carelessly\",\"Driving to the left\",\"Overtaking\",\"Driving carelessly\",\"No priority to vehicle\",\"No priority to vehicle\",\"No priority to vehicle\",\"Moving Backward\",\"No distancing\",\"Changing lane to the left\",\"Changing lane to the left\",\"No priority to pedestrian\",\"Moving Backward\",\"Changing lane to the left\",\"No distancing\",\"No priority to vehicle\",\"Changing lane to the right\",\"No distancing\",\"No distancing\",\"Getting off the vehicle improperly\",\"No priority to pedestrian\",\"Changing lane to the left\",\"Driving carelessly\",\"Changing lane to the right\",\"Overtaking\",\"Driving carelessly\",\"Moving Backward\",\"No distancing\",\"Overtaking\",\"Driving carelessly\",\"Moving Backward\",\"Driving carelessly\",\"Driving to the left\",\"Changing lane to the right\",\"Driving under the influence of drugs\",\"Changing lane to the left\",\"No distancing\",\"Driving to the left\",\"Driving to the left\",\"Moving Backward\",\"Moving Backward\",\"Overtaking\",\"Driving carelessly\",\"Changing lane to the left\",\"Driving under the influence of drugs\",\"No distancing\",\"Moving Backward\",\"Changing lane to the left\",\"Changing lane to the right\",\"No distancing\",\"Driving at high speed\",\"Changing lane to the right\",\"No priority to vehicle\",\"Turnover\",\"No distancing\",\"Changing lane to the right\",\"No distancing\",\"Changing lane to the left\",\"Driving carelessly\",\"Changing lane to the right\",\"No priority to vehicle\",\"No distancing\",\"No priority to pedestrian\",\"No priority to pedestrian\",\"No priority to vehicle\",\"Changing lane to the left\",\"Changing lane to the left\",\"No distancing\",\"No priority to vehicle\",\"No distancing\",\"No distancing\",\"Changing lane to the right\",\"Changing lane to the left\",\"No distancing\",\"Overturning\",\"No priority to vehicle\",\"Moving Backward\",\"Changing lane to the right\",\"Overspeed\",\"Driving under the influence of drugs\",\"No distancing\",\"No priority to vehicle\",\"Overspeed\",\"Driving under the influence of drugs\",\"Changing lane to the right\",\"Changing lane to the right\",\"Changing lane to the right\",\"Moving Backward\",\"No distancing\",\"Overspeed\",\"No distancing\",\"No distancing\",\"No distancing\",\"No distancing\",\"Changing lane to the right\",\"Changing lane to the left\",\"Moving Backward\",\"Driving carelessly\",\"Changing lane to the left\",\"No priority to pedestrian\",\"No distancing\",\"No distancing\",\"Overturning\",\"Drunk driving\",\"Moving Backward\",\"No priority to pedestrian\",\"Changing lane to the left\",\"Changing lane to the left\",\"Getting off the vehicle improperly\",\"No distancing\",\"Changing lane to the right\",\"Driving at high speed\",\"Changing lane to the left\",\"Changing lane to the right\",\"No distancing\",\"Changing lane to the right\",\"No distancing\",\"Changing lane to the right\",\"Driving carelessly\",\"Driving carelessly\",\"Overturning\",\"Changing lane to the right\",\"No distancing\",\"Overturning\",\"Driving carelessly\",\"Driving at high speed\",\"Changing lane to the left\",\"No distancing\",\"Moving Backward\",\"No priority to pedestrian\",\"Moving Backward\",\"Changing lane to the right\",\"Drunk driving\",\"Changing lane to the right\",\"Driving to the left\",\"Changing lane to the right\",\"Changing lane to the right\",\"Changing lane to the left\",\"No priority to vehicle\",\"Changing lane to the right\",\"Driving carelessly\",\"Driving under the influence of drugs\",\"No distancing\",\"Changing lane to the left\",\"No priority to vehicle\",\"Moving Backward\",\"Moving Backward\",\"No distancing\",\"Changing lane to the right\",\"Changing lane to the right\",\"Moving Backward\",\"Driving carelessly\",\"Driving under the influence of drugs\",\"No distancing\",\"No distancing\",\"No priority to vehicle\",\"Driving to the left\",\"No priority to vehicle\",\"No priority to vehicle\",\"No distancing\",\"Moving Backward\",\"Changing lane to the right\",\"Driving carelessly\",\"Changing lane to the left\",\"No distancing\",\"Driving under the influence of drugs\",\"No distancing\",\"Changing lane to the right\",\"Changing lane to the right\",\"Changing lane to the left\",\"No priority to pedestrian\",\"Driving carelessly\",\"No distancing\",\"Driving carelessly\",\"Moving Backward\",\"No priority to vehicle\",\"No priority to vehicle\",\"Moving Backward\",\"Changing lane to the left\",\"Changing lane to the right\",\"Overtaking\",\"Overloading\",\"Other\",\"No priority to vehicle\",\"Moving Backward\",\"No priority to pedestrian\",\"No distancing\",\"No priority to vehicle\",\"No distancing\",\"Moving Backward\",\"Changing lane to the right\",\"No priority to pedestrian\",\"Moving Backward\",\"Getting off the vehicle improperly\",\"Overloading\",\"Improper parking\",\"Other\",\"Changing lane to the left\",\"Changing lane to the right\",\"No priority to pedestrian\",\"Overspeed\",\"Changing lane to the left\",\"No priority to vehicle\",\"Changing lane to the right\",\"No distancing\",\"No priority to vehicle\",\"Other\",\"Driving carelessly\",\"Changing lane to the left\",\"Driving carelessly\",\"Changing lane to the left\",\"No priority to vehicle\",\"No distancing\",\"Changing lane to the right\",\"Changing lane to the right\",\"Driving at high speed\",\"No distancing\",\"Changing lane to the right\",\"Changing lane to the left\",\"Getting off the vehicle improperly\",\"Other\",\"Other\",\"No distancing\",\"No priority to vehicle\",\"Overtaking\",\"No priority to pedestrian\",\"No distancing\",\"Driving carelessly\",\"Changing lane to the right\",\"Other\",\"Driving to the left\",\"Driving at high speed\",\"Unknown\",\"Changing lane to the right\",\"No priority to vehicle\",\"Changing lane to the left\",\"No priority to pedestrian\",\"Overtaking\",\"Driving carelessly\",\"Changing lane to the right\",\"Changing lane to the right\",\"Changing lane to the left\",\"Overturning\",\"Driving carelessly\",\"No distancing\",\"Driving carelessly\",\"Changing lane to the left\",\"No priority to vehicle\",\"Changing lane to the right\",\"No distancing\",\"Moving Backward\",\"Moving Backward\",\"No distancing\",\"No distancing\",\"No priority to pedestrian\",\"Changing lane to the right\",\"Changing lane to the left\",\"Driving carelessly\",\"Driving carelessly\",\"No distancing\",\"Other\",\"Changing lane to the right\",\"Changing lane to the right\",\"No distancing\",\"No distancing\",\"Driving at high speed\",\"No priority to vehicle\",\"No priority to pedestrian\",\"No priority to vehicle\",\"Other\",\"Other\",\"Moving Backward\",\"No distancing\",\"No priority to vehicle\",\"Driving carelessly\",\"No distancing\",\"Driving carelessly\",\"No distancing\",\"No priority to vehicle\",\"Changing lane to the right\",\"No priority to pedestrian\",\"No priority to vehicle\",\"Changing lane to the left\",\"Turnover\",\"Driving to the left\",\"Driving carelessly\",\"Driving to the left\",\"Driving carelessly\",\"Driving carelessly\",\"Changing lane to the right\",\"Moving Backward\",\"Changing lane to the right\",\"Driving carelessly\",\"Driving carelessly\",\"Driving carelessly\",\"Changing lane to the right\",\"Changing lane to the right\",\"Overtaking\",\"Changing lane to the right\",\"Overtaking\",\"Other\",\"Driving to the left\",\"Overtaking\",\"No priority to vehicle\",\"Moving Backward\",\"Other\",\"No priority to vehicle\",\"No priority to pedestrian\",\"Changing lane to the right\",\"Changing lane to the right\",\"Changing lane to the right\",\"Driving to the left\",\"Changing lane to the left\",\"Moving Backward\",\"Driving at high speed\",\"Moving Backward\",\"No distancing\",\"Other\",\"No priority to vehicle\",\"Changing lane to the right\",\"Other\",\"No distancing\",\"No distancing\",\"Moving Backward\",\"No distancing\",\"Moving Backward\",\"No distancing\",\"Other\",\"No priority to pedestrian\",\"No priority to pedestrian\",\"No distancing\",\"Driving carelessly\",\"Getting off the vehicle improperly\",\"Driving carelessly\",\"Changing lane to the left\",\"No priority to vehicle\",\"Changing lane to the right\",\"Changing lane to the right\",\"No distancing\",\"No distancing\",\"Changing lane to the left\",\"Changing lane to the right\",\"No priority to vehicle\",\"Changing lane to the left\",\"No priority to vehicle\",\"Moving Backward\",\"Turnover\",\"No distancing\",\"No distancing\",\"No distancing\",\"Changing lane to the left\",\"No priority to vehicle\",\"Other\",\"Changing lane to the left\",\"No priority to pedestrian\",\"Changing lane to the left\",\"No distancing\",\"Moving Backward\",\"Changing lane to the left\",\"Other\",\"No distancing\",\"Moving Backward\",\"No distancing\",\"Changing lane to the left\",\"Changing lane to the left\",\"No priority to pedestrian\",\"Changing lane to the left\",\"Driving carelessly\",\"Driving carelessly\",\"No priority to pedestrian\",\"No distancing\",\"No distancing\",\"No priority to pedestrian\",\"No priority to pedestrian\",\"No priority to vehicle\",\"Driving carelessly\",\"Changing lane to the right\",\"Changing lane to the left\",\"Moving Backward\",\"Driving carelessly\",\"Driving to the left\",\"Driving to the left\",\"Changing lane to the left\",\"Changing lane to the right\",\"Driving carelessly\",\"No distancing\",\"Getting off the vehicle improperly\",\"Driving under the influence of drugs\",\"Changing lane to the right\",\"Driving carelessly\",\"Moving Backward\",\"Changing lane to the right\",\"No priority to vehicle\",\"Moving Backward\",\"Changing lane to the left\",\"Overturning\",\"No distancing\",\"Driving carelessly\",\"No distancing\",\"Changing lane to the left\",\"No priority to pedestrian\",\"No distancing\",\"No distancing\",\"No distancing\",\"Changing lane to the left\",\"No distancing\",\"No distancing\",\"Changing lane to the left\",\"Changing lane to the right\",\"Moving Backward\",\"Changing lane to the right\",\"No distancing\",\"Overtaking\",\"Other\",\"Other\",\"Changing lane to the right\",\"No priority to pedestrian\",\"Changing lane to the left\",\"Changing lane to the left\",\"Overtaking\",\"No distancing\",\"No priority to vehicle\",\"Changing lane to the right\",\"Changing lane to the left\",\"No distancing\",\"Driving carelessly\",\"No priority to pedestrian\",\"Driving carelessly\",\"Moving Backward\",\"No distancing\",\"Changing lane to the left\",\"Moving Backward\",\"No priority to vehicle\",\"Moving Backward\",\"Driving carelessly\",\"Driving carelessly\",\"Driving under the influence of drugs\",\"No priority to vehicle\",\"No priority to vehicle\",\"Driving carelessly\",\"Moving Backward\",\"Changing lane to the left\",\"Changing lane to the left\",\"Changing lane to the left\",\"Driving carelessly\",\"Changing lane to the left\",\"No distancing\",\"Changing lane to the right\",\"No distancing\",\"No distancing\",\"Overtaking\",\"Driving under the influence of drugs\",\"No priority to pedestrian\",\"Moving Backward\",\"Changing lane to the right\",\"Changing lane to the left\",\"Changing lane to the right\",\"No priority to vehicle\",\"No priority to vehicle\",\"Changing lane to the left\",\"Changing lane to the right\",\"Changing lane to the right\",\"Changing lane to the left\",\"Changing lane to the left\",\"Getting off the vehicle improperly\",\"Overtaking\",\"Changing lane to the left\",\"Driving under the influence of drugs\",\"Driving carelessly\",\"Moving Backward\",\"No distancing\",\"No priority to vehicle\",\"Overturning\",\"Changing lane to the left\",\"No distancing\",\"Moving Backward\",\"No priority to vehicle\",\"No distancing\",\"No distancing\",\"Overtaking\",\"Driving under the influence of drugs\",\"Changing lane to the right\",\"Changing lane to the left\",\"Moving Backward\",\"Moving Backward\",\"Changing lane to the right\",\"Driving under the influence of drugs\",\"Changing lane to the right\",\"Driving carelessly\",\"No distancing\",\"Changing lane to the left\",\"No distancing\",\"No distancing\",\"Getting off the vehicle improperly\",\"Overtaking\",\"Driving carelessly\",\"Driving under the influence of drugs\",\"Changing lane to the right\",\"Changing lane to the left\",\"No distancing\",\"No distancing\",\"No priority to vehicle\",\"Moving Backward\",\"Changing lane to the left\",\"Changing lane to the right\",\"Driving carelessly\",\"Changing lane to the left\",\"Changing lane to the right\",\"Driving under the influence of drugs\",\"Driving carelessly\",\"No priority to vehicle\",\"No priority to vehicle\",\"No priority to vehicle\",\"Changing lane to the left\",\"Driving carelessly\",\"Driving under the influence of drugs\",\"Changing lane to the right\",\"No priority to vehicle\",\"Changing lane to the right\",\"Moving Backward\",\"No priority to vehicle\",\"No distancing\",\"Driving carelessly\",\"Changing lane to the left\",\"No priority to vehicle\",\"No distancing\",\"Driving to the left\",\"Driving carelessly\",\"Driving carelessly\",\"Changing lane to the right\",\"Driving carelessly\",\"Changing lane to the left\",\"Driving carelessly\",\"Driving carelessly\",\"Driving under the influence of drugs\",\"Driving carelessly\",\"No distancing\",\"Driving carelessly\",\"Driving to the left\",\"Overtaking\",\"No distancing\",\"Driving carelessly\",\"Moving Backward\",\"Overtaking\",\"Changing lane to the left\",\"Changing lane to the right\",\"Overtaking\",\"Other\",\"Changing lane to the right\",\"Moving Backward\",\"Changing lane to the left\",\"No priority to pedestrian\",\"No distancing\",\"No priority to vehicle\",\"No distancing\",\"No distancing\",\"Moving Backward\",\"Changing lane to the right\",\"No priority to pedestrian\",\"Moving Backward\",\"Getting off the vehicle improperly\",\"Overtaking\",\"Overloading\",\"Other\",\"Changing lane to the left\",\"Changing lane to the right\",\"No priority to pedestrian\",\"Overspeed\",\"Changing lane to the left\",\"No priority to vehicle\",\"Changing lane to the right\",\"No priority to pedestrian\",\"No priority to vehicle\",\"Driving carelessly\",\"Changing lane to the left\",\"Driving carelessly\",\"Changing lane to the left\",\"No priority to vehicle\",\"No distancing\",\"Changing lane to the right\",\"Changing lane to the right\",\"Driving at high speed\",\"No distancing\",\"Changing lane to the right\",\"Getting off the vehicle improperly\",\"Other\",\"Other\",\"No priority to vehicle\",\"Overtaking\",\"No priority to pedestrian\",\"No distancing\",\"Changing lane to the right\",\"Driving carelessly\",\"Changing lane to the right\",\"Overtaking\",\"Other\",\"Driving to the left\",\"Driving at high speed\",\"Unknown\",\"Changing lane to the right\",\"No distancing\",\"Other\",\"No priority to vehicle\",\"Changing lane to the left\",\"No priority to pedestrian\",\"Overtaking\",\"No priority to vehicle\",\"Changing lane to the right\",\"Driving carelessly\",\"Changing lane to the right\",\"Changing lane to the left\",\"Overturning\",\"Driving carelessly\",\"No distancing\",\"Driving carelessly\",\"Changing lane to the left\",\"Moving Backward\",\"No distancing\",\"No distancing\",\"No distancing\",\"No priority to pedestrian\",\"Driving carelessly\",\"Changing lane to the right\",\"Changing lane to the left\",\"Driving carelessly\",\"Driving carelessly\",\"No distancing\",\"Changing lane to the right\",\"Changing lane to the right\",\"No distancing\",\"No distancing\",\"Overturning\",\"Driving at high speed\",\"No priority to vehicle\",\"No priority to pedestrian\",\"No priority to vehicle\",\"Other\",\"Other\",\"Moving Backward\",\"No distancing\",\"Moving Backward\",\"No priority to vehicle\",\"Driving carelessly\",\"No distancing\",\"Changing lane to the right\",\"No distancing\",\"Driving carelessly\",\"No distancing\",\"No priority to vehicle\",\"Changing lane to the right\",\"No priority to pedestrian\",\"No priority to vehicle\",\"No priority to pedestrian\",\"Driving carelessly\",\"Changing lane to the right\",\"Moving Backward\",\"Driving carelessly\",\"Changing lane to the right\",\"Driving carelessly\",\"Driving carelessly\",\"Changing lane to the right\",\"Changing lane to the right\",\"Driving carelessly\",\"Overtaking\",\"Changing lane to the right\",\"No distancing\",\"Changing lane to the right\",\"Changing lane to the right\",\"Overtaking\",\"Driving to the left\",\"No priority to vehicle\",\"Moving Backward\",\"No priority to vehicle\",\"No priority to pedestrian\",\"Changing lane to the right\",\"Changing lane to the right\",\"Driving to the left\",\"Changing lane to the left\",\"Moving Backward\",\"Moving Backward\",\"No distancing\",\"Other\",\"No priority to vehicle\",\"Changing lane to the right\",\"Other\",\"Driving carelessly\",\"Moving Backward\",\"No distancing\",\"Moving Backward\",\"No priority to pedestrian\",\"Changing lane to the left\",\"No distancing\",\"Other\",\"No distancing\",\"No priority to pedestrian\",\"No priority to pedestrian\",\"No distancing\",\"Driving carelessly\",\"No priority to vehicle\",\"Changing lane to the right\",\"Changing lane to the right\",\"No distancing\",\"No distancing\",\"Changing lane to the left\",\"No priority to vehicle\",\"Changing lane to the left\",\"No priority to vehicle\",\"Moving Backward\",\"Turnover\",\"No distancing\",\"No distancing\",\"No distancing\",\"Changing lane to the left\",\"Overtaking\",\"Other\",\"Changing lane to the left\",\"No priority to pedestrian\",\"Changing lane to the left\",\"No distancing\",\"Moving Backward\",\"Changing lane to the left\",\"Other\",\"Moving Backward\",\"No distancing\",\"Changing lane to the left\",\"No priority to pedestrian\",\"Changing lane to the left\",\"Driving carelessly\",\"Getting off the vehicle improperly\",\"Changing lane to the left\",\"No distancing\",\"No priority to pedestrian\",\"No priority to pedestrian\",\"No priority to vehicle\",\"Driving carelessly\",\"Changing lane to the right\",\"Moving Backward\",\"Driving to the left\",\"No priority to pedestrian\",\"Changing lane to the right\",\"Driving carelessly\",\"No distancing\",\"Getting off the vehicle improperly\",\"Driving under the influence of drugs\",\"Changing lane to the right\",\"Driving carelessly\",\"Moving Backward\",\"Turnover\",\"Changing lane to the right\",\"Driving carelessly\",\"No priority to vehicle\",\"Moving Backward\",\"Overturning\",\"Driving carelessly\",\"No distancing\",\"No distancing\",\"Changing lane to the left\",\"No distancing\",\"No distancing\",\"No distancing\",\"No distancing\",\"Changing lane to the left\",\"Changing lane to the right\",\"Moving Backward\",\"Changing lane to the right\",\"No distancing\",\"Overtaking\",\"No priority to pedestrian\",\"No priority to vehicle\",\"Changing lane to the left\",\"Changing lane to the left\",\"Overtaking\",\"Changing lane to the right\",\"Changing lane to the left\",\"Driving carelessly\",\"No priority to pedestrian\",\"Driving carelessly\",\"Moving Backward\",\"No distancing\",\"No distancing\",\"No distancing\",\"Changing lane to the left\",\"Changing lane to the left\",\"Moving Backward\",\"Changing lane to the right\",\"No priority to vehicle\",\"Driving carelessly\",\"Driving carelessly\",\"Driving under the influence of drugs\",\"No priority to pedestrian\",\"No priority to vehicle\",\"Driving carelessly\",\"Driving carelessly\",\"No priority to vehicle\",\"Changing lane to the right\",\"Changing lane to the left\",\"No priority to vehicle\",\"Driving carelessly\",\"Moving Backward\",\"No distancing\",\"Changing lane to the left\",\"Changing lane to the left\",\"No distancing\",\"Driving carelessly\",\"Changing lane to the left\",\"Changing lane to the right\",\"No distancing\",\"Overtaking\",\"Driving under the influence of drugs\",\"No priority to pedestrian\",\"Moving Backward\",\"Changing lane to the right\",\"Changing lane to the left\",\"Changing lane to the right\",\"Driving under the influence of drugs\",\"No priority to vehicle\",\"No priority to vehicle\",\"Changing lane to the left\",\"Changing lane to the right\",\"Changing lane to the right\",\"Changing lane to the left\",\"Changing lane to the left\",\"Getting off the vehicle improperly\",\"Overtaking\",\"Changing lane to the left\",\"Driving under the influence of drugs\",\"Driving carelessly\",\"Moving Backward\",\"No distancing\",\"No priority to vehicle\",\"Overturning\",\"Changing lane to the left\",\"No distancing\",\"Moving Backward\",\"No priority to vehicle\",\"No distancing\",\"Overtaking\",\"Driving under the influence of drugs\",\"Changing lane to the right\",\"Driving carelessly\",\"Moving Backward\",\"Moving Backward\",\"Changing lane to the right\",\"No priority to vehicle\",\"Driving at high speed\",\"Driving under the influence of drugs\",\"Changing lane to the right\",\"Driving carelessly\",\"No distancing\",\"Changing lane to the left\",\"No distancing\",\"Getting off the vehicle improperly\",\"Overtaking\",\"Driving carelessly\",\"Driving under the influence of drugs\",\"Moving Backward\",\"Overturning\",\"Driving under the influence of drugs\",\"Changing lane to the right\",\"Changing lane to the left\",\"No distancing\",\"No distancing\",\"No priority to vehicle\",\"Getting off the vehicle improperly\",\"Changing lane to the left\",\"Changing lane to the left\",\"Changing lane to the right\",\"Driving carelessly\",\"Driving carelessly\",\"No distancing\",\"No priority to vehicle\",\"No priority to vehicle\",\"Changing lane to the left\",\"Moving Backward\",\"Driving carelessly\",\"Driving under the influence of drugs\",\"Changing lane to the right\",\"No priority to vehicle\",\"Changing lane to the right\",\"Driving to the left\",\"Moving Backward\",\"No priority to vehicle\",\"No distancing\",\"Changing lane to the left\",\"No priority to vehicle\",\"No priority to vehicle\",\"No distancing\",\"Driving to the left\",\"Driving carelessly\",\"Driving carelessly\",\"Changing lane to the right\",\"Driving carelessly\",\"Changing lane to the left\",\"Driving carelessly\",\"Driving carelessly\",\"Driving under the influence of drugs\",\"Driving carelessly\",\"No distancing\",\"Driving carelessly\",\"Driving to the left\",\"Overtaking\",\"No distancing\",\"Driving carelessly\",\"No priority to vehicle\",\"No priority to vehicle\",\"No priority to vehicle\",\"No priority to vehicle\",\"No distancing\",\"Moving Backward\",\"No distancing\",\"Changing lane to the left\",\"Changing lane to the left\",\"No priority to pedestrian\",\"Moving Backward\",\"Changing lane to the left\",\"No distancing\",\"No priority to vehicle\",\"Changing lane to the right\",\"No distancing\",\"No distancing\",\"No priority to pedestrian\",\"Changing lane to the left\",\"No distancing\",\"Driving carelessly\",\"Changing lane to the right\",\"Overtaking\",\"Driving carelessly\",\"Moving Backward\",\"No distancing\",\"Overtaking\",\"Driving carelessly\",\"Driving carelessly\",\"Moving Backward\",\"Driving carelessly\",\"Driving to the left\",\"Changing lane to the left\",\"No distancing\",\"No distancing\",\"Moving Backward\",\"Overtaking\",\"Changing lane to the left\",\"Changing lane to the right\",\"Overtaking\",\"Overloading\",\"Other\",\"Changing lane to the right\",\"Moving Backward\",\"Changing lane to the left\",\"No distancing\",\"No priority to vehicle\",\"No distancing\",\"Moving Backward\",\"Changing lane to the right\",\"No priority to pedestrian\",\"Moving Backward\",\"Overtaking\",\"Overloading\",\"Improper parking\",\"Changing lane to the left\",\"Changing lane to the right\",\"No priority to pedestrian\",\"Overspeed\",\"Changing lane to the left\",\"No priority to vehicle\",\"Changing lane to the right\",\"No distancing\",\"No priority to pedestrian\",\"No distancing\",\"No priority to vehicle\",\"Other\",\"Driving carelessly\",\"Driving carelessly\",\"Changing lane to the left\",\"No priority to vehicle\",\"Changing lane to the right\",\"No distancing\",\"Changing lane to the right\",\"Changing lane to the left\",\"Getting off the vehicle improperly\",\"Other\",\"Other\",\"No distancing\",\"No priority to vehicle\",\"Overtaking\",\"No priority to pedestrian\",\"No distancing\",\"Changing lane to the right\",\"Driving carelessly\",\"Changing lane to the right\",\"Overtaking\",\"Other\",\"Driving to the left\",\"Driving at high speed\",\"Unknown\",\"No distancing\",\"Other\",\"No priority to vehicle\",\"Changing lane to the left\",\"No priority to pedestrian\",\"Overtaking\",\"Driving carelessly\",\"No priority to pedestrian\",\"Changing lane to the right\",\"Driving carelessly\",\"Changing lane to the right\",\"Changing lane to the left\",\"Overturning\",\"Driving carelessly\",\"Driving carelessly\",\"Changing lane to the left\",\"Changing lane to the right\",\"Moving Backward\",\"No distancing\",\"No distancing\",\"No distancing\",\"Changing lane to the right\",\"Changing lane to the left\",\"Driving carelessly\",\"Driving carelessly\",\"No distancing\",\"Changing lane to the right\",\"No distancing\",\"No distancing\",\"Overturning\",\"No priority to vehicle\",\"No priority to pedestrian\",\"No priority to vehicle\",\"Other\",\"Other\",\"Moving Backward\",\"Moving Backward\",\"No priority to vehicle\",\"Driving carelessly\",\"Other\",\"Changing lane to the right\",\"No distancing\",\"Driving carelessly\",\"No distancing\",\"No priority to vehicle\",\"Changing lane to the right\",\"Turnover\",\"Driving to the left\",\"Driving carelessly\",\"Driving to the left\",\"Driving carelessly\",\"No priority to pedestrian\",\"Changing lane to the right\",\"Moving Backward\",\"Driving carelessly\",\"Changing lane to the right\",\"Driving carelessly\",\"Driving carelessly\",\"Driving carelessly\",\"Changing lane to the right\",\"Changing lane to the right\",\"Driving carelessly\",\"Overtaking\",\"Changing lane to the right\",\"No distancing\",\"Other\",\"Changing lane to the right\",\"Overtaking\",\"Other\",\"Overtaking\",\"No priority to vehicle\",\"Moving Backward\",\"Other\",\"No priority to vehicle\",\"No priority to pedestrian\",\"Changing lane to the right\",\"Changing lane to the right\",\"Changing lane to the right\",\"Driving to the left\",\"Changing lane to the left\",\"Changing lane to the right\",\"Other\",\"No distancing\",\"Driving carelessly\",\"No distancing\",\"Moving Backward\",\"No distancing\",\"Moving Backward\",\"No priority to pedestrian\",\"Changing lane to the left\",\"No distancing\",\"Other\",\"No distancing\",\"No priority to pedestrian\",\"No priority to pedestrian\",\"No distancing\",\"No priority to pedestrian\",\"Driving carelessly\",\"Getting off the vehicle improperly\",\"Driving carelessly\",\"Changing lane to the left\",\"No priority to vehicle\",\"Changing lane to the right\",\"Changing lane to the right\",\"No distancing\",\"No distancing\",\"Changing lane to the right\",\"No priority to vehicle\",\"Changing lane to the left\",\"No priority to vehicle\",\"Moving Backward\",\"No distancing\",\"No distancing\",\"Changing lane to the left\",\"No priority to vehicle\",\"Overtaking\",\"Changing lane to the left\",\"No priority to pedestrian\",\"Changing lane to the left\",\"No distancing\",\"Moving Backward\",\"Changing lane to the left\",\"Other\",\"No distancing\",\"Moving Backward\",\"No distancing\",\"Changing lane to the left\",\"Changing lane to the left\",\"No priority to pedestrian\",\"Driving carelessly\",\"Driving carelessly\",\"No priority to pedestrian\",\"No distancing\",\"Changing lane to the left\",\"No priority to vehicle\",\"No distancing\",\"No priority to pedestrian\",\"No priority to pedestrian\",\"Driving carelessly\",\"Driving carelessly\",\"Driving to the left\",\"Driving to the left\",\"No priority to pedestrian\",\"Changing lane to the left\",\"Changing lane to the right\",\"Driving carelessly\",\"No distancing\",\"Getting off the vehicle improperly\",\"Driving under the influence of drugs\",\"Changing lane to the right\",\"Moving Backward\",\"Changing lane to the right\",\"Driving carelessly\",\"Moving Backward\",\"Changing lane to the left\",\"Overturning\",\"No distancing\",\"Driving carelessly\",\"No distancing\",\"Changing lane to the left\",\"No priority to pedestrian\",\"No distancing\",\"Changing lane to the left\",\"No distancing\",\"Changing lane to the left\",\"No distancing\",\"No distancing\",\"Changing lane to the left\",\"No distancing\",\"Overtaking\",\"Other\",\"Changing lane to the right\",\"No priority to pedestrian\",\"No priority to vehicle\",\"Changing lane to the left\",\"Changing lane to the left\",\"Overtaking\",\"No distancing\",\"No priority to vehicle\",\"Changing lane to the right\",\"Changing lane to the left\",\"No distancing\",\"Driving carelessly\",\"No priority to pedestrian\",\"Driving carelessly\",\"Moving Backward\",\"No distancing\",\"No distancing\",\"No distancing\",\"Changing lane to the left\",\"Changing lane to the left\",\"Moving Backward\",\"No priority to vehicle\",\"Moving Backward\",\"Driving carelessly\",\"Driving carelessly\",\"No priority to pedestrian\",\"No priority to vehicle\",\"Driving carelessly\",\"Moving Backward\",\"Driving carelessly\",\"No priority to vehicle\",\"Changing lane to the right\",\"Changing lane to the left\",\"No priority to vehicle\",\"Driving carelessly\",\"Moving Backward\",\"No distancing\",\"Changing lane to the left\",\"Changing lane to the left\",\"No distancing\",\"Driving carelessly\",\"Changing lane to the left\",\"No distancing\",\"Changing lane to the right\",\"No distancing\",\"Driving to the left\",\"No distancing\",\"Overtaking\",\"Driving under the influence of drugs\",\"No priority to pedestrian\",\"Moving Backward\",\"Changing lane to the right\",\"Changing lane to the right\",\"Driving under the influence of drugs\",\"No priority to vehicle\",\"No priority to vehicle\",\"Changing lane to the left\",\"Changing lane to the right\",\"Changing lane to the right\",\"Changing lane to the left\",\"Changing lane to the left\",\"Overtaking\",\"Driving under the influence of drugs\",\"Driving carelessly\",\"Moving Backward\",\"No distancing\",\"No priority to vehicle\",\"Overturning\",\"Moving Backward\",\"No priority to vehicle\",\"No priority to vehicle\",\"Driving under the influence of drugs\",\"Changing lane to the right\",\"Driving carelessly\",\"Moving Backward\",\"Changing lane to the right\",\"No priority to vehicle\",\"Driving at high speed\",\"Changing lane to the right\",\"Driving carelessly\",\"No distancing\",\"No distancing\",\"No distancing\",\"Getting off the vehicle improperly\",\"Overtaking\",\"Driving carelessly\",\"Driving under the influence of drugs\",\"Moving Backward\",\"Overturning\",\"Driving under the influence of drugs\",\"Changing lane to the right\",\"Changing lane to the left\",\"No distancing\",\"No priority to vehicle\",\"Moving Backward\",\"Moving Backward\",\"Changing lane to the left\",\"Changing lane to the left\",\"No priority to vehicle\",\"Changing lane to the right\",\"Changing lane to the right\",\"Driving carelessly\",\"Changing lane to the right\",\"No priority to vehicle\",\"Driving under the influence of drugs\",\"Changing lane to the right\",\"No priority to vehicle\",\"Changing lane to the right\",\"Moving Backward\",\"No priority to vehicle\",\"No distancing\",\"Driving carelessly\",\"Changing lane to the left\",\"No priority to vehicle\",\"No priority to vehicle\",\"No distancing\",\"Driving to the left\",\"Driving carelessly\",\"Changing lane to the right\",\"Driving carelessly\",\"Changing lane to the left\",\"Driving carelessly\",\"Driving carelessly\",\"Driving under the influence of drugs\",\"No distancing\",\"Driving carelessly\",\"Driving to the left\",\"Overtaking\",\"No distancing\",\"Driving carelessly\",\"No priority to vehicle\",\"No priority to vehicle\",\"No priority to vehicle\",\"No priority to vehicle\",\"No distancing\",\"Moving Backward\",\"No distancing\",\"Changing lane to the left\",\"Changing lane to the left\",\"No priority to pedestrian\",\"Changing lane to the left\",\"No distancing\",\"No priority to vehicle\",\"Changing lane to the right\",\"No distancing\",\"No distancing\",\"No priority to pedestrian\",\"Changing lane to the left\",\"Driving carelessly\",\"No distancing\",\"Changing lane to the right\",\"Overtaking\",\"Driving carelessly\",\"Moving Backward\",\"No distancing\",\"Overtaking\",\"Driving carelessly\",\"Driving carelessly\",\"Moving Backward\",\"Driving carelessly\",\"Driving to the left\",\"Changing lane to the left\",\"No distancing\",\"No distancing\",\"Changing lane to the right\",\"Driving under the influence of drugs\"],\"legendgroup\":\"\",\"name\":\"\",\"showlegend\":true,\"type\":\"pie\"}],                        {\"template\":{\"data\":{\"histogram2dcontour\":[{\"type\":\"histogram2dcontour\",\"colorbar\":{\"outlinewidth\":0,\"ticks\":\"\"},\"colorscale\":[[0.0,\"#0d0887\"],[0.1111111111111111,\"#46039f\"],[0.2222222222222222,\"#7201a8\"],[0.3333333333333333,\"#9c179e\"],[0.4444444444444444,\"#bd3786\"],[0.5555555555555556,\"#d8576b\"],[0.6666666666666666,\"#ed7953\"],[0.7777777777777778,\"#fb9f3a\"],[0.8888888888888888,\"#fdca26\"],[1.0,\"#f0f921\"]]}],\"choropleth\":[{\"type\":\"choropleth\",\"colorbar\":{\"outlinewidth\":0,\"ticks\":\"\"}}],\"histogram2d\":[{\"type\":\"histogram2d\",\"colorbar\":{\"outlinewidth\":0,\"ticks\":\"\"},\"colorscale\":[[0.0,\"#0d0887\"],[0.1111111111111111,\"#46039f\"],[0.2222222222222222,\"#7201a8\"],[0.3333333333333333,\"#9c179e\"],[0.4444444444444444,\"#bd3786\"],[0.5555555555555556,\"#d8576b\"],[0.6666666666666666,\"#ed7953\"],[0.7777777777777778,\"#fb9f3a\"],[0.8888888888888888,\"#fdca26\"],[1.0,\"#f0f921\"]]}],\"heatmap\":[{\"type\":\"heatmap\",\"colorbar\":{\"outlinewidth\":0,\"ticks\":\"\"},\"colorscale\":[[0.0,\"#0d0887\"],[0.1111111111111111,\"#46039f\"],[0.2222222222222222,\"#7201a8\"],[0.3333333333333333,\"#9c179e\"],[0.4444444444444444,\"#bd3786\"],[0.5555555555555556,\"#d8576b\"],[0.6666666666666666,\"#ed7953\"],[0.7777777777777778,\"#fb9f3a\"],[0.8888888888888888,\"#fdca26\"],[1.0,\"#f0f921\"]]}],\"heatmapgl\":[{\"type\":\"heatmapgl\",\"colorbar\":{\"outlinewidth\":0,\"ticks\":\"\"},\"colorscale\":[[0.0,\"#0d0887\"],[0.1111111111111111,\"#46039f\"],[0.2222222222222222,\"#7201a8\"],[0.3333333333333333,\"#9c179e\"],[0.4444444444444444,\"#bd3786\"],[0.5555555555555556,\"#d8576b\"],[0.6666666666666666,\"#ed7953\"],[0.7777777777777778,\"#fb9f3a\"],[0.8888888888888888,\"#fdca26\"],[1.0,\"#f0f921\"]]}],\"contourcarpet\":[{\"type\":\"contourcarpet\",\"colorbar\":{\"outlinewidth\":0,\"ticks\":\"\"}}],\"contour\":[{\"type\":\"contour\",\"colorbar\":{\"outlinewidth\":0,\"ticks\":\"\"},\"colorscale\":[[0.0,\"#0d0887\"],[0.1111111111111111,\"#46039f\"],[0.2222222222222222,\"#7201a8\"],[0.3333333333333333,\"#9c179e\"],[0.4444444444444444,\"#bd3786\"],[0.5555555555555556,\"#d8576b\"],[0.6666666666666666,\"#ed7953\"],[0.7777777777777778,\"#fb9f3a\"],[0.8888888888888888,\"#fdca26\"],[1.0,\"#f0f921\"]]}],\"surface\":[{\"type\":\"surface\",\"colorbar\":{\"outlinewidth\":0,\"ticks\":\"\"},\"colorscale\":[[0.0,\"#0d0887\"],[0.1111111111111111,\"#46039f\"],[0.2222222222222222,\"#7201a8\"],[0.3333333333333333,\"#9c179e\"],[0.4444444444444444,\"#bd3786\"],[0.5555555555555556,\"#d8576b\"],[0.6666666666666666,\"#ed7953\"],[0.7777777777777778,\"#fb9f3a\"],[0.8888888888888888,\"#fdca26\"],[1.0,\"#f0f921\"]]}],\"mesh3d\":[{\"type\":\"mesh3d\",\"colorbar\":{\"outlinewidth\":0,\"ticks\":\"\"}}],\"scatter\":[{\"fillpattern\":{\"fillmode\":\"overlay\",\"size\":10,\"solidity\":0.2},\"type\":\"scatter\"}],\"parcoords\":[{\"type\":\"parcoords\",\"line\":{\"colorbar\":{\"outlinewidth\":0,\"ticks\":\"\"}}}],\"scatterpolargl\":[{\"type\":\"scatterpolargl\",\"marker\":{\"colorbar\":{\"outlinewidth\":0,\"ticks\":\"\"}}}],\"bar\":[{\"error_x\":{\"color\":\"#2a3f5f\"},\"error_y\":{\"color\":\"#2a3f5f\"},\"marker\":{\"line\":{\"color\":\"#E5ECF6\",\"width\":0.5},\"pattern\":{\"fillmode\":\"overlay\",\"size\":10,\"solidity\":0.2}},\"type\":\"bar\"}],\"scattergeo\":[{\"type\":\"scattergeo\",\"marker\":{\"colorbar\":{\"outlinewidth\":0,\"ticks\":\"\"}}}],\"scatterpolar\":[{\"type\":\"scatterpolar\",\"marker\":{\"colorbar\":{\"outlinewidth\":0,\"ticks\":\"\"}}}],\"histogram\":[{\"marker\":{\"pattern\":{\"fillmode\":\"overlay\",\"size\":10,\"solidity\":0.2}},\"type\":\"histogram\"}],\"scattergl\":[{\"type\":\"scattergl\",\"marker\":{\"colorbar\":{\"outlinewidth\":0,\"ticks\":\"\"}}}],\"scatter3d\":[{\"type\":\"scatter3d\",\"line\":{\"colorbar\":{\"outlinewidth\":0,\"ticks\":\"\"}},\"marker\":{\"colorbar\":{\"outlinewidth\":0,\"ticks\":\"\"}}}],\"scattermapbox\":[{\"type\":\"scattermapbox\",\"marker\":{\"colorbar\":{\"outlinewidth\":0,\"ticks\":\"\"}}}],\"scatterternary\":[{\"type\":\"scatterternary\",\"marker\":{\"colorbar\":{\"outlinewidth\":0,\"ticks\":\"\"}}}],\"scattercarpet\":[{\"type\":\"scattercarpet\",\"marker\":{\"colorbar\":{\"outlinewidth\":0,\"ticks\":\"\"}}}],\"carpet\":[{\"aaxis\":{\"endlinecolor\":\"#2a3f5f\",\"gridcolor\":\"white\",\"linecolor\":\"white\",\"minorgridcolor\":\"white\",\"startlinecolor\":\"#2a3f5f\"},\"baxis\":{\"endlinecolor\":\"#2a3f5f\",\"gridcolor\":\"white\",\"linecolor\":\"white\",\"minorgridcolor\":\"white\",\"startlinecolor\":\"#2a3f5f\"},\"type\":\"carpet\"}],\"table\":[{\"cells\":{\"fill\":{\"color\":\"#EBF0F8\"},\"line\":{\"color\":\"white\"}},\"header\":{\"fill\":{\"color\":\"#C8D4E3\"},\"line\":{\"color\":\"white\"}},\"type\":\"table\"}],\"barpolar\":[{\"marker\":{\"line\":{\"color\":\"#E5ECF6\",\"width\":0.5},\"pattern\":{\"fillmode\":\"overlay\",\"size\":10,\"solidity\":0.2}},\"type\":\"barpolar\"}],\"pie\":[{\"automargin\":true,\"type\":\"pie\"}]},\"layout\":{\"autotypenumbers\":\"strict\",\"colorway\":[\"#636efa\",\"#EF553B\",\"#00cc96\",\"#ab63fa\",\"#FFA15A\",\"#19d3f3\",\"#FF6692\",\"#B6E880\",\"#FF97FF\",\"#FECB52\"],\"font\":{\"color\":\"#2a3f5f\"},\"hovermode\":\"closest\",\"hoverlabel\":{\"align\":\"left\"},\"paper_bgcolor\":\"white\",\"plot_bgcolor\":\"#E5ECF6\",\"polar\":{\"bgcolor\":\"#E5ECF6\",\"angularaxis\":{\"gridcolor\":\"white\",\"linecolor\":\"white\",\"ticks\":\"\"},\"radialaxis\":{\"gridcolor\":\"white\",\"linecolor\":\"white\",\"ticks\":\"\"}},\"ternary\":{\"bgcolor\":\"#E5ECF6\",\"aaxis\":{\"gridcolor\":\"white\",\"linecolor\":\"white\",\"ticks\":\"\"},\"baxis\":{\"gridcolor\":\"white\",\"linecolor\":\"white\",\"ticks\":\"\"},\"caxis\":{\"gridcolor\":\"white\",\"linecolor\":\"white\",\"ticks\":\"\"}},\"coloraxis\":{\"colorbar\":{\"outlinewidth\":0,\"ticks\":\"\"}},\"colorscale\":{\"sequential\":[[0.0,\"#0d0887\"],[0.1111111111111111,\"#46039f\"],[0.2222222222222222,\"#7201a8\"],[0.3333333333333333,\"#9c179e\"],[0.4444444444444444,\"#bd3786\"],[0.5555555555555556,\"#d8576b\"],[0.6666666666666666,\"#ed7953\"],[0.7777777777777778,\"#fb9f3a\"],[0.8888888888888888,\"#fdca26\"],[1.0,\"#f0f921\"]],\"sequentialminus\":[[0.0,\"#0d0887\"],[0.1111111111111111,\"#46039f\"],[0.2222222222222222,\"#7201a8\"],[0.3333333333333333,\"#9c179e\"],[0.4444444444444444,\"#bd3786\"],[0.5555555555555556,\"#d8576b\"],[0.6666666666666666,\"#ed7953\"],[0.7777777777777778,\"#fb9f3a\"],[0.8888888888888888,\"#fdca26\"],[1.0,\"#f0f921\"]],\"diverging\":[[0,\"#8e0152\"],[0.1,\"#c51b7d\"],[0.2,\"#de77ae\"],[0.3,\"#f1b6da\"],[0.4,\"#fde0ef\"],[0.5,\"#f7f7f7\"],[0.6,\"#e6f5d0\"],[0.7,\"#b8e186\"],[0.8,\"#7fbc41\"],[0.9,\"#4d9221\"],[1,\"#276419\"]]},\"xaxis\":{\"gridcolor\":\"white\",\"linecolor\":\"white\",\"ticks\":\"\",\"title\":{\"standoff\":15},\"zerolinecolor\":\"white\",\"automargin\":true,\"zerolinewidth\":2},\"yaxis\":{\"gridcolor\":\"white\",\"linecolor\":\"white\",\"ticks\":\"\",\"title\":{\"standoff\":15},\"zerolinecolor\":\"white\",\"automargin\":true,\"zerolinewidth\":2},\"scene\":{\"xaxis\":{\"backgroundcolor\":\"#E5ECF6\",\"gridcolor\":\"white\",\"linecolor\":\"white\",\"showbackground\":true,\"ticks\":\"\",\"zerolinecolor\":\"white\",\"gridwidth\":2},\"yaxis\":{\"backgroundcolor\":\"#E5ECF6\",\"gridcolor\":\"white\",\"linecolor\":\"white\",\"showbackground\":true,\"ticks\":\"\",\"zerolinecolor\":\"white\",\"gridwidth\":2},\"zaxis\":{\"backgroundcolor\":\"#E5ECF6\",\"gridcolor\":\"white\",\"linecolor\":\"white\",\"showbackground\":true,\"ticks\":\"\",\"zerolinecolor\":\"white\",\"gridwidth\":2}},\"shapedefaults\":{\"line\":{\"color\":\"#2a3f5f\"}},\"annotationdefaults\":{\"arrowcolor\":\"#2a3f5f\",\"arrowhead\":0,\"arrowwidth\":1},\"geo\":{\"bgcolor\":\"white\",\"landcolor\":\"#E5ECF6\",\"subunitcolor\":\"white\",\"showland\":true,\"showlakes\":true,\"lakecolor\":\"white\"},\"title\":{\"x\":0.05},\"mapbox\":{\"style\":\"light\"}}},\"legend\":{\"tracegroupgap\":0},\"title\":{\"text\":\"Accident type ratios\"}},                        {\"responsive\": true}                    ).then(function(){\n",
              "                            \n",
              "var gd = document.getElementById('40c0a789-0c97-4f0f-a505-ae1dde2b9264');\n",
              "var x = new MutationObserver(function (mutations, observer) {{\n",
              "        var display = window.getComputedStyle(gd).display;\n",
              "        if (!display || display === 'none') {{\n",
              "            console.log([gd, 'removed!']);\n",
              "            Plotly.purge(gd);\n",
              "            observer.disconnect();\n",
              "        }}\n",
              "}});\n",
              "\n",
              "// Listen for the removal of the full notebook cells\n",
              "var notebookContainer = gd.closest('#notebook-container');\n",
              "if (notebookContainer) {{\n",
              "    x.observe(notebookContainer, {childList: true});\n",
              "}}\n",
              "\n",
              "// Listen for the clearing of the current output cell\n",
              "var outputEl = gd.closest('.output');\n",
              "if (outputEl) {{\n",
              "    x.observe(outputEl, {childList: true});\n",
              "}}\n",
              "\n",
              "                        })                };                            </script>        </div>\n",
              "</body>\n",
              "</html>"
            ]
          },
          "metadata": {}
        }
      ]
    },
    {
      "cell_type": "code",
      "source": [
        "px.histogram(rta_df, x='Number_of_vehicles_involved', y='Number_of_casualties')"
      ],
      "metadata": {
        "colab": {
          "base_uri": "https://localhost:8080/",
          "height": 542
        },
        "id": "DXgN5rafDuXj",
        "outputId": "ed816ce3-6ec0-43a9-e43d-c3eb132cab13"
      },
      "id": "DXgN5rafDuXj",
      "execution_count": 260,
      "outputs": [
        {
          "output_type": "display_data",
          "data": {
            "text/html": [
              "<html>\n",
              "<head><meta charset=\"utf-8\" /></head>\n",
              "<body>\n",
              "    <div>            <script src=\"https://cdnjs.cloudflare.com/ajax/libs/mathjax/2.7.5/MathJax.js?config=TeX-AMS-MML_SVG\"></script><script type=\"text/javascript\">if (window.MathJax && window.MathJax.Hub && window.MathJax.Hub.Config) {window.MathJax.Hub.Config({SVG: {font: \"STIX-Web\"}});}</script>                <script type=\"text/javascript\">window.PlotlyConfig = {MathJaxConfig: 'local'};</script>\n",
              "        <script charset=\"utf-8\" src=\"https://cdn.plot.ly/plotly-2.24.1.min.js\"></script>                <div id=\"0ff626f8-4c4d-416a-a284-db8a7d63b861\" class=\"plotly-graph-div\" style=\"height:525px; width:100%;\"></div>            <script type=\"text/javascript\">                                    window.PLOTLYENV=window.PLOTLYENV || {};                                    if (document.getElementById(\"0ff626f8-4c4d-416a-a284-db8a7d63b861\")) {                    Plotly.newPlot(                        \"0ff626f8-4c4d-416a-a284-db8a7d63b861\",                        [{\"alignmentgroup\":\"True\",\"bingroup\":\"x\",\"histfunc\":\"sum\",\"hovertemplate\":\"Number_of_vehicles_involved=%{x}\\u003cbr\\u003esum of Number_of_casualties=%{y}\\u003cextra\\u003e\\u003c\\u002fextra\\u003e\",\"legendgroup\":\"\",\"marker\":{\"color\":\"#636efa\",\"pattern\":{\"shape\":\"\"}},\"name\":\"\",\"offsetgroup\":\"\",\"orientation\":\"v\",\"showlegend\":false,\"x\":[2,2,2,2,2,2,2,2,2,2,2,2,2,2,2,1,2,2,2,1,2,1,1,2,2,2,2,2,2,2,2,2,1,2,2,2,2,2,2,2,2,2,2,2,2,2,2,2,2,2,2,1,1,1,1,1,2,2,2,1,1,2,2,2,2,2,2,2,2,3,3,3,2,2,2,2,1,1,1,1,3,3,2,1,2,2,2,2,3,3,3,1,2,1,1,1,1,1,2,2,1,1,2,2,1,1,1,1,1,1,2,2,2,2,2,2,2,2,2,2,2,2,2,2,2,2,2,2,2,2,2,2,2,1,2,2,2,2,2,3,3,2,2,2,2,1,1,1,1,1,1,2,2,2,2,2,2,2,2,2,2,2,2,2,2,1,2,2,2,2,1,6,6,6,6,6,6,2,2,2,2,2,2,2,3,3,3,2,2,2,2,2,2,2,2,1,2,2,2,1,2,2,2,2,2,1,2,2,2,2,2,1,1,2,2,2,2,3,3,3,2,2,1,1,1,4,4,4,4,4,4,4,3,3,2,2,3,3,3,3,3,3,2,2,2,2,2,2,2,4,4,4,2,2,2,1,2,2,2,2,2,2,1,2,1,1,2,2,1,1,2,2,2,2,1,1,2,3,3,3,2,1,2,2,2,2,2,2,1,3,3,2,2,2,3,3,3,1,1,2,2,2,2,2,2,1,2,2,1,2,2,2,2,2,1,2,2,1,2,2,3,3,3,2,1,1,3,3,3,3,2,2,1,3,3,2,2,2,2,2,2,2,2,2,3,3,3,1,4,4,4,4,4,4,4,2,2,3,3,3,3,3,3,2,2,1,1,2,2,2,2,2,2,2,2,2,3,3,3,2,2,1,2,2,2,2,3,3,3,2,2,2,2,4,4,4,4,2,2,1,4,4,4,4,3,3,3,2,2,2,2,2,2,2,2,2,2,2,2,2,2,1,2,2,1,2,2,1,2,2,2,2,2,2,2,2,2,1,1,2,2,2,2,2,2,2,2,1,1,1,2,2,2,4,4,4,4,3,3,3,3,3,3,1,1,2,2,2,2,2,1,2,2,2,2,2,3,3,2,2,2,2,2,2,2,2,2,2,2,2,2,2,3,3,3,3,3,3,1,1,1,2,2,2,2,2,2,2,2,3,3,2,2,2,2,1,2,2,2,2,2,2,2,3,3,3,3,3,2,2,1,1,1,1,2,2,2,2,2,2,2,2,2,2,1,2,2,3,3,2,2,2,2,2,1,2,2,2,2,2,2,3,3,3,2,2,2,2,2,2,2,2,2,2,2,2,2,2,2,1,2,2,3,3,3,2,1,2,2,2,2,2,2,2,2,2,2,2,2,2,1,1,2,2,2,1,1,2,2,2,2,2,2,2,1,2,2,2,1,2,1,2,1,2,2,1,2,2,3,3,2,2,2,2,1,2,2,2,2,1,2,2,1,1,2,2,1,1,2,1,2,2,1,2,2,2,3,3,3,3,3,3,3,2,2,3,3,3,1,2,2,2,2,3,3,3,1,1,2,2,2,2,2,2,1,2,2,2,2,2,2,1,2,2,2,2,1,1,2,2,2,2,2,2,2,2,2,1,1,3,3,2,2,2,2,2,2,1,1,2,2,2,2,2,2,2,1,1,2,2,2,2,2,2,2,2,2,4,4,4,4,2,2,2,2,2,3,3,3,2,2,2,2,2,2,1,2,2,2,2,2,2,2,1,3,3,3,2,2,2,2,2,1,3,3,3,3,3,2,2,3,3,3,1,1,3,3,3,2,2,2,2,1,1,1,2,2,2,2,2,2,2,2,2,2,2,1,2,2,2,2,2,2,2,3,3,3,3,2,2,2,2,3,3,3,1,1,2,2,2,2,2,2,2,2,2,2,2,2,2,2,1,1,1,2,2,2,1,2,2,2,2,2,2,2,2,2,2,2,2,2,2,2,3,3,2,2,3,3,1,2,2,2,2,2,2,2,2,2,3,3,3,2,2,2,2,2,2,2,2,2,1,2,2,2,2,2,2,2,2,2,1,1,2,2,2,2,2,1,2,2,2,2,2,2,2,2,2,2,2,2,2,2,1,1,3,3,3,2,2,2,2,2,2,2,2,2,2,2,2,2,2,2,2,2,3,3,2,3,3,3,2,2,2,3,3,3,1,2,2,2,2,1,2,2,2,2,1,1,2,2,2,2,2,2,2,2,1,2,2,2,2,2,3,3,3,1,2,2,2,2,2,2,1,2,2,2,2,2,2,2,2,2,2,2,2,2,2,2,2,2,2,2,2,2,2,2,2,2,1,2,1,2,2,2,2,2,2,2,2,2,2,2,2,2,2,2,2,2,2,2,2,1,3,3,2,2,2,2,2,1,1,4,4,4,4,2,2,1,2,2,2,2,3,3,3,2,2,2,2,1,1,2,2,2,2,3,3,1,1,2,2,4,4,4,4,4,4,3,3,1,1,1,3,3,3,2,2,2,2,1,2,2,2,2,2,2,1,2,2,2,2,1,2,2,2,2,2,2,2,2,2,2,2,2,2,2,2,1,3,3,3,2,2,2,2,1,2,2,2,2,3,3,3,2,2,2,2,2,2,2,2,2,1,2,2,1,2,2,2,2,2,2,1,2,1,1,1,1,2,2,2,2,2,2,2,2,2,2,2,2,2,1,1,2,1,1,2,2,2,1,2,2,1,1,2,2,2,2,2,2,1,1,1,2,2,1,2,2,1,1,2,2,1,2,2,3,3,3,3,2,2,2,2,1,2,2,2,2,2,2,2,2,2,2,2,2,1,2,2,2,1,2,2,2,2,2,2,1,1,2,2,2,2,3,3,2,2,2,2,2,2,1,1,1,2,2,1,2,2,2,2,1,1,1,2,1,1,2,1,2,1,1,1,2,2,3,3,3,1,1,1,2,2,2,2,2,2,1,3,3,3,2,2,2,2,2,2,2,2,3,3,2,2,2,2,2,2,2,1,2,2,2,2,3,3,2,2,2,1,2,2,1,3,3,2,2,2,2,2,2,2,2,2,2,2,1,1,2,2,2,2,2,1,1,2,2,1,1,1,2,2,2,2,2,2,2,2,1,1,2,2,3,3,2,2,2,2,2,2,2,2,2,2,2,2,2,2,1,1,1,1,2,2,2,2,2,2,2,2,3,3,2,2,2,2,2,2,2,1,1,1,1,4,4,4,1,2,2,2,2,2,2,2,2,2,2,1,2,2,1,2,2,2,2,2,2,2,2,2,2,2,1,2,2,1,1,1,2,2,2,2,2,1,1,2,2,2,2,1,2,2,2,2,1,2,2,2,2,1,2,2,2,1,2,2,1,2,2,1,2,2,2,1,1,3,3,2,2,2,2,2,2,2,2,1,2,2,2,2,2,2,1,2,2,2,2,2,2,2,2,2,2,1,1,1,2,2,2,2,2,2,2,2,2,1,2,2,2,2,1,2,2,2,2,2,1,2,2,1,2,2,2,2,2,2,1,2,2,2,3,3,3,2,1,2,2,1,2,2,2,2,2,2,2,2,1,2,2,1,1,2,2,2,2,2,2,1,2,2,2,1,2,2,2,2,2,2,1,2,2,2,2,2,2,2,2,1,1,2,2,2,3,3,2,2,2,2,2,2,1,2,2,2,2,2,2,2,2,2,1,3,2,2,2,2,2,2,2,2,2,2,2,2,2,2,2,2,2,1,2,2,2,2,2,2,2,2,2,2,1,1,2,2,2,2,2,1,1,1,1,1,2,2,2,2,2,2,2,2,1,1,2,2,2,2,1,2,2,1,2,2,2,2,1,2,2,2,1,2,2,2,2,2,2,2,2,2,1,2,2,2,2,2,2,2,2,2,2,2,2,2,2,2,2,2,2,2,2,2,2,2,2,2,1,1,2,2,1,2,2,2,3,3,3,2,2,2,2,2,2,2,1,2,2,2,2,2,2,1,2,2,2,2,2,2,1,2,2,2,2,1,3,3,3,1,2,2,1,1,2,2,1,2,2,2,2,3,3,2,2,2,2,2,2,2,3,3,1,2,2,2,3,3,3,1,2,2,2,2,2,2,2,1,2,2,2,2,2,2,2,2,2,2,2,2,2,2,2,2,2,2,2,2,1,2,2,2,2,2,2,2,2,2,2,2,2,2,2,2,2,2,2,2,2,1,1,2,2,2,2,2,2,2,2,2,2,2,2,2,2,2,2,2,1,1,2,2,2,2,2,2,2,2,2,2,2,2,2,2,2,1,1,2,2,3,3,3,2,2,2,2,2,2,2,1,2,1,1,2,3,3,2,2,2,2,1,2,2,2,2,3,3,3,1,2,2,2,2,1,2,2,2,2,2,1,2,2,2,2,2,2,2,2,2,2,2,2,2,2,2,2,1,2,2,2,2,2,1,1,1,2,2,1,2,1,1,2,2,2,2,2,2,2,2,2,2,1,2,2,2,1,1,2,2,1,2,2,1,2,2,1,2,2,2,2,2,2,2,2,2,2,2,2,1,2,2,2,2,1,1,2,2,2,2,1,2,2,3,3,3,3,3,2,2,2,2,2,2,2,2,2,2,2,1,2,2,1,1,2,2,1,2,2,2,2,4,4,4,4,1,1,1,1,1,4,4,3,3,3,2,2,1,1,2,2,2,2,2,1,1,2,2,2,2,2,2,2,2,1,2,2,2,2,2,2,2,2,2,2,2,2,3,3,2,2,2,2,1,2,2,2,2,2,2,2,2,2,2,2,1,1,2,2,2,2,1,2,2,2,2,2,2,2,2,2,2,2,1,1,2,1,1,2,2,2,1,1,2,2,2,2,2,2,2,2,2,2,2,2,2,2,2,2,2,2,2,2,2,2,3,3,2,2,1,1,2,2,2,1,1,1,1,2,1,1,2,2,1,1,1,1,1,2,2,1,1,2,2,2,2,2,2,2,2,1,1,2,2,2,2,1,2,2,1,1,2,1,2,2,2,2,1,2,2,2,2,1,2,2,2,2,2,2,2,2,2,2,2,2,2,1,1,3,3,3,3,3,3,1,1,2,2,2,2,1,2,2,2,2,2,2,2,2,2,2,2,2,2,2,2,2,2,2,2,1,1,2,2,2,1,2,2,1,2,2,1,2,2,1,2,2,2,2,2,2,2,1,1,2,2,2,2,1,1,3,3,1,1,2,1,2,2,2,2,2,2,2,2,1,2,2,1,2,2,2,1,1,1,1,2,2,3,3,3,1,2,2,1,1,2,2,2,2,1,1,2,2,2,2,2,2,2,2,2,2,2,2,1,1,2,2,2,2,2,2,2,2,2,2,2,2,2,2,2,2,2,2,2,2,2,2,2,2,2,2,2,2,2,1,1,2,2,2,2,2,2,2,2,2,2,2,2,2,2,2,1,1,1,2,2,2,2,2,2,2,2,2,2,2,2,2,2,2,1,1,3,3,3,2,2,2,2,2,1,2,2,2,2,2,2,2,1,1,1,1,2,2,1,2,2,1,1,1,2,1,1,1,2,2,2,2,2,2,2,2,2,2,2,1,2,2,2,2,2,2,1,2,2,3,1,1,2,1,2,2,1,1,2,2,2,2,2,2,1,1,1,2,2,1,1,2,2,1,2,2,1,2,2,2,2,2,2,2,2,2,2,2,1,2,2,2,2,1,1,2,2,1,1,2,1,2,2,1,2,1,3,3,2,2,1,2,1,2,2,2,2,2,2,1,2,2,2,2,2,2,1,1,2,1,2,2,1,1,2,2,2,2,2,2,1,2,2,2,1,2,2,2,2,3,3,3,2,2,2,2,1,2,2,2,1,1,1,2,2,1,1,2,2,2,2,2,2,2,2,2,2,2,2,1,1,1,2,2,2,2,2,1,2,2,2,2,1,1,2,2,2,2,2,2,2,2,2,2,1,2,2,3,3,3,1,2,2,1,2,2,1,2,2,2,2,2,2,2,2,2,1,2,2,2,2,2,2,2,2,2,2,2,2,2,3,2,2,2,2,2,2,1,1,1,1,1,1,1,2,2,1,2,2,2,2,2,2,2,2,2,1,3,3,2,2,1,1,1,2,2,1,2,2,2,2,1,1,1,1,1,2,2,2,2,2,2,2,2,2,2,2,1,2,2,1,2,2,2,2,1,1,2,1,1,1,3,3,3,1,2,2,2,2,2,2,1,1,2,2,1,1,2,2,2,2,2,2,2,2,1,2,2,1,1,2,2,1,2,1,2,2,1,1,1,2,1,2,2,2,2,2,2,2,2,2,2,1,1,2,1,1,1,1,2,2,2,2,2,2,2,2,2,2,2,2,1,2,2,2,2,2,1,2,2,1,2,2,2,2,1,2,2,2,2,2,2,1,3,3,3,2,2,2,2,1,2,2,2,2,1,2,2,3,3,1,1,1,2,2,2,1,2,2,1,3,3,3,1,1,1,2,2,2,2,2,2,2,1,2,1,1,2,2,1,1,1,2,2,2,2,1,2,2,1,1,2,2,2,2,1,1,2,2,1,4,4,4,4,2,2,2,2,2,2,1,1,1,1,1,2,1,2,1,1,2,2,1,2,2,2,2,1,2,2,1,1,2,2,2,2,2,2,2,1,2,2,1,2,1,2,2,2,2,2,2,2,2,2,2,2,2,2,2,2,2,2,2,1,1,3,3,3,1,2,2,1,2,2,1,1,2,2,2,1,1,1,1,2,2,1,2,2,2,1,2,2,2,2,2,2,2,2,2,1,2,2,1,2,2,2,2,1,2,2,1,1,1,2,2,2,2,2,2,2,2,2,2,2,2,2,2,2,2,2,2,2,2,1,1,2,2,1,2,2,2,2,2,2,1,2,2,2,2,1,3,3,3,1,2,2,2,2,2,2,2,1,2,2,2,2,1,1,2,2,2,2,1,1,1,2,2,2,1,2,1,1,2,2,1,1,2,2,2,2,3,3,3,2,2,1,1,2,2,2,2,2,1,3,3,3,1,1,1,2,2,2,3,3,3,3,3,3,2,2,2,2,1,1,3,3,3,3,3,3,2,2,3,3,3,2,1,1,2,2,1,2,2,2,2,2,2,2,2,2,2,2,2,1,2,2,1,2,2,2,2,2,2,1,1,2,2,1,2,2,2,1,1,2,2,2,2,2,2,2,2,2,1,2,2,1,2,2,2,2,2,2,2,1,2,2,1,1,1,1,2,2,1,2,2,1,2,2,1,1,1,1,2,1,2,1,2,2,1,2,2,1,2,2,2,1,3,3,3,2,2,2,2,2,2,2,2,2,2,4,4,4,4,2,3,3,3,2,2,2,2,2,2,1,1,1,2,2,1,1,2,2,2,2,2,2,2,2,2,2,2,2,2,2,2,2,2,1,2,2,2,2,2,2,2,2,2,2,2,1,2,2,2,2,2,2,1,2,2,1,3,3,3,3,1,2,4,4,4,4,1,1,3,3,3,2,2,2,2,2,2,2,2,2,2,1,2,2,2,2,1,1,2,2,2,1,2,2,2,2,2,2,2,1,2,2,1,2,2,2,2,2,2,2,2,2,2,2,4,4,2,2,2,2,2,2,2,2,3,3,3,1,2,2,2,3,3,3,3,3,3,3,2,1,2,2,2,2,2,1,2,2,2,1,1,3,3,2,1,1,2,1,2,2,2,2,2,2,2,2,2,2,2,2,2,2,1,2,2,2,2,2,2,1,2,2,2,2,2,2,1,2,2,2,2,2,2,2,1,2,2,2,2,1,1,1,1,2,2,2,2,2,2,2,2,2,2,2,1,2,2,2,2,2,2,2,2,2,2,2,2,1,2,2,3,3,3,2,2,2,2,2,2,1,2,2,1,2,2,2,2,2,2,2,2,2,2,2,2,2,2,4,4,2,2,2,2,2,2,2,2,2,2,2,2,2,2,2,2,2,3,3,3,2,2,2,2,2,2,2,2,2,2,1,2,2,2,2,2,1,1,3,3,2,4,4,4,4,2,2,2,2,3,3,3,1,2,2,1,2,2,2,2,3,3,3,1,1,2,1,1,1,2,2,1,1,2,2,2,3,3,3,2,2,4,4,1,2,2,2,2,2,2,2,2,2,2,2,2,2,1,1,1,2,2,1,2,2,1,2,2,2,2,2,2,1,2,2,2,1,2,2,2,2,2,2,2,2,2,2,2,1,2,2,2,2,1,1,2,2,2,1,1,2,2,2,2,2,2,2,2,2,2,2,2,2,2,2,1,2,2,2,2,2,2,2,2,2,2,1,2,2,2,2,2,2,2,3,3,2,2,2,2,2,1,2,2,2,2,2,2,2,2,2,1,1,1,2,2,2,2,2,2,2,2,2,2,2,2,3,3,3,1,2,3,3,3,3,2,2,2,2,2,3,3,3,1,2,2,2,2,2,1,4,4,4,2,1,1,2,2,2,2,2,2,2,2,3,2,2,2,1,2,2,2,2,2,2,2,2,2,2,2,2,2,2,2,2,2,2,2,1,2,2,2,2,1,2,2,2,2,1,3,3,3,2,2,2,2,2,2,2,4,4,4,4,2,2,1,1,2,2,1,1,2,2,1,1,2,2,2,2,1,2,2,2,2,2,2,1,2,2,4,4,4,1,1,3,3,1,2,2,2,2,4,4,3,3,1,1,2,1,2,2,2,2,2,3,3,2,2,2,2,3,3,3,1,1,1,1,1,3,3,2,2,1,2,2,2,2,1,2,2,2,2,3,2,2,2,2,2,2,2,2,2,1,3,3,3,3,1,1,1,2,2,2,1,1,1,2,2,2,3,3,3,1,2,1,2,2,2,3,3,3,1,2,2,2,2,1,2,2,2,2,1,2,2,2,2,2,2,2,2,2,2,2,3,3,3,3,3,3,2,2,2,2,2,2,2,2,2,2,2,2,2,1,2,2,2,2,1,2,2,1,1,2,2,2,2,2,2,2,2,2,2,2,2,2,3,3,2,2,2,2,1,2,1,2,3,3,2,2,3,3,3,2,2,2,2,2,2,2,2,2,2,2,2,2,2,2,2,2,2,2,2,1,2,2,2,2,2,2,2,2,4,4,4,2,2,2,2,3,3,3,3,2,2,2,1,2,2,2,2,2,2,2,2,1,1,4,4,4,4,2,2,2,2,2,1,2,2,2,1,2,2,1,2,2,2,2,2,2,2,2,2,2,2,2,2,2,2,2,2,2,2,2,1,2,2,2,2,2,2,2,2,2,2,2,2,2,2,2,2,2,2,2,2,2,2,2,2,2,2,2,2,2,2,2,2,2,2,2,3,3,3,3,3,3,4,4,2,3,2,2,2,2,1,2,2,2,1,2,3,3,3,2,2,2,2,2,4,4,4,1,2,1,2,2,2,2,2,2,2,2,2,2,2,2,2,2,2,1,1,2,2,2,2,2,2,2,1,2,2,2,2,2,2,2,2,2,2,2,2,2,2,2,2,1,1,3,3,3,2,2,2,2,2,2,2,4,4,4,4,4,2,2,2,2,2,2,2,1,1,2,2,2,2,2,3,3,2,2,2,2,1,2,2,2,2,2,2,2,1,1,2,2,2,2,2,2,2,2,2,1,2,2,2,2,2,2,2,1,2,2,1,2,2,2,2,2,2,2,2,2,2,2,3,3,3,2,1,2,2,2,2,2,2,2,2,3,3,2,2,2,2,2,2,2,2,2,2,2,2,2,2,2,2,1,1,1,2,2,2,2,2,2,2,2,2,2,2,2,2,1,3,1,2,2,2,2,2,2,2,1,2,2,1,3,3,2,3,3,3,3,3,1,1,1,3,3,3,2,2,2,1,2,2,2,2,2,1,1,1,2,2,2,2,2,2,2,2,2,1,1,1,2,2,2,2,2,2,2,2,2,1,2,2,2,2,2,1,2,2,1,2,2,1,2,2,1,2,2,1,2,2,2,1,1,1,4,4,4,2,2,2,2,2,2,2,2,2,2,2,2,2,2,1,2,2,2,2,2,2,2,2,2,2,3,3,3,2,2,1,2,2,2,2,2,2,2,2,2,2,2,2,2,2,2,3,3,3,3,3,3,1,1,1,3,3,3,2,2,2,2,2,2,2,3,2,2,2,2,1,4,4,4,2,2,3,3,3,3,3,1,2,3,3,3,3,3,3,1,1,2,2,2,2,2,2,2,1,2,2,2,2,2,2,2,2,2,2,2,2,2,2,2,2,2,2,2,2,2,2,1,3,3,3,2,2,2,1,2,2,2,1,2,2,1,1,3,2,1,2,2,2,2,2,2,1,2,2,1,2,2,2,2,2,2,2,2,1,2,2,2,2,2,2,2,4,4,4,4,2,1,2,2,2,2,2,2,2,2,2,2,2,2,2,2,1,2,2,2,3,3,3,3,1,1,3,3,3,1,2,2,3,3,2,2,1,1,2,2,1,4,4,4,4,2,2,2,1,2,2,2,2,3,3,3,2,2,2,2,2,2,2,2,2,2,2,2,1,1,1,1,2,2,2,2,2,1,2,2,2,2,1,2,2,2,2,2,2,2,2,2,1,1,2,2,2,2,2,2,2,2,2,2,2,2,2,2,2,1,2,2,2,2,2,2,4,4,2,2,2,2,2,2,2,2,2,2,2,2,2,2,2,2,2,1,2,2,2,2,2,2,2,2,2,2,2,2,2,2,2,2,2,2,2,1,2,2,1,2,2,2,2,3,3,3,3,1,2,2,2,2,2,2,1,2,2,2,1,2,2,3,3,3,3,2,2,3,3,3,2,2,1,2,2,2,2,2,2,2,2,2,2,2,2,2,2,2,2,2,2,2,2,2,2,2,2,2,1,2,2,2,2,2,2,2,2,2,2,2,2,2,2,2,1,2,2,2,2,1,2,2,2,2,1,2,2,2,2,2,2,2,1,2,1,1,2,2,1,2,2,2,2,2,2,2,2,2,2,2,1,2,2,2,2,2,2,2,2,2,2,2,2,2,2,3,3,3,2,2,2,2,2,2,2,2,2,2,2,2,2,2,2,2,2,2,1,2,2,3,1,1,2,2,2,2,2,2,4,2,2,1,2,2,2,2,1,2,2,2,2,2,2,1,2,2,2,2,2,2,2,2,2,2,2,2,2,2,2,2,2,2,2,2,2,2,2,2,2,2,2,2,2,2,2,2,2,2,1,3,3,3,1,1,2,2,3,3,2,1,2,2,2,2,2,1,2,2,2,1,1,2,2,2,2,2,2,2,3,3,3,3,3,3,3,1,2,2,3,3,1,3,3,3,2,2,2,2,1,2,2,1,2,2,3,3,3,2,2,2,2,2,2,2,2,2,2,2,2,2,2,3,3,3,3,3,3,2,2,2,2,2,2,2,1,2,2,2,2,2,1,2,1,4,4,4,1,1,1,2,1,2,2,1,2,2,2,2,2,2,2,2,1,2,2,2,2,2,2,2,2,2,3,3,3,2,2,2,2,2,2,2,3,3,3,2,2,2,2,2,2,2,3,3,3,3,3,3,2,2,2,2,1,2,2,2,2,4,4,4,2,2,1,2,2,2,2,4,4,1,1,2,1,1,2,2,2,2,2,2,1,1,3,3,3,2,1,2,2,2,2,2,2,2,2,2,3,3,3,1,2,2,2,1,3,3,3,3,3,2,2,2,1,3,3,3,3,3,3,3,2,2,2,2,2,2,2,2,2,2,2,2,2,2,2,2,3,3,2,2,2,2,2,1,2,2,2,2,1,1,2,2,3,3,3,2,2,1,2,2,2,2,2,2,1,1,3,3,1,1,2,2,2,2,2,3,3,3,4,4,4,4,4,2,2,1,1,1,1,2,2,2,1,2,2,2,2,1,2,2,1,2,2,2,2,2,1,2,2,2,2,1,2,2,2,2,2,2,2,3,3,3,2,2,2,2,1,1,2,2,1,2,2,1,1,2,2,1,2,2,3,3,3,2,2,2,2,2,2,2,2,2,2,2,1,3,3,2,2,2,2,2,2,3,3,3,3,3,2,2,2,2,2,2,2,2,2,2,2,1,2,1,2,2,2,2,2,2,2,2,3,3,3,2,2,2,2,2,2,2,2,2,1,2,3,3,3,3,3,2,2,2,2,2,2,2,1,3,3,3,2,2,1,1,2,2,2,2,2,2,2,2,4,4,4,2,2,2,2,2,2,2,1,1,2,1,2,2,2,2,2,2,2,2,7,7,7,7,7,2,3,3,3,2,2,2,2,2,2,2,2,2,1,3,3,3,3,3,2,2,2,2,2,2,2,2,2,2,2,2,2,2,2,2,2,4,4,4,3,1,1,3,3,2,2,4,4,4,4,2,2,1,3,3,3,1,2,2,2,2,4,4,4,4,2,2,2,2,2,2,2,2,2,2,1,2,2,2,2,2,2,2,3,3,3,1,2,2,3,3,3,1,2,2,2,2,2,2,2,2,2,2,2,2,2,2,2,1,2,2,2,3,3,3,2,1,2,2,2,2,2,2,1,2,2,2,2,2,2,2,2,2,3,3,3,3,2,2,2,2,2,2,2,2,2,1,2,2,2,2,1,3,3,3,3,3,3,2,2,2,2,2,2,2,2,2,2,2,2,2,2,2,2,2,2,2,2,2,2,2,2,2,2,2,1,1,2,2,4,4,2,2,2,2,3,3,3,2,2,2,2,1,1,2,2,2,2,2,2,2,2,2,2,1,2,2,2,2,2,2,2,2,2,1,3,3,3,2,2,2,2,2,2,2,2,3,3,3,3,3,2,2,4,4,4,4,2,2,2,2,2,2,2,2,2,2,2,2,2,2,2,2,2,2,2,2,2,2,2,1,2,2,1,3,3,3,3,2,2,2,2,4,4,4,2,2,2,2,2,2,2,2,2,2,1,2,2,2,2,1,3,3,3,2,2,2,2,2,2,2,2,3,3,3,2,2,2,2,2,2,2,2,2,1,2,2,2,1,1,2,2,2,2,2,2,2,2,2,2,2,2,2,2,2,2,2,2,2,2,2,2,2,2,2,3,3,3,2,2,2,2,2,2,2,3,3,3,2,2,2,2,2,2,3,3,3,2,2,1,2,2,2,2,2,2,2,3,3,2,2,2,3,3,3,2,2,2,2,2,2,2,2,2,2,1,2,2,2,1,2,2,2,1,2,2,2,2,2,1,1,2,2,2,2,2,2,2,2,2,1,2,2,2,2,2,2,2,2,2,1,2,2,1,2,2,2,2,2,2,2,2,2,2,2,2,1,1,2,2,2,3,3,3,2,2,2,2,2,2,2,2,2,1,1,2,2,3,3,1,2,2,1,2,3,3,2,1,2,2,2,2,1,3,3,3,3,3,2,2,2,2,2,2,2,2,1,1,2,2,1,2,2,2,2,1,2,2,2,2,2,2,1,1,2,2,2,2,2,2,1,2,2,3,3,3,2,1,3,3,3,2,2,2,2,2,2,2,2,1,1,2,2,1,2,2,2,2,2,2,2,2,2,2,2,2,2,2,2,2,2,2,1,2,2,2,2,2,1,2,2,2,1,3,3,3,3,2,2,1,1,2,2,1,2,2,1,2,2,2,2,1,2,2,2,2,2,3,3,3,1,1,2,1,3,1,2,2,2,2,2,2,2,2,2,2,2,2,2,2,2,2,2,2,2,2,2,2,3,3,3,3,3,3,3,2,2,2,2,2,2,2,2,2,2,2,2,2,2,2,2,2,2,2,2,2,2,2,2,2,2,2,2,2,2,3,3,3,2,2,2,2,2,1,2,2,2,2,2,2,2,3,3,3,3,2,2,2,2,1,2,2,3,3,2,2,2,2,2,2,2,2,2,2,1,2,2,1,1,2,2,4,4,4,4,4,2,2,2,2,2,1,3,3,3,1,3,3,3,2,2,2,2,2,2,2,2,2,2,1,1,2,2,2,3,3,3,3,3,1,2,2,2,2,2,3,2,2,1,3,3,3,2,2,2,2,3,3,3,2,2,2,2,2,1,2,2,2,2,2,2,2,3,3,2,2,2,2,2,3,3,3,2,2,2,2,2,2,2,2,2,2,2,2,1,2,2,2,2,2,2,2,2,2,2,1,2,2,2,2,2,2,1,3,3,3,3,3,3,2,2,1,2,2,2,2,2,2,2,2,2,2,2,2,2,2,2,2,1,2,2,2,2,2,2,2,2,2,2,2,2,2,1,1,2,2,2,3,3,1,2,2,2,2,2,4,4,4,2,2,1,2,2,1,2,2,2,3,3,3,3,2,2,2,2,2,2,2,2,2,2,3,3,3,1,2,2,1,1,2,2,2,3,3,3,2,2,2,2,2,2,2,2,2,2,2,2,2,1,1,1,1,1,2,2,2,2,2,2,2,2,2,2,2,1,2,1,2,1,2,2,2,1,2,2,2,2,1,1,2,2,3,3,1,2,2,2,2,2,2,1,2,2,2,1,2,2,2,2,2,1,2,2,2,2,2,2,1,1,4,4,4,4,2,2,2,2,2,2,2,2,2,2,2,2,2,2,2,2,2,1,2,2,2,2,1,3,3,3,1,2,1,1,3,3,3,3,2,2,2,1,1,2,2,2,2,2,2,2,1,1,1,2,2,2,2,2,2,2,2,2,2,2,2,2,1,3,3,1,2,2,2,2,2,2,2,2,2,2,2,2,2,2,1,3,3,2,2,2,1,2,2,2,2,1,2,2,2,2,3,3,3,3,3,2,2,2,2,2,2,2,2,2,1,2,2,2,2,2,1,2,2,2,3,3,1,2,2,2,2,2,2,2,3,1,3,2,2,2,2,2,2,2,2,2,2,2,2,2,2,2,2,2,2,2,1,2,2,2,2,4,4,4,4,2,2,2,2,2,2,2,2,4,4,4,4,2,2,2,2,2,3,3,3,2,2,2,2,1,1,2,2,1,3,3,3,4,4,4,2,1,3,3,3,2,2,1,2,2,2,2,2,2,2,2,2,2,2,1,2,2,2,2,2,2,1,2,2,2,2,2,2,2,2,2,2,2,2,2,2,2,2,2,2,2,1,1,2,2,1,2,2,2,2,2,2,2,2,1,2,2,2,2,2,2,1,2,2,2,1,1,2,2,1,3,3,3,1,2,2,2,2,2,2,2,2,2,2,2,3,3,3,3,3,3,2,2,1,1,2,2,1,2,2,3,3,2,2,2,2,2,2,2,2,2,2,2,2,2,2,2,3,2,1,2,2,2,2,2,3,3,3,3,1,2,2,2,2,1,1,2,2,1,2,2,2,2,2,2,2,2,2,1,2,2,2,2,2,2,2,2,2,2,1,1,3,3,3,2,2,2,2,2,2,2,2,2,2,3,3,3,3,3,3,2,2,2,2,2,2,1,2,2,2,1,1,3,3,2,2,2,2,2,1,1,2,2,2,2,2,2,2,2,2,2,2,2,1,2,1,2,2,2,2,1,2,2,2,2,2,1,2,2,2,2,3,3,3,3,2,2,1,1,2,2,1,2,1,4,4,4,4,2,1,2,2,2,2,3,3,3,3,3,1,2,2,3,3,2,1,1,2,2,2,2,1,1,1,2,2,2,2,2,1,2,2,2,2,2,1,2,2,3,3,2,2,2,2,3,3,2,2,2,2,1,2,2,2,1,2,2,2,2,1,1,3,3,3,2,2,2,3,3,2,2,2,1,2,2,1,2,2,1,1,3,3,3,4,4,4,4,4,1,2,2,2,2,2,2,1,3,3,3,2,2,2,2,1,2,2,2,2,2,2,2,2,2,3,3,3,2,2,3,3,2,2,2,2,2,2,2,2,2,2,2,2,2,2,2,2,1,2,2,3,3,2,2,2,2,3,3,3,2,1,2,2,2,2,2,2,2,2,2,1,2,2,2,2,2,2,2,2,2,2,2,2,1,2,2,3,3,3,2,2,1,3,3,3,3,3,3,3,2,2,2,2,2,2,2,2,2,2,2,2,2,2,2,2,2,3,3,2,2,2,2,2,1,2,2,1,1,2,2,3,2,2,2,2,2,1,1,2,2,2,2,2,2,2,2,2,2,2,2,2,2,1,1,2,3,3,3,3,3,1,2,2,2,2,2,2,2,2,2,1,2,1,2,2,1,1,1,2,3,3,3,2,2,2,2,2,2,2,2,1,2,2,2,1,2,2,2,2,1,3,3,3,3,3,1,2,2,2,2,1,2,2,2,2,2,2,2,2,2,2,2,2,2,2,2,2,2,2,1,3,3,2,2,2,2,1,3,3,2,2,2,2,2,2,2,2,2,2,2,2,2,2,2,2,2,2,2,2,2,2,4,4,4,2,2,2,2,2,1,2,2,2,2,2,2,2,2,1,1,1,2,2,2,2,2,2,3,3,1,2,2,2,1,3,3,1,1,2,2,2,2,2,2,2,2,2,2,2,2,3,3,3,3,1,3,3,3,2,2,3,3,3,3,3,2,2,2,2,2,2,2,2,2,2,2,2,2,2,3,1,2,2,2,2,1,2,2,3,3,3,2,2,2,2,2,2,2,2,2,1,1,2,2,2,2,1,3,3,3,3,2,2,2,2,2,1,3,3,3,2,2,2,2,3,3,3,1,4,4,4,3,3,3,2,2,2,2,2,2,2,2,1,2,3,3,3,1,2,2,1,1,3,3,3,2,2,2,2,3,3,2,2,1,1,3,3,2,2,1,2,2,1,1,2,2,2,2,1,2,2,2,2,2,2,3,3,3,2,1,1,1,2,2,1,2,1,2,2,2,1,1,1,2,2,2,2,1,2,2,2,1,2,1,2,1,2,2,2,2,2,2,2,2,2,2,2,2,2,2,2,2,2,3,3,3,1,2,2,2,2,2,2,2,1,1,2,2,1,2,2,2,2,2,2,1,1,2,2,2,2,2,2,1,2,2,2,2,2,2,2,2,3,3,3,2,2,1,2,2,2,2,2,2,2,2,2,2,2,2,2,2,1,3,3,3,3,1,1,2,2,2,2,2,2,2,2,2,2,2,2,2,3,3,3,1,3,3,3,2,2,1,1,2,2,1,2,2,1,1,2,2,2,2,1,2,2,1,2,2,1,2,2,3,2,2,2,1,2,2,1,1,1,1,1,2,2,1,1,3,3,3,3,1,2,2,3,3,3,2,2,4,4,4,4,2,2,1,3,3,3,3,2,2,2,2,1,1,1,1,2,2,2,2,3,3,3,2,2,2,2,1,2,2,2,3,3,3,2,2,1,2,2,2,2,2,2,2,2,2,1,2,2,4,4,4,4,3,2,2,2,2,2,2,2,2,4,4,4,4,2,2,2,2,2,2,1,2,2,1,2,2,2,2,2,2,2,2,1,2,2,1,2,2,2,2,2,3,3,3,3,3,1,1,2,2,2,2,2,1,6,6,6,6,6,2,2,2,2,2,2,2,3,3,3,1,1,2,2,2,1,2,2,1,2,2,1,1,2,2,1,2,2,1,2,2,2,2,1,1,2,2,2,2,1,1,1,2,2,2,3,3,3,3,1,3,3,2,1,1,1,2,2,1,1,2,2,2,2,2,2,2,2,2,2,2,2,1,2,2,2,2,2,2,1,2,2,2,2,2,2,2,3,3,6,6,6,6,6,3,2,2,2,2,2,2,4,4,4,2,1,2,3,3,1,1,1,2,2,3,3,1,1,3,3,2,2,2,2,2,2,2,2,2,1,2,2,2,2,2,2,2,1,1,2,2,2,2,2,2,2,2,2,1,2,2,2,2,2,3,3,3,3,2,2,2,2,2,2,2,2,2,2,2,2,2,2,2,2,1,1,1,1,1,2,2,1,1,2,2,2,2,2,2,2,2,2,2,3,3,3,2,2,2,2,2,2,2,1,1,1,1,1,3,3,3,2,1,2,2,2,2,2,3,3,1,2,2,1,1,1,1,2,2,1,1,1,2,2,1,1,1,1,1,1,1,2,2,2,2,2,2,2,2,2,2,2,2,2,2,2,2,2,2,2,2,2,2,2,2,2,2,2,2,1,2,2,2,2,2,2,2,2,2,2,2,2,2,2,2,2,2,1,2,2,2,2,1,6,6,6,6,2,2,2,2,2,2,3,3,2,2,2,2,2,2,2,2,2,2,2,1,2,2,2,1,2,2,2,2,2,1,1,1,2,2,2,2,2,2,2,1,1,2,2,2,2,3,3,2,2,1,1,4,3,3,3,2,3,3,3,3,3,2,2,2,2,2,2,2,2,4,4,4,2,2,2,1,2,2,2,2,2,1,2,2,1,1,1,1,2,2,2,2,2,2,1,1,2,2,2,3,3,3,3,3,2,2,2,1,2,2,2,2,2,1,1,3,3,3,3,2,2,2,3,1,1,2,2,2,2,2,2,1,2,2,1,2,2,2,2,2,2,1,2,2,1,2,2,1,2,3,3,3,2,2,1,1,3,3,3,2,1,3,3,2,2,2,2,2,2,1,2,2,2,2,2,1,3,3,3,1,4,4,4,4,4,2,3,3,3,3,3,3,2,2,1,1,2,2,2,2,2,2,2,2,2,1,3,3,2,2,2,1,2,2,3,3,2,2,2,4,4,4,4,2,2,1,4,4,4,4,3,3,3,2,2,2,2,2,2,2,2,2,2,2,2,2,2,1,2,2,1,2,2,1,1,2,2,2,2,2,2,2,2,2,2,2,1,1,2,2,2,2,2,2,1,1,1,2,2,4,4,4,3,3,3,3,3,3,3,1,1,2,2,2,2,2,1,2,2,2,2,2,3,3,2,2,2,2,2,2,2,2,2,2,2,2,2,2,3,3,3,3,3,1,2,2,2,2,2,2,2,2,3,3,3,2,2,1,2,1,2,2,2,2,2,2,2,3,3,3,3,3,2,1,1,1,1,1,2,2,2,2,2,2,2,2,2,1,2,2,3,3,3,2,2,2,2,2,1,1,2,2,2,2,3,3,2,2,2,2,1,2,2,2,2,2,2,1,2,3,2,2,1,2,2,2,2,2,2,2,2,2,2,2,2,2,1,1,2,2,2,1,1,2,2,2,2,1,2,2,2,1,2,2,2,1,1,1,2,2,1,2,2,1,2,2,2,2,1,2,3,3,3,2,2,1,2,2,2,2,1,2,2,1,1,2,1,2,1,2,2,1,2,2,2,3,3,3,3,3,3,3,3,2,3,3,3,2,2,2,2,2,2,3,3,3,1,1,2,2,2,2,2,2,2,2,2,2,1,2,2,2,2,1,2,2,1,2,2,2,1,1,2,2,2,2,2,2,2,2,2,2,2,1,3,2,2,2,2,2,2,2,1,1,2,2,2,2,2,2,2,2,2,1,2,2,2,2,2,1,2,2,2,2,4,4,4,4,4,2,1,2,2,2,2,2,2,3,3,3,3,3,3,2,3,3,3,2,2,2,2,2,2,2,2,2,2,2,3,3,3,1,2,2,1,3,2,2,2,2,1,2,2,2,2,1,3,3,2,2,2,2,2,2,2,3,3,2,2,3,3,3,1,4,4,4,4,2,2,2,2,2,2,2,1,2,3,3,3,1,2,2,1,1,3,3,3,2,2,2,3,3,3,3,2,2,1,1,2,2,1,1,2,2,2,2,2,2,2,1,1,2,2,2,2,2,2,2,2,3,3,3,2,1,1,1,2,2,1,2,1,2,2,1,1,1,2,2,2,2,1,2,2,1,2,2,1,2,1,2,1,2,2,2,2,2,2,2,2,2,2,2,2,2,3,3,3,1,2,2,2,2,2,2,2,2,1,1,2,1,2,2,2,2,2,2,2,1,1,2,2,2,2,2,2,1,2,2,2,2,2,2,2,2,2,3,3,2,2,2,2,1,2,2,2,2,2,2,2,2,2,2,2,2,2,2,2,2,2,3,3,3,3,1,1,1,2,2,2,2,2,2,2,2,2,2,2,2,1,3,3,1,3,3,2,2,1,1,2,1,2,1,1,2,2,1,2,2,2,2,1,2,2,1,2,2,2,2,3,3,3,2,2,2,1,2,2,1,1,1,1,1,1,2,1,1,3,3,3,1,2,3,3,2,4,4,4,4,2,2,3,3,3,2,2,2,1,1,1,1,1,2,2,2,3,3,3,2,2,2,2,2,1,2,2,3,3,3,2,2,1,2,2,2,2,1,2,2,2,2,2,2,2,1,2,4,4,4,4,4,3,3,2,2,2,2,2,2,4,4,4,4,2,2,2,1,2,2,2,2,2,1,2,2,1,2,2,2,2,2,2,2,1,2,2,1,2,2,2,2,3,3,3,3,1,1,2,2,2,2,2,2,1,6,6,6,6,2,2,2,1,2,2,2,3,1,1,2,2,2,1,2,2,1,2,2,2,1,1,2,2,2,2,1,2,2,2,2,2,2,2,2,2,2,2,1,1,2,2,2,3,3,3,3,1,3,3,3,2,2,1,1,2,2,1,1,2,2,1,1,2,2,2,2,2,2,2,2,1,2,2,2,2,2,2,2,1,2,2,2,2,2,2,2,2,1,1,2,1,2,2,2,2,2,2,2,2,3,3,6,6,6,6,6,6,3,3,3,2,2,2,2,4,4,4,4,4,2,2,1,2,2,3,3,1,1,1,2,2,3,3,3,2,2,1,3,2,2,2,2,2,2,2,2,2,1,2,1,1,2,2,2,2,2,2,2,2,2,2,2,1,2,2,2,2,2,3,3,3,3,2,2,2,2,2,2,2,2,2,2,2,2,2,2,2,1,1,1,1,1,2,2,1,1,2,2,2,2,2,2,2,2,2,3,3,2,2,2,2,2,1,1,1,3,3,3,2,1,1,2,2,2,2,2,3,3,1,2,2,1,1,1,1,2,2,1,1,1,2,2,1,1,1,1,1,1,1,1,2,2,2,2,2,2,2,2,2,2,2,2,2,2,2,2,2,2,2,2,2,2,2,2,2,2,1,2,2,2,2,2,2,2,2,2,2,2,2,2,2,2,2,2,1,2,2,2,1,6,6,6,6,6,6,2,2,2,2,2,2,2,2,2,3,2,2,2,2,2,2,2,2,2,2,2,2,2,2,1,2,2,2,2,2,1,1,1,2,2,2,2,2,2,2,1,1,2,2,2,2,2,3,3,2,2,1,1,1,4,4,3,3,3,2,2,3,3,3,3,3,3,3,2,2,2,2,2,2,2,4,4,2,2,2,2,1,2,2,2,2,2,1,2,1,2,2,1,1,2,2,2,2,2,1,2,3,3,3,3,2,2,1,2,2,2,2,2,2,2,1,3,3,3,2,2,2,2,3,3,3,1,2,2,2,2,1,2,2,2,2,2,2,2,1,1,2,1,2,2,3,3,3,2,2,1,1,3,3,3,2,2,1,2,2,2,2,2,1,2,2,2,2,2,2,3,1,4,4,4,4,4,2,3,3,3,3,3,3,2,2,1,1,2,2,2,2,2,2,2,2,1,3,3,3,2,2,2,1,2,2,2,3,3,2,2,2,4,4,4,4,2,2,1,4,4,4,4,3,3,3,2,2,2,2,2,2,2,2,2,2,2,2,2,1,2,2,2,2,1,1,2,2,2,2,2,2,2,2,2,2,2,2,1,1,2,2,2,2,2,2,1,1,1,1,2,4,4,3,3,3,3,3,3,3,1,1,2,2,2,2,2,1,2,2,2,2,2,3,3,3,2,2,2,2,2,2,2,2,2,2,2,2,2,2,2,2,3,3,3,3,3,3,1,1,2,2,2,2,2,2,2,2,2,2,2,3,3,3,2,2,1,2,2,1,2,2,2,2,2,2,2,3,3,3,3,2,2,1,1,1,1,2,2,2,2,2,2,2,2,2,2,2,1,2,2,3,3,3,2,2,2,1,2,2,2,2,2,2,2,3,3,3,2,2,2,2,2,2,2,2,1,2,2,2,2,2,2,1,2,3,3,2,2,1,2,2,2,2,2,2,2,2,1,1,2,2,2,1,2,2,2,2,2,2,2,1,2,2,2,1,1,2,2,1,2,2,1,1,2,2,2,1,2,3,3,3,2,2,2,2,2,1,2,2,2,2,1,2,1,1,2,1,1,2,2,1,2,2,1,2,2,3,3,3,3,3,3,2,2,3,3,3,3,1,2,2,2,2,2,3,3,3,1,1,2,2,2,2,2,2,2,2,1,2,2,2,2,2,2,1,2,2,2,2,1,1,2,2,2,2,2,2,2,2,2,2,1,1,3,3,2,2,2,2,1,1,2,2,2,2,2,2,2,2,1,2,2,2,2,2,2,2,1,2,2,2,4,4,4,2,1,2,2,2,2,2,3,3,3,3,1,3,3,3,2,2,3,3,3,3,3,2,2,2,2,2,2,2,2,2,2,2,2,2,2,2,3,3,3,2,2,1,2,2,2,1,2,2,3,3,3,2,2,2,2,2,2,2,2,2,1,1,2,2,2,1,3,3,3,3,2,2,2,2,2,3,3,2,2,2,3,3,3,4,4,4,4,3,3,3,2,2,2,2,2,2,2,1,2,3,3,3,1,2,1,3,3,3,2,2,1,3,3,3,2,2,1,1,2,1,1,2,2,2,2,2,2,2,1,1,2,2,2,2,2,2,2,2,3,3,3,2,1,1,1,2,2,1,2,1,2,2,2,1,1,1,2,2,2,2,1,2,2,1,2,2,1,2],\"xaxis\":\"x\",\"y\":[2,2,1,1,1,1,1,2,2,2,3,3,3,1,1,1,1,1,3,1,1,1,1,1,1,1,2,1,1,2,1,1,1,1,1,1,1,1,1,3,3,3,1,1,1,1,1,1,1,1,1,4,4,4,4,1,1,1,1,2,2,3,3,1,1,1,1,1,1,1,1,1,1,2,1,1,4,4,4,4,1,1,1,1,3,3,1,1,1,1,1,1,1,1,3,3,3,1,1,1,1,1,1,1,2,2,4,4,1,1,2,2,2,1,2,2,1,2,2,3,3,1,1,1,1,1,2,2,1,1,1,1,1,1,3,3,3,1,1,1,1,1,1,3,3,1,1,1,1,1,1,1,1,1,1,1,1,1,1,1,1,1,1,2,2,1,3,3,3,3,1,1,1,1,1,1,1,2,2,1,2,2,2,2,1,1,1,1,1,1,1,3,2,2,1,1,3,3,3,1,1,1,1,1,1,1,2,2,2,1,1,1,1,2,2,2,2,1,1,1,1,1,1,1,1,2,2,2,2,1,1,1,2,2,2,2,2,2,2,2,2,2,1,2,6,6,6,6,6,2,2,2,1,1,1,1,2,2,2,3,3,3,1,1,1,1,1,1,1,1,1,1,1,1,1,1,2,3,3,3,2,1,1,2,2,2,1,1,1,3,3,1,1,1,4,4,4,1,1,1,1,1,1,1,1,1,1,1,1,2,2,1,1,1,1,1,1,1,1,1,1,1,1,1,1,1,3,3,3,3,2,2,1,2,2,1,1,1,1,1,1,1,1,1,1,1,1,1,6,6,6,6,6,6,6,1,1,5,5,5,5,5,5,2,2,1,1,1,1,1,1,1,1,1,1,1,1,1,1,3,3,1,1,1,1,1,2,2,2,3,3,3,1,1,1,1,1,1,1,1,2,2,2,2,1,1,1,2,2,2,2,2,1,1,1,1,1,1,3,3,3,1,1,1,1,2,2,2,2,2,2,1,2,1,1,1,1,1,1,3,3,3,3,1,1,1,1,1,2,2,3,3,3,1,1,1,1,4,4,4,2,2,2,2,2,1,1,1,1,1,1,1,1,2,2,2,1,1,4,4,4,4,4,1,1,1,2,2,1,1,1,1,1,1,1,2,2,2,1,1,1,1,1,2,2,4,4,4,4,1,1,1,1,2,2,1,1,1,1,1,1,1,1,1,1,1,1,1,1,1,2,2,2,2,1,1,1,1,1,1,1,2,2,1,1,1,1,2,2,1,1,1,1,1,1,1,1,5,5,5,5,1,1,1,1,1,1,1,1,1,1,1,1,1,3,3,3,1,1,1,1,1,1,1,1,1,1,2,2,2,5,5,5,5,5,1,1,1,1,1,1,1,2,2,2,1,1,1,1,1,1,1,1,1,1,1,1,1,1,1,2,1,1,2,2,1,1,1,1,1,1,1,2,2,1,2,2,1,1,1,2,2,1,1,2,2,2,2,1,1,1,1,1,1,1,1,3,1,1,1,1,1,1,1,1,4,4,4,1,1,2,1,1,3,3,3,1,1,1,1,3,3,3,2,1,2,2,2,2,1,1,1,1,1,1,1,1,1,3,3,3,2,2,1,1,2,2,1,1,1,1,2,2,2,1,1,1,2,2,1,1,1,1,1,1,1,1,1,1,1,1,1,1,1,1,1,1,5,5,5,5,3,3,3,1,1,1,1,1,2,2,2,2,2,2,1,2,2,2,1,1,1,1,1,2,2,2,3,3,3,1,1,1,2,2,3,3,3,1,1,3,3,3,1,1,1,1,1,1,1,1,1,3,3,1,4,4,4,1,1,1,1,1,1,2,2,1,1,3,3,2,2,2,1,2,2,2,2,1,1,1,1,1,1,1,1,1,1,1,2,2,1,2,2,1,1,1,1,4,4,4,1,1,1,2,2,1,1,1,1,1,1,1,1,1,1,1,1,1,1,2,4,4,3,3,1,1,4,4,1,2,2,2,2,1,1,1,1,1,2,2,2,2,1,1,2,2,1,1,1,1,1,1,1,1,1,1,1,1,1,1,1,1,3,3,4,4,4,1,6,6,6,6,6,6,1,1,1,1,1,1,1,1,2,2,1,1,1,1,1,4,4,4,4,1,1,2,1,1,1,1,3,3,3,3,1,1,2,2,2,2,1,1,1,1,1,1,1,1,1,1,1,1,1,2,2,2,2,2,1,1,1,1,1,1,1,1,1,3,3,3,3,1,1,1,1,1,1,1,1,1,1,1,1,1,1,1,1,3,3,3,1,1,2,2,1,1,1,1,1,1,2,2,2,1,1,2,2,2,1,1,1,1,1,1,1,2,2,1,1,1,1,1,1,1,1,1,1,1,1,1,1,1,1,1,1,1,1,1,1,2,2,3,3,3,3,1,1,1,2,2,1,1,1,1,1,1,1,1,1,1,1,1,1,1,1,2,2,1,1,1,1,3,3,3,3,3,3,1,1,1,1,1,1,1,1,1,1,1,1,1,1,1,1,1,1,1,1,2,2,1,1,1,1,2,2,1,6,6,6,6,6,6,1,1,1,1,1,1,2,2,2,1,1,1,1,1,1,1,1,1,3,3,3,2,2,1,1,2,2,2,1,1,1,2,2,1,1,1,1,1,1,1,1,1,1,1,1,1,1,1,1,1,1,1,1,1,1,2,2,1,1,2,2,1,1,1,1,1,1,1,1,1,1,1,1,1,2,2,2,2,1,1,1,1,1,1,1,1,1,1,1,1,1,1,1,3,3,3,3,1,1,1,1,1,1,1,1,1,1,1,1,1,1,1,1,1,1,1,1,1,1,1,1,2,2,1,1,1,1,1,1,1,1,2,2,1,1,1,1,1,1,1,1,1,1,1,1,1,1,1,1,1,2,2,1,1,1,1,1,1,1,1,1,1,1,1,1,1,1,1,1,6,6,6,6,6,6,1,1,1,1,1,1,1,1,1,1,1,1,2,2,1,1,1,1,1,1,1,1,1,1,1,1,2,2,1,1,1,1,1,1,1,1,1,1,1,1,1,1,1,1,1,1,1,1,1,1,2,2,2,1,1,1,1,1,1,1,1,1,1,1,1,1,1,2,2,1,1,1,1,1,1,1,1,1,1,1,1,1,2,2,1,1,2,2,2,2,1,1,1,1,1,2,2,1,1,1,1,1,1,1,1,1,1,1,1,1,1,2,2,1,1,2,2,2,1,1,1,1,1,1,1,1,1,1,1,1,1,1,1,4,4,4,4,4,1,1,1,1,1,1,1,1,1,1,2,2,3,3,1,1,1,1,1,1,1,1,1,1,1,1,1,1,1,1,1,1,1,1,1,1,1,1,1,1,1,1,1,1,1,1,1,1,1,1,1,1,1,1,1,1,1,1,1,1,1,1,1,1,2,2,1,1,1,2,2,1,1,1,1,1,1,1,2,2,1,1,1,1,1,1,1,1,1,1,1,1,1,1,1,1,1,1,2,2,1,1,1,1,1,1,2,1,1,1,1,1,1,1,1,1,1,1,1,1,1,1,1,1,1,1,1,1,1,1,1,1,1,1,1,1,1,1,1,1,1,1,1,1,1,1,1,1,2,2,2,1,1,1,1,2,2,2,1,1,1,1,1,1,1,1,2,2,1,1,1,1,1,1,2,1,1,1,1,1,1,4,4,4,1,1,1,1,1,1,1,1,1,2,2,2,1,1,1,1,1,1,1,1,1,1,1,1,1,1,1,1,1,1,1,1,1,1,1,1,1,2,3,3,2,2,1,1,1,1,1,1,1,1,1,1,1,1,1,1,1,1,1,1,1,1,1,1,1,1,2,2,1,1,1,1,2,1,1,1,1,1,1,1,1,1,1,1,1,1,1,1,3,3,3,3,1,1,1,2,1,1,1,1,1,1,1,1,1,1,1,1,1,1,1,1,2,2,2,1,1,1,1,1,1,1,1,1,1,1,1,1,1,1,1,1,1,1,1,1,1,1,1,2,2,1,1,1,1,1,1,1,1,1,1,1,1,1,1,1,1,1,1,1,1,1,1,1,1,1,1,1,1,1,1,1,1,1,1,1,1,1,1,1,1,1,1,1,1,1,1,1,1,1,1,1,1,1,1,1,1,1,1,1,3,3,3,3,1,1,4,4,4,1,1,1,1,1,1,1,1,1,1,1,1,1,1,1,1,1,1,1,1,1,1,1,1,1,1,1,1,1,1,1,1,1,1,1,1,1,1,1,2,2,2,1,1,1,1,1,1,1,1,1,1,1,1,1,1,1,1,1,1,1,1,1,1,1,1,1,1,1,1,1,1,1,1,1,1,1,1,1,1,1,1,1,1,1,1,1,2,1,1,1,1,1,1,1,1,1,1,1,1,1,2,2,1,1,1,1,1,1,1,1,1,1,1,1,1,2,2,2,1,1,1,1,1,1,1,1,1,3,3,1,1,1,1,1,1,2,2,1,1,1,1,2,2,1,1,1,1,1,1,1,1,1,1,1,1,1,1,1,1,1,1,1,1,1,1,1,1,1,1,1,1,2,2,1,1,1,1,1,5,5,5,5,5,1,1,1,1,1,1,1,1,1,1,1,1,1,1,1,1,1,1,2,1,1,1,1,1,1,1,1,1,1,2,2,1,1,1,3,3,3,1,1,1,1,1,1,1,1,1,1,1,1,1,1,1,1,1,1,1,1,1,1,1,1,1,1,1,1,1,1,1,1,1,1,1,1,1,1,1,2,1,2,2,2,1,1,1,1,1,1,1,1,1,1,1,1,1,1,1,1,1,1,1,1,1,1,1,1,2,2,1,1,1,1,1,1,1,1,1,1,1,1,1,1,1,1,1,1,1,1,1,1,1,1,1,1,1,1,1,1,1,1,1,1,1,1,1,1,1,1,2,2,1,1,2,2,1,1,1,1,1,1,1,1,1,1,1,1,1,1,1,1,1,1,1,1,1,1,1,1,1,2,1,1,1,1,2,1,1,1,1,1,1,1,1,1,1,1,1,1,1,1,1,1,1,1,1,1,1,1,1,1,1,3,3,3,3,3,3,1,1,1,1,1,1,1,1,1,1,1,1,1,1,1,1,1,1,1,1,1,1,1,1,4,4,2,2,1,1,1,1,1,1,1,1,1,1,1,1,1,1,1,1,1,1,1,1,1,1,1,1,1,1,1,1,1,1,1,1,1,1,2,2,1,1,1,1,1,1,1,1,1,1,1,1,1,2,2,1,1,1,1,1,1,1,1,1,1,2,2,1,1,1,1,1,1,1,1,1,1,1,1,1,1,1,1,1,1,1,1,1,1,1,1,1,2,2,1,3,3,1,1,1,1,4,4,4,4,4,1,1,1,1,2,2,1,1,1,1,1,1,1,1,1,1,1,1,1,1,1,1,1,1,1,1,1,1,3,1,1,1,1,1,1,1,1,1,1,1,1,1,1,1,1,1,1,2,2,2,2,2,1,1,1,1,1,1,1,1,1,1,1,1,2,2,1,1,1,1,1,1,2,2,1,1,2,1,1,1,1,1,1,3,3,3,3,1,1,1,1,1,1,1,1,1,1,1,1,1,1,1,1,1,1,1,1,2,2,1,1,1,1,1,1,1,2,1,1,1,1,1,1,1,1,1,1,1,1,1,1,1,1,1,1,1,1,1,1,1,1,1,1,1,1,1,1,1,1,1,1,1,1,1,1,1,1,2,2,1,1,1,1,1,1,1,1,1,2,1,1,1,1,1,1,1,1,1,1,1,1,1,1,1,1,1,1,1,1,1,1,1,4,4,1,1,1,1,2,2,4,4,4,1,1,1,1,1,1,3,3,1,1,1,1,1,1,1,1,1,1,1,1,1,1,2,2,2,1,1,2,1,1,3,3,1,1,1,1,1,1,1,1,1,1,1,1,1,1,1,1,1,1,1,1,1,1,1,1,1,1,1,1,1,1,1,1,1,1,1,1,1,1,1,1,1,1,1,1,1,1,1,1,1,1,1,1,1,2,2,2,1,1,1,1,1,1,1,1,1,1,2,2,1,1,1,1,1,1,1,1,1,1,1,1,1,1,1,1,1,1,1,1,1,1,1,1,1,1,1,1,1,2,2,1,1,1,2,2,2,3,3,3,1,1,2,2,2,1,1,1,1,1,1,1,1,2,2,1,1,1,1,1,1,1,1,4,4,4,4,1,1,1,1,1,1,1,1,1,1,1,1,1,1,1,1,1,1,1,1,1,1,1,1,1,1,1,1,1,1,1,1,1,2,2,2,1,1,2,2,2,1,1,1,1,2,1,3,3,3,1,1,1,1,1,1,1,1,1,1,1,1,1,1,1,1,1,1,1,1,1,1,1,1,1,1,1,1,1,1,1,1,1,1,1,1,1,1,2,2,2,1,1,1,1,1,1,1,1,1,1,1,1,1,1,1,1,1,1,1,1,1,1,1,1,1,1,1,1,1,1,1,1,1,1,1,1,1,1,1,1,2,2,1,1,1,1,1,1,1,1,1,1,1,1,1,1,1,1,1,1,2,2,2,2,2,2,1,1,1,1,1,1,1,1,1,1,1,2,1,1,1,1,1,1,1,1,1,1,1,1,1,1,1,1,1,1,1,1,1,1,1,1,1,1,1,1,1,1,1,1,1,1,1,2,2,2,2,1,1,1,1,1,1,1,1,1,1,1,1,1,1,1,1,1,1,1,1,1,1,1,1,2,2,2,2,1,2,2,2,1,2,1,1,1,1,1,1,1,1,1,1,1,1,1,1,1,1,1,1,1,1,1,1,3,3,3,1,1,1,1,1,1,1,1,8,8,8,8,8,8,8,1,1,1,1,1,1,1,1,1,1,1,2,2,1,2,2,1,1,1,1,1,1,1,1,1,3,3,3,1,1,1,1,1,1,1,2,2,1,1,1,1,2,2,1,1,1,1,1,2,1,1,1,1,3,3,1,1,1,1,2,2,2,2,2,2,2,1,1,3,3,3,1,1,1,1,3,3,3,2,1,3,3,3,3,3,3,3,2,2,1,1,2,2,5,5,5,5,5,5,1,1,2,2,2,1,1,1,1,1,1,1,1,1,1,1,1,1,1,1,1,1,1,1,1,1,1,1,1,1,1,1,1,1,1,1,1,1,2,2,2,1,1,2,1,1,1,1,1,1,1,1,1,1,1,1,1,1,1,1,1,2,2,1,1,1,2,2,1,1,1,1,1,1,1,1,2,2,1,2,1,1,1,1,1,1,2,2,1,1,1,1,2,1,1,1,1,1,1,1,1,1,1,1,1,1,2,2,2,2,2,2,2,2,2,2,2,1,1,1,1,1,1,1,1,1,1,1,1,1,2,2,2,2,1,1,1,1,1,1,1,1,1,1,2,2,2,1,1,1,1,1,2,2,1,1,2,2,2,1,1,3,3,3,1,1,1,1,1,1,2,2,2,2,1,1,1,1,1,1,1,1,3,3,3,1,1,2,2,2,1,1,1,1,1,1,2,1,1,1,1,1,1,1,1,1,1,1,1,1,4,4,4,1,2,2,1,1,2,2,1,1,4,4,4,5,5,1,1,1,1,1,1,1,2,2,2,2,1,1,1,1,1,1,1,1,1,1,4,4,4,4,1,1,1,1,1,2,1,1,2,2,2,2,2,2,2,1,2,2,1,1,1,4,4,4,1,1,1,1,1,1,1,2,2,2,1,1,3,3,1,1,1,1,3,3,3,3,1,1,1,2,3,3,3,3,1,1,1,1,1,2,2,1,1,1,1,1,2,2,2,2,1,1,2,2,1,1,1,2,1,1,1,1,1,1,1,1,1,1,1,2,1,1,1,1,1,2,2,2,2,2,2,1,1,2,1,1,1,2,2,2,2,1,1,2,2,2,4,4,4,1,1,1,1,1,1,1,2,2,2,2,2,1,1,1,1,1,1,1,1,1,1,1,1,4,4,4,4,4,2,2,2,1,2,2,2,2,2,1,1,1,1,1,1,1,1,1,1,1,2,2,1,1,1,1,1,1,1,1,1,1,1,2,2,2,1,1,1,1,2,2,1,1,1,1,3,3,3,1,1,1,1,1,2,2,1,1,1,1,1,2,2,2,1,1,1,1,1,1,4,4,4,1,1,1,1,1,1,1,2,2,2,1,1,1,2,2,2,1,2,2,1,1,1,1,2,2,3,3,3,1,2,2,1,1,3,3,1,1,1,2,2,1,1,1,1,2,2,2,1,1,2,2,1,1,1,1,1,1,1,1,1,1,1,1,1,1,1,1,2,2,2,3,1,1,1,3,3,1,1,2,2,1,1,1,1,1,1,1,1,1,1,1,1,1,1,2,2,3,3,1,1,1,1,3,3,3,3,1,1,1,1,1,3,3,3,3,2,2,2,1,1,1,1,1,1,1,1,1,1,1,1,1,1,1,1,2,1,1,1,1,2,2,2,2,2,2,1,1,1,1,1,1,1,1,1,1,1,1,1,1,1,1,1,2,4,4,4,4,4,1,1,1,1,1,1,4,4,4,4,1,2,2,2,1,1,1,1,1,1,1,1,1,1,1,1,1,1,1,2,1,1,1,1,1,1,1,1,1,1,1,1,1,1,1,1,1,1,1,2,2,1,1,1,1,1,1,1,1,1,1,1,1,1,1,1,1,2,2,1,1,2,2,2,1,1,1,1,1,1,1,1,1,1,1,1,1,1,1,1,1,1,1,1,1,1,1,1,1,1,1,1,1,1,2,1,1,1,1,1,1,1,1,1,1,3,3,3,3,1,1,1,1,1,1,1,2,2,3,3,3,2,2,2,1,1,1,1,1,1,1,1,1,1,2,2,2,1,1,1,1,2,2,1,1,1,1,1,1,1,1,1,1,1,1,1,1,1,1,1,1,1,1,4,4,4,4,1,1,1,1,1,1,1,1,1,1,1,1,1,1,1,1,1,1,1,2,2,1,2,2,2,1,1,1,1,1,1,1,1,1,1,1,1,1,1,1,1,1,4,4,1,1,1,1,1,1,1,1,1,1,1,1,1,2,2,2,1,1,1,1,1,1,1,1,1,3,3,3,3,1,1,1,3,3,3,2,2,2,2,4,4,4,4,1,1,1,1,1,1,2,2,1,1,1,1,1,1,2,2,2,2,1,1,1,1,1,1,1,1,1,1,1,1,2,1,1,1,1,1,1,1,1,1,1,1,1,1,1,1,1,1,1,1,1,1,1,1,1,1,1,1,1,1,2,2,2,2,2,2,2,2,2,1,1,2,2,2,1,1,1,1,1,1,1,1,1,2,2,1,1,4,4,4,4,2,2,1,1,2,1,5,5,5,5,1,1,1,1,1,1,2,2,2,2,2,2,1,1,1,1,1,1,1,1,1,1,1,6,6,6,6,1,1,1,1,2,2,2,1,1,1,2,2,2,2,2,2,1,1,2,1,1,1,1,1,1,1,1,2,2,2,1,1,1,1,1,1,3,3,3,3,3,3,2,2,1,1,3,3,3,3,3,1,1,1,1,1,1,1,1,1,1,1,2,2,2,1,1,1,1,1,1,1,2,2,1,1,2,2,1,1,1,3,3,3,1,1,1,2,1,1,1,1,1,1,1,1,1,1,1,1,1,1,4,1,1,1,1,1,3,3,3,3,1,1,1,1,1,1,2,2,1,1,1,1,2,2,1,1,1,1,2,2,1,2,2,2,1,1,1,1,1,1,1,1,1,1,1,1,1,1,1,1,2,2,2,1,1,2,1,1,1,2,1,1,1,1,3,3,3,3,1,4,4,1,1,1,2,3,3,3,3,3,1,1,1,3,3,3,1,1,1,1,2,2,2,1,1,2,2,1,3,3,3,3,3,3,3,1,1,2,2,1,3,3,3,3,1,1,1,1,1,1,1,3,3,3,3,1,1,1,1,1,1,1,1,2,1,1,1,2,1,1,1,1,1,1,3,3,3,1,1,1,1,1,1,2,2,5,5,5,5,1,1,1,1,1,1,1,1,1,1,1,2,2,3,3,3,1,1,1,1,1,2,2,1,1,1,1,2,2,2,2,2,2,2,4,4,4,4,4,4,4,4,4,2,1,1,2,2,1,1,2,2,2,2,1,1,1,1,1,4,4,4,1,1,3,3,1,1,1,1,1,2,2,2,2,2,2,1,1,1,1,2,2,2,1,1,1,1,1,1,2,2,2,2,2,2,1,1,1,1,1,1,1,1,1,3,3,3,3,1,1,1,1,1,1,1,1,1,2,2,1,2,2,1,1,2,1,1,1,1,1,1,1,1,1,1,1,1,1,1,1,1,1,1,2,2,1,1,1,1,1,1,1,1,2,2,2,2,1,1,1,1,1,1,1,1,1,1,1,1,1,2,2,2,1,1,1,1,2,2,2,2,1,1,1,1,1,1,2,1,1,1,1,1,2,2,1,1,1,2,2,2,2,2,2,2,1,1,1,1,1,2,2,2,2,2,5,5,5,5,5,5,1,1,1,1,2,2,2,1,5,5,5,1,1,1,1,1,1,1,1,1,1,1,1,1,3,3,3,3,1,1,1,1,1,1,1,1,1,1,1,1,1,1,1,1,1,1,1,1,1,1,1,1,1,1,3,3,3,1,1,1,1,1,1,1,1,2,2,1,1,1,1,1,1,1,2,2,2,2,2,1,1,1,1,1,1,2,2,2,1,1,1,1,1,1,1,1,1,1,1,2,2,2,2,1,1,1,1,1,2,2,1,2,2,2,1,1,1,2,2,2,2,1,1,1,1,1,1,1,2,1,1,1,2,2,2,1,1,1,1,1,1,1,1,1,1,2,2,1,1,1,1,1,1,1,1,1,1,2,2,2,1,1,1,1,1,1,2,2,2,2,1,1,1,1,1,1,2,2,1,1,1,1,1,1,1,1,1,1,1,1,1,1,1,1,2,1,1,2,2,2,1,1,1,1,1,1,1,1,1,1,1,1,1,2,2,2,1,1,3,3,3,2,2,2,5,5,5,5,5,1,1,1,1,1,1,1,1,1,2,2,1,1,1,1,1,1,1,1,2,2,2,1,1,1,1,1,1,1,1,1,1,1,1,3,3,3,3,1,1,1,3,3,5,5,5,5,5,1,1,2,2,2,2,2,1,1,2,2,1,2,2,1,1,1,1,2,2,3,3,3,3,2,1,1,1,1,1,1,1,1,1,1,2,2,1,1,1,1,1,1,1,1,1,1,1,1,1,1,1,1,1,1,1,1,3,3,3,3,1,1,1,1,1,1,2,2,1,1,1,1,1,1,1,1,1,1,1,1,1,1,3,3,3,1,1,1,1,1,1,1,1,1,1,1,1,1,1,1,1,1,1,1,1,3,3,2,2,2,1,1,1,1,1,2,2,1,1,1,1,1,1,1,1,2,2,1,1,1,1,2,1,1,1,1,1,1,1,1,1,1,1,1,1,1,2,2,2,2,1,1,1,1,1,1,1,1,1,1,2,2,2,1,5,5,5,5,1,1,6,6,6,6,6,6,2,1,1,1,1,1,1,1,1,2,2,2,1,1,1,3,3,3,3,2,2,1,1,2,1,1,1,1,1,1,1,1,1,1,1,1,1,1,2,1,3,3,3,1,1,1,1,1,1,1,1,1,1,3,3,1,1,1,1,1,1,1,2,2,1,5,5,5,5,5,5,5,2,2,1,1,1,2,2,2,1,2,1,2,2,2,1,1,3,3,1,1,1,1,1,1,1,1,1,1,1,1,1,1,1,1,1,1,1,1,1,1,1,1,2,2,1,1,2,2,1,1,1,1,1,1,1,2,2,2,5,5,5,5,5,1,1,1,3,3,3,1,1,1,1,3,3,1,1,1,1,1,1,4,4,4,1,1,1,1,1,1,1,1,1,1,4,4,4,4,4,1,1,1,1,1,1,1,2,2,1,1,1,1,1,1,1,1,1,1,1,1,1,1,1,1,1,1,1,1,1,3,3,3,1,1,1,1,1,1,2,1,1,1,1,1,1,1,1,1,3,3,1,1,2,2,1,1,1,1,1,1,1,1,1,1,1,1,1,1,1,1,1,1,1,1,1,1,1,3,1,1,2,2,1,1,4,4,4,4,4,1,1,2,2,1,1,1,1,1,1,1,1,1,2,2,1,1,3,3,3,1,1,1,2,2,2,1,1,1,1,2,1,1,1,2,1,1,1,1,1,1,1,1,1,1,1,1,1,1,1,2,1,1,1,1,1,2,2,1,1,2,2,2,1,1,1,1,1,1,1,1,1,1,1,1,1,1,1,1,1,1,1,2,2,3,3,1,1,1,1,1,1,2,2,1,1,3,3,3,3,1,1,1,1,1,1,1,4,4,4,4,1,1,1,1,1,1,1,1,1,1,2,2,1,1,1,1,1,1,2,2,1,1,2,2,2,1,1,1,1,1,1,1,1,1,1,1,4,4,4,4,1,1,1,1,1,1,1,1,1,1,1,1,1,1,1,1,1,1,1,1,1,1,1,3,3,3,3,1,1,3,3,3,2,2,2,2,1,1,1,1,3,3,3,1,1,1,1,1,1,1,1,2,2,2,2,2,2,1,1,1,1,1,1,1,1,1,1,1,1,1,1,1,1,1,1,2,2,2,1,2,2,2,1,1,1,1,1,1,1,1,1,1,1,1,1,1,1,1,2,1,1,2,2,1,1,1,1,1,1,1,3,3,3,1,2,2,1,1,2,2,2,1,1,1,1,1,1,3,3,3,1,1,4,4,4,1,1,1,1,1,1,1,5,5,5,5,1,1,1,1,1,1,1,1,2,2,2,2,2,1,4,4,4,4,1,1,2,2,2,1,1,1,1,2,2,2,2,1,1,1,1,1,1,1,1,1,1,1,1,1,1,1,1,1,1,3,3,3,1,1,2,2,2,2,2,2,1,2,2,2,2,3,3,3,1,1,1,1,1,1,2,2,2,1,1,1,1,1,1,1,1,1,1,1,1,5,5,5,2,2,2,1,1,2,2,2,2,2,2,2,2,2,1,1,2,2,2,1,1,1,1,3,1,1,1,1,1,1,1,3,3,3,3,3,3,3,1,1,1,1,2,2,2,2,1,1,1,1,2,2,1,1,1,1,1,1,1,1,1,1,1,1,1,1,2,1,1,1,1,2,1,1,1,2,2,1,1,1,1,1,2,2,2,1,1,1,1,1,1,1,3,3,3,3,1,1,1,1,1,1,1,1,1,1,1,1,2,1,1,3,3,2,2,1,1,1,1,2,1,1,1,1,1,4,4,4,4,4,1,1,1,1,1,1,1,1,1,1,1,1,1,1,1,1,1,1,1,3,3,3,3,1,5,5,5,5,5,1,1,2,2,1,1,2,2,3,3,1,1,1,1,1,2,1,1,1,1,2,2,1,1,1,1,1,1,1,1,1,1,1,1,1,2,2,2,1,1,1,1,1,4,4,4,4,2,2,1,1,1,1,1,1,1,4,4,4,4,1,1,2,2,2,1,1,1,1,1,1,1,1,1,1,2,2,2,2,2,1,1,1,1,1,4,4,4,4,1,2,1,1,1,1,1,1,1,1,3,3,3,2,2,1,1,1,1,1,1,1,1,2,2,2,1,1,1,3,3,1,1,4,4,4,4,1,1,1,1,1,2,2,2,1,1,1,1,2,2,1,1,3,3,3,3,3,1,1,1,1,1,1,2,2,2,1,1,1,1,1,1,1,1,1,6,6,6,6,6,2,2,2,1,1,1,1,1,1,1,2,2,1,2,2,1,1,1,1,1,2,2,1,4,4,4,4,1,1,2,2,1,1,1,1,1,2,2,2,4,4,4,1,1,2,2,1,1,1,1,1,1,1,5,5,5,5,5,2,1,1,1,1,1,1,1,1,1,1,1,1,1,3,3,3,1,1,1,1,1,3,1,1,3,3,3,5,5,5,5,5,1,1,1,1,1,1,1,1,1,1,1,1,1,1,1,2,2,1,1,1,3,3,2,2,2,1,1,1,1,1,2,2,1,4,4,1,1,1,1,1,1,1,1,2,2,1,1,1,1,1,1,2,2,2,2,1,1,1,1,1,1,1,1,1,1,1,1,1,1,1,1,1,1,1,2,2,2,1,1,1,1,1,1,1,1,1,1,1,1,1,3,3,3,2,2,2,1,1,1,1,1,1,2,2,2,2,2,2,2,2,1,3,3,2,2,2,2,1,2,2,1,1,1,1,1,1,1,1,1,1,1,1,1,1,1,3,3,1,4,4,4,4,4,4,1,1,1,1,1,1,1,1,2,2,2,1,2,2,1,1,1,1,1,1,1,1,2,2,1,1,1,1,1,1,1,1,2,2,2,1,1,1,1,1,5,5,5,5,5,5,1,1,4,4,4,1,2,1,1,1,1,2,2,1,2,2,2,1,1,1,1,1,2,2,1,1,1,1,1,1,1,1,1,1,1,1,2,2,2,2,2,1,2,2,1,1,1,1,1,1,2,2,2,2,2,2,1,1,1,1,1,1,1,1,1,1,1,1,1,1,1,1,3,3,1,1,1,1,1,1,1,1,1,1,2,2,2,2,1,1,1,2,3,1,1,1,1,1,5,5,1,1,1,1,1,1,1,1,1,1,1,1,1,1,2,2,2,1,1,1,1,1,2,2,2,1,1,1,1,1,1,1,1,1,1,1,1,1,1,1,1,1,1,1,1,1,1,1,1,1,1,1,1,1,1,1,1,3,3,3,3,1,1,1,1,2,2,2,1,1,1,1,1,1,2,2,1,1,1,1,1,1,1,1,2,1,1,1,1,1,1,3,3,3,3,1,2,2,2,2,2,1,1,1,1,1,1,1,1,1,1,1,1,1,1,2,1,1,1,1,1,1,1,1,1,1,1,1,1,2,2,2,1,1,1,1,1,1,1,2,2,1,1,1,2,2,2,4,4,4,2,1,1,1,1,2,2,1,1,2,1,2,1,2,2,1,1,1,1,1,1,1,1,1,1,1,1,1,2,2,2,1,1,1,1,2,2,3,1,1,1,1,1,1,2,2,1,1,1,1,1,1,1,7,7,7,7,7,7,1,1,1,2,1,1,1,1,1,1,1,1,1,1,1,1,1,1,1,1,1,1,1,1,1,1,1,1,2,2,2,3,3,3,1,1,1,1,1,1,1,1,1,1,2,2,1,1,3,3,1,1,1,1,1,1,1,1,1,1,1,1,1,1,1,1,1,1,1,2,1,2,2,2,2,1,1,1,1,1,1,1,1,1,1,3,3,2,2,2,1,1,1,1,1,1,1,1,1,2,2,1,1,1,1,2,2,1,1,1,1,1,1,1,2,2,1,1,1,1,6,6,6,6,6,6,2,2,2,1,1,1,1,3,3,3,1,1,1,1,1,1,1,1,1,1,1,2,2,3,3,2,2,1,1,1,1,1,1,1,2,1,1,1,1,1,1,1,1,1,2,2,1,1,1,1,1,2,2,2,2,1,1,1,1,1,1,1,2,1,1,1,1,1,2,1,1,1,2,2,1,1,2,2,2,1,1,1,1,1,1,2,2,1,1,1,1,1,1,1,7,7,7,7,7,1,3,3,3,1,1,1,1,1,2,2,1,1,1,1,1,1,1,1,1,1,1,1,1,1,1,1,1,1,1,1,1,1,1,1,1,3,3,3,3,3,3,3,1,1,1,1,1,1,4,4,1,1,1,7,7,7,7,7,1,1,1,1,1,1,1,1,6,6,6,1,1,1,1,1,1,1,1,1,1,3,3,1,1,1,1,1,1,1,2,2,1,2,2,2,2,2,1,1,1,1,1,2,2,2,1,1,1,2,2,2,2,1,1,1,1,1,1,1,1,1,1,1,2,2,2,3,3,3,1,1,2,2,2,4,4,4,4,1,1,1,1,1,1,2,2,3,3,3,1,1,1,5,5,5,5,5,5,5,1,1,1,2,2,1,1,2,2,1,1,3,3,3,3,3,3,1,1,3,3,3,1,1,1,1,1,1,1,1,1,2,1,1,1,1,1,1,1,1,1,1,1,1,1,2,2,1,1,1,1,1,1,1,1,2,5,5,5,5,5,1,2,2,3,3,3,3,2,2,2,1,1,1,1,1,1,2,2,1,3,3,3,3,3,1,1,1,1,1,1,2,1,1,1,1,1,1,1,1,1,1,1,1,1,1,1,1,1,2,1,1,1,1,1,1,1,1,2,3,3,3,1,1,1,1,1,1,1,1,1,1,1,1,1,1,2,1,2,2,2,2,3,3,3,1,1,2,2,2,1,1,1,1,2,2,3,3,1,1,1,1,1,1,1,1,1,1,2,2,1,1,1,1,3,3,1,1,1,1,1,1,1,1,1,3,3,3,1,1,1,1,1,1,1,1,1,1,1,2,2,1,1,2,2,1,1,1,1,1,1,3,3,3,3,1,2,2,2,1,1,3,3,3,3,3,3,3,1,1,1,2,2,1,1,1,1,2,2,2,1,1,1,1,1,1,1,1,1,2,2,2,1,1,1,1,1,1,1,1,1,2,2,1,1,2,2,1,4,4,4,4,1,1,1,3,1,1,1,1,1,2,2,1,1,1,1,1,1,1,1,1,3,3,3,1,1,1,1,1,1,1,1,1,1,1,1,1,1,1,1,2,2,1,1,1,1,1,1,1,1,1,1,1,2,2,1,1,2,2,2,1,1,1,1,1,1,4,4,1,1,1,1,1,2,2,1,1,1,1,1,1,1,1,1,1,1,1,4,4,4,1,1,1,1,1,1,1,1,2,2,1,1,1,1,1,1,1,1,1,1,1,1,2,2,2,2,2,1,1,1,1,1,1,2,2,2,1,1,1,1,1,1,1,1,2,2,1,1,1,2,2,2,3,3,3,1,1,1,1,1,1,1,1,1,1,1,1,1,1,1,1,2,1,1,1,1,3,1,1,1,1,2,2,1,2,2,1,1,1,2,2,2,1,2,2,2,2,1,1,5,5,5,5,5,1,1,1,1,1,1,1,1,1,1,1,1,1,1,1,1,1,1,1,1,1,1,1,1,1,1,1,1,1,1,1,2,2,1,1,1,1,1,1,1,1,1,1,1,1,1,1,2,2,1,1,1,1,1,1,2,2,2,2,1,1,1,1,1,1,1,1,1,1,1,1,1,1,1,2,2,2,2,1,1,1,1,2,4,4,4,1,1,1,1,1,1,1,1,1,1,1,1,1,1,1,1,1,1,1,1,1,1,1,1,1,1,1,1,1,2,1,2,2,5,5,5,5,1,2,2,2,3,3,3,3,1,1,1,1,1,2,1,1,1,1,1,1,1,1,1,2,2,1,1,1,1,1,1,1,1,1,1,3,3,3,1,1,1,1,3,3,3,1,1,1,1,1,1,1,1,2,2,2,2,2,2,2,2,1,1,1,1,2,2,2,1,1,2,2,2,1,1,1,1,3,3,2,2,1,1,1,1,1,1,1,1,1,1,1,1,1,1,1,1,1,1,1,2,2,2,2,2,2,2,1,1,1,2,1,2,2,1,1,1,1,2,1,1,2,2,4,4,4,4,2,2,2,1,1,1,1,1,1,1,1,1,1,1,3,3,3,3,3,3,2,2,2,2,2,2,1,1,4,4,4,4,2,2,2,1,1,1,1,1,2,2,1,2,2,2,2,1,1,1,1,1,1,2,2,3,3,3,3,1,1,1,1,3,3,3,1,1,1,1,1,1,1,2,1,2,2,1,1,1,1,1,1,1,1,3,3,3,3,1,1,1,1,1,1,1,1,1,1,1,1,1,1,1,1,4,4,4,4,1,1,1,2,2,3,3,1,1,1,1,1,1,1,1,1,1,1,1,1,2,1,1,1,1,1,4,4,4,4,1,1,1,1,1,3,3,3,1,1,1,1,1,1,1,1,3,3,1,1,1,1,1,1,1,1,2,4,4,4,4,1,1,2,2,2,1,1,2,2,2,1,1,2,2,3,3,3,1,1,1,1,1,2,2,2,1,1,1,1,1,1,3,3,3,1,1,1,1,1,1,1,1,1,1,1,1,1,2,1,3,3,3,3,1,1,1,1,1,2,2,2,2,2,2,1,1,1,1,1,1,3,3,3,2,2,1,1,1,2,2,3,1,1,1,1,1,1,1,1,1,2,2,2,2,2,1,1,1,1,2,2,2,2,1,1,1,1,1,1,2,2,2,2,2,2,2,2,2,2,1,1,2,2,6,6,6,6,2,2,2,1,1,1,1,2,2,3,3,3,1,1,1,1,1,1,1,1,1,1,1,1,1,1,1,2,2,2,3,3,3,3,3,2,2,2,1,1,2,2,1,1,1,1,3,3,3,3,1,1,1,4,1,1,1,1,1,1,1,1,1,1,1,1,1,1,2,2,1,1,1,1,1,1,1,1,1,1,1,1,1,1,1,1,1,3,3,3,2,1,2,2,1,1,1,1,1,1,1,1,1,1,1,1,1,1,1,1,1,6,6,6,6,6,1,5,5,5,5,5,5,2,2,1,1,1,1,1,1,1,1,1,1,1,1,1,1,3,3,3,1,1,1,2,2,3,1,1,1,1,1,1,1,1,1,2,2,2,2,1,1,1,2,2,2,2,2,2,1,1,1,1,1,3,3,3,1,1,1,1,2,2,2,2,2,2,2,1,1,2,2,1,1,1,1,1,1,3,3,3,1,1,1,1,2,2,3,3,1,1,1,4,4,4,4,2,2,2,2,2,1,1,1,1,1,1,1,1,2,2,2,1,1,4,4,4,4,4,1,1,1,1,2,2,1,1,1,1,1,2,2,2,1,3,3,2,2,2,4,4,4,1,1,1,1,1,1,2,1,1,1,1,1,1,1,1,1,1,1,1,1,1,2,2,1,2,2,1,1,1,1,1,2,2,1,1,1,1,1,2,2,2,1,1,1,1,1,1,1,1,1,5,5,1,1,1,1,1,1,1,1,1,3,3,1,1,1,1,1,1,1,1,2,2,2,5,5,5,5,1,1,1,1,1,1,1,1,2,2,2,1,1,1,1,1,1,1,1,1,1,1,1,1,1,1,1,1,1,1,1,2,2,2,1,1,2,2,1,1,1,1,1,1,2,1,2,2,1,1,1,2,2,1,1,2,2,1,1,1,1,1,1,1,1,3,3,3,1,1,1,1,1,1,4,4,4,1,1,2,2,1,1,3,3,3,1,1,1,1,1,1,3,3,3,3,2,2,1,2,2,2,2,1,1,1,1,1,1,1,1,1,3,3,3,3,2,2,1,1,2,2,2,1,1,2,2,2,1,1,1,1,2,2,1,1,1,1,1,1,1,1,1,1,1,1,1,1,1,1,1,1,1,1,5,5,5,5,5,3,1,1,1,1,1,1,1,3,3,3,3,2,2,1,3,3,3,3,3,1,1,2,1,1,1,2,2,2,1,1,1,1,1,1,1,2,1,1,1,1,2,1,2,2,2,1,4,4,1,1,1,1,3,1,1,1,1,2,1,1,1,1,1,1,1,1,1,1,1,1,1,1,1,1,1,1,1,1,1,1,1,1,2,2,1,1,1,1,1,1,1,1,1,1,2,2,2,2,1,1,1,1,2,1,1,4,4,4,4,1,1,1,1,1,1,1,1,2,2,1,1,1,1,1,1,1,1,1,1,1,1,4,4,1,1,1,1,1,1,1,1,2,2,1,1,1,1,1,1,1,1,1,1,1,1,1,1,1,2,2,2,1,1,1,2,2,2,1,1,1,1,1,1,1,1,1,2,2,1,1,2,2,2,3,3,3,3,1,1,1,1,1,1,1,1,1,1,1,1,1,1,1,1,2,2,1,1,1,1,3,3,1,1,1,1,1,1,2,2,1,1,2,1,1,1,1,2,2,2,2,2,2,2,1,1,1,5,5,5,1,1,1,1,1,1,1,1,1,1,1,1,1,1,1,1,1,1,1,1,1,1,1,1,1,1,1,2,2,2,2,1,1,1,1,1,1,1,1,1,1,1,1,1,1,1,1,1,1,1,2,2,2,2,1,1,1,2,2,2,1,1,1,1,1,1,1,1,1,1,1,2,2,2,1,1,1,2,2,4,4,4,1,1,1,1,1,1,1,1,1,1,1,1,1,1,1,1,1,1,1,1,1,1,1,1,1,1,1,1,1,1,1,2,1,2,5,5,5,5,5,1,1,2,2,2,3,1,1,1,1,1,1,2,2,2,1,1,1,1,1,1,1,1,1,1,2,2,1,1,1,1,1,1,1,1,1,3,3,3,1,1,3,3,3,1,1,1,1,1,1,1,1,1,2,2,2,2,2,2,2,1,1,1,1,2,1,1,2,2,2,1,1,1,1,3,3,3,2,2,1,1,1,1,1,1,1,1,1,1,1,1,1,1,1,1,1,1,2,2,2,2,2,2,2,1,1,1,1,2,2,1,1,2,2,2,2,1,1,1,1,2,2,1,1,1,1,2,2,1,4,4,4,4,4,2,2,1,1,1,1,1,1,1,1,1,1,1,1,1,1,1,1,1,3,3,3,3,3,3,2,2,2,2,2,2,2,2,2,1,4,4,4,2,2,2,2,2,1,1,1,1,1,1,1,2,2,1,2,2,2,2,2,2,2,1,1,1,1,2,2,3,3,3,1,3,1,1,1,1,1,1,1,2,2,2,1,2,2,1,1,1,1,1,1,1,1,3,3,3,3,1,1,1,1,1,1,1,1,1,1,1,1,1,1,1,4,4,4,4,1,1,1,2,2,3,3,3,1,1,1,1,1,1,1,1,1,1,2,1,1,4,4,4,1,1,1,1,1,1,3,3,3,1,1,1,1,1,1,1,1,3,3,1,1,1,1,1,1,1,1,2,2,4,4,4,4,1,1,2,2,2,1,1,2,1,1,2,2,3,3,3,1,1,1,1,1,1,2,2,1,1,1,1,1,1,3,3,1,1,1,1,1,1,1,1,1,1,1,1,1,2,2,1,3,3,3,1,1,1,1,1,1,1,2,2,1,1,2,2,2,2,2,1,1,1,1,3,3,3,2,2,1,2,3,3,3,3,1,1,1,1,1,1,1,1,1,2,2,2,2,2,1,1,1,1,2,2,2,2,2,1,1,1,1,1,1,1,2,1,2,2,2,2,2,2,2,2,2,2,2,2,1,2,2,6,6,6,6,2,2,1,1,1,1,1,2,2,3,3,3,1,1,1,1,1,1,1,1,1,1,1,1,1,2,3,3,3,3,2,2,1,1,1,2,2,2,1,1,1,3,3,3,1,1,1,1,4,4,4,1,1,1,1,1,1,1,1,1,2,2,2,1,1,1,1,1,1,1,1,1,1,1,1,1,1,3,3,3,2,2,1,1,1,1,1,1,1,1,1,1,1,1,1,1,1,6,6,6,6,6,1,5,5,5,5,5,5,2,2,1,1,1,1,1,1,1,1,1,1,1,1,1,1,3,3,3,1,1,1,1,2,2,3,1,1,1,1,1,1,1,1,1,2,2,2,2,1,1,1,2,2,2,2,2,2,1,1,1,1,1,3,3,1,1,1,2,2,2,2,2,2,2,2,2,1,1,2,1,1,1,1,1,1,3,3,3,3,1,1,1,2,2,2,3,1,1,4,4,4,4,2,2,2,2,2,1,1,1,1,1,1,1,1,2,2,2,1,1,1,4,4,4,4,4,1,1,1,1,2,2,2,1,1,1,1,1,1,1,2,2,2,1,1,3,3,3,1,1,2,2,4,4,4,4,1,1,1,1,1,1,2,2,1,1,1,1,1,1,1,1,1,1,1,1,1,1,2,1,2,2,1,1,1,1,1,1,1,2,2,1,1,1,1,1,2,2,2,1,1,1,1,1,1,5,5,5,5,5,1,1,1,1,1,1,1,1,1,1,1,1,1,3,3,3,1,1,1,1,1,1,1,1,1,2,2,5,5,5,1,1,1,1,1,2,2,2,1,1,1,1,1,1,1,1,1,1,1,1,1,1,1,1,1,2,2,2,1,2,2,2,1,1,1,1,1,1,1,2,2,2,1,2,2,1,1,1,2,1,1,2,2,2,1,1,1,1,1,1,1,1,1,1,1,1,1,1,1,1,4,4,4,4,1,1,2,2,1,1,3,3,3,1,1,1,1,1,3,3,3,3,2,1,2,2,2,2,1,1,1,1,1,1,1,1,1,3,3,3,3,2,2,1,2,2,2,1,1,1,1,1,1,1,1,2,2,1,1,1,1,1,1,1,1,1,1,1,1,1,1,1,1,1,1,1,1,5,5,5,2,1,1,1,1,1,1,3,3,3,3,1,2,2,2,1,1,3,3,3,3,3,3,3,3,1,1,1,2,2,1,1,1,1,2,2,2,1,1,1,1,1,1,1,1,1,1,1,1,2,2,2,1,1,1,1,1,1,1,1,1,2,2,1,2,2,1,4,4,4,4,1,1,3,1,1,1,1,2,2,1,1,1,1,1,1,1,1,3,3,3,1,1,1,1,1,1,1,1,1,1,1,1,1,1,2,1,1,1,1,1,2,1,1,1,2,2,2,2,1,1,1,2,2,1,1,4,4,4,1,1,1,1,1,1,1,1,2,2,1,1,1,1,1,1,1,1,1,1,1,1,4,4,4,1,1,1,1,1,1,1,1,2,2,1,1,1,1,1],\"yaxis\":\"y\",\"type\":\"histogram\"}],                        {\"template\":{\"data\":{\"histogram2dcontour\":[{\"type\":\"histogram2dcontour\",\"colorbar\":{\"outlinewidth\":0,\"ticks\":\"\"},\"colorscale\":[[0.0,\"#0d0887\"],[0.1111111111111111,\"#46039f\"],[0.2222222222222222,\"#7201a8\"],[0.3333333333333333,\"#9c179e\"],[0.4444444444444444,\"#bd3786\"],[0.5555555555555556,\"#d8576b\"],[0.6666666666666666,\"#ed7953\"],[0.7777777777777778,\"#fb9f3a\"],[0.8888888888888888,\"#fdca26\"],[1.0,\"#f0f921\"]]}],\"choropleth\":[{\"type\":\"choropleth\",\"colorbar\":{\"outlinewidth\":0,\"ticks\":\"\"}}],\"histogram2d\":[{\"type\":\"histogram2d\",\"colorbar\":{\"outlinewidth\":0,\"ticks\":\"\"},\"colorscale\":[[0.0,\"#0d0887\"],[0.1111111111111111,\"#46039f\"],[0.2222222222222222,\"#7201a8\"],[0.3333333333333333,\"#9c179e\"],[0.4444444444444444,\"#bd3786\"],[0.5555555555555556,\"#d8576b\"],[0.6666666666666666,\"#ed7953\"],[0.7777777777777778,\"#fb9f3a\"],[0.8888888888888888,\"#fdca26\"],[1.0,\"#f0f921\"]]}],\"heatmap\":[{\"type\":\"heatmap\",\"colorbar\":{\"outlinewidth\":0,\"ticks\":\"\"},\"colorscale\":[[0.0,\"#0d0887\"],[0.1111111111111111,\"#46039f\"],[0.2222222222222222,\"#7201a8\"],[0.3333333333333333,\"#9c179e\"],[0.4444444444444444,\"#bd3786\"],[0.5555555555555556,\"#d8576b\"],[0.6666666666666666,\"#ed7953\"],[0.7777777777777778,\"#fb9f3a\"],[0.8888888888888888,\"#fdca26\"],[1.0,\"#f0f921\"]]}],\"heatmapgl\":[{\"type\":\"heatmapgl\",\"colorbar\":{\"outlinewidth\":0,\"ticks\":\"\"},\"colorscale\":[[0.0,\"#0d0887\"],[0.1111111111111111,\"#46039f\"],[0.2222222222222222,\"#7201a8\"],[0.3333333333333333,\"#9c179e\"],[0.4444444444444444,\"#bd3786\"],[0.5555555555555556,\"#d8576b\"],[0.6666666666666666,\"#ed7953\"],[0.7777777777777778,\"#fb9f3a\"],[0.8888888888888888,\"#fdca26\"],[1.0,\"#f0f921\"]]}],\"contourcarpet\":[{\"type\":\"contourcarpet\",\"colorbar\":{\"outlinewidth\":0,\"ticks\":\"\"}}],\"contour\":[{\"type\":\"contour\",\"colorbar\":{\"outlinewidth\":0,\"ticks\":\"\"},\"colorscale\":[[0.0,\"#0d0887\"],[0.1111111111111111,\"#46039f\"],[0.2222222222222222,\"#7201a8\"],[0.3333333333333333,\"#9c179e\"],[0.4444444444444444,\"#bd3786\"],[0.5555555555555556,\"#d8576b\"],[0.6666666666666666,\"#ed7953\"],[0.7777777777777778,\"#fb9f3a\"],[0.8888888888888888,\"#fdca26\"],[1.0,\"#f0f921\"]]}],\"surface\":[{\"type\":\"surface\",\"colorbar\":{\"outlinewidth\":0,\"ticks\":\"\"},\"colorscale\":[[0.0,\"#0d0887\"],[0.1111111111111111,\"#46039f\"],[0.2222222222222222,\"#7201a8\"],[0.3333333333333333,\"#9c179e\"],[0.4444444444444444,\"#bd3786\"],[0.5555555555555556,\"#d8576b\"],[0.6666666666666666,\"#ed7953\"],[0.7777777777777778,\"#fb9f3a\"],[0.8888888888888888,\"#fdca26\"],[1.0,\"#f0f921\"]]}],\"mesh3d\":[{\"type\":\"mesh3d\",\"colorbar\":{\"outlinewidth\":0,\"ticks\":\"\"}}],\"scatter\":[{\"fillpattern\":{\"fillmode\":\"overlay\",\"size\":10,\"solidity\":0.2},\"type\":\"scatter\"}],\"parcoords\":[{\"type\":\"parcoords\",\"line\":{\"colorbar\":{\"outlinewidth\":0,\"ticks\":\"\"}}}],\"scatterpolargl\":[{\"type\":\"scatterpolargl\",\"marker\":{\"colorbar\":{\"outlinewidth\":0,\"ticks\":\"\"}}}],\"bar\":[{\"error_x\":{\"color\":\"#2a3f5f\"},\"error_y\":{\"color\":\"#2a3f5f\"},\"marker\":{\"line\":{\"color\":\"#E5ECF6\",\"width\":0.5},\"pattern\":{\"fillmode\":\"overlay\",\"size\":10,\"solidity\":0.2}},\"type\":\"bar\"}],\"scattergeo\":[{\"type\":\"scattergeo\",\"marker\":{\"colorbar\":{\"outlinewidth\":0,\"ticks\":\"\"}}}],\"scatterpolar\":[{\"type\":\"scatterpolar\",\"marker\":{\"colorbar\":{\"outlinewidth\":0,\"ticks\":\"\"}}}],\"histogram\":[{\"marker\":{\"pattern\":{\"fillmode\":\"overlay\",\"size\":10,\"solidity\":0.2}},\"type\":\"histogram\"}],\"scattergl\":[{\"type\":\"scattergl\",\"marker\":{\"colorbar\":{\"outlinewidth\":0,\"ticks\":\"\"}}}],\"scatter3d\":[{\"type\":\"scatter3d\",\"line\":{\"colorbar\":{\"outlinewidth\":0,\"ticks\":\"\"}},\"marker\":{\"colorbar\":{\"outlinewidth\":0,\"ticks\":\"\"}}}],\"scattermapbox\":[{\"type\":\"scattermapbox\",\"marker\":{\"colorbar\":{\"outlinewidth\":0,\"ticks\":\"\"}}}],\"scatterternary\":[{\"type\":\"scatterternary\",\"marker\":{\"colorbar\":{\"outlinewidth\":0,\"ticks\":\"\"}}}],\"scattercarpet\":[{\"type\":\"scattercarpet\",\"marker\":{\"colorbar\":{\"outlinewidth\":0,\"ticks\":\"\"}}}],\"carpet\":[{\"aaxis\":{\"endlinecolor\":\"#2a3f5f\",\"gridcolor\":\"white\",\"linecolor\":\"white\",\"minorgridcolor\":\"white\",\"startlinecolor\":\"#2a3f5f\"},\"baxis\":{\"endlinecolor\":\"#2a3f5f\",\"gridcolor\":\"white\",\"linecolor\":\"white\",\"minorgridcolor\":\"white\",\"startlinecolor\":\"#2a3f5f\"},\"type\":\"carpet\"}],\"table\":[{\"cells\":{\"fill\":{\"color\":\"#EBF0F8\"},\"line\":{\"color\":\"white\"}},\"header\":{\"fill\":{\"color\":\"#C8D4E3\"},\"line\":{\"color\":\"white\"}},\"type\":\"table\"}],\"barpolar\":[{\"marker\":{\"line\":{\"color\":\"#E5ECF6\",\"width\":0.5},\"pattern\":{\"fillmode\":\"overlay\",\"size\":10,\"solidity\":0.2}},\"type\":\"barpolar\"}],\"pie\":[{\"automargin\":true,\"type\":\"pie\"}]},\"layout\":{\"autotypenumbers\":\"strict\",\"colorway\":[\"#636efa\",\"#EF553B\",\"#00cc96\",\"#ab63fa\",\"#FFA15A\",\"#19d3f3\",\"#FF6692\",\"#B6E880\",\"#FF97FF\",\"#FECB52\"],\"font\":{\"color\":\"#2a3f5f\"},\"hovermode\":\"closest\",\"hoverlabel\":{\"align\":\"left\"},\"paper_bgcolor\":\"white\",\"plot_bgcolor\":\"#E5ECF6\",\"polar\":{\"bgcolor\":\"#E5ECF6\",\"angularaxis\":{\"gridcolor\":\"white\",\"linecolor\":\"white\",\"ticks\":\"\"},\"radialaxis\":{\"gridcolor\":\"white\",\"linecolor\":\"white\",\"ticks\":\"\"}},\"ternary\":{\"bgcolor\":\"#E5ECF6\",\"aaxis\":{\"gridcolor\":\"white\",\"linecolor\":\"white\",\"ticks\":\"\"},\"baxis\":{\"gridcolor\":\"white\",\"linecolor\":\"white\",\"ticks\":\"\"},\"caxis\":{\"gridcolor\":\"white\",\"linecolor\":\"white\",\"ticks\":\"\"}},\"coloraxis\":{\"colorbar\":{\"outlinewidth\":0,\"ticks\":\"\"}},\"colorscale\":{\"sequential\":[[0.0,\"#0d0887\"],[0.1111111111111111,\"#46039f\"],[0.2222222222222222,\"#7201a8\"],[0.3333333333333333,\"#9c179e\"],[0.4444444444444444,\"#bd3786\"],[0.5555555555555556,\"#d8576b\"],[0.6666666666666666,\"#ed7953\"],[0.7777777777777778,\"#fb9f3a\"],[0.8888888888888888,\"#fdca26\"],[1.0,\"#f0f921\"]],\"sequentialminus\":[[0.0,\"#0d0887\"],[0.1111111111111111,\"#46039f\"],[0.2222222222222222,\"#7201a8\"],[0.3333333333333333,\"#9c179e\"],[0.4444444444444444,\"#bd3786\"],[0.5555555555555556,\"#d8576b\"],[0.6666666666666666,\"#ed7953\"],[0.7777777777777778,\"#fb9f3a\"],[0.8888888888888888,\"#fdca26\"],[1.0,\"#f0f921\"]],\"diverging\":[[0,\"#8e0152\"],[0.1,\"#c51b7d\"],[0.2,\"#de77ae\"],[0.3,\"#f1b6da\"],[0.4,\"#fde0ef\"],[0.5,\"#f7f7f7\"],[0.6,\"#e6f5d0\"],[0.7,\"#b8e186\"],[0.8,\"#7fbc41\"],[0.9,\"#4d9221\"],[1,\"#276419\"]]},\"xaxis\":{\"gridcolor\":\"white\",\"linecolor\":\"white\",\"ticks\":\"\",\"title\":{\"standoff\":15},\"zerolinecolor\":\"white\",\"automargin\":true,\"zerolinewidth\":2},\"yaxis\":{\"gridcolor\":\"white\",\"linecolor\":\"white\",\"ticks\":\"\",\"title\":{\"standoff\":15},\"zerolinecolor\":\"white\",\"automargin\":true,\"zerolinewidth\":2},\"scene\":{\"xaxis\":{\"backgroundcolor\":\"#E5ECF6\",\"gridcolor\":\"white\",\"linecolor\":\"white\",\"showbackground\":true,\"ticks\":\"\",\"zerolinecolor\":\"white\",\"gridwidth\":2},\"yaxis\":{\"backgroundcolor\":\"#E5ECF6\",\"gridcolor\":\"white\",\"linecolor\":\"white\",\"showbackground\":true,\"ticks\":\"\",\"zerolinecolor\":\"white\",\"gridwidth\":2},\"zaxis\":{\"backgroundcolor\":\"#E5ECF6\",\"gridcolor\":\"white\",\"linecolor\":\"white\",\"showbackground\":true,\"ticks\":\"\",\"zerolinecolor\":\"white\",\"gridwidth\":2}},\"shapedefaults\":{\"line\":{\"color\":\"#2a3f5f\"}},\"annotationdefaults\":{\"arrowcolor\":\"#2a3f5f\",\"arrowhead\":0,\"arrowwidth\":1},\"geo\":{\"bgcolor\":\"white\",\"landcolor\":\"#E5ECF6\",\"subunitcolor\":\"white\",\"showland\":true,\"showlakes\":true,\"lakecolor\":\"white\"},\"title\":{\"x\":0.05},\"mapbox\":{\"style\":\"light\"}}},\"xaxis\":{\"anchor\":\"y\",\"domain\":[0.0,1.0],\"title\":{\"text\":\"Number_of_vehicles_involved\"}},\"yaxis\":{\"anchor\":\"x\",\"domain\":[0.0,1.0],\"title\":{\"text\":\"sum of Number_of_casualties\"}},\"legend\":{\"tracegroupgap\":0},\"margin\":{\"t\":60},\"barmode\":\"relative\"},                        {\"responsive\": true}                    ).then(function(){\n",
              "                            \n",
              "var gd = document.getElementById('0ff626f8-4c4d-416a-a284-db8a7d63b861');\n",
              "var x = new MutationObserver(function (mutations, observer) {{\n",
              "        var display = window.getComputedStyle(gd).display;\n",
              "        if (!display || display === 'none') {{\n",
              "            console.log([gd, 'removed!']);\n",
              "            Plotly.purge(gd);\n",
              "            observer.disconnect();\n",
              "        }}\n",
              "}});\n",
              "\n",
              "// Listen for the removal of the full notebook cells\n",
              "var notebookContainer = gd.closest('#notebook-container');\n",
              "if (notebookContainer) {{\n",
              "    x.observe(notebookContainer, {childList: true});\n",
              "}}\n",
              "\n",
              "// Listen for the clearing of the current output cell\n",
              "var outputEl = gd.closest('.output');\n",
              "if (outputEl) {{\n",
              "    x.observe(outputEl, {childList: true});\n",
              "}}\n",
              "\n",
              "                        })                };                            </script>        </div>\n",
              "</body>\n",
              "</html>"
            ]
          },
          "metadata": {}
        }
      ]
    },
    {
      "cell_type": "code",
      "source": [
        "agg_rta = rta_df.groupby(['Cause_of_accident', 'Accident_severity']).agg(\n",
        "    total_cause = ('Cause_of_accident', 'count'),\n",
        "    total_vehicles = ('Number_of_vehicles_involved', 'sum'),\n",
        "    total_casualties = ('Number_of_casualties', 'sum')\n",
        ")"
      ],
      "metadata": {
        "id": "shOoyC6Gwd45"
      },
      "id": "shOoyC6Gwd45",
      "execution_count": 155,
      "outputs": []
    },
    {
      "cell_type": "code",
      "source": [
        "sns.barplot(agg_rta, x='total_vehicles', y='Cause_of_accident')"
      ],
      "metadata": {
        "colab": {
          "base_uri": "https://localhost:8080/",
          "height": 467
        },
        "id": "J40q7dZgxh1Q",
        "outputId": "d6d34083-11c7-4ca6-a846-057a16e1a285"
      },
      "id": "J40q7dZgxh1Q",
      "execution_count": 163,
      "outputs": [
        {
          "output_type": "execute_result",
          "data": {
            "text/plain": [
              "<Axes: xlabel='total_vehicles', ylabel='Cause_of_accident'>"
            ]
          },
          "metadata": {},
          "execution_count": 163
        },
        {
          "output_type": "display_data",
          "data": {
            "text/plain": [
              "<Figure size 640x480 with 1 Axes>"
            ],
            "image/png": "[encoded data removed]"
          },
          "metadata": {}
        }
      ]
    },
    {
      "cell_type": "code",
      "source": [
        "px.scatter(agg_rta, x='total_vehicles', y='total_casualties')"
      ],
      "metadata": {
        "colab": {
          "base_uri": "https://localhost:8080/",
          "height": 542
        },
        "id": "MpROegB3yk1r",
        "outputId": "670e1237-6c50-4dfe-d9a6-fcb2d96259a7"
      },
      "id": "MpROegB3yk1r",
      "execution_count": 168,
      "outputs": [
        {
          "output_type": "display_data",
          "data": {
            "text/html": [
              "<html>\n",
              "<head><meta charset=\"utf-8\" /></head>\n",
              "<body>\n",
              "    <div>            <script src=\"https://cdnjs.cloudflare.com/ajax/libs/mathjax/2.7.5/MathJax.js?config=TeX-AMS-MML_SVG\"></script><script type=\"text/javascript\">if (window.MathJax && window.MathJax.Hub && window.MathJax.Hub.Config) {window.MathJax.Hub.Config({SVG: {font: \"STIX-Web\"}});}</script>                <script type=\"text/javascript\">window.PlotlyConfig = {MathJaxConfig: 'local'};</script>\n",
              "        <script charset=\"utf-8\" src=\"https://cdn.plot.ly/plotly-2.24.1.min.js\"></script>                <div id=\"5b9e5c0e-1c4a-4dc9-86c7-28ea23142b8d\" class=\"plotly-graph-div\" style=\"height:525px; width:100%;\"></div>            <script type=\"text/javascript\">                                    window.PLOTLYENV=window.PLOTLYENV || {};                                    if (document.getElementById(\"5b9e5c0e-1c4a-4dc9-86c7-28ea23142b8d\")) {                    Plotly.newPlot(                        \"5b9e5c0e-1c4a-4dc9-86c7-28ea23142b8d\",                        [{\"hovertemplate\":\"total_vehicles=%{x}\\u003cbr\\u003etotal_casualties=%{y}\\u003cextra\\u003e\\u003c\\u002fextra\\u003e\",\"legendgroup\":\"\",\"marker\":{\"color\":\"#636efa\",\"symbol\":\"circle\"},\"mode\":\"markers\",\"name\":\"\",\"orientation\":\"v\",\"showlegend\":false,\"x\":[18,320,2147,37,399,2577,1,48,232,36,314,1996,5,87,401,3,73,521,2,54,5,49,261,2,4,37,38,265,1520,31,480,3210,7,137,1041,18,204,1773,10,100,609,3,16,83,3,19,84,6,111,591,4,36,211,4,6,101,36],\"xaxis\":\"x\",\"y\":[30,274,1589,56,330,1878,4,38,165,50,256,1487,6,64,310,5,56,389,4,43,7,39,184,1,3,32,49,220,1117,25,399,2381,8,111,728,31,185,1330,10,76,475,5,9,66,2,15,66,6,85,446,4,29,137,3,6,79,29],\"yaxis\":\"y\",\"type\":\"scatter\"}],                        {\"template\":{\"data\":{\"histogram2dcontour\":[{\"type\":\"histogram2dcontour\",\"colorbar\":{\"outlinewidth\":0,\"ticks\":\"\"},\"colorscale\":[[0.0,\"#0d0887\"],[0.1111111111111111,\"#46039f\"],[0.2222222222222222,\"#7201a8\"],[0.3333333333333333,\"#9c179e\"],[0.4444444444444444,\"#bd3786\"],[0.5555555555555556,\"#d8576b\"],[0.6666666666666666,\"#ed7953\"],[0.7777777777777778,\"#fb9f3a\"],[0.8888888888888888,\"#fdca26\"],[1.0,\"#f0f921\"]]}],\"choropleth\":[{\"type\":\"choropleth\",\"colorbar\":{\"outlinewidth\":0,\"ticks\":\"\"}}],\"histogram2d\":[{\"type\":\"histogram2d\",\"colorbar\":{\"outlinewidth\":0,\"ticks\":\"\"},\"colorscale\":[[0.0,\"#0d0887\"],[0.1111111111111111,\"#46039f\"],[0.2222222222222222,\"#7201a8\"],[0.3333333333333333,\"#9c179e\"],[0.4444444444444444,\"#bd3786\"],[0.5555555555555556,\"#d8576b\"],[0.6666666666666666,\"#ed7953\"],[0.7777777777777778,\"#fb9f3a\"],[0.8888888888888888,\"#fdca26\"],[1.0,\"#f0f921\"]]}],\"heatmap\":[{\"type\":\"heatmap\",\"colorbar\":{\"outlinewidth\":0,\"ticks\":\"\"},\"colorscale\":[[0.0,\"#0d0887\"],[0.1111111111111111,\"#46039f\"],[0.2222222222222222,\"#7201a8\"],[0.3333333333333333,\"#9c179e\"],[0.4444444444444444,\"#bd3786\"],[0.5555555555555556,\"#d8576b\"],[0.6666666666666666,\"#ed7953\"],[0.7777777777777778,\"#fb9f3a\"],[0.8888888888888888,\"#fdca26\"],[1.0,\"#f0f921\"]]}],\"heatmapgl\":[{\"type\":\"heatmapgl\",\"colorbar\":{\"outlinewidth\":0,\"ticks\":\"\"},\"colorscale\":[[0.0,\"#0d0887\"],[0.1111111111111111,\"#46039f\"],[0.2222222222222222,\"#7201a8\"],[0.3333333333333333,\"#9c179e\"],[0.4444444444444444,\"#bd3786\"],[0.5555555555555556,\"#d8576b\"],[0.6666666666666666,\"#ed7953\"],[0.7777777777777778,\"#fb9f3a\"],[0.8888888888888888,\"#fdca26\"],[1.0,\"#f0f921\"]]}],\"contourcarpet\":[{\"type\":\"contourcarpet\",\"colorbar\":{\"outlinewidth\":0,\"ticks\":\"\"}}],\"contour\":[{\"type\":\"contour\",\"colorbar\":{\"outlinewidth\":0,\"ticks\":\"\"},\"colorscale\":[[0.0,\"#0d0887\"],[0.1111111111111111,\"#46039f\"],[0.2222222222222222,\"#7201a8\"],[0.3333333333333333,\"#9c179e\"],[0.4444444444444444,\"#bd3786\"],[0.5555555555555556,\"#d8576b\"],[0.6666666666666666,\"#ed7953\"],[0.7777777777777778,\"#fb9f3a\"],[0.8888888888888888,\"#fdca26\"],[1.0,\"#f0f921\"]]}],\"surface\":[{\"type\":\"surface\",\"colorbar\":{\"outlinewidth\":0,\"ticks\":\"\"},\"colorscale\":[[0.0,\"#0d0887\"],[0.1111111111111111,\"#46039f\"],[0.2222222222222222,\"#7201a8\"],[0.3333333333333333,\"#9c179e\"],[0.4444444444444444,\"#bd3786\"],[0.5555555555555556,\"#d8576b\"],[0.6666666666666666,\"#ed7953\"],[0.7777777777777778,\"#fb9f3a\"],[0.8888888888888888,\"#fdca26\"],[1.0,\"#f0f921\"]]}],\"mesh3d\":[{\"type\":\"mesh3d\",\"colorbar\":{\"outlinewidth\":0,\"ticks\":\"\"}}],\"scatter\":[{\"fillpattern\":{\"fillmode\":\"overlay\",\"size\":10,\"solidity\":0.2},\"type\":\"scatter\"}],\"parcoords\":[{\"type\":\"parcoords\",\"line\":{\"colorbar\":{\"outlinewidth\":0,\"ticks\":\"\"}}}],\"scatterpolargl\":[{\"type\":\"scatterpolargl\",\"marker\":{\"colorbar\":{\"outlinewidth\":0,\"ticks\":\"\"}}}],\"bar\":[{\"error_x\":{\"color\":\"#2a3f5f\"},\"error_y\":{\"color\":\"#2a3f5f\"},\"marker\":{\"line\":{\"color\":\"#E5ECF6\",\"width\":0.5},\"pattern\":{\"fillmode\":\"overlay\",\"size\":10,\"solidity\":0.2}},\"type\":\"bar\"}],\"scattergeo\":[{\"type\":\"scattergeo\",\"marker\":{\"colorbar\":{\"outlinewidth\":0,\"ticks\":\"\"}}}],\"scatterpolar\":[{\"type\":\"scatterpolar\",\"marker\":{\"colorbar\":{\"outlinewidth\":0,\"ticks\":\"\"}}}],\"histogram\":[{\"marker\":{\"pattern\":{\"fillmode\":\"overlay\",\"size\":10,\"solidity\":0.2}},\"type\":\"histogram\"}],\"scattergl\":[{\"type\":\"scattergl\",\"marker\":{\"colorbar\":{\"outlinewidth\":0,\"ticks\":\"\"}}}],\"scatter3d\":[{\"type\":\"scatter3d\",\"line\":{\"colorbar\":{\"outlinewidth\":0,\"ticks\":\"\"}},\"marker\":{\"colorbar\":{\"outlinewidth\":0,\"ticks\":\"\"}}}],\"scattermapbox\":[{\"type\":\"scattermapbox\",\"marker\":{\"colorbar\":{\"outlinewidth\":0,\"ticks\":\"\"}}}],\"scatterternary\":[{\"type\":\"scatterternary\",\"marker\":{\"colorbar\":{\"outlinewidth\":0,\"ticks\":\"\"}}}],\"scattercarpet\":[{\"type\":\"scattercarpet\",\"marker\":{\"colorbar\":{\"outlinewidth\":0,\"ticks\":\"\"}}}],\"carpet\":[{\"aaxis\":{\"endlinecolor\":\"#2a3f5f\",\"gridcolor\":\"white\",\"linecolor\":\"white\",\"minorgridcolor\":\"white\",\"startlinecolor\":\"#2a3f5f\"},\"baxis\":{\"endlinecolor\":\"#2a3f5f\",\"gridcolor\":\"white\",\"linecolor\":\"white\",\"minorgridcolor\":\"white\",\"startlinecolor\":\"#2a3f5f\"},\"type\":\"carpet\"}],\"table\":[{\"cells\":{\"fill\":{\"color\":\"#EBF0F8\"},\"line\":{\"color\":\"white\"}},\"header\":{\"fill\":{\"color\":\"#C8D4E3\"},\"line\":{\"color\":\"white\"}},\"type\":\"table\"}],\"barpolar\":[{\"marker\":{\"line\":{\"color\":\"#E5ECF6\",\"width\":0.5},\"pattern\":{\"fillmode\":\"overlay\",\"size\":10,\"solidity\":0.2}},\"type\":\"barpolar\"}],\"pie\":[{\"automargin\":true,\"type\":\"pie\"}]},\"layout\":{\"autotypenumbers\":\"strict\",\"colorway\":[\"#636efa\",\"#EF553B\",\"#00cc96\",\"#ab63fa\",\"#FFA15A\",\"#19d3f3\",\"#FF6692\",\"#B6E880\",\"#FF97FF\",\"#FECB52\"],\"font\":{\"color\":\"#2a3f5f\"},\"hovermode\":\"closest\",\"hoverlabel\":{\"align\":\"left\"},\"paper_bgcolor\":\"white\",\"plot_bgcolor\":\"#E5ECF6\",\"polar\":{\"bgcolor\":\"#E5ECF6\",\"angularaxis\":{\"gridcolor\":\"white\",\"linecolor\":\"white\",\"ticks\":\"\"},\"radialaxis\":{\"gridcolor\":\"white\",\"linecolor\":\"white\",\"ticks\":\"\"}},\"ternary\":{\"bgcolor\":\"#E5ECF6\",\"aaxis\":{\"gridcolor\":\"white\",\"linecolor\":\"white\",\"ticks\":\"\"},\"baxis\":{\"gridcolor\":\"white\",\"linecolor\":\"white\",\"ticks\":\"\"},\"caxis\":{\"gridcolor\":\"white\",\"linecolor\":\"white\",\"ticks\":\"\"}},\"coloraxis\":{\"colorbar\":{\"outlinewidth\":0,\"ticks\":\"\"}},\"colorscale\":{\"sequential\":[[0.0,\"#0d0887\"],[0.1111111111111111,\"#46039f\"],[0.2222222222222222,\"#7201a8\"],[0.3333333333333333,\"#9c179e\"],[0.4444444444444444,\"#bd3786\"],[0.5555555555555556,\"#d8576b\"],[0.6666666666666666,\"#ed7953\"],[0.7777777777777778,\"#fb9f3a\"],[0.8888888888888888,\"#fdca26\"],[1.0,\"#f0f921\"]],\"sequentialminus\":[[0.0,\"#0d0887\"],[0.1111111111111111,\"#46039f\"],[0.2222222222222222,\"#7201a8\"],[0.3333333333333333,\"#9c179e\"],[0.4444444444444444,\"#bd3786\"],[0.5555555555555556,\"#d8576b\"],[0.6666666666666666,\"#ed7953\"],[0.7777777777777778,\"#fb9f3a\"],[0.8888888888888888,\"#fdca26\"],[1.0,\"#f0f921\"]],\"diverging\":[[0,\"#8e0152\"],[0.1,\"#c51b7d\"],[0.2,\"#de77ae\"],[0.3,\"#f1b6da\"],[0.4,\"#fde0ef\"],[0.5,\"#f7f7f7\"],[0.6,\"#e6f5d0\"],[0.7,\"#b8e186\"],[0.8,\"#7fbc41\"],[0.9,\"#4d9221\"],[1,\"#276419\"]]},\"xaxis\":{\"gridcolor\":\"white\",\"linecolor\":\"white\",\"ticks\":\"\",\"title\":{\"standoff\":15},\"zerolinecolor\":\"white\",\"automargin\":true,\"zerolinewidth\":2},\"yaxis\":{\"gridcolor\":\"white\",\"linecolor\":\"white\",\"ticks\":\"\",\"title\":{\"standoff\":15},\"zerolinecolor\":\"white\",\"automargin\":true,\"zerolinewidth\":2},\"scene\":{\"xaxis\":{\"backgroundcolor\":\"#E5ECF6\",\"gridcolor\":\"white\",\"linecolor\":\"white\",\"showbackground\":true,\"ticks\":\"\",\"zerolinecolor\":\"white\",\"gridwidth\":2},\"yaxis\":{\"backgroundcolor\":\"#E5ECF6\",\"gridcolor\":\"white\",\"linecolor\":\"white\",\"showbackground\":true,\"ticks\":\"\",\"zerolinecolor\":\"white\",\"gridwidth\":2},\"zaxis\":{\"backgroundcolor\":\"#E5ECF6\",\"gridcolor\":\"white\",\"linecolor\":\"white\",\"showbackground\":true,\"ticks\":\"\",\"zerolinecolor\":\"white\",\"gridwidth\":2}},\"shapedefaults\":{\"line\":{\"color\":\"#2a3f5f\"}},\"annotationdefaults\":{\"arrowcolor\":\"#2a3f5f\",\"arrowhead\":0,\"arrowwidth\":1},\"geo\":{\"bgcolor\":\"white\",\"landcolor\":\"#E5ECF6\",\"subunitcolor\":\"white\",\"showland\":true,\"showlakes\":true,\"lakecolor\":\"white\"},\"title\":{\"x\":0.05},\"mapbox\":{\"style\":\"light\"}}},\"xaxis\":{\"anchor\":\"y\",\"domain\":[0.0,1.0],\"title\":{\"text\":\"total_vehicles\"}},\"yaxis\":{\"anchor\":\"x\",\"domain\":[0.0,1.0],\"title\":{\"text\":\"total_casualties\"}},\"legend\":{\"tracegroupgap\":0},\"margin\":{\"t\":60}},                        {\"responsive\": true}                    ).then(function(){\n",
              "                            \n",
              "var gd = document.getElementById('5b9e5c0e-1c4a-4dc9-86c7-28ea23142b8d');\n",
              "var x = new MutationObserver(function (mutations, observer) {{\n",
              "        var display = window.getComputedStyle(gd).display;\n",
              "        if (!display || display === 'none') {{\n",
              "            console.log([gd, 'removed!']);\n",
              "            Plotly.purge(gd);\n",
              "            observer.disconnect();\n",
              "        }}\n",
              "}});\n",
              "\n",
              "// Listen for the removal of the full notebook cells\n",
              "var notebookContainer = gd.closest('#notebook-container');\n",
              "if (notebookContainer) {{\n",
              "    x.observe(notebookContainer, {childList: true});\n",
              "}}\n",
              "\n",
              "// Listen for the clearing of the current output cell\n",
              "var outputEl = gd.closest('.output');\n",
              "if (outputEl) {{\n",
              "    x.observe(outputEl, {childList: true});\n",
              "}}\n",
              "\n",
              "                        })                };                            </script>        </div>\n",
              "</body>\n",
              "</html>"
            ]
          },
          "metadata": {}
        }
      ]
    },
    {
      "cell_type": "markdown",
      "id": "40ce1d71",
      "metadata": {
        "id": "40ce1d71"
      },
      "source": [
        "## Feature Selection\n",
        "- Choose features that you believe will most influence the outcome based on your analysis and the insights from your visualizations. Focus on those that appear most impactful to include in your modeling.\n",
        "\n",
        "## Train-Test Split\n",
        "* Divide the dataset into training and testing sets to evaluate the performance of your models."
      ]
    },
    {
      "cell_type": "code",
      "source": [
        "rta_df['Driving_experience'].value_counts()"
      ],
      "metadata": {
        "colab": {
          "base_uri": "https://localhost:8080/",
          "height": 335
        },
        "id": "Q4NAgBSe12EO",
        "outputId": "3406f4ee-8755-48cb-9ea9-bf85f8df9234"
      },
      "id": "Q4NAgBSe12EO",
      "execution_count": 201,
      "outputs": [
        {
          "output_type": "execute_result",
          "data": {
            "text/plain": [
              "Driving_experience\n",
              "5-10yr        2732\n",
              "2-5yr         2149\n",
              "Above 10yr    1818\n",
              "1-2yr         1436\n",
              "Below 1yr     1108\n",
              "unknown        665\n",
              "No Licence      95\n",
              "Name: count, dtype: int64"
            ],
            "text/html": [
              "<table border=\"1\" class=\"dataframe\">\n",
              "  <thead>\n",
              "    <tr style=\"text-align: right;\">\n",
              "      <th></th>\n",
              "      <th>count</th>\n",
              "    </tr>\n",
              "    <tr>\n",
              "      <th>Driving_experience</th>\n",
              "      <th></th>\n",
              "    </tr>\n",
              "  </thead>\n",
              "  <tbody>\n",
              "    <tr>\n",
              "      <th>5-10yr</th>\n",
              "      <td>2732</td>\n",
              "    </tr>\n",
              "    <tr>\n",
              "      <th>2-5yr</th>\n",
              "      <td>2149</td>\n",
              "    </tr>\n",
              "    <tr>\n",
              "      <th>Above 10yr</th>\n",
              "      <td>1818</td>\n",
              "    </tr>\n",
              "    <tr>\n",
              "      <th>1-2yr</th>\n",
              "      <td>1436</td>\n",
              "    </tr>\n",
              "    <tr>\n",
              "      <th>Below 1yr</th>\n",
              "      <td>1108</td>\n",
              "    </tr>\n",
              "    <tr>\n",
              "      <th>unknown</th>\n",
              "      <td>665</td>\n",
              "    </tr>\n",
              "    <tr>\n",
              "      <th>No Licence</th>\n",
              "      <td>95</td>\n",
              "    </tr>\n",
              "  </tbody>\n",
              "</table><br><label><b>dtype:</b> int64</label>"
            ]
          },
          "metadata": {},
          "execution_count": 201
        }
      ]
    },
    {
      "cell_type": "code",
      "execution_count": 170,
      "id": "f6570748",
      "metadata": {
        "id": "f6570748"
      },
      "outputs": [],
      "source": [
        "x = rta_df.drop('Accident_severity', axis=1)\n",
        "y = rta_df['Accident_severity']\n",
        "\n",
        "x_train, x_test, y_train, y_test = train_test_split(x, y, test_size=0.2, random_state=42)"
      ]
    },
    {
      "cell_type": "code",
      "source": [
        "num_cols = ['Number_of_vehicles_involved', 'Number_of_casualties']\n",
        "cat_cols = ['Age_band_of_driver', 'Driving_experience', 'Service_year_of_vehicle', 'Road_surface_type', 'Road_surface_conditions', 'Casualty_class', 'Age_band_of_casualty', 'Casualty_severity']\n",
        "age_driver_pos = ['Unknown', 'Under 18', '18-30', '31-50', 'Over 51']\n",
        "driv_exp_pos = ['unknown', 'No Licence', 'Below 1yr', '1-2yr', '2-5yr', '5-10yr', 'Above 10yr']\n",
        "service_year_pos = ['Unknown', 'Below 1yr', '1-2yr', '2-5yrs', '5-10yrs', 'Above 10yr']\n",
        "road_surface_pos = ['Asphalt roads', 'Earth roads', 'Gravel roads', 'Asphalt roads with some distress', 'Other']\n",
        "road_condition_pos = ['Dry', 'Wet or damp', 'Snow', 'Flood over 3cm. deep']\n",
        "cas_class_pos = ['na', 'Driver or rider', 'Passenger', 'Pedestrian']\n",
        "age_cas_pos = ['na', 'Under 18', '18-30', '31-50', 'Over 51']\n",
        "cas_sev_pos = ['na', '1', '2', '3']\n",
        "\n",
        "num_pipeline = Pipeline([\n",
        "    ('scaler', StandardScaler())\n",
        "])\n",
        "\n",
        "cat_pipeline = Pipeline([\n",
        "    ('ordinal', OrdinalEncoder(categories=[age_driver_pos, driv_exp_pos, service_year_pos, road_surface_pos, road_condition_pos, cas_class_pos, age_cas_pos, cas_sev_pos]))\n",
        "])\n"
      ],
      "metadata": {
        "id": "jrYIK8qU1HBL"
      },
      "id": "jrYIK8qU1HBL",
      "execution_count": 203,
      "outputs": []
    },
    {
      "cell_type": "code",
      "source": [
        "preprocessing_pipeline = ColumnTransformer([\n",
        "    ('num', num_pipeline, num_cols),\n",
        "    ('cat', cat_pipeline, cat_cols)\n",
        "])\n",
        "\n",
        "proc_x_train = preprocessing_pipeline.fit_transform(x_train)\n",
        "proc_x_test = preprocessing_pipeline.transform(x_test)"
      ],
      "metadata": {
        "id": "AedsKacP5dvt"
      },
      "id": "AedsKacP5dvt",
      "execution_count": 204,
      "outputs": []
    },
    {
      "cell_type": "markdown",
      "id": "e74a5058",
      "metadata": {
        "id": "e74a5058"
      },
      "source": [
        "## Modeling\n",
        "\n",
        "Once the data is split into training and testing sets, the next step is to build models to make predictions. Here, we will explore several machine learning algorithms, each with its unique characteristics and suitability for different types of data and problems. You will implement the following models:\n",
        "\n",
        "### 1. Logistic Regression\n",
        "\n",
        "### 2. Decision Tree Classifier\n",
        "\n",
        "### 3. Support Vector Machine (SVM)\n",
        "\n",
        "### 4. K-Neighbors Classifier\n",
        "\n",
        "### Implementing the Models\n",
        "- For each model, use the training data you have prepared to train the model."
      ]
    },
    {
      "cell_type": "markdown",
      "id": "1a6c9815",
      "metadata": {
        "id": "1a6c9815"
      },
      "source": [
        "#### Logistic Regression"
      ]
    },
    {
      "cell_type": "code",
      "execution_count": 206,
      "id": "d35137d1",
      "metadata": {
        "colab": {
          "base_uri": "https://localhost:8080/",
          "height": 248
        },
        "id": "d35137d1",
        "outputId": "24082efc-82c0-4ec2-862e-5808319a5aff"
      },
      "outputs": [
        {
          "output_type": "stream",
          "name": "stderr",
          "text": [
            "/usr/local/lib/python3.10/dist-packages/sklearn/linear_model/_logistic.py:460: ConvergenceWarning:\n",
            "\n",
            "lbfgs failed to converge (status=1):\n",
            "STOP: TOTAL NO. of ITERATIONS REACHED LIMIT.\n",
            "\n",
            "Increase the number of iterations (max_iter) or scale the data as shown in:\n",
            "    https://scikit-learn.org/stable/modules/preprocessing.html\n",
            "Please also refer to the documentation for alternative solver options:\n",
            "    https://scikit-learn.org/stable/modules/linear_model.html#logistic-regression\n",
            "\n"
          ]
        },
        {
          "output_type": "execute_result",
          "data": {
            "text/plain": [
              "LogisticRegression()"
            ],
            "text/html": [
              "<style>#sk-container-id-1 {color: black;}#sk-container-id-1 pre{padding: 0;}#sk-container-id-1 div.sk-toggleable {background-color: white;}#sk-container-id-1 label.sk-toggleable__label {cursor: pointer;display: block;width: 100%;margin-bottom: 0;padding: 0.3em;box-sizing: border-box;text-align: center;}#sk-container-id-1 label.sk-toggleable__label-arrow:before {content: \"▸\";float: left;margin-right: 0.25em;color: #696969;}#sk-container-id-1 label.sk-toggleable__label-arrow:hover:before {color: black;}#sk-container-id-1 div.sk-estimator:hover label.sk-toggleable__label-arrow:before {color: black;}#sk-container-id-1 div.sk-toggleable__content {max-height: 0;max-width: 0;overflow: hidden;text-align: left;background-color: #f0f8ff;}#sk-container-id-1 div.sk-toggleable__content pre {margin: 0.2em;color: black;border-radius: 0.25em;background-color: #f0f8ff;}#sk-container-id-1 input.sk-toggleable__control:checked~div.sk-toggleable__content {max-height: 200px;max-width: 100%;overflow: auto;}#sk-container-id-1 input.sk-toggleable__control:checked~label.sk-toggleable__label-arrow:before {content: \"▾\";}#sk-container-id-1 div.sk-estimator input.sk-toggleable__control:checked~label.sk-toggleable__label {background-color: #d4ebff;}#sk-container-id-1 div.sk-label input.sk-toggleable__control:checked~label.sk-toggleable__label {background-color: #d4ebff;}#sk-container-id-1 input.sk-hidden--visually {border: 0;clip: rect(1px 1px 1px 1px);clip: rect(1px, 1px, 1px, 1px);height: 1px;margin: -1px;overflow: hidden;padding: 0;position: absolute;width: 1px;}#sk-container-id-1 div.sk-estimator {font-family: monospace;background-color: #f0f8ff;border: 1px dotted black;border-radius: 0.25em;box-sizing: border-box;margin-bottom: 0.5em;}#sk-container-id-1 div.sk-estimator:hover {background-color: #d4ebff;}#sk-container-id-1 div.sk-parallel-item::after {content: \"\";width: 100%;border-bottom: 1px solid gray;flex-grow: 1;}#sk-container-id-1 div.sk-label:hover label.sk-toggleable__label {background-color: #d4ebff;}#sk-container-id-1 div.sk-serial::before {content: \"\";position: absolute;border-left: 1px solid gray;box-sizing: border-box;top: 0;bottom: 0;left: 50%;z-index: 0;}#sk-container-id-1 div.sk-serial {display: flex;flex-direction: column;align-items: center;background-color: white;padding-right: 0.2em;padding-left: 0.2em;position: relative;}#sk-container-id-1 div.sk-item {position: relative;z-index: 1;}#sk-container-id-1 div.sk-parallel {display: flex;align-items: stretch;justify-content: center;background-color: white;position: relative;}#sk-container-id-1 div.sk-item::before, #sk-container-id-1 div.sk-parallel-item::before {content: \"\";position: absolute;border-left: 1px solid gray;box-sizing: border-box;top: 0;bottom: 0;left: 50%;z-index: -1;}#sk-container-id-1 div.sk-parallel-item {display: flex;flex-direction: column;z-index: 1;position: relative;background-color: white;}#sk-container-id-1 div.sk-parallel-item:first-child::after {align-self: flex-end;width: 50%;}#sk-container-id-1 div.sk-parallel-item:last-child::after {align-self: flex-start;width: 50%;}#sk-container-id-1 div.sk-parallel-item:only-child::after {width: 0;}#sk-container-id-1 div.sk-dashed-wrapped {border: 1px dashed gray;margin: 0 0.4em 0.5em 0.4em;box-sizing: border-box;padding-bottom: 0.4em;background-color: white;}#sk-container-id-1 div.sk-label label {font-family: monospace;font-weight: bold;display: inline-block;line-height: 1.2em;}#sk-container-id-1 div.sk-label-container {text-align: center;}#sk-container-id-1 div.sk-container {/* jupyter's `normalize.less` sets `[hidden] { display: none; }` but bootstrap.min.css set `[hidden] { display: none !important; }` so we also need the `!important` here to be able to override the default hidden behavior on the sphinx rendered scikit-learn.org. See: https://github.com/scikit-learn/scikit-learn/issues/21755 */display: inline-block !important;position: relative;}#sk-container-id-1 div.sk-text-repr-fallback {display: none;}</style><div id=\"sk-container-id-1\" class=\"sk-top-container\"><div class=\"sk-text-repr-fallback\"><pre>LogisticRegression()</pre><b>In a Jupyter environment, please rerun this cell to show the HTML representation or trust the notebook. <br />On GitHub, the HTML representation is unable to render, please try loading this page with nbviewer.org.</b></div><div class=\"sk-container\" hidden><div class=\"sk-item\"><div class=\"sk-estimator sk-toggleable\"><input class=\"sk-toggleable__control sk-hidden--visually\" id=\"sk-estimator-id-1\" type=\"checkbox\" checked><label for=\"sk-estimator-id-1\" class=\"sk-toggleable__label sk-toggleable__label-arrow\">LogisticRegression</label><div class=\"sk-toggleable__content\"><pre>LogisticRegression()</pre></div></div></div></div></div>"
            ]
          },
          "metadata": {},
          "execution_count": 206
        }
      ],
      "source": [
        "log_regression = LogisticRegression()\n",
        "log_regression.fit(proc_x_train, y_train)"
      ]
    },
    {
      "cell_type": "markdown",
      "id": "0cfd5ecb",
      "metadata": {
        "id": "0cfd5ecb"
      },
      "source": [
        "#### Decision Tree Classifier"
      ]
    },
    {
      "cell_type": "code",
      "execution_count": 207,
      "id": "0ba4edd5",
      "metadata": {
        "colab": {
          "base_uri": "https://localhost:8080/",
          "height": 74
        },
        "id": "0ba4edd5",
        "outputId": "15eeb93a-6d14-4300-961d-25ae1460bab5"
      },
      "outputs": [
        {
          "output_type": "execute_result",
          "data": {
            "text/plain": [
              "DecisionTreeClassifier()"
            ],
            "text/html": [
              "<style>#sk-container-id-2 {color: black;}#sk-container-id-2 pre{padding: 0;}#sk-container-id-2 div.sk-toggleable {background-color: white;}#sk-container-id-2 label.sk-toggleable__label {cursor: pointer;display: block;width: 100%;margin-bottom: 0;padding: 0.3em;box-sizing: border-box;text-align: center;}#sk-container-id-2 label.sk-toggleable__label-arrow:before {content: \"▸\";float: left;margin-right: 0.25em;color: #696969;}#sk-container-id-2 label.sk-toggleable__label-arrow:hover:before {color: black;}#sk-container-id-2 div.sk-estimator:hover label.sk-toggleable__label-arrow:before {color: black;}#sk-container-id-2 div.sk-toggleable__content {max-height: 0;max-width: 0;overflow: hidden;text-align: left;background-color: #f0f8ff;}#sk-container-id-2 div.sk-toggleable__content pre {margin: 0.2em;color: black;border-radius: 0.25em;background-color: #f0f8ff;}#sk-container-id-2 input.sk-toggleable__control:checked~div.sk-toggleable__content {max-height: 200px;max-width: 100%;overflow: auto;}#sk-container-id-2 input.sk-toggleable__control:checked~label.sk-toggleable__label-arrow:before {content: \"▾\";}#sk-container-id-2 div.sk-estimator input.sk-toggleable__control:checked~label.sk-toggleable__label {background-color: #d4ebff;}#sk-container-id-2 div.sk-label input.sk-toggleable__control:checked~label.sk-toggleable__label {background-color: #d4ebff;}#sk-container-id-2 input.sk-hidden--visually {border: 0;clip: rect(1px 1px 1px 1px);clip: rect(1px, 1px, 1px, 1px);height: 1px;margin: -1px;overflow: hidden;padding: 0;position: absolute;width: 1px;}#sk-container-id-2 div.sk-estimator {font-family: monospace;background-color: #f0f8ff;border: 1px dotted black;border-radius: 0.25em;box-sizing: border-box;margin-bottom: 0.5em;}#sk-container-id-2 div.sk-estimator:hover {background-color: #d4ebff;}#sk-container-id-2 div.sk-parallel-item::after {content: \"\";width: 100%;border-bottom: 1px solid gray;flex-grow: 1;}#sk-container-id-2 div.sk-label:hover label.sk-toggleable__label {background-color: #d4ebff;}#sk-container-id-2 div.sk-serial::before {content: \"\";position: absolute;border-left: 1px solid gray;box-sizing: border-box;top: 0;bottom: 0;left: 50%;z-index: 0;}#sk-container-id-2 div.sk-serial {display: flex;flex-direction: column;align-items: center;background-color: white;padding-right: 0.2em;padding-left: 0.2em;position: relative;}#sk-container-id-2 div.sk-item {position: relative;z-index: 1;}#sk-container-id-2 div.sk-parallel {display: flex;align-items: stretch;justify-content: center;background-color: white;position: relative;}#sk-container-id-2 div.sk-item::before, #sk-container-id-2 div.sk-parallel-item::before {content: \"\";position: absolute;border-left: 1px solid gray;box-sizing: border-box;top: 0;bottom: 0;left: 50%;z-index: -1;}#sk-container-id-2 div.sk-parallel-item {display: flex;flex-direction: column;z-index: 1;position: relative;background-color: white;}#sk-container-id-2 div.sk-parallel-item:first-child::after {align-self: flex-end;width: 50%;}#sk-container-id-2 div.sk-parallel-item:last-child::after {align-self: flex-start;width: 50%;}#sk-container-id-2 div.sk-parallel-item:only-child::after {width: 0;}#sk-container-id-2 div.sk-dashed-wrapped {border: 1px dashed gray;margin: 0 0.4em 0.5em 0.4em;box-sizing: border-box;padding-bottom: 0.4em;background-color: white;}#sk-container-id-2 div.sk-label label {font-family: monospace;font-weight: bold;display: inline-block;line-height: 1.2em;}#sk-container-id-2 div.sk-label-container {text-align: center;}#sk-container-id-2 div.sk-container {/* jupyter's `normalize.less` sets `[hidden] { display: none; }` but bootstrap.min.css set `[hidden] { display: none !important; }` so we also need the `!important` here to be able to override the default hidden behavior on the sphinx rendered scikit-learn.org. See: https://github.com/scikit-learn/scikit-learn/issues/21755 */display: inline-block !important;position: relative;}#sk-container-id-2 div.sk-text-repr-fallback {display: none;}</style><div id=\"sk-container-id-2\" class=\"sk-top-container\"><div class=\"sk-text-repr-fallback\"><pre>DecisionTreeClassifier()</pre><b>In a Jupyter environment, please rerun this cell to show the HTML representation or trust the notebook. <br />On GitHub, the HTML representation is unable to render, please try loading this page with nbviewer.org.</b></div><div class=\"sk-container\" hidden><div class=\"sk-item\"><div class=\"sk-estimator sk-toggleable\"><input class=\"sk-toggleable__control sk-hidden--visually\" id=\"sk-estimator-id-2\" type=\"checkbox\" checked><label for=\"sk-estimator-id-2\" class=\"sk-toggleable__label sk-toggleable__label-arrow\">DecisionTreeClassifier</label><div class=\"sk-toggleable__content\"><pre>DecisionTreeClassifier()</pre></div></div></div></div></div>"
            ]
          },
          "metadata": {},
          "execution_count": 207
        }
      ],
      "source": [
        "dec_tree_clas = DecisionTreeClassifier()\n",
        "dec_tree_clas.fit(proc_x_train, y_train)"
      ]
    },
    {
      "cell_type": "markdown",
      "id": "7ce21487",
      "metadata": {
        "id": "7ce21487"
      },
      "source": [
        "#### Support Vector Machine (SVM)"
      ]
    },
    {
      "cell_type": "code",
      "execution_count": 208,
      "id": "6f448f26",
      "metadata": {
        "colab": {
          "base_uri": "https://localhost:8080/",
          "height": 74
        },
        "id": "6f448f26",
        "outputId": "540b288d-485a-444d-db95-0c399a1005d3"
      },
      "outputs": [
        {
          "output_type": "execute_result",
          "data": {
            "text/plain": [
              "SVC()"
            ],
            "text/html": [
              "<style>#sk-container-id-3 {color: black;}#sk-container-id-3 pre{padding: 0;}#sk-container-id-3 div.sk-toggleable {background-color: white;}#sk-container-id-3 label.sk-toggleable__label {cursor: pointer;display: block;width: 100%;margin-bottom: 0;padding: 0.3em;box-sizing: border-box;text-align: center;}#sk-container-id-3 label.sk-toggleable__label-arrow:before {content: \"▸\";float: left;margin-right: 0.25em;color: #696969;}#sk-container-id-3 label.sk-toggleable__label-arrow:hover:before {color: black;}#sk-container-id-3 div.sk-estimator:hover label.sk-toggleable__label-arrow:before {color: black;}#sk-container-id-3 div.sk-toggleable__content {max-height: 0;max-width: 0;overflow: hidden;text-align: left;background-color: #f0f8ff;}#sk-container-id-3 div.sk-toggleable__content pre {margin: 0.2em;color: black;border-radius: 0.25em;background-color: #f0f8ff;}#sk-container-id-3 input.sk-toggleable__control:checked~div.sk-toggleable__content {max-height: 200px;max-width: 100%;overflow: auto;}#sk-container-id-3 input.sk-toggleable__control:checked~label.sk-toggleable__label-arrow:before {content: \"▾\";}#sk-container-id-3 div.sk-estimator input.sk-toggleable__control:checked~label.sk-toggleable__label {background-color: #d4ebff;}#sk-container-id-3 div.sk-label input.sk-toggleable__control:checked~label.sk-toggleable__label {background-color: #d4ebff;}#sk-container-id-3 input.sk-hidden--visually {border: 0;clip: rect(1px 1px 1px 1px);clip: rect(1px, 1px, 1px, 1px);height: 1px;margin: -1px;overflow: hidden;padding: 0;position: absolute;width: 1px;}#sk-container-id-3 div.sk-estimator {font-family: monospace;background-color: #f0f8ff;border: 1px dotted black;border-radius: 0.25em;box-sizing: border-box;margin-bottom: 0.5em;}#sk-container-id-3 div.sk-estimator:hover {background-color: #d4ebff;}#sk-container-id-3 div.sk-parallel-item::after {content: \"\";width: 100%;border-bottom: 1px solid gray;flex-grow: 1;}#sk-container-id-3 div.sk-label:hover label.sk-toggleable__label {background-color: #d4ebff;}#sk-container-id-3 div.sk-serial::before {content: \"\";position: absolute;border-left: 1px solid gray;box-sizing: border-box;top: 0;bottom: 0;left: 50%;z-index: 0;}#sk-container-id-3 div.sk-serial {display: flex;flex-direction: column;align-items: center;background-color: white;padding-right: 0.2em;padding-left: 0.2em;position: relative;}#sk-container-id-3 div.sk-item {position: relative;z-index: 1;}#sk-container-id-3 div.sk-parallel {display: flex;align-items: stretch;justify-content: center;background-color: white;position: relative;}#sk-container-id-3 div.sk-item::before, #sk-container-id-3 div.sk-parallel-item::before {content: \"\";position: absolute;border-left: 1px solid gray;box-sizing: border-box;top: 0;bottom: 0;left: 50%;z-index: -1;}#sk-container-id-3 div.sk-parallel-item {display: flex;flex-direction: column;z-index: 1;position: relative;background-color: white;}#sk-container-id-3 div.sk-parallel-item:first-child::after {align-self: flex-end;width: 50%;}#sk-container-id-3 div.sk-parallel-item:last-child::after {align-self: flex-start;width: 50%;}#sk-container-id-3 div.sk-parallel-item:only-child::after {width: 0;}#sk-container-id-3 div.sk-dashed-wrapped {border: 1px dashed gray;margin: 0 0.4em 0.5em 0.4em;box-sizing: border-box;padding-bottom: 0.4em;background-color: white;}#sk-container-id-3 div.sk-label label {font-family: monospace;font-weight: bold;display: inline-block;line-height: 1.2em;}#sk-container-id-3 div.sk-label-container {text-align: center;}#sk-container-id-3 div.sk-container {/* jupyter's `normalize.less` sets `[hidden] { display: none; }` but bootstrap.min.css set `[hidden] { display: none !important; }` so we also need the `!important` here to be able to override the default hidden behavior on the sphinx rendered scikit-learn.org. See: https://github.com/scikit-learn/scikit-learn/issues/21755 */display: inline-block !important;position: relative;}#sk-container-id-3 div.sk-text-repr-fallback {display: none;}</style><div id=\"sk-container-id-3\" class=\"sk-top-container\"><div class=\"sk-text-repr-fallback\"><pre>SVC()</pre><b>In a Jupyter environment, please rerun this cell to show the HTML representation or trust the notebook. <br />On GitHub, the HTML representation is unable to render, please try loading this page with nbviewer.org.</b></div><div class=\"sk-container\" hidden><div class=\"sk-item\"><div class=\"sk-estimator sk-toggleable\"><input class=\"sk-toggleable__control sk-hidden--visually\" id=\"sk-estimator-id-3\" type=\"checkbox\" checked><label for=\"sk-estimator-id-3\" class=\"sk-toggleable__label sk-toggleable__label-arrow\">SVC</label><div class=\"sk-toggleable__content\"><pre>SVC()</pre></div></div></div></div></div>"
            ]
          },
          "metadata": {},
          "execution_count": 208
        }
      ],
      "source": [
        "svm = SVC()\n",
        "svm.fit(proc_x_train, y_train)"
      ]
    },
    {
      "cell_type": "markdown",
      "id": "f3656932",
      "metadata": {
        "id": "f3656932"
      },
      "source": [
        "#### K-Neighbors Classifier"
      ]
    },
    {
      "cell_type": "code",
      "execution_count": 209,
      "id": "c8c73d33",
      "metadata": {
        "colab": {
          "base_uri": "https://localhost:8080/",
          "height": 74
        },
        "id": "c8c73d33",
        "outputId": "1f6f1a10-e2b6-4290-f7bd-038abc5782d8"
      },
      "outputs": [
        {
          "output_type": "execute_result",
          "data": {
            "text/plain": [
              "KNeighborsClassifier()"
            ],
            "text/html": [
              "<style>#sk-container-id-4 {color: black;}#sk-container-id-4 pre{padding: 0;}#sk-container-id-4 div.sk-toggleable {background-color: white;}#sk-container-id-4 label.sk-toggleable__label {cursor: pointer;display: block;width: 100%;margin-bottom: 0;padding: 0.3em;box-sizing: border-box;text-align: center;}#sk-container-id-4 label.sk-toggleable__label-arrow:before {content: \"▸\";float: left;margin-right: 0.25em;color: #696969;}#sk-container-id-4 label.sk-toggleable__label-arrow:hover:before {color: black;}#sk-container-id-4 div.sk-estimator:hover label.sk-toggleable__label-arrow:before {color: black;}#sk-container-id-4 div.sk-toggleable__content {max-height: 0;max-width: 0;overflow: hidden;text-align: left;background-color: #f0f8ff;}#sk-container-id-4 div.sk-toggleable__content pre {margin: 0.2em;color: black;border-radius: 0.25em;background-color: #f0f8ff;}#sk-container-id-4 input.sk-toggleable__control:checked~div.sk-toggleable__content {max-height: 200px;max-width: 100%;overflow: auto;}#sk-container-id-4 input.sk-toggleable__control:checked~label.sk-toggleable__label-arrow:before {content: \"▾\";}#sk-container-id-4 div.sk-estimator input.sk-toggleable__control:checked~label.sk-toggleable__label {background-color: #d4ebff;}#sk-container-id-4 div.sk-label input.sk-toggleable__control:checked~label.sk-toggleable__label {background-color: #d4ebff;}#sk-container-id-4 input.sk-hidden--visually {border: 0;clip: rect(1px 1px 1px 1px);clip: rect(1px, 1px, 1px, 1px);height: 1px;margin: -1px;overflow: hidden;padding: 0;position: absolute;width: 1px;}#sk-container-id-4 div.sk-estimator {font-family: monospace;background-color: #f0f8ff;border: 1px dotted black;border-radius: 0.25em;box-sizing: border-box;margin-bottom: 0.5em;}#sk-container-id-4 div.sk-estimator:hover {background-color: #d4ebff;}#sk-container-id-4 div.sk-parallel-item::after {content: \"\";width: 100%;border-bottom: 1px solid gray;flex-grow: 1;}#sk-container-id-4 div.sk-label:hover label.sk-toggleable__label {background-color: #d4ebff;}#sk-container-id-4 div.sk-serial::before {content: \"\";position: absolute;border-left: 1px solid gray;box-sizing: border-box;top: 0;bottom: 0;left: 50%;z-index: 0;}#sk-container-id-4 div.sk-serial {display: flex;flex-direction: column;align-items: center;background-color: white;padding-right: 0.2em;padding-left: 0.2em;position: relative;}#sk-container-id-4 div.sk-item {position: relative;z-index: 1;}#sk-container-id-4 div.sk-parallel {display: flex;align-items: stretch;justify-content: center;background-color: white;position: relative;}#sk-container-id-4 div.sk-item::before, #sk-container-id-4 div.sk-parallel-item::before {content: \"\";position: absolute;border-left: 1px solid gray;box-sizing: border-box;top: 0;bottom: 0;left: 50%;z-index: -1;}#sk-container-id-4 div.sk-parallel-item {display: flex;flex-direction: column;z-index: 1;position: relative;background-color: white;}#sk-container-id-4 div.sk-parallel-item:first-child::after {align-self: flex-end;width: 50%;}#sk-container-id-4 div.sk-parallel-item:last-child::after {align-self: flex-start;width: 50%;}#sk-container-id-4 div.sk-parallel-item:only-child::after {width: 0;}#sk-container-id-4 div.sk-dashed-wrapped {border: 1px dashed gray;margin: 0 0.4em 0.5em 0.4em;box-sizing: border-box;padding-bottom: 0.4em;background-color: white;}#sk-container-id-4 div.sk-label label {font-family: monospace;font-weight: bold;display: inline-block;line-height: 1.2em;}#sk-container-id-4 div.sk-label-container {text-align: center;}#sk-container-id-4 div.sk-container {/* jupyter's `normalize.less` sets `[hidden] { display: none; }` but bootstrap.min.css set `[hidden] { display: none !important; }` so we also need the `!important` here to be able to override the default hidden behavior on the sphinx rendered scikit-learn.org. See: https://github.com/scikit-learn/scikit-learn/issues/21755 */display: inline-block !important;position: relative;}#sk-container-id-4 div.sk-text-repr-fallback {display: none;}</style><div id=\"sk-container-id-4\" class=\"sk-top-container\"><div class=\"sk-text-repr-fallback\"><pre>KNeighborsClassifier()</pre><b>In a Jupyter environment, please rerun this cell to show the HTML representation or trust the notebook. <br />On GitHub, the HTML representation is unable to render, please try loading this page with nbviewer.org.</b></div><div class=\"sk-container\" hidden><div class=\"sk-item\"><div class=\"sk-estimator sk-toggleable\"><input class=\"sk-toggleable__control sk-hidden--visually\" id=\"sk-estimator-id-4\" type=\"checkbox\" checked><label for=\"sk-estimator-id-4\" class=\"sk-toggleable__label sk-toggleable__label-arrow\">KNeighborsClassifier</label><div class=\"sk-toggleable__content\"><pre>KNeighborsClassifier()</pre></div></div></div></div></div>"
            ]
          },
          "metadata": {},
          "execution_count": 209
        }
      ],
      "source": [
        "k_neighbor = KNeighborsClassifier()\n",
        "k_neighbor.fit(proc_x_train, y_train)"
      ]
    },
    {
      "cell_type": "markdown",
      "id": "12057ba0",
      "metadata": {
        "id": "12057ba0"
      },
      "source": [
        "## Model Evaluation\n",
        "\n",
        "After training your models, it's crucial to evaluate their performance to understand their effectiveness and limitations. This section outlines various techniques and metrics to assess the performance of each model you have implemented.\n",
        "\n",
        "### Evaluation Techniques\n",
        "1. **Confusion Matrix**\n",
        "\n",
        "2. **Accuracy**\n",
        "\n",
        "3. **Precision and Recall**\n",
        "\n",
        "4. **F1 Score**\n",
        "\n",
        "5. **ROC Curve and AUC**\n",
        "\n",
        "### Implementing Evaluation\n",
        "- Calculate the metrics listed above using your test data."
      ]
    },
    {
      "cell_type": "code",
      "execution_count": 220,
      "id": "c8328067",
      "metadata": {
        "id": "c8328067"
      },
      "outputs": [],
      "source": [
        "# Confusion matrix\n",
        "y_log_pred = log_regression.predict(proc_x_test)\n",
        "y_dec_pred = dec_tree_clas.predict(proc_x_test)\n",
        "y_svm_pred = svm.predict(proc_x_test)\n",
        "y_knn_pred = k_neighbor.predict(proc_x_test)"
      ]
    },
    {
      "cell_type": "code",
      "source": [
        "log_cm = confusion_matrix(y_test, y_log_pred)\n",
        "log_cm"
      ],
      "metadata": {
        "colab": {
          "base_uri": "https://localhost:8080/"
        },
        "id": "AMGBHW9m9YHZ",
        "outputId": "c46a724b-b47a-42e9-e5e3-8c347a444432"
      },
      "id": "AMGBHW9m9YHZ",
      "execution_count": 219,
      "outputs": [
        {
          "output_type": "execute_result",
          "data": {
            "text/plain": [
              "array([[   0,    0,   23],\n",
              "       [   0,    0,  285],\n",
              "       [   0,    0, 1693]])"
            ]
          },
          "metadata": {},
          "execution_count": 219
        }
      ]
    },
    {
      "cell_type": "code",
      "source": [
        "\n",
        "dec_cm = confusion_matrix(y_test, y_dec_pred)\n",
        "dec_cm"
      ],
      "metadata": {
        "colab": {
          "base_uri": "https://localhost:8080/"
        },
        "id": "MLOAs63s9X8l",
        "outputId": "4cb7bfd0-6a89-4518-b783-a4f3b8039ee7"
      },
      "id": "MLOAs63s9X8l",
      "execution_count": 218,
      "outputs": [
        {
          "output_type": "execute_result",
          "data": {
            "text/plain": [
              "array([[   3,    3,   17],\n",
              "       [   5,   55,  225],\n",
              "       [  21,  236, 1436]])"
            ]
          },
          "metadata": {},
          "execution_count": 218
        }
      ]
    },
    {
      "cell_type": "code",
      "source": [
        "svm_cm = confusion_matrix(y_test, y_svm_pred)\n",
        "svm_cm"
      ],
      "metadata": {
        "colab": {
          "base_uri": "https://localhost:8080/"
        },
        "id": "10CAItRN9X21",
        "outputId": "4f724c88-bfe3-4a4d-e962-7c25b0cd3875"
      },
      "id": "10CAItRN9X21",
      "execution_count": 217,
      "outputs": [
        {
          "output_type": "execute_result",
          "data": {
            "text/plain": [
              "array([[   0,    0,   23],\n",
              "       [   0,    0,  285],\n",
              "       [   0,    0, 1693]])"
            ]
          },
          "metadata": {},
          "execution_count": 217
        }
      ]
    },
    {
      "cell_type": "code",
      "source": [
        "knn_cm = confusion_matrix(y_test, y_knn_pred)\n",
        "knn_cm"
      ],
      "metadata": {
        "colab": {
          "base_uri": "https://localhost:8080/"
        },
        "id": "-tzFKoSQ9Xt_",
        "outputId": "e72f4a0a-993b-46ff-9341-b5c4ea5a68dc"
      },
      "id": "-tzFKoSQ9Xt_",
      "execution_count": 216,
      "outputs": [
        {
          "output_type": "execute_result",
          "data": {
            "text/plain": [
              "array([[   1,    0,   22],\n",
              "       [   0,   23,  262],\n",
              "       [   2,   65, 1626]])"
            ]
          },
          "metadata": {},
          "execution_count": 216
        }
      ]
    },
    {
      "cell_type": "code",
      "source": [
        "# Accuracy\n",
        "accuracy_score(y_test, y_log_pred)"
      ],
      "metadata": {
        "colab": {
          "base_uri": "https://localhost:8080/"
        },
        "id": "uPki94IU9iq_",
        "outputId": "a1b0d807-e9a1-4455-f7b2-d57fd2837e5b"
      },
      "id": "uPki94IU9iq_",
      "execution_count": 221,
      "outputs": [
        {
          "output_type": "execute_result",
          "data": {
            "text/plain": [
              "0.8460769615192404"
            ]
          },
          "metadata": {},
          "execution_count": 221
        }
      ]
    },
    {
      "cell_type": "code",
      "source": [
        "accuracy_score(y_test, y_dec_pred)"
      ],
      "metadata": {
        "colab": {
          "base_uri": "https://localhost:8080/"
        },
        "id": "L92_0MYG92ey",
        "outputId": "ffdce7c5-e9dc-4bda-bbe3-f44ae719271e"
      },
      "id": "L92_0MYG92ey",
      "execution_count": 222,
      "outputs": [
        {
          "output_type": "execute_result",
          "data": {
            "text/plain": [
              "0.7466266866566716"
            ]
          },
          "metadata": {},
          "execution_count": 222
        }
      ]
    },
    {
      "cell_type": "code",
      "source": [
        "accuracy_score(y_test, y_svm_pred)"
      ],
      "metadata": {
        "colab": {
          "base_uri": "https://localhost:8080/"
        },
        "id": "O3n1z0-O94oL",
        "outputId": "4a34ce3b-d971-4cc9-ea3e-efea161af60c"
      },
      "id": "O3n1z0-O94oL",
      "execution_count": 223,
      "outputs": [
        {
          "output_type": "execute_result",
          "data": {
            "text/plain": [
              "0.8460769615192404"
            ]
          },
          "metadata": {},
          "execution_count": 223
        }
      ]
    },
    {
      "cell_type": "code",
      "source": [
        "accuracy_score(y_test, y_knn_pred)"
      ],
      "metadata": {
        "colab": {
          "base_uri": "https://localhost:8080/"
        },
        "id": "IuGUPcKt96M2",
        "outputId": "4bb5049a-470d-49b3-e08f-a0a56388d920"
      },
      "id": "IuGUPcKt96M2",
      "execution_count": 224,
      "outputs": [
        {
          "output_type": "execute_result",
          "data": {
            "text/plain": [
              "0.8245877061469266"
            ]
          },
          "metadata": {},
          "execution_count": 224
        }
      ]
    },
    {
      "cell_type": "code",
      "source": [
        "# Recall and precision for logistic\n",
        "precision_score(y_test, y_log_pred, average='weighted')"
      ],
      "metadata": {
        "colab": {
          "base_uri": "https://localhost:8080/"
        },
        "id": "BnKCEzGA-ALN",
        "outputId": "4015df70-507c-4ac4-c164-1c43fe80d85a"
      },
      "id": "BnKCEzGA-ALN",
      "execution_count": 253,
      "outputs": [
        {
          "output_type": "stream",
          "name": "stderr",
          "text": [
            "/usr/local/lib/python3.10/dist-packages/sklearn/metrics/_classification.py:1471: UndefinedMetricWarning:\n",
            "\n",
            "Precision is ill-defined and being set to 0.0 in labels with no predicted samples. Use `zero_division` parameter to control this behavior.\n",
            "\n"
          ]
        },
        {
          "output_type": "execute_result",
          "data": {
            "text/plain": [
              "0.7158462248136301"
            ]
          },
          "metadata": {},
          "execution_count": 253
        }
      ]
    },
    {
      "cell_type": "code",
      "source": [
        "recall_score(y_test, y_log_pred, average='weighted')"
      ],
      "metadata": {
        "colab": {
          "base_uri": "https://localhost:8080/"
        },
        "id": "weMOOaHK-eEk",
        "outputId": "d944ddcd-f9b7-4693-dc97-547c25b8045c"
      },
      "id": "weMOOaHK-eEk",
      "execution_count": 230,
      "outputs": [
        {
          "output_type": "execute_result",
          "data": {
            "text/plain": [
              "0.8460769615192404"
            ]
          },
          "metadata": {},
          "execution_count": 230
        }
      ]
    },
    {
      "cell_type": "code",
      "source": [
        "# Recall and precision for decision tree\n",
        "precision_score(y_test, y_dec_pred, average='weighted')"
      ],
      "metadata": {
        "colab": {
          "base_uri": "https://localhost:8080/"
        },
        "id": "jwaTtSiS-fcb",
        "outputId": "b58fcd62-3353-4f54-9912-7d7151c10d4d"
      },
      "id": "jwaTtSiS-fcb",
      "execution_count": 231,
      "outputs": [
        {
          "output_type": "execute_result",
          "data": {
            "text/plain": [
              "0.7518902285082095"
            ]
          },
          "metadata": {},
          "execution_count": 231
        }
      ]
    },
    {
      "cell_type": "code",
      "source": [
        "recall_score(y_test, y_dec_pred, average='weighted')"
      ],
      "metadata": {
        "colab": {
          "base_uri": "https://localhost:8080/"
        },
        "id": "PuzHyIh_-jK0",
        "outputId": "6ace0531-4430-4b94-c6be-d75b8a281254"
      },
      "id": "PuzHyIh_-jK0",
      "execution_count": 232,
      "outputs": [
        {
          "output_type": "execute_result",
          "data": {
            "text/plain": [
              "0.7466266866566716"
            ]
          },
          "metadata": {},
          "execution_count": 232
        }
      ]
    },
    {
      "cell_type": "code",
      "source": [
        "# Recall and precision for svm\n",
        "precision_score(y_test, y_svm_pred, average='weighted')"
      ],
      "metadata": {
        "colab": {
          "base_uri": "https://localhost:8080/"
        },
        "id": "Tgsm5z_F-lJl",
        "outputId": "f9d4d87d-3a51-4030-d202-a0eaa764f3fc"
      },
      "id": "Tgsm5z_F-lJl",
      "execution_count": 249,
      "outputs": [
        {
          "output_type": "stream",
          "name": "stderr",
          "text": [
            "/usr/local/lib/python3.10/dist-packages/sklearn/metrics/_classification.py:1471: UndefinedMetricWarning:\n",
            "\n",
            "Precision is ill-defined and being set to 0.0 in labels with no predicted samples. Use `zero_division` parameter to control this behavior.\n",
            "\n"
          ]
        },
        {
          "output_type": "execute_result",
          "data": {
            "text/plain": [
              "0.7158462248136301"
            ]
          },
          "metadata": {},
          "execution_count": 249
        }
      ]
    },
    {
      "cell_type": "code",
      "source": [
        "recall_score(y_test, y_svm_pred, average='weighted')"
      ],
      "metadata": {
        "colab": {
          "base_uri": "https://localhost:8080/"
        },
        "id": "9PoTJZJw-n_J",
        "outputId": "c2d7a44b-2927-4783-8ecf-ae45c272c5c1"
      },
      "id": "9PoTJZJw-n_J",
      "execution_count": 234,
      "outputs": [
        {
          "output_type": "execute_result",
          "data": {
            "text/plain": [
              "0.8460769615192404"
            ]
          },
          "metadata": {},
          "execution_count": 234
        }
      ]
    },
    {
      "cell_type": "code",
      "source": [
        "# Recall and precision for k-neighbor\n",
        "precision_score(y_test, y_knn_pred, average='weighted')"
      ],
      "metadata": {
        "colab": {
          "base_uri": "https://localhost:8080/"
        },
        "id": "Rp-TeZQE-qnx",
        "outputId": "6eada0de-0a84-4fc7-bd40-a1fb34e74a51"
      },
      "id": "Rp-TeZQE-qnx",
      "execution_count": 235,
      "outputs": [
        {
          "output_type": "execute_result",
          "data": {
            "text/plain": [
              "0.7613299708229339"
            ]
          },
          "metadata": {},
          "execution_count": 235
        }
      ]
    },
    {
      "cell_type": "code",
      "source": [
        "recall_score(y_test, y_knn_pred, average='weighted')"
      ],
      "metadata": {
        "colab": {
          "base_uri": "https://localhost:8080/"
        },
        "id": "W0xUwLhw-vUj",
        "outputId": "4270f1d6-cc7d-4a18-9438-ec8d54041df2"
      },
      "id": "W0xUwLhw-vUj",
      "execution_count": 236,
      "outputs": [
        {
          "output_type": "execute_result",
          "data": {
            "text/plain": [
              "0.8245877061469266"
            ]
          },
          "metadata": {},
          "execution_count": 236
        }
      ]
    },
    {
      "cell_type": "code",
      "source": [
        "# F1 score for logistic\n",
        "f1_score(y_test, y_log_pred, average='weighted')"
      ],
      "metadata": {
        "colab": {
          "base_uri": "https://localhost:8080/"
        },
        "id": "i2LJrZ0C-zx-",
        "outputId": "5e44daf3-cb11-4ca1-d414-43c9b3cada97"
      },
      "id": "i2LJrZ0C-zx-",
      "execution_count": 237,
      "outputs": [
        {
          "output_type": "execute_result",
          "data": {
            "text/plain": [
              "0.7755323745815236"
            ]
          },
          "metadata": {},
          "execution_count": 237
        }
      ]
    },
    {
      "cell_type": "code",
      "source": [
        "# F1 score for decision\n",
        "f1_score(y_test, y_dec_pred, average='weighted')"
      ],
      "metadata": {
        "colab": {
          "base_uri": "https://localhost:8080/"
        },
        "id": "fC9XDpiS-15F",
        "outputId": "12ed62cc-25e0-4062-eef8-4f428a6ddad7"
      },
      "id": "fC9XDpiS-15F",
      "execution_count": 238,
      "outputs": [
        {
          "output_type": "execute_result",
          "data": {
            "text/plain": [
              "0.7492197497186491"
            ]
          },
          "metadata": {},
          "execution_count": 238
        }
      ]
    },
    {
      "cell_type": "code",
      "source": [
        "# F1 score for svm\n",
        "f1_score(y_test, y_svm_pred, average='weighted')"
      ],
      "metadata": {
        "colab": {
          "base_uri": "https://localhost:8080/"
        },
        "id": "kLDvOLwH-3pK",
        "outputId": "bb164f99-8c87-4f9d-8867-14e330d5b01e"
      },
      "id": "kLDvOLwH-3pK",
      "execution_count": 239,
      "outputs": [
        {
          "output_type": "execute_result",
          "data": {
            "text/plain": [
              "0.7755323745815236"
            ]
          },
          "metadata": {},
          "execution_count": 239
        }
      ]
    },
    {
      "cell_type": "code",
      "source": [
        "# F1 score for k-neighbor\n",
        "f1_score(y_test, y_knn_pred, average='weighted')"
      ],
      "metadata": {
        "colab": {
          "base_uri": "https://localhost:8080/"
        },
        "id": "D3TA1Cdu-5W0",
        "outputId": "6ac2d2c6-e07d-4215-da74-483701700bf9"
      },
      "id": "D3TA1Cdu-5W0",
      "execution_count": 240,
      "outputs": [
        {
          "output_type": "execute_result",
          "data": {
            "text/plain": [
              "0.7821022616529625"
            ]
          },
          "metadata": {},
          "execution_count": 240
        }
      ]
    },
    {
      "cell_type": "code",
      "source": [
        "# AUC and ROC curve, please note that the code recieves an error, the error reveals that multiclass formats within my y_score and y_test are not supported\n",
        "\n",
        "y_log_scores = log_regression.decision_function(proc_x_test)\n",
        "fpr, tpr, thresholds = roc_curve(y_test, y_log_scores)\n",
        "auc(fpr, tpr)\n",
        "\n",
        "y_dec_scores = log_regression.decision_function(proc_x_test)\n",
        "fpr, tpr, thresholds = roc_curve(y_test, y_log_scores)\n",
        "auc(fpr, tpr)\n",
        "\n",
        "y_svm_scores = log_regression.decision_function(proc_x_test)\n",
        "fpr, tpr, thresholds = roc_curve(y_test, y_log_scores)\n",
        "auc(fpr, tpr)\n",
        "\n",
        "y_kn_scores = log_regression.decision_function(proc_x_test)\n",
        "fpr, tpr, thresholds = roc_curve(y_test, y_log_scores)\n",
        "auc(fpr, tpr)\n"
      ],
      "metadata": {
        "id": "ELSO1k0h_NY3"
      },
      "id": "ELSO1k0h_NY3",
      "execution_count": null,
      "outputs": []
    },
    {
      "cell_type": "markdown",
      "id": "65f17c12",
      "metadata": {
        "id": "65f17c12"
      },
      "source": [
        "## Project Questions:\n",
        "\n",
        "### Comparative Analysis\n",
        "\n",
        "- **Compare Metrics**: Examine the performance metrics (such as accuracy, precision, and recall) of each model. Document your observations on which model performs best for your dataset and the problem you're addressing.\n",
        "- **Evaluate Trade-offs**: Discuss the trade-offs you encountered when choosing between models. Consider factors like computational efficiency, ease of implementation, and model interpretability.\n",
        "- **Justify Your Choice**: After comparing and evaluating, explain why you believe one model is the best choice. Provide a clear rationale based on the performance metrics and trade-offs discussed.\n",
        "- **Feature Importance**: Identify and discuss the most important features for the best-performing model. How do these features impact the predictions? Use the visualizations you have created to justify your answer if necessary.\n",
        "- **Model Limitations**: Discuss any limitations you encountered with the models you used. Are there any aspects of the data or the problem that these models do not handle well?\n",
        "- **Future Improvements**: Suggest potential improvements or further steps you could take to enhance model performance. This could include trying different algorithms, feature engineering techniques, or tuning hyperparameters."
      ]
    },
    {
      "cell_type": "markdown",
      "id": "76425529",
      "metadata": {
        "id": "76425529"
      },
      "source": [
        "### Answer Here:"
      ]
    },
    {
      "cell_type": "code",
      "source": [
        "# Best Accuracy across the models\n",
        "# The best accuracy models was the SVM (Support vector machine) and logistics regression\n",
        "\n",
        "# Reasoning\n",
        "# I believe the k-neighbor is the best model overall since it had the best f1 score which calculated the mean between the precision and recall since it is the simplest method of grouping data together\n",
        "\n",
        "# Feature importance\n",
        "# I believe that the most important features were by far the casualty_severity, number_of_vehicles_involved, and vehicle_year_of_service, mainly because they relate the most to the label i am trying to predict\n",
        "\n",
        "# Model Limitations\n",
        "# The main limitation of the model was the oversampling, the amount of labels that were labelled 'slightly injured' were higher then the other both labels present\n",
        "\n",
        "# Future improvements\n",
        "# For future improvements in terms of further steps I could have taken, it would be handelling the data and addressing the oversampling issue before running out of time"
      ],
      "metadata": {
        "id": "0FDKwTJTGnQl"
      },
      "id": "0FDKwTJTGnQl",
      "execution_count": null,
      "outputs": []
    }
  ],
  "metadata": {
    "language_info": {
      "name": "python"
    },
    "colab": {
      "provenance": [],
      "toc_visible": true
    },
    "kernelspec": {
      "name": "python3",
      "display_name": "Python 3"
    }
  },
  "nbformat": 4,
  "nbformat_minor": 5
}